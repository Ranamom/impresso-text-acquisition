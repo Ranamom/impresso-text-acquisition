{
 "cells": [
  {
   "cell_type": "code",
   "execution_count": 47,
   "metadata": {},
   "outputs": [],
   "source": [
    "import os\n",
    "import pickle\n",
    "import pdb\n",
    "import logging\n",
    "from boto.s3.connection import Key, Bucket\n",
    "\n",
    "from impresso_commons.path import KNOWN_JOURNALS\n",
    "from impresso_commons.path import detect_canonical_issues\n",
    "from impresso_commons.path import s3_detect_issues, pair_issue\n",
    "from impresso_commons.utils.s3 import get_s3_connection\n",
    "\n",
    "import dask\n",
    "from dask import compute, delayed\n",
    "from dask.diagnostics import ProgressBar\n",
    "from dask.multiprocessing import get as mp_get"
   ]
  },
  {
   "cell_type": "code",
   "execution_count": 2,
   "metadata": {},
   "outputs": [],
   "source": [
    "logger = logging.getLogger(__name__)"
   ]
  },
  {
   "cell_type": "code",
   "execution_count": 3,
   "metadata": {},
   "outputs": [],
   "source": [
    "input_dir = \"/scratch/matteo/impresso-canonical/\""
   ]
  },
  {
   "cell_type": "code",
   "execution_count": 4,
   "metadata": {},
   "outputs": [],
   "source": [
    "local_issues = detect_canonical_issues(\n",
    "    input_dir,\n",
    "    KNOWN_JOURNALS\n",
    ")"
   ]
  },
  {
   "cell_type": "code",
   "execution_count": 5,
   "metadata": {},
   "outputs": [
    {
     "data": {
      "text/plain": [
       "20927"
      ]
     },
     "execution_count": 5,
     "metadata": {},
     "output_type": "execute_result"
    }
   ],
   "source": [
    "len(local_issues)"
   ]
  },
  {
   "cell_type": "code",
   "execution_count": 6,
   "metadata": {},
   "outputs": [],
   "source": [
    "conn = get_s3_connection()"
   ]
  },
  {
   "cell_type": "code",
   "execution_count": 7,
   "metadata": {},
   "outputs": [],
   "source": [
    "bucket = [\n",
    "    bucket\n",
    "    for bucket in conn.get_all_buckets()\n",
    "    if bucket.name == \"canonical-json\"\n",
    "][0]"
   ]
  },
  {
   "cell_type": "code",
   "execution_count": 8,
   "metadata": {},
   "outputs": [
    {
     "data": {
      "text/plain": [
       "<Bucket: canonical-json>"
      ]
     },
     "execution_count": 8,
     "metadata": {},
     "output_type": "execute_result"
    }
   ],
   "source": [
    "bucket"
   ]
  },
  {
   "cell_type": "code",
   "execution_count": 22,
   "metadata": {},
   "outputs": [
    {
     "name": "stdout",
     "output_type": "stream",
     "text": [
      "CPU times: user 149 ms, sys: 89.4 ms, total: 238 ms\n",
      "Wall time: 5.32 s\n"
     ]
    }
   ],
   "source": [
    "%%time\n",
    "remote_issues = s3_detect_issues(bucket, prefix=\"IMP/1901\")"
   ]
  },
  {
   "cell_type": "code",
   "execution_count": 9,
   "metadata": {},
   "outputs": [
    {
     "data": {
      "text/plain": [
       "[IssueDirectory(journal='GDL', date=datetime.date(1900, 1, 2), edition='a', path='text_importer/data/out/GDL/1900/01/02/a'),\n",
       " IssueDirectory(journal='GDL', date=datetime.date(1900, 1, 3), edition='a', path='text_importer/data/out/GDL/1900/01/03/a'),\n",
       " IssueDirectory(journal='GDL', date=datetime.date(1900, 1, 4), edition='a', path='text_importer/data/out/GDL/1900/01/04/a'),\n",
       " IssueDirectory(journal='GDL', date=datetime.date(1900, 1, 5), edition='a', path='text_importer/data/out/GDL/1900/01/05/a'),\n",
       " IssueDirectory(journal='IMP', date=datetime.date(1901, 9, 3), edition='a', path='text_importer/data/out/IMP/1901/09/03/a')]"
      ]
     },
     "execution_count": 9,
     "metadata": {},
     "output_type": "execute_result"
    }
   ],
   "source": [
    "local_issues"
   ]
  },
  {
   "cell_type": "code",
   "execution_count": 28,
   "metadata": {},
   "outputs": [],
   "source": [
    "def s3_upload_issue(local_issue, ouput_bucket, overwrite=False):\n",
    "    \"\"\"Upload a canonical newspaper issue to an S3 bucket.\n",
    "    \n",
    "    :param local_issue: the issue to upload\n",
    "    :type local_issue: an instance of `IssueDir`\n",
    "    :param output_bucket: the target bucket\n",
    "    :type output_bucket: `boto.s3.connection.Bucket`\n",
    "    :return: a list of tuples `t` where `t[0]` contains the issue,\n",
    "        and `t[1]` is a boolean indicating whether the upload was\n",
    "        successful or not.\n",
    "    \"\"\"\n",
    "    my_dir = local_issue.path\n",
    "    files = [os.path.join(my_dir, f) for f in os.listdir(my_dir)]\n",
    "    try:\n",
    "        for f in files:\n",
    "            k = Key(bucket)\n",
    "            # remove the input_dir when setting the key's name\n",
    "            k.key = f.replace(input_dir, \"\")\n",
    "            \n",
    "            if not overwrite and k.exists() is True:\n",
    "                pass\n",
    "            else:\n",
    "                # copy the content of the file into the key\n",
    "                k.set_contents_from_filename(f)\n",
    "                logger.info(f'Uploaded {f} to s3://{bucket.name}/{k.key}')\n",
    "            \n",
    "            k.close()\n",
    "        return (local_issue, True)\n",
    "    except Exception as e:\n",
    "        logger.error(f'Failed uploading {local_issue} with error = {f}')\n",
    "        return (local_issue, False)\n",
    "    "
   ]
  },
  {
   "cell_type": "code",
   "execution_count": 10,
   "metadata": {},
   "outputs": [],
   "source": [
    "logger.setLevel(logging.INFO)\n",
    "handler = logging.FileHandler(filename=\"/home/romanell/s3_upload.log\", mode='w')\n",
    "logger.addHandler(handler)"
   ]
  },
  {
   "cell_type": "code",
   "execution_count": 23,
   "metadata": {},
   "outputs": [],
   "source": [
    "tasks = [\n",
    "        delayed(s3_upload_issue)(l, bucket, overwrite=False)\n",
    "        for l in local_issues[:100]\n",
    "        # for l in local_issues\n",
    "    ]"
   ]
  },
  {
   "cell_type": "code",
   "execution_count": 24,
   "metadata": {},
   "outputs": [
    {
     "name": "stdout",
     "output_type": "stream",
     "text": [
      "[########################################] | 100% Completed |  2min 23.1s\n"
     ]
    }
   ],
   "source": [
    "with ProgressBar():\n",
    "    result = compute(*tasks, get=mp_get)"
   ]
  },
  {
   "cell_type": "code",
   "execution_count": 25,
   "metadata": {},
   "outputs": [
    {
     "data": {
      "text/plain": [
       "((IssueDirectory(journal='IMP', date=datetime.date(1965, 10, 16), edition='a', path='/scratch/matteo/impresso-canonical/IMP/1965/10/16/a'),\n",
       "  True),\n",
       " (IssueDirectory(journal='IMP', date=datetime.date(1965, 10, 1), edition='a', path='/scratch/matteo/impresso-canonical/IMP/1965/10/01/a'),\n",
       "  True),\n",
       " (IssueDirectory(journal='IMP', date=datetime.date(1965, 10, 7), edition='a', path='/scratch/matteo/impresso-canonical/IMP/1965/10/07/a'),\n",
       "  True),\n",
       " (IssueDirectory(journal='IMP', date=datetime.date(1965, 10, 27), edition='a', path='/scratch/matteo/impresso-canonical/IMP/1965/10/27/a'),\n",
       "  True),\n",
       " (IssueDirectory(journal='IMP', date=datetime.date(1965, 10, 20), edition='a', path='/scratch/matteo/impresso-canonical/IMP/1965/10/20/a'),\n",
       "  True),\n",
       " (IssueDirectory(journal='IMP', date=datetime.date(1965, 10, 19), edition='a', path='/scratch/matteo/impresso-canonical/IMP/1965/10/19/a'),\n",
       "  True),\n",
       " (IssueDirectory(journal='IMP', date=datetime.date(1965, 10, 26), edition='a', path='/scratch/matteo/impresso-canonical/IMP/1965/10/26/a'),\n",
       "  True),\n",
       " (IssueDirectory(journal='IMP', date=datetime.date(1965, 10, 4), edition='a', path='/scratch/matteo/impresso-canonical/IMP/1965/10/04/a'),\n",
       "  True),\n",
       " (IssueDirectory(journal='IMP', date=datetime.date(1965, 10, 14), edition='a', path='/scratch/matteo/impresso-canonical/IMP/1965/10/14/a'),\n",
       "  True),\n",
       " (IssueDirectory(journal='IMP', date=datetime.date(1965, 10, 5), edition='a', path='/scratch/matteo/impresso-canonical/IMP/1965/10/05/a'),\n",
       "  True))"
      ]
     },
     "execution_count": 25,
     "metadata": {},
     "output_type": "execute_result"
    }
   ],
   "source": [
    "result[:10]"
   ]
  },
  {
   "cell_type": "code",
   "execution_count": 26,
   "metadata": {},
   "outputs": [],
   "source": [
    "errors = [\n",
    "    issue\n",
    "    for issue, success in result\n",
    "    if not issue\n",
    "]"
   ]
  },
  {
   "cell_type": "code",
   "execution_count": 44,
   "metadata": {},
   "outputs": [],
   "source": [
    "try:\n",
    "    assert len(errors) == 0\n",
    "except Exception:\n",
    "    with open('failed_s3_uploads.pkl', 'wb') as pickle_file:\n",
    "        pickle.dump(\n",
    "            [i.path for i, s in errors],\n",
    "            pickle_file\n",
    "        )"
   ]
  }
 ],
 "metadata": {
  "kernelspec": {
   "display_name": "Python 3",
   "language": "python",
   "name": "python3"
  },
  "language_info": {
   "codemirror_mode": {
    "name": "ipython",
    "version": 3
   },
   "file_extension": ".py",
   "mimetype": "text/x-python",
   "name": "python",
   "nbconvert_exporter": "python",
   "pygments_lexer": "ipython3",
   "version": "3.6.0"
  },
  "toc": {
   "colors": {
    "hover_highlight": "#DAA520",
    "navigate_num": "#000000",
    "navigate_text": "#333333",
    "running_highlight": "#FF0000",
    "selected_highlight": "#FFD700",
    "sidebar_border": "#EEEEEE",
    "wrapper_background": "#FFFFFF"
   },
   "moveMenuLeft": true,
   "nav_menu": {
    "height": "12px",
    "width": "252px"
   },
   "navigate_menu": true,
   "number_sections": true,
   "sideBar": true,
   "threshold": 4,
   "toc_cell": false,
   "toc_section_display": "block",
   "toc_window_display": false,
   "widenNotebook": false
  }
 },
 "nbformat": 4,
 "nbformat_minor": 2
}
