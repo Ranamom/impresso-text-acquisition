{
 "cells": [
  {
   "cell_type": "code",
   "execution_count": 1,
   "metadata": {},
   "outputs": [],
   "source": [
    "%load_ext autoreload\n",
    "%autoreload 2"
   ]
  },
  {
   "cell_type": "code",
   "execution_count": 2,
   "metadata": {},
   "outputs": [],
   "source": [
    "from dask import bag as db\n",
    "from dask.distributed import Client, progress"
   ]
  },
  {
   "cell_type": "code",
   "execution_count": 15,
   "metadata": {},
   "outputs": [],
   "source": [
    "from text_importer.importers.lux import import_issues as lux_import_issues\n",
    "from text_importer.importers.lux import detect_issues as lux_detect_issues\n",
    "from text_importer.importers.lux import mets2issue\n",
    "from impresso_commons.path.path_fs import IssueDir"
   ]
  },
  {
   "cell_type": "code",
   "execution_count": 16,
   "metadata": {},
   "outputs": [],
   "source": [
    "IssueDir?"
   ]
  },
  {
   "cell_type": "code",
   "execution_count": 4,
   "metadata": {},
   "outputs": [],
   "source": [
    "client = Client(\"iccluster036.iccluster.epfl.ch:8786\")"
   ]
  },
  {
   "cell_type": "code",
   "execution_count": 5,
   "metadata": {},
   "outputs": [
    {
     "data": {
      "text/html": [
       "<table style=\"border: 2px solid white;\">\n",
       "<tr>\n",
       "<td style=\"vertical-align: top; border: 0px solid white\">\n",
       "<h3>Client</h3>\n",
       "<ul>\n",
       "  <li><b>Scheduler: </b>tcp://iccluster036.iccluster.epfl.ch:8786\n",
       "  <li><b>Dashboard: </b><a href='http://iccluster036.iccluster.epfl.ch:8787/status' target='_blank'>http://iccluster036.iccluster.epfl.ch:8787/status</a>\n",
       "</ul>\n",
       "</td>\n",
       "<td style=\"vertical-align: top; border: 0px solid white\">\n",
       "<h3>Cluster</h3>\n",
       "<ul>\n",
       "  <li><b>Workers: </b>48</li>\n",
       "  <li><b>Cores: </b>48</li>\n",
       "  <li><b>Memory: </b>480.00 GB</li>\n",
       "</ul>\n",
       "</td>\n",
       "</tr>\n",
       "</table>"
      ],
      "text/plain": [
       "<Client: scheduler='tcp://10.90.38.12:8786' processes=48 cores=48>"
      ]
     },
     "execution_count": 5,
     "metadata": {},
     "output_type": "execute_result"
    }
   ],
   "source": [
    "client"
   ]
  },
  {
   "cell_type": "code",
   "execution_count": 6,
   "metadata": {},
   "outputs": [],
   "source": [
    "input_dir = \"/mnt/project_impresso/original/BNL/\"\n",
    "output_dir = \"/scratch/matteo/impresso-canonical/BNL/\""
   ]
  },
  {
   "cell_type": "code",
   "execution_count": 7,
   "metadata": {},
   "outputs": [],
   "source": [
    "issue_bag = db.from_sequence(lux_detect_issues(input_dir))"
   ]
  },
  {
   "cell_type": "code",
   "execution_count": 8,
   "metadata": {},
   "outputs": [
    {
     "data": {
      "text/plain": [
       "97326"
      ]
     },
     "execution_count": 8,
     "metadata": {},
     "output_type": "execute_result"
    }
   ],
   "source": [
    "issue_bag.count().compute()"
   ]
  },
  {
   "cell_type": "code",
   "execution_count": 17,
   "metadata": {},
   "outputs": [],
   "source": [
    "issues = list(issue_bag)"
   ]
  },
  {
   "cell_type": "code",
   "execution_count": 9,
   "metadata": {},
   "outputs": [],
   "source": [
    "imported_issues = issue_bag.map(mets2issue).compute()"
   ]
  },
  {
   "cell_type": "code",
   "execution_count": 10,
   "metadata": {},
   "outputs": [
    {
     "data": {
      "text/plain": [
       "97326"
      ]
     },
     "execution_count": 10,
     "metadata": {},
     "output_type": "execute_result"
    }
   ],
   "source": [
    "len(imported_issues)"
   ]
  },
  {
   "cell_type": "code",
   "execution_count": 27,
   "metadata": {},
   "outputs": [],
   "source": [
    "newspapers = {}"
   ]
  },
  {
   "cell_type": "code",
   "execution_count": 28,
   "metadata": {},
   "outputs": [],
   "source": [
    "for issue, imported_issue in zip(issues, imported_issues):\n",
    "    \n",
    "    np = issue.journal\n",
    "    \n",
    "    if np not in newspapers:\n",
    "        newspapers[np] = {\n",
    "            \"title\": imported_issue['t'],\n",
    "            \"year\": [],\n",
    "            \"id\": issue.journal\n",
    "        }\n",
    "        \n",
    "    newspapers[np]['year'].append(issue.date.year)\n",
    "    "
   ]
  },
  {
   "cell_type": "code",
   "execution_count": 29,
   "metadata": {},
   "outputs": [
    {
     "data": {
      "text/plain": [
       "dict_keys(['courriergdl', 'waeschfra', 'avenirgdl', 'lunion', 'waechtersauer', 'diekwochen', 'luxzeit1844', 'luxzeit1858', 'volkfreu1869', 'indeplux', 'luxwort', 'demitock', 'landwortbild', 'armeteufel', 'buergerbeamten', 'luxland', 'actionfem', 'kommmit', 'obermosel', 'luxembourg1935', 'tageblatt', 'deletz1893', 'dunioun', 'gazgrdlux', 'schmiede', 'onsjongen'])"
      ]
     },
     "execution_count": 29,
     "metadata": {},
     "output_type": "execute_result"
    }
   ],
   "source": [
    "newspapers.keys()"
   ]
  },
  {
   "cell_type": "code",
   "execution_count": 44,
   "metadata": {},
   "outputs": [
    {
     "name": "stdout",
     "output_type": "stream",
     "text": [
      "actionfem :: L’action féminine\n",
      "armeteufel :: arme Teufel\n",
      "avenirgdl :: L'AVENIR\n",
      "buergerbeamten :: Bürger= und Beamten=Zeitung.\n",
      "courriergdl :: COURRIER DU GRAND-DUCHÉ DE LUXEMBOURG.\n",
      "deletz1893 :: De Letzeburger\n",
      "demitock :: DE MITOCK E WOCHEBLAD FIR JUX AN ZODI\n",
      "diekwochen :: Diekircher Wochenblatt\n",
      "dunioun :: D’Unio’n\n",
      "gazgrdlux :: Gazette du Grand-Duché de Luxembourg\n",
      "indeplux :: L'indépendance luxembourgeoise\n",
      "kommmit :: Komm mit mir!\n",
      "landwortbild :: Luxemburger Land in Wort und Bild.\n",
      "lunion :: L'UNION.\n",
      "luxembourg1935 :: Luxembourg (1935)\n",
      "luxland :: d'Letzeburger Land\n",
      "luxwort :: Luxemburger Wort\n",
      "luxzeit1844 :: Luxemburger Zeitung\n",
      "luxzeit1858 :: Luxemburger Zeitung – Journal de Luxembourg\n",
      "obermosel :: Obermosel-Zeitung\n",
      "onsjongen :: Ons Jongen\n",
      "schmiede :: Schmiede\n",
      "tageblatt :: Escher Tageblatt\n",
      "volkfreu1869 :: Volksfreund\n",
      "waechtersauer :: Wächter an der Sauer\n",
      "waeschfra :: D'Wäschfrà.\n"
     ]
    }
   ],
   "source": [
    "for newspaper in sorted(newspapers):\n",
    "    title = newspapers[newspaper][\"title\"]\n",
    "    id = newspapers[newspaper][\"id\"]\n",
    "    start = min(newspapers[newspaper][\"year\"])\n",
    "    end = max(newspapers[newspaper][\"year\"])\n",
    "    print(f'{id} :: {title}')"
   ]
  },
  {
   "cell_type": "code",
   "execution_count": 11,
   "metadata": {},
   "outputs": [
    {
     "data": {
      "text/plain": [
       "{'cdt': '2019-02-13 10:38:17',\n",
       " 't': 'COURRIER DU GRAND-DUCHÉ DE LUXEMBOURG.',\n",
       " 'i': [{'m': {'id': '1',\n",
       "    't': 'Grand-Duché de Luxembourg. Luxembourg, le 23 mars.',\n",
       "    'l': 'fr',\n",
       "    'tp': 'ar',\n",
       "    'pp': []},\n",
       "   'l': {'id': 'MODSMD_ARTICLE2'}},\n",
       "  {'m': {'id': '2', 't': 'REVUE POLITIQUE.', 'l': 'fr', 'tp': 'ar', 'pp': []},\n",
       "   'l': {'id': 'MODSMD_ARTICLE1'}},\n",
       "  {'m': {'id': '3', 't': 'ANGLETERRE', 'l': 'fr', 'tp': 'ar', 'pp': []},\n",
       "   'l': {'id': 'MODSMD_ARTICLE6'}},\n",
       "  {'m': {'id': '4', 't': 'FRANCE.', 'l': 'fr', 'tp': 'ar', 'pp': []},\n",
       "   'l': {'id': 'MODSMD_ARTICLE5'}},\n",
       "  {'m': {'id': '5', 't': 'ALLEMAGNE', 'l': 'fr', 'tp': 'ar', 'pp': []},\n",
       "   'l': {'id': 'MODSMD_ARTICLE4'}},\n",
       "  {'m': {'id': '6', 't': 'ACTES OFFICIELS', 'l': 'fr', 'tp': 'ar', 'pp': []},\n",
       "   'l': {'id': 'MODSMD_ARTICLE3'}},\n",
       "  {'m': {'id': '7',\n",
       "    't': 'ÉTAT-CIVIL de la Ville de Luxembourg.',\n",
       "    'l': 'fr',\n",
       "    'tp': 'ar',\n",
       "    'pp': []},\n",
       "   'l': {'id': 'MODSMD_ARTICLE9'}},\n",
       "  {'m': {'id': '8',\n",
       "    't': 'NOUVELLES DIVERSES',\n",
       "    'l': 'fr',\n",
       "    'tp': 'ar',\n",
       "    'pp': []},\n",
       "   'l': {'id': 'MODSMD_ARTICLE8'}},\n",
       "  {'m': {'id': '9',\n",
       "    't': \"AFFAIRES D'ORIENT.\",\n",
       "    'l': 'fr',\n",
       "    'tp': 'ar',\n",
       "    'pp': []},\n",
       "   'l': {'id': 'MODSMD_ARTICLE7'}},\n",
       "  {'m': {'id': '10',\n",
       "    't': 'MERCURIALES. — Marché du 22 mars 1856.',\n",
       "    'l': 'fr',\n",
       "    'tp': 'ar',\n",
       "    'pp': []},\n",
       "   'l': {'id': 'MODSMD_ARTICLE10'}}],\n",
       " 'id': 'courriergdl-1856-3-23-a',\n",
       " 'pp': []}"
      ]
     },
     "execution_count": 11,
     "metadata": {},
     "output_type": "execute_result"
    }
   ],
   "source": [
    "for issue in imported_issues:\n",
    "    id issue"
   ]
  },
  {
   "cell_type": "code",
   "execution_count": null,
   "metadata": {},
   "outputs": [],
   "source": [
    "progress(issue_bag)"
   ]
  },
  {
   "cell_type": "code",
   "execution_count": 6,
   "metadata": {},
   "outputs": [
    {
     "data": {
      "text/plain": [
       "IssueDirectory(journal='courriergdl', date=datetime.date(1856, 3, 23), edition='a', path='/mnt/project_impresso/original/BNL/public_domain_003/1424480_newspaper_courriergdl_1856-03-23', rights='o')"
      ]
     },
     "execution_count": 6,
     "metadata": {},
     "output_type": "execute_result"
    }
   ],
   "source": [
    "issues[0]"
   ]
  },
  {
   "cell_type": "code",
   "execution_count": 11,
   "metadata": {},
   "outputs": [],
   "source": [
    "issues = lux_detect_issues(input_dir)"
   ]
  },
  {
   "cell_type": "code",
   "execution_count": 12,
   "metadata": {},
   "outputs": [
    {
     "data": {
      "text/plain": [
       "97326"
      ]
     },
     "execution_count": 12,
     "metadata": {},
     "output_type": "execute_result"
    }
   ],
   "source": [
    "len(issues)"
   ]
  },
  {
   "cell_type": "code",
   "execution_count": null,
   "metadata": {},
   "outputs": [],
   "source": [
    "imported_issues = lux_import_issues(issues, output_dir, serialize=True)"
   ]
  },
  {
   "cell_type": "code",
   "execution_count": null,
   "metadata": {},
   "outputs": [],
   "source": [
    "len(imported_issues)"
   ]
  },
  {
   "cell_type": "code",
   "execution_count": 2,
   "metadata": {},
   "outputs": [
    {
     "ename": "NameError",
     "evalue": "name 'issues' is not defined",
     "output_type": "error",
     "traceback": [
      "\u001b[0;31m---------------------------------------------------------------------------\u001b[0m",
      "\u001b[0;31mNameError\u001b[0m                                 Traceback (most recent call last)",
      "\u001b[0;32m<ipython-input-2-859f7ec8cd17>\u001b[0m in \u001b[0;36m<module>\u001b[0;34m\u001b[0m\n\u001b[0;32m----> 1\u001b[0;31m \u001b[0missues\u001b[0m\u001b[0;34m[\u001b[0m\u001b[0;36m0\u001b[0m\u001b[0;34m]\u001b[0m\u001b[0;34m\u001b[0m\u001b[0m\n\u001b[0m",
      "\u001b[0;31mNameError\u001b[0m: name 'issues' is not defined"
     ]
    }
   ],
   "source": [
    "issues[0]"
   ]
  },
  {
   "cell_type": "code",
   "execution_count": 31,
   "metadata": {},
   "outputs": [
    {
     "data": {
      "text/plain": [
       "'courrier du grand-duché de luxembourg.'"
      ]
     },
     "execution_count": 31,
     "metadata": {},
     "output_type": "execute_result"
    }
   ],
   "source": [
    "str(imported_issues[-1].t).lower()"
   ]
  },
  {
   "cell_type": "code",
   "execution_count": null,
   "metadata": {},
   "outputs": [],
   "source": [
    "!ls -la {output_dir}/courriergdl/|wc -l"
   ]
  },
  {
   "cell_type": "code",
   "execution_count": 18,
   "metadata": {},
   "outputs": [
    {
     "name": "stdout",
     "output_type": "stream",
     "text": [
      "{\"id\": \"courriergdl-1856-3-23-a\", \"cdt\": \"2019-02-11 12:02:29\", \"i\": [{\"l\": {\"id\": \"MODSMD_ARTICLE2\"}, \"m\": {\"id\": \"1\", \"l\": \"fr\", \"pp\": [], \"t\": \"Grand-Duch\\u00e9 de Luxembourg. Luxembourg, le 23 mars.\", \"tp\": \"ar\"}}, {\"l\": {\"id\": \"MODSMD_ARTICLE1\"}, \"m\": {\"id\": \"2\", \"l\": \"fr\", \"pp\": [], \"t\": \"REVUE POLITIQUE.\", \"tp\": \"ar\"}}, {\"l\": {\"id\": \"MODSMD_ARTICLE6\"}, \"m\": {\"id\": \"3\", \"l\": \"fr\", \"pp\": [], \"t\": \"ANGLETERRE\", \"tp\": \"ar\"}}, {\"l\": {\"id\": \"MODSMD_ARTICLE5\"}, \"m\": {\"id\": \"4\", \"l\": \"fr\", \"pp\": [], \"t\": \"FRANCE.\", \"tp\": \"ar\"}}, {\"l\": {\"id\": \"MODSMD_ARTICLE4\"}, \"m\": {\"id\": \"5\", \"l\": \"fr\", \"pp\": [], \"t\": \"ALLEMAGNE\", \"tp\": \"ar\"}}, {\"l\": {\"id\": \"MODSMD_ARTICLE3\"}, \"m\": {\"id\": \"6\", \"l\": \"fr\", \"pp\": [], \"t\": \"ACTES OFFICIELS\", \"tp\": \"ar\"}}, {\"l\": {\"id\": \"MODSMD_ARTICLE9\"}, \"m\": {\"id\": \"7\", \"l\": \"fr\", \"pp\": [], \"t\": \"\\u00c9TAT-CIVIL de la Ville de Luxembourg.\", \"tp\": \"ar\"}}, {\"l\": {\"id\": \"MODSMD_ARTICLE8\"}, \"m\": {\"id\": \"8\", \"l\": \"fr\", \"pp\": [], \"t\": \"NOUVELLES DIVERSES\", \"tp\": \"ar\"}}, {\"l\": {\"id\": \"MODSMD_ARTICLE7\"}, \"m\": {\"id\": \"9\", \"l\": \"fr\", \"pp\": [], \"t\": \"AFFAIRES D'ORIENT.\", \"tp\": \"ar\"}}, {\"l\": {\"id\": \"MODSMD_ARTICLE10\"}, \"m\": {\"id\": \"10\", \"l\": \"fr\", \"pp\": [], \"t\": \"MERCURIALES. \\u2014 March\\u00e9 du 22 mars 1856.\", \"tp\": \"ar\"}}], \"pp\": [\"courriergdl-1856-3-23-a-p0001\", \"courriergdl-1856-3-23-a-p0002\", \"courriergdl-1856-3-23-a-p0003\", \"courriergdl-1856-3-23-a-p0004\"], \"t\": \"COURRIER DU GRAND-DUCH\\u00c9 DE LUXEMBOURG.\"}"
     ]
    }
   ],
   "source": [
    "!cat {output_dir}/courriergdl/courriergdl-1856-03-23-a-issue.json"
   ]
  },
  {
   "cell_type": "code",
   "execution_count": null,
   "metadata": {},
   "outputs": [],
   "source": []
  }
 ],
 "metadata": {
  "kernelspec": {
   "display_name": "Python 3",
   "language": "python",
   "name": "python3"
  },
  "language_info": {
   "codemirror_mode": {
    "name": "ipython",
    "version": 3
   },
   "file_extension": ".py",
   "mimetype": "text/x-python",
   "name": "python",
   "nbconvert_exporter": "python",
   "pygments_lexer": "ipython3",
   "version": "3.6.0"
  }
 },
 "nbformat": 4,
 "nbformat_minor": 2
}
