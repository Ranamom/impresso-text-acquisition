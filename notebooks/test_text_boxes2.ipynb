{
 "cells": [
  {
   "cell_type": "markdown",
   "metadata": {},
   "source": [
    "## testing box conversion\n",
    "(contains small modifs w.r.t to first version)"
   ]
  },
  {
   "cell_type": "code",
   "execution_count": 1,
   "metadata": {
    "scrolled": true
   },
   "outputs": [],
   "source": [
    "import requests\n",
    "from requests.auth import HTTPBasicAuth\n",
    "import json\n",
    "import datetime\n",
    "import dask.bag as db\n",
    "import glob"
   ]
  },
  {
   "cell_type": "code",
   "execution_count": 2,
   "metadata": {
    "scrolled": true
   },
   "outputs": [],
   "source": [
    "from impresso_commons.path.path_fs import IssueDir, detect_canonical_issues, canonical_path, KNOWN_JOURNALS\n",
    "from text_importer.helpers import get_page_schema\n",
    "from impresso_commons.utils.s3 import IMPRESSO_STORAGEOPT"
   ]
  },
  {
   "cell_type": "code",
   "execution_count": 3,
   "metadata": {
    "scrolled": true
   },
   "outputs": [],
   "source": [
    "from impresso_commons.images.olive_boxes import get_iiif_url\n",
    "from IPython.display import Image, display, HTML, Markdown"
   ]
  },
  {
   "cell_type": "code",
   "execution_count": 7,
   "metadata": {
    "scrolled": true
   },
   "outputs": [
    {
     "name": "stdout",
     "output_type": "stream",
     "text": [
      "CPU times: user 2.05 ms, sys: 2.9 ms, total: 4.95 ms\n",
      "Wall time: 20.8 ms\n"
     ]
    }
   ],
   "source": [
    "%%time\n",
    "page_files = list(filter(lambda f: 'issue' not in f, list(glob.iglob('/scratch/matteo/impresso-canonical-new/BDC/**/*.json', recursive=True))))\n",
    "len(page_files)"
   ]
  },
  {
   "cell_type": "code",
   "execution_count": 10,
   "metadata": {
    "code_folding": [],
    "scrolled": true
   },
   "outputs": [],
   "source": [
    "import os\n",
    "import json\n",
    "from random import randint, shuffle\n",
    "\n",
    "def select_random_index(objects):\n",
    "    shuffle(objects)\n",
    "    total_objects = len(objects)\n",
    "    index = randint(0, len(objects) - 1)\n",
    "    return index\n",
    "\n",
    "def select_random_token(page_file):\n",
    "    with open(page_file) as json_file:  \n",
    "        page_json = json.load(json_file)\n",
    "        total_regions = len(page_json['r'])\n",
    "        region = page_json['r'][randint(0, total_regions - 1)]\n",
    "        total_paragraphs = len(region['p'])\n",
    "        paragraph = region['p'][randint(0, total_paragraphs - 1)]\n",
    "        total_lines = len(paragraph['l'])\n",
    "        line = paragraph['l'][randint(0, total_lines - 1)]\n",
    "        total_tokens = len(line['t'])\n",
    "        token = line['t'][randint(0, total_tokens - 1)]\n",
    "        return token\n",
    "    \n",
    "def select_random_region(page_file):\n",
    "    with open(page_file) as json_file:  \n",
    "        page_json = json.load(json_file)\n",
    "        total_regions = len(page_json['r'])\n",
    "        region = page_json['r'][randint(0, total_regions - 1)]\n",
    "        return region\n",
    "\n",
    "def get_link(page_name, coordinates):\n",
    "    link = get_iiif_url(page_name, \" \".join([str(i) for i in coordinates]))\n",
    "    return link\n",
    "\n",
    "def get_image(page_name, coordinates, user=\"epfl-team\", pwd=\"_pYmypGG#+N;6{3U\"):\n",
    "    link = get_iiif_url(page_name, \" \".join([str(i) for i in coordinates]))\n",
    "    return requests.get(link, auth=HTTPBasicAuth(user, pwd)).content\n",
    "    "
   ]
  },
  {
   "cell_type": "code",
   "execution_count": 9,
   "metadata": {
    "scrolled": false
   },
   "outputs": [
    {
     "name": "stdout",
     "output_type": "stream",
     "text": [
      "partie \t\t\t\t\t// (BDC-1839-01-21-a-p0003) ([819, 197, 48, 17])\n"
     ]
    },
    {
     "data": {
      "text/html": [
       "<img src=\"http://dhlabsrv17.epfl.ch/iiif_impresso/BDC-1839-01-21-a-p0003/819,197,48,17/full/0/default.jpg\"/>"
      ],
      "text/plain": [
       "<IPython.core.display.Image object>"
      ]
     },
     "metadata": {},
     "output_type": "display_data"
    },
    {
     "data": {
      "text/html": [
       "<img src=\"http://dhlabsrv17.epfl.ch/iiif_impresso_new/BDC-1839-01-21-a-p0003/819,197,48,17/full/0/default.jpg\"/>"
      ],
      "text/plain": [
       "<IPython.core.display.Image object>"
      ]
     },
     "metadata": {},
     "output_type": "display_data"
    },
    {
     "name": "stdout",
     "output_type": "stream",
     "text": [
      "http://dhlabsrv17.epfl.ch/iiif_impresso_new/BDC-1839-01-21-a-p0003/819,197,48,17/full/0/default.jpg\n",
      "-----------------\n",
      "\n",
      "l'effrayant \t\t\t\t\t// (BDC-1839-01-21-a-p0003) ([417, 334, 81, 17])\n"
     ]
    },
    {
     "data": {
      "text/html": [
       "<img src=\"http://dhlabsrv17.epfl.ch/iiif_impresso/BDC-1839-01-21-a-p0003/417,334,81,17/full/0/default.jpg\"/>"
      ],
      "text/plain": [
       "<IPython.core.display.Image object>"
      ]
     },
     "metadata": {},
     "output_type": "display_data"
    },
    {
     "data": {
      "text/html": [
       "<img src=\"http://dhlabsrv17.epfl.ch/iiif_impresso_new/BDC-1839-01-21-a-p0003/417,334,81,17/full/0/default.jpg\"/>"
      ],
      "text/plain": [
       "<IPython.core.display.Image object>"
      ]
     },
     "metadata": {},
     "output_type": "display_data"
    },
    {
     "name": "stdout",
     "output_type": "stream",
     "text": [
      "http://dhlabsrv17.epfl.ch/iiif_impresso_new/BDC-1839-01-21-a-p0003/417,334,81,17/full/0/default.jpg\n",
      "-----------------\n",
      "\n",
      "! \t\t\t\t\t// (BDC-1839-02-23-a-p0001) ([690, 1182, 8, 22])\n"
     ]
    },
    {
     "data": {
      "text/html": [
       "<img src=\"http://dhlabsrv17.epfl.ch/iiif_impresso/BDC-1839-02-23-a-p0001/690,1182,8,22/full/0/default.jpg\"/>"
      ],
      "text/plain": [
       "<IPython.core.display.Image object>"
      ]
     },
     "metadata": {},
     "output_type": "display_data"
    },
    {
     "data": {
      "text/html": [
       "<img src=\"http://dhlabsrv17.epfl.ch/iiif_impresso_new/BDC-1839-02-23-a-p0001/690,1182,8,22/full/0/default.jpg\"/>"
      ],
      "text/plain": [
       "<IPython.core.display.Image object>"
      ]
     },
     "metadata": {},
     "output_type": "display_data"
    },
    {
     "name": "stdout",
     "output_type": "stream",
     "text": [
      "http://dhlabsrv17.epfl.ch/iiif_impresso_new/BDC-1839-02-23-a-p0001/690,1182,8,22/full/0/default.jpg\n",
      "-----------------\n",
      "\n",
      "la \t\t\t\t\t// (BDC-1839-02-23-a-p0001) ([685, 784, 21, 23])\n"
     ]
    },
    {
     "data": {
      "text/html": [
       "<img src=\"http://dhlabsrv17.epfl.ch/iiif_impresso/BDC-1839-02-23-a-p0001/685,784,21,23/full/0/default.jpg\"/>"
      ],
      "text/plain": [
       "<IPython.core.display.Image object>"
      ]
     },
     "metadata": {},
     "output_type": "display_data"
    },
    {
     "data": {
      "text/html": [
       "<img src=\"http://dhlabsrv17.epfl.ch/iiif_impresso_new/BDC-1839-02-23-a-p0001/685,784,21,23/full/0/default.jpg\"/>"
      ],
      "text/plain": [
       "<IPython.core.display.Image object>"
      ]
     },
     "metadata": {},
     "output_type": "display_data"
    },
    {
     "name": "stdout",
     "output_type": "stream",
     "text": [
      "http://dhlabsrv17.epfl.ch/iiif_impresso_new/BDC-1839-02-23-a-p0001/685,784,21,23/full/0/default.jpg\n",
      "-----------------\n",
      "\n",
      ". \t\t\t\t\t// (BDC-1839-02-28-a-p0001) ([560, 964, 5, 19])\n"
     ]
    },
    {
     "data": {
      "text/html": [
       "<img src=\"http://dhlabsrv17.epfl.ch/iiif_impresso/BDC-1839-02-28-a-p0001/560,964,5,19/full/0/default.jpg\"/>"
      ],
      "text/plain": [
       "<IPython.core.display.Image object>"
      ]
     },
     "metadata": {},
     "output_type": "display_data"
    },
    {
     "data": {
      "text/html": [
       "<img src=\"http://dhlabsrv17.epfl.ch/iiif_impresso_new/BDC-1839-02-28-a-p0001/560,964,5,19/full/0/default.jpg\"/>"
      ],
      "text/plain": [
       "<IPython.core.display.Image object>"
      ]
     },
     "metadata": {},
     "output_type": "display_data"
    },
    {
     "name": "stdout",
     "output_type": "stream",
     "text": [
      "http://dhlabsrv17.epfl.ch/iiif_impresso_new/BDC-1839-02-28-a-p0001/560,964,5,19/full/0/default.jpg\n",
      "-----------------\n",
      "\n",
      "Un \t\t\t\t\t// (BDC-1839-02-28-a-p0001) ([42, 832, 25, 19])\n"
     ]
    },
    {
     "data": {
      "text/html": [
       "<img src=\"http://dhlabsrv17.epfl.ch/iiif_impresso/BDC-1839-02-28-a-p0001/42,832,25,19/full/0/default.jpg\"/>"
      ],
      "text/plain": [
       "<IPython.core.display.Image object>"
      ]
     },
     "metadata": {},
     "output_type": "display_data"
    },
    {
     "data": {
      "text/html": [
       "<img src=\"http://dhlabsrv17.epfl.ch/iiif_impresso_new/BDC-1839-02-28-a-p0001/42,832,25,19/full/0/default.jpg\"/>"
      ],
      "text/plain": [
       "<IPython.core.display.Image object>"
      ]
     },
     "metadata": {},
     "output_type": "display_data"
    },
    {
     "name": "stdout",
     "output_type": "stream",
     "text": [
      "http://dhlabsrv17.epfl.ch/iiif_impresso_new/BDC-1839-02-28-a-p0001/42,832,25,19/full/0/default.jpg\n",
      "-----------------\n",
      "\n",
      "' \t\t\t\t\t// (BDC-1839-02-28-a-p0001) ([473, 551, 6, 25])\n"
     ]
    },
    {
     "data": {
      "text/html": [
       "<img src=\"http://dhlabsrv17.epfl.ch/iiif_impresso/BDC-1839-02-28-a-p0001/473,551,6,25/full/0/default.jpg\"/>"
      ],
      "text/plain": [
       "<IPython.core.display.Image object>"
      ]
     },
     "metadata": {},
     "output_type": "display_data"
    },
    {
     "data": {
      "text/html": [
       "<img src=\"http://dhlabsrv17.epfl.ch/iiif_impresso_new/BDC-1839-02-28-a-p0001/473,551,6,25/full/0/default.jpg\"/>"
      ],
      "text/plain": [
       "<IPython.core.display.Image object>"
      ]
     },
     "metadata": {},
     "output_type": "display_data"
    },
    {
     "name": "stdout",
     "output_type": "stream",
     "text": [
      "http://dhlabsrv17.epfl.ch/iiif_impresso_new/BDC-1839-02-28-a-p0001/473,551,6,25/full/0/default.jpg\n",
      "-----------------\n",
      "\n",
      "fait \t\t\t\t\t// (BDC-1839-02-28-a-p0001) ([199, 1196, 29, 19])\n"
     ]
    },
    {
     "data": {
      "text/html": [
       "<img src=\"http://dhlabsrv17.epfl.ch/iiif_impresso/BDC-1839-02-28-a-p0001/199,1196,29,19/full/0/default.jpg\"/>"
      ],
      "text/plain": [
       "<IPython.core.display.Image object>"
      ]
     },
     "metadata": {},
     "output_type": "display_data"
    },
    {
     "data": {
      "text/html": [
       "<img src=\"http://dhlabsrv17.epfl.ch/iiif_impresso_new/BDC-1839-02-28-a-p0001/199,1196,29,19/full/0/default.jpg\"/>"
      ],
      "text/plain": [
       "<IPython.core.display.Image object>"
      ]
     },
     "metadata": {},
     "output_type": "display_data"
    },
    {
     "name": "stdout",
     "output_type": "stream",
     "text": [
      "http://dhlabsrv17.epfl.ch/iiif_impresso_new/BDC-1839-02-28-a-p0001/199,1196,29,19/full/0/default.jpg\n",
      "-----------------\n",
      "\n",
      ". \t\t\t\t\t// (BDC-1839-03-14-a-p0002) ([122, 974, 6, 21])\n"
     ]
    },
    {
     "data": {
      "text/html": [
       "<img src=\"http://dhlabsrv17.epfl.ch/iiif_impresso/BDC-1839-03-14-a-p0002/122,974,6,21/full/0/default.jpg\"/>"
      ],
      "text/plain": [
       "<IPython.core.display.Image object>"
      ]
     },
     "metadata": {},
     "output_type": "display_data"
    },
    {
     "data": {
      "text/html": [
       "<img src=\"http://dhlabsrv17.epfl.ch/iiif_impresso_new/BDC-1839-03-14-a-p0002/122,974,6,21/full/0/default.jpg\"/>"
      ],
      "text/plain": [
       "<IPython.core.display.Image object>"
      ]
     },
     "metadata": {},
     "output_type": "display_data"
    },
    {
     "name": "stdout",
     "output_type": "stream",
     "text": [
      "http://dhlabsrv17.epfl.ch/iiif_impresso_new/BDC-1839-03-14-a-p0002/122,974,6,21/full/0/default.jpg\n",
      "-----------------\n",
      "\n",
      "progrès \t\t\t\t\t// (BDC-1839-03-14-a-p0002) ([385, 475, 74, 21])\n"
     ]
    },
    {
     "data": {
      "text/html": [
       "<img src=\"http://dhlabsrv17.epfl.ch/iiif_impresso/BDC-1839-03-14-a-p0002/385,475,74,21/full/0/default.jpg\"/>"
      ],
      "text/plain": [
       "<IPython.core.display.Image object>"
      ]
     },
     "metadata": {},
     "output_type": "display_data"
    },
    {
     "data": {
      "text/html": [
       "<img src=\"http://dhlabsrv17.epfl.ch/iiif_impresso_new/BDC-1839-03-14-a-p0002/385,475,74,21/full/0/default.jpg\"/>"
      ],
      "text/plain": [
       "<IPython.core.display.Image object>"
      ]
     },
     "metadata": {},
     "output_type": "display_data"
    },
    {
     "name": "stdout",
     "output_type": "stream",
     "text": [
      "http://dhlabsrv17.epfl.ch/iiif_impresso_new/BDC-1839-03-14-a-p0002/385,475,74,21/full/0/default.jpg\n",
      "-----------------\n",
      "\n",
      "peu- \t\t\t\t\t// (BDC-1839-01-20-a-p0001) ([876, 711, 42, 23])\n"
     ]
    },
    {
     "data": {
      "text/html": [
       "<img src=\"http://dhlabsrv17.epfl.ch/iiif_impresso/BDC-1839-01-20-a-p0001/876,711,42,23/full/0/default.jpg\"/>"
      ],
      "text/plain": [
       "<IPython.core.display.Image object>"
      ]
     },
     "metadata": {},
     "output_type": "display_data"
    },
    {
     "data": {
      "text/html": [
       "<img src=\"http://dhlabsrv17.epfl.ch/iiif_impresso_new/BDC-1839-01-20-a-p0001/876,711,42,23/full/0/default.jpg\"/>"
      ],
      "text/plain": [
       "<IPython.core.display.Image object>"
      ]
     },
     "metadata": {},
     "output_type": "display_data"
    },
    {
     "name": "stdout",
     "output_type": "stream",
     "text": [
      "http://dhlabsrv17.epfl.ch/iiif_impresso_new/BDC-1839-01-20-a-p0001/876,711,42,23/full/0/default.jpg\n",
      "-----------------\n",
      "\n",
      "Dans \t\t\t\t\t// (BDC-1839-01-20-a-p0001) ([29, 969, 49, 22])\n"
     ]
    },
    {
     "data": {
      "text/html": [
       "<img src=\"http://dhlabsrv17.epfl.ch/iiif_impresso/BDC-1839-01-20-a-p0001/29,969,49,22/full/0/default.jpg\"/>"
      ],
      "text/plain": [
       "<IPython.core.display.Image object>"
      ]
     },
     "metadata": {},
     "output_type": "display_data"
    },
    {
     "data": {
      "text/html": [
       "<img src=\"http://dhlabsrv17.epfl.ch/iiif_impresso_new/BDC-1839-01-20-a-p0001/29,969,49,22/full/0/default.jpg\"/>"
      ],
      "text/plain": [
       "<IPython.core.display.Image object>"
      ]
     },
     "metadata": {},
     "output_type": "display_data"
    },
    {
     "name": "stdout",
     "output_type": "stream",
     "text": [
      "http://dhlabsrv17.epfl.ch/iiif_impresso_new/BDC-1839-01-20-a-p0001/29,969,49,22/full/0/default.jpg\n",
      "-----------------\n",
      "\n",
      "AVIS \t\t\t\t\t// (BDC-1839-01-21-a-p0001) ([198, 477, 140, 41])\n"
     ]
    },
    {
     "data": {
      "text/html": [
       "<img src=\"http://dhlabsrv17.epfl.ch/iiif_impresso/BDC-1839-01-21-a-p0001/198,477,140,41/full/0/default.jpg\"/>"
      ],
      "text/plain": [
       "<IPython.core.display.Image object>"
      ]
     },
     "metadata": {},
     "output_type": "display_data"
    },
    {
     "data": {
      "text/html": [
       "<img src=\"http://dhlabsrv17.epfl.ch/iiif_impresso_new/BDC-1839-01-21-a-p0001/198,477,140,41/full/0/default.jpg\"/>"
      ],
      "text/plain": [
       "<IPython.core.display.Image object>"
      ]
     },
     "metadata": {},
     "output_type": "display_data"
    },
    {
     "name": "stdout",
     "output_type": "stream",
     "text": [
      "http://dhlabsrv17.epfl.ch/iiif_impresso_new/BDC-1839-01-21-a-p0001/198,477,140,41/full/0/default.jpg\n",
      "-----------------\n",
      "\n",
      "son \t\t\t\t\t// (BDC-1839-01-21-a-p0001) ([503, 1048, 32, 20])\n"
     ]
    },
    {
     "data": {
      "text/html": [
       "<img src=\"http://dhlabsrv17.epfl.ch/iiif_impresso/BDC-1839-01-21-a-p0001/503,1048,32,20/full/0/default.jpg\"/>"
      ],
      "text/plain": [
       "<IPython.core.display.Image object>"
      ]
     },
     "metadata": {},
     "output_type": "display_data"
    },
    {
     "data": {
      "text/html": [
       "<img src=\"http://dhlabsrv17.epfl.ch/iiif_impresso_new/BDC-1839-01-21-a-p0001/503,1048,32,20/full/0/default.jpg\"/>"
      ],
      "text/plain": [
       "<IPython.core.display.Image object>"
      ]
     },
     "metadata": {},
     "output_type": "display_data"
    },
    {
     "name": "stdout",
     "output_type": "stream",
     "text": [
      "http://dhlabsrv17.epfl.ch/iiif_impresso_new/BDC-1839-01-21-a-p0001/503,1048,32,20/full/0/default.jpg\n",
      "-----------------\n",
      "\n",
      "que \t\t\t\t\t// (BDC-1839-01-20-a-p0001) ([572, 530, 35, 23])\n"
     ]
    },
    {
     "data": {
      "text/html": [
       "<img src=\"http://dhlabsrv17.epfl.ch/iiif_impresso/BDC-1839-01-20-a-p0001/572,530,35,23/full/0/default.jpg\"/>"
      ],
      "text/plain": [
       "<IPython.core.display.Image object>"
      ]
     },
     "metadata": {},
     "output_type": "display_data"
    },
    {
     "data": {
      "text/html": [
       "<img src=\"http://dhlabsrv17.epfl.ch/iiif_impresso_new/BDC-1839-01-20-a-p0001/572,530,35,23/full/0/default.jpg\"/>"
      ],
      "text/plain": [
       "<IPython.core.display.Image object>"
      ]
     },
     "metadata": {},
     "output_type": "display_data"
    },
    {
     "name": "stdout",
     "output_type": "stream",
     "text": [
      "http://dhlabsrv17.epfl.ch/iiif_impresso_new/BDC-1839-01-20-a-p0001/572,530,35,23/full/0/default.jpg\n",
      "-----------------\n",
      "\n",
      "qui \t\t\t\t\t// (BDC-1839-01-20-a-p0001) ([540, 1034, 30, 23])\n"
     ]
    },
    {
     "data": {
      "text/html": [
       "<img src=\"http://dhlabsrv17.epfl.ch/iiif_impresso/BDC-1839-01-20-a-p0001/540,1034,30,23/full/0/default.jpg\"/>"
      ],
      "text/plain": [
       "<IPython.core.display.Image object>"
      ]
     },
     "metadata": {},
     "output_type": "display_data"
    },
    {
     "data": {
      "text/html": [
       "<img src=\"http://dhlabsrv17.epfl.ch/iiif_impresso_new/BDC-1839-01-20-a-p0001/540,1034,30,23/full/0/default.jpg\"/>"
      ],
      "text/plain": [
       "<IPython.core.display.Image object>"
      ]
     },
     "metadata": {},
     "output_type": "display_data"
    },
    {
     "name": "stdout",
     "output_type": "stream",
     "text": [
      "http://dhlabsrv17.epfl.ch/iiif_impresso_new/BDC-1839-01-20-a-p0001/540,1034,30,23/full/0/default.jpg\n",
      "-----------------\n",
      "\n",
      "! \t\t\t\t\t// (BDC-1839-02-23-a-p0003) ([771, 1166, 6, 19])\n"
     ]
    },
    {
     "data": {
      "text/html": [
       "<img src=\"http://dhlabsrv17.epfl.ch/iiif_impresso/BDC-1839-02-23-a-p0003/771,1166,6,19/full/0/default.jpg\"/>"
      ],
      "text/plain": [
       "<IPython.core.display.Image object>"
      ]
     },
     "metadata": {},
     "output_type": "display_data"
    },
    {
     "data": {
      "text/html": [
       "<img src=\"http://dhlabsrv17.epfl.ch/iiif_impresso_new/BDC-1839-02-23-a-p0003/771,1166,6,19/full/0/default.jpg\"/>"
      ],
      "text/plain": [
       "<IPython.core.display.Image object>"
      ]
     },
     "metadata": {},
     "output_type": "display_data"
    },
    {
     "name": "stdout",
     "output_type": "stream",
     "text": [
      "http://dhlabsrv17.epfl.ch/iiif_impresso_new/BDC-1839-02-23-a-p0003/771,1166,6,19/full/0/default.jpg\n",
      "-----------------\n",
      "\n",
      ", \t\t\t\t\t// (BDC-1839-02-23-a-p0003) ([364, 252, 5, 19])\n"
     ]
    },
    {
     "data": {
      "text/html": [
       "<img src=\"http://dhlabsrv17.epfl.ch/iiif_impresso/BDC-1839-02-23-a-p0003/364,252,5,19/full/0/default.jpg\"/>"
      ],
      "text/plain": [
       "<IPython.core.display.Image object>"
      ]
     },
     "metadata": {},
     "output_type": "display_data"
    },
    {
     "data": {
      "text/html": [
       "<img src=\"http://dhlabsrv17.epfl.ch/iiif_impresso_new/BDC-1839-02-23-a-p0003/364,252,5,19/full/0/default.jpg\"/>"
      ],
      "text/plain": [
       "<IPython.core.display.Image object>"
      ]
     },
     "metadata": {},
     "output_type": "display_data"
    },
    {
     "name": "stdout",
     "output_type": "stream",
     "text": [
      "http://dhlabsrv17.epfl.ch/iiif_impresso_new/BDC-1839-02-23-a-p0003/364,252,5,19/full/0/default.jpg\n",
      "-----------------\n",
      "\n",
      "d'agir \t\t\t\t\t// (BDC-1839-02-23-a-p0002) ([437, 943, 52, 20])\n"
     ]
    },
    {
     "data": {
      "text/html": [
       "<img src=\"http://dhlabsrv17.epfl.ch/iiif_impresso/BDC-1839-02-23-a-p0002/437,943,52,20/full/0/default.jpg\"/>"
      ],
      "text/plain": [
       "<IPython.core.display.Image object>"
      ]
     },
     "metadata": {},
     "output_type": "display_data"
    },
    {
     "data": {
      "text/html": [
       "<img src=\"http://dhlabsrv17.epfl.ch/iiif_impresso_new/BDC-1839-02-23-a-p0002/437,943,52,20/full/0/default.jpg\"/>"
      ],
      "text/plain": [
       "<IPython.core.display.Image object>"
      ]
     },
     "metadata": {},
     "output_type": "display_data"
    },
    {
     "name": "stdout",
     "output_type": "stream",
     "text": [
      "http://dhlabsrv17.epfl.ch/iiif_impresso_new/BDC-1839-02-23-a-p0002/437,943,52,20/full/0/default.jpg\n",
      "-----------------\n",
      "\n",
      "Vous \t\t\t\t\t// (BDC-1839-02-23-a-p0002) ([278, 1065, 45, 21])\n"
     ]
    },
    {
     "data": {
      "text/html": [
       "<img src=\"http://dhlabsrv17.epfl.ch/iiif_impresso/BDC-1839-02-23-a-p0002/278,1065,45,21/full/0/default.jpg\"/>"
      ],
      "text/plain": [
       "<IPython.core.display.Image object>"
      ]
     },
     "metadata": {},
     "output_type": "display_data"
    },
    {
     "data": {
      "text/html": [
       "<img src=\"http://dhlabsrv17.epfl.ch/iiif_impresso_new/BDC-1839-02-23-a-p0002/278,1065,45,21/full/0/default.jpg\"/>"
      ],
      "text/plain": [
       "<IPython.core.display.Image object>"
      ]
     },
     "metadata": {},
     "output_type": "display_data"
    },
    {
     "name": "stdout",
     "output_type": "stream",
     "text": [
      "http://dhlabsrv17.epfl.ch/iiif_impresso_new/BDC-1839-02-23-a-p0002/278,1065,45,21/full/0/default.jpg\n",
      "-----------------\n",
      "\n",
      "quelque \t\t\t\t\t// (BDC-1839-02-28-a-p0002) ([234, 601, 64, 17])\n"
     ]
    },
    {
     "data": {
      "text/html": [
       "<img src=\"http://dhlabsrv17.epfl.ch/iiif_impresso/BDC-1839-02-28-a-p0002/234,601,64,17/full/0/default.jpg\"/>"
      ],
      "text/plain": [
       "<IPython.core.display.Image object>"
      ]
     },
     "metadata": {},
     "output_type": "display_data"
    },
    {
     "data": {
      "text/html": [
       "<img src=\"http://dhlabsrv17.epfl.ch/iiif_impresso_new/BDC-1839-02-28-a-p0002/234,601,64,17/full/0/default.jpg\"/>"
      ],
      "text/plain": [
       "<IPython.core.display.Image object>"
      ]
     },
     "metadata": {},
     "output_type": "display_data"
    },
    {
     "name": "stdout",
     "output_type": "stream",
     "text": [
      "http://dhlabsrv17.epfl.ch/iiif_impresso_new/BDC-1839-02-28-a-p0002/234,601,64,17/full/0/default.jpg\n",
      "-----------------\n",
      "\n",
      "intérêts \t\t\t\t\t// (BDC-1839-02-28-a-p0002) ([169, 804, 63, 17])\n"
     ]
    },
    {
     "data": {
      "text/html": [
       "<img src=\"http://dhlabsrv17.epfl.ch/iiif_impresso/BDC-1839-02-28-a-p0002/169,804,63,17/full/0/default.jpg\"/>"
      ],
      "text/plain": [
       "<IPython.core.display.Image object>"
      ]
     },
     "metadata": {},
     "output_type": "display_data"
    },
    {
     "data": {
      "text/html": [
       "<img src=\"http://dhlabsrv17.epfl.ch/iiif_impresso_new/BDC-1839-02-28-a-p0002/169,804,63,17/full/0/default.jpg\"/>"
      ],
      "text/plain": [
       "<IPython.core.display.Image object>"
      ]
     },
     "metadata": {},
     "output_type": "display_data"
    },
    {
     "name": "stdout",
     "output_type": "stream",
     "text": [
      "http://dhlabsrv17.epfl.ch/iiif_impresso_new/BDC-1839-02-28-a-p0002/169,804,63,17/full/0/default.jpg\n",
      "-----------------\n",
      "\n",
      "onéreux \t\t\t\t\t// (BDC-1839-03-14-a-p0003) ([74, 740, 71, 21])\n"
     ]
    },
    {
     "data": {
      "text/html": [
       "<img src=\"http://dhlabsrv17.epfl.ch/iiif_impresso/BDC-1839-03-14-a-p0003/74,740,71,21/full/0/default.jpg\"/>"
      ],
      "text/plain": [
       "<IPython.core.display.Image object>"
      ]
     },
     "metadata": {},
     "output_type": "display_data"
    },
    {
     "data": {
      "text/html": [
       "<img src=\"http://dhlabsrv17.epfl.ch/iiif_impresso_new/BDC-1839-03-14-a-p0003/74,740,71,21/full/0/default.jpg\"/>"
      ],
      "text/plain": [
       "<IPython.core.display.Image object>"
      ]
     },
     "metadata": {},
     "output_type": "display_data"
    },
    {
     "name": "stdout",
     "output_type": "stream",
     "text": [
      "http://dhlabsrv17.epfl.ch/iiif_impresso_new/BDC-1839-03-14-a-p0003/74,740,71,21/full/0/default.jpg\n",
      "-----------------\n",
      "\n",
      "terminée \t\t\t\t\t// (BDC-1839-03-14-a-p0003) ([471, 213, 84, 21])\n"
     ]
    },
    {
     "data": {
      "text/html": [
       "<img src=\"http://dhlabsrv17.epfl.ch/iiif_impresso/BDC-1839-03-14-a-p0003/471,213,84,21/full/0/default.jpg\"/>"
      ],
      "text/plain": [
       "<IPython.core.display.Image object>"
      ]
     },
     "metadata": {},
     "output_type": "display_data"
    },
    {
     "data": {
      "text/html": [
       "<img src=\"http://dhlabsrv17.epfl.ch/iiif_impresso_new/BDC-1839-03-14-a-p0003/471,213,84,21/full/0/default.jpg\"/>"
      ],
      "text/plain": [
       "<IPython.core.display.Image object>"
      ]
     },
     "metadata": {},
     "output_type": "display_data"
    },
    {
     "name": "stdout",
     "output_type": "stream",
     "text": [
      "http://dhlabsrv17.epfl.ch/iiif_impresso_new/BDC-1839-03-14-a-p0003/471,213,84,21/full/0/default.jpg\n",
      "-----------------\n",
      "\n",
      "et \t\t\t\t\t// (BDC-1839-01-20-a-p0006) ([827, 159, 14, 19])\n"
     ]
    },
    {
     "data": {
      "text/html": [
       "<img src=\"http://dhlabsrv17.epfl.ch/iiif_impresso/BDC-1839-01-20-a-p0006/827,159,14,19/full/0/default.jpg\"/>"
      ],
      "text/plain": [
       "<IPython.core.display.Image object>"
      ]
     },
     "metadata": {},
     "output_type": "display_data"
    },
    {
     "data": {
      "text/html": [
       "<img src=\"http://dhlabsrv17.epfl.ch/iiif_impresso_new/BDC-1839-01-20-a-p0006/827,159,14,19/full/0/default.jpg\"/>"
      ],
      "text/plain": [
       "<IPython.core.display.Image object>"
      ]
     },
     "metadata": {},
     "output_type": "display_data"
    },
    {
     "name": "stdout",
     "output_type": "stream",
     "text": [
      "http://dhlabsrv17.epfl.ch/iiif_impresso_new/BDC-1839-01-20-a-p0006/827,159,14,19/full/0/default.jpg\n",
      "-----------------\n",
      "\n",
      "d'un \t\t\t\t\t// (BDC-1839-01-20-a-p0006) ([316, 1148, 34, 19])\n"
     ]
    },
    {
     "data": {
      "text/html": [
       "<img src=\"http://dhlabsrv17.epfl.ch/iiif_impresso/BDC-1839-01-20-a-p0006/316,1148,34,19/full/0/default.jpg\"/>"
      ],
      "text/plain": [
       "<IPython.core.display.Image object>"
      ]
     },
     "metadata": {},
     "output_type": "display_data"
    },
    {
     "data": {
      "text/html": [
       "<img src=\"http://dhlabsrv17.epfl.ch/iiif_impresso_new/BDC-1839-01-20-a-p0006/316,1148,34,19/full/0/default.jpg\"/>"
      ],
      "text/plain": [
       "<IPython.core.display.Image object>"
      ]
     },
     "metadata": {},
     "output_type": "display_data"
    },
    {
     "name": "stdout",
     "output_type": "stream",
     "text": [
      "http://dhlabsrv17.epfl.ch/iiif_impresso_new/BDC-1839-01-20-a-p0006/316,1148,34,19/full/0/default.jpg\n",
      "-----------------\n",
      "\n",
      ". \t\t\t\t\t// (BDC-1839-02-23-a-p0002) ([107, 914, 6, 21])\n"
     ]
    },
    {
     "data": {
      "text/html": [
       "<img src=\"http://dhlabsrv17.epfl.ch/iiif_impresso/BDC-1839-02-23-a-p0002/107,914,6,21/full/0/default.jpg\"/>"
      ],
      "text/plain": [
       "<IPython.core.display.Image object>"
      ]
     },
     "metadata": {},
     "output_type": "display_data"
    },
    {
     "data": {
      "text/html": [
       "<img src=\"http://dhlabsrv17.epfl.ch/iiif_impresso_new/BDC-1839-02-23-a-p0002/107,914,6,21/full/0/default.jpg\"/>"
      ],
      "text/plain": [
       "<IPython.core.display.Image object>"
      ]
     },
     "metadata": {},
     "output_type": "display_data"
    },
    {
     "name": "stdout",
     "output_type": "stream",
     "text": [
      "http://dhlabsrv17.epfl.ch/iiif_impresso_new/BDC-1839-02-23-a-p0002/107,914,6,21/full/0/default.jpg\n",
      "-----------------\n",
      "\n",
      "délibérations \t\t\t\t\t// (BDC-1839-02-23-a-p0002) ([179, 595, 129, 21])\n"
     ]
    },
    {
     "data": {
      "text/html": [
       "<img src=\"http://dhlabsrv17.epfl.ch/iiif_impresso/BDC-1839-02-23-a-p0002/179,595,129,21/full/0/default.jpg\"/>"
      ],
      "text/plain": [
       "<IPython.core.display.Image object>"
      ]
     },
     "metadata": {},
     "output_type": "display_data"
    },
    {
     "data": {
      "text/html": [
       "<img src=\"http://dhlabsrv17.epfl.ch/iiif_impresso_new/BDC-1839-02-23-a-p0002/179,595,129,21/full/0/default.jpg\"/>"
      ],
      "text/plain": [
       "<IPython.core.display.Image object>"
      ]
     },
     "metadata": {},
     "output_type": "display_data"
    },
    {
     "name": "stdout",
     "output_type": "stream",
     "text": [
      "http://dhlabsrv17.epfl.ch/iiif_impresso_new/BDC-1839-02-23-a-p0002/179,595,129,21/full/0/default.jpg\n",
      "-----------------\n",
      "\n",
      ". \t\t\t\t\t// (BDC-1839-02-28-a-p0001) ([267, 509, 6, 25])\n"
     ]
    },
    {
     "data": {
      "text/html": [
       "<img src=\"http://dhlabsrv17.epfl.ch/iiif_impresso/BDC-1839-02-28-a-p0001/267,509,6,25/full/0/default.jpg\"/>"
      ],
      "text/plain": [
       "<IPython.core.display.Image object>"
      ]
     },
     "metadata": {},
     "output_type": "display_data"
    },
    {
     "data": {
      "text/html": [
       "<img src=\"http://dhlabsrv17.epfl.ch/iiif_impresso_new/BDC-1839-02-28-a-p0001/267,509,6,25/full/0/default.jpg\"/>"
      ],
      "text/plain": [
       "<IPython.core.display.Image object>"
      ]
     },
     "metadata": {},
     "output_type": "display_data"
    },
    {
     "name": "stdout",
     "output_type": "stream",
     "text": [
      "http://dhlabsrv17.epfl.ch/iiif_impresso_new/BDC-1839-02-28-a-p0001/267,509,6,25/full/0/default.jpg\n",
      "-----------------\n",
      "\n",
      "satis- \t\t\t\t\t// (BDC-1839-02-28-a-p0001) ([413, 852, 45, 19])\n"
     ]
    },
    {
     "data": {
      "text/html": [
       "<img src=\"http://dhlabsrv17.epfl.ch/iiif_impresso/BDC-1839-02-28-a-p0001/413,852,45,19/full/0/default.jpg\"/>"
      ],
      "text/plain": [
       "<IPython.core.display.Image object>"
      ]
     },
     "metadata": {},
     "output_type": "display_data"
    },
    {
     "data": {
      "text/html": [
       "<img src=\"http://dhlabsrv17.epfl.ch/iiif_impresso_new/BDC-1839-02-28-a-p0001/413,852,45,19/full/0/default.jpg\"/>"
      ],
      "text/plain": [
       "<IPython.core.display.Image object>"
      ]
     },
     "metadata": {},
     "output_type": "display_data"
    },
    {
     "name": "stdout",
     "output_type": "stream",
     "text": [
      "http://dhlabsrv17.epfl.ch/iiif_impresso_new/BDC-1839-02-28-a-p0001/413,852,45,19/full/0/default.jpg\n",
      "-----------------\n",
      "\n",
      "but \t\t\t\t\t// (BDC-1839-01-21-a-p0001) ([54, 859, 31, 21])\n"
     ]
    },
    {
     "data": {
      "text/html": [
       "<img src=\"http://dhlabsrv17.epfl.ch/iiif_impresso/BDC-1839-01-21-a-p0001/54,859,31,21/full/0/default.jpg\"/>"
      ],
      "text/plain": [
       "<IPython.core.display.Image object>"
      ]
     },
     "metadata": {},
     "output_type": "display_data"
    },
    {
     "data": {
      "text/html": [
       "<img src=\"http://dhlabsrv17.epfl.ch/iiif_impresso_new/BDC-1839-01-21-a-p0001/54,859,31,21/full/0/default.jpg\"/>"
      ],
      "text/plain": [
       "<IPython.core.display.Image object>"
      ]
     },
     "metadata": {},
     "output_type": "display_data"
    },
    {
     "name": "stdout",
     "output_type": "stream",
     "text": [
      "http://dhlabsrv17.epfl.ch/iiif_impresso_new/BDC-1839-01-21-a-p0001/54,859,31,21/full/0/default.jpg\n",
      "-----------------\n",
      "\n",
      "satisfaire \t\t\t\t\t// (BDC-1839-01-21-a-p0001) ([283, 568, 87, 20])\n"
     ]
    },
    {
     "data": {
      "text/html": [
       "<img src=\"http://dhlabsrv17.epfl.ch/iiif_impresso/BDC-1839-01-21-a-p0001/283,568,87,20/full/0/default.jpg\"/>"
      ],
      "text/plain": [
       "<IPython.core.display.Image object>"
      ]
     },
     "metadata": {},
     "output_type": "display_data"
    },
    {
     "data": {
      "text/html": [
       "<img src=\"http://dhlabsrv17.epfl.ch/iiif_impresso_new/BDC-1839-01-21-a-p0001/283,568,87,20/full/0/default.jpg\"/>"
      ],
      "text/plain": [
       "<IPython.core.display.Image object>"
      ]
     },
     "metadata": {},
     "output_type": "display_data"
    },
    {
     "name": "stdout",
     "output_type": "stream",
     "text": [
      "http://dhlabsrv17.epfl.ch/iiif_impresso_new/BDC-1839-01-21-a-p0001/283,568,87,20/full/0/default.jpg\n",
      "-----------------\n",
      "\n",
      "ne \t\t\t\t\t// (BDC-1839-02-28-a-p0003) ([321, 1201, 18, 17])\n"
     ]
    },
    {
     "data": {
      "text/html": [
       "<img src=\"http://dhlabsrv17.epfl.ch/iiif_impresso/BDC-1839-02-28-a-p0003/321,1201,18,17/full/0/default.jpg\"/>"
      ],
      "text/plain": [
       "<IPython.core.display.Image object>"
      ]
     },
     "metadata": {},
     "output_type": "display_data"
    },
    {
     "data": {
      "text/html": [
       "<img src=\"http://dhlabsrv17.epfl.ch/iiif_impresso_new/BDC-1839-02-28-a-p0003/321,1201,18,17/full/0/default.jpg\"/>"
      ],
      "text/plain": [
       "<IPython.core.display.Image object>"
      ]
     },
     "metadata": {},
     "output_type": "display_data"
    },
    {
     "name": "stdout",
     "output_type": "stream",
     "text": [
      "http://dhlabsrv17.epfl.ch/iiif_impresso_new/BDC-1839-02-28-a-p0003/321,1201,18,17/full/0/default.jpg\n",
      "-----------------\n",
      "\n",
      "constitutionel \t\t\t\t\t// (BDC-1839-02-28-a-p0003) ([526, 645, 113, 17])\n"
     ]
    },
    {
     "data": {
      "text/html": [
       "<img src=\"http://dhlabsrv17.epfl.ch/iiif_impresso/BDC-1839-02-28-a-p0003/526,645,113,17/full/0/default.jpg\"/>"
      ],
      "text/plain": [
       "<IPython.core.display.Image object>"
      ]
     },
     "metadata": {},
     "output_type": "display_data"
    },
    {
     "data": {
      "text/html": [
       "<img src=\"http://dhlabsrv17.epfl.ch/iiif_impresso_new/BDC-1839-02-28-a-p0003/526,645,113,17/full/0/default.jpg\"/>"
      ],
      "text/plain": [
       "<IPython.core.display.Image object>"
      ]
     },
     "metadata": {},
     "output_type": "display_data"
    },
    {
     "name": "stdout",
     "output_type": "stream",
     "text": [
      "http://dhlabsrv17.epfl.ch/iiif_impresso_new/BDC-1839-02-28-a-p0003/526,645,113,17/full/0/default.jpg\n",
      "-----------------\n",
      "\n",
      ". \t\t\t\t\t// (BDC-1839-01-20-a-p0005) ([351, 221, 6, 19])\n"
     ]
    },
    {
     "data": {
      "text/html": [
       "<img src=\"http://dhlabsrv17.epfl.ch/iiif_impresso/BDC-1839-01-20-a-p0005/351,221,6,19/full/0/default.jpg\"/>"
      ],
      "text/plain": [
       "<IPython.core.display.Image object>"
      ]
     },
     "metadata": {},
     "output_type": "display_data"
    },
    {
     "data": {
      "text/html": [
       "<img src=\"http://dhlabsrv17.epfl.ch/iiif_impresso_new/BDC-1839-01-20-a-p0005/351,221,6,19/full/0/default.jpg\"/>"
      ],
      "text/plain": [
       "<IPython.core.display.Image object>"
      ]
     },
     "metadata": {},
     "output_type": "display_data"
    },
    {
     "name": "stdout",
     "output_type": "stream",
     "text": [
      "http://dhlabsrv17.epfl.ch/iiif_impresso_new/BDC-1839-01-20-a-p0005/351,221,6,19/full/0/default.jpg\n",
      "-----------------\n",
      "\n",
      "et \t\t\t\t\t// (BDC-1839-01-20-a-p0005) ([770, 762, 15, 19])\n"
     ]
    },
    {
     "data": {
      "text/html": [
       "<img src=\"http://dhlabsrv17.epfl.ch/iiif_impresso/BDC-1839-01-20-a-p0005/770,762,15,19/full/0/default.jpg\"/>"
      ],
      "text/plain": [
       "<IPython.core.display.Image object>"
      ]
     },
     "metadata": {},
     "output_type": "display_data"
    },
    {
     "data": {
      "text/html": [
       "<img src=\"http://dhlabsrv17.epfl.ch/iiif_impresso_new/BDC-1839-01-20-a-p0005/770,762,15,19/full/0/default.jpg\"/>"
      ],
      "text/plain": [
       "<IPython.core.display.Image object>"
      ]
     },
     "metadata": {},
     "output_type": "display_data"
    },
    {
     "name": "stdout",
     "output_type": "stream",
     "text": [
      "http://dhlabsrv17.epfl.ch/iiif_impresso_new/BDC-1839-01-20-a-p0005/770,762,15,19/full/0/default.jpg\n",
      "-----------------\n",
      "\n",
      "livrai- \t\t\t\t\t// (BDC-1839-01-20-a-p0001) ([853, 1034, 64, 23])\n"
     ]
    },
    {
     "data": {
      "text/html": [
       "<img src=\"http://dhlabsrv17.epfl.ch/iiif_impresso/BDC-1839-01-20-a-p0001/853,1034,64,23/full/0/default.jpg\"/>"
      ],
      "text/plain": [
       "<IPython.core.display.Image object>"
      ]
     },
     "metadata": {},
     "output_type": "display_data"
    },
    {
     "data": {
      "text/html": [
       "<img src=\"http://dhlabsrv17.epfl.ch/iiif_impresso_new/BDC-1839-01-20-a-p0001/853,1034,64,23/full/0/default.jpg\"/>"
      ],
      "text/plain": [
       "<IPython.core.display.Image object>"
      ]
     },
     "metadata": {},
     "output_type": "display_data"
    },
    {
     "name": "stdout",
     "output_type": "stream",
     "text": [
      "http://dhlabsrv17.epfl.ch/iiif_impresso_new/BDC-1839-01-20-a-p0001/853,1034,64,23/full/0/default.jpg\n",
      "-----------------\n",
      "\n",
      "accla- \t\t\t\t\t// (BDC-1839-01-20-a-p0001) ([863, 501, 57, 23])\n"
     ]
    },
    {
     "data": {
      "text/html": [
       "<img src=\"http://dhlabsrv17.epfl.ch/iiif_impresso/BDC-1839-01-20-a-p0001/863,501,57,23/full/0/default.jpg\"/>"
      ],
      "text/plain": [
       "<IPython.core.display.Image object>"
      ]
     },
     "metadata": {},
     "output_type": "display_data"
    },
    {
     "data": {
      "text/html": [
       "<img src=\"http://dhlabsrv17.epfl.ch/iiif_impresso_new/BDC-1839-01-20-a-p0001/863,501,57,23/full/0/default.jpg\"/>"
      ],
      "text/plain": [
       "<IPython.core.display.Image object>"
      ]
     },
     "metadata": {},
     "output_type": "display_data"
    },
    {
     "name": "stdout",
     "output_type": "stream",
     "text": [
      "http://dhlabsrv17.epfl.ch/iiif_impresso_new/BDC-1839-01-20-a-p0001/863,501,57,23/full/0/default.jpg\n",
      "-----------------\n",
      "\n",
      "effrayer \t\t\t\t\t// (BDC-1839-02-25-a-p0004) ([528, 132, 63, 19])\n"
     ]
    },
    {
     "data": {
      "text/html": [
       "<img src=\"http://dhlabsrv17.epfl.ch/iiif_impresso/BDC-1839-02-25-a-p0004/528,132,63,19/full/0/default.jpg\"/>"
      ],
      "text/plain": [
       "<IPython.core.display.Image object>"
      ]
     },
     "metadata": {},
     "output_type": "display_data"
    },
    {
     "data": {
      "text/html": [
       "<img src=\"http://dhlabsrv17.epfl.ch/iiif_impresso_new/BDC-1839-02-25-a-p0004/528,132,63,19/full/0/default.jpg\"/>"
      ],
      "text/plain": [
       "<IPython.core.display.Image object>"
      ]
     },
     "metadata": {},
     "output_type": "display_data"
    },
    {
     "name": "stdout",
     "output_type": "stream",
     "text": [
      "http://dhlabsrv17.epfl.ch/iiif_impresso_new/BDC-1839-02-25-a-p0004/528,132,63,19/full/0/default.jpg\n",
      "-----------------\n",
      "\n",
      "l'honneur \t\t\t\t\t// (BDC-1839-02-25-a-p0004) ([224, 714, 78, 19])\n"
     ]
    },
    {
     "data": {
      "text/html": [
       "<img src=\"http://dhlabsrv17.epfl.ch/iiif_impresso/BDC-1839-02-25-a-p0004/224,714,78,19/full/0/default.jpg\"/>"
      ],
      "text/plain": [
       "<IPython.core.display.Image object>"
      ]
     },
     "metadata": {},
     "output_type": "display_data"
    },
    {
     "data": {
      "text/html": [
       "<img src=\"http://dhlabsrv17.epfl.ch/iiif_impresso_new/BDC-1839-02-25-a-p0004/224,714,78,19/full/0/default.jpg\"/>"
      ],
      "text/plain": [
       "<IPython.core.display.Image object>"
      ]
     },
     "metadata": {},
     "output_type": "display_data"
    },
    {
     "name": "stdout",
     "output_type": "stream",
     "text": [
      "http://dhlabsrv17.epfl.ch/iiif_impresso_new/BDC-1839-02-25-a-p0004/224,714,78,19/full/0/default.jpg\n",
      "-----------------\n",
      "\n",
      "où \t\t\t\t\t// (BDC-1839-02-23-a-p0004) ([142, 504, 20, 19])\n"
     ]
    },
    {
     "data": {
      "text/html": [
       "<img src=\"http://dhlabsrv17.epfl.ch/iiif_impresso/BDC-1839-02-23-a-p0004/142,504,20,19/full/0/default.jpg\"/>"
      ],
      "text/plain": [
       "<IPython.core.display.Image object>"
      ]
     },
     "metadata": {},
     "output_type": "display_data"
    },
    {
     "data": {
      "text/html": [
       "<img src=\"http://dhlabsrv17.epfl.ch/iiif_impresso_new/BDC-1839-02-23-a-p0004/142,504,20,19/full/0/default.jpg\"/>"
      ],
      "text/plain": [
       "<IPython.core.display.Image object>"
      ]
     },
     "metadata": {},
     "output_type": "display_data"
    },
    {
     "name": "stdout",
     "output_type": "stream",
     "text": [
      "http://dhlabsrv17.epfl.ch/iiif_impresso_new/BDC-1839-02-23-a-p0004/142,504,20,19/full/0/default.jpg\n",
      "-----------------\n",
      "\n",
      "cette \t\t\t\t\t// (BDC-1839-02-23-a-p0004) ([350, 282, 39, 19])\n"
     ]
    },
    {
     "data": {
      "text/html": [
       "<img src=\"http://dhlabsrv17.epfl.ch/iiif_impresso/BDC-1839-02-23-a-p0004/350,282,39,19/full/0/default.jpg\"/>"
      ],
      "text/plain": [
       "<IPython.core.display.Image object>"
      ]
     },
     "metadata": {},
     "output_type": "display_data"
    },
    {
     "data": {
      "text/html": [
       "<img src=\"http://dhlabsrv17.epfl.ch/iiif_impresso_new/BDC-1839-02-23-a-p0004/350,282,39,19/full/0/default.jpg\"/>"
      ],
      "text/plain": [
       "<IPython.core.display.Image object>"
      ]
     },
     "metadata": {},
     "output_type": "display_data"
    },
    {
     "name": "stdout",
     "output_type": "stream",
     "text": [
      "http://dhlabsrv17.epfl.ch/iiif_impresso_new/BDC-1839-02-23-a-p0004/350,282,39,19/full/0/default.jpg\n",
      "-----------------\n",
      "\n",
      "du \t\t\t\t\t// (BDC-1839-02-23-a-p0002) ([319, 224, 22, 21])\n"
     ]
    },
    {
     "data": {
      "text/html": [
       "<img src=\"http://dhlabsrv17.epfl.ch/iiif_impresso/BDC-1839-02-23-a-p0002/319,224,22,21/full/0/default.jpg\"/>"
      ],
      "text/plain": [
       "<IPython.core.display.Image object>"
      ]
     },
     "metadata": {},
     "output_type": "display_data"
    },
    {
     "data": {
      "text/html": [
       "<img src=\"http://dhlabsrv17.epfl.ch/iiif_impresso_new/BDC-1839-02-23-a-p0002/319,224,22,21/full/0/default.jpg\"/>"
      ],
      "text/plain": [
       "<IPython.core.display.Image object>"
      ]
     },
     "metadata": {},
     "output_type": "display_data"
    },
    {
     "name": "stdout",
     "output_type": "stream",
     "text": [
      "http://dhlabsrv17.epfl.ch/iiif_impresso_new/BDC-1839-02-23-a-p0002/319,224,22,21/full/0/default.jpg\n",
      "-----------------\n",
      "\n",
      "dis- \t\t\t\t\t// (BDC-1839-02-23-a-p0002) ([902, 767, 36, 21])\n"
     ]
    },
    {
     "data": {
      "text/html": [
       "<img src=\"http://dhlabsrv17.epfl.ch/iiif_impresso/BDC-1839-02-23-a-p0002/902,767,36,21/full/0/default.jpg\"/>"
      ],
      "text/plain": [
       "<IPython.core.display.Image object>"
      ]
     },
     "metadata": {},
     "output_type": "display_data"
    },
    {
     "data": {
      "text/html": [
       "<img src=\"http://dhlabsrv17.epfl.ch/iiif_impresso_new/BDC-1839-02-23-a-p0002/902,767,36,21/full/0/default.jpg\"/>"
      ],
      "text/plain": [
       "<IPython.core.display.Image object>"
      ]
     },
     "metadata": {},
     "output_type": "display_data"
    },
    {
     "name": "stdout",
     "output_type": "stream",
     "text": [
      "http://dhlabsrv17.epfl.ch/iiif_impresso_new/BDC-1839-02-23-a-p0002/902,767,36,21/full/0/default.jpg\n",
      "-----------------\n",
      "\n",
      "Constituante \t\t\t\t\t// (BDC-1839-01-20-a-p0001) ([342, 681, 124, 22])\n"
     ]
    },
    {
     "data": {
      "text/html": [
       "<img src=\"http://dhlabsrv17.epfl.ch/iiif_impresso/BDC-1839-01-20-a-p0001/342,681,124,22/full/0/default.jpg\"/>"
      ],
      "text/plain": [
       "<IPython.core.display.Image object>"
      ]
     },
     "metadata": {},
     "output_type": "display_data"
    },
    {
     "data": {
      "text/html": [
       "<img src=\"http://dhlabsrv17.epfl.ch/iiif_impresso_new/BDC-1839-01-20-a-p0001/342,681,124,22/full/0/default.jpg\"/>"
      ],
      "text/plain": [
       "<IPython.core.display.Image object>"
      ]
     },
     "metadata": {},
     "output_type": "display_data"
    },
    {
     "name": "stdout",
     "output_type": "stream",
     "text": [
      "http://dhlabsrv17.epfl.ch/iiif_impresso_new/BDC-1839-01-20-a-p0001/342,681,124,22/full/0/default.jpg\n",
      "-----------------\n",
      "\n",
      "ment \t\t\t\t\t// (BDC-1839-01-20-a-p0001) ([29, 738, 49, 23])\n"
     ]
    },
    {
     "data": {
      "text/html": [
       "<img src=\"http://dhlabsrv17.epfl.ch/iiif_impresso/BDC-1839-01-20-a-p0001/29,738,49,23/full/0/default.jpg\"/>"
      ],
      "text/plain": [
       "<IPython.core.display.Image object>"
      ]
     },
     "metadata": {},
     "output_type": "display_data"
    },
    {
     "data": {
      "text/html": [
       "<img src=\"http://dhlabsrv17.epfl.ch/iiif_impresso_new/BDC-1839-01-20-a-p0001/29,738,49,23/full/0/default.jpg\"/>"
      ],
      "text/plain": [
       "<IPython.core.display.Image object>"
      ]
     },
     "metadata": {},
     "output_type": "display_data"
    },
    {
     "name": "stdout",
     "output_type": "stream",
     "text": [
      "http://dhlabsrv17.epfl.ch/iiif_impresso_new/BDC-1839-01-20-a-p0001/29,738,49,23/full/0/default.jpg\n",
      "-----------------\n",
      "\n",
      "de \t\t\t\t\t// (BDC-1839-02-28-a-p0002) ([662, 967, 18, 18])\n"
     ]
    },
    {
     "data": {
      "text/html": [
       "<img src=\"http://dhlabsrv17.epfl.ch/iiif_impresso/BDC-1839-02-28-a-p0002/662,967,18,18/full/0/default.jpg\"/>"
      ],
      "text/plain": [
       "<IPython.core.display.Image object>"
      ]
     },
     "metadata": {},
     "output_type": "display_data"
    },
    {
     "data": {
      "text/html": [
       "<img src=\"http://dhlabsrv17.epfl.ch/iiif_impresso_new/BDC-1839-02-28-a-p0002/662,967,18,18/full/0/default.jpg\"/>"
      ],
      "text/plain": [
       "<IPython.core.display.Image object>"
      ]
     },
     "metadata": {},
     "output_type": "display_data"
    },
    {
     "name": "stdout",
     "output_type": "stream",
     "text": [
      "http://dhlabsrv17.epfl.ch/iiif_impresso_new/BDC-1839-02-28-a-p0002/662,967,18,18/full/0/default.jpg\n",
      "-----------------\n",
      "\n",
      "quelle \t\t\t\t\t// (BDC-1839-02-28-a-p0002) ([503, 361, 49, 17])\n"
     ]
    },
    {
     "data": {
      "text/html": [
       "<img src=\"http://dhlabsrv17.epfl.ch/iiif_impresso/BDC-1839-02-28-a-p0002/503,361,49,17/full/0/default.jpg\"/>"
      ],
      "text/plain": [
       "<IPython.core.display.Image object>"
      ]
     },
     "metadata": {},
     "output_type": "display_data"
    },
    {
     "data": {
      "text/html": [
       "<img src=\"http://dhlabsrv17.epfl.ch/iiif_impresso_new/BDC-1839-02-28-a-p0002/503,361,49,17/full/0/default.jpg\"/>"
      ],
      "text/plain": [
       "<IPython.core.display.Image object>"
      ]
     },
     "metadata": {},
     "output_type": "display_data"
    },
    {
     "name": "stdout",
     "output_type": "stream",
     "text": [
      "http://dhlabsrv17.epfl.ch/iiif_impresso_new/BDC-1839-02-28-a-p0002/503,361,49,17/full/0/default.jpg\n",
      "-----------------\n",
      "\n",
      "qui \t\t\t\t\t// (BDC-1839-02-28-a-p0002) ([690, 947, 26, 17])\n"
     ]
    },
    {
     "data": {
      "text/html": [
       "<img src=\"http://dhlabsrv17.epfl.ch/iiif_impresso/BDC-1839-02-28-a-p0002/690,947,26,17/full/0/default.jpg\"/>"
      ],
      "text/plain": [
       "<IPython.core.display.Image object>"
      ]
     },
     "metadata": {},
     "output_type": "display_data"
    },
    {
     "data": {
      "text/html": [
       "<img src=\"http://dhlabsrv17.epfl.ch/iiif_impresso_new/BDC-1839-02-28-a-p0002/690,947,26,17/full/0/default.jpg\"/>"
      ],
      "text/plain": [
       "<IPython.core.display.Image object>"
      ]
     },
     "metadata": {},
     "output_type": "display_data"
    },
    {
     "name": "stdout",
     "output_type": "stream",
     "text": [
      "http://dhlabsrv17.epfl.ch/iiif_impresso_new/BDC-1839-02-28-a-p0002/690,947,26,17/full/0/default.jpg\n",
      "-----------------\n",
      "\n",
      "financière \t\t\t\t\t// (BDC-1839-02-28-a-p0002) ([641, 249, 71, 17])\n"
     ]
    },
    {
     "data": {
      "text/html": [
       "<img src=\"http://dhlabsrv17.epfl.ch/iiif_impresso/BDC-1839-02-28-a-p0002/641,249,71,17/full/0/default.jpg\"/>"
      ],
      "text/plain": [
       "<IPython.core.display.Image object>"
      ]
     },
     "metadata": {},
     "output_type": "display_data"
    },
    {
     "data": {
      "text/html": [
       "<img src=\"http://dhlabsrv17.epfl.ch/iiif_impresso_new/BDC-1839-02-28-a-p0002/641,249,71,17/full/0/default.jpg\"/>"
      ],
      "text/plain": [
       "<IPython.core.display.Image object>"
      ]
     },
     "metadata": {},
     "output_type": "display_data"
    },
    {
     "name": "stdout",
     "output_type": "stream",
     "text": [
      "http://dhlabsrv17.epfl.ch/iiif_impresso_new/BDC-1839-02-28-a-p0002/641,249,71,17/full/0/default.jpg\n",
      "-----------------\n",
      "\n",
      ", \t\t\t\t\t// (BDC-1839-01-20-a-p0006) ([841, 417, 6, 24])\n"
     ]
    },
    {
     "data": {
      "text/html": [
       "<img src=\"http://dhlabsrv17.epfl.ch/iiif_impresso/BDC-1839-01-20-a-p0006/841,417,6,24/full/0/default.jpg\"/>"
      ],
      "text/plain": [
       "<IPython.core.display.Image object>"
      ]
     },
     "metadata": {},
     "output_type": "display_data"
    },
    {
     "data": {
      "text/html": [
       "<img src=\"http://dhlabsrv17.epfl.ch/iiif_impresso_new/BDC-1839-01-20-a-p0006/841,417,6,24/full/0/default.jpg\"/>"
      ],
      "text/plain": [
       "<IPython.core.display.Image object>"
      ]
     },
     "metadata": {},
     "output_type": "display_data"
    },
    {
     "name": "stdout",
     "output_type": "stream",
     "text": [
      "http://dhlabsrv17.epfl.ch/iiif_impresso_new/BDC-1839-01-20-a-p0006/841,417,6,24/full/0/default.jpg\n",
      "-----------------\n",
      "\n",
      "conditions \t\t\t\t\t// (BDC-1839-01-20-a-p0006) ([778, 209, 87, 19])\n"
     ]
    },
    {
     "data": {
      "text/html": [
       "<img src=\"http://dhlabsrv17.epfl.ch/iiif_impresso/BDC-1839-01-20-a-p0006/778,209,87,19/full/0/default.jpg\"/>"
      ],
      "text/plain": [
       "<IPython.core.display.Image object>"
      ]
     },
     "metadata": {},
     "output_type": "display_data"
    },
    {
     "data": {
      "text/html": [
       "<img src=\"http://dhlabsrv17.epfl.ch/iiif_impresso_new/BDC-1839-01-20-a-p0006/778,209,87,19/full/0/default.jpg\"/>"
      ],
      "text/plain": [
       "<IPython.core.display.Image object>"
      ]
     },
     "metadata": {},
     "output_type": "display_data"
    },
    {
     "name": "stdout",
     "output_type": "stream",
     "text": [
      "http://dhlabsrv17.epfl.ch/iiif_impresso_new/BDC-1839-01-20-a-p0006/778,209,87,19/full/0/default.jpg\n",
      "-----------------\n",
      "\n",
      "venu \t\t\t\t\t// (BDC-1839-03-14-a-p0004) ([380, 890, 37, 17])\n"
     ]
    },
    {
     "data": {
      "text/html": [
       "<img src=\"http://dhlabsrv17.epfl.ch/iiif_impresso/BDC-1839-03-14-a-p0004/380,890,37,17/full/0/default.jpg\"/>"
      ],
      "text/plain": [
       "<IPython.core.display.Image object>"
      ]
     },
     "metadata": {},
     "output_type": "display_data"
    },
    {
     "data": {
      "text/html": [
       "<img src=\"http://dhlabsrv17.epfl.ch/iiif_impresso_new/BDC-1839-03-14-a-p0004/380,890,37,17/full/0/default.jpg\"/>"
      ],
      "text/plain": [
       "<IPython.core.display.Image object>"
      ]
     },
     "metadata": {},
     "output_type": "display_data"
    },
    {
     "name": "stdout",
     "output_type": "stream",
     "text": [
      "http://dhlabsrv17.epfl.ch/iiif_impresso_new/BDC-1839-03-14-a-p0004/380,890,37,17/full/0/default.jpg\n",
      "-----------------\n",
      "\n",
      "bien \t\t\t\t\t// (BDC-1839-03-14-a-p0004) ([308, 971, 33, 17])\n"
     ]
    },
    {
     "data": {
      "text/html": [
       "<img src=\"http://dhlabsrv17.epfl.ch/iiif_impresso/BDC-1839-03-14-a-p0004/308,971,33,17/full/0/default.jpg\"/>"
      ],
      "text/plain": [
       "<IPython.core.display.Image object>"
      ]
     },
     "metadata": {},
     "output_type": "display_data"
    },
    {
     "data": {
      "text/html": [
       "<img src=\"http://dhlabsrv17.epfl.ch/iiif_impresso_new/BDC-1839-03-14-a-p0004/308,971,33,17/full/0/default.jpg\"/>"
      ],
      "text/plain": [
       "<IPython.core.display.Image object>"
      ]
     },
     "metadata": {},
     "output_type": "display_data"
    },
    {
     "name": "stdout",
     "output_type": "stream",
     "text": [
      "http://dhlabsrv17.epfl.ch/iiif_impresso_new/BDC-1839-03-14-a-p0004/308,971,33,17/full/0/default.jpg\n",
      "-----------------\n",
      "\n",
      "deux \t\t\t\t\t// (BDC-1839-02-28-a-p0003) ([503, 882, 37, 17])\n"
     ]
    },
    {
     "data": {
      "text/html": [
       "<img src=\"http://dhlabsrv17.epfl.ch/iiif_impresso/BDC-1839-02-28-a-p0003/503,882,37,17/full/0/default.jpg\"/>"
      ],
      "text/plain": [
       "<IPython.core.display.Image object>"
      ]
     },
     "metadata": {},
     "output_type": "display_data"
    },
    {
     "data": {
      "text/html": [
       "<img src=\"http://dhlabsrv17.epfl.ch/iiif_impresso_new/BDC-1839-02-28-a-p0003/503,882,37,17/full/0/default.jpg\"/>"
      ],
      "text/plain": [
       "<IPython.core.display.Image object>"
      ]
     },
     "metadata": {},
     "output_type": "display_data"
    },
    {
     "name": "stdout",
     "output_type": "stream",
     "text": [
      "http://dhlabsrv17.epfl.ch/iiif_impresso_new/BDC-1839-02-28-a-p0003/503,882,37,17/full/0/default.jpg\n",
      "-----------------\n",
      "\n",
      "une \t\t\t\t\t// (BDC-1839-02-28-a-p0003) ([475, 150, 27, 17])\n"
     ]
    },
    {
     "data": {
      "text/html": [
       "<img src=\"http://dhlabsrv17.epfl.ch/iiif_impresso/BDC-1839-02-28-a-p0003/475,150,27,17/full/0/default.jpg\"/>"
      ],
      "text/plain": [
       "<IPython.core.display.Image object>"
      ]
     },
     "metadata": {},
     "output_type": "display_data"
    },
    {
     "data": {
      "text/html": [
       "<img src=\"http://dhlabsrv17.epfl.ch/iiif_impresso_new/BDC-1839-02-28-a-p0003/475,150,27,17/full/0/default.jpg\"/>"
      ],
      "text/plain": [
       "<IPython.core.display.Image object>"
      ]
     },
     "metadata": {},
     "output_type": "display_data"
    },
    {
     "name": "stdout",
     "output_type": "stream",
     "text": [
      "http://dhlabsrv17.epfl.ch/iiif_impresso_new/BDC-1839-02-28-a-p0003/475,150,27,17/full/0/default.jpg\n",
      "-----------------\n",
      "\n",
      "décision \t\t\t\t\t// (BDC-1839-01-21-a-p0002) ([386, 484, 67, 17])\n"
     ]
    },
    {
     "data": {
      "text/html": [
       "<img src=\"http://dhlabsrv17.epfl.ch/iiif_impresso/BDC-1839-01-21-a-p0002/386,484,67,17/full/0/default.jpg\"/>"
      ],
      "text/plain": [
       "<IPython.core.display.Image object>"
      ]
     },
     "metadata": {},
     "output_type": "display_data"
    },
    {
     "data": {
      "text/html": [
       "<img src=\"http://dhlabsrv17.epfl.ch/iiif_impresso_new/BDC-1839-01-21-a-p0002/386,484,67,17/full/0/default.jpg\"/>"
      ],
      "text/plain": [
       "<IPython.core.display.Image object>"
      ]
     },
     "metadata": {},
     "output_type": "display_data"
    },
    {
     "name": "stdout",
     "output_type": "stream",
     "text": [
      "http://dhlabsrv17.epfl.ch/iiif_impresso_new/BDC-1839-01-21-a-p0002/386,484,67,17/full/0/default.jpg\n",
      "-----------------\n",
      "\n",
      "aiwc \t\t\t\t\t// (BDC-1839-01-21-a-p0002) ([903, 1001, 30, 17])\n"
     ]
    },
    {
     "data": {
      "text/html": [
       "<img src=\"http://dhlabsrv17.epfl.ch/iiif_impresso/BDC-1839-01-21-a-p0002/903,1001,30,17/full/0/default.jpg\"/>"
      ],
      "text/plain": [
       "<IPython.core.display.Image object>"
      ]
     },
     "metadata": {},
     "output_type": "display_data"
    },
    {
     "data": {
      "text/html": [
       "<img src=\"http://dhlabsrv17.epfl.ch/iiif_impresso_new/BDC-1839-01-21-a-p0002/903,1001,30,17/full/0/default.jpg\"/>"
      ],
      "text/plain": [
       "<IPython.core.display.Image object>"
      ]
     },
     "metadata": {},
     "output_type": "display_data"
    },
    {
     "name": "stdout",
     "output_type": "stream",
     "text": [
      "http://dhlabsrv17.epfl.ch/iiif_impresso_new/BDC-1839-01-21-a-p0002/903,1001,30,17/full/0/default.jpg\n",
      "-----------------\n",
      "\n",
      "la \t\t\t\t\t// (BDC-1839-03-14-a-p0003) ([336, 667, 17, 20])\n"
     ]
    },
    {
     "data": {
      "text/html": [
       "<img src=\"http://dhlabsrv17.epfl.ch/iiif_impresso/BDC-1839-03-14-a-p0003/336,667,17,20/full/0/default.jpg\"/>"
      ],
      "text/plain": [
       "<IPython.core.display.Image object>"
      ]
     },
     "metadata": {},
     "output_type": "display_data"
    },
    {
     "data": {
      "text/html": [
       "<img src=\"http://dhlabsrv17.epfl.ch/iiif_impresso_new/BDC-1839-03-14-a-p0003/336,667,17,20/full/0/default.jpg\"/>"
      ],
      "text/plain": [
       "<IPython.core.display.Image object>"
      ]
     },
     "metadata": {},
     "output_type": "display_data"
    },
    {
     "name": "stdout",
     "output_type": "stream",
     "text": [
      "http://dhlabsrv17.epfl.ch/iiif_impresso_new/BDC-1839-03-14-a-p0003/336,667,17,20/full/0/default.jpg\n",
      "-----------------\n",
      "\n",
      "ces \t\t\t\t\t// (BDC-1839-03-14-a-p0003) ([644, 536, 29, 21])\n"
     ]
    },
    {
     "data": {
      "text/html": [
       "<img src=\"http://dhlabsrv17.epfl.ch/iiif_impresso/BDC-1839-03-14-a-p0003/644,536,29,21/full/0/default.jpg\"/>"
      ],
      "text/plain": [
       "<IPython.core.display.Image object>"
      ]
     },
     "metadata": {},
     "output_type": "display_data"
    },
    {
     "data": {
      "text/html": [
       "<img src=\"http://dhlabsrv17.epfl.ch/iiif_impresso_new/BDC-1839-03-14-a-p0003/644,536,29,21/full/0/default.jpg\"/>"
      ],
      "text/plain": [
       "<IPython.core.display.Image object>"
      ]
     },
     "metadata": {},
     "output_type": "display_data"
    },
    {
     "name": "stdout",
     "output_type": "stream",
     "text": [
      "http://dhlabsrv17.epfl.ch/iiif_impresso_new/BDC-1839-03-14-a-p0003/644,536,29,21/full/0/default.jpg\n",
      "-----------------\n",
      "\n",
      "traité \t\t\t\t\t// (BDC-1839-02-28-a-p0001) ([519, 719, 44, 19])\n"
     ]
    },
    {
     "data": {
      "text/html": [
       "<img src=\"http://dhlabsrv17.epfl.ch/iiif_impresso/BDC-1839-02-28-a-p0001/519,719,44,19/full/0/default.jpg\"/>"
      ],
      "text/plain": [
       "<IPython.core.display.Image object>"
      ]
     },
     "metadata": {},
     "output_type": "display_data"
    },
    {
     "data": {
      "text/html": [
       "<img src=\"http://dhlabsrv17.epfl.ch/iiif_impresso_new/BDC-1839-02-28-a-p0001/519,719,44,19/full/0/default.jpg\"/>"
      ],
      "text/plain": [
       "<IPython.core.display.Image object>"
      ]
     },
     "metadata": {},
     "output_type": "display_data"
    },
    {
     "name": "stdout",
     "output_type": "stream",
     "text": [
      "http://dhlabsrv17.epfl.ch/iiif_impresso_new/BDC-1839-02-28-a-p0001/519,719,44,19/full/0/default.jpg\n",
      "-----------------\n",
      "\n",
      "déclare \t\t\t\t\t// (BDC-1839-02-28-a-p0001) ([640, 791, 59, 19])\n"
     ]
    },
    {
     "data": {
      "text/html": [
       "<img src=\"http://dhlabsrv17.epfl.ch/iiif_impresso/BDC-1839-02-28-a-p0001/640,791,59,19/full/0/default.jpg\"/>"
      ],
      "text/plain": [
       "<IPython.core.display.Image object>"
      ]
     },
     "metadata": {},
     "output_type": "display_data"
    },
    {
     "data": {
      "text/html": [
       "<img src=\"http://dhlabsrv17.epfl.ch/iiif_impresso_new/BDC-1839-02-28-a-p0001/640,791,59,19/full/0/default.jpg\"/>"
      ],
      "text/plain": [
       "<IPython.core.display.Image object>"
      ]
     },
     "metadata": {},
     "output_type": "display_data"
    },
    {
     "name": "stdout",
     "output_type": "stream",
     "text": [
      "http://dhlabsrv17.epfl.ch/iiif_impresso_new/BDC-1839-02-28-a-p0001/640,791,59,19/full/0/default.jpg\n",
      "-----------------\n",
      "\n",
      "être \t\t\t\t\t// (BDC-1839-02-28-a-p0003) ([261, 451, 31, 17])\n"
     ]
    },
    {
     "data": {
      "text/html": [
       "<img src=\"http://dhlabsrv17.epfl.ch/iiif_impresso/BDC-1839-02-28-a-p0003/261,451,31,17/full/0/default.jpg\"/>"
      ],
      "text/plain": [
       "<IPython.core.display.Image object>"
      ]
     },
     "metadata": {},
     "output_type": "display_data"
    },
    {
     "data": {
      "text/html": [
       "<img src=\"http://dhlabsrv17.epfl.ch/iiif_impresso_new/BDC-1839-02-28-a-p0003/261,451,31,17/full/0/default.jpg\"/>"
      ],
      "text/plain": [
       "<IPython.core.display.Image object>"
      ]
     },
     "metadata": {},
     "output_type": "display_data"
    },
    {
     "name": "stdout",
     "output_type": "stream",
     "text": [
      "http://dhlabsrv17.epfl.ch/iiif_impresso_new/BDC-1839-02-28-a-p0003/261,451,31,17/full/0/default.jpg\n",
      "-----------------\n",
      "\n",
      "de \t\t\t\t\t// (BDC-1839-02-28-a-p0003) ([90, 1201, 18, 17])\n"
     ]
    },
    {
     "data": {
      "text/html": [
       "<img src=\"http://dhlabsrv17.epfl.ch/iiif_impresso/BDC-1839-02-28-a-p0003/90,1201,18,17/full/0/default.jpg\"/>"
      ],
      "text/plain": [
       "<IPython.core.display.Image object>"
      ]
     },
     "metadata": {},
     "output_type": "display_data"
    },
    {
     "data": {
      "text/html": [
       "<img src=\"http://dhlabsrv17.epfl.ch/iiif_impresso_new/BDC-1839-02-28-a-p0003/90,1201,18,17/full/0/default.jpg\"/>"
      ],
      "text/plain": [
       "<IPython.core.display.Image object>"
      ]
     },
     "metadata": {},
     "output_type": "display_data"
    },
    {
     "name": "stdout",
     "output_type": "stream",
     "text": [
      "http://dhlabsrv17.epfl.ch/iiif_impresso_new/BDC-1839-02-28-a-p0003/90,1201,18,17/full/0/default.jpg\n",
      "-----------------\n",
      "\n",
      "dixains \t\t\t\t\t// (BDC-1839-02-23-a-p0003) ([696, 144, 61, 19])\n"
     ]
    },
    {
     "data": {
      "text/html": [
       "<img src=\"http://dhlabsrv17.epfl.ch/iiif_impresso/BDC-1839-02-23-a-p0003/696,144,61,19/full/0/default.jpg\"/>"
      ],
      "text/plain": [
       "<IPython.core.display.Image object>"
      ]
     },
     "metadata": {},
     "output_type": "display_data"
    },
    {
     "data": {
      "text/html": [
       "<img src=\"http://dhlabsrv17.epfl.ch/iiif_impresso_new/BDC-1839-02-23-a-p0003/696,144,61,19/full/0/default.jpg\"/>"
      ],
      "text/plain": [
       "<IPython.core.display.Image object>"
      ]
     },
     "metadata": {},
     "output_type": "display_data"
    },
    {
     "name": "stdout",
     "output_type": "stream",
     "text": [
      "http://dhlabsrv17.epfl.ch/iiif_impresso_new/BDC-1839-02-23-a-p0003/696,144,61,19/full/0/default.jpg\n",
      "-----------------\n",
      "\n",
      "février \t\t\t\t\t// (BDC-1839-02-23-a-p0003) ([704, 1111, 72, 25])\n"
     ]
    },
    {
     "data": {
      "text/html": [
       "<img src=\"http://dhlabsrv17.epfl.ch/iiif_impresso/BDC-1839-02-23-a-p0003/704,1111,72,25/full/0/default.jpg\"/>"
      ],
      "text/plain": [
       "<IPython.core.display.Image object>"
      ]
     },
     "metadata": {},
     "output_type": "display_data"
    },
    {
     "data": {
      "text/html": [
       "<img src=\"http://dhlabsrv17.epfl.ch/iiif_impresso_new/BDC-1839-02-23-a-p0003/704,1111,72,25/full/0/default.jpg\"/>"
      ],
      "text/plain": [
       "<IPython.core.display.Image object>"
      ]
     },
     "metadata": {},
     "output_type": "display_data"
    },
    {
     "name": "stdout",
     "output_type": "stream",
     "text": [
      "http://dhlabsrv17.epfl.ch/iiif_impresso_new/BDC-1839-02-23-a-p0003/704,1111,72,25/full/0/default.jpg\n",
      "-----------------\n",
      "\n",
      "sera \t\t\t\t\t// (BDC-1839-02-23-a-p0003) ([864, 955, 34, 19])\n"
     ]
    },
    {
     "data": {
      "text/html": [
       "<img src=\"http://dhlabsrv17.epfl.ch/iiif_impresso/BDC-1839-02-23-a-p0003/864,955,34,19/full/0/default.jpg\"/>"
      ],
      "text/plain": [
       "<IPython.core.display.Image object>"
      ]
     },
     "metadata": {},
     "output_type": "display_data"
    },
    {
     "data": {
      "text/html": [
       "<img src=\"http://dhlabsrv17.epfl.ch/iiif_impresso_new/BDC-1839-02-23-a-p0003/864,955,34,19/full/0/default.jpg\"/>"
      ],
      "text/plain": [
       "<IPython.core.display.Image object>"
      ]
     },
     "metadata": {},
     "output_type": "display_data"
    },
    {
     "name": "stdout",
     "output_type": "stream",
     "text": [
      "http://dhlabsrv17.epfl.ch/iiif_impresso_new/BDC-1839-02-23-a-p0003/864,955,34,19/full/0/default.jpg\n",
      "-----------------\n",
      "\n",
      "à \t\t\t\t\t// (BDC-1839-02-23-a-p0003) ([416, 778, 8, 19])\n"
     ]
    },
    {
     "data": {
      "text/html": [
       "<img src=\"http://dhlabsrv17.epfl.ch/iiif_impresso/BDC-1839-02-23-a-p0003/416,778,8,19/full/0/default.jpg\"/>"
      ],
      "text/plain": [
       "<IPython.core.display.Image object>"
      ]
     },
     "metadata": {},
     "output_type": "display_data"
    },
    {
     "data": {
      "text/html": [
       "<img src=\"http://dhlabsrv17.epfl.ch/iiif_impresso_new/BDC-1839-02-23-a-p0003/416,778,8,19/full/0/default.jpg\"/>"
      ],
      "text/plain": [
       "<IPython.core.display.Image object>"
      ]
     },
     "metadata": {},
     "output_type": "display_data"
    },
    {
     "name": "stdout",
     "output_type": "stream",
     "text": [
      "http://dhlabsrv17.epfl.ch/iiif_impresso_new/BDC-1839-02-23-a-p0003/416,778,8,19/full/0/default.jpg\n",
      "-----------------\n",
      "\n",
      "février \t\t\t\t\t// (BDC-1839-02-25-a-p0001) ([307, 732, 57, 19])\n"
     ]
    },
    {
     "data": {
      "text/html": [
       "<img src=\"http://dhlabsrv17.epfl.ch/iiif_impresso/BDC-1839-02-25-a-p0001/307,732,57,19/full/0/default.jpg\"/>"
      ],
      "text/plain": [
       "<IPython.core.display.Image object>"
      ]
     },
     "metadata": {},
     "output_type": "display_data"
    },
    {
     "data": {
      "text/html": [
       "<img src=\"http://dhlabsrv17.epfl.ch/iiif_impresso_new/BDC-1839-02-25-a-p0001/307,732,57,19/full/0/default.jpg\"/>"
      ],
      "text/plain": [
       "<IPython.core.display.Image object>"
      ]
     },
     "metadata": {},
     "output_type": "display_data"
    },
    {
     "name": "stdout",
     "output_type": "stream",
     "text": [
      "http://dhlabsrv17.epfl.ch/iiif_impresso_new/BDC-1839-02-25-a-p0001/307,732,57,19/full/0/default.jpg\n",
      "-----------------\n",
      "\n",
      ". \t\t\t\t\t// (BDC-1839-02-25-a-p0001) ([615, 533, 5, 19])\n"
     ]
    },
    {
     "data": {
      "text/html": [
       "<img src=\"http://dhlabsrv17.epfl.ch/iiif_impresso/BDC-1839-02-25-a-p0001/615,533,5,19/full/0/default.jpg\"/>"
      ],
      "text/plain": [
       "<IPython.core.display.Image object>"
      ]
     },
     "metadata": {},
     "output_type": "display_data"
    },
    {
     "data": {
      "text/html": [
       "<img src=\"http://dhlabsrv17.epfl.ch/iiif_impresso_new/BDC-1839-02-25-a-p0001/615,533,5,19/full/0/default.jpg\"/>"
      ],
      "text/plain": [
       "<IPython.core.display.Image object>"
      ]
     },
     "metadata": {},
     "output_type": "display_data"
    },
    {
     "name": "stdout",
     "output_type": "stream",
     "text": [
      "http://dhlabsrv17.epfl.ch/iiif_impresso_new/BDC-1839-02-25-a-p0001/615,533,5,19/full/0/default.jpg\n",
      "-----------------\n",
      "\n",
      "tions \t\t\t\t\t// (BDC-1839-03-14-a-p0001) ([472, 691, 47, 20])\n"
     ]
    },
    {
     "data": {
      "text/html": [
       "<img src=\"http://dhlabsrv17.epfl.ch/iiif_impresso/BDC-1839-03-14-a-p0001/472,691,47,20/full/0/default.jpg\"/>"
      ],
      "text/plain": [
       "<IPython.core.display.Image object>"
      ]
     },
     "metadata": {},
     "output_type": "display_data"
    },
    {
     "data": {
      "text/html": [
       "<img src=\"http://dhlabsrv17.epfl.ch/iiif_impresso_new/BDC-1839-03-14-a-p0001/472,691,47,20/full/0/default.jpg\"/>"
      ],
      "text/plain": [
       "<IPython.core.display.Image object>"
      ]
     },
     "metadata": {},
     "output_type": "display_data"
    },
    {
     "name": "stdout",
     "output_type": "stream",
     "text": [
      "http://dhlabsrv17.epfl.ch/iiif_impresso_new/BDC-1839-03-14-a-p0001/472,691,47,20/full/0/default.jpg\n",
      "-----------------\n",
      "\n",
      "pied \t\t\t\t\t// (BDC-1839-03-14-a-p0001) ([142, 1234, 41, 21])\n"
     ]
    },
    {
     "data": {
      "text/html": [
       "<img src=\"http://dhlabsrv17.epfl.ch/iiif_impresso/BDC-1839-03-14-a-p0001/142,1234,41,21/full/0/default.jpg\"/>"
      ],
      "text/plain": [
       "<IPython.core.display.Image object>"
      ]
     },
     "metadata": {},
     "output_type": "display_data"
    },
    {
     "data": {
      "text/html": [
       "<img src=\"http://dhlabsrv17.epfl.ch/iiif_impresso_new/BDC-1839-03-14-a-p0001/142,1234,41,21/full/0/default.jpg\"/>"
      ],
      "text/plain": [
       "<IPython.core.display.Image object>"
      ]
     },
     "metadata": {},
     "output_type": "display_data"
    },
    {
     "name": "stdout",
     "output_type": "stream",
     "text": [
      "http://dhlabsrv17.epfl.ch/iiif_impresso_new/BDC-1839-03-14-a-p0001/142,1234,41,21/full/0/default.jpg\n",
      "-----------------\n",
      "\n",
      "d'une \t\t\t\t\t// (BDC-1839-03-14-a-p0003) ([560, 1104, 43, 19])\n"
     ]
    },
    {
     "data": {
      "text/html": [
       "<img src=\"http://dhlabsrv17.epfl.ch/iiif_impresso/BDC-1839-03-14-a-p0003/560,1104,43,19/full/0/default.jpg\"/>"
      ],
      "text/plain": [
       "<IPython.core.display.Image object>"
      ]
     },
     "metadata": {},
     "output_type": "display_data"
    },
    {
     "data": {
      "text/html": [
       "<img src=\"http://dhlabsrv17.epfl.ch/iiif_impresso_new/BDC-1839-03-14-a-p0003/560,1104,43,19/full/0/default.jpg\"/>"
      ],
      "text/plain": [
       "<IPython.core.display.Image object>"
      ]
     },
     "metadata": {},
     "output_type": "display_data"
    },
    {
     "name": "stdout",
     "output_type": "stream",
     "text": [
      "http://dhlabsrv17.epfl.ch/iiif_impresso_new/BDC-1839-03-14-a-p0003/560,1104,43,19/full/0/default.jpg\n",
      "-----------------\n",
      "\n",
      ". \t\t\t\t\t// (BDC-1839-03-14-a-p0003) ([622, 1063, 5, 19])\n"
     ]
    },
    {
     "data": {
      "text/html": [
       "<img src=\"http://dhlabsrv17.epfl.ch/iiif_impresso/BDC-1839-03-14-a-p0003/622,1063,5,19/full/0/default.jpg\"/>"
      ],
      "text/plain": [
       "<IPython.core.display.Image object>"
      ]
     },
     "metadata": {},
     "output_type": "display_data"
    },
    {
     "data": {
      "text/html": [
       "<img src=\"http://dhlabsrv17.epfl.ch/iiif_impresso_new/BDC-1839-03-14-a-p0003/622,1063,5,19/full/0/default.jpg\"/>"
      ],
      "text/plain": [
       "<IPython.core.display.Image object>"
      ]
     },
     "metadata": {},
     "output_type": "display_data"
    },
    {
     "name": "stdout",
     "output_type": "stream",
     "text": [
      "http://dhlabsrv17.epfl.ch/iiif_impresso_new/BDC-1839-03-14-a-p0003/622,1063,5,19/full/0/default.jpg\n",
      "-----------------\n",
      "\n",
      "qu'il \t\t\t\t\t// (BDC-1839-02-28-a-p0002) ([726, 897, 35, 17])\n"
     ]
    },
    {
     "data": {
      "text/html": [
       "<img src=\"http://dhlabsrv17.epfl.ch/iiif_impresso/BDC-1839-02-28-a-p0002/726,897,35,17/full/0/default.jpg\"/>"
      ],
      "text/plain": [
       "<IPython.core.display.Image object>"
      ]
     },
     "metadata": {},
     "output_type": "display_data"
    },
    {
     "data": {
      "text/html": [
       "<img src=\"http://dhlabsrv17.epfl.ch/iiif_impresso_new/BDC-1839-02-28-a-p0002/726,897,35,17/full/0/default.jpg\"/>"
      ],
      "text/plain": [
       "<IPython.core.display.Image object>"
      ]
     },
     "metadata": {},
     "output_type": "display_data"
    },
    {
     "name": "stdout",
     "output_type": "stream",
     "text": [
      "http://dhlabsrv17.epfl.ch/iiif_impresso_new/BDC-1839-02-28-a-p0002/726,897,35,17/full/0/default.jpg\n",
      "-----------------\n",
      "\n",
      "soustrayant \t\t\t\t\t// (BDC-1839-02-28-a-p0002) ([608, 159, 83, 17])\n"
     ]
    },
    {
     "data": {
      "text/html": [
       "<img src=\"http://dhlabsrv17.epfl.ch/iiif_impresso/BDC-1839-02-28-a-p0002/608,159,83,17/full/0/default.jpg\"/>"
      ],
      "text/plain": [
       "<IPython.core.display.Image object>"
      ]
     },
     "metadata": {},
     "output_type": "display_data"
    },
    {
     "data": {
      "text/html": [
       "<img src=\"http://dhlabsrv17.epfl.ch/iiif_impresso_new/BDC-1839-02-28-a-p0002/608,159,83,17/full/0/default.jpg\"/>"
      ],
      "text/plain": [
       "<IPython.core.display.Image object>"
      ]
     },
     "metadata": {},
     "output_type": "display_data"
    },
    {
     "name": "stdout",
     "output_type": "stream",
     "text": [
      "http://dhlabsrv17.epfl.ch/iiif_impresso_new/BDC-1839-02-28-a-p0002/608,159,83,17/full/0/default.jpg\n",
      "-----------------\n",
      "\n",
      "Conseil \t\t\t\t\t// (BDC-1839-01-20-a-p0006) ([889, 189, 63, 19])\n"
     ]
    },
    {
     "data": {
      "text/html": [
       "<img src=\"http://dhlabsrv17.epfl.ch/iiif_impresso/BDC-1839-01-20-a-p0006/889,189,63,19/full/0/default.jpg\"/>"
      ],
      "text/plain": [
       "<IPython.core.display.Image object>"
      ]
     },
     "metadata": {},
     "output_type": "display_data"
    },
    {
     "data": {
      "text/html": [
       "<img src=\"http://dhlabsrv17.epfl.ch/iiif_impresso_new/BDC-1839-01-20-a-p0006/889,189,63,19/full/0/default.jpg\"/>"
      ],
      "text/plain": [
       "<IPython.core.display.Image object>"
      ]
     },
     "metadata": {},
     "output_type": "display_data"
    },
    {
     "name": "stdout",
     "output_type": "stream",
     "text": [
      "http://dhlabsrv17.epfl.ch/iiif_impresso_new/BDC-1839-01-20-a-p0006/889,189,63,19/full/0/default.jpg\n",
      "-----------------\n",
      "\n",
      ". \t\t\t\t\t// (BDC-1839-01-20-a-p0006) ([613, 494, 4, 19])\n"
     ]
    },
    {
     "data": {
      "text/html": [
       "<img src=\"http://dhlabsrv17.epfl.ch/iiif_impresso/BDC-1839-01-20-a-p0006/613,494,4,19/full/0/default.jpg\"/>"
      ],
      "text/plain": [
       "<IPython.core.display.Image object>"
      ]
     },
     "metadata": {},
     "output_type": "display_data"
    },
    {
     "data": {
      "text/html": [
       "<img src=\"http://dhlabsrv17.epfl.ch/iiif_impresso_new/BDC-1839-01-20-a-p0006/613,494,4,19/full/0/default.jpg\"/>"
      ],
      "text/plain": [
       "<IPython.core.display.Image object>"
      ]
     },
     "metadata": {},
     "output_type": "display_data"
    },
    {
     "name": "stdout",
     "output_type": "stream",
     "text": [
      "http://dhlabsrv17.epfl.ch/iiif_impresso_new/BDC-1839-01-20-a-p0006/613,494,4,19/full/0/default.jpg\n",
      "-----------------\n",
      "\n",
      "chers \t\t\t\t\t// (BDC-1839-02-23-a-p0003) ([616, 1166, 45, 19])\n"
     ]
    },
    {
     "data": {
      "text/html": [
       "<img src=\"http://dhlabsrv17.epfl.ch/iiif_impresso/BDC-1839-02-23-a-p0003/616,1166,45,19/full/0/default.jpg\"/>"
      ],
      "text/plain": [
       "<IPython.core.display.Image object>"
      ]
     },
     "metadata": {},
     "output_type": "display_data"
    },
    {
     "data": {
      "text/html": [
       "<img src=\"http://dhlabsrv17.epfl.ch/iiif_impresso_new/BDC-1839-02-23-a-p0003/616,1166,45,19/full/0/default.jpg\"/>"
      ],
      "text/plain": [
       "<IPython.core.display.Image object>"
      ]
     },
     "metadata": {},
     "output_type": "display_data"
    },
    {
     "name": "stdout",
     "output_type": "stream",
     "text": [
      "http://dhlabsrv17.epfl.ch/iiif_impresso_new/BDC-1839-02-23-a-p0003/616,1166,45,19/full/0/default.jpg\n",
      "-----------------\n",
      "\n",
      "dissentions \t\t\t\t\t// (BDC-1839-02-23-a-p0003) ([739, 418, 91, 19])\n"
     ]
    },
    {
     "data": {
      "text/html": [
       "<img src=\"http://dhlabsrv17.epfl.ch/iiif_impresso/BDC-1839-02-23-a-p0003/739,418,91,19/full/0/default.jpg\"/>"
      ],
      "text/plain": [
       "<IPython.core.display.Image object>"
      ]
     },
     "metadata": {},
     "output_type": "display_data"
    },
    {
     "data": {
      "text/html": [
       "<img src=\"http://dhlabsrv17.epfl.ch/iiif_impresso_new/BDC-1839-02-23-a-p0003/739,418,91,19/full/0/default.jpg\"/>"
      ],
      "text/plain": [
       "<IPython.core.display.Image object>"
      ]
     },
     "metadata": {},
     "output_type": "display_data"
    },
    {
     "name": "stdout",
     "output_type": "stream",
     "text": [
      "http://dhlabsrv17.epfl.ch/iiif_impresso_new/BDC-1839-02-23-a-p0003/739,418,91,19/full/0/default.jpg\n",
      "-----------------\n",
      "\n",
      "sont \t\t\t\t\t// (BDC-1839-02-23-a-p0004) ([123, 323, 34, 19])\n"
     ]
    },
    {
     "data": {
      "text/html": [
       "<img src=\"http://dhlabsrv17.epfl.ch/iiif_impresso/BDC-1839-02-23-a-p0004/123,323,34,19/full/0/default.jpg\"/>"
      ],
      "text/plain": [
       "<IPython.core.display.Image object>"
      ]
     },
     "metadata": {},
     "output_type": "display_data"
    },
    {
     "data": {
      "text/html": [
       "<img src=\"http://dhlabsrv17.epfl.ch/iiif_impresso_new/BDC-1839-02-23-a-p0004/123,323,34,19/full/0/default.jpg\"/>"
      ],
      "text/plain": [
       "<IPython.core.display.Image object>"
      ]
     },
     "metadata": {},
     "output_type": "display_data"
    },
    {
     "name": "stdout",
     "output_type": "stream",
     "text": [
      "http://dhlabsrv17.epfl.ch/iiif_impresso_new/BDC-1839-02-23-a-p0004/123,323,34,19/full/0/default.jpg\n",
      "-----------------\n",
      "\n",
      "déclarent \t\t\t\t\t// (BDC-1839-02-23-a-p0004) ([421, 444, 75, 19])\n"
     ]
    },
    {
     "data": {
      "text/html": [
       "<img src=\"http://dhlabsrv17.epfl.ch/iiif_impresso/BDC-1839-02-23-a-p0004/421,444,75,19/full/0/default.jpg\"/>"
      ],
      "text/plain": [
       "<IPython.core.display.Image object>"
      ]
     },
     "metadata": {},
     "output_type": "display_data"
    },
    {
     "data": {
      "text/html": [
       "<img src=\"http://dhlabsrv17.epfl.ch/iiif_impresso_new/BDC-1839-02-23-a-p0004/421,444,75,19/full/0/default.jpg\"/>"
      ],
      "text/plain": [
       "<IPython.core.display.Image object>"
      ]
     },
     "metadata": {},
     "output_type": "display_data"
    },
    {
     "name": "stdout",
     "output_type": "stream",
     "text": [
      "http://dhlabsrv17.epfl.ch/iiif_impresso_new/BDC-1839-02-23-a-p0004/421,444,75,19/full/0/default.jpg\n",
      "-----------------\n",
      "\n",
      "question \t\t\t\t\t// (BDC-1839-03-14-a-p0003) ([219, 667, 74, 20])\n"
     ]
    },
    {
     "data": {
      "text/html": [
       "<img src=\"http://dhlabsrv17.epfl.ch/iiif_impresso/BDC-1839-03-14-a-p0003/219,667,74,20/full/0/default.jpg\"/>"
      ],
      "text/plain": [
       "<IPython.core.display.Image object>"
      ]
     },
     "metadata": {},
     "output_type": "display_data"
    },
    {
     "data": {
      "text/html": [
       "<img src=\"http://dhlabsrv17.epfl.ch/iiif_impresso_new/BDC-1839-03-14-a-p0003/219,667,74,20/full/0/default.jpg\"/>"
      ],
      "text/plain": [
       "<IPython.core.display.Image object>"
      ]
     },
     "metadata": {},
     "output_type": "display_data"
    },
    {
     "name": "stdout",
     "output_type": "stream",
     "text": [
      "http://dhlabsrv17.epfl.ch/iiif_impresso_new/BDC-1839-03-14-a-p0003/219,667,74,20/full/0/default.jpg\n",
      "-----------------\n",
      "\n",
      "les \t\t\t\t\t// (BDC-1839-03-14-a-p0003) ([807, 536, 26, 21])\n"
     ]
    },
    {
     "data": {
      "text/html": [
       "<img src=\"http://dhlabsrv17.epfl.ch/iiif_impresso/BDC-1839-03-14-a-p0003/807,536,26,21/full/0/default.jpg\"/>"
      ],
      "text/plain": [
       "<IPython.core.display.Image object>"
      ]
     },
     "metadata": {},
     "output_type": "display_data"
    },
    {
     "data": {
      "text/html": [
       "<img src=\"http://dhlabsrv17.epfl.ch/iiif_impresso_new/BDC-1839-03-14-a-p0003/807,536,26,21/full/0/default.jpg\"/>"
      ],
      "text/plain": [
       "<IPython.core.display.Image object>"
      ]
     },
     "metadata": {},
     "output_type": "display_data"
    },
    {
     "name": "stdout",
     "output_type": "stream",
     "text": [
      "http://dhlabsrv17.epfl.ch/iiif_impresso_new/BDC-1839-03-14-a-p0003/807,536,26,21/full/0/default.jpg\n",
      "-----------------\n",
      "\n",
      "et \t\t\t\t\t// (BDC-1839-02-23-a-p0002) ([564, 843, 17, 21])\n"
     ]
    },
    {
     "data": {
      "text/html": [
       "<img src=\"http://dhlabsrv17.epfl.ch/iiif_impresso/BDC-1839-02-23-a-p0002/564,843,17,21/full/0/default.jpg\"/>"
      ],
      "text/plain": [
       "<IPython.core.display.Image object>"
      ]
     },
     "metadata": {},
     "output_type": "display_data"
    },
    {
     "data": {
      "text/html": [
       "<img src=\"http://dhlabsrv17.epfl.ch/iiif_impresso_new/BDC-1839-02-23-a-p0002/564,843,17,21/full/0/default.jpg\"/>"
      ],
      "text/plain": [
       "<IPython.core.display.Image object>"
      ]
     },
     "metadata": {},
     "output_type": "display_data"
    },
    {
     "name": "stdout",
     "output_type": "stream",
     "text": [
      "http://dhlabsrv17.epfl.ch/iiif_impresso_new/BDC-1839-02-23-a-p0002/564,843,17,21/full/0/default.jpg\n",
      "-----------------\n",
      "\n",
      ", \t\t\t\t\t// (BDC-1839-02-23-a-p0002) ([829, 645, 6, 21])\n"
     ]
    },
    {
     "data": {
      "text/html": [
       "<img src=\"http://dhlabsrv17.epfl.ch/iiif_impresso/BDC-1839-02-23-a-p0002/829,645,6,21/full/0/default.jpg\"/>"
      ],
      "text/plain": [
       "<IPython.core.display.Image object>"
      ]
     },
     "metadata": {},
     "output_type": "display_data"
    },
    {
     "data": {
      "text/html": [
       "<img src=\"http://dhlabsrv17.epfl.ch/iiif_impresso_new/BDC-1839-02-23-a-p0002/829,645,6,21/full/0/default.jpg\"/>"
      ],
      "text/plain": [
       "<IPython.core.display.Image object>"
      ]
     },
     "metadata": {},
     "output_type": "display_data"
    },
    {
     "name": "stdout",
     "output_type": "stream",
     "text": [
      "http://dhlabsrv17.epfl.ch/iiif_impresso_new/BDC-1839-02-23-a-p0002/829,645,6,21/full/0/default.jpg\n",
      "-----------------\n",
      "\n",
      "« \t\t\t\t\t// (BDC-1839-01-21-a-p0001) ([56, 568, 11, 20])\n"
     ]
    },
    {
     "data": {
      "text/html": [
       "<img src=\"http://dhlabsrv17.epfl.ch/iiif_impresso/BDC-1839-01-21-a-p0001/56,568,11,20/full/0/default.jpg\"/>"
      ],
      "text/plain": [
       "<IPython.core.display.Image object>"
      ]
     },
     "metadata": {},
     "output_type": "display_data"
    },
    {
     "data": {
      "text/html": [
       "<img src=\"http://dhlabsrv17.epfl.ch/iiif_impresso_new/BDC-1839-01-21-a-p0001/56,568,11,20/full/0/default.jpg\"/>"
      ],
      "text/plain": [
       "<IPython.core.display.Image object>"
      ]
     },
     "metadata": {},
     "output_type": "display_data"
    },
    {
     "name": "stdout",
     "output_type": "stream",
     "text": [
      "http://dhlabsrv17.epfl.ch/iiif_impresso_new/BDC-1839-01-21-a-p0001/56,568,11,20/full/0/default.jpg\n",
      "-----------------\n",
      "\n",
      "accla- \t\t\t\t\t// (BDC-1839-01-21-a-p0001) ([884, 478, 56, 21])\n"
     ]
    },
    {
     "data": {
      "text/html": [
       "<img src=\"http://dhlabsrv17.epfl.ch/iiif_impresso/BDC-1839-01-21-a-p0001/884,478,56,21/full/0/default.jpg\"/>"
      ],
      "text/plain": [
       "<IPython.core.display.Image object>"
      ]
     },
     "metadata": {},
     "output_type": "display_data"
    },
    {
     "data": {
      "text/html": [
       "<img src=\"http://dhlabsrv17.epfl.ch/iiif_impresso_new/BDC-1839-01-21-a-p0001/884,478,56,21/full/0/default.jpg\"/>"
      ],
      "text/plain": [
       "<IPython.core.display.Image object>"
      ]
     },
     "metadata": {},
     "output_type": "display_data"
    },
    {
     "name": "stdout",
     "output_type": "stream",
     "text": [
      "http://dhlabsrv17.epfl.ch/iiif_impresso_new/BDC-1839-01-21-a-p0001/884,478,56,21/full/0/default.jpg\n",
      "-----------------\n",
      "\n",
      "plus \t\t\t\t\t// (BDC-1839-03-14-a-p0004) ([354, 850, 33, 17])\n"
     ]
    },
    {
     "data": {
      "text/html": [
       "<img src=\"http://dhlabsrv17.epfl.ch/iiif_impresso/BDC-1839-03-14-a-p0004/354,850,33,17/full/0/default.jpg\"/>"
      ],
      "text/plain": [
       "<IPython.core.display.Image object>"
      ]
     },
     "metadata": {},
     "output_type": "display_data"
    },
    {
     "data": {
      "text/html": [
       "<img src=\"http://dhlabsrv17.epfl.ch/iiif_impresso_new/BDC-1839-03-14-a-p0004/354,850,33,17/full/0/default.jpg\"/>"
      ],
      "text/plain": [
       "<IPython.core.display.Image object>"
      ]
     },
     "metadata": {},
     "output_type": "display_data"
    },
    {
     "name": "stdout",
     "output_type": "stream",
     "text": [
      "http://dhlabsrv17.epfl.ch/iiif_impresso_new/BDC-1839-03-14-a-p0004/354,850,33,17/full/0/default.jpg\n",
      "-----------------\n",
      "\n",
      "au \t\t\t\t\t// (BDC-1839-03-14-a-p0004) ([398, 809, 18, 18])\n"
     ]
    },
    {
     "data": {
      "text/html": [
       "<img src=\"http://dhlabsrv17.epfl.ch/iiif_impresso/BDC-1839-03-14-a-p0004/398,809,18,18/full/0/default.jpg\"/>"
      ],
      "text/plain": [
       "<IPython.core.display.Image object>"
      ]
     },
     "metadata": {},
     "output_type": "display_data"
    },
    {
     "data": {
      "text/html": [
       "<img src=\"http://dhlabsrv17.epfl.ch/iiif_impresso_new/BDC-1839-03-14-a-p0004/398,809,18,18/full/0/default.jpg\"/>"
      ],
      "text/plain": [
       "<IPython.core.display.Image object>"
      ]
     },
     "metadata": {},
     "output_type": "display_data"
    },
    {
     "name": "stdout",
     "output_type": "stream",
     "text": [
      "http://dhlabsrv17.epfl.ch/iiif_impresso_new/BDC-1839-03-14-a-p0004/398,809,18,18/full/0/default.jpg\n",
      "-----------------\n",
      "\n",
      "entrer \t\t\t\t\t// (BDC-1839-01-20-a-p0004) ([413, 170, 48, 17])\n"
     ]
    },
    {
     "data": {
      "text/html": [
       "<img src=\"http://dhlabsrv17.epfl.ch/iiif_impresso/BDC-1839-01-20-a-p0004/413,170,48,17/full/0/default.jpg\"/>"
      ],
      "text/plain": [
       "<IPython.core.display.Image object>"
      ]
     },
     "metadata": {},
     "output_type": "display_data"
    },
    {
     "data": {
      "text/html": [
       "<img src=\"http://dhlabsrv17.epfl.ch/iiif_impresso_new/BDC-1839-01-20-a-p0004/413,170,48,17/full/0/default.jpg\"/>"
      ],
      "text/plain": [
       "<IPython.core.display.Image object>"
      ]
     },
     "metadata": {},
     "output_type": "display_data"
    },
    {
     "name": "stdout",
     "output_type": "stream",
     "text": [
      "http://dhlabsrv17.epfl.ch/iiif_impresso_new/BDC-1839-01-20-a-p0004/413,170,48,17/full/0/default.jpg\n",
      "-----------------\n",
      "\n",
      "convenable \t\t\t\t\t// (BDC-1839-01-20-a-p0004) ([711, 939, 93, 17])\n"
     ]
    },
    {
     "data": {
      "text/html": [
       "<img src=\"http://dhlabsrv17.epfl.ch/iiif_impresso/BDC-1839-01-20-a-p0004/711,939,93,17/full/0/default.jpg\"/>"
      ],
      "text/plain": [
       "<IPython.core.display.Image object>"
      ]
     },
     "metadata": {},
     "output_type": "display_data"
    },
    {
     "data": {
      "text/html": [
       "<img src=\"http://dhlabsrv17.epfl.ch/iiif_impresso_new/BDC-1839-01-20-a-p0004/711,939,93,17/full/0/default.jpg\"/>"
      ],
      "text/plain": [
       "<IPython.core.display.Image object>"
      ]
     },
     "metadata": {},
     "output_type": "display_data"
    },
    {
     "name": "stdout",
     "output_type": "stream",
     "text": [
      "http://dhlabsrv17.epfl.ch/iiif_impresso_new/BDC-1839-01-20-a-p0004/711,939,93,17/full/0/default.jpg\n",
      "-----------------\n",
      "\n",
      "presque \t\t\t\t\t// (BDC-1839-03-14-a-p0001) ([829, 1061, 76, 20])\n"
     ]
    },
    {
     "data": {
      "text/html": [
       "<img src=\"http://dhlabsrv17.epfl.ch/iiif_impresso/BDC-1839-03-14-a-p0001/829,1061,76,20/full/0/default.jpg\"/>"
      ],
      "text/plain": [
       "<IPython.core.display.Image object>"
      ]
     },
     "metadata": {},
     "output_type": "display_data"
    },
    {
     "data": {
      "text/html": [
       "<img src=\"http://dhlabsrv17.epfl.ch/iiif_impresso_new/BDC-1839-03-14-a-p0001/829,1061,76,20/full/0/default.jpg\"/>"
      ],
      "text/plain": [
       "<IPython.core.display.Image object>"
      ]
     },
     "metadata": {},
     "output_type": "display_data"
    },
    {
     "name": "stdout",
     "output_type": "stream",
     "text": [
      "http://dhlabsrv17.epfl.ch/iiif_impresso_new/BDC-1839-03-14-a-p0001/829,1061,76,20/full/0/default.jpg\n",
      "-----------------\n",
      "\n",
      "de \t\t\t\t\t// (BDC-1839-03-14-a-p0001) ([438, 813, 21, 21])\n"
     ]
    },
    {
     "data": {
      "text/html": [
       "<img src=\"http://dhlabsrv17.epfl.ch/iiif_impresso/BDC-1839-03-14-a-p0001/438,813,21,21/full/0/default.jpg\"/>"
      ],
      "text/plain": [
       "<IPython.core.display.Image object>"
      ]
     },
     "metadata": {},
     "output_type": "display_data"
    },
    {
     "data": {
      "text/html": [
       "<img src=\"http://dhlabsrv17.epfl.ch/iiif_impresso_new/BDC-1839-03-14-a-p0001/438,813,21,21/full/0/default.jpg\"/>"
      ],
      "text/plain": [
       "<IPython.core.display.Image object>"
      ]
     },
     "metadata": {},
     "output_type": "display_data"
    },
    {
     "name": "stdout",
     "output_type": "stream",
     "text": [
      "http://dhlabsrv17.epfl.ch/iiif_impresso_new/BDC-1839-03-14-a-p0001/438,813,21,21/full/0/default.jpg\n",
      "-----------------\n",
      "\n",
      "fixe \t\t\t\t\t// (BDC-1839-01-20-a-p0005) ([581, 189, 31, 19])\n"
     ]
    },
    {
     "data": {
      "text/html": [
       "<img src=\"http://dhlabsrv17.epfl.ch/iiif_impresso/BDC-1839-01-20-a-p0005/581,189,31,19/full/0/default.jpg\"/>"
      ],
      "text/plain": [
       "<IPython.core.display.Image object>"
      ]
     },
     "metadata": {},
     "output_type": "display_data"
    },
    {
     "data": {
      "text/html": [
       "<img src=\"http://dhlabsrv17.epfl.ch/iiif_impresso_new/BDC-1839-01-20-a-p0005/581,189,31,19/full/0/default.jpg\"/>"
      ],
      "text/plain": [
       "<IPython.core.display.Image object>"
      ]
     },
     "metadata": {},
     "output_type": "display_data"
    },
    {
     "name": "stdout",
     "output_type": "stream",
     "text": [
      "http://dhlabsrv17.epfl.ch/iiif_impresso_new/BDC-1839-01-20-a-p0005/581,189,31,19/full/0/default.jpg\n",
      "-----------------\n",
      "\n",
      "pour \t\t\t\t\t// (BDC-1839-01-20-a-p0005) ([899, 1199, 39, 19])\n"
     ]
    },
    {
     "data": {
      "text/html": [
       "<img src=\"http://dhlabsrv17.epfl.ch/iiif_impresso/BDC-1839-01-20-a-p0005/899,1199,39,19/full/0/default.jpg\"/>"
      ],
      "text/plain": [
       "<IPython.core.display.Image object>"
      ]
     },
     "metadata": {},
     "output_type": "display_data"
    },
    {
     "data": {
      "text/html": [
       "<img src=\"http://dhlabsrv17.epfl.ch/iiif_impresso_new/BDC-1839-01-20-a-p0005/899,1199,39,19/full/0/default.jpg\"/>"
      ],
      "text/plain": [
       "<IPython.core.display.Image object>"
      ]
     },
     "metadata": {},
     "output_type": "display_data"
    },
    {
     "name": "stdout",
     "output_type": "stream",
     "text": [
      "http://dhlabsrv17.epfl.ch/iiif_impresso_new/BDC-1839-01-20-a-p0005/899,1199,39,19/full/0/default.jpg\n",
      "-----------------\n",
      "\n",
      "pé- \t\t\t\t\t// (BDC-1839-01-20-a-p0002) ([481, 1059, 27, 19])\n"
     ]
    },
    {
     "data": {
      "text/html": [
       "<img src=\"http://dhlabsrv17.epfl.ch/iiif_impresso/BDC-1839-01-20-a-p0002/481,1059,27,19/full/0/default.jpg\"/>"
      ],
      "text/plain": [
       "<IPython.core.display.Image object>"
      ]
     },
     "metadata": {},
     "output_type": "display_data"
    },
    {
     "data": {
      "text/html": [
       "<img src=\"http://dhlabsrv17.epfl.ch/iiif_impresso_new/BDC-1839-01-20-a-p0002/481,1059,27,19/full/0/default.jpg\"/>"
      ],
      "text/plain": [
       "<IPython.core.display.Image object>"
      ]
     },
     "metadata": {},
     "output_type": "display_data"
    },
    {
     "name": "stdout",
     "output_type": "stream",
     "text": [
      "http://dhlabsrv17.epfl.ch/iiif_impresso_new/BDC-1839-01-20-a-p0002/481,1059,27,19/full/0/default.jpg\n",
      "-----------------\n",
      "\n",
      "amenèrent \t\t\t\t\t// (BDC-1839-01-20-a-p0002) ([307, 249, 86, 19])\n"
     ]
    },
    {
     "data": {
      "text/html": [
       "<img src=\"http://dhlabsrv17.epfl.ch/iiif_impresso/BDC-1839-01-20-a-p0002/307,249,86,19/full/0/default.jpg\"/>"
      ],
      "text/plain": [
       "<IPython.core.display.Image object>"
      ]
     },
     "metadata": {},
     "output_type": "display_data"
    },
    {
     "data": {
      "text/html": [
       "<img src=\"http://dhlabsrv17.epfl.ch/iiif_impresso_new/BDC-1839-01-20-a-p0002/307,249,86,19/full/0/default.jpg\"/>"
      ],
      "text/plain": [
       "<IPython.core.display.Image object>"
      ]
     },
     "metadata": {},
     "output_type": "display_data"
    },
    {
     "name": "stdout",
     "output_type": "stream",
     "text": [
      "http://dhlabsrv17.epfl.ch/iiif_impresso_new/BDC-1839-01-20-a-p0002/307,249,86,19/full/0/default.jpg\n",
      "-----------------\n",
      "\n",
      ", \t\t\t\t\t// (BDC-1839-02-28-a-p0004) ([300, 693, 5, 19])\n"
     ]
    },
    {
     "data": {
      "text/html": [
       "<img src=\"http://dhlabsrv17.epfl.ch/iiif_impresso/BDC-1839-02-28-a-p0004/300,693,5,19/full/0/default.jpg\"/>"
      ],
      "text/plain": [
       "<IPython.core.display.Image object>"
      ]
     },
     "metadata": {},
     "output_type": "display_data"
    },
    {
     "data": {
      "text/html": [
       "<img src=\"http://dhlabsrv17.epfl.ch/iiif_impresso_new/BDC-1839-02-28-a-p0004/300,693,5,19/full/0/default.jpg\"/>"
      ],
      "text/plain": [
       "<IPython.core.display.Image object>"
      ]
     },
     "metadata": {},
     "output_type": "display_data"
    },
    {
     "name": "stdout",
     "output_type": "stream",
     "text": [
      "http://dhlabsrv17.epfl.ch/iiif_impresso_new/BDC-1839-02-28-a-p0004/300,693,5,19/full/0/default.jpg\n",
      "-----------------\n",
      "\n",
      "nécessaire \t\t\t\t\t// (BDC-1839-02-28-a-p0004) ([121, 138, 84, 19])\n"
     ]
    },
    {
     "data": {
      "text/html": [
       "<img src=\"http://dhlabsrv17.epfl.ch/iiif_impresso/BDC-1839-02-28-a-p0004/121,138,84,19/full/0/default.jpg\"/>"
      ],
      "text/plain": [
       "<IPython.core.display.Image object>"
      ]
     },
     "metadata": {},
     "output_type": "display_data"
    },
    {
     "data": {
      "text/html": [
       "<img src=\"http://dhlabsrv17.epfl.ch/iiif_impresso_new/BDC-1839-02-28-a-p0004/121,138,84,19/full/0/default.jpg\"/>"
      ],
      "text/plain": [
       "<IPython.core.display.Image object>"
      ]
     },
     "metadata": {},
     "output_type": "display_data"
    },
    {
     "name": "stdout",
     "output_type": "stream",
     "text": [
      "http://dhlabsrv17.epfl.ch/iiif_impresso_new/BDC-1839-02-28-a-p0004/121,138,84,19/full/0/default.jpg\n",
      "-----------------\n",
      "\n",
      "comme \t\t\t\t\t// (BDC-1839-03-14-a-p0003) ([834, 188, 66, 21])\n"
     ]
    },
    {
     "data": {
      "text/html": [
       "<img src=\"http://dhlabsrv17.epfl.ch/iiif_impresso/BDC-1839-03-14-a-p0003/834,188,66,21/full/0/default.jpg\"/>"
      ],
      "text/plain": [
       "<IPython.core.display.Image object>"
      ]
     },
     "metadata": {},
     "output_type": "display_data"
    },
    {
     "data": {
      "text/html": [
       "<img src=\"http://dhlabsrv17.epfl.ch/iiif_impresso_new/BDC-1839-03-14-a-p0003/834,188,66,21/full/0/default.jpg\"/>"
      ],
      "text/plain": [
       "<IPython.core.display.Image object>"
      ]
     },
     "metadata": {},
     "output_type": "display_data"
    },
    {
     "name": "stdout",
     "output_type": "stream",
     "text": [
      "http://dhlabsrv17.epfl.ch/iiif_impresso_new/BDC-1839-03-14-a-p0003/834,188,66,21/full/0/default.jpg\n",
      "-----------------\n",
      "\n",
      "retomberaient \t\t\t\t\t// (BDC-1839-03-14-a-p0003) ([536, 708, 137, 21])\n"
     ]
    },
    {
     "data": {
      "text/html": [
       "<img src=\"http://dhlabsrv17.epfl.ch/iiif_impresso/BDC-1839-03-14-a-p0003/536,708,137,21/full/0/default.jpg\"/>"
      ],
      "text/plain": [
       "<IPython.core.display.Image object>"
      ]
     },
     "metadata": {},
     "output_type": "display_data"
    },
    {
     "data": {
      "text/html": [
       "<img src=\"http://dhlabsrv17.epfl.ch/iiif_impresso_new/BDC-1839-03-14-a-p0003/536,708,137,21/full/0/default.jpg\"/>"
      ],
      "text/plain": [
       "<IPython.core.display.Image object>"
      ]
     },
     "metadata": {},
     "output_type": "display_data"
    },
    {
     "name": "stdout",
     "output_type": "stream",
     "text": [
      "http://dhlabsrv17.epfl.ch/iiif_impresso_new/BDC-1839-03-14-a-p0003/536,708,137,21/full/0/default.jpg\n",
      "-----------------\n",
      "\n",
      "PROCLAMATION \t\t\t\t\t// (BDC-1839-02-23-a-p0001) ([232, 441, 458, 55])\n"
     ]
    },
    {
     "data": {
      "text/html": [
       "<img src=\"http://dhlabsrv17.epfl.ch/iiif_impresso/BDC-1839-02-23-a-p0001/232,441,458,55/full/0/default.jpg\"/>"
      ],
      "text/plain": [
       "<IPython.core.display.Image object>"
      ]
     },
     "metadata": {},
     "output_type": "display_data"
    },
    {
     "data": {
      "text/html": [
       "<img src=\"http://dhlabsrv17.epfl.ch/iiif_impresso_new/BDC-1839-02-23-a-p0001/232,441,458,55/full/0/default.jpg\"/>"
      ],
      "text/plain": [
       "<IPython.core.display.Image object>"
      ]
     },
     "metadata": {},
     "output_type": "display_data"
    },
    {
     "name": "stdout",
     "output_type": "stream",
     "text": [
      "http://dhlabsrv17.epfl.ch/iiif_impresso_new/BDC-1839-02-23-a-p0001/232,441,458,55/full/0/default.jpg\n",
      "-----------------\n",
      "\n",
      "FÉDÉRAUX \t\t\t\t\t// (BDC-1839-02-23-a-p0001) ([574, 541, 232, 37])\n"
     ]
    },
    {
     "data": {
      "text/html": [
       "<img src=\"http://dhlabsrv17.epfl.ch/iiif_impresso/BDC-1839-02-23-a-p0001/574,541,232,37/full/0/default.jpg\"/>"
      ],
      "text/plain": [
       "<IPython.core.display.Image object>"
      ]
     },
     "metadata": {},
     "output_type": "display_data"
    },
    {
     "data": {
      "text/html": [
       "<img src=\"http://dhlabsrv17.epfl.ch/iiif_impresso_new/BDC-1839-02-23-a-p0001/574,541,232,37/full/0/default.jpg\"/>"
      ],
      "text/plain": [
       "<IPython.core.display.Image object>"
      ]
     },
     "metadata": {},
     "output_type": "display_data"
    },
    {
     "name": "stdout",
     "output_type": "stream",
     "text": [
      "http://dhlabsrv17.epfl.ch/iiif_impresso_new/BDC-1839-02-23-a-p0001/574,541,232,37/full/0/default.jpg\n",
      "-----------------\n",
      "\n",
      "a \t\t\t\t\t// (BDC-1839-01-21-a-p0004) ([169, 479, 8, 17])\n"
     ]
    },
    {
     "data": {
      "text/html": [
       "<img src=\"http://dhlabsrv17.epfl.ch/iiif_impresso/BDC-1839-01-21-a-p0004/169,479,8,17/full/0/default.jpg\"/>"
      ],
      "text/plain": [
       "<IPython.core.display.Image object>"
      ]
     },
     "metadata": {},
     "output_type": "display_data"
    },
    {
     "data": {
      "text/html": [
       "<img src=\"http://dhlabsrv17.epfl.ch/iiif_impresso_new/BDC-1839-01-21-a-p0004/169,479,8,17/full/0/default.jpg\"/>"
      ],
      "text/plain": [
       "<IPython.core.display.Image object>"
      ]
     },
     "metadata": {},
     "output_type": "display_data"
    },
    {
     "name": "stdout",
     "output_type": "stream",
     "text": [
      "http://dhlabsrv17.epfl.ch/iiif_impresso_new/BDC-1839-01-21-a-p0004/169,479,8,17/full/0/default.jpg\n",
      "-----------------\n",
      "\n",
      "MORAND \t\t\t\t\t// (BDC-1839-01-21-a-p0004) ([705, 1238, 73, 16])\n"
     ]
    },
    {
     "data": {
      "text/html": [
       "<img src=\"http://dhlabsrv17.epfl.ch/iiif_impresso/BDC-1839-01-21-a-p0004/705,1238,73,16/full/0/default.jpg\"/>"
      ],
      "text/plain": [
       "<IPython.core.display.Image object>"
      ]
     },
     "metadata": {},
     "output_type": "display_data"
    },
    {
     "data": {
      "text/html": [
       "<img src=\"http://dhlabsrv17.epfl.ch/iiif_impresso_new/BDC-1839-01-21-a-p0004/705,1238,73,16/full/0/default.jpg\"/>"
      ],
      "text/plain": [
       "<IPython.core.display.Image object>"
      ]
     },
     "metadata": {},
     "output_type": "display_data"
    },
    {
     "name": "stdout",
     "output_type": "stream",
     "text": [
      "http://dhlabsrv17.epfl.ch/iiif_impresso_new/BDC-1839-01-21-a-p0004/705,1238,73,16/full/0/default.jpg\n",
      "-----------------\n",
      "\n",
      "l'a \t\t\t\t\t// (BDC-1839-02-25-a-p0004) ([279, 149, 18, 19])\n"
     ]
    },
    {
     "data": {
      "text/html": [
       "<img src=\"http://dhlabsrv17.epfl.ch/iiif_impresso/BDC-1839-02-25-a-p0004/279,149,18,19/full/0/default.jpg\"/>"
      ],
      "text/plain": [
       "<IPython.core.display.Image object>"
      ]
     },
     "metadata": {},
     "output_type": "display_data"
    },
    {
     "data": {
      "text/html": [
       "<img src=\"http://dhlabsrv17.epfl.ch/iiif_impresso_new/BDC-1839-02-25-a-p0004/279,149,18,19/full/0/default.jpg\"/>"
      ],
      "text/plain": [
       "<IPython.core.display.Image object>"
      ]
     },
     "metadata": {},
     "output_type": "display_data"
    },
    {
     "name": "stdout",
     "output_type": "stream",
     "text": [
      "http://dhlabsrv17.epfl.ch/iiif_impresso_new/BDC-1839-02-25-a-p0004/279,149,18,19/full/0/default.jpg\n",
      "-----------------\n",
      "\n",
      "MORAND \t\t\t\t\t// (BDC-1839-02-25-a-p0004) ([687, 767, 71, 16])\n"
     ]
    },
    {
     "data": {
      "text/html": [
       "<img src=\"http://dhlabsrv17.epfl.ch/iiif_impresso/BDC-1839-02-25-a-p0004/687,767,71,16/full/0/default.jpg\"/>"
      ],
      "text/plain": [
       "<IPython.core.display.Image object>"
      ]
     },
     "metadata": {},
     "output_type": "display_data"
    },
    {
     "data": {
      "text/html": [
       "<img src=\"http://dhlabsrv17.epfl.ch/iiif_impresso_new/BDC-1839-02-25-a-p0004/687,767,71,16/full/0/default.jpg\"/>"
      ],
      "text/plain": [
       "<IPython.core.display.Image object>"
      ]
     },
     "metadata": {},
     "output_type": "display_data"
    },
    {
     "name": "stdout",
     "output_type": "stream",
     "text": [
      "http://dhlabsrv17.epfl.ch/iiif_impresso_new/BDC-1839-02-25-a-p0004/687,767,71,16/full/0/default.jpg\n",
      "-----------------\n",
      "\n",
      ". \t\t\t\t\t// (BDC-1839-02-28-a-p0003) ([300, 169, 5, 17])\n"
     ]
    },
    {
     "data": {
      "text/html": [
       "<img src=\"http://dhlabsrv17.epfl.ch/iiif_impresso/BDC-1839-02-28-a-p0003/300,169,5,17/full/0/default.jpg\"/>"
      ],
      "text/plain": [
       "<IPython.core.display.Image object>"
      ]
     },
     "metadata": {},
     "output_type": "display_data"
    },
    {
     "data": {
      "text/html": [
       "<img src=\"http://dhlabsrv17.epfl.ch/iiif_impresso_new/BDC-1839-02-28-a-p0003/300,169,5,17/full/0/default.jpg\"/>"
      ],
      "text/plain": [
       "<IPython.core.display.Image object>"
      ]
     },
     "metadata": {},
     "output_type": "display_data"
    },
    {
     "name": "stdout",
     "output_type": "stream",
     "text": [
      "http://dhlabsrv17.epfl.ch/iiif_impresso_new/BDC-1839-02-28-a-p0003/300,169,5,17/full/0/default.jpg\n",
      "-----------------\n",
      "\n",
      "aucune \t\t\t\t\t// (BDC-1839-02-28-a-p0003) ([197, 1221, 56, 17])\n"
     ]
    },
    {
     "data": {
      "text/html": [
       "<img src=\"http://dhlabsrv17.epfl.ch/iiif_impresso/BDC-1839-02-28-a-p0003/197,1221,56,17/full/0/default.jpg\"/>"
      ],
      "text/plain": [
       "<IPython.core.display.Image object>"
      ]
     },
     "metadata": {},
     "output_type": "display_data"
    },
    {
     "data": {
      "text/html": [
       "<img src=\"http://dhlabsrv17.epfl.ch/iiif_impresso_new/BDC-1839-02-28-a-p0003/197,1221,56,17/full/0/default.jpg\"/>"
      ],
      "text/plain": [
       "<IPython.core.display.Image object>"
      ]
     },
     "metadata": {},
     "output_type": "display_data"
    },
    {
     "name": "stdout",
     "output_type": "stream",
     "text": [
      "http://dhlabsrv17.epfl.ch/iiif_impresso_new/BDC-1839-02-28-a-p0003/197,1221,56,17/full/0/default.jpg\n",
      "-----------------\n",
      "\n",
      "con- \t\t\t\t\t// (BDC-1839-02-25-a-p0001) ([859, 1125, 37, 19])\n"
     ]
    },
    {
     "data": {
      "text/html": [
       "<img src=\"http://dhlabsrv17.epfl.ch/iiif_impresso/BDC-1839-02-25-a-p0001/859,1125,37,19/full/0/default.jpg\"/>"
      ],
      "text/plain": [
       "<IPython.core.display.Image object>"
      ]
     },
     "metadata": {},
     "output_type": "display_data"
    },
    {
     "data": {
      "text/html": [
       "<img src=\"http://dhlabsrv17.epfl.ch/iiif_impresso_new/BDC-1839-02-25-a-p0001/859,1125,37,19/full/0/default.jpg\"/>"
      ],
      "text/plain": [
       "<IPython.core.display.Image object>"
      ]
     },
     "metadata": {},
     "output_type": "display_data"
    },
    {
     "name": "stdout",
     "output_type": "stream",
     "text": [
      "http://dhlabsrv17.epfl.ch/iiif_impresso_new/BDC-1839-02-25-a-p0001/859,1125,37,19/full/0/default.jpg\n",
      "-----------------\n",
      "\n",
      "plications \t\t\t\t\t// (BDC-1839-02-25-a-p0001) ([16, 1005, 80, 19])\n"
     ]
    },
    {
     "data": {
      "text/html": [
       "<img src=\"http://dhlabsrv17.epfl.ch/iiif_impresso/BDC-1839-02-25-a-p0001/16,1005,80,19/full/0/default.jpg\"/>"
      ],
      "text/plain": [
       "<IPython.core.display.Image object>"
      ]
     },
     "metadata": {},
     "output_type": "display_data"
    },
    {
     "data": {
      "text/html": [
       "<img src=\"http://dhlabsrv17.epfl.ch/iiif_impresso_new/BDC-1839-02-25-a-p0001/16,1005,80,19/full/0/default.jpg\"/>"
      ],
      "text/plain": [
       "<IPython.core.display.Image object>"
      ]
     },
     "metadata": {},
     "output_type": "display_data"
    },
    {
     "name": "stdout",
     "output_type": "stream",
     "text": [
      "http://dhlabsrv17.epfl.ch/iiif_impresso_new/BDC-1839-02-25-a-p0001/16,1005,80,19/full/0/default.jpg\n",
      "-----------------\n",
      "\n",
      "Sa \t\t\t\t\t// (BDC-1839-03-14-a-p0004) ([919, 760, 18, 17])\n"
     ]
    },
    {
     "data": {
      "text/html": [
       "<img src=\"http://dhlabsrv17.epfl.ch/iiif_impresso/BDC-1839-03-14-a-p0004/919,760,18,17/full/0/default.jpg\"/>"
      ],
      "text/plain": [
       "<IPython.core.display.Image object>"
      ]
     },
     "metadata": {},
     "output_type": "display_data"
    },
    {
     "data": {
      "text/html": [
       "<img src=\"http://dhlabsrv17.epfl.ch/iiif_impresso_new/BDC-1839-03-14-a-p0004/919,760,18,17/full/0/default.jpg\"/>"
      ],
      "text/plain": [
       "<IPython.core.display.Image object>"
      ]
     },
     "metadata": {},
     "output_type": "display_data"
    },
    {
     "name": "stdout",
     "output_type": "stream",
     "text": [
      "http://dhlabsrv17.epfl.ch/iiif_impresso_new/BDC-1839-03-14-a-p0004/919,760,18,17/full/0/default.jpg\n",
      "-----------------\n",
      "\n",
      "la \t\t\t\t\t// (BDC-1839-03-14-a-p0004) ([110, 282, 13, 18])\n"
     ]
    },
    {
     "data": {
      "text/html": [
       "<img src=\"http://dhlabsrv17.epfl.ch/iiif_impresso/BDC-1839-03-14-a-p0004/110,282,13,18/full/0/default.jpg\"/>"
      ],
      "text/plain": [
       "<IPython.core.display.Image object>"
      ]
     },
     "metadata": {},
     "output_type": "display_data"
    },
    {
     "data": {
      "text/html": [
       "<img src=\"http://dhlabsrv17.epfl.ch/iiif_impresso_new/BDC-1839-03-14-a-p0004/110,282,13,18/full/0/default.jpg\"/>"
      ],
      "text/plain": [
       "<IPython.core.display.Image object>"
      ]
     },
     "metadata": {},
     "output_type": "display_data"
    },
    {
     "name": "stdout",
     "output_type": "stream",
     "text": [
      "http://dhlabsrv17.epfl.ch/iiif_impresso_new/BDC-1839-03-14-a-p0004/110,282,13,18/full/0/default.jpg\n",
      "-----------------\n",
      "\n",
      "se \t\t\t\t\t// (BDC-1839-02-25-a-p0004) ([332, 553, 16, 19])\n"
     ]
    },
    {
     "data": {
      "text/html": [
       "<img src=\"http://dhlabsrv17.epfl.ch/iiif_impresso/BDC-1839-02-25-a-p0004/332,553,16,19/full/0/default.jpg\"/>"
      ],
      "text/plain": [
       "<IPython.core.display.Image object>"
      ]
     },
     "metadata": {},
     "output_type": "display_data"
    },
    {
     "data": {
      "text/html": [
       "<img src=\"http://dhlabsrv17.epfl.ch/iiif_impresso_new/BDC-1839-02-25-a-p0004/332,553,16,19/full/0/default.jpg\"/>"
      ],
      "text/plain": [
       "<IPython.core.display.Image object>"
      ]
     },
     "metadata": {},
     "output_type": "display_data"
    },
    {
     "name": "stdout",
     "output_type": "stream",
     "text": [
      "http://dhlabsrv17.epfl.ch/iiif_impresso_new/BDC-1839-02-25-a-p0004/332,553,16,19/full/0/default.jpg\n",
      "-----------------\n",
      "\n",
      "ne \t\t\t\t\t// (BDC-1839-02-25-a-p0004) ([278, 170, 19, 19])\n"
     ]
    },
    {
     "data": {
      "text/html": [
       "<img src=\"http://dhlabsrv17.epfl.ch/iiif_impresso/BDC-1839-02-25-a-p0004/278,170,19,19/full/0/default.jpg\"/>"
      ],
      "text/plain": [
       "<IPython.core.display.Image object>"
      ]
     },
     "metadata": {},
     "output_type": "display_data"
    },
    {
     "data": {
      "text/html": [
       "<img src=\"http://dhlabsrv17.epfl.ch/iiif_impresso_new/BDC-1839-02-25-a-p0004/278,170,19,19/full/0/default.jpg\"/>"
      ],
      "text/plain": [
       "<IPython.core.display.Image object>"
      ]
     },
     "metadata": {},
     "output_type": "display_data"
    },
    {
     "name": "stdout",
     "output_type": "stream",
     "text": [
      "http://dhlabsrv17.epfl.ch/iiif_impresso_new/BDC-1839-02-25-a-p0004/278,170,19,19/full/0/default.jpg\n",
      "-----------------\n",
      "\n",
      "quatre \t\t\t\t\t// (BDC-1839-01-20-a-p0004) ([270, 506, 48, 17])\n"
     ]
    },
    {
     "data": {
      "text/html": [
       "<img src=\"http://dhlabsrv17.epfl.ch/iiif_impresso/BDC-1839-01-20-a-p0004/270,506,48,17/full/0/default.jpg\"/>"
      ],
      "text/plain": [
       "<IPython.core.display.Image object>"
      ]
     },
     "metadata": {},
     "output_type": "display_data"
    },
    {
     "data": {
      "text/html": [
       "<img src=\"http://dhlabsrv17.epfl.ch/iiif_impresso_new/BDC-1839-01-20-a-p0004/270,506,48,17/full/0/default.jpg\"/>"
      ],
      "text/plain": [
       "<IPython.core.display.Image object>"
      ]
     },
     "metadata": {},
     "output_type": "display_data"
    },
    {
     "name": "stdout",
     "output_type": "stream",
     "text": [
      "http://dhlabsrv17.epfl.ch/iiif_impresso_new/BDC-1839-01-20-a-p0004/270,506,48,17/full/0/default.jpg\n",
      "-----------------\n",
      "\n",
      ". \t\t\t\t\t// (BDC-1839-01-20-a-p0004) ([440, 997, 6, 23])\n"
     ]
    },
    {
     "data": {
      "text/html": [
       "<img src=\"http://dhlabsrv17.epfl.ch/iiif_impresso/BDC-1839-01-20-a-p0004/440,997,6,23/full/0/default.jpg\"/>"
      ],
      "text/plain": [
       "<IPython.core.display.Image object>"
      ]
     },
     "metadata": {},
     "output_type": "display_data"
    },
    {
     "data": {
      "text/html": [
       "<img src=\"http://dhlabsrv17.epfl.ch/iiif_impresso_new/BDC-1839-01-20-a-p0004/440,997,6,23/full/0/default.jpg\"/>"
      ],
      "text/plain": [
       "<IPython.core.display.Image object>"
      ]
     },
     "metadata": {},
     "output_type": "display_data"
    },
    {
     "name": "stdout",
     "output_type": "stream",
     "text": [
      "http://dhlabsrv17.epfl.ch/iiif_impresso_new/BDC-1839-01-20-a-p0004/440,997,6,23/full/0/default.jpg\n",
      "-----------------\n",
      "\n",
      "' \t\t\t\t\t// (BDC-1839-02-28-a-p0001) ([458, 943, 3, 19])\n"
     ]
    },
    {
     "data": {
      "text/html": [
       "<img src=\"http://dhlabsrv17.epfl.ch/iiif_impresso/BDC-1839-02-28-a-p0001/458,943,3,19/full/0/default.jpg\"/>"
      ],
      "text/plain": [
       "<IPython.core.display.Image object>"
      ]
     },
     "metadata": {},
     "output_type": "display_data"
    },
    {
     "data": {
      "text/html": [
       "<img src=\"http://dhlabsrv17.epfl.ch/iiif_impresso_new/BDC-1839-02-28-a-p0001/458,943,3,19/full/0/default.jpg\"/>"
      ],
      "text/plain": [
       "<IPython.core.display.Image object>"
      ]
     },
     "metadata": {},
     "output_type": "display_data"
    },
    {
     "name": "stdout",
     "output_type": "stream",
     "text": [
      "http://dhlabsrv17.epfl.ch/iiif_impresso_new/BDC-1839-02-28-a-p0001/458,943,3,19/full/0/default.jpg\n",
      "-----------------\n",
      "\n",
      "un \t\t\t\t\t// (BDC-1839-02-28-a-p0001) ([368, 1024, 20, 19])\n"
     ]
    },
    {
     "data": {
      "text/html": [
       "<img src=\"http://dhlabsrv17.epfl.ch/iiif_impresso/BDC-1839-02-28-a-p0001/368,1024,20,19/full/0/default.jpg\"/>"
      ],
      "text/plain": [
       "<IPython.core.display.Image object>"
      ]
     },
     "metadata": {},
     "output_type": "display_data"
    },
    {
     "data": {
      "text/html": [
       "<img src=\"http://dhlabsrv17.epfl.ch/iiif_impresso_new/BDC-1839-02-28-a-p0001/368,1024,20,19/full/0/default.jpg\"/>"
      ],
      "text/plain": [
       "<IPython.core.display.Image object>"
      ]
     },
     "metadata": {},
     "output_type": "display_data"
    },
    {
     "name": "stdout",
     "output_type": "stream",
     "text": [
      "http://dhlabsrv17.epfl.ch/iiif_impresso_new/BDC-1839-02-28-a-p0001/368,1024,20,19/full/0/default.jpg\n",
      "-----------------\n",
      "\n",
      ". \t\t\t\t\t// (BDC-1839-02-25-a-p0002) ([583, 909, 4, 19])\n"
     ]
    },
    {
     "data": {
      "text/html": [
       "<img src=\"http://dhlabsrv17.epfl.ch/iiif_impresso/BDC-1839-02-25-a-p0002/583,909,4,19/full/0/default.jpg\"/>"
      ],
      "text/plain": [
       "<IPython.core.display.Image object>"
      ]
     },
     "metadata": {},
     "output_type": "display_data"
    },
    {
     "data": {
      "text/html": [
       "<img src=\"http://dhlabsrv17.epfl.ch/iiif_impresso_new/BDC-1839-02-25-a-p0002/583,909,4,19/full/0/default.jpg\"/>"
      ],
      "text/plain": [
       "<IPython.core.display.Image object>"
      ]
     },
     "metadata": {},
     "output_type": "display_data"
    },
    {
     "name": "stdout",
     "output_type": "stream",
     "text": [
      "http://dhlabsrv17.epfl.ch/iiif_impresso_new/BDC-1839-02-25-a-p0002/583,909,4,19/full/0/default.jpg\n",
      "-----------------\n",
      "\n",
      "a \t\t\t\t\t// (BDC-1839-02-25-a-p0002) ([278, 1190, 9, 19])\n"
     ]
    },
    {
     "data": {
      "text/html": [
       "<img src=\"http://dhlabsrv17.epfl.ch/iiif_impresso/BDC-1839-02-25-a-p0002/278,1190,9,19/full/0/default.jpg\"/>"
      ],
      "text/plain": [
       "<IPython.core.display.Image object>"
      ]
     },
     "metadata": {},
     "output_type": "display_data"
    },
    {
     "data": {
      "text/html": [
       "<img src=\"http://dhlabsrv17.epfl.ch/iiif_impresso_new/BDC-1839-02-25-a-p0002/278,1190,9,19/full/0/default.jpg\"/>"
      ],
      "text/plain": [
       "<IPython.core.display.Image object>"
      ]
     },
     "metadata": {},
     "output_type": "display_data"
    },
    {
     "name": "stdout",
     "output_type": "stream",
     "text": [
      "http://dhlabsrv17.epfl.ch/iiif_impresso_new/BDC-1839-02-25-a-p0002/278,1190,9,19/full/0/default.jpg\n",
      "-----------------\n",
      "\n",
      "convoque \t\t\t\t\t// (BDC-1839-01-20-a-p0002) ([688, 1097, 81, 19])\n"
     ]
    },
    {
     "data": {
      "text/html": [
       "<img src=\"http://dhlabsrv17.epfl.ch/iiif_impresso/BDC-1839-01-20-a-p0002/688,1097,81,19/full/0/default.jpg\"/>"
      ],
      "text/plain": [
       "<IPython.core.display.Image object>"
      ]
     },
     "metadata": {},
     "output_type": "display_data"
    },
    {
     "data": {
      "text/html": [
       "<img src=\"http://dhlabsrv17.epfl.ch/iiif_impresso_new/BDC-1839-01-20-a-p0002/688,1097,81,19/full/0/default.jpg\"/>"
      ],
      "text/plain": [
       "<IPython.core.display.Image object>"
      ]
     },
     "metadata": {},
     "output_type": "display_data"
    },
    {
     "name": "stdout",
     "output_type": "stream",
     "text": [
      "http://dhlabsrv17.epfl.ch/iiif_impresso_new/BDC-1839-01-20-a-p0002/688,1097,81,19/full/0/default.jpg\n",
      "-----------------\n",
      "\n",
      "décrétée \t\t\t\t\t// (BDC-1839-01-20-a-p0002) ([196, 323, 72, 19])\n"
     ]
    },
    {
     "data": {
      "text/html": [
       "<img src=\"http://dhlabsrv17.epfl.ch/iiif_impresso/BDC-1839-01-20-a-p0002/196,323,72,19/full/0/default.jpg\"/>"
      ],
      "text/plain": [
       "<IPython.core.display.Image object>"
      ]
     },
     "metadata": {},
     "output_type": "display_data"
    },
    {
     "data": {
      "text/html": [
       "<img src=\"http://dhlabsrv17.epfl.ch/iiif_impresso_new/BDC-1839-01-20-a-p0002/196,323,72,19/full/0/default.jpg\"/>"
      ],
      "text/plain": [
       "<IPython.core.display.Image object>"
      ]
     },
     "metadata": {},
     "output_type": "display_data"
    },
    {
     "name": "stdout",
     "output_type": "stream",
     "text": [
      "http://dhlabsrv17.epfl.ch/iiif_impresso_new/BDC-1839-01-20-a-p0002/196,323,72,19/full/0/default.jpg\n",
      "-----------------\n",
      "\n",
      "MORAAP \t\t\t\t\t// (BDC-1839-02-28-a-p0004) ([668, 784, 75, 15])\n"
     ]
    },
    {
     "data": {
      "text/html": [
       "<img src=\"http://dhlabsrv17.epfl.ch/iiif_impresso/BDC-1839-02-28-a-p0004/668,784,75,15/full/0/default.jpg\"/>"
      ],
      "text/plain": [
       "<IPython.core.display.Image object>"
      ]
     },
     "metadata": {},
     "output_type": "display_data"
    },
    {
     "data": {
      "text/html": [
       "<img src=\"http://dhlabsrv17.epfl.ch/iiif_impresso_new/BDC-1839-02-28-a-p0004/668,784,75,15/full/0/default.jpg\"/>"
      ],
      "text/plain": [
       "<IPython.core.display.Image object>"
      ]
     },
     "metadata": {},
     "output_type": "display_data"
    },
    {
     "name": "stdout",
     "output_type": "stream",
     "text": [
      "http://dhlabsrv17.epfl.ch/iiif_impresso_new/BDC-1839-02-28-a-p0004/668,784,75,15/full/0/default.jpg\n",
      "-----------------\n",
      "\n",
      ", \t\t\t\t\t// (BDC-1839-02-28-a-p0004) ([744, 784, 4, 15])\n"
     ]
    },
    {
     "data": {
      "text/html": [
       "<img src=\"http://dhlabsrv17.epfl.ch/iiif_impresso/BDC-1839-02-28-a-p0004/744,784,4,15/full/0/default.jpg\"/>"
      ],
      "text/plain": [
       "<IPython.core.display.Image object>"
      ]
     },
     "metadata": {},
     "output_type": "display_data"
    },
    {
     "data": {
      "text/html": [
       "<img src=\"http://dhlabsrv17.epfl.ch/iiif_impresso_new/BDC-1839-02-28-a-p0004/744,784,4,15/full/0/default.jpg\"/>"
      ],
      "text/plain": [
       "<IPython.core.display.Image object>"
      ]
     },
     "metadata": {},
     "output_type": "display_data"
    },
    {
     "name": "stdout",
     "output_type": "stream",
     "text": [
      "http://dhlabsrv17.epfl.ch/iiif_impresso_new/BDC-1839-02-28-a-p0004/744,784,4,15/full/0/default.jpg\n",
      "-----------------\n",
      "\n",
      "la \t\t\t\t\t// (BDC-1839-02-25-a-p0002) ([544, 1059, 14, 19])\n"
     ]
    },
    {
     "data": {
      "text/html": [
       "<img src=\"http://dhlabsrv17.epfl.ch/iiif_impresso/BDC-1839-02-25-a-p0002/544,1059,14,19/full/0/default.jpg\"/>"
      ],
      "text/plain": [
       "<IPython.core.display.Image object>"
      ]
     },
     "metadata": {},
     "output_type": "display_data"
    },
    {
     "data": {
      "text/html": [
       "<img src=\"http://dhlabsrv17.epfl.ch/iiif_impresso_new/BDC-1839-02-25-a-p0002/544,1059,14,19/full/0/default.jpg\"/>"
      ],
      "text/plain": [
       "<IPython.core.display.Image object>"
      ]
     },
     "metadata": {},
     "output_type": "display_data"
    },
    {
     "name": "stdout",
     "output_type": "stream",
     "text": [
      "http://dhlabsrv17.epfl.ch/iiif_impresso_new/BDC-1839-02-25-a-p0002/544,1059,14,19/full/0/default.jpg\n",
      "-----------------\n",
      "\n",
      "convaincus \t\t\t\t\t// (BDC-1839-02-25-a-p0002) ([252, 1068, 93, 19])\n"
     ]
    },
    {
     "data": {
      "text/html": [
       "<img src=\"http://dhlabsrv17.epfl.ch/iiif_impresso/BDC-1839-02-25-a-p0002/252,1068,93,19/full/0/default.jpg\"/>"
      ],
      "text/plain": [
       "<IPython.core.display.Image object>"
      ]
     },
     "metadata": {},
     "output_type": "display_data"
    },
    {
     "data": {
      "text/html": [
       "<img src=\"http://dhlabsrv17.epfl.ch/iiif_impresso_new/BDC-1839-02-25-a-p0002/252,1068,93,19/full/0/default.jpg\"/>"
      ],
      "text/plain": [
       "<IPython.core.display.Image object>"
      ]
     },
     "metadata": {},
     "output_type": "display_data"
    },
    {
     "name": "stdout",
     "output_type": "stream",
     "text": [
      "http://dhlabsrv17.epfl.ch/iiif_impresso_new/BDC-1839-02-25-a-p0002/252,1068,93,19/full/0/default.jpg\n",
      "-----------------\n",
      "\n",
      "exécutoires \t\t\t\t\t// (BDC-1839-01-20-a-p0006) ([751, 514, 96, 19])\n"
     ]
    },
    {
     "data": {
      "text/html": [
       "<img src=\"http://dhlabsrv17.epfl.ch/iiif_impresso/BDC-1839-01-20-a-p0006/751,514,96,19/full/0/default.jpg\"/>"
      ],
      "text/plain": [
       "<IPython.core.display.Image object>"
      ]
     },
     "metadata": {},
     "output_type": "display_data"
    },
    {
     "data": {
      "text/html": [
       "<img src=\"http://dhlabsrv17.epfl.ch/iiif_impresso_new/BDC-1839-01-20-a-p0006/751,514,96,19/full/0/default.jpg\"/>"
      ],
      "text/plain": [
       "<IPython.core.display.Image object>"
      ]
     },
     "metadata": {},
     "output_type": "display_data"
    },
    {
     "name": "stdout",
     "output_type": "stream",
     "text": [
      "http://dhlabsrv17.epfl.ch/iiif_impresso_new/BDC-1839-01-20-a-p0006/751,514,96,19/full/0/default.jpg\n",
      "-----------------\n",
      "\n",
      "UiraiSlERlE \t\t\t\t\t// (BDC-1839-01-20-a-p0006) ([351, 1218, 96, 14])\n"
     ]
    },
    {
     "data": {
      "text/html": [
       "<img src=\"http://dhlabsrv17.epfl.ch/iiif_impresso/BDC-1839-01-20-a-p0006/351,1218,96,14/full/0/default.jpg\"/>"
      ],
      "text/plain": [
       "<IPython.core.display.Image object>"
      ]
     },
     "metadata": {},
     "output_type": "display_data"
    },
    {
     "data": {
      "text/html": [
       "<img src=\"http://dhlabsrv17.epfl.ch/iiif_impresso_new/BDC-1839-01-20-a-p0006/351,1218,96,14/full/0/default.jpg\"/>"
      ],
      "text/plain": [
       "<IPython.core.display.Image object>"
      ]
     },
     "metadata": {},
     "output_type": "display_data"
    },
    {
     "name": "stdout",
     "output_type": "stream",
     "text": [
      "http://dhlabsrv17.epfl.ch/iiif_impresso_new/BDC-1839-01-20-a-p0006/351,1218,96,14/full/0/default.jpg\n",
      "-----------------\n",
      "\n",
      "la \t\t\t\t\t// (BDC-1839-02-25-a-p0003) ([134, 134, 15, 19])\n"
     ]
    },
    {
     "data": {
      "text/html": [
       "<img src=\"http://dhlabsrv17.epfl.ch/iiif_impresso/BDC-1839-02-25-a-p0003/134,134,15,19/full/0/default.jpg\"/>"
      ],
      "text/plain": [
       "<IPython.core.display.Image object>"
      ]
     },
     "metadata": {},
     "output_type": "display_data"
    },
    {
     "data": {
      "text/html": [
       "<img src=\"http://dhlabsrv17.epfl.ch/iiif_impresso_new/BDC-1839-02-25-a-p0003/134,134,15,19/full/0/default.jpg\"/>"
      ],
      "text/plain": [
       "<IPython.core.display.Image object>"
      ]
     },
     "metadata": {},
     "output_type": "display_data"
    },
    {
     "name": "stdout",
     "output_type": "stream",
     "text": [
      "http://dhlabsrv17.epfl.ch/iiif_impresso_new/BDC-1839-02-25-a-p0003/134,134,15,19/full/0/default.jpg\n",
      "-----------------\n",
      "\n",
      "avec \t\t\t\t\t// (BDC-1839-02-25-a-p0003) ([192, 897, 37, 19])\n"
     ]
    },
    {
     "data": {
      "text/html": [
       "<img src=\"http://dhlabsrv17.epfl.ch/iiif_impresso/BDC-1839-02-25-a-p0003/192,897,37,19/full/0/default.jpg\"/>"
      ],
      "text/plain": [
       "<IPython.core.display.Image object>"
      ]
     },
     "metadata": {},
     "output_type": "display_data"
    },
    {
     "data": {
      "text/html": [
       "<img src=\"http://dhlabsrv17.epfl.ch/iiif_impresso_new/BDC-1839-02-25-a-p0003/192,897,37,19/full/0/default.jpg\"/>"
      ],
      "text/plain": [
       "<IPython.core.display.Image object>"
      ]
     },
     "metadata": {},
     "output_type": "display_data"
    },
    {
     "name": "stdout",
     "output_type": "stream",
     "text": [
      "http://dhlabsrv17.epfl.ch/iiif_impresso_new/BDC-1839-02-25-a-p0003/192,897,37,19/full/0/default.jpg\n",
      "-----------------\n",
      "\n",
      "qu'à \t\t\t\t\t// (BDC-1839-03-14-a-p0004) ([858, 478, 34, 17])\n"
     ]
    },
    {
     "data": {
      "text/html": [
       "<img src=\"http://dhlabsrv17.epfl.ch/iiif_impresso/BDC-1839-03-14-a-p0004/858,478,34,17/full/0/default.jpg\"/>"
      ],
      "text/plain": [
       "<IPython.core.display.Image object>"
      ]
     },
     "metadata": {},
     "output_type": "display_data"
    },
    {
     "data": {
      "text/html": [
       "<img src=\"http://dhlabsrv17.epfl.ch/iiif_impresso_new/BDC-1839-03-14-a-p0004/858,478,34,17/full/0/default.jpg\"/>"
      ],
      "text/plain": [
       "<IPython.core.display.Image object>"
      ]
     },
     "metadata": {},
     "output_type": "display_data"
    },
    {
     "name": "stdout",
     "output_type": "stream",
     "text": [
      "http://dhlabsrv17.epfl.ch/iiif_impresso_new/BDC-1839-03-14-a-p0004/858,478,34,17/full/0/default.jpg\n",
      "-----------------\n",
      "\n",
      "sang \t\t\t\t\t// (BDC-1839-03-14-a-p0004) ([320, 606, 36, 17])\n"
     ]
    },
    {
     "data": {
      "text/html": [
       "<img src=\"http://dhlabsrv17.epfl.ch/iiif_impresso/BDC-1839-03-14-a-p0004/320,606,36,17/full/0/default.jpg\"/>"
      ],
      "text/plain": [
       "<IPython.core.display.Image object>"
      ]
     },
     "metadata": {},
     "output_type": "display_data"
    },
    {
     "data": {
      "text/html": [
       "<img src=\"http://dhlabsrv17.epfl.ch/iiif_impresso_new/BDC-1839-03-14-a-p0004/320,606,36,17/full/0/default.jpg\"/>"
      ],
      "text/plain": [
       "<IPython.core.display.Image object>"
      ]
     },
     "metadata": {},
     "output_type": "display_data"
    },
    {
     "name": "stdout",
     "output_type": "stream",
     "text": [
      "http://dhlabsrv17.epfl.ch/iiif_impresso_new/BDC-1839-03-14-a-p0004/320,606,36,17/full/0/default.jpg\n",
      "-----------------\n",
      "\n",
      "avec \t\t\t\t\t// (BDC-1839-03-14-a-p0003) ([859, 610, 42, 21])\n"
     ]
    },
    {
     "data": {
      "text/html": [
       "<img src=\"http://dhlabsrv17.epfl.ch/iiif_impresso/BDC-1839-03-14-a-p0003/859,610,42,21/full/0/default.jpg\"/>"
      ],
      "text/plain": [
       "<IPython.core.display.Image object>"
      ]
     },
     "metadata": {},
     "output_type": "display_data"
    },
    {
     "data": {
      "text/html": [
       "<img src=\"http://dhlabsrv17.epfl.ch/iiif_impresso_new/BDC-1839-03-14-a-p0003/859,610,42,21/full/0/default.jpg\"/>"
      ],
      "text/plain": [
       "<IPython.core.display.Image object>"
      ]
     },
     "metadata": {},
     "output_type": "display_data"
    },
    {
     "name": "stdout",
     "output_type": "stream",
     "text": [
      "http://dhlabsrv17.epfl.ch/iiif_impresso_new/BDC-1839-03-14-a-p0003/859,610,42,21/full/0/default.jpg\n",
      "-----------------\n",
      "\n",
      ", \t\t\t\t\t// (BDC-1839-03-14-a-p0003) ([530, 461, 5, 21])\n"
     ]
    },
    {
     "data": {
      "text/html": [
       "<img src=\"http://dhlabsrv17.epfl.ch/iiif_impresso/BDC-1839-03-14-a-p0003/530,461,5,21/full/0/default.jpg\"/>"
      ],
      "text/plain": [
       "<IPython.core.display.Image object>"
      ]
     },
     "metadata": {},
     "output_type": "display_data"
    },
    {
     "data": {
      "text/html": [
       "<img src=\"http://dhlabsrv17.epfl.ch/iiif_impresso_new/BDC-1839-03-14-a-p0003/530,461,5,21/full/0/default.jpg\"/>"
      ],
      "text/plain": [
       "<IPython.core.display.Image object>"
      ]
     },
     "metadata": {},
     "output_type": "display_data"
    },
    {
     "name": "stdout",
     "output_type": "stream",
     "text": [
      "http://dhlabsrv17.epfl.ch/iiif_impresso_new/BDC-1839-03-14-a-p0003/530,461,5,21/full/0/default.jpg\n",
      "-----------------\n",
      "\n",
      "aujourd'hui \t\t\t\t\t// (BDC-1839-02-28-a-p0004) ([780, 643, 96, 19])\n"
     ]
    },
    {
     "data": {
      "text/html": [
       "<img src=\"http://dhlabsrv17.epfl.ch/iiif_impresso/BDC-1839-02-28-a-p0004/780,643,96,19/full/0/default.jpg\"/>"
      ],
      "text/plain": [
       "<IPython.core.display.Image object>"
      ]
     },
     "metadata": {},
     "output_type": "display_data"
    },
    {
     "data": {
      "text/html": [
       "<img src=\"http://dhlabsrv17.epfl.ch/iiif_impresso_new/BDC-1839-02-28-a-p0004/780,643,96,19/full/0/default.jpg\"/>"
      ],
      "text/plain": [
       "<IPython.core.display.Image object>"
      ]
     },
     "metadata": {},
     "output_type": "display_data"
    },
    {
     "name": "stdout",
     "output_type": "stream",
     "text": [
      "http://dhlabsrv17.epfl.ch/iiif_impresso_new/BDC-1839-02-28-a-p0004/780,643,96,19/full/0/default.jpg\n",
      "-----------------\n",
      "\n",
      "MORAAP \t\t\t\t\t// (BDC-1839-02-28-a-p0004) ([668, 784, 75, 15])\n"
     ]
    },
    {
     "data": {
      "text/html": [
       "<img src=\"http://dhlabsrv17.epfl.ch/iiif_impresso/BDC-1839-02-28-a-p0004/668,784,75,15/full/0/default.jpg\"/>"
      ],
      "text/plain": [
       "<IPython.core.display.Image object>"
      ]
     },
     "metadata": {},
     "output_type": "display_data"
    },
    {
     "data": {
      "text/html": [
       "<img src=\"http://dhlabsrv17.epfl.ch/iiif_impresso_new/BDC-1839-02-28-a-p0004/668,784,75,15/full/0/default.jpg\"/>"
      ],
      "text/plain": [
       "<IPython.core.display.Image object>"
      ]
     },
     "metadata": {},
     "output_type": "display_data"
    },
    {
     "name": "stdout",
     "output_type": "stream",
     "text": [
      "http://dhlabsrv17.epfl.ch/iiif_impresso_new/BDC-1839-02-28-a-p0004/668,784,75,15/full/0/default.jpg\n",
      "-----------------\n",
      "\n",
      "\\> \t\t\t\t\t// (BDC-1839-02-28-a-p0003) ([30, 1221, 15, 17])\n"
     ]
    },
    {
     "data": {
      "text/html": [
       "<img src=\"http://dhlabsrv17.epfl.ch/iiif_impresso/BDC-1839-02-28-a-p0003/30,1221,15,17/full/0/default.jpg\"/>"
      ],
      "text/plain": [
       "<IPython.core.display.Image object>"
      ]
     },
     "metadata": {},
     "output_type": "display_data"
    },
    {
     "data": {
      "text/html": [
       "<img src=\"http://dhlabsrv17.epfl.ch/iiif_impresso_new/BDC-1839-02-28-a-p0003/30,1221,15,17/full/0/default.jpg\"/>"
      ],
      "text/plain": [
       "<IPython.core.display.Image object>"
      ]
     },
     "metadata": {},
     "output_type": "display_data"
    },
    {
     "name": "stdout",
     "output_type": "stream",
     "text": [
      "http://dhlabsrv17.epfl.ch/iiif_impresso_new/BDC-1839-02-28-a-p0003/30,1221,15,17/full/0/default.jpg\n",
      "-----------------\n",
      "\n",
      "constitution \t\t\t\t\t// (BDC-1839-02-28-a-p0003) ([622, 170, 97, 17])\n"
     ]
    },
    {
     "data": {
      "text/html": [
       "<img src=\"http://dhlabsrv17.epfl.ch/iiif_impresso/BDC-1839-02-28-a-p0003/622,170,97,17/full/0/default.jpg\"/>"
      ],
      "text/plain": [
       "<IPython.core.display.Image object>"
      ]
     },
     "metadata": {},
     "output_type": "display_data"
    },
    {
     "data": {
      "text/html": [
       "<img src=\"http://dhlabsrv17.epfl.ch/iiif_impresso_new/BDC-1839-02-28-a-p0003/622,170,97,17/full/0/default.jpg\"/>"
      ],
      "text/plain": [
       "<IPython.core.display.Image object>"
      ]
     },
     "metadata": {},
     "output_type": "display_data"
    },
    {
     "name": "stdout",
     "output_type": "stream",
     "text": [
      "http://dhlabsrv17.epfl.ch/iiif_impresso_new/BDC-1839-02-28-a-p0003/622,170,97,17/full/0/default.jpg\n",
      "-----------------\n",
      "\n",
      "qu'aussi \t\t\t\t\t// (BDC-1839-02-23-a-p0003) ([216, 980, 67, 19])\n"
     ]
    },
    {
     "data": {
      "text/html": [
       "<img src=\"http://dhlabsrv17.epfl.ch/iiif_impresso/BDC-1839-02-23-a-p0003/216,980,67,19/full/0/default.jpg\"/>"
      ],
      "text/plain": [
       "<IPython.core.display.Image object>"
      ]
     },
     "metadata": {},
     "output_type": "display_data"
    },
    {
     "data": {
      "text/html": [
       "<img src=\"http://dhlabsrv17.epfl.ch/iiif_impresso_new/BDC-1839-02-23-a-p0003/216,980,67,19/full/0/default.jpg\"/>"
      ],
      "text/plain": [
       "<IPython.core.display.Image object>"
      ]
     },
     "metadata": {},
     "output_type": "display_data"
    },
    {
     "name": "stdout",
     "output_type": "stream",
     "text": [
      "http://dhlabsrv17.epfl.ch/iiif_impresso_new/BDC-1839-02-23-a-p0003/216,980,67,19/full/0/default.jpg\n",
      "-----------------\n",
      "\n",
      "depuis \t\t\t\t\t// (BDC-1839-02-23-a-p0003) ([118, 373, 53, 19])\n"
     ]
    },
    {
     "data": {
      "text/html": [
       "<img src=\"http://dhlabsrv17.epfl.ch/iiif_impresso/BDC-1839-02-23-a-p0003/118,373,53,19/full/0/default.jpg\"/>"
      ],
      "text/plain": [
       "<IPython.core.display.Image object>"
      ]
     },
     "metadata": {},
     "output_type": "display_data"
    },
    {
     "data": {
      "text/html": [
       "<img src=\"http://dhlabsrv17.epfl.ch/iiif_impresso_new/BDC-1839-02-23-a-p0003/118,373,53,19/full/0/default.jpg\"/>"
      ],
      "text/plain": [
       "<IPython.core.display.Image object>"
      ]
     },
     "metadata": {},
     "output_type": "display_data"
    },
    {
     "name": "stdout",
     "output_type": "stream",
     "text": [
      "http://dhlabsrv17.epfl.ch/iiif_impresso_new/BDC-1839-02-23-a-p0003/118,373,53,19/full/0/default.jpg\n",
      "-----------------\n",
      "\n",
      "supérieurs \t\t\t\t\t// (BDC-1839-02-28-a-p0003) ([83, 863, 85, 17])\n"
     ]
    },
    {
     "data": {
      "text/html": [
       "<img src=\"http://dhlabsrv17.epfl.ch/iiif_impresso/BDC-1839-02-28-a-p0003/83,863,85,17/full/0/default.jpg\"/>"
      ],
      "text/plain": [
       "<IPython.core.display.Image object>"
      ]
     },
     "metadata": {},
     "output_type": "display_data"
    },
    {
     "data": {
      "text/html": [
       "<img src=\"http://dhlabsrv17.epfl.ch/iiif_impresso_new/BDC-1839-02-28-a-p0003/83,863,85,17/full/0/default.jpg\"/>"
      ],
      "text/plain": [
       "<IPython.core.display.Image object>"
      ]
     },
     "metadata": {},
     "output_type": "display_data"
    },
    {
     "name": "stdout",
     "output_type": "stream",
     "text": [
      "http://dhlabsrv17.epfl.ch/iiif_impresso_new/BDC-1839-02-28-a-p0003/83,863,85,17/full/0/default.jpg\n",
      "-----------------\n",
      "\n",
      "1839 \t\t\t\t\t// (BDC-1839-02-28-a-p0003) ([771, 677, 39, 17])\n"
     ]
    },
    {
     "data": {
      "text/html": [
       "<img src=\"http://dhlabsrv17.epfl.ch/iiif_impresso/BDC-1839-02-28-a-p0003/771,677,39,17/full/0/default.jpg\"/>"
      ],
      "text/plain": [
       "<IPython.core.display.Image object>"
      ]
     },
     "metadata": {},
     "output_type": "display_data"
    },
    {
     "data": {
      "text/html": [
       "<img src=\"http://dhlabsrv17.epfl.ch/iiif_impresso_new/BDC-1839-02-28-a-p0003/771,677,39,17/full/0/default.jpg\"/>"
      ],
      "text/plain": [
       "<IPython.core.display.Image object>"
      ]
     },
     "metadata": {},
     "output_type": "display_data"
    },
    {
     "name": "stdout",
     "output_type": "stream",
     "text": [
      "http://dhlabsrv17.epfl.ch/iiif_impresso_new/BDC-1839-02-28-a-p0003/771,677,39,17/full/0/default.jpg\n",
      "-----------------\n",
      "\n",
      "Clergé \t\t\t\t\t// (BDC-1839-03-14-a-p0003) ([347, 460, 59, 20])\n"
     ]
    },
    {
     "data": {
      "text/html": [
       "<img src=\"http://dhlabsrv17.epfl.ch/iiif_impresso/BDC-1839-03-14-a-p0003/347,460,59,20/full/0/default.jpg\"/>"
      ],
      "text/plain": [
       "<IPython.core.display.Image object>"
      ]
     },
     "metadata": {},
     "output_type": "display_data"
    },
    {
     "data": {
      "text/html": [
       "<img src=\"http://dhlabsrv17.epfl.ch/iiif_impresso_new/BDC-1839-03-14-a-p0003/347,460,59,20/full/0/default.jpg\"/>"
      ],
      "text/plain": [
       "<IPython.core.display.Image object>"
      ]
     },
     "metadata": {},
     "output_type": "display_data"
    },
    {
     "name": "stdout",
     "output_type": "stream",
     "text": [
      "http://dhlabsrv17.epfl.ch/iiif_impresso_new/BDC-1839-03-14-a-p0003/347,460,59,20/full/0/default.jpg\n",
      "-----------------\n",
      "\n",
      "de \t\t\t\t\t// (BDC-1839-03-14-a-p0003) ([74, 398, 20, 21])\n"
     ]
    },
    {
     "data": {
      "text/html": [
       "<img src=\"http://dhlabsrv17.epfl.ch/iiif_impresso/BDC-1839-03-14-a-p0003/74,398,20,21/full/0/default.jpg\"/>"
      ],
      "text/plain": [
       "<IPython.core.display.Image object>"
      ]
     },
     "metadata": {},
     "output_type": "display_data"
    },
    {
     "data": {
      "text/html": [
       "<img src=\"http://dhlabsrv17.epfl.ch/iiif_impresso_new/BDC-1839-03-14-a-p0003/74,398,20,21/full/0/default.jpg\"/>"
      ],
      "text/plain": [
       "<IPython.core.display.Image object>"
      ]
     },
     "metadata": {},
     "output_type": "display_data"
    },
    {
     "name": "stdout",
     "output_type": "stream",
     "text": [
      "http://dhlabsrv17.epfl.ch/iiif_impresso_new/BDC-1839-03-14-a-p0003/74,398,20,21/full/0/default.jpg\n",
      "-----------------\n",
      "\n",
      "Rey \t\t\t\t\t// (BDC-1839-03-14-a-p0004) ([372, 424, 32, 18])\n"
     ]
    },
    {
     "data": {
      "text/html": [
       "<img src=\"http://dhlabsrv17.epfl.ch/iiif_impresso/BDC-1839-03-14-a-p0004/372,424,32,18/full/0/default.jpg\"/>"
      ],
      "text/plain": [
       "<IPython.core.display.Image object>"
      ]
     },
     "metadata": {},
     "output_type": "display_data"
    },
    {
     "data": {
      "text/html": [
       "<img src=\"http://dhlabsrv17.epfl.ch/iiif_impresso_new/BDC-1839-03-14-a-p0004/372,424,32,18/full/0/default.jpg\"/>"
      ],
      "text/plain": [
       "<IPython.core.display.Image object>"
      ]
     },
     "metadata": {},
     "output_type": "display_data"
    },
    {
     "name": "stdout",
     "output_type": "stream",
     "text": [
      "http://dhlabsrv17.epfl.ch/iiif_impresso_new/BDC-1839-03-14-a-p0004/372,424,32,18/full/0/default.jpg\n",
      "-----------------\n",
      "\n",
      "ville \t\t\t\t\t// (BDC-1839-03-14-a-p0004) ([693, 1133, 35, 18])\n"
     ]
    },
    {
     "data": {
      "text/html": [
       "<img src=\"http://dhlabsrv17.epfl.ch/iiif_impresso/BDC-1839-03-14-a-p0004/693,1133,35,18/full/0/default.jpg\"/>"
      ],
      "text/plain": [
       "<IPython.core.display.Image object>"
      ]
     },
     "metadata": {},
     "output_type": "display_data"
    },
    {
     "data": {
      "text/html": [
       "<img src=\"http://dhlabsrv17.epfl.ch/iiif_impresso_new/BDC-1839-03-14-a-p0004/693,1133,35,18/full/0/default.jpg\"/>"
      ],
      "text/plain": [
       "<IPython.core.display.Image object>"
      ]
     },
     "metadata": {},
     "output_type": "display_data"
    },
    {
     "name": "stdout",
     "output_type": "stream",
     "text": [
      "http://dhlabsrv17.epfl.ch/iiif_impresso_new/BDC-1839-03-14-a-p0004/693,1133,35,18/full/0/default.jpg\n",
      "-----------------\n",
      "\n",
      "de \t\t\t\t\t// (BDC-1839-01-21-a-p0001) ([578, 478, 21, 21])\n"
     ]
    },
    {
     "data": {
      "text/html": [
       "<img src=\"http://dhlabsrv17.epfl.ch/iiif_impresso/BDC-1839-01-21-a-p0001/578,478,21,21/full/0/default.jpg\"/>"
      ],
      "text/plain": [
       "<IPython.core.display.Image object>"
      ]
     },
     "metadata": {},
     "output_type": "display_data"
    },
    {
     "data": {
      "text/html": [
       "<img src=\"http://dhlabsrv17.epfl.ch/iiif_impresso_new/BDC-1839-01-21-a-p0001/578,478,21,21/full/0/default.jpg\"/>"
      ],
      "text/plain": [
       "<IPython.core.display.Image object>"
      ]
     },
     "metadata": {},
     "output_type": "display_data"
    },
    {
     "name": "stdout",
     "output_type": "stream",
     "text": [
      "http://dhlabsrv17.epfl.ch/iiif_impresso_new/BDC-1839-01-21-a-p0001/578,478,21,21/full/0/default.jpg\n",
      "-----------------\n",
      "\n",
      "par \t\t\t\t\t// (BDC-1839-01-21-a-p0001) ([455, 1069, 31, 21])\n"
     ]
    },
    {
     "data": {
      "text/html": [
       "<img src=\"http://dhlabsrv17.epfl.ch/iiif_impresso/BDC-1839-01-21-a-p0001/455,1069,31,21/full/0/default.jpg\"/>"
      ],
      "text/plain": [
       "<IPython.core.display.Image object>"
      ]
     },
     "metadata": {},
     "output_type": "display_data"
    },
    {
     "data": {
      "text/html": [
       "<img src=\"http://dhlabsrv17.epfl.ch/iiif_impresso_new/BDC-1839-01-21-a-p0001/455,1069,31,21/full/0/default.jpg\"/>"
      ],
      "text/plain": [
       "<IPython.core.display.Image object>"
      ]
     },
     "metadata": {},
     "output_type": "display_data"
    },
    {
     "name": "stdout",
     "output_type": "stream",
     "text": [
      "http://dhlabsrv17.epfl.ch/iiif_impresso_new/BDC-1839-01-21-a-p0001/455,1069,31,21/full/0/default.jpg\n",
      "-----------------\n",
      "\n",
      "; \t\t\t\t\t// (BDC-1839-01-20-a-p0002) ([677, 678, 6, 19])\n"
     ]
    },
    {
     "data": {
      "text/html": [
       "<img src=\"http://dhlabsrv17.epfl.ch/iiif_impresso/BDC-1839-01-20-a-p0002/677,678,6,19/full/0/default.jpg\"/>"
      ],
      "text/plain": [
       "<IPython.core.display.Image object>"
      ]
     },
     "metadata": {},
     "output_type": "display_data"
    },
    {
     "data": {
      "text/html": [
       "<img src=\"http://dhlabsrv17.epfl.ch/iiif_impresso_new/BDC-1839-01-20-a-p0002/677,678,6,19/full/0/default.jpg\"/>"
      ],
      "text/plain": [
       "<IPython.core.display.Image object>"
      ]
     },
     "metadata": {},
     "output_type": "display_data"
    },
    {
     "name": "stdout",
     "output_type": "stream",
     "text": [
      "http://dhlabsrv17.epfl.ch/iiif_impresso_new/BDC-1839-01-20-a-p0002/677,678,6,19/full/0/default.jpg\n",
      "-----------------\n",
      "\n",
      ". \t\t\t\t\t// (BDC-1839-01-20-a-p0002) ([147, 347, 5, 19])\n"
     ]
    },
    {
     "data": {
      "text/html": [
       "<img src=\"http://dhlabsrv17.epfl.ch/iiif_impresso/BDC-1839-01-20-a-p0002/147,347,5,19/full/0/default.jpg\"/>"
      ],
      "text/plain": [
       "<IPython.core.display.Image object>"
      ]
     },
     "metadata": {},
     "output_type": "display_data"
    },
    {
     "data": {
      "text/html": [
       "<img src=\"http://dhlabsrv17.epfl.ch/iiif_impresso_new/BDC-1839-01-20-a-p0002/147,347,5,19/full/0/default.jpg\"/>"
      ],
      "text/plain": [
       "<IPython.core.display.Image object>"
      ]
     },
     "metadata": {},
     "output_type": "display_data"
    },
    {
     "name": "stdout",
     "output_type": "stream",
     "text": [
      "http://dhlabsrv17.epfl.ch/iiif_impresso_new/BDC-1839-01-20-a-p0002/147,347,5,19/full/0/default.jpg\n",
      "-----------------\n",
      "\n",
      "renourelièrent \t\t\t\t\t// (BDC-1839-03-14-a-p0001) ([476, 1161, 143, 21])\n"
     ]
    },
    {
     "data": {
      "text/html": [
       "<img src=\"http://dhlabsrv17.epfl.ch/iiif_impresso/BDC-1839-03-14-a-p0001/476,1161,143,21/full/0/default.jpg\"/>"
      ],
      "text/plain": [
       "<IPython.core.display.Image object>"
      ]
     },
     "metadata": {},
     "output_type": "display_data"
    },
    {
     "data": {
      "text/html": [
       "<img src=\"http://dhlabsrv17.epfl.ch/iiif_impresso_new/BDC-1839-03-14-a-p0001/476,1161,143,21/full/0/default.jpg\"/>"
      ],
      "text/plain": [
       "<IPython.core.display.Image object>"
      ]
     },
     "metadata": {},
     "output_type": "display_data"
    },
    {
     "name": "stdout",
     "output_type": "stream",
     "text": [
      "http://dhlabsrv17.epfl.ch/iiif_impresso_new/BDC-1839-03-14-a-p0001/476,1161,143,21/full/0/default.jpg\n",
      "-----------------\n",
      "\n",
      "impossible \t\t\t\t\t// (BDC-1839-03-14-a-p0001) ([744, 862, 102, 21])\n"
     ]
    },
    {
     "data": {
      "text/html": [
       "<img src=\"http://dhlabsrv17.epfl.ch/iiif_impresso/BDC-1839-03-14-a-p0001/744,862,102,21/full/0/default.jpg\"/>"
      ],
      "text/plain": [
       "<IPython.core.display.Image object>"
      ]
     },
     "metadata": {},
     "output_type": "display_data"
    },
    {
     "data": {
      "text/html": [
       "<img src=\"http://dhlabsrv17.epfl.ch/iiif_impresso_new/BDC-1839-03-14-a-p0001/744,862,102,21/full/0/default.jpg\"/>"
      ],
      "text/plain": [
       "<IPython.core.display.Image object>"
      ]
     },
     "metadata": {},
     "output_type": "display_data"
    },
    {
     "name": "stdout",
     "output_type": "stream",
     "text": [
      "http://dhlabsrv17.epfl.ch/iiif_impresso_new/BDC-1839-03-14-a-p0001/744,862,102,21/full/0/default.jpg\n",
      "-----------------\n",
      "\n",
      "du \t\t\t\t\t// (BDC-1839-02-28-a-p0001) ([736, 1094, 20, 19])\n"
     ]
    },
    {
     "data": {
      "text/html": [
       "<img src=\"http://dhlabsrv17.epfl.ch/iiif_impresso/BDC-1839-02-28-a-p0001/736,1094,20,19/full/0/default.jpg\"/>"
      ],
      "text/plain": [
       "<IPython.core.display.Image object>"
      ]
     },
     "metadata": {},
     "output_type": "display_data"
    },
    {
     "data": {
      "text/html": [
       "<img src=\"http://dhlabsrv17.epfl.ch/iiif_impresso_new/BDC-1839-02-28-a-p0001/736,1094,20,19/full/0/default.jpg\"/>"
      ],
      "text/plain": [
       "<IPython.core.display.Image object>"
      ]
     },
     "metadata": {},
     "output_type": "display_data"
    },
    {
     "name": "stdout",
     "output_type": "stream",
     "text": [
      "http://dhlabsrv17.epfl.ch/iiif_impresso_new/BDC-1839-02-28-a-p0001/736,1094,20,19/full/0/default.jpg\n",
      "-----------------\n",
      "\n",
      "peuple \t\t\t\t\t// (BDC-1839-02-28-a-p0001) ([503, 964, 56, 19])\n"
     ]
    },
    {
     "data": {
      "text/html": [
       "<img src=\"http://dhlabsrv17.epfl.ch/iiif_impresso/BDC-1839-02-28-a-p0001/503,964,56,19/full/0/default.jpg\"/>"
      ],
      "text/plain": [
       "<IPython.core.display.Image object>"
      ]
     },
     "metadata": {},
     "output_type": "display_data"
    },
    {
     "data": {
      "text/html": [
       "<img src=\"http://dhlabsrv17.epfl.ch/iiif_impresso_new/BDC-1839-02-28-a-p0001/503,964,56,19/full/0/default.jpg\"/>"
      ],
      "text/plain": [
       "<IPython.core.display.Image object>"
      ]
     },
     "metadata": {},
     "output_type": "display_data"
    },
    {
     "name": "stdout",
     "output_type": "stream",
     "text": [
      "http://dhlabsrv17.epfl.ch/iiif_impresso_new/BDC-1839-02-28-a-p0001/503,964,56,19/full/0/default.jpg\n",
      "-----------------\n",
      "\n",
      "ignorée \t\t\t\t\t// (BDC-1839-03-14-a-p0001) ([724, 1235, 72, 21])\n"
     ]
    },
    {
     "data": {
      "text/html": [
       "<img src=\"http://dhlabsrv17.epfl.ch/iiif_impresso/BDC-1839-03-14-a-p0001/724,1235,72,21/full/0/default.jpg\"/>"
      ],
      "text/plain": [
       "<IPython.core.display.Image object>"
      ]
     },
     "metadata": {},
     "output_type": "display_data"
    },
    {
     "data": {
      "text/html": [
       "<img src=\"http://dhlabsrv17.epfl.ch/iiif_impresso_new/BDC-1839-03-14-a-p0001/724,1235,72,21/full/0/default.jpg\"/>"
      ],
      "text/plain": [
       "<IPython.core.display.Image object>"
      ]
     },
     "metadata": {},
     "output_type": "display_data"
    },
    {
     "name": "stdout",
     "output_type": "stream",
     "text": [
      "http://dhlabsrv17.epfl.ch/iiif_impresso_new/BDC-1839-03-14-a-p0001/724,1235,72,21/full/0/default.jpg\n",
      "-----------------\n",
      "\n",
      "les \t\t\t\t\t// (BDC-1839-03-14-a-p0001) ([794, 987, 26, 21])\n"
     ]
    },
    {
     "data": {
      "text/html": [
       "<img src=\"http://dhlabsrv17.epfl.ch/iiif_impresso/BDC-1839-03-14-a-p0001/794,987,26,21/full/0/default.jpg\"/>"
      ],
      "text/plain": [
       "<IPython.core.display.Image object>"
      ]
     },
     "metadata": {},
     "output_type": "display_data"
    },
    {
     "data": {
      "text/html": [
       "<img src=\"http://dhlabsrv17.epfl.ch/iiif_impresso_new/BDC-1839-03-14-a-p0001/794,987,26,21/full/0/default.jpg\"/>"
      ],
      "text/plain": [
       "<IPython.core.display.Image object>"
      ]
     },
     "metadata": {},
     "output_type": "display_data"
    },
    {
     "name": "stdout",
     "output_type": "stream",
     "text": [
      "http://dhlabsrv17.epfl.ch/iiif_impresso_new/BDC-1839-03-14-a-p0001/794,987,26,21/full/0/default.jpg\n",
      "-----------------\n",
      "\n",
      "Les \t\t\t\t\t// (BDC-1839-01-21-a-p0001) ([182, 686, 35, 21])\n"
     ]
    },
    {
     "data": {
      "text/html": [
       "<img src=\"http://dhlabsrv17.epfl.ch/iiif_impresso/BDC-1839-01-21-a-p0001/182,686,35,21/full/0/default.jpg\"/>"
      ],
      "text/plain": [
       "<IPython.core.display.Image object>"
      ]
     },
     "metadata": {},
     "output_type": "display_data"
    },
    {
     "data": {
      "text/html": [
       "<img src=\"http://dhlabsrv17.epfl.ch/iiif_impresso_new/BDC-1839-01-21-a-p0001/182,686,35,21/full/0/default.jpg\"/>"
      ],
      "text/plain": [
       "<IPython.core.display.Image object>"
      ]
     },
     "metadata": {},
     "output_type": "display_data"
    },
    {
     "name": "stdout",
     "output_type": "stream",
     "text": [
      "http://dhlabsrv17.epfl.ch/iiif_impresso_new/BDC-1839-01-21-a-p0001/182,686,35,21/full/0/default.jpg\n",
      "-----------------\n",
      "\n",
      "a \t\t\t\t\t// (BDC-1839-01-21-a-p0001) ([155, 627, 10, 21])\n"
     ]
    },
    {
     "data": {
      "text/html": [
       "<img src=\"http://dhlabsrv17.epfl.ch/iiif_impresso/BDC-1839-01-21-a-p0001/155,627,10,21/full/0/default.jpg\"/>"
      ],
      "text/plain": [
       "<IPython.core.display.Image object>"
      ]
     },
     "metadata": {},
     "output_type": "display_data"
    },
    {
     "data": {
      "text/html": [
       "<img src=\"http://dhlabsrv17.epfl.ch/iiif_impresso_new/BDC-1839-01-21-a-p0001/155,627,10,21/full/0/default.jpg\"/>"
      ],
      "text/plain": [
       "<IPython.core.display.Image object>"
      ]
     },
     "metadata": {},
     "output_type": "display_data"
    },
    {
     "name": "stdout",
     "output_type": "stream",
     "text": [
      "http://dhlabsrv17.epfl.ch/iiif_impresso_new/BDC-1839-01-21-a-p0001/155,627,10,21/full/0/default.jpg\n",
      "-----------------\n",
      "\n",
      "Président \t\t\t\t\t// (BDC-1839-01-20-a-p0004) ([319, 811, 78, 18])\n"
     ]
    },
    {
     "data": {
      "text/html": [
       "<img src=\"http://dhlabsrv17.epfl.ch/iiif_impresso/BDC-1839-01-20-a-p0004/319,811,78,18/full/0/default.jpg\"/>"
      ],
      "text/plain": [
       "<IPython.core.display.Image object>"
      ]
     },
     "metadata": {},
     "output_type": "display_data"
    },
    {
     "data": {
      "text/html": [
       "<img src=\"http://dhlabsrv17.epfl.ch/iiif_impresso_new/BDC-1839-01-20-a-p0004/319,811,78,18/full/0/default.jpg\"/>"
      ],
      "text/plain": [
       "<IPython.core.display.Image object>"
      ]
     },
     "metadata": {},
     "output_type": "display_data"
    },
    {
     "name": "stdout",
     "output_type": "stream",
     "text": [
      "http://dhlabsrv17.epfl.ch/iiif_impresso_new/BDC-1839-01-20-a-p0004/319,811,78,18/full/0/default.jpg\n",
      "-----------------\n",
      "\n",
      "requises \t\t\t\t\t// (BDC-1839-01-20-a-p0004) ([682, 273, 64, 17])\n"
     ]
    },
    {
     "data": {
      "text/html": [
       "<img src=\"http://dhlabsrv17.epfl.ch/iiif_impresso/BDC-1839-01-20-a-p0004/682,273,64,17/full/0/default.jpg\"/>"
      ],
      "text/plain": [
       "<IPython.core.display.Image object>"
      ]
     },
     "metadata": {},
     "output_type": "display_data"
    },
    {
     "data": {
      "text/html": [
       "<img src=\"http://dhlabsrv17.epfl.ch/iiif_impresso_new/BDC-1839-01-20-a-p0004/682,273,64,17/full/0/default.jpg\"/>"
      ],
      "text/plain": [
       "<IPython.core.display.Image object>"
      ]
     },
     "metadata": {},
     "output_type": "display_data"
    },
    {
     "name": "stdout",
     "output_type": "stream",
     "text": [
      "http://dhlabsrv17.epfl.ch/iiif_impresso_new/BDC-1839-01-20-a-p0004/682,273,64,17/full/0/default.jpg\n",
      "-----------------\n",
      "\n",
      "par \t\t\t\t\t// (BDC-1839-01-20-a-p0005) ([608, 1046, 26, 19])\n"
     ]
    },
    {
     "data": {
      "text/html": [
       "<img src=\"http://dhlabsrv17.epfl.ch/iiif_impresso/BDC-1839-01-20-a-p0005/608,1046,26,19/full/0/default.jpg\"/>"
      ],
      "text/plain": [
       "<IPython.core.display.Image object>"
      ]
     },
     "metadata": {},
     "output_type": "display_data"
    },
    {
     "data": {
      "text/html": [
       "<img src=\"http://dhlabsrv17.epfl.ch/iiif_impresso_new/BDC-1839-01-20-a-p0005/608,1046,26,19/full/0/default.jpg\"/>"
      ],
      "text/plain": [
       "<IPython.core.display.Image object>"
      ]
     },
     "metadata": {},
     "output_type": "display_data"
    },
    {
     "name": "stdout",
     "output_type": "stream",
     "text": [
      "http://dhlabsrv17.epfl.ch/iiif_impresso_new/BDC-1839-01-20-a-p0005/608,1046,26,19/full/0/default.jpg\n",
      "-----------------\n",
      "\n",
      "* \t\t\t\t\t// (BDC-1839-01-20-a-p0005) ([747, 1151, 9, 19])\n"
     ]
    },
    {
     "data": {
      "text/html": [
       "<img src=\"http://dhlabsrv17.epfl.ch/iiif_impresso/BDC-1839-01-20-a-p0005/747,1151,9,19/full/0/default.jpg\"/>"
      ],
      "text/plain": [
       "<IPython.core.display.Image object>"
      ]
     },
     "metadata": {},
     "output_type": "display_data"
    },
    {
     "data": {
      "text/html": [
       "<img src=\"http://dhlabsrv17.epfl.ch/iiif_impresso_new/BDC-1839-01-20-a-p0005/747,1151,9,19/full/0/default.jpg\"/>"
      ],
      "text/plain": [
       "<IPython.core.display.Image object>"
      ]
     },
     "metadata": {},
     "output_type": "display_data"
    },
    {
     "name": "stdout",
     "output_type": "stream",
     "text": [
      "http://dhlabsrv17.epfl.ch/iiif_impresso_new/BDC-1839-01-20-a-p0005/747,1151,9,19/full/0/default.jpg\n",
      "-----------------\n",
      "\n",
      "$ \t\t\t\t\t// (BDC-1839-01-21-a-p0001) ([140, 1230, 10, 19])\n"
     ]
    },
    {
     "data": {
      "text/html": [
       "<img src=\"http://dhlabsrv17.epfl.ch/iiif_impresso/BDC-1839-01-21-a-p0001/140,1230,10,19/full/0/default.jpg\"/>"
      ],
      "text/plain": [
       "<IPython.core.display.Image object>"
      ]
     },
     "metadata": {},
     "output_type": "display_data"
    },
    {
     "data": {
      "text/html": [
       "<img src=\"http://dhlabsrv17.epfl.ch/iiif_impresso_new/BDC-1839-01-21-a-p0001/140,1230,10,19/full/0/default.jpg\"/>"
      ],
      "text/plain": [
       "<IPython.core.display.Image object>"
      ]
     },
     "metadata": {},
     "output_type": "display_data"
    },
    {
     "name": "stdout",
     "output_type": "stream",
     "text": [
      "http://dhlabsrv17.epfl.ch/iiif_impresso_new/BDC-1839-01-21-a-p0001/140,1230,10,19/full/0/default.jpg\n",
      "-----------------\n",
      "\n",
      "paraîtra \t\t\t\t\t// (BDC-1839-01-21-a-p0001) ([802, 752, 77, 21])\n"
     ]
    },
    {
     "data": {
      "text/html": [
       "<img src=\"http://dhlabsrv17.epfl.ch/iiif_impresso/BDC-1839-01-21-a-p0001/802,752,77,21/full/0/default.jpg\"/>"
      ],
      "text/plain": [
       "<IPython.core.display.Image object>"
      ]
     },
     "metadata": {},
     "output_type": "display_data"
    },
    {
     "data": {
      "text/html": [
       "<img src=\"http://dhlabsrv17.epfl.ch/iiif_impresso_new/BDC-1839-01-21-a-p0001/802,752,77,21/full/0/default.jpg\"/>"
      ],
      "text/plain": [
       "<IPython.core.display.Image object>"
      ]
     },
     "metadata": {},
     "output_type": "display_data"
    },
    {
     "name": "stdout",
     "output_type": "stream",
     "text": [
      "http://dhlabsrv17.epfl.ch/iiif_impresso_new/BDC-1839-01-21-a-p0001/802,752,77,21/full/0/default.jpg\n",
      "-----------------\n",
      "\n",
      "que \t\t\t\t\t// (BDC-1839-03-14-a-p0002) ([450, 1186, 33, 21])\n"
     ]
    },
    {
     "data": {
      "text/html": [
       "<img src=\"http://dhlabsrv17.epfl.ch/iiif_impresso/BDC-1839-03-14-a-p0002/450,1186,33,21/full/0/default.jpg\"/>"
      ],
      "text/plain": [
       "<IPython.core.display.Image object>"
      ]
     },
     "metadata": {},
     "output_type": "display_data"
    },
    {
     "data": {
      "text/html": [
       "<img src=\"http://dhlabsrv17.epfl.ch/iiif_impresso_new/BDC-1839-03-14-a-p0002/450,1186,33,21/full/0/default.jpg\"/>"
      ],
      "text/plain": [
       "<IPython.core.display.Image object>"
      ]
     },
     "metadata": {},
     "output_type": "display_data"
    },
    {
     "name": "stdout",
     "output_type": "stream",
     "text": [
      "http://dhlabsrv17.epfl.ch/iiif_impresso_new/BDC-1839-03-14-a-p0002/450,1186,33,21/full/0/default.jpg\n",
      "-----------------\n",
      "\n",
      "participation \t\t\t\t\t// (BDC-1839-03-14-a-p0002) ([252, 279, 124, 21])\n"
     ]
    },
    {
     "data": {
      "text/html": [
       "<img src=\"http://dhlabsrv17.epfl.ch/iiif_impresso/BDC-1839-03-14-a-p0002/252,279,124,21/full/0/default.jpg\"/>"
      ],
      "text/plain": [
       "<IPython.core.display.Image object>"
      ]
     },
     "metadata": {},
     "output_type": "display_data"
    },
    {
     "data": {
      "text/html": [
       "<img src=\"http://dhlabsrv17.epfl.ch/iiif_impresso_new/BDC-1839-03-14-a-p0002/252,279,124,21/full/0/default.jpg\"/>"
      ],
      "text/plain": [
       "<IPython.core.display.Image object>"
      ]
     },
     "metadata": {},
     "output_type": "display_data"
    },
    {
     "name": "stdout",
     "output_type": "stream",
     "text": [
      "http://dhlabsrv17.epfl.ch/iiif_impresso_new/BDC-1839-03-14-a-p0002/252,279,124,21/full/0/default.jpg\n",
      "-----------------\n",
      "\n",
      "publics \t\t\t\t\t// (BDC-1839-01-20-a-p0004) ([345, 553, 57, 17])\n"
     ]
    },
    {
     "data": {
      "text/html": [
       "<img src=\"http://dhlabsrv17.epfl.ch/iiif_impresso/BDC-1839-01-20-a-p0004/345,553,57,17/full/0/default.jpg\"/>"
      ],
      "text/plain": [
       "<IPython.core.display.Image object>"
      ]
     },
     "metadata": {},
     "output_type": "display_data"
    },
    {
     "data": {
      "text/html": [
       "<img src=\"http://dhlabsrv17.epfl.ch/iiif_impresso_new/BDC-1839-01-20-a-p0004/345,553,57,17/full/0/default.jpg\"/>"
      ],
      "text/plain": [
       "<IPython.core.display.Image object>"
      ]
     },
     "metadata": {},
     "output_type": "display_data"
    },
    {
     "name": "stdout",
     "output_type": "stream",
     "text": [
      "http://dhlabsrv17.epfl.ch/iiif_impresso_new/BDC-1839-01-20-a-p0004/345,553,57,17/full/0/default.jpg\n",
      "-----------------\n",
      "\n",
      "afin \t\t\t\t\t// (BDC-1839-01-20-a-p0004) ([592, 296, 28, 18])\n"
     ]
    },
    {
     "data": {
      "text/html": [
       "<img src=\"http://dhlabsrv17.epfl.ch/iiif_impresso/BDC-1839-01-20-a-p0004/592,296,28,18/full/0/default.jpg\"/>"
      ],
      "text/plain": [
       "<IPython.core.display.Image object>"
      ]
     },
     "metadata": {},
     "output_type": "display_data"
    },
    {
     "data": {
      "text/html": [
       "<img src=\"http://dhlabsrv17.epfl.ch/iiif_impresso_new/BDC-1839-01-20-a-p0004/592,296,28,18/full/0/default.jpg\"/>"
      ],
      "text/plain": [
       "<IPython.core.display.Image object>"
      ]
     },
     "metadata": {},
     "output_type": "display_data"
    },
    {
     "name": "stdout",
     "output_type": "stream",
     "text": [
      "http://dhlabsrv17.epfl.ch/iiif_impresso_new/BDC-1839-01-20-a-p0004/592,296,28,18/full/0/default.jpg\n",
      "-----------------\n",
      "\n",
      ". \t\t\t\t\t// (BDC-1839-02-25-a-p0003) ([511, 507, 5, 19])\n"
     ]
    },
    {
     "data": {
      "text/html": [
       "<img src=\"http://dhlabsrv17.epfl.ch/iiif_impresso/BDC-1839-02-25-a-p0003/511,507,5,19/full/0/default.jpg\"/>"
      ],
      "text/plain": [
       "<IPython.core.display.Image object>"
      ]
     },
     "metadata": {},
     "output_type": "display_data"
    },
    {
     "data": {
      "text/html": [
       "<img src=\"http://dhlabsrv17.epfl.ch/iiif_impresso_new/BDC-1839-02-25-a-p0003/511,507,5,19/full/0/default.jpg\"/>"
      ],
      "text/plain": [
       "<IPython.core.display.Image object>"
      ]
     },
     "metadata": {},
     "output_type": "display_data"
    },
    {
     "name": "stdout",
     "output_type": "stream",
     "text": [
      "http://dhlabsrv17.epfl.ch/iiif_impresso_new/BDC-1839-02-25-a-p0003/511,507,5,19/full/0/default.jpg\n",
      "-----------------\n",
      "\n",
      "notre \t\t\t\t\t// (BDC-1839-02-25-a-p0003) ([128, 1191, 43, 19])\n"
     ]
    },
    {
     "data": {
      "text/html": [
       "<img src=\"http://dhlabsrv17.epfl.ch/iiif_impresso/BDC-1839-02-25-a-p0003/128,1191,43,19/full/0/default.jpg\"/>"
      ],
      "text/plain": [
       "<IPython.core.display.Image object>"
      ]
     },
     "metadata": {},
     "output_type": "display_data"
    },
    {
     "data": {
      "text/html": [
       "<img src=\"http://dhlabsrv17.epfl.ch/iiif_impresso_new/BDC-1839-02-25-a-p0003/128,1191,43,19/full/0/default.jpg\"/>"
      ],
      "text/plain": [
       "<IPython.core.display.Image object>"
      ]
     },
     "metadata": {},
     "output_type": "display_data"
    },
    {
     "name": "stdout",
     "output_type": "stream",
     "text": [
      "http://dhlabsrv17.epfl.ch/iiif_impresso_new/BDC-1839-02-25-a-p0003/128,1191,43,19/full/0/default.jpg\n",
      "-----------------\n",
      "\n",
      "Conseil \t\t\t\t\t// (BDC-1839-02-23-a-p0004) ([136, 628, 63, 19])\n"
     ]
    },
    {
     "data": {
      "text/html": [
       "<img src=\"http://dhlabsrv17.epfl.ch/iiif_impresso/BDC-1839-02-23-a-p0004/136,628,63,19/full/0/default.jpg\"/>"
      ],
      "text/plain": [
       "<IPython.core.display.Image object>"
      ]
     },
     "metadata": {},
     "output_type": "display_data"
    },
    {
     "data": {
      "text/html": [
       "<img src=\"http://dhlabsrv17.epfl.ch/iiif_impresso_new/BDC-1839-02-23-a-p0004/136,628,63,19/full/0/default.jpg\"/>"
      ],
      "text/plain": [
       "<IPython.core.display.Image object>"
      ]
     },
     "metadata": {},
     "output_type": "display_data"
    },
    {
     "name": "stdout",
     "output_type": "stream",
     "text": [
      "http://dhlabsrv17.epfl.ch/iiif_impresso_new/BDC-1839-02-23-a-p0004/136,628,63,19/full/0/default.jpg\n",
      "-----------------\n",
      "\n",
      "persévérance \t\t\t\t\t// (BDC-1839-02-23-a-p0004) ([640, 735, 111, 19])\n"
     ]
    },
    {
     "data": {
      "text/html": [
       "<img src=\"http://dhlabsrv17.epfl.ch/iiif_impresso/BDC-1839-02-23-a-p0004/640,735,111,19/full/0/default.jpg\"/>"
      ],
      "text/plain": [
       "<IPython.core.display.Image object>"
      ]
     },
     "metadata": {},
     "output_type": "display_data"
    },
    {
     "data": {
      "text/html": [
       "<img src=\"http://dhlabsrv17.epfl.ch/iiif_impresso_new/BDC-1839-02-23-a-p0004/640,735,111,19/full/0/default.jpg\"/>"
      ],
      "text/plain": [
       "<IPython.core.display.Image object>"
      ]
     },
     "metadata": {},
     "output_type": "display_data"
    },
    {
     "name": "stdout",
     "output_type": "stream",
     "text": [
      "http://dhlabsrv17.epfl.ch/iiif_impresso_new/BDC-1839-02-23-a-p0004/640,735,111,19/full/0/default.jpg\n",
      "-----------------\n",
      "\n",
      ", \t\t\t\t\t// (BDC-1839-02-28-a-p0001) ([907, 1114, 5, 19])\n"
     ]
    },
    {
     "data": {
      "text/html": [
       "<img src=\"http://dhlabsrv17.epfl.ch/iiif_impresso/BDC-1839-02-28-a-p0001/907,1114,5,19/full/0/default.jpg\"/>"
      ],
      "text/plain": [
       "<IPython.core.display.Image object>"
      ]
     },
     "metadata": {},
     "output_type": "display_data"
    },
    {
     "data": {
      "text/html": [
       "<img src=\"http://dhlabsrv17.epfl.ch/iiif_impresso_new/BDC-1839-02-28-a-p0001/907,1114,5,19/full/0/default.jpg\"/>"
      ],
      "text/plain": [
       "<IPython.core.display.Image object>"
      ]
     },
     "metadata": {},
     "output_type": "display_data"
    },
    {
     "name": "stdout",
     "output_type": "stream",
     "text": [
      "http://dhlabsrv17.epfl.ch/iiif_impresso_new/BDC-1839-02-28-a-p0001/907,1114,5,19/full/0/default.jpg\n",
      "-----------------\n",
      "\n",
      "AVIS \t\t\t\t\t// (BDC-1839-02-28-a-p0001) ([203, 509, 63, 25])\n"
     ]
    },
    {
     "data": {
      "text/html": [
       "<img src=\"http://dhlabsrv17.epfl.ch/iiif_impresso/BDC-1839-02-28-a-p0001/203,509,63,25/full/0/default.jpg\"/>"
      ],
      "text/plain": [
       "<IPython.core.display.Image object>"
      ]
     },
     "metadata": {},
     "output_type": "display_data"
    },
    {
     "data": {
      "text/html": [
       "<img src=\"http://dhlabsrv17.epfl.ch/iiif_impresso_new/BDC-1839-02-28-a-p0001/203,509,63,25/full/0/default.jpg\"/>"
      ],
      "text/plain": [
       "<IPython.core.display.Image object>"
      ]
     },
     "metadata": {},
     "output_type": "display_data"
    },
    {
     "name": "stdout",
     "output_type": "stream",
     "text": [
      "http://dhlabsrv17.epfl.ch/iiif_impresso_new/BDC-1839-02-28-a-p0001/203,509,63,25/full/0/default.jpg\n",
      "-----------------\n",
      "\n",
      ". \t\t\t\t\t// (BDC-1839-03-14-a-p0004) ([229, 1011, 5, 17])\n"
     ]
    },
    {
     "data": {
      "text/html": [
       "<img src=\"http://dhlabsrv17.epfl.ch/iiif_impresso/BDC-1839-03-14-a-p0004/229,1011,5,17/full/0/default.jpg\"/>"
      ],
      "text/plain": [
       "<IPython.core.display.Image object>"
      ]
     },
     "metadata": {},
     "output_type": "display_data"
    },
    {
     "data": {
      "text/html": [
       "<img src=\"http://dhlabsrv17.epfl.ch/iiif_impresso_new/BDC-1839-03-14-a-p0004/229,1011,5,17/full/0/default.jpg\"/>"
      ],
      "text/plain": [
       "<IPython.core.display.Image object>"
      ]
     },
     "metadata": {},
     "output_type": "display_data"
    },
    {
     "name": "stdout",
     "output_type": "stream",
     "text": [
      "http://dhlabsrv17.epfl.ch/iiif_impresso_new/BDC-1839-03-14-a-p0004/229,1011,5,17/full/0/default.jpg\n",
      "-----------------\n",
      "\n",
      "doue \t\t\t\t\t// (BDC-1839-03-14-a-p0004) ([381, 1011, 38, 17])\n"
     ]
    },
    {
     "data": {
      "text/html": [
       "<img src=\"http://dhlabsrv17.epfl.ch/iiif_impresso/BDC-1839-03-14-a-p0004/381,1011,38,17/full/0/default.jpg\"/>"
      ],
      "text/plain": [
       "<IPython.core.display.Image object>"
      ]
     },
     "metadata": {},
     "output_type": "display_data"
    },
    {
     "data": {
      "text/html": [
       "<img src=\"http://dhlabsrv17.epfl.ch/iiif_impresso_new/BDC-1839-03-14-a-p0004/381,1011,38,17/full/0/default.jpg\"/>"
      ],
      "text/plain": [
       "<IPython.core.display.Image object>"
      ]
     },
     "metadata": {},
     "output_type": "display_data"
    },
    {
     "name": "stdout",
     "output_type": "stream",
     "text": [
      "http://dhlabsrv17.epfl.ch/iiif_impresso_new/BDC-1839-03-14-a-p0004/381,1011,38,17/full/0/default.jpg\n",
      "-----------------\n",
      "\n",
      "entier \t\t\t\t\t// (BDC-1839-01-21-a-p0002) ([738, 903, 48, 17])\n"
     ]
    },
    {
     "data": {
      "text/html": [
       "<img src=\"http://dhlabsrv17.epfl.ch/iiif_impresso/BDC-1839-01-21-a-p0002/738,903,48,17/full/0/default.jpg\"/>"
      ],
      "text/plain": [
       "<IPython.core.display.Image object>"
      ]
     },
     "metadata": {},
     "output_type": "display_data"
    },
    {
     "data": {
      "text/html": [
       "<img src=\"http://dhlabsrv17.epfl.ch/iiif_impresso_new/BDC-1839-01-21-a-p0002/738,903,48,17/full/0/default.jpg\"/>"
      ],
      "text/plain": [
       "<IPython.core.display.Image object>"
      ]
     },
     "metadata": {},
     "output_type": "display_data"
    },
    {
     "name": "stdout",
     "output_type": "stream",
     "text": [
      "http://dhlabsrv17.epfl.ch/iiif_impresso_new/BDC-1839-01-21-a-p0002/738,903,48,17/full/0/default.jpg\n",
      "-----------------\n",
      "\n",
      "cette \t\t\t\t\t// (BDC-1839-01-21-a-p0002) ([862, 754, 37, 17])\n"
     ]
    },
    {
     "data": {
      "text/html": [
       "<img src=\"http://dhlabsrv17.epfl.ch/iiif_impresso/BDC-1839-01-21-a-p0002/862,754,37,17/full/0/default.jpg\"/>"
      ],
      "text/plain": [
       "<IPython.core.display.Image object>"
      ]
     },
     "metadata": {},
     "output_type": "display_data"
    },
    {
     "data": {
      "text/html": [
       "<img src=\"http://dhlabsrv17.epfl.ch/iiif_impresso_new/BDC-1839-01-21-a-p0002/862,754,37,17/full/0/default.jpg\"/>"
      ],
      "text/plain": [
       "<IPython.core.display.Image object>"
      ]
     },
     "metadata": {},
     "output_type": "display_data"
    },
    {
     "name": "stdout",
     "output_type": "stream",
     "text": [
      "http://dhlabsrv17.epfl.ch/iiif_impresso_new/BDC-1839-01-21-a-p0002/862,754,37,17/full/0/default.jpg\n",
      "-----------------\n",
      "\n",
      "quo \t\t\t\t\t// (BDC-1839-02-25-a-p0004) ([528, 488, 30, 19])\n"
     ]
    },
    {
     "data": {
      "text/html": [
       "<img src=\"http://dhlabsrv17.epfl.ch/iiif_impresso/BDC-1839-02-25-a-p0004/528,488,30,19/full/0/default.jpg\"/>"
      ],
      "text/plain": [
       "<IPython.core.display.Image object>"
      ]
     },
     "metadata": {},
     "output_type": "display_data"
    },
    {
     "data": {
      "text/html": [
       "<img src=\"http://dhlabsrv17.epfl.ch/iiif_impresso_new/BDC-1839-02-25-a-p0004/528,488,30,19/full/0/default.jpg\"/>"
      ],
      "text/plain": [
       "<IPython.core.display.Image object>"
      ]
     },
     "metadata": {},
     "output_type": "display_data"
    },
    {
     "name": "stdout",
     "output_type": "stream",
     "text": [
      "http://dhlabsrv17.epfl.ch/iiif_impresso_new/BDC-1839-02-25-a-p0004/528,488,30,19/full/0/default.jpg\n",
      "-----------------\n",
      "\n",
      "pays \t\t\t\t\t// (BDC-1839-02-25-a-p0004) ([431, 331, 39, 19])\n"
     ]
    },
    {
     "data": {
      "text/html": [
       "<img src=\"http://dhlabsrv17.epfl.ch/iiif_impresso/BDC-1839-02-25-a-p0004/431,331,39,19/full/0/default.jpg\"/>"
      ],
      "text/plain": [
       "<IPython.core.display.Image object>"
      ]
     },
     "metadata": {},
     "output_type": "display_data"
    },
    {
     "data": {
      "text/html": [
       "<img src=\"http://dhlabsrv17.epfl.ch/iiif_impresso_new/BDC-1839-02-25-a-p0004/431,331,39,19/full/0/default.jpg\"/>"
      ],
      "text/plain": [
       "<IPython.core.display.Image object>"
      ]
     },
     "metadata": {},
     "output_type": "display_data"
    },
    {
     "name": "stdout",
     "output_type": "stream",
     "text": [
      "http://dhlabsrv17.epfl.ch/iiif_impresso_new/BDC-1839-02-25-a-p0004/431,331,39,19/full/0/default.jpg\n",
      "-----------------\n",
      "\n",
      "pays \t\t\t\t\t// (BDC-1839-03-14-a-p0001) ([125, 911, 42, 21])\n"
     ]
    },
    {
     "data": {
      "text/html": [
       "<img src=\"http://dhlabsrv17.epfl.ch/iiif_impresso/BDC-1839-03-14-a-p0001/125,911,42,21/full/0/default.jpg\"/>"
      ],
      "text/plain": [
       "<IPython.core.display.Image object>"
      ]
     },
     "metadata": {},
     "output_type": "display_data"
    },
    {
     "data": {
      "text/html": [
       "<img src=\"http://dhlabsrv17.epfl.ch/iiif_impresso_new/BDC-1839-03-14-a-p0001/125,911,42,21/full/0/default.jpg\"/>"
      ],
      "text/plain": [
       "<IPython.core.display.Image object>"
      ]
     },
     "metadata": {},
     "output_type": "display_data"
    },
    {
     "name": "stdout",
     "output_type": "stream",
     "text": [
      "http://dhlabsrv17.epfl.ch/iiif_impresso_new/BDC-1839-03-14-a-p0001/125,911,42,21/full/0/default.jpg\n",
      "-----------------\n",
      "\n",
      "ce \t\t\t\t\t// (BDC-1839-03-14-a-p0001) ([654, 642, 20, 20])\n"
     ]
    },
    {
     "data": {
      "text/html": [
       "<img src=\"http://dhlabsrv17.epfl.ch/iiif_impresso/BDC-1839-03-14-a-p0001/654,642,20,20/full/0/default.jpg\"/>"
      ],
      "text/plain": [
       "<IPython.core.display.Image object>"
      ]
     },
     "metadata": {},
     "output_type": "display_data"
    },
    {
     "data": {
      "text/html": [
       "<img src=\"http://dhlabsrv17.epfl.ch/iiif_impresso_new/BDC-1839-03-14-a-p0001/654,642,20,20/full/0/default.jpg\"/>"
      ],
      "text/plain": [
       "<IPython.core.display.Image object>"
      ]
     },
     "metadata": {},
     "output_type": "display_data"
    },
    {
     "name": "stdout",
     "output_type": "stream",
     "text": [
      "http://dhlabsrv17.epfl.ch/iiif_impresso_new/BDC-1839-03-14-a-p0001/654,642,20,20/full/0/default.jpg\n",
      "-----------------\n",
      "\n",
      "que \t\t\t\t\t// (BDC-1839-02-25-a-p0004) ([232, 190, 30, 19])\n"
     ]
    },
    {
     "data": {
      "text/html": [
       "<img src=\"http://dhlabsrv17.epfl.ch/iiif_impresso/BDC-1839-02-25-a-p0004/232,190,30,19/full/0/default.jpg\"/>"
      ],
      "text/plain": [
       "<IPython.core.display.Image object>"
      ]
     },
     "metadata": {},
     "output_type": "display_data"
    },
    {
     "data": {
      "text/html": [
       "<img src=\"http://dhlabsrv17.epfl.ch/iiif_impresso_new/BDC-1839-02-25-a-p0004/232,190,30,19/full/0/default.jpg\"/>"
      ],
      "text/plain": [
       "<IPython.core.display.Image object>"
      ]
     },
     "metadata": {},
     "output_type": "display_data"
    },
    {
     "name": "stdout",
     "output_type": "stream",
     "text": [
      "http://dhlabsrv17.epfl.ch/iiif_impresso_new/BDC-1839-02-25-a-p0004/232,190,30,19/full/0/default.jpg\n",
      "-----------------\n",
      "\n",
      ", \t\t\t\t\t// (BDC-1839-02-25-a-p0004) ([763, 764, 5, 19])\n"
     ]
    },
    {
     "data": {
      "text/html": [
       "<img src=\"http://dhlabsrv17.epfl.ch/iiif_impresso/BDC-1839-02-25-a-p0004/763,764,5,19/full/0/default.jpg\"/>"
      ],
      "text/plain": [
       "<IPython.core.display.Image object>"
      ]
     },
     "metadata": {},
     "output_type": "display_data"
    },
    {
     "data": {
      "text/html": [
       "<img src=\"http://dhlabsrv17.epfl.ch/iiif_impresso_new/BDC-1839-02-25-a-p0004/763,764,5,19/full/0/default.jpg\"/>"
      ],
      "text/plain": [
       "<IPython.core.display.Image object>"
      ]
     },
     "metadata": {},
     "output_type": "display_data"
    },
    {
     "name": "stdout",
     "output_type": "stream",
     "text": [
      "http://dhlabsrv17.epfl.ch/iiif_impresso_new/BDC-1839-02-25-a-p0004/763,764,5,19/full/0/default.jpg\n",
      "-----------------\n",
      "\n",
      "futures \t\t\t\t\t// (BDC-1839-01-20-a-p0004) ([555, 421, 55, 17])\n"
     ]
    },
    {
     "data": {
      "text/html": [
       "<img src=\"http://dhlabsrv17.epfl.ch/iiif_impresso/BDC-1839-01-20-a-p0004/555,421,55,17/full/0/default.jpg\"/>"
      ],
      "text/plain": [
       "<IPython.core.display.Image object>"
      ]
     },
     "metadata": {},
     "output_type": "display_data"
    },
    {
     "data": {
      "text/html": [
       "<img src=\"http://dhlabsrv17.epfl.ch/iiif_impresso_new/BDC-1839-01-20-a-p0004/555,421,55,17/full/0/default.jpg\"/>"
      ],
      "text/plain": [
       "<IPython.core.display.Image object>"
      ]
     },
     "metadata": {},
     "output_type": "display_data"
    },
    {
     "name": "stdout",
     "output_type": "stream",
     "text": [
      "http://dhlabsrv17.epfl.ch/iiif_impresso_new/BDC-1839-01-20-a-p0004/555,421,55,17/full/0/default.jpg\n",
      "-----------------\n",
      "\n",
      ", \t\t\t\t\t// (BDC-1839-01-20-a-p0004) ([928, 1041, 5, 17])\n"
     ]
    },
    {
     "data": {
      "text/html": [
       "<img src=\"http://dhlabsrv17.epfl.ch/iiif_impresso/BDC-1839-01-20-a-p0004/928,1041,5,17/full/0/default.jpg\"/>"
      ],
      "text/plain": [
       "<IPython.core.display.Image object>"
      ]
     },
     "metadata": {},
     "output_type": "display_data"
    },
    {
     "data": {
      "text/html": [
       "<img src=\"http://dhlabsrv17.epfl.ch/iiif_impresso_new/BDC-1839-01-20-a-p0004/928,1041,5,17/full/0/default.jpg\"/>"
      ],
      "text/plain": [
       "<IPython.core.display.Image object>"
      ]
     },
     "metadata": {},
     "output_type": "display_data"
    },
    {
     "name": "stdout",
     "output_type": "stream",
     "text": [
      "http://dhlabsrv17.epfl.ch/iiif_impresso_new/BDC-1839-01-20-a-p0004/928,1041,5,17/full/0/default.jpg\n",
      "-----------------\n",
      "\n",
      "de \t\t\t\t\t// (BDC-1839-02-28-a-p0001) ([523, 760, 18, 19])\n"
     ]
    },
    {
     "data": {
      "text/html": [
       "<img src=\"http://dhlabsrv17.epfl.ch/iiif_impresso/BDC-1839-02-28-a-p0001/523,760,18,19/full/0/default.jpg\"/>"
      ],
      "text/plain": [
       "<IPython.core.display.Image object>"
      ]
     },
     "metadata": {},
     "output_type": "display_data"
    },
    {
     "data": {
      "text/html": [
       "<img src=\"http://dhlabsrv17.epfl.ch/iiif_impresso_new/BDC-1839-02-28-a-p0001/523,760,18,19/full/0/default.jpg\"/>"
      ],
      "text/plain": [
       "<IPython.core.display.Image object>"
      ]
     },
     "metadata": {},
     "output_type": "display_data"
    },
    {
     "name": "stdout",
     "output_type": "stream",
     "text": [
      "http://dhlabsrv17.epfl.ch/iiif_impresso_new/BDC-1839-02-28-a-p0001/523,760,18,19/full/0/default.jpg\n",
      "-----------------\n",
      "\n",
      "en \t\t\t\t\t// (BDC-1839-02-28-a-p0001) ([516, 923, 18, 19])\n"
     ]
    },
    {
     "data": {
      "text/html": [
       "<img src=\"http://dhlabsrv17.epfl.ch/iiif_impresso/BDC-1839-02-28-a-p0001/516,923,18,19/full/0/default.jpg\"/>"
      ],
      "text/plain": [
       "<IPython.core.display.Image object>"
      ]
     },
     "metadata": {},
     "output_type": "display_data"
    },
    {
     "data": {
      "text/html": [
       "<img src=\"http://dhlabsrv17.epfl.ch/iiif_impresso_new/BDC-1839-02-28-a-p0001/516,923,18,19/full/0/default.jpg\"/>"
      ],
      "text/plain": [
       "<IPython.core.display.Image object>"
      ]
     },
     "metadata": {},
     "output_type": "display_data"
    },
    {
     "name": "stdout",
     "output_type": "stream",
     "text": [
      "http://dhlabsrv17.epfl.ch/iiif_impresso_new/BDC-1839-02-28-a-p0001/516,923,18,19/full/0/default.jpg\n",
      "-----------------\n",
      "\n",
      ". \t\t\t\t\t// (BDC-1839-01-20-a-p0005) ([333, 733, 4, 15])\n"
     ]
    },
    {
     "data": {
      "text/html": [
       "<img src=\"http://dhlabsrv17.epfl.ch/iiif_impresso/BDC-1839-01-20-a-p0005/333,733,4,15/full/0/default.jpg\"/>"
      ],
      "text/plain": [
       "<IPython.core.display.Image object>"
      ]
     },
     "metadata": {},
     "output_type": "display_data"
    },
    {
     "data": {
      "text/html": [
       "<img src=\"http://dhlabsrv17.epfl.ch/iiif_impresso_new/BDC-1839-01-20-a-p0005/333,733,4,15/full/0/default.jpg\"/>"
      ],
      "text/plain": [
       "<IPython.core.display.Image object>"
      ]
     },
     "metadata": {},
     "output_type": "display_data"
    },
    {
     "name": "stdout",
     "output_type": "stream",
     "text": [
      "http://dhlabsrv17.epfl.ch/iiif_impresso_new/BDC-1839-01-20-a-p0005/333,733,4,15/full/0/default.jpg\n",
      "-----------------\n",
      "\n",
      "est \t\t\t\t\t// (BDC-1839-01-20-a-p0005) ([334, 1084, 22, 19])\n"
     ]
    },
    {
     "data": {
      "text/html": [
       "<img src=\"http://dhlabsrv17.epfl.ch/iiif_impresso/BDC-1839-01-20-a-p0005/334,1084,22,19/full/0/default.jpg\"/>"
      ],
      "text/plain": [
       "<IPython.core.display.Image object>"
      ]
     },
     "metadata": {},
     "output_type": "display_data"
    },
    {
     "data": {
      "text/html": [
       "<img src=\"http://dhlabsrv17.epfl.ch/iiif_impresso_new/BDC-1839-01-20-a-p0005/334,1084,22,19/full/0/default.jpg\"/>"
      ],
      "text/plain": [
       "<IPython.core.display.Image object>"
      ]
     },
     "metadata": {},
     "output_type": "display_data"
    },
    {
     "name": "stdout",
     "output_type": "stream",
     "text": [
      "http://dhlabsrv17.epfl.ch/iiif_impresso_new/BDC-1839-01-20-a-p0005/334,1084,22,19/full/0/default.jpg\n",
      "-----------------\n",
      "\n",
      "L'égalité \t\t\t\t\t// (BDC-1839-03-14-a-p0004) ([254, 809, 71, 18])\n"
     ]
    },
    {
     "data": {
      "text/html": [
       "<img src=\"http://dhlabsrv17.epfl.ch/iiif_impresso/BDC-1839-03-14-a-p0004/254,809,71,18/full/0/default.jpg\"/>"
      ],
      "text/plain": [
       "<IPython.core.display.Image object>"
      ]
     },
     "metadata": {},
     "output_type": "display_data"
    },
    {
     "data": {
      "text/html": [
       "<img src=\"http://dhlabsrv17.epfl.ch/iiif_impresso_new/BDC-1839-03-14-a-p0004/254,809,71,18/full/0/default.jpg\"/>"
      ],
      "text/plain": [
       "<IPython.core.display.Image object>"
      ]
     },
     "metadata": {},
     "output_type": "display_data"
    },
    {
     "name": "stdout",
     "output_type": "stream",
     "text": [
      "http://dhlabsrv17.epfl.ch/iiif_impresso_new/BDC-1839-03-14-a-p0004/254,809,71,18/full/0/default.jpg\n",
      "-----------------\n",
      "\n",
      "publicité \t\t\t\t\t// (BDC-1839-03-14-a-p0004) ([278, 1215, 77, 17])\n"
     ]
    },
    {
     "data": {
      "text/html": [
       "<img src=\"http://dhlabsrv17.epfl.ch/iiif_impresso/BDC-1839-03-14-a-p0004/278,1215,77,17/full/0/default.jpg\"/>"
      ],
      "text/plain": [
       "<IPython.core.display.Image object>"
      ]
     },
     "metadata": {},
     "output_type": "display_data"
    },
    {
     "data": {
      "text/html": [
       "<img src=\"http://dhlabsrv17.epfl.ch/iiif_impresso_new/BDC-1839-03-14-a-p0004/278,1215,77,17/full/0/default.jpg\"/>"
      ],
      "text/plain": [
       "<IPython.core.display.Image object>"
      ]
     },
     "metadata": {},
     "output_type": "display_data"
    },
    {
     "name": "stdout",
     "output_type": "stream",
     "text": [
      "http://dhlabsrv17.epfl.ch/iiif_impresso_new/BDC-1839-03-14-a-p0004/278,1215,77,17/full/0/default.jpg\n",
      "-----------------\n",
      "\n",
      "d'un \t\t\t\t\t// (BDC-1839-01-20-a-p0006) ([316, 1148, 34, 19])\n"
     ]
    },
    {
     "data": {
      "text/html": [
       "<img src=\"http://dhlabsrv17.epfl.ch/iiif_impresso/BDC-1839-01-20-a-p0006/316,1148,34,19/full/0/default.jpg\"/>"
      ],
      "text/plain": [
       "<IPython.core.display.Image object>"
      ]
     },
     "metadata": {},
     "output_type": "display_data"
    },
    {
     "data": {
      "text/html": [
       "<img src=\"http://dhlabsrv17.epfl.ch/iiif_impresso_new/BDC-1839-01-20-a-p0006/316,1148,34,19/full/0/default.jpg\"/>"
      ],
      "text/plain": [
       "<IPython.core.display.Image object>"
      ]
     },
     "metadata": {},
     "output_type": "display_data"
    },
    {
     "name": "stdout",
     "output_type": "stream",
     "text": [
      "http://dhlabsrv17.epfl.ch/iiif_impresso_new/BDC-1839-01-20-a-p0006/316,1148,34,19/full/0/default.jpg\n",
      "-----------------\n",
      "\n",
      "ART \t\t\t\t\t// (BDC-1839-01-20-a-p0006) ([575, 749, 35, 19])\n"
     ]
    },
    {
     "data": {
      "text/html": [
       "<img src=\"http://dhlabsrv17.epfl.ch/iiif_impresso/BDC-1839-01-20-a-p0006/575,749,35,19/full/0/default.jpg\"/>"
      ],
      "text/plain": [
       "<IPython.core.display.Image object>"
      ]
     },
     "metadata": {},
     "output_type": "display_data"
    },
    {
     "data": {
      "text/html": [
       "<img src=\"http://dhlabsrv17.epfl.ch/iiif_impresso_new/BDC-1839-01-20-a-p0006/575,749,35,19/full/0/default.jpg\"/>"
      ],
      "text/plain": [
       "<IPython.core.display.Image object>"
      ]
     },
     "metadata": {},
     "output_type": "display_data"
    },
    {
     "name": "stdout",
     "output_type": "stream",
     "text": [
      "http://dhlabsrv17.epfl.ch/iiif_impresso_new/BDC-1839-01-20-a-p0006/575,749,35,19/full/0/default.jpg\n",
      "-----------------\n",
      "\n",
      "il \t\t\t\t\t// (BDC-1839-02-28-a-p0004) ([250, 734, 11, 19])\n"
     ]
    },
    {
     "data": {
      "text/html": [
       "<img src=\"http://dhlabsrv17.epfl.ch/iiif_impresso/BDC-1839-02-28-a-p0004/250,734,11,19/full/0/default.jpg\"/>"
      ],
      "text/plain": [
       "<IPython.core.display.Image object>"
      ]
     },
     "metadata": {},
     "output_type": "display_data"
    },
    {
     "data": {
      "text/html": [
       "<img src=\"http://dhlabsrv17.epfl.ch/iiif_impresso_new/BDC-1839-02-28-a-p0004/250,734,11,19/full/0/default.jpg\"/>"
      ],
      "text/plain": [
       "<IPython.core.display.Image object>"
      ]
     },
     "metadata": {},
     "output_type": "display_data"
    },
    {
     "name": "stdout",
     "output_type": "stream",
     "text": [
      "http://dhlabsrv17.epfl.ch/iiif_impresso_new/BDC-1839-02-28-a-p0004/250,734,11,19/full/0/default.jpg\n",
      "-----------------\n",
      "\n",
      "résultat \t\t\t\t\t// (BDC-1839-02-28-a-p0004) ([253, 199, 63, 19])\n"
     ]
    },
    {
     "data": {
      "text/html": [
       "<img src=\"http://dhlabsrv17.epfl.ch/iiif_impresso/BDC-1839-02-28-a-p0004/253,199,63,19/full/0/default.jpg\"/>"
      ],
      "text/plain": [
       "<IPython.core.display.Image object>"
      ]
     },
     "metadata": {},
     "output_type": "display_data"
    },
    {
     "data": {
      "text/html": [
       "<img src=\"http://dhlabsrv17.epfl.ch/iiif_impresso_new/BDC-1839-02-28-a-p0004/253,199,63,19/full/0/default.jpg\"/>"
      ],
      "text/plain": [
       "<IPython.core.display.Image object>"
      ]
     },
     "metadata": {},
     "output_type": "display_data"
    },
    {
     "name": "stdout",
     "output_type": "stream",
     "text": [
      "http://dhlabsrv17.epfl.ch/iiif_impresso_new/BDC-1839-02-28-a-p0004/253,199,63,19/full/0/default.jpg\n",
      "-----------------\n",
      "\n",
      "ne \t\t\t\t\t// (BDC-1839-02-25-a-p0001) ([233, 985, 19, 19])\n"
     ]
    },
    {
     "data": {
      "text/html": [
       "<img src=\"http://dhlabsrv17.epfl.ch/iiif_impresso/BDC-1839-02-25-a-p0001/233,985,19,19/full/0/default.jpg\"/>"
      ],
      "text/plain": [
       "<IPython.core.display.Image object>"
      ]
     },
     "metadata": {},
     "output_type": "display_data"
    },
    {
     "data": {
      "text/html": [
       "<img src=\"http://dhlabsrv17.epfl.ch/iiif_impresso_new/BDC-1839-02-25-a-p0001/233,985,19,19/full/0/default.jpg\"/>"
      ],
      "text/plain": [
       "<IPython.core.display.Image object>"
      ]
     },
     "metadata": {},
     "output_type": "display_data"
    },
    {
     "name": "stdout",
     "output_type": "stream",
     "text": [
      "http://dhlabsrv17.epfl.ch/iiif_impresso_new/BDC-1839-02-25-a-p0001/233,985,19,19/full/0/default.jpg\n",
      "-----------------\n",
      "\n",
      "bulletin \t\t\t\t\t// (BDC-1839-02-25-a-p0001) ([120, 626, 73, 23])\n"
     ]
    },
    {
     "data": {
      "text/html": [
       "<img src=\"http://dhlabsrv17.epfl.ch/iiif_impresso/BDC-1839-02-25-a-p0001/120,626,73,23/full/0/default.jpg\"/>"
      ],
      "text/plain": [
       "<IPython.core.display.Image object>"
      ]
     },
     "metadata": {},
     "output_type": "display_data"
    },
    {
     "data": {
      "text/html": [
       "<img src=\"http://dhlabsrv17.epfl.ch/iiif_impresso_new/BDC-1839-02-25-a-p0001/120,626,73,23/full/0/default.jpg\"/>"
      ],
      "text/plain": [
       "<IPython.core.display.Image object>"
      ]
     },
     "metadata": {},
     "output_type": "display_data"
    },
    {
     "name": "stdout",
     "output_type": "stream",
     "text": [
      "http://dhlabsrv17.epfl.ch/iiif_impresso_new/BDC-1839-02-25-a-p0001/120,626,73,23/full/0/default.jpg\n",
      "-----------------\n",
      "\n",
      "trouverait \t\t\t\t\t// (BDC-1839-01-21-a-p0003) ([290, 587, 83, 17])\n"
     ]
    },
    {
     "data": {
      "text/html": [
       "<img src=\"http://dhlabsrv17.epfl.ch/iiif_impresso/BDC-1839-01-21-a-p0003/290,587,83,17/full/0/default.jpg\"/>"
      ],
      "text/plain": [
       "<IPython.core.display.Image object>"
      ]
     },
     "metadata": {},
     "output_type": "display_data"
    },
    {
     "data": {
      "text/html": [
       "<img src=\"http://dhlabsrv17.epfl.ch/iiif_impresso_new/BDC-1839-01-21-a-p0003/290,587,83,17/full/0/default.jpg\"/>"
      ],
      "text/plain": [
       "<IPython.core.display.Image object>"
      ]
     },
     "metadata": {},
     "output_type": "display_data"
    },
    {
     "name": "stdout",
     "output_type": "stream",
     "text": [
      "http://dhlabsrv17.epfl.ch/iiif_impresso_new/BDC-1839-01-21-a-p0003/290,587,83,17/full/0/default.jpg\n",
      "-----------------\n",
      "\n",
      "pro- \t\t\t\t\t// (BDC-1839-01-21-a-p0003) ([908, 652, 36, 17])\n"
     ]
    },
    {
     "data": {
      "text/html": [
       "<img src=\"http://dhlabsrv17.epfl.ch/iiif_impresso/BDC-1839-01-21-a-p0003/908,652,36,17/full/0/default.jpg\"/>"
      ],
      "text/plain": [
       "<IPython.core.display.Image object>"
      ]
     },
     "metadata": {},
     "output_type": "display_data"
    },
    {
     "data": {
      "text/html": [
       "<img src=\"http://dhlabsrv17.epfl.ch/iiif_impresso_new/BDC-1839-01-21-a-p0003/908,652,36,17/full/0/default.jpg\"/>"
      ],
      "text/plain": [
       "<IPython.core.display.Image object>"
      ]
     },
     "metadata": {},
     "output_type": "display_data"
    },
    {
     "name": "stdout",
     "output_type": "stream",
     "text": [
      "http://dhlabsrv17.epfl.ch/iiif_impresso_new/BDC-1839-01-21-a-p0003/908,652,36,17/full/0/default.jpg\n",
      "-----------------\n",
      "\n",
      "célérer \t\t\t\t\t// (BDC-1839-02-23-a-p0002) ([505, 718, 66, 21])\n"
     ]
    },
    {
     "data": {
      "text/html": [
       "<img src=\"http://dhlabsrv17.epfl.ch/iiif_impresso/BDC-1839-02-23-a-p0002/505,718,66,21/full/0/default.jpg\"/>"
      ],
      "text/plain": [
       "<IPython.core.display.Image object>"
      ]
     },
     "metadata": {},
     "output_type": "display_data"
    },
    {
     "data": {
      "text/html": [
       "<img src=\"http://dhlabsrv17.epfl.ch/iiif_impresso_new/BDC-1839-02-23-a-p0002/505,718,66,21/full/0/default.jpg\"/>"
      ],
      "text/plain": [
       "<IPython.core.display.Image object>"
      ]
     },
     "metadata": {},
     "output_type": "display_data"
    },
    {
     "name": "stdout",
     "output_type": "stream",
     "text": [
      "http://dhlabsrv17.epfl.ch/iiif_impresso_new/BDC-1839-02-23-a-p0002/505,718,66,21/full/0/default.jpg\n",
      "-----------------\n",
      "\n",
      "Canton \t\t\t\t\t// (BDC-1839-02-23-a-p0002) ([240, 520, 69, 21])\n"
     ]
    },
    {
     "data": {
      "text/html": [
       "<img src=\"http://dhlabsrv17.epfl.ch/iiif_impresso/BDC-1839-02-23-a-p0002/240,520,69,21/full/0/default.jpg\"/>"
      ],
      "text/plain": [
       "<IPython.core.display.Image object>"
      ]
     },
     "metadata": {},
     "output_type": "display_data"
    },
    {
     "data": {
      "text/html": [
       "<img src=\"http://dhlabsrv17.epfl.ch/iiif_impresso_new/BDC-1839-02-23-a-p0002/240,520,69,21/full/0/default.jpg\"/>"
      ],
      "text/plain": [
       "<IPython.core.display.Image object>"
      ]
     },
     "metadata": {},
     "output_type": "display_data"
    },
    {
     "name": "stdout",
     "output_type": "stream",
     "text": [
      "http://dhlabsrv17.epfl.ch/iiif_impresso_new/BDC-1839-02-23-a-p0002/240,520,69,21/full/0/default.jpg\n",
      "-----------------\n",
      "\n",
      "on \t\t\t\t\t// (BDC-1839-02-23-a-p0003) ([758, 559, 19, 19])\n"
     ]
    },
    {
     "data": {
      "text/html": [
       "<img src=\"http://dhlabsrv17.epfl.ch/iiif_impresso/BDC-1839-02-23-a-p0003/758,559,19,19/full/0/default.jpg\"/>"
      ],
      "text/plain": [
       "<IPython.core.display.Image object>"
      ]
     },
     "metadata": {},
     "output_type": "display_data"
    },
    {
     "data": {
      "text/html": [
       "<img src=\"http://dhlabsrv17.epfl.ch/iiif_impresso_new/BDC-1839-02-23-a-p0003/758,559,19,19/full/0/default.jpg\"/>"
      ],
      "text/plain": [
       "<IPython.core.display.Image object>"
      ]
     },
     "metadata": {},
     "output_type": "display_data"
    },
    {
     "name": "stdout",
     "output_type": "stream",
     "text": [
      "http://dhlabsrv17.epfl.ch/iiif_impresso_new/BDC-1839-02-23-a-p0003/758,559,19,19/full/0/default.jpg\n",
      "-----------------\n",
      "\n",
      "missaire \t\t\t\t\t// (BDC-1839-02-23-a-p0003) ([466, 915, 67, 19])\n"
     ]
    },
    {
     "data": {
      "text/html": [
       "<img src=\"http://dhlabsrv17.epfl.ch/iiif_impresso/BDC-1839-02-23-a-p0003/466,915,67,19/full/0/default.jpg\"/>"
      ],
      "text/plain": [
       "<IPython.core.display.Image object>"
      ]
     },
     "metadata": {},
     "output_type": "display_data"
    },
    {
     "data": {
      "text/html": [
       "<img src=\"http://dhlabsrv17.epfl.ch/iiif_impresso_new/BDC-1839-02-23-a-p0003/466,915,67,19/full/0/default.jpg\"/>"
      ],
      "text/plain": [
       "<IPython.core.display.Image object>"
      ]
     },
     "metadata": {},
     "output_type": "display_data"
    },
    {
     "name": "stdout",
     "output_type": "stream",
     "text": [
      "http://dhlabsrv17.epfl.ch/iiif_impresso_new/BDC-1839-02-23-a-p0003/466,915,67,19/full/0/default.jpg\n",
      "-----------------\n",
      "\n",
      ", \t\t\t\t\t// (BDC-1839-02-28-a-p0003) ([831, 1175, 4, 17])\n"
     ]
    },
    {
     "data": {
      "text/html": [
       "<img src=\"http://dhlabsrv17.epfl.ch/iiif_impresso/BDC-1839-02-28-a-p0003/831,1175,4,17/full/0/default.jpg\"/>"
      ],
      "text/plain": [
       "<IPython.core.display.Image object>"
      ]
     },
     "metadata": {},
     "output_type": "display_data"
    },
    {
     "data": {
      "text/html": [
       "<img src=\"http://dhlabsrv17.epfl.ch/iiif_impresso_new/BDC-1839-02-28-a-p0003/831,1175,4,17/full/0/default.jpg\"/>"
      ],
      "text/plain": [
       "<IPython.core.display.Image object>"
      ]
     },
     "metadata": {},
     "output_type": "display_data"
    },
    {
     "name": "stdout",
     "output_type": "stream",
     "text": [
      "http://dhlabsrv17.epfl.ch/iiif_impresso_new/BDC-1839-02-28-a-p0003/831,1175,4,17/full/0/default.jpg\n",
      "-----------------\n",
      "\n",
      "notable \t\t\t\t\t// (BDC-1839-02-28-a-p0003) ([31, 956, 58, 18])\n"
     ]
    },
    {
     "data": {
      "text/html": [
       "<img src=\"http://dhlabsrv17.epfl.ch/iiif_impresso/BDC-1839-02-28-a-p0003/31,956,58,18/full/0/default.jpg\"/>"
      ],
      "text/plain": [
       "<IPython.core.display.Image object>"
      ]
     },
     "metadata": {},
     "output_type": "display_data"
    },
    {
     "data": {
      "text/html": [
       "<img src=\"http://dhlabsrv17.epfl.ch/iiif_impresso_new/BDC-1839-02-28-a-p0003/31,956,58,18/full/0/default.jpg\"/>"
      ],
      "text/plain": [
       "<IPython.core.display.Image object>"
      ]
     },
     "metadata": {},
     "output_type": "display_data"
    },
    {
     "name": "stdout",
     "output_type": "stream",
     "text": [
      "http://dhlabsrv17.epfl.ch/iiif_impresso_new/BDC-1839-02-28-a-p0003/31,956,58,18/full/0/default.jpg\n",
      "-----------------\n",
      "\n",
      "articles \t\t\t\t\t// (BDC-1839-01-20-a-p0004) ([323, 770, 57, 17])\n"
     ]
    },
    {
     "data": {
      "text/html": [
       "<img src=\"http://dhlabsrv17.epfl.ch/iiif_impresso/BDC-1839-01-20-a-p0004/323,770,57,17/full/0/default.jpg\"/>"
      ],
      "text/plain": [
       "<IPython.core.display.Image object>"
      ]
     },
     "metadata": {},
     "output_type": "display_data"
    },
    {
     "data": {
      "text/html": [
       "<img src=\"http://dhlabsrv17.epfl.ch/iiif_impresso_new/BDC-1839-01-20-a-p0004/323,770,57,17/full/0/default.jpg\"/>"
      ],
      "text/plain": [
       "<IPython.core.display.Image object>"
      ]
     },
     "metadata": {},
     "output_type": "display_data"
    },
    {
     "name": "stdout",
     "output_type": "stream",
     "text": [
      "http://dhlabsrv17.epfl.ch/iiif_impresso_new/BDC-1839-01-20-a-p0004/323,770,57,17/full/0/default.jpg\n",
      "-----------------\n",
      "\n",
      "J'ai \t\t\t\t\t// (BDC-1839-01-20-a-p0004) ([137, 686, 26, 17])\n"
     ]
    },
    {
     "data": {
      "text/html": [
       "<img src=\"http://dhlabsrv17.epfl.ch/iiif_impresso/BDC-1839-01-20-a-p0004/137,686,26,17/full/0/default.jpg\"/>"
      ],
      "text/plain": [
       "<IPython.core.display.Image object>"
      ]
     },
     "metadata": {},
     "output_type": "display_data"
    },
    {
     "data": {
      "text/html": [
       "<img src=\"http://dhlabsrv17.epfl.ch/iiif_impresso_new/BDC-1839-01-20-a-p0004/137,686,26,17/full/0/default.jpg\"/>"
      ],
      "text/plain": [
       "<IPython.core.display.Image object>"
      ]
     },
     "metadata": {},
     "output_type": "display_data"
    },
    {
     "name": "stdout",
     "output_type": "stream",
     "text": [
      "http://dhlabsrv17.epfl.ch/iiif_impresso_new/BDC-1839-01-20-a-p0004/137,686,26,17/full/0/default.jpg\n",
      "-----------------\n",
      "\n",
      "outre \t\t\t\t\t// (BDC-1839-02-28-a-p0002) ([832, 897, 43, 17])\n"
     ]
    },
    {
     "data": {
      "text/html": [
       "<img src=\"http://dhlabsrv17.epfl.ch/iiif_impresso/BDC-1839-02-28-a-p0002/832,897,43,17/full/0/default.jpg\"/>"
      ],
      "text/plain": [
       "<IPython.core.display.Image object>"
      ]
     },
     "metadata": {},
     "output_type": "display_data"
    },
    {
     "data": {
      "text/html": [
       "<img src=\"http://dhlabsrv17.epfl.ch/iiif_impresso_new/BDC-1839-02-28-a-p0002/832,897,43,17/full/0/default.jpg\"/>"
      ],
      "text/plain": [
       "<IPython.core.display.Image object>"
      ]
     },
     "metadata": {},
     "output_type": "display_data"
    },
    {
     "name": "stdout",
     "output_type": "stream",
     "text": [
      "http://dhlabsrv17.epfl.ch/iiif_impresso_new/BDC-1839-02-28-a-p0002/832,897,43,17/full/0/default.jpg\n",
      "-----------------\n",
      "\n",
      "déclarent \t\t\t\t\t// (BDC-1839-02-28-a-p0002) ([555, 280, 74, 18])\n"
     ]
    },
    {
     "data": {
      "text/html": [
       "<img src=\"http://dhlabsrv17.epfl.ch/iiif_impresso/BDC-1839-02-28-a-p0002/555,280,74,18/full/0/default.jpg\"/>"
      ],
      "text/plain": [
       "<IPython.core.display.Image object>"
      ]
     },
     "metadata": {},
     "output_type": "display_data"
    },
    {
     "data": {
      "text/html": [
       "<img src=\"http://dhlabsrv17.epfl.ch/iiif_impresso_new/BDC-1839-02-28-a-p0002/555,280,74,18/full/0/default.jpg\"/>"
      ],
      "text/plain": [
       "<IPython.core.display.Image object>"
      ]
     },
     "metadata": {},
     "output_type": "display_data"
    },
    {
     "name": "stdout",
     "output_type": "stream",
     "text": [
      "http://dhlabsrv17.epfl.ch/iiif_impresso_new/BDC-1839-02-28-a-p0002/555,280,74,18/full/0/default.jpg\n",
      "-----------------\n",
      "\n",
      ", \t\t\t\t\t// (BDC-1839-01-20-a-p0005) ([669, 904, 5, 19])\n"
     ]
    },
    {
     "data": {
      "text/html": [
       "<img src=\"http://dhlabsrv17.epfl.ch/iiif_impresso/BDC-1839-01-20-a-p0005/669,904,5,19/full/0/default.jpg\"/>"
      ],
      "text/plain": [
       "<IPython.core.display.Image object>"
      ]
     },
     "metadata": {},
     "output_type": "display_data"
    },
    {
     "data": {
      "text/html": [
       "<img src=\"http://dhlabsrv17.epfl.ch/iiif_impresso_new/BDC-1839-01-20-a-p0005/669,904,5,19/full/0/default.jpg\"/>"
      ],
      "text/plain": [
       "<IPython.core.display.Image object>"
      ]
     },
     "metadata": {},
     "output_type": "display_data"
    },
    {
     "name": "stdout",
     "output_type": "stream",
     "text": [
      "http://dhlabsrv17.epfl.ch/iiif_impresso_new/BDC-1839-01-20-a-p0005/669,904,5,19/full/0/default.jpg\n",
      "-----------------\n",
      "\n",
      "députés \t\t\t\t\t// (BDC-1839-01-20-a-p0005) ([800, 1006, 63, 19])\n"
     ]
    },
    {
     "data": {
      "text/html": [
       "<img src=\"http://dhlabsrv17.epfl.ch/iiif_impresso/BDC-1839-01-20-a-p0005/800,1006,63,19/full/0/default.jpg\"/>"
      ],
      "text/plain": [
       "<IPython.core.display.Image object>"
      ]
     },
     "metadata": {},
     "output_type": "display_data"
    },
    {
     "data": {
      "text/html": [
       "<img src=\"http://dhlabsrv17.epfl.ch/iiif_impresso_new/BDC-1839-01-20-a-p0005/800,1006,63,19/full/0/default.jpg\"/>"
      ],
      "text/plain": [
       "<IPython.core.display.Image object>"
      ]
     },
     "metadata": {},
     "output_type": "display_data"
    },
    {
     "name": "stdout",
     "output_type": "stream",
     "text": [
      "http://dhlabsrv17.epfl.ch/iiif_impresso_new/BDC-1839-01-20-a-p0005/800,1006,63,19/full/0/default.jpg\n",
      "-----------------\n",
      "\n",
      "en \t\t\t\t\t// (BDC-1839-02-28-a-p0001) ([668, 719, 18, 19])\n"
     ]
    },
    {
     "data": {
      "text/html": [
       "<img src=\"http://dhlabsrv17.epfl.ch/iiif_impresso/BDC-1839-02-28-a-p0001/668,719,18,19/full/0/default.jpg\"/>"
      ],
      "text/plain": [
       "<IPython.core.display.Image object>"
      ]
     },
     "metadata": {},
     "output_type": "display_data"
    },
    {
     "data": {
      "text/html": [
       "<img src=\"http://dhlabsrv17.epfl.ch/iiif_impresso_new/BDC-1839-02-28-a-p0001/668,719,18,19/full/0/default.jpg\"/>"
      ],
      "text/plain": [
       "<IPython.core.display.Image object>"
      ]
     },
     "metadata": {},
     "output_type": "display_data"
    },
    {
     "name": "stdout",
     "output_type": "stream",
     "text": [
      "http://dhlabsrv17.epfl.ch/iiif_impresso_new/BDC-1839-02-28-a-p0001/668,719,18,19/full/0/default.jpg\n",
      "-----------------\n",
      "\n",
      "AVIS \t\t\t\t\t// (BDC-1839-02-28-a-p0001) ([203, 509, 63, 25])\n"
     ]
    },
    {
     "data": {
      "text/html": [
       "<img src=\"http://dhlabsrv17.epfl.ch/iiif_impresso/BDC-1839-02-28-a-p0001/203,509,63,25/full/0/default.jpg\"/>"
      ],
      "text/plain": [
       "<IPython.core.display.Image object>"
      ]
     },
     "metadata": {},
     "output_type": "display_data"
    },
    {
     "data": {
      "text/html": [
       "<img src=\"http://dhlabsrv17.epfl.ch/iiif_impresso_new/BDC-1839-02-28-a-p0001/203,509,63,25/full/0/default.jpg\"/>"
      ],
      "text/plain": [
       "<IPython.core.display.Image object>"
      ]
     },
     "metadata": {},
     "output_type": "display_data"
    },
    {
     "name": "stdout",
     "output_type": "stream",
     "text": [
      "http://dhlabsrv17.epfl.ch/iiif_impresso_new/BDC-1839-02-28-a-p0001/203,509,63,25/full/0/default.jpg\n",
      "-----------------\n",
      "\n",
      ", \t\t\t\t\t// (BDC-1839-02-23-a-p0004) ([163, 791, 4, 19])\n"
     ]
    },
    {
     "data": {
      "text/html": [
       "<img src=\"http://dhlabsrv17.epfl.ch/iiif_impresso/BDC-1839-02-23-a-p0004/163,791,4,19/full/0/default.jpg\"/>"
      ],
      "text/plain": [
       "<IPython.core.display.Image object>"
      ]
     },
     "metadata": {},
     "output_type": "display_data"
    },
    {
     "data": {
      "text/html": [
       "<img src=\"http://dhlabsrv17.epfl.ch/iiif_impresso_new/BDC-1839-02-23-a-p0004/163,791,4,19/full/0/default.jpg\"/>"
      ],
      "text/plain": [
       "<IPython.core.display.Image object>"
      ]
     },
     "metadata": {},
     "output_type": "display_data"
    },
    {
     "name": "stdout",
     "output_type": "stream",
     "text": [
      "http://dhlabsrv17.epfl.ch/iiif_impresso_new/BDC-1839-02-23-a-p0004/163,791,4,19/full/0/default.jpg\n",
      "-----------------\n",
      "\n",
      "les \t\t\t\t\t// (BDC-1839-02-23-a-p0004) ([438, 201, 22, 19])\n"
     ]
    },
    {
     "data": {
      "text/html": [
       "<img src=\"http://dhlabsrv17.epfl.ch/iiif_impresso/BDC-1839-02-23-a-p0004/438,201,22,19/full/0/default.jpg\"/>"
      ],
      "text/plain": [
       "<IPython.core.display.Image object>"
      ]
     },
     "metadata": {},
     "output_type": "display_data"
    },
    {
     "data": {
      "text/html": [
       "<img src=\"http://dhlabsrv17.epfl.ch/iiif_impresso_new/BDC-1839-02-23-a-p0004/438,201,22,19/full/0/default.jpg\"/>"
      ],
      "text/plain": [
       "<IPython.core.display.Image object>"
      ]
     },
     "metadata": {},
     "output_type": "display_data"
    },
    {
     "name": "stdout",
     "output_type": "stream",
     "text": [
      "http://dhlabsrv17.epfl.ch/iiif_impresso_new/BDC-1839-02-23-a-p0004/438,201,22,19/full/0/default.jpg\n",
      "-----------------\n",
      "\n",
      ". \t\t\t\t\t// (BDC-1839-01-20-a-p0005) ([286, 150, 5, 19])\n"
     ]
    },
    {
     "data": {
      "text/html": [
       "<img src=\"http://dhlabsrv17.epfl.ch/iiif_impresso/BDC-1839-01-20-a-p0005/286,150,5,19/full/0/default.jpg\"/>"
      ],
      "text/plain": [
       "<IPython.core.display.Image object>"
      ]
     },
     "metadata": {},
     "output_type": "display_data"
    },
    {
     "data": {
      "text/html": [
       "<img src=\"http://dhlabsrv17.epfl.ch/iiif_impresso_new/BDC-1839-01-20-a-p0005/286,150,5,19/full/0/default.jpg\"/>"
      ],
      "text/plain": [
       "<IPython.core.display.Image object>"
      ]
     },
     "metadata": {},
     "output_type": "display_data"
    },
    {
     "name": "stdout",
     "output_type": "stream",
     "text": [
      "http://dhlabsrv17.epfl.ch/iiif_impresso_new/BDC-1839-01-20-a-p0005/286,150,5,19/full/0/default.jpg\n",
      "-----------------\n",
      "\n",
      "pour \t\t\t\t\t// (BDC-1839-01-20-a-p0005) ([631, 709, 39, 19])\n"
     ]
    },
    {
     "data": {
      "text/html": [
       "<img src=\"http://dhlabsrv17.epfl.ch/iiif_impresso/BDC-1839-01-20-a-p0005/631,709,39,19/full/0/default.jpg\"/>"
      ],
      "text/plain": [
       "<IPython.core.display.Image object>"
      ]
     },
     "metadata": {},
     "output_type": "display_data"
    },
    {
     "data": {
      "text/html": [
       "<img src=\"http://dhlabsrv17.epfl.ch/iiif_impresso_new/BDC-1839-01-20-a-p0005/631,709,39,19/full/0/default.jpg\"/>"
      ],
      "text/plain": [
       "<IPython.core.display.Image object>"
      ]
     },
     "metadata": {},
     "output_type": "display_data"
    },
    {
     "name": "stdout",
     "output_type": "stream",
     "text": [
      "http://dhlabsrv17.epfl.ch/iiif_impresso_new/BDC-1839-01-20-a-p0005/631,709,39,19/full/0/default.jpg\n",
      "-----------------\n",
      "\n",
      "de \t\t\t\t\t// (BDC-1839-03-14-a-p0003) ([651, 1219, 18, 19])\n"
     ]
    },
    {
     "data": {
      "text/html": [
       "<img src=\"http://dhlabsrv17.epfl.ch/iiif_impresso/BDC-1839-03-14-a-p0003/651,1219,18,19/full/0/default.jpg\"/>"
      ],
      "text/plain": [
       "<IPython.core.display.Image object>"
      ]
     },
     "metadata": {},
     "output_type": "display_data"
    },
    {
     "data": {
      "text/html": [
       "<img src=\"http://dhlabsrv17.epfl.ch/iiif_impresso_new/BDC-1839-03-14-a-p0003/651,1219,18,19/full/0/default.jpg\"/>"
      ],
      "text/plain": [
       "<IPython.core.display.Image object>"
      ]
     },
     "metadata": {},
     "output_type": "display_data"
    },
    {
     "name": "stdout",
     "output_type": "stream",
     "text": [
      "http://dhlabsrv17.epfl.ch/iiif_impresso_new/BDC-1839-03-14-a-p0003/651,1219,18,19/full/0/default.jpg\n",
      "-----------------\n",
      "\n",
      "Le \t\t\t\t\t// (BDC-1839-03-14-a-p0003) ([496, 1219, 22, 19])\n"
     ]
    },
    {
     "data": {
      "text/html": [
       "<img src=\"http://dhlabsrv17.epfl.ch/iiif_impresso/BDC-1839-03-14-a-p0003/496,1219,22,19/full/0/default.jpg\"/>"
      ],
      "text/plain": [
       "<IPython.core.display.Image object>"
      ]
     },
     "metadata": {},
     "output_type": "display_data"
    },
    {
     "data": {
      "text/html": [
       "<img src=\"http://dhlabsrv17.epfl.ch/iiif_impresso_new/BDC-1839-03-14-a-p0003/496,1219,22,19/full/0/default.jpg\"/>"
      ],
      "text/plain": [
       "<IPython.core.display.Image object>"
      ]
     },
     "metadata": {},
     "output_type": "display_data"
    },
    {
     "name": "stdout",
     "output_type": "stream",
     "text": [
      "http://dhlabsrv17.epfl.ch/iiif_impresso_new/BDC-1839-03-14-a-p0003/496,1219,22,19/full/0/default.jpg\n",
      "-----------------\n",
      "\n",
      ", \t\t\t\t\t// (BDC-1839-01-21-a-p0003) ([414, 1180, 4, 18])\n"
     ]
    },
    {
     "data": {
      "text/html": [
       "<img src=\"http://dhlabsrv17.epfl.ch/iiif_impresso/BDC-1839-01-21-a-p0003/414,1180,4,18/full/0/default.jpg\"/>"
      ],
      "text/plain": [
       "<IPython.core.display.Image object>"
      ]
     },
     "metadata": {},
     "output_type": "display_data"
    },
    {
     "data": {
      "text/html": [
       "<img src=\"http://dhlabsrv17.epfl.ch/iiif_impresso_new/BDC-1839-01-21-a-p0003/414,1180,4,18/full/0/default.jpg\"/>"
      ],
      "text/plain": [
       "<IPython.core.display.Image object>"
      ]
     },
     "metadata": {},
     "output_type": "display_data"
    },
    {
     "name": "stdout",
     "output_type": "stream",
     "text": [
      "http://dhlabsrv17.epfl.ch/iiif_impresso_new/BDC-1839-01-21-a-p0003/414,1180,4,18/full/0/default.jpg\n",
      "-----------------\n",
      "\n",
      "mêmes \t\t\t\t\t// (BDC-1839-01-21-a-p0003) ([508, 1000, 54, 18])\n"
     ]
    },
    {
     "data": {
      "text/html": [
       "<img src=\"http://dhlabsrv17.epfl.ch/iiif_impresso/BDC-1839-01-21-a-p0003/508,1000,54,18/full/0/default.jpg\"/>"
      ],
      "text/plain": [
       "<IPython.core.display.Image object>"
      ]
     },
     "metadata": {},
     "output_type": "display_data"
    },
    {
     "data": {
      "text/html": [
       "<img src=\"http://dhlabsrv17.epfl.ch/iiif_impresso_new/BDC-1839-01-21-a-p0003/508,1000,54,18/full/0/default.jpg\"/>"
      ],
      "text/plain": [
       "<IPython.core.display.Image object>"
      ]
     },
     "metadata": {},
     "output_type": "display_data"
    },
    {
     "name": "stdout",
     "output_type": "stream",
     "text": [
      "http://dhlabsrv17.epfl.ch/iiif_impresso_new/BDC-1839-01-21-a-p0003/508,1000,54,18/full/0/default.jpg\n",
      "-----------------\n",
      "\n",
      "part \t\t\t\t\t// (BDC-1839-02-25-a-p0001) ([603, 863, 33, 19])\n"
     ]
    },
    {
     "data": {
      "text/html": [
       "<img src=\"http://dhlabsrv17.epfl.ch/iiif_impresso/BDC-1839-02-25-a-p0001/603,863,33,19/full/0/default.jpg\"/>"
      ],
      "text/plain": [
       "<IPython.core.display.Image object>"
      ]
     },
     "metadata": {},
     "output_type": "display_data"
    },
    {
     "data": {
      "text/html": [
       "<img src=\"http://dhlabsrv17.epfl.ch/iiif_impresso_new/BDC-1839-02-25-a-p0001/603,863,33,19/full/0/default.jpg\"/>"
      ],
      "text/plain": [
       "<IPython.core.display.Image object>"
      ]
     },
     "metadata": {},
     "output_type": "display_data"
    },
    {
     "name": "stdout",
     "output_type": "stream",
     "text": [
      "http://dhlabsrv17.epfl.ch/iiif_impresso_new/BDC-1839-02-25-a-p0001/603,863,33,19/full/0/default.jpg\n",
      "-----------------\n",
      "\n",
      ". \t\t\t\t\t// (BDC-1839-02-25-a-p0001) ([268, 514, 6, 24])\n"
     ]
    },
    {
     "data": {
      "text/html": [
       "<img src=\"http://dhlabsrv17.epfl.ch/iiif_impresso/BDC-1839-02-25-a-p0001/268,514,6,24/full/0/default.jpg\"/>"
      ],
      "text/plain": [
       "<IPython.core.display.Image object>"
      ]
     },
     "metadata": {},
     "output_type": "display_data"
    },
    {
     "data": {
      "text/html": [
       "<img src=\"http://dhlabsrv17.epfl.ch/iiif_impresso_new/BDC-1839-02-25-a-p0001/268,514,6,24/full/0/default.jpg\"/>"
      ],
      "text/plain": [
       "<IPython.core.display.Image object>"
      ]
     },
     "metadata": {},
     "output_type": "display_data"
    },
    {
     "name": "stdout",
     "output_type": "stream",
     "text": [
      "http://dhlabsrv17.epfl.ch/iiif_impresso_new/BDC-1839-02-25-a-p0001/268,514,6,24/full/0/default.jpg\n",
      "-----------------\n",
      "\n",
      "protocole \t\t\t\t\t// (BDC-1839-01-20-a-p0003) ([674, 541, 74, 17])\n"
     ]
    },
    {
     "data": {
      "text/html": [
       "<img src=\"http://dhlabsrv17.epfl.ch/iiif_impresso/BDC-1839-01-20-a-p0003/674,541,74,17/full/0/default.jpg\"/>"
      ],
      "text/plain": [
       "<IPython.core.display.Image object>"
      ]
     },
     "metadata": {},
     "output_type": "display_data"
    },
    {
     "data": {
      "text/html": [
       "<img src=\"http://dhlabsrv17.epfl.ch/iiif_impresso_new/BDC-1839-01-20-a-p0003/674,541,74,17/full/0/default.jpg\"/>"
      ],
      "text/plain": [
       "<IPython.core.display.Image object>"
      ]
     },
     "metadata": {},
     "output_type": "display_data"
    },
    {
     "name": "stdout",
     "output_type": "stream",
     "text": [
      "http://dhlabsrv17.epfl.ch/iiif_impresso_new/BDC-1839-01-20-a-p0003/674,541,74,17/full/0/default.jpg\n",
      "-----------------\n",
      "\n",
      ". \t\t\t\t\t// (BDC-1839-01-20-a-p0003) ([583, 391, 6, 23])\n"
     ]
    },
    {
     "data": {
      "text/html": [
       "<img src=\"http://dhlabsrv17.epfl.ch/iiif_impresso/BDC-1839-01-20-a-p0003/583,391,6,23/full/0/default.jpg\"/>"
      ],
      "text/plain": [
       "<IPython.core.display.Image object>"
      ]
     },
     "metadata": {},
     "output_type": "display_data"
    },
    {
     "data": {
      "text/html": [
       "<img src=\"http://dhlabsrv17.epfl.ch/iiif_impresso_new/BDC-1839-01-20-a-p0003/583,391,6,23/full/0/default.jpg\"/>"
      ],
      "text/plain": [
       "<IPython.core.display.Image object>"
      ]
     },
     "metadata": {},
     "output_type": "display_data"
    },
    {
     "name": "stdout",
     "output_type": "stream",
     "text": [
      "http://dhlabsrv17.epfl.ch/iiif_impresso_new/BDC-1839-01-20-a-p0003/583,391,6,23/full/0/default.jpg\n",
      "-----------------\n",
      "\n",
      "Pouvoir \t\t\t\t\t// (BDC-1839-01-20-a-p0005) ([186, 1186, 64, 19])\n"
     ]
    },
    {
     "data": {
      "text/html": [
       "<img src=\"http://dhlabsrv17.epfl.ch/iiif_impresso/BDC-1839-01-20-a-p0005/186,1186,64,19/full/0/default.jpg\"/>"
      ],
      "text/plain": [
       "<IPython.core.display.Image object>"
      ]
     },
     "metadata": {},
     "output_type": "display_data"
    },
    {
     "data": {
      "text/html": [
       "<img src=\"http://dhlabsrv17.epfl.ch/iiif_impresso_new/BDC-1839-01-20-a-p0005/186,1186,64,19/full/0/default.jpg\"/>"
      ],
      "text/plain": [
       "<IPython.core.display.Image object>"
      ]
     },
     "metadata": {},
     "output_type": "display_data"
    },
    {
     "name": "stdout",
     "output_type": "stream",
     "text": [
      "http://dhlabsrv17.epfl.ch/iiif_impresso_new/BDC-1839-01-20-a-p0005/186,1186,64,19/full/0/default.jpg\n",
      "-----------------\n",
      "\n",
      ". \t\t\t\t\t// (BDC-1839-01-20-a-p0005) ([113, 789, 4, 19])\n"
     ]
    },
    {
     "data": {
      "text/html": [
       "<img src=\"http://dhlabsrv17.epfl.ch/iiif_impresso/BDC-1839-01-20-a-p0005/113,789,4,19/full/0/default.jpg\"/>"
      ],
      "text/plain": [
       "<IPython.core.display.Image object>"
      ]
     },
     "metadata": {},
     "output_type": "display_data"
    },
    {
     "data": {
      "text/html": [
       "<img src=\"http://dhlabsrv17.epfl.ch/iiif_impresso_new/BDC-1839-01-20-a-p0005/113,789,4,19/full/0/default.jpg\"/>"
      ],
      "text/plain": [
       "<IPython.core.display.Image object>"
      ]
     },
     "metadata": {},
     "output_type": "display_data"
    },
    {
     "name": "stdout",
     "output_type": "stream",
     "text": [
      "http://dhlabsrv17.epfl.ch/iiif_impresso_new/BDC-1839-01-20-a-p0005/113,789,4,19/full/0/default.jpg\n",
      "-----------------\n",
      "\n",
      ". \t\t\t\t\t// (BDC-1839-01-20-a-p0005) ([868, 189, 5, 19])\n"
     ]
    },
    {
     "data": {
      "text/html": [
       "<img src=\"http://dhlabsrv17.epfl.ch/iiif_impresso/BDC-1839-01-20-a-p0005/868,189,5,19/full/0/default.jpg\"/>"
      ],
      "text/plain": [
       "<IPython.core.display.Image object>"
      ]
     },
     "metadata": {},
     "output_type": "display_data"
    },
    {
     "data": {
      "text/html": [
       "<img src=\"http://dhlabsrv17.epfl.ch/iiif_impresso_new/BDC-1839-01-20-a-p0005/868,189,5,19/full/0/default.jpg\"/>"
      ],
      "text/plain": [
       "<IPython.core.display.Image object>"
      ]
     },
     "metadata": {},
     "output_type": "display_data"
    },
    {
     "name": "stdout",
     "output_type": "stream",
     "text": [
      "http://dhlabsrv17.epfl.ch/iiif_impresso_new/BDC-1839-01-20-a-p0005/868,189,5,19/full/0/default.jpg\n",
      "-----------------\n",
      "\n",
      "; \t\t\t\t\t// (BDC-1839-01-20-a-p0005) ([390, 517, 5, 19])\n"
     ]
    },
    {
     "data": {
      "text/html": [
       "<img src=\"http://dhlabsrv17.epfl.ch/iiif_impresso/BDC-1839-01-20-a-p0005/390,517,5,19/full/0/default.jpg\"/>"
      ],
      "text/plain": [
       "<IPython.core.display.Image object>"
      ]
     },
     "metadata": {},
     "output_type": "display_data"
    },
    {
     "data": {
      "text/html": [
       "<img src=\"http://dhlabsrv17.epfl.ch/iiif_impresso_new/BDC-1839-01-20-a-p0005/390,517,5,19/full/0/default.jpg\"/>"
      ],
      "text/plain": [
       "<IPython.core.display.Image object>"
      ]
     },
     "metadata": {},
     "output_type": "display_data"
    },
    {
     "name": "stdout",
     "output_type": "stream",
     "text": [
      "http://dhlabsrv17.epfl.ch/iiif_impresso_new/BDC-1839-01-20-a-p0005/390,517,5,19/full/0/default.jpg\n",
      "-----------------\n",
      "\n",
      "Constitution \t\t\t\t\t// (BDC-1839-01-21-a-p0002) ([85, 212, 106, 18])\n"
     ]
    },
    {
     "data": {
      "text/html": [
       "<img src=\"http://dhlabsrv17.epfl.ch/iiif_impresso/BDC-1839-01-21-a-p0002/85,212,106,18/full/0/default.jpg\"/>"
      ],
      "text/plain": [
       "<IPython.core.display.Image object>"
      ]
     },
     "metadata": {},
     "output_type": "display_data"
    },
    {
     "data": {
      "text/html": [
       "<img src=\"http://dhlabsrv17.epfl.ch/iiif_impresso_new/BDC-1839-01-21-a-p0002/85,212,106,18/full/0/default.jpg\"/>"
      ],
      "text/plain": [
       "<IPython.core.display.Image object>"
      ]
     },
     "metadata": {},
     "output_type": "display_data"
    },
    {
     "name": "stdout",
     "output_type": "stream",
     "text": [
      "http://dhlabsrv17.epfl.ch/iiif_impresso_new/BDC-1839-01-21-a-p0002/85,212,106,18/full/0/default.jpg\n",
      "-----------------\n",
      "\n",
      "changemens \t\t\t\t\t// (BDC-1839-01-21-a-p0002) ([741, 115, 99, 17])\n"
     ]
    },
    {
     "data": {
      "text/html": [
       "<img src=\"http://dhlabsrv17.epfl.ch/iiif_impresso/BDC-1839-01-21-a-p0002/741,115,99,17/full/0/default.jpg\"/>"
      ],
      "text/plain": [
       "<IPython.core.display.Image object>"
      ]
     },
     "metadata": {},
     "output_type": "display_data"
    },
    {
     "data": {
      "text/html": [
       "<img src=\"http://dhlabsrv17.epfl.ch/iiif_impresso_new/BDC-1839-01-21-a-p0002/741,115,99,17/full/0/default.jpg\"/>"
      ],
      "text/plain": [
       "<IPython.core.display.Image object>"
      ]
     },
     "metadata": {},
     "output_type": "display_data"
    },
    {
     "name": "stdout",
     "output_type": "stream",
     "text": [
      "http://dhlabsrv17.epfl.ch/iiif_impresso_new/BDC-1839-01-21-a-p0002/741,115,99,17/full/0/default.jpg\n",
      "-----------------\n",
      "\n",
      "l'accès \t\t\t\t\t// (BDC-1839-03-14-a-p0001) ([105, 862, 61, 21])\n"
     ]
    },
    {
     "data": {
      "text/html": [
       "<img src=\"http://dhlabsrv17.epfl.ch/iiif_impresso/BDC-1839-03-14-a-p0001/105,862,61,21/full/0/default.jpg\"/>"
      ],
      "text/plain": [
       "<IPython.core.display.Image object>"
      ]
     },
     "metadata": {},
     "output_type": "display_data"
    },
    {
     "data": {
      "text/html": [
       "<img src=\"http://dhlabsrv17.epfl.ch/iiif_impresso_new/BDC-1839-03-14-a-p0001/105,862,61,21/full/0/default.jpg\"/>"
      ],
      "text/plain": [
       "<IPython.core.display.Image object>"
      ]
     },
     "metadata": {},
     "output_type": "display_data"
    },
    {
     "name": "stdout",
     "output_type": "stream",
     "text": [
      "http://dhlabsrv17.epfl.ch/iiif_impresso_new/BDC-1839-03-14-a-p0001/105,862,61,21/full/0/default.jpg\n",
      "-----------------\n",
      "\n",
      "du \t\t\t\t\t// (BDC-1839-03-14-a-p0001) ([473, 615, 23, 21])\n"
     ]
    },
    {
     "data": {
      "text/html": [
       "<img src=\"http://dhlabsrv17.epfl.ch/iiif_impresso/BDC-1839-03-14-a-p0001/473,615,23,21/full/0/default.jpg\"/>"
      ],
      "text/plain": [
       "<IPython.core.display.Image object>"
      ]
     },
     "metadata": {},
     "output_type": "display_data"
    },
    {
     "data": {
      "text/html": [
       "<img src=\"http://dhlabsrv17.epfl.ch/iiif_impresso_new/BDC-1839-03-14-a-p0001/473,615,23,21/full/0/default.jpg\"/>"
      ],
      "text/plain": [
       "<IPython.core.display.Image object>"
      ]
     },
     "metadata": {},
     "output_type": "display_data"
    },
    {
     "name": "stdout",
     "output_type": "stream",
     "text": [
      "http://dhlabsrv17.epfl.ch/iiif_impresso_new/BDC-1839-03-14-a-p0001/473,615,23,21/full/0/default.jpg\n",
      "-----------------\n",
      "\n",
      "Que \t\t\t\t\t// (BDC-1839-02-23-a-p0002) ([529, 447, 38, 21])\n"
     ]
    },
    {
     "data": {
      "text/html": [
       "<img src=\"http://dhlabsrv17.epfl.ch/iiif_impresso/BDC-1839-02-23-a-p0002/529,447,38,21/full/0/default.jpg\"/>"
      ],
      "text/plain": [
       "<IPython.core.display.Image object>"
      ]
     },
     "metadata": {},
     "output_type": "display_data"
    },
    {
     "data": {
      "text/html": [
       "<img src=\"http://dhlabsrv17.epfl.ch/iiif_impresso_new/BDC-1839-02-23-a-p0002/529,447,38,21/full/0/default.jpg\"/>"
      ],
      "text/plain": [
       "<IPython.core.display.Image object>"
      ]
     },
     "metadata": {},
     "output_type": "display_data"
    },
    {
     "name": "stdout",
     "output_type": "stream",
     "text": [
      "http://dhlabsrv17.epfl.ch/iiif_impresso_new/BDC-1839-02-23-a-p0002/529,447,38,21/full/0/default.jpg\n",
      "-----------------\n",
      "\n",
      "lation \t\t\t\t\t// (BDC-1839-02-23-a-p0002) ([57, 840, 54, 21])\n"
     ]
    },
    {
     "data": {
      "text/html": [
       "<img src=\"http://dhlabsrv17.epfl.ch/iiif_impresso/BDC-1839-02-23-a-p0002/57,840,54,21/full/0/default.jpg\"/>"
      ],
      "text/plain": [
       "<IPython.core.display.Image object>"
      ]
     },
     "metadata": {},
     "output_type": "display_data"
    },
    {
     "data": {
      "text/html": [
       "<img src=\"http://dhlabsrv17.epfl.ch/iiif_impresso_new/BDC-1839-02-23-a-p0002/57,840,54,21/full/0/default.jpg\"/>"
      ],
      "text/plain": [
       "<IPython.core.display.Image object>"
      ]
     },
     "metadata": {},
     "output_type": "display_data"
    },
    {
     "name": "stdout",
     "output_type": "stream",
     "text": [
      "http://dhlabsrv17.epfl.ch/iiif_impresso_new/BDC-1839-02-23-a-p0002/57,840,54,21/full/0/default.jpg\n",
      "-----------------\n",
      "\n",
      "suivant \t\t\t\t\t// (BDC-1839-01-21-a-p0004) ([507, 295, 59, 18])\n"
     ]
    },
    {
     "data": {
      "text/html": [
       "<img src=\"http://dhlabsrv17.epfl.ch/iiif_impresso/BDC-1839-01-21-a-p0004/507,295,59,18/full/0/default.jpg\"/>"
      ],
      "text/plain": [
       "<IPython.core.display.Image object>"
      ]
     },
     "metadata": {},
     "output_type": "display_data"
    },
    {
     "data": {
      "text/html": [
       "<img src=\"http://dhlabsrv17.epfl.ch/iiif_impresso_new/BDC-1839-01-21-a-p0004/507,295,59,18/full/0/default.jpg\"/>"
      ],
      "text/plain": [
       "<IPython.core.display.Image object>"
      ]
     },
     "metadata": {},
     "output_type": "display_data"
    },
    {
     "name": "stdout",
     "output_type": "stream",
     "text": [
      "http://dhlabsrv17.epfl.ch/iiif_impresso_new/BDC-1839-01-21-a-p0004/507,295,59,18/full/0/default.jpg\n",
      "-----------------\n",
      "\n",
      "résolus \t\t\t\t\t// (BDC-1839-01-21-a-p0004) ([88, 1144, 57, 17])\n"
     ]
    },
    {
     "data": {
      "text/html": [
       "<img src=\"http://dhlabsrv17.epfl.ch/iiif_impresso/BDC-1839-01-21-a-p0004/88,1144,57,17/full/0/default.jpg\"/>"
      ],
      "text/plain": [
       "<IPython.core.display.Image object>"
      ]
     },
     "metadata": {},
     "output_type": "display_data"
    },
    {
     "data": {
      "text/html": [
       "<img src=\"http://dhlabsrv17.epfl.ch/iiif_impresso_new/BDC-1839-01-21-a-p0004/88,1144,57,17/full/0/default.jpg\"/>"
      ],
      "text/plain": [
       "<IPython.core.display.Image object>"
      ]
     },
     "metadata": {},
     "output_type": "display_data"
    },
    {
     "name": "stdout",
     "output_type": "stream",
     "text": [
      "http://dhlabsrv17.epfl.ch/iiif_impresso_new/BDC-1839-01-21-a-p0004/88,1144,57,17/full/0/default.jpg\n",
      "-----------------\n",
      "\n",
      "» \t\t\t\t\t// (BDC-1839-02-28-a-p0001) ([899, 1094, 10, 19])\n"
     ]
    },
    {
     "data": {
      "text/html": [
       "<img src=\"http://dhlabsrv17.epfl.ch/iiif_impresso/BDC-1839-02-28-a-p0001/899,1094,10,19/full/0/default.jpg\"/>"
      ],
      "text/plain": [
       "<IPython.core.display.Image object>"
      ]
     },
     "metadata": {},
     "output_type": "display_data"
    },
    {
     "data": {
      "text/html": [
       "<img src=\"http://dhlabsrv17.epfl.ch/iiif_impresso_new/BDC-1839-02-28-a-p0001/899,1094,10,19/full/0/default.jpg\"/>"
      ],
      "text/plain": [
       "<IPython.core.display.Image object>"
      ]
     },
     "metadata": {},
     "output_type": "display_data"
    },
    {
     "name": "stdout",
     "output_type": "stream",
     "text": [
      "http://dhlabsrv17.epfl.ch/iiif_impresso_new/BDC-1839-02-28-a-p0001/899,1094,10,19/full/0/default.jpg\n",
      "-----------------\n",
      "\n",
      "la \t\t\t\t\t// (BDC-1839-02-28-a-p0001) ([237, 1024, 14, 19])\n"
     ]
    },
    {
     "data": {
      "text/html": [
       "<img src=\"http://dhlabsrv17.epfl.ch/iiif_impresso/BDC-1839-02-28-a-p0001/237,1024,14,19/full/0/default.jpg\"/>"
      ],
      "text/plain": [
       "<IPython.core.display.Image object>"
      ]
     },
     "metadata": {},
     "output_type": "display_data"
    },
    {
     "data": {
      "text/html": [
       "<img src=\"http://dhlabsrv17.epfl.ch/iiif_impresso_new/BDC-1839-02-28-a-p0001/237,1024,14,19/full/0/default.jpg\"/>"
      ],
      "text/plain": [
       "<IPython.core.display.Image object>"
      ]
     },
     "metadata": {},
     "output_type": "display_data"
    },
    {
     "name": "stdout",
     "output_type": "stream",
     "text": [
      "http://dhlabsrv17.epfl.ch/iiif_impresso_new/BDC-1839-02-28-a-p0001/237,1024,14,19/full/0/default.jpg\n",
      "-----------------\n",
      "\n",
      ". \t\t\t\t\t// (BDC-1839-03-14-a-p0001) ([622, 886, 6, 21])\n"
     ]
    },
    {
     "data": {
      "text/html": [
       "<img src=\"http://dhlabsrv17.epfl.ch/iiif_impresso/BDC-1839-03-14-a-p0001/622,886,6,21/full/0/default.jpg\"/>"
      ],
      "text/plain": [
       "<IPython.core.display.Image object>"
      ]
     },
     "metadata": {},
     "output_type": "display_data"
    },
    {
     "data": {
      "text/html": [
       "<img src=\"http://dhlabsrv17.epfl.ch/iiif_impresso_new/BDC-1839-03-14-a-p0001/622,886,6,21/full/0/default.jpg\"/>"
      ],
      "text/plain": [
       "<IPython.core.display.Image object>"
      ]
     },
     "metadata": {},
     "output_type": "display_data"
    },
    {
     "name": "stdout",
     "output_type": "stream",
     "text": [
      "http://dhlabsrv17.epfl.ch/iiif_impresso_new/BDC-1839-03-14-a-p0001/622,886,6,21/full/0/default.jpg\n",
      "-----------------\n",
      "\n",
      "et \t\t\t\t\t// (BDC-1839-03-14-a-p0001) ([751, 1161, 17, 21])\n"
     ]
    },
    {
     "data": {
      "text/html": [
       "<img src=\"http://dhlabsrv17.epfl.ch/iiif_impresso/BDC-1839-03-14-a-p0001/751,1161,17,21/full/0/default.jpg\"/>"
      ],
      "text/plain": [
       "<IPython.core.display.Image object>"
      ]
     },
     "metadata": {},
     "output_type": "display_data"
    },
    {
     "data": {
      "text/html": [
       "<img src=\"http://dhlabsrv17.epfl.ch/iiif_impresso_new/BDC-1839-03-14-a-p0001/751,1161,17,21/full/0/default.jpg\"/>"
      ],
      "text/plain": [
       "<IPython.core.display.Image object>"
      ]
     },
     "metadata": {},
     "output_type": "display_data"
    },
    {
     "name": "stdout",
     "output_type": "stream",
     "text": [
      "http://dhlabsrv17.epfl.ch/iiif_impresso_new/BDC-1839-03-14-a-p0001/751,1161,17,21/full/0/default.jpg\n",
      "-----------------\n",
      "\n",
      "LA \t\t\t\t\t// (BDC-1839-01-20-a-p0003) ([232, 205, 41, 28])\n"
     ]
    },
    {
     "data": {
      "text/html": [
       "<img src=\"http://dhlabsrv17.epfl.ch/iiif_impresso/BDC-1839-01-20-a-p0003/232,205,41,28/full/0/default.jpg\"/>"
      ],
      "text/plain": [
       "<IPython.core.display.Image object>"
      ]
     },
     "metadata": {},
     "output_type": "display_data"
    },
    {
     "data": {
      "text/html": [
       "<img src=\"http://dhlabsrv17.epfl.ch/iiif_impresso_new/BDC-1839-01-20-a-p0003/232,205,41,28/full/0/default.jpg\"/>"
      ],
      "text/plain": [
       "<IPython.core.display.Image object>"
      ]
     },
     "metadata": {},
     "output_type": "display_data"
    },
    {
     "name": "stdout",
     "output_type": "stream",
     "text": [
      "http://dhlabsrv17.epfl.ch/iiif_impresso_new/BDC-1839-01-20-a-p0003/232,205,41,28/full/0/default.jpg\n",
      "-----------------\n",
      "\n",
      "dans \t\t\t\t\t// (BDC-1839-01-20-a-p0003) ([855, 626, 36, 17])\n"
     ]
    },
    {
     "data": {
      "text/html": [
       "<img src=\"http://dhlabsrv17.epfl.ch/iiif_impresso/BDC-1839-01-20-a-p0003/855,626,36,17/full/0/default.jpg\"/>"
      ],
      "text/plain": [
       "<IPython.core.display.Image object>"
      ]
     },
     "metadata": {},
     "output_type": "display_data"
    },
    {
     "data": {
      "text/html": [
       "<img src=\"http://dhlabsrv17.epfl.ch/iiif_impresso_new/BDC-1839-01-20-a-p0003/855,626,36,17/full/0/default.jpg\"/>"
      ],
      "text/plain": [
       "<IPython.core.display.Image object>"
      ]
     },
     "metadata": {},
     "output_type": "display_data"
    },
    {
     "name": "stdout",
     "output_type": "stream",
     "text": [
      "http://dhlabsrv17.epfl.ch/iiif_impresso_new/BDC-1839-01-20-a-p0003/855,626,36,17/full/0/default.jpg\n",
      "-----------------\n",
      "\n",
      "tonte \t\t\t\t\t// (BDC-1839-01-21-a-p0004) ([714, 724, 41, 17])\n"
     ]
    },
    {
     "data": {
      "text/html": [
       "<img src=\"http://dhlabsrv17.epfl.ch/iiif_impresso/BDC-1839-01-21-a-p0004/714,724,41,17/full/0/default.jpg\"/>"
      ],
      "text/plain": [
       "<IPython.core.display.Image object>"
      ]
     },
     "metadata": {},
     "output_type": "display_data"
    },
    {
     "data": {
      "text/html": [
       "<img src=\"http://dhlabsrv17.epfl.ch/iiif_impresso_new/BDC-1839-01-21-a-p0004/714,724,41,17/full/0/default.jpg\"/>"
      ],
      "text/plain": [
       "<IPython.core.display.Image object>"
      ]
     },
     "metadata": {},
     "output_type": "display_data"
    },
    {
     "name": "stdout",
     "output_type": "stream",
     "text": [
      "http://dhlabsrv17.epfl.ch/iiif_impresso_new/BDC-1839-01-21-a-p0004/714,724,41,17/full/0/default.jpg\n",
      "-----------------\n",
      "\n",
      "de \t\t\t\t\t// (BDC-1839-01-21-a-p0004) ([469, 704, 18, 17])\n"
     ]
    },
    {
     "data": {
      "text/html": [
       "<img src=\"http://dhlabsrv17.epfl.ch/iiif_impresso/BDC-1839-01-21-a-p0004/469,704,18,17/full/0/default.jpg\"/>"
      ],
      "text/plain": [
       "<IPython.core.display.Image object>"
      ]
     },
     "metadata": {},
     "output_type": "display_data"
    },
    {
     "data": {
      "text/html": [
       "<img src=\"http://dhlabsrv17.epfl.ch/iiif_impresso_new/BDC-1839-01-21-a-p0004/469,704,18,17/full/0/default.jpg\"/>"
      ],
      "text/plain": [
       "<IPython.core.display.Image object>"
      ]
     },
     "metadata": {},
     "output_type": "display_data"
    },
    {
     "name": "stdout",
     "output_type": "stream",
     "text": [
      "http://dhlabsrv17.epfl.ch/iiif_impresso_new/BDC-1839-01-21-a-p0004/469,704,18,17/full/0/default.jpg\n",
      "-----------------\n",
      "\n",
      "privilégiées \t\t\t\t\t// (BDC-1839-02-25-a-p0004) ([76, 795, 102, 19])\n"
     ]
    },
    {
     "data": {
      "text/html": [
       "<img src=\"http://dhlabsrv17.epfl.ch/iiif_impresso/BDC-1839-02-25-a-p0004/76,795,102,19/full/0/default.jpg\"/>"
      ],
      "text/plain": [
       "<IPython.core.display.Image object>"
      ]
     },
     "metadata": {},
     "output_type": "display_data"
    },
    {
     "data": {
      "text/html": [
       "<img src=\"http://dhlabsrv17.epfl.ch/iiif_impresso_new/BDC-1839-02-25-a-p0004/76,795,102,19/full/0/default.jpg\"/>"
      ],
      "text/plain": [
       "<IPython.core.display.Image object>"
      ]
     },
     "metadata": {},
     "output_type": "display_data"
    },
    {
     "name": "stdout",
     "output_type": "stream",
     "text": [
      "http://dhlabsrv17.epfl.ch/iiif_impresso_new/BDC-1839-02-25-a-p0004/76,795,102,19/full/0/default.jpg\n",
      "-----------------\n",
      "\n",
      "avant \t\t\t\t\t// (BDC-1839-02-25-a-p0004) ([338, 674, 46, 19])\n"
     ]
    },
    {
     "data": {
      "text/html": [
       "<img src=\"http://dhlabsrv17.epfl.ch/iiif_impresso/BDC-1839-02-25-a-p0004/338,674,46,19/full/0/default.jpg\"/>"
      ],
      "text/plain": [
       "<IPython.core.display.Image object>"
      ]
     },
     "metadata": {},
     "output_type": "display_data"
    },
    {
     "data": {
      "text/html": [
       "<img src=\"http://dhlabsrv17.epfl.ch/iiif_impresso_new/BDC-1839-02-25-a-p0004/338,674,46,19/full/0/default.jpg\"/>"
      ],
      "text/plain": [
       "<IPython.core.display.Image object>"
      ]
     },
     "metadata": {},
     "output_type": "display_data"
    },
    {
     "name": "stdout",
     "output_type": "stream",
     "text": [
      "http://dhlabsrv17.epfl.ch/iiif_impresso_new/BDC-1839-02-25-a-p0004/338,674,46,19/full/0/default.jpg\n",
      "-----------------\n",
      "\n",
      "NOUVELLES \t\t\t\t\t// (BDC-1839-01-21-a-p0001) ([128, 1181, 149, 19])\n"
     ]
    },
    {
     "data": {
      "text/html": [
       "<img src=\"http://dhlabsrv17.epfl.ch/iiif_impresso/BDC-1839-01-21-a-p0001/128,1181,149,19/full/0/default.jpg\"/>"
      ],
      "text/plain": [
       "<IPython.core.display.Image object>"
      ]
     },
     "metadata": {},
     "output_type": "display_data"
    },
    {
     "data": {
      "text/html": [
       "<img src=\"http://dhlabsrv17.epfl.ch/iiif_impresso_new/BDC-1839-01-21-a-p0001/128,1181,149,19/full/0/default.jpg\"/>"
      ],
      "text/plain": [
       "<IPython.core.display.Image object>"
      ]
     },
     "metadata": {},
     "output_type": "display_data"
    },
    {
     "name": "stdout",
     "output_type": "stream",
     "text": [
      "http://dhlabsrv17.epfl.ch/iiif_impresso_new/BDC-1839-01-21-a-p0001/128,1181,149,19/full/0/default.jpg\n",
      "-----------------\n",
      "\n",
      "acquise \t\t\t\t\t// (BDC-1839-01-21-a-p0001) ([772, 689, 70, 20])\n"
     ]
    },
    {
     "data": {
      "text/html": [
       "<img src=\"http://dhlabsrv17.epfl.ch/iiif_impresso/BDC-1839-01-21-a-p0001/772,689,70,20/full/0/default.jpg\"/>"
      ],
      "text/plain": [
       "<IPython.core.display.Image object>"
      ]
     },
     "metadata": {},
     "output_type": "display_data"
    },
    {
     "data": {
      "text/html": [
       "<img src=\"http://dhlabsrv17.epfl.ch/iiif_impresso_new/BDC-1839-01-21-a-p0001/772,689,70,20/full/0/default.jpg\"/>"
      ],
      "text/plain": [
       "<IPython.core.display.Image object>"
      ]
     },
     "metadata": {},
     "output_type": "display_data"
    },
    {
     "name": "stdout",
     "output_type": "stream",
     "text": [
      "http://dhlabsrv17.epfl.ch/iiif_impresso_new/BDC-1839-01-21-a-p0001/772,689,70,20/full/0/default.jpg\n",
      "-----------------\n",
      "\n",
      "du \t\t\t\t\t// (BDC-1839-03-14-a-p0001) ([782, 1210, 22, 21])\n"
     ]
    },
    {
     "data": {
      "text/html": [
       "<img src=\"http://dhlabsrv17.epfl.ch/iiif_impresso/BDC-1839-03-14-a-p0001/782,1210,22,21/full/0/default.jpg\"/>"
      ],
      "text/plain": [
       "<IPython.core.display.Image object>"
      ]
     },
     "metadata": {},
     "output_type": "display_data"
    },
    {
     "data": {
      "text/html": [
       "<img src=\"http://dhlabsrv17.epfl.ch/iiif_impresso_new/BDC-1839-03-14-a-p0001/782,1210,22,21/full/0/default.jpg\"/>"
      ],
      "text/plain": [
       "<IPython.core.display.Image object>"
      ]
     },
     "metadata": {},
     "output_type": "display_data"
    },
    {
     "name": "stdout",
     "output_type": "stream",
     "text": [
      "http://dhlabsrv17.epfl.ch/iiif_impresso_new/BDC-1839-03-14-a-p0001/782,1210,22,21/full/0/default.jpg\n",
      "-----------------\n",
      "\n",
      "cette \t\t\t\t\t// (BDC-1839-03-14-a-p0001) ([217, 960, 45, 21])\n"
     ]
    },
    {
     "data": {
      "text/html": [
       "<img src=\"http://dhlabsrv17.epfl.ch/iiif_impresso/BDC-1839-03-14-a-p0001/217,960,45,21/full/0/default.jpg\"/>"
      ],
      "text/plain": [
       "<IPython.core.display.Image object>"
      ]
     },
     "metadata": {},
     "output_type": "display_data"
    },
    {
     "data": {
      "text/html": [
       "<img src=\"http://dhlabsrv17.epfl.ch/iiif_impresso_new/BDC-1839-03-14-a-p0001/217,960,45,21/full/0/default.jpg\"/>"
      ],
      "text/plain": [
       "<IPython.core.display.Image object>"
      ]
     },
     "metadata": {},
     "output_type": "display_data"
    },
    {
     "name": "stdout",
     "output_type": "stream",
     "text": [
      "http://dhlabsrv17.epfl.ch/iiif_impresso_new/BDC-1839-03-14-a-p0001/217,960,45,21/full/0/default.jpg\n",
      "-----------------\n",
      "\n",
      "Mr \t\t\t\t\t// (BDC-1839-02-28-a-p0002) ([522, 897, 25, 17])\n"
     ]
    },
    {
     "data": {
      "text/html": [
       "<img src=\"http://dhlabsrv17.epfl.ch/iiif_impresso/BDC-1839-02-28-a-p0002/522,897,25,17/full/0/default.jpg\"/>"
      ],
      "text/plain": [
       "<IPython.core.display.Image object>"
      ]
     },
     "metadata": {},
     "output_type": "display_data"
    },
    {
     "data": {
      "text/html": [
       "<img src=\"http://dhlabsrv17.epfl.ch/iiif_impresso_new/BDC-1839-02-28-a-p0002/522,897,25,17/full/0/default.jpg\"/>"
      ],
      "text/plain": [
       "<IPython.core.display.Image object>"
      ]
     },
     "metadata": {},
     "output_type": "display_data"
    },
    {
     "name": "stdout",
     "output_type": "stream",
     "text": [
      "http://dhlabsrv17.epfl.ch/iiif_impresso_new/BDC-1839-02-28-a-p0002/522,897,25,17/full/0/default.jpg\n",
      "-----------------\n",
      "\n",
      ", \t\t\t\t\t// (BDC-1839-02-28-a-p0002) ([428, 500, 5, 18])\n"
     ]
    },
    {
     "data": {
      "text/html": [
       "<img src=\"http://dhlabsrv17.epfl.ch/iiif_impresso/BDC-1839-02-28-a-p0002/428,500,5,18/full/0/default.jpg\"/>"
      ],
      "text/plain": [
       "<IPython.core.display.Image object>"
      ]
     },
     "metadata": {},
     "output_type": "display_data"
    },
    {
     "data": {
      "text/html": [
       "<img src=\"http://dhlabsrv17.epfl.ch/iiif_impresso_new/BDC-1839-02-28-a-p0002/428,500,5,18/full/0/default.jpg\"/>"
      ],
      "text/plain": [
       "<IPython.core.display.Image object>"
      ]
     },
     "metadata": {},
     "output_type": "display_data"
    },
    {
     "name": "stdout",
     "output_type": "stream",
     "text": [
      "http://dhlabsrv17.epfl.ch/iiif_impresso_new/BDC-1839-02-28-a-p0002/428,500,5,18/full/0/default.jpg\n",
      "-----------------\n",
      "\n",
      "présenter \t\t\t\t\t// (BDC-1839-01-20-a-p0003) ([119, 1029, 74, 17])\n"
     ]
    },
    {
     "data": {
      "text/html": [
       "<img src=\"http://dhlabsrv17.epfl.ch/iiif_impresso/BDC-1839-01-20-a-p0003/119,1029,74,17/full/0/default.jpg\"/>"
      ],
      "text/plain": [
       "<IPython.core.display.Image object>"
      ]
     },
     "metadata": {},
     "output_type": "display_data"
    },
    {
     "data": {
      "text/html": [
       "<img src=\"http://dhlabsrv17.epfl.ch/iiif_impresso_new/BDC-1839-01-20-a-p0003/119,1029,74,17/full/0/default.jpg\"/>"
      ],
      "text/plain": [
       "<IPython.core.display.Image object>"
      ]
     },
     "metadata": {},
     "output_type": "display_data"
    },
    {
     "name": "stdout",
     "output_type": "stream",
     "text": [
      "http://dhlabsrv17.epfl.ch/iiif_impresso_new/BDC-1839-01-20-a-p0003/119,1029,74,17/full/0/default.jpg\n",
      "-----------------\n",
      "\n",
      "m \t\t\t\t\t// (BDC-1839-01-20-a-p0003) ([685, 245, 20, 23])\n"
     ]
    },
    {
     "data": {
      "text/html": [
       "<img src=\"http://dhlabsrv17.epfl.ch/iiif_impresso/BDC-1839-01-20-a-p0003/685,245,20,23/full/0/default.jpg\"/>"
      ],
      "text/plain": [
       "<IPython.core.display.Image object>"
      ]
     },
     "metadata": {},
     "output_type": "display_data"
    },
    {
     "data": {
      "text/html": [
       "<img src=\"http://dhlabsrv17.epfl.ch/iiif_impresso_new/BDC-1839-01-20-a-p0003/685,245,20,23/full/0/default.jpg\"/>"
      ],
      "text/plain": [
       "<IPython.core.display.Image object>"
      ]
     },
     "metadata": {},
     "output_type": "display_data"
    },
    {
     "name": "stdout",
     "output_type": "stream",
     "text": [
      "http://dhlabsrv17.epfl.ch/iiif_impresso_new/BDC-1839-01-20-a-p0003/685,245,20,23/full/0/default.jpg\n",
      "-----------------\n",
      "\n",
      "Hé \t\t\t\t\t// (BDC-1839-02-25-a-p0003) ([643, 184, 24, 19])\n"
     ]
    },
    {
     "data": {
      "text/html": [
       "<img src=\"http://dhlabsrv17.epfl.ch/iiif_impresso/BDC-1839-02-25-a-p0003/643,184,24,19/full/0/default.jpg\"/>"
      ],
      "text/plain": [
       "<IPython.core.display.Image object>"
      ]
     },
     "metadata": {},
     "output_type": "display_data"
    },
    {
     "data": {
      "text/html": [
       "<img src=\"http://dhlabsrv17.epfl.ch/iiif_impresso_new/BDC-1839-02-25-a-p0003/643,184,24,19/full/0/default.jpg\"/>"
      ],
      "text/plain": [
       "<IPython.core.display.Image object>"
      ]
     },
     "metadata": {},
     "output_type": "display_data"
    },
    {
     "name": "stdout",
     "output_type": "stream",
     "text": [
      "http://dhlabsrv17.epfl.ch/iiif_impresso_new/BDC-1839-02-25-a-p0003/643,184,24,19/full/0/default.jpg\n",
      "-----------------\n",
      "\n",
      "que \t\t\t\t\t// (BDC-1839-02-25-a-p0003) ([726, 966, 29, 19])\n"
     ]
    },
    {
     "data": {
      "text/html": [
       "<img src=\"http://dhlabsrv17.epfl.ch/iiif_impresso/BDC-1839-02-25-a-p0003/726,966,29,19/full/0/default.jpg\"/>"
      ],
      "text/plain": [
       "<IPython.core.display.Image object>"
      ]
     },
     "metadata": {},
     "output_type": "display_data"
    },
    {
     "data": {
      "text/html": [
       "<img src=\"http://dhlabsrv17.epfl.ch/iiif_impresso_new/BDC-1839-02-25-a-p0003/726,966,29,19/full/0/default.jpg\"/>"
      ],
      "text/plain": [
       "<IPython.core.display.Image object>"
      ]
     },
     "metadata": {},
     "output_type": "display_data"
    },
    {
     "name": "stdout",
     "output_type": "stream",
     "text": [
      "http://dhlabsrv17.epfl.ch/iiif_impresso_new/BDC-1839-02-25-a-p0003/726,966,29,19/full/0/default.jpg\n",
      "-----------------\n",
      "\n",
      "2 \t\t\t\t\t// (BDC-1839-01-20-a-p0006) ([388, 200, 8, 16])\n"
     ]
    },
    {
     "data": {
      "text/html": [
       "<img src=\"http://dhlabsrv17.epfl.ch/iiif_impresso/BDC-1839-01-20-a-p0006/388,200,8,16/full/0/default.jpg\"/>"
      ],
      "text/plain": [
       "<IPython.core.display.Image object>"
      ]
     },
     "metadata": {},
     "output_type": "display_data"
    },
    {
     "data": {
      "text/html": [
       "<img src=\"http://dhlabsrv17.epfl.ch/iiif_impresso_new/BDC-1839-01-20-a-p0006/388,200,8,16/full/0/default.jpg\"/>"
      ],
      "text/plain": [
       "<IPython.core.display.Image object>"
      ]
     },
     "metadata": {},
     "output_type": "display_data"
    },
    {
     "name": "stdout",
     "output_type": "stream",
     "text": [
      "http://dhlabsrv17.epfl.ch/iiif_impresso_new/BDC-1839-01-20-a-p0006/388,200,8,16/full/0/default.jpg\n",
      "-----------------\n",
      "\n",
      "communal \t\t\t\t\t// (BDC-1839-01-20-a-p0006) ([328, 1014, 82, 19])\n"
     ]
    },
    {
     "data": {
      "text/html": [
       "<img src=\"http://dhlabsrv17.epfl.ch/iiif_impresso/BDC-1839-01-20-a-p0006/328,1014,82,19/full/0/default.jpg\"/>"
      ],
      "text/plain": [
       "<IPython.core.display.Image object>"
      ]
     },
     "metadata": {},
     "output_type": "display_data"
    },
    {
     "data": {
      "text/html": [
       "<img src=\"http://dhlabsrv17.epfl.ch/iiif_impresso_new/BDC-1839-01-20-a-p0006/328,1014,82,19/full/0/default.jpg\"/>"
      ],
      "text/plain": [
       "<IPython.core.display.Image object>"
      ]
     },
     "metadata": {},
     "output_type": "display_data"
    },
    {
     "name": "stdout",
     "output_type": "stream",
     "text": [
      "http://dhlabsrv17.epfl.ch/iiif_impresso_new/BDC-1839-01-20-a-p0006/328,1014,82,19/full/0/default.jpg\n",
      "-----------------\n",
      "\n",
      "blessent \t\t\t\t\t// (BDC-1839-03-14-a-p0003) ([777, 286, 78, 21])\n"
     ]
    },
    {
     "data": {
      "text/html": [
       "<img src=\"http://dhlabsrv17.epfl.ch/iiif_impresso/BDC-1839-03-14-a-p0003/777,286,78,21/full/0/default.jpg\"/>"
      ],
      "text/plain": [
       "<IPython.core.display.Image object>"
      ]
     },
     "metadata": {},
     "output_type": "display_data"
    },
    {
     "data": {
      "text/html": [
       "<img src=\"http://dhlabsrv17.epfl.ch/iiif_impresso_new/BDC-1839-03-14-a-p0003/777,286,78,21/full/0/default.jpg\"/>"
      ],
      "text/plain": [
       "<IPython.core.display.Image object>"
      ]
     },
     "metadata": {},
     "output_type": "display_data"
    },
    {
     "name": "stdout",
     "output_type": "stream",
     "text": [
      "http://dhlabsrv17.epfl.ch/iiif_impresso_new/BDC-1839-03-14-a-p0003/777,286,78,21/full/0/default.jpg\n",
      "-----------------\n",
      "\n",
      "voix \t\t\t\t\t// (BDC-1839-03-14-a-p0003) ([287, 1044, 40, 21])\n"
     ]
    },
    {
     "data": {
      "text/html": [
       "<img src=\"http://dhlabsrv17.epfl.ch/iiif_impresso/BDC-1839-03-14-a-p0003/287,1044,40,21/full/0/default.jpg\"/>"
      ],
      "text/plain": [
       "<IPython.core.display.Image object>"
      ]
     },
     "metadata": {},
     "output_type": "display_data"
    },
    {
     "data": {
      "text/html": [
       "<img src=\"http://dhlabsrv17.epfl.ch/iiif_impresso_new/BDC-1839-03-14-a-p0003/287,1044,40,21/full/0/default.jpg\"/>"
      ],
      "text/plain": [
       "<IPython.core.display.Image object>"
      ]
     },
     "metadata": {},
     "output_type": "display_data"
    },
    {
     "name": "stdout",
     "output_type": "stream",
     "text": [
      "http://dhlabsrv17.epfl.ch/iiif_impresso_new/BDC-1839-03-14-a-p0003/287,1044,40,21/full/0/default.jpg\n",
      "-----------------\n",
      "\n",
      "11 \t\t\t\t\t// (BDC-1839-02-28-a-p0003) ([646, 271, 16, 17])\n"
     ]
    },
    {
     "data": {
      "text/html": [
       "<img src=\"http://dhlabsrv17.epfl.ch/iiif_impresso/BDC-1839-02-28-a-p0003/646,271,16,17/full/0/default.jpg\"/>"
      ],
      "text/plain": [
       "<IPython.core.display.Image object>"
      ]
     },
     "metadata": {},
     "output_type": "display_data"
    },
    {
     "data": {
      "text/html": [
       "<img src=\"http://dhlabsrv17.epfl.ch/iiif_impresso_new/BDC-1839-02-28-a-p0003/646,271,16,17/full/0/default.jpg\"/>"
      ],
      "text/plain": [
       "<IPython.core.display.Image object>"
      ]
     },
     "metadata": {},
     "output_type": "display_data"
    },
    {
     "name": "stdout",
     "output_type": "stream",
     "text": [
      "http://dhlabsrv17.epfl.ch/iiif_impresso_new/BDC-1839-02-28-a-p0003/646,271,16,17/full/0/default.jpg\n",
      "-----------------\n",
      "\n",
      "qui \t\t\t\t\t// (BDC-1839-02-28-a-p0003) ([880, 994, 26, 17])\n"
     ]
    },
    {
     "data": {
      "text/html": [
       "<img src=\"http://dhlabsrv17.epfl.ch/iiif_impresso/BDC-1839-02-28-a-p0003/880,994,26,17/full/0/default.jpg\"/>"
      ],
      "text/plain": [
       "<IPython.core.display.Image object>"
      ]
     },
     "metadata": {},
     "output_type": "display_data"
    },
    {
     "data": {
      "text/html": [
       "<img src=\"http://dhlabsrv17.epfl.ch/iiif_impresso_new/BDC-1839-02-28-a-p0003/880,994,26,17/full/0/default.jpg\"/>"
      ],
      "text/plain": [
       "<IPython.core.display.Image object>"
      ]
     },
     "metadata": {},
     "output_type": "display_data"
    },
    {
     "name": "stdout",
     "output_type": "stream",
     "text": [
      "http://dhlabsrv17.epfl.ch/iiif_impresso_new/BDC-1839-02-28-a-p0003/880,994,26,17/full/0/default.jpg\n",
      "-----------------\n",
      "\n",
      "les \t\t\t\t\t// (BDC-1839-01-21-a-p0002) ([429, 1024, 20, 18])\n"
     ]
    },
    {
     "data": {
      "text/html": [
       "<img src=\"http://dhlabsrv17.epfl.ch/iiif_impresso/BDC-1839-01-21-a-p0002/429,1024,20,18/full/0/default.jpg\"/>"
      ],
      "text/plain": [
       "<IPython.core.display.Image object>"
      ]
     },
     "metadata": {},
     "output_type": "display_data"
    },
    {
     "data": {
      "text/html": [
       "<img src=\"http://dhlabsrv17.epfl.ch/iiif_impresso_new/BDC-1839-01-21-a-p0002/429,1024,20,18/full/0/default.jpg\"/>"
      ],
      "text/plain": [
       "<IPython.core.display.Image object>"
      ]
     },
     "metadata": {},
     "output_type": "display_data"
    },
    {
     "name": "stdout",
     "output_type": "stream",
     "text": [
      "http://dhlabsrv17.epfl.ch/iiif_impresso_new/BDC-1839-01-21-a-p0002/429,1024,20,18/full/0/default.jpg\n",
      "-----------------\n",
      "\n",
      ". \t\t\t\t\t// (BDC-1839-01-21-a-p0002) ([542, 285, 4, 17])\n"
     ]
    },
    {
     "data": {
      "text/html": [
       "<img src=\"http://dhlabsrv17.epfl.ch/iiif_impresso/BDC-1839-01-21-a-p0002/542,285,4,17/full/0/default.jpg\"/>"
      ],
      "text/plain": [
       "<IPython.core.display.Image object>"
      ]
     },
     "metadata": {},
     "output_type": "display_data"
    },
    {
     "data": {
      "text/html": [
       "<img src=\"http://dhlabsrv17.epfl.ch/iiif_impresso_new/BDC-1839-01-21-a-p0002/542,285,4,17/full/0/default.jpg\"/>"
      ],
      "text/plain": [
       "<IPython.core.display.Image object>"
      ]
     },
     "metadata": {},
     "output_type": "display_data"
    },
    {
     "name": "stdout",
     "output_type": "stream",
     "text": [
      "http://dhlabsrv17.epfl.ch/iiif_impresso_new/BDC-1839-01-21-a-p0002/542,285,4,17/full/0/default.jpg\n",
      "-----------------\n",
      "\n",
      "voulu \t\t\t\t\t// (BDC-1839-01-21-a-p0003) ([582, 279, 46, 17])\n"
     ]
    },
    {
     "data": {
      "text/html": [
       "<img src=\"http://dhlabsrv17.epfl.ch/iiif_impresso/BDC-1839-01-21-a-p0003/582,279,46,17/full/0/default.jpg\"/>"
      ],
      "text/plain": [
       "<IPython.core.display.Image object>"
      ]
     },
     "metadata": {},
     "output_type": "display_data"
    },
    {
     "data": {
      "text/html": [
       "<img src=\"http://dhlabsrv17.epfl.ch/iiif_impresso_new/BDC-1839-01-21-a-p0003/582,279,46,17/full/0/default.jpg\"/>"
      ],
      "text/plain": [
       "<IPython.core.display.Image object>"
      ]
     },
     "metadata": {},
     "output_type": "display_data"
    },
    {
     "name": "stdout",
     "output_type": "stream",
     "text": [
      "http://dhlabsrv17.epfl.ch/iiif_impresso_new/BDC-1839-01-21-a-p0003/582,279,46,17/full/0/default.jpg\n",
      "-----------------\n",
      "\n",
      ", \t\t\t\t\t// (BDC-1839-01-21-a-p0003) ([719, 1022, 5, 17])\n"
     ]
    },
    {
     "data": {
      "text/html": [
       "<img src=\"http://dhlabsrv17.epfl.ch/iiif_impresso/BDC-1839-01-21-a-p0003/719,1022,5,17/full/0/default.jpg\"/>"
      ],
      "text/plain": [
       "<IPython.core.display.Image object>"
      ]
     },
     "metadata": {},
     "output_type": "display_data"
    },
    {
     "data": {
      "text/html": [
       "<img src=\"http://dhlabsrv17.epfl.ch/iiif_impresso_new/BDC-1839-01-21-a-p0003/719,1022,5,17/full/0/default.jpg\"/>"
      ],
      "text/plain": [
       "<IPython.core.display.Image object>"
      ]
     },
     "metadata": {},
     "output_type": "display_data"
    },
    {
     "name": "stdout",
     "output_type": "stream",
     "text": [
      "http://dhlabsrv17.epfl.ch/iiif_impresso_new/BDC-1839-01-21-a-p0003/719,1022,5,17/full/0/default.jpg\n",
      "-----------------\n",
      "\n",
      "nant \t\t\t\t\t// (BDC-1839-02-23-a-p0001) ([38, 1133, 41, 22])\n"
     ]
    },
    {
     "data": {
      "text/html": [
       "<img src=\"http://dhlabsrv17.epfl.ch/iiif_impresso/BDC-1839-02-23-a-p0001/38,1133,41,22/full/0/default.jpg\"/>"
      ],
      "text/plain": [
       "<IPython.core.display.Image object>"
      ]
     },
     "metadata": {},
     "output_type": "display_data"
    },
    {
     "data": {
      "text/html": [
       "<img src=\"http://dhlabsrv17.epfl.ch/iiif_impresso_new/BDC-1839-02-23-a-p0001/38,1133,41,22/full/0/default.jpg\"/>"
      ],
      "text/plain": [
       "<IPython.core.display.Image object>"
      ]
     },
     "metadata": {},
     "output_type": "display_data"
    },
    {
     "name": "stdout",
     "output_type": "stream",
     "text": [
      "http://dhlabsrv17.epfl.ch/iiif_impresso_new/BDC-1839-02-23-a-p0001/38,1133,41,22/full/0/default.jpg\n",
      "-----------------\n",
      "\n",
      "AUX \t\t\t\t\t// (BDC-1839-02-23-a-p0001) ([195, 587, 51, 24])\n"
     ]
    },
    {
     "data": {
      "text/html": [
       "<img src=\"http://dhlabsrv17.epfl.ch/iiif_impresso/BDC-1839-02-23-a-p0001/195,587,51,24/full/0/default.jpg\"/>"
      ],
      "text/plain": [
       "<IPython.core.display.Image object>"
      ]
     },
     "metadata": {},
     "output_type": "display_data"
    },
    {
     "data": {
      "text/html": [
       "<img src=\"http://dhlabsrv17.epfl.ch/iiif_impresso_new/BDC-1839-02-23-a-p0001/195,587,51,24/full/0/default.jpg\"/>"
      ],
      "text/plain": [
       "<IPython.core.display.Image object>"
      ]
     },
     "metadata": {},
     "output_type": "display_data"
    },
    {
     "name": "stdout",
     "output_type": "stream",
     "text": [
      "http://dhlabsrv17.epfl.ch/iiif_impresso_new/BDC-1839-02-23-a-p0001/195,587,51,24/full/0/default.jpg\n",
      "-----------------\n",
      "\n",
      "remplir \t\t\t\t\t// (BDC-1839-01-20-a-p0005) ([847, 1179, 63, 19])\n"
     ]
    },
    {
     "data": {
      "text/html": [
       "<img src=\"http://dhlabsrv17.epfl.ch/iiif_impresso/BDC-1839-01-20-a-p0005/847,1179,63,19/full/0/default.jpg\"/>"
      ],
      "text/plain": [
       "<IPython.core.display.Image object>"
      ]
     },
     "metadata": {},
     "output_type": "display_data"
    },
    {
     "data": {
      "text/html": [
       "<img src=\"http://dhlabsrv17.epfl.ch/iiif_impresso_new/BDC-1839-01-20-a-p0005/847,1179,63,19/full/0/default.jpg\"/>"
      ],
      "text/plain": [
       "<IPython.core.display.Image object>"
      ]
     },
     "metadata": {},
     "output_type": "display_data"
    },
    {
     "name": "stdout",
     "output_type": "stream",
     "text": [
      "http://dhlabsrv17.epfl.ch/iiif_impresso_new/BDC-1839-01-20-a-p0005/847,1179,63,19/full/0/default.jpg\n",
      "-----------------\n",
      "\n",
      "Ne \t\t\t\t\t// (BDC-1839-01-20-a-p0005) ([612, 1006, 24, 19])\n"
     ]
    },
    {
     "data": {
      "text/html": [
       "<img src=\"http://dhlabsrv17.epfl.ch/iiif_impresso/BDC-1839-01-20-a-p0005/612,1006,24,19/full/0/default.jpg\"/>"
      ],
      "text/plain": [
       "<IPython.core.display.Image object>"
      ]
     },
     "metadata": {},
     "output_type": "display_data"
    },
    {
     "data": {
      "text/html": [
       "<img src=\"http://dhlabsrv17.epfl.ch/iiif_impresso_new/BDC-1839-01-20-a-p0005/612,1006,24,19/full/0/default.jpg\"/>"
      ],
      "text/plain": [
       "<IPython.core.display.Image object>"
      ]
     },
     "metadata": {},
     "output_type": "display_data"
    },
    {
     "name": "stdout",
     "output_type": "stream",
     "text": [
      "http://dhlabsrv17.epfl.ch/iiif_impresso_new/BDC-1839-01-20-a-p0005/612,1006,24,19/full/0/default.jpg\n",
      "-----------------\n",
      "\n",
      "mal- \t\t\t\t\t// (BDC-1839-03-14-a-p0001) ([865, 1036, 42, 21])\n"
     ]
    },
    {
     "data": {
      "text/html": [
       "<img src=\"http://dhlabsrv17.epfl.ch/iiif_impresso/BDC-1839-03-14-a-p0001/865,1036,42,21/full/0/default.jpg\"/>"
      ],
      "text/plain": [
       "<IPython.core.display.Image object>"
      ]
     },
     "metadata": {},
     "output_type": "display_data"
    },
    {
     "data": {
      "text/html": [
       "<img src=\"http://dhlabsrv17.epfl.ch/iiif_impresso_new/BDC-1839-03-14-a-p0001/865,1036,42,21/full/0/default.jpg\"/>"
      ],
      "text/plain": [
       "<IPython.core.display.Image object>"
      ]
     },
     "metadata": {},
     "output_type": "display_data"
    },
    {
     "name": "stdout",
     "output_type": "stream",
     "text": [
      "http://dhlabsrv17.epfl.ch/iiif_impresso_new/BDC-1839-03-14-a-p0001/865,1036,42,21/full/0/default.jpg\n",
      "-----------------\n",
      "\n",
      "ne \t\t\t\t\t// (BDC-1839-03-14-a-p0001) ([572, 1235, 21, 21])\n"
     ]
    },
    {
     "data": {
      "text/html": [
       "<img src=\"http://dhlabsrv17.epfl.ch/iiif_impresso/BDC-1839-03-14-a-p0001/572,1235,21,21/full/0/default.jpg\"/>"
      ],
      "text/plain": [
       "<IPython.core.display.Image object>"
      ]
     },
     "metadata": {},
     "output_type": "display_data"
    },
    {
     "data": {
      "text/html": [
       "<img src=\"http://dhlabsrv17.epfl.ch/iiif_impresso_new/BDC-1839-03-14-a-p0001/572,1235,21,21/full/0/default.jpg\"/>"
      ],
      "text/plain": [
       "<IPython.core.display.Image object>"
      ]
     },
     "metadata": {},
     "output_type": "display_data"
    },
    {
     "name": "stdout",
     "output_type": "stream",
     "text": [
      "http://dhlabsrv17.epfl.ch/iiif_impresso_new/BDC-1839-03-14-a-p0001/572,1235,21,21/full/0/default.jpg\n",
      "-----------------\n",
      "\n",
      "président \t\t\t\t\t// (BDC-1839-01-21-a-p0003) ([585, 693, 75, 17])\n"
     ]
    },
    {
     "data": {
      "text/html": [
       "<img src=\"http://dhlabsrv17.epfl.ch/iiif_impresso/BDC-1839-01-21-a-p0003/585,693,75,17/full/0/default.jpg\"/>"
      ],
      "text/plain": [
       "<IPython.core.display.Image object>"
      ]
     },
     "metadata": {},
     "output_type": "display_data"
    },
    {
     "data": {
      "text/html": [
       "<img src=\"http://dhlabsrv17.epfl.ch/iiif_impresso_new/BDC-1839-01-21-a-p0003/585,693,75,17/full/0/default.jpg\"/>"
      ],
      "text/plain": [
       "<IPython.core.display.Image object>"
      ]
     },
     "metadata": {},
     "output_type": "display_data"
    },
    {
     "name": "stdout",
     "output_type": "stream",
     "text": [
      "http://dhlabsrv17.epfl.ch/iiif_impresso_new/BDC-1839-01-21-a-p0003/585,693,75,17/full/0/default.jpg\n",
      "-----------------\n",
      "\n",
      "les \t\t\t\t\t// (BDC-1839-01-21-a-p0003) ([246, 1119, 20, 17])\n"
     ]
    },
    {
     "data": {
      "text/html": [
       "<img src=\"http://dhlabsrv17.epfl.ch/iiif_impresso/BDC-1839-01-21-a-p0003/246,1119,20,17/full/0/default.jpg\"/>"
      ],
      "text/plain": [
       "<IPython.core.display.Image object>"
      ]
     },
     "metadata": {},
     "output_type": "display_data"
    },
    {
     "data": {
      "text/html": [
       "<img src=\"http://dhlabsrv17.epfl.ch/iiif_impresso_new/BDC-1839-01-21-a-p0003/246,1119,20,17/full/0/default.jpg\"/>"
      ],
      "text/plain": [
       "<IPython.core.display.Image object>"
      ]
     },
     "metadata": {},
     "output_type": "display_data"
    },
    {
     "name": "stdout",
     "output_type": "stream",
     "text": [
      "http://dhlabsrv17.epfl.ch/iiif_impresso_new/BDC-1839-01-21-a-p0003/246,1119,20,17/full/0/default.jpg\n",
      "-----------------\n",
      "\n",
      "but \t\t\t\t\t// (BDC-1839-03-14-a-p0001) ([682, 642, 30, 20])\n"
     ]
    },
    {
     "data": {
      "text/html": [
       "<img src=\"http://dhlabsrv17.epfl.ch/iiif_impresso/BDC-1839-03-14-a-p0001/682,642,30,20/full/0/default.jpg\"/>"
      ],
      "text/plain": [
       "<IPython.core.display.Image object>"
      ]
     },
     "metadata": {},
     "output_type": "display_data"
    },
    {
     "data": {
      "text/html": [
       "<img src=\"http://dhlabsrv17.epfl.ch/iiif_impresso_new/BDC-1839-03-14-a-p0001/682,642,30,20/full/0/default.jpg\"/>"
      ],
      "text/plain": [
       "<IPython.core.display.Image object>"
      ]
     },
     "metadata": {},
     "output_type": "display_data"
    },
    {
     "name": "stdout",
     "output_type": "stream",
     "text": [
      "http://dhlabsrv17.epfl.ch/iiif_impresso_new/BDC-1839-03-14-a-p0001/682,642,30,20/full/0/default.jpg\n",
      "-----------------\n",
      "\n",
      "naître \t\t\t\t\t// (BDC-1839-03-14-a-p0001) ([31, 1062, 56, 20])\n"
     ]
    },
    {
     "data": {
      "text/html": [
       "<img src=\"http://dhlabsrv17.epfl.ch/iiif_impresso/BDC-1839-03-14-a-p0001/31,1062,56,20/full/0/default.jpg\"/>"
      ],
      "text/plain": [
       "<IPython.core.display.Image object>"
      ]
     },
     "metadata": {},
     "output_type": "display_data"
    },
    {
     "data": {
      "text/html": [
       "<img src=\"http://dhlabsrv17.epfl.ch/iiif_impresso_new/BDC-1839-03-14-a-p0001/31,1062,56,20/full/0/default.jpg\"/>"
      ],
      "text/plain": [
       "<IPython.core.display.Image object>"
      ]
     },
     "metadata": {},
     "output_type": "display_data"
    },
    {
     "name": "stdout",
     "output_type": "stream",
     "text": [
      "http://dhlabsrv17.epfl.ch/iiif_impresso_new/BDC-1839-03-14-a-p0001/31,1062,56,20/full/0/default.jpg\n",
      "-----------------\n",
      "\n",
      "exciter \t\t\t\t\t// (BDC-1839-03-14-a-p0002) ([187, 803, 65, 21])\n"
     ]
    },
    {
     "data": {
      "text/html": [
       "<img src=\"http://dhlabsrv17.epfl.ch/iiif_impresso/BDC-1839-03-14-a-p0002/187,803,65,21/full/0/default.jpg\"/>"
      ],
      "text/plain": [
       "<IPython.core.display.Image object>"
      ]
     },
     "metadata": {},
     "output_type": "display_data"
    },
    {
     "data": {
      "text/html": [
       "<img src=\"http://dhlabsrv17.epfl.ch/iiif_impresso_new/BDC-1839-03-14-a-p0002/187,803,65,21/full/0/default.jpg\"/>"
      ],
      "text/plain": [
       "<IPython.core.display.Image object>"
      ]
     },
     "metadata": {},
     "output_type": "display_data"
    },
    {
     "name": "stdout",
     "output_type": "stream",
     "text": [
      "http://dhlabsrv17.epfl.ch/iiif_impresso_new/BDC-1839-03-14-a-p0002/187,803,65,21/full/0/default.jpg\n",
      "-----------------\n",
      "\n",
      "d'une \t\t\t\t\t// (BDC-1839-03-14-a-p0002) ([434, 181, 49, 21])\n"
     ]
    },
    {
     "data": {
      "text/html": [
       "<img src=\"http://dhlabsrv17.epfl.ch/iiif_impresso/BDC-1839-03-14-a-p0002/434,181,49,21/full/0/default.jpg\"/>"
      ],
      "text/plain": [
       "<IPython.core.display.Image object>"
      ]
     },
     "metadata": {},
     "output_type": "display_data"
    },
    {
     "data": {
      "text/html": [
       "<img src=\"http://dhlabsrv17.epfl.ch/iiif_impresso_new/BDC-1839-03-14-a-p0002/434,181,49,21/full/0/default.jpg\"/>"
      ],
      "text/plain": [
       "<IPython.core.display.Image object>"
      ]
     },
     "metadata": {},
     "output_type": "display_data"
    },
    {
     "name": "stdout",
     "output_type": "stream",
     "text": [
      "http://dhlabsrv17.epfl.ch/iiif_impresso_new/BDC-1839-03-14-a-p0002/434,181,49,21/full/0/default.jpg\n",
      "-----------------\n",
      "\n",
      "MORAND \t\t\t\t\t// (BDC-1839-02-23-a-p0004) ([685, 505, 75, 15])\n"
     ]
    },
    {
     "data": {
      "text/html": [
       "<img src=\"http://dhlabsrv17.epfl.ch/iiif_impresso/BDC-1839-02-23-a-p0004/685,505,75,15/full/0/default.jpg\"/>"
      ],
      "text/plain": [
       "<IPython.core.display.Image object>"
      ]
     },
     "metadata": {},
     "output_type": "display_data"
    },
    {
     "data": {
      "text/html": [
       "<img src=\"http://dhlabsrv17.epfl.ch/iiif_impresso_new/BDC-1839-02-23-a-p0004/685,505,75,15/full/0/default.jpg\"/>"
      ],
      "text/plain": [
       "<IPython.core.display.Image object>"
      ]
     },
     "metadata": {},
     "output_type": "display_data"
    },
    {
     "name": "stdout",
     "output_type": "stream",
     "text": [
      "http://dhlabsrv17.epfl.ch/iiif_impresso_new/BDC-1839-02-23-a-p0004/685,505,75,15/full/0/default.jpg\n",
      "-----------------\n",
      "\n",
      "M \t\t\t\t\t// (BDC-1839-02-23-a-p0004) ([620, 670, 20, 19])\n"
     ]
    },
    {
     "data": {
      "text/html": [
       "<img src=\"http://dhlabsrv17.epfl.ch/iiif_impresso/BDC-1839-02-23-a-p0004/620,670,20,19/full/0/default.jpg\"/>"
      ],
      "text/plain": [
       "<IPython.core.display.Image object>"
      ]
     },
     "metadata": {},
     "output_type": "display_data"
    },
    {
     "data": {
      "text/html": [
       "<img src=\"http://dhlabsrv17.epfl.ch/iiif_impresso_new/BDC-1839-02-23-a-p0004/620,670,20,19/full/0/default.jpg\"/>"
      ],
      "text/plain": [
       "<IPython.core.display.Image object>"
      ]
     },
     "metadata": {},
     "output_type": "display_data"
    },
    {
     "name": "stdout",
     "output_type": "stream",
     "text": [
      "http://dhlabsrv17.epfl.ch/iiif_impresso_new/BDC-1839-02-23-a-p0004/620,670,20,19/full/0/default.jpg\n",
      "-----------------\n",
      "\n",
      "sont \t\t\t\t\t// (BDC-1839-01-21-a-p0001) ([794, 1049, 40, 20])\n"
     ]
    },
    {
     "data": {
      "text/html": [
       "<img src=\"http://dhlabsrv17.epfl.ch/iiif_impresso/BDC-1839-01-21-a-p0001/794,1049,40,20/full/0/default.jpg\"/>"
      ],
      "text/plain": [
       "<IPython.core.display.Image object>"
      ]
     },
     "metadata": {},
     "output_type": "display_data"
    },
    {
     "data": {
      "text/html": [
       "<img src=\"http://dhlabsrv17.epfl.ch/iiif_impresso_new/BDC-1839-01-21-a-p0001/794,1049,40,20/full/0/default.jpg\"/>"
      ],
      "text/plain": [
       "<IPython.core.display.Image object>"
      ]
     },
     "metadata": {},
     "output_type": "display_data"
    },
    {
     "name": "stdout",
     "output_type": "stream",
     "text": [
      "http://dhlabsrv17.epfl.ch/iiif_impresso_new/BDC-1839-01-21-a-p0001/794,1049,40,20/full/0/default.jpg\n",
      "-----------------\n",
      "\n",
      "bulletin \t\t\t\t\t// (BDC-1839-01-21-a-p0001) ([55, 657, 73, 21])\n"
     ]
    },
    {
     "data": {
      "text/html": [
       "<img src=\"http://dhlabsrv17.epfl.ch/iiif_impresso/BDC-1839-01-21-a-p0001/55,657,73,21/full/0/default.jpg\"/>"
      ],
      "text/plain": [
       "<IPython.core.display.Image object>"
      ]
     },
     "metadata": {},
     "output_type": "display_data"
    },
    {
     "data": {
      "text/html": [
       "<img src=\"http://dhlabsrv17.epfl.ch/iiif_impresso_new/BDC-1839-01-21-a-p0001/55,657,73,21/full/0/default.jpg\"/>"
      ],
      "text/plain": [
       "<IPython.core.display.Image object>"
      ]
     },
     "metadata": {},
     "output_type": "display_data"
    },
    {
     "name": "stdout",
     "output_type": "stream",
     "text": [
      "http://dhlabsrv17.epfl.ch/iiif_impresso_new/BDC-1839-01-21-a-p0001/55,657,73,21/full/0/default.jpg\n",
      "-----------------\n",
      "\n",
      "parmi \t\t\t\t\t// (BDC-1839-02-23-a-p0002) ([56, 1016, 57, 21])\n"
     ]
    },
    {
     "data": {
      "text/html": [
       "<img src=\"http://dhlabsrv17.epfl.ch/iiif_impresso/BDC-1839-02-23-a-p0002/56,1016,57,21/full/0/default.jpg\"/>"
      ],
      "text/plain": [
       "<IPython.core.display.Image object>"
      ]
     },
     "metadata": {},
     "output_type": "display_data"
    },
    {
     "data": {
      "text/html": [
       "<img src=\"http://dhlabsrv17.epfl.ch/iiif_impresso_new/BDC-1839-02-23-a-p0002/56,1016,57,21/full/0/default.jpg\"/>"
      ],
      "text/plain": [
       "<IPython.core.display.Image object>"
      ]
     },
     "metadata": {},
     "output_type": "display_data"
    },
    {
     "name": "stdout",
     "output_type": "stream",
     "text": [
      "http://dhlabsrv17.epfl.ch/iiif_impresso_new/BDC-1839-02-23-a-p0002/56,1016,57,21/full/0/default.jpg\n",
      "-----------------\n",
      "\n",
      "l'œuvre \t\t\t\t\t// (BDC-1839-02-23-a-p0002) ([323, 547, 70, 20])\n"
     ]
    },
    {
     "data": {
      "text/html": [
       "<img src=\"http://dhlabsrv17.epfl.ch/iiif_impresso/BDC-1839-02-23-a-p0002/323,547,70,20/full/0/default.jpg\"/>"
      ],
      "text/plain": [
       "<IPython.core.display.Image object>"
      ]
     },
     "metadata": {},
     "output_type": "display_data"
    },
    {
     "data": {
      "text/html": [
       "<img src=\"http://dhlabsrv17.epfl.ch/iiif_impresso_new/BDC-1839-02-23-a-p0002/323,547,70,20/full/0/default.jpg\"/>"
      ],
      "text/plain": [
       "<IPython.core.display.Image object>"
      ]
     },
     "metadata": {},
     "output_type": "display_data"
    },
    {
     "name": "stdout",
     "output_type": "stream",
     "text": [
      "http://dhlabsrv17.epfl.ch/iiif_impresso_new/BDC-1839-02-23-a-p0002/323,547,70,20/full/0/default.jpg\n",
      "-----------------\n",
      "\n",
      "députés \t\t\t\t\t// (BDC-1839-02-28-a-p0003) ([30, 472, 59, 17])\n"
     ]
    },
    {
     "data": {
      "text/html": [
       "<img src=\"http://dhlabsrv17.epfl.ch/iiif_impresso/BDC-1839-02-28-a-p0003/30,472,59,17/full/0/default.jpg\"/>"
      ],
      "text/plain": [
       "<IPython.core.display.Image object>"
      ]
     },
     "metadata": {},
     "output_type": "display_data"
    },
    {
     "data": {
      "text/html": [
       "<img src=\"http://dhlabsrv17.epfl.ch/iiif_impresso_new/BDC-1839-02-28-a-p0003/30,472,59,17/full/0/default.jpg\"/>"
      ],
      "text/plain": [
       "<IPython.core.display.Image object>"
      ]
     },
     "metadata": {},
     "output_type": "display_data"
    },
    {
     "name": "stdout",
     "output_type": "stream",
     "text": [
      "http://dhlabsrv17.epfl.ch/iiif_impresso_new/BDC-1839-02-28-a-p0003/30,472,59,17/full/0/default.jpg\n",
      "-----------------\n",
      "\n",
      "constitution \t\t\t\t\t// (BDC-1839-02-28-a-p0003) ([622, 170, 97, 17])\n"
     ]
    },
    {
     "data": {
      "text/html": [
       "<img src=\"http://dhlabsrv17.epfl.ch/iiif_impresso/BDC-1839-02-28-a-p0003/622,170,97,17/full/0/default.jpg\"/>"
      ],
      "text/plain": [
       "<IPython.core.display.Image object>"
      ]
     },
     "metadata": {},
     "output_type": "display_data"
    },
    {
     "data": {
      "text/html": [
       "<img src=\"http://dhlabsrv17.epfl.ch/iiif_impresso_new/BDC-1839-02-28-a-p0003/622,170,97,17/full/0/default.jpg\"/>"
      ],
      "text/plain": [
       "<IPython.core.display.Image object>"
      ]
     },
     "metadata": {},
     "output_type": "display_data"
    },
    {
     "name": "stdout",
     "output_type": "stream",
     "text": [
      "http://dhlabsrv17.epfl.ch/iiif_impresso_new/BDC-1839-02-28-a-p0003/622,170,97,17/full/0/default.jpg\n",
      "-----------------\n",
      "\n",
      "hante \t\t\t\t\t// (BDC-1839-02-23-a-p0004) ([286, 161, 44, 19])\n"
     ]
    },
    {
     "data": {
      "text/html": [
       "<img src=\"http://dhlabsrv17.epfl.ch/iiif_impresso/BDC-1839-02-23-a-p0004/286,161,44,19/full/0/default.jpg\"/>"
      ],
      "text/plain": [
       "<IPython.core.display.Image object>"
      ]
     },
     "metadata": {},
     "output_type": "display_data"
    },
    {
     "data": {
      "text/html": [
       "<img src=\"http://dhlabsrv17.epfl.ch/iiif_impresso_new/BDC-1839-02-23-a-p0004/286,161,44,19/full/0/default.jpg\"/>"
      ],
      "text/plain": [
       "<IPython.core.display.Image object>"
      ]
     },
     "metadata": {},
     "output_type": "display_data"
    },
    {
     "name": "stdout",
     "output_type": "stream",
     "text": [
      "http://dhlabsrv17.epfl.ch/iiif_impresso_new/BDC-1839-02-23-a-p0004/286,161,44,19/full/0/default.jpg\n",
      "-----------------\n",
      "\n",
      "ce \t\t\t\t\t// (BDC-1839-02-23-a-p0004) ([140, 524, 18, 19])\n"
     ]
    },
    {
     "data": {
      "text/html": [
       "<img src=\"http://dhlabsrv17.epfl.ch/iiif_impresso/BDC-1839-02-23-a-p0004/140,524,18,19/full/0/default.jpg\"/>"
      ],
      "text/plain": [
       "<IPython.core.display.Image object>"
      ]
     },
     "metadata": {},
     "output_type": "display_data"
    },
    {
     "data": {
      "text/html": [
       "<img src=\"http://dhlabsrv17.epfl.ch/iiif_impresso_new/BDC-1839-02-23-a-p0004/140,524,18,19/full/0/default.jpg\"/>"
      ],
      "text/plain": [
       "<IPython.core.display.Image object>"
      ]
     },
     "metadata": {},
     "output_type": "display_data"
    },
    {
     "name": "stdout",
     "output_type": "stream",
     "text": [
      "http://dhlabsrv17.epfl.ch/iiif_impresso_new/BDC-1839-02-23-a-p0004/140,524,18,19/full/0/default.jpg\n",
      "-----------------\n",
      "\n",
      "flire \t\t\t\t\t// (BDC-1839-01-21-a-p0004) ([529, 255, 38, 17])\n"
     ]
    },
    {
     "data": {
      "text/html": [
       "<img src=\"http://dhlabsrv17.epfl.ch/iiif_impresso/BDC-1839-01-21-a-p0004/529,255,38,17/full/0/default.jpg\"/>"
      ],
      "text/plain": [
       "<IPython.core.display.Image object>"
      ]
     },
     "metadata": {},
     "output_type": "display_data"
    },
    {
     "data": {
      "text/html": [
       "<img src=\"http://dhlabsrv17.epfl.ch/iiif_impresso_new/BDC-1839-01-21-a-p0004/529,255,38,17/full/0/default.jpg\"/>"
      ],
      "text/plain": [
       "<IPython.core.display.Image object>"
      ]
     },
     "metadata": {},
     "output_type": "display_data"
    },
    {
     "name": "stdout",
     "output_type": "stream",
     "text": [
      "http://dhlabsrv17.epfl.ch/iiif_impresso_new/BDC-1839-01-21-a-p0004/529,255,38,17/full/0/default.jpg\n",
      "-----------------\n",
      "\n",
      "sa \t\t\t\t\t// (BDC-1839-01-21-a-p0004) ([691, 420, 15, 17])\n"
     ]
    },
    {
     "data": {
      "text/html": [
       "<img src=\"http://dhlabsrv17.epfl.ch/iiif_impresso/BDC-1839-01-21-a-p0004/691,420,15,17/full/0/default.jpg\"/>"
      ],
      "text/plain": [
       "<IPython.core.display.Image object>"
      ]
     },
     "metadata": {},
     "output_type": "display_data"
    },
    {
     "data": {
      "text/html": [
       "<img src=\"http://dhlabsrv17.epfl.ch/iiif_impresso_new/BDC-1839-01-21-a-p0004/691,420,15,17/full/0/default.jpg\"/>"
      ],
      "text/plain": [
       "<IPython.core.display.Image object>"
      ]
     },
     "metadata": {},
     "output_type": "display_data"
    },
    {
     "name": "stdout",
     "output_type": "stream",
     "text": [
      "http://dhlabsrv17.epfl.ch/iiif_impresso_new/BDC-1839-01-21-a-p0004/691,420,15,17/full/0/default.jpg\n",
      "-----------------\n",
      "\n",
      "public \t\t\t\t\t// (BDC-1839-02-25-a-p0001) ([255, 783, 53, 19])\n"
     ]
    },
    {
     "data": {
      "text/html": [
       "<img src=\"http://dhlabsrv17.epfl.ch/iiif_impresso/BDC-1839-02-25-a-p0001/255,783,53,19/full/0/default.jpg\"/>"
      ],
      "text/plain": [
       "<IPython.core.display.Image object>"
      ]
     },
     "metadata": {},
     "output_type": "display_data"
    },
    {
     "data": {
      "text/html": [
       "<img src=\"http://dhlabsrv17.epfl.ch/iiif_impresso_new/BDC-1839-02-25-a-p0001/255,783,53,19/full/0/default.jpg\"/>"
      ],
      "text/plain": [
       "<IPython.core.display.Image object>"
      ]
     },
     "metadata": {},
     "output_type": "display_data"
    },
    {
     "name": "stdout",
     "output_type": "stream",
     "text": [
      "http://dhlabsrv17.epfl.ch/iiif_impresso_new/BDC-1839-02-25-a-p0001/255,783,53,19/full/0/default.jpg\n",
      "-----------------\n",
      "\n",
      "commune \t\t\t\t\t// (BDC-1839-02-25-a-p0001) ([239, 803, 82, 19])\n"
     ]
    },
    {
     "data": {
      "text/html": [
       "<img src=\"http://dhlabsrv17.epfl.ch/iiif_impresso/BDC-1839-02-25-a-p0001/239,803,82,19/full/0/default.jpg\"/>"
      ],
      "text/plain": [
       "<IPython.core.display.Image object>"
      ]
     },
     "metadata": {},
     "output_type": "display_data"
    },
    {
     "data": {
      "text/html": [
       "<img src=\"http://dhlabsrv17.epfl.ch/iiif_impresso_new/BDC-1839-02-25-a-p0001/239,803,82,19/full/0/default.jpg\"/>"
      ],
      "text/plain": [
       "<IPython.core.display.Image object>"
      ]
     },
     "metadata": {},
     "output_type": "display_data"
    },
    {
     "name": "stdout",
     "output_type": "stream",
     "text": [
      "http://dhlabsrv17.epfl.ch/iiif_impresso_new/BDC-1839-02-25-a-p0001/239,803,82,19/full/0/default.jpg\n",
      "-----------------\n",
      "\n",
      "de- \t\t\t\t\t// (BDC-1839-02-28-a-p0004) ([913, 510, 26, 19])\n"
     ]
    },
    {
     "data": {
      "text/html": [
       "<img src=\"http://dhlabsrv17.epfl.ch/iiif_impresso/BDC-1839-02-28-a-p0004/913,510,26,19/full/0/default.jpg\"/>"
      ],
      "text/plain": [
       "<IPython.core.display.Image object>"
      ]
     },
     "metadata": {},
     "output_type": "display_data"
    },
    {
     "data": {
      "text/html": [
       "<img src=\"http://dhlabsrv17.epfl.ch/iiif_impresso_new/BDC-1839-02-28-a-p0004/913,510,26,19/full/0/default.jpg\"/>"
      ],
      "text/plain": [
       "<IPython.core.display.Image object>"
      ]
     },
     "metadata": {},
     "output_type": "display_data"
    },
    {
     "name": "stdout",
     "output_type": "stream",
     "text": [
      "http://dhlabsrv17.epfl.ch/iiif_impresso_new/BDC-1839-02-28-a-p0004/913,510,26,19/full/0/default.jpg\n",
      "-----------------\n",
      "\n",
      "la \t\t\t\t\t// (BDC-1839-02-28-a-p0004) ([151, 118, 14, 19])\n"
     ]
    },
    {
     "data": {
      "text/html": [
       "<img src=\"http://dhlabsrv17.epfl.ch/iiif_impresso/BDC-1839-02-28-a-p0004/151,118,14,19/full/0/default.jpg\"/>"
      ],
      "text/plain": [
       "<IPython.core.display.Image object>"
      ]
     },
     "metadata": {},
     "output_type": "display_data"
    },
    {
     "data": {
      "text/html": [
       "<img src=\"http://dhlabsrv17.epfl.ch/iiif_impresso_new/BDC-1839-02-28-a-p0004/151,118,14,19/full/0/default.jpg\"/>"
      ],
      "text/plain": [
       "<IPython.core.display.Image object>"
      ]
     },
     "metadata": {},
     "output_type": "display_data"
    },
    {
     "name": "stdout",
     "output_type": "stream",
     "text": [
      "http://dhlabsrv17.epfl.ch/iiif_impresso_new/BDC-1839-02-28-a-p0004/151,118,14,19/full/0/default.jpg\n",
      "-----------------\n",
      "\n",
      ". \t\t\t\t\t// (BDC-1839-03-14-a-p0003) ([145, 740, 5, 21])\n"
     ]
    },
    {
     "data": {
      "text/html": [
       "<img src=\"http://dhlabsrv17.epfl.ch/iiif_impresso/BDC-1839-03-14-a-p0003/145,740,5,21/full/0/default.jpg\"/>"
      ],
      "text/plain": [
       "<IPython.core.display.Image object>"
      ]
     },
     "metadata": {},
     "output_type": "display_data"
    },
    {
     "data": {
      "text/html": [
       "<img src=\"http://dhlabsrv17.epfl.ch/iiif_impresso_new/BDC-1839-03-14-a-p0003/145,740,5,21/full/0/default.jpg\"/>"
      ],
      "text/plain": [
       "<IPython.core.display.Image object>"
      ]
     },
     "metadata": {},
     "output_type": "display_data"
    },
    {
     "name": "stdout",
     "output_type": "stream",
     "text": [
      "http://dhlabsrv17.epfl.ch/iiif_impresso_new/BDC-1839-03-14-a-p0003/145,740,5,21/full/0/default.jpg\n",
      "-----------------\n",
      "\n",
      "Les \t\t\t\t\t// (BDC-1839-03-14-a-p0003) ([51, 897, 34, 21])\n"
     ]
    },
    {
     "data": {
      "text/html": [
       "<img src=\"http://dhlabsrv17.epfl.ch/iiif_impresso/BDC-1839-03-14-a-p0003/51,897,34,21/full/0/default.jpg\"/>"
      ],
      "text/plain": [
       "<IPython.core.display.Image object>"
      ]
     },
     "metadata": {},
     "output_type": "display_data"
    },
    {
     "data": {
      "text/html": [
       "<img src=\"http://dhlabsrv17.epfl.ch/iiif_impresso_new/BDC-1839-03-14-a-p0003/51,897,34,21/full/0/default.jpg\"/>"
      ],
      "text/plain": [
       "<IPython.core.display.Image object>"
      ]
     },
     "metadata": {},
     "output_type": "display_data"
    },
    {
     "name": "stdout",
     "output_type": "stream",
     "text": [
      "http://dhlabsrv17.epfl.ch/iiif_impresso_new/BDC-1839-03-14-a-p0003/51,897,34,21/full/0/default.jpg\n",
      "-----------------\n",
      "\n",
      "fut \t\t\t\t\t// (BDC-1839-01-21-a-p0004) ([209, 816, 21, 17])\n"
     ]
    },
    {
     "data": {
      "text/html": [
       "<img src=\"http://dhlabsrv17.epfl.ch/iiif_impresso/BDC-1839-01-21-a-p0004/209,816,21,17/full/0/default.jpg\"/>"
      ],
      "text/plain": [
       "<IPython.core.display.Image object>"
      ]
     },
     "metadata": {},
     "output_type": "display_data"
    },
    {
     "data": {
      "text/html": [
       "<img src=\"http://dhlabsrv17.epfl.ch/iiif_impresso_new/BDC-1839-01-21-a-p0004/209,816,21,17/full/0/default.jpg\"/>"
      ],
      "text/plain": [
       "<IPython.core.display.Image object>"
      ]
     },
     "metadata": {},
     "output_type": "display_data"
    },
    {
     "name": "stdout",
     "output_type": "stream",
     "text": [
      "http://dhlabsrv17.epfl.ch/iiif_impresso_new/BDC-1839-01-21-a-p0004/209,816,21,17/full/0/default.jpg\n",
      "-----------------\n",
      "\n",
      "délégué \t\t\t\t\t// (BDC-1839-01-21-a-p0004) ([300, 1080, 62, 17])\n"
     ]
    },
    {
     "data": {
      "text/html": [
       "<img src=\"http://dhlabsrv17.epfl.ch/iiif_impresso/BDC-1839-01-21-a-p0004/300,1080,62,17/full/0/default.jpg\"/>"
      ],
      "text/plain": [
       "<IPython.core.display.Image object>"
      ]
     },
     "metadata": {},
     "output_type": "display_data"
    },
    {
     "data": {
      "text/html": [
       "<img src=\"http://dhlabsrv17.epfl.ch/iiif_impresso_new/BDC-1839-01-21-a-p0004/300,1080,62,17/full/0/default.jpg\"/>"
      ],
      "text/plain": [
       "<IPython.core.display.Image object>"
      ]
     },
     "metadata": {},
     "output_type": "display_data"
    },
    {
     "name": "stdout",
     "output_type": "stream",
     "text": [
      "http://dhlabsrv17.epfl.ch/iiif_impresso_new/BDC-1839-01-21-a-p0004/300,1080,62,17/full/0/default.jpg\n",
      "-----------------\n",
      "\n",
      "aucun \t\t\t\t\t// (BDC-1839-01-21-a-p0004) ([134, 896, 47, 18])\n"
     ]
    },
    {
     "data": {
      "text/html": [
       "<img src=\"http://dhlabsrv17.epfl.ch/iiif_impresso/BDC-1839-01-21-a-p0004/134,896,47,18/full/0/default.jpg\"/>"
      ],
      "text/plain": [
       "<IPython.core.display.Image object>"
      ]
     },
     "metadata": {},
     "output_type": "display_data"
    },
    {
     "data": {
      "text/html": [
       "<img src=\"http://dhlabsrv17.epfl.ch/iiif_impresso_new/BDC-1839-01-21-a-p0004/134,896,47,18/full/0/default.jpg\"/>"
      ],
      "text/plain": [
       "<IPython.core.display.Image object>"
      ]
     },
     "metadata": {},
     "output_type": "display_data"
    },
    {
     "name": "stdout",
     "output_type": "stream",
     "text": [
      "http://dhlabsrv17.epfl.ch/iiif_impresso_new/BDC-1839-01-21-a-p0004/134,896,47,18/full/0/default.jpg\n",
      "-----------------\n",
      "\n",
      "de \t\t\t\t\t// (BDC-1839-01-21-a-p0004) ([918, 847, 18, 17])\n"
     ]
    },
    {
     "data": {
      "text/html": [
       "<img src=\"http://dhlabsrv17.epfl.ch/iiif_impresso/BDC-1839-01-21-a-p0004/918,847,18,17/full/0/default.jpg\"/>"
      ],
      "text/plain": [
       "<IPython.core.display.Image object>"
      ]
     },
     "metadata": {},
     "output_type": "display_data"
    },
    {
     "data": {
      "text/html": [
       "<img src=\"http://dhlabsrv17.epfl.ch/iiif_impresso_new/BDC-1839-01-21-a-p0004/918,847,18,17/full/0/default.jpg\"/>"
      ],
      "text/plain": [
       "<IPython.core.display.Image object>"
      ]
     },
     "metadata": {},
     "output_type": "display_data"
    },
    {
     "name": "stdout",
     "output_type": "stream",
     "text": [
      "http://dhlabsrv17.epfl.ch/iiif_impresso_new/BDC-1839-01-21-a-p0004/918,847,18,17/full/0/default.jpg\n",
      "-----------------\n",
      "\n",
      "de \t\t\t\t\t// (BDC-1839-02-23-a-p0004) ([268, 484, 19, 19])\n"
     ]
    },
    {
     "data": {
      "text/html": [
       "<img src=\"http://dhlabsrv17.epfl.ch/iiif_impresso/BDC-1839-02-23-a-p0004/268,484,19,19/full/0/default.jpg\"/>"
      ],
      "text/plain": [
       "<IPython.core.display.Image object>"
      ]
     },
     "metadata": {},
     "output_type": "display_data"
    },
    {
     "data": {
      "text/html": [
       "<img src=\"http://dhlabsrv17.epfl.ch/iiif_impresso_new/BDC-1839-02-23-a-p0004/268,484,19,19/full/0/default.jpg\"/>"
      ],
      "text/plain": [
       "<IPython.core.display.Image object>"
      ]
     },
     "metadata": {},
     "output_type": "display_data"
    },
    {
     "name": "stdout",
     "output_type": "stream",
     "text": [
      "http://dhlabsrv17.epfl.ch/iiif_impresso_new/BDC-1839-02-23-a-p0004/268,484,19,19/full/0/default.jpg\n",
      "-----------------\n",
      "\n",
      "vé- \t\t\t\t\t// (BDC-1839-02-23-a-p0004) ([916, 339, 27, 19])\n"
     ]
    },
    {
     "data": {
      "text/html": [
       "<img src=\"http://dhlabsrv17.epfl.ch/iiif_impresso/BDC-1839-02-23-a-p0004/916,339,27,19/full/0/default.jpg\"/>"
      ],
      "text/plain": [
       "<IPython.core.display.Image object>"
      ]
     },
     "metadata": {},
     "output_type": "display_data"
    },
    {
     "data": {
      "text/html": [
       "<img src=\"http://dhlabsrv17.epfl.ch/iiif_impresso_new/BDC-1839-02-23-a-p0004/916,339,27,19/full/0/default.jpg\"/>"
      ],
      "text/plain": [
       "<IPython.core.display.Image object>"
      ]
     },
     "metadata": {},
     "output_type": "display_data"
    },
    {
     "name": "stdout",
     "output_type": "stream",
     "text": [
      "http://dhlabsrv17.epfl.ch/iiif_impresso_new/BDC-1839-02-23-a-p0004/916,339,27,19/full/0/default.jpg\n",
      "-----------------\n",
      "\n",
      "l'unanimité \t\t\t\t\t// (BDC-1839-02-28-a-p0004) ([686, 308, 93, 19])\n"
     ]
    },
    {
     "data": {
      "text/html": [
       "<img src=\"http://dhlabsrv17.epfl.ch/iiif_impresso/BDC-1839-02-28-a-p0004/686,308,93,19/full/0/default.jpg\"/>"
      ],
      "text/plain": [
       "<IPython.core.display.Image object>"
      ]
     },
     "metadata": {},
     "output_type": "display_data"
    },
    {
     "data": {
      "text/html": [
       "<img src=\"http://dhlabsrv17.epfl.ch/iiif_impresso_new/BDC-1839-02-28-a-p0004/686,308,93,19/full/0/default.jpg\"/>"
      ],
      "text/plain": [
       "<IPython.core.display.Image object>"
      ]
     },
     "metadata": {},
     "output_type": "display_data"
    },
    {
     "name": "stdout",
     "output_type": "stream",
     "text": [
      "http://dhlabsrv17.epfl.ch/iiif_impresso_new/BDC-1839-02-28-a-p0004/686,308,93,19/full/0/default.jpg\n",
      "-----------------\n",
      "\n",
      "tion \t\t\t\t\t// (BDC-1839-02-28-a-p0004) ([60, 371, 32, 19])\n"
     ]
    },
    {
     "data": {
      "text/html": [
       "<img src=\"http://dhlabsrv17.epfl.ch/iiif_impresso/BDC-1839-02-28-a-p0004/60,371,32,19/full/0/default.jpg\"/>"
      ],
      "text/plain": [
       "<IPython.core.display.Image object>"
      ]
     },
     "metadata": {},
     "output_type": "display_data"
    },
    {
     "data": {
      "text/html": [
       "<img src=\"http://dhlabsrv17.epfl.ch/iiif_impresso_new/BDC-1839-02-28-a-p0004/60,371,32,19/full/0/default.jpg\"/>"
      ],
      "text/plain": [
       "<IPython.core.display.Image object>"
      ]
     },
     "metadata": {},
     "output_type": "display_data"
    },
    {
     "name": "stdout",
     "output_type": "stream",
     "text": [
      "http://dhlabsrv17.epfl.ch/iiif_impresso_new/BDC-1839-02-28-a-p0004/60,371,32,19/full/0/default.jpg\n",
      "-----------------\n",
      "\n",
      "en \t\t\t\t\t// (BDC-1839-02-28-a-p0003) ([91, 762, 17, 17])\n"
     ]
    },
    {
     "data": {
      "text/html": [
       "<img src=\"http://dhlabsrv17.epfl.ch/iiif_impresso/BDC-1839-02-28-a-p0003/91,762,17,17/full/0/default.jpg\"/>"
      ],
      "text/plain": [
       "<IPython.core.display.Image object>"
      ]
     },
     "metadata": {},
     "output_type": "display_data"
    },
    {
     "data": {
      "text/html": [
       "<img src=\"http://dhlabsrv17.epfl.ch/iiif_impresso_new/BDC-1839-02-28-a-p0003/91,762,17,17/full/0/default.jpg\"/>"
      ],
      "text/plain": [
       "<IPython.core.display.Image object>"
      ]
     },
     "metadata": {},
     "output_type": "display_data"
    },
    {
     "name": "stdout",
     "output_type": "stream",
     "text": [
      "http://dhlabsrv17.epfl.ch/iiif_impresso_new/BDC-1839-02-28-a-p0003/91,762,17,17/full/0/default.jpg\n",
      "-----------------\n",
      "\n",
      "ac- \t\t\t\t\t// (BDC-1839-02-28-a-p0003) ([434, 256, 25, 17])\n"
     ]
    },
    {
     "data": {
      "text/html": [
       "<img src=\"http://dhlabsrv17.epfl.ch/iiif_impresso/BDC-1839-02-28-a-p0003/434,256,25,17/full/0/default.jpg\"/>"
      ],
      "text/plain": [
       "<IPython.core.display.Image object>"
      ]
     },
     "metadata": {},
     "output_type": "display_data"
    },
    {
     "data": {
      "text/html": [
       "<img src=\"http://dhlabsrv17.epfl.ch/iiif_impresso_new/BDC-1839-02-28-a-p0003/434,256,25,17/full/0/default.jpg\"/>"
      ],
      "text/plain": [
       "<IPython.core.display.Image object>"
      ]
     },
     "metadata": {},
     "output_type": "display_data"
    },
    {
     "name": "stdout",
     "output_type": "stream",
     "text": [
      "http://dhlabsrv17.epfl.ch/iiif_impresso_new/BDC-1839-02-28-a-p0003/434,256,25,17/full/0/default.jpg\n",
      "-----------------\n",
      "\n",
      "délégués \t\t\t\t\t// (BDC-1839-01-21-a-p0004) ([381, 856, 70, 17])\n"
     ]
    },
    {
     "data": {
      "text/html": [
       "<img src=\"http://dhlabsrv17.epfl.ch/iiif_impresso/BDC-1839-01-21-a-p0004/381,856,70,17/full/0/default.jpg\"/>"
      ],
      "text/plain": [
       "<IPython.core.display.Image object>"
      ]
     },
     "metadata": {},
     "output_type": "display_data"
    },
    {
     "data": {
      "text/html": [
       "<img src=\"http://dhlabsrv17.epfl.ch/iiif_impresso_new/BDC-1839-01-21-a-p0004/381,856,70,17/full/0/default.jpg\"/>"
      ],
      "text/plain": [
       "<IPython.core.display.Image object>"
      ]
     },
     "metadata": {},
     "output_type": "display_data"
    },
    {
     "name": "stdout",
     "output_type": "stream",
     "text": [
      "http://dhlabsrv17.epfl.ch/iiif_impresso_new/BDC-1839-01-21-a-p0004/381,856,70,17/full/0/default.jpg\n",
      "-----------------\n",
      "\n",
      "; \t\t\t\t\t// (BDC-1839-01-21-a-p0004) ([153, 937, 5, 17])\n"
     ]
    },
    {
     "data": {
      "text/html": [
       "<img src=\"http://dhlabsrv17.epfl.ch/iiif_impresso/BDC-1839-01-21-a-p0004/153,937,5,17/full/0/default.jpg\"/>"
      ],
      "text/plain": [
       "<IPython.core.display.Image object>"
      ]
     },
     "metadata": {},
     "output_type": "display_data"
    },
    {
     "data": {
      "text/html": [
       "<img src=\"http://dhlabsrv17.epfl.ch/iiif_impresso_new/BDC-1839-01-21-a-p0004/153,937,5,17/full/0/default.jpg\"/>"
      ],
      "text/plain": [
       "<IPython.core.display.Image object>"
      ]
     },
     "metadata": {},
     "output_type": "display_data"
    },
    {
     "name": "stdout",
     "output_type": "stream",
     "text": [
      "http://dhlabsrv17.epfl.ch/iiif_impresso_new/BDC-1839-01-21-a-p0004/153,937,5,17/full/0/default.jpg\n",
      "-----------------\n",
      "\n",
      "BARMAN \t\t\t\t\t// (BDC-1839-01-20-a-p0002) ([606, 916, 73, 15])\n"
     ]
    },
    {
     "data": {
      "text/html": [
       "<img src=\"http://dhlabsrv17.epfl.ch/iiif_impresso/BDC-1839-01-20-a-p0002/606,916,73,15/full/0/default.jpg\"/>"
      ],
      "text/plain": [
       "<IPython.core.display.Image object>"
      ]
     },
     "metadata": {},
     "output_type": "display_data"
    },
    {
     "data": {
      "text/html": [
       "<img src=\"http://dhlabsrv17.epfl.ch/iiif_impresso_new/BDC-1839-01-20-a-p0002/606,916,73,15/full/0/default.jpg\"/>"
      ],
      "text/plain": [
       "<IPython.core.display.Image object>"
      ]
     },
     "metadata": {},
     "output_type": "display_data"
    },
    {
     "name": "stdout",
     "output_type": "stream",
     "text": [
      "http://dhlabsrv17.epfl.ch/iiif_impresso_new/BDC-1839-01-20-a-p0002/606,916,73,15/full/0/default.jpg\n",
      "-----------------\n",
      "\n",
      "Constitution \t\t\t\t\t// (BDC-1839-01-20-a-p0002) ([557, 597, 104, 19])\n"
     ]
    },
    {
     "data": {
      "text/html": [
       "<img src=\"http://dhlabsrv17.epfl.ch/iiif_impresso/BDC-1839-01-20-a-p0002/557,597,104,19/full/0/default.jpg\"/>"
      ],
      "text/plain": [
       "<IPython.core.display.Image object>"
      ]
     },
     "metadata": {},
     "output_type": "display_data"
    },
    {
     "data": {
      "text/html": [
       "<img src=\"http://dhlabsrv17.epfl.ch/iiif_impresso_new/BDC-1839-01-20-a-p0002/557,597,104,19/full/0/default.jpg\"/>"
      ],
      "text/plain": [
       "<IPython.core.display.Image object>"
      ]
     },
     "metadata": {},
     "output_type": "display_data"
    },
    {
     "name": "stdout",
     "output_type": "stream",
     "text": [
      "http://dhlabsrv17.epfl.ch/iiif_impresso_new/BDC-1839-01-20-a-p0002/557,597,104,19/full/0/default.jpg\n",
      "-----------------\n",
      "\n",
      ", \t\t\t\t\t// (BDC-1839-01-20-a-p0005) ([737, 128, 5, 19])\n"
     ]
    },
    {
     "data": {
      "text/html": [
       "<img src=\"http://dhlabsrv17.epfl.ch/iiif_impresso/BDC-1839-01-20-a-p0005/737,128,5,19/full/0/default.jpg\"/>"
      ],
      "text/plain": [
       "<IPython.core.display.Image object>"
      ]
     },
     "metadata": {},
     "output_type": "display_data"
    },
    {
     "data": {
      "text/html": [
       "<img src=\"http://dhlabsrv17.epfl.ch/iiif_impresso_new/BDC-1839-01-20-a-p0005/737,128,5,19/full/0/default.jpg\"/>"
      ],
      "text/plain": [
       "<IPython.core.display.Image object>"
      ]
     },
     "metadata": {},
     "output_type": "display_data"
    },
    {
     "name": "stdout",
     "output_type": "stream",
     "text": [
      "http://dhlabsrv17.epfl.ch/iiif_impresso_new/BDC-1839-01-20-a-p0005/737,128,5,19/full/0/default.jpg\n",
      "-----------------\n",
      "\n",
      "Juges-de-paix \t\t\t\t\t// (BDC-1839-01-20-a-p0005) ([585, 169, 122, 19])\n"
     ]
    },
    {
     "data": {
      "text/html": [
       "<img src=\"http://dhlabsrv17.epfl.ch/iiif_impresso/BDC-1839-01-20-a-p0005/585,169,122,19/full/0/default.jpg\"/>"
      ],
      "text/plain": [
       "<IPython.core.display.Image object>"
      ]
     },
     "metadata": {},
     "output_type": "display_data"
    },
    {
     "data": {
      "text/html": [
       "<img src=\"http://dhlabsrv17.epfl.ch/iiif_impresso_new/BDC-1839-01-20-a-p0005/585,169,122,19/full/0/default.jpg\"/>"
      ],
      "text/plain": [
       "<IPython.core.display.Image object>"
      ]
     },
     "metadata": {},
     "output_type": "display_data"
    },
    {
     "name": "stdout",
     "output_type": "stream",
     "text": [
      "http://dhlabsrv17.epfl.ch/iiif_impresso_new/BDC-1839-01-20-a-p0005/585,169,122,19/full/0/default.jpg\n",
      "-----------------\n",
      "\n",
      "qu'un \t\t\t\t\t// (BDC-1839-02-23-a-p0004) ([860, 379, 46, 19])\n"
     ]
    },
    {
     "data": {
      "text/html": [
       "<img src=\"http://dhlabsrv17.epfl.ch/iiif_impresso/BDC-1839-02-23-a-p0004/860,379,46,19/full/0/default.jpg\"/>"
      ],
      "text/plain": [
       "<IPython.core.display.Image object>"
      ]
     },
     "metadata": {},
     "output_type": "display_data"
    },
    {
     "data": {
      "text/html": [
       "<img src=\"http://dhlabsrv17.epfl.ch/iiif_impresso_new/BDC-1839-02-23-a-p0004/860,379,46,19/full/0/default.jpg\"/>"
      ],
      "text/plain": [
       "<IPython.core.display.Image object>"
      ]
     },
     "metadata": {},
     "output_type": "display_data"
    },
    {
     "name": "stdout",
     "output_type": "stream",
     "text": [
      "http://dhlabsrv17.epfl.ch/iiif_impresso_new/BDC-1839-02-23-a-p0004/860,379,46,19/full/0/default.jpg\n",
      "-----------------\n",
      "\n",
      "de \t\t\t\t\t// (BDC-1839-02-23-a-p0004) ([843, 650, 19, 19])\n"
     ]
    },
    {
     "data": {
      "text/html": [
       "<img src=\"http://dhlabsrv17.epfl.ch/iiif_impresso/BDC-1839-02-23-a-p0004/843,650,19,19/full/0/default.jpg\"/>"
      ],
      "text/plain": [
       "<IPython.core.display.Image object>"
      ]
     },
     "metadata": {},
     "output_type": "display_data"
    },
    {
     "data": {
      "text/html": [
       "<img src=\"http://dhlabsrv17.epfl.ch/iiif_impresso_new/BDC-1839-02-23-a-p0004/843,650,19,19/full/0/default.jpg\"/>"
      ],
      "text/plain": [
       "<IPython.core.display.Image object>"
      ]
     },
     "metadata": {},
     "output_type": "display_data"
    },
    {
     "name": "stdout",
     "output_type": "stream",
     "text": [
      "http://dhlabsrv17.epfl.ch/iiif_impresso_new/BDC-1839-02-23-a-p0004/843,650,19,19/full/0/default.jpg\n",
      "-----------------\n",
      "\n",
      "seroit \t\t\t\t\t// (BDC-1839-02-28-a-p0004) ([396, 714, 47, 19])\n"
     ]
    },
    {
     "data": {
      "text/html": [
       "<img src=\"http://dhlabsrv17.epfl.ch/iiif_impresso/BDC-1839-02-28-a-p0004/396,714,47,19/full/0/default.jpg\"/>"
      ],
      "text/plain": [
       "<IPython.core.display.Image object>"
      ]
     },
     "metadata": {},
     "output_type": "display_data"
    },
    {
     "data": {
      "text/html": [
       "<img src=\"http://dhlabsrv17.epfl.ch/iiif_impresso_new/BDC-1839-02-28-a-p0004/396,714,47,19/full/0/default.jpg\"/>"
      ],
      "text/plain": [
       "<IPython.core.display.Image object>"
      ]
     },
     "metadata": {},
     "output_type": "display_data"
    },
    {
     "name": "stdout",
     "output_type": "stream",
     "text": [
      "http://dhlabsrv17.epfl.ch/iiif_impresso_new/BDC-1839-02-28-a-p0004/396,714,47,19/full/0/default.jpg\n",
      "-----------------\n",
      "\n",
      "aucune \t\t\t\t\t// (BDC-1839-02-28-a-p0004) ([270, 290, 58, 19])\n"
     ]
    },
    {
     "data": {
      "text/html": [
       "<img src=\"http://dhlabsrv17.epfl.ch/iiif_impresso/BDC-1839-02-28-a-p0004/270,290,58,19/full/0/default.jpg\"/>"
      ],
      "text/plain": [
       "<IPython.core.display.Image object>"
      ]
     },
     "metadata": {},
     "output_type": "display_data"
    },
    {
     "data": {
      "text/html": [
       "<img src=\"http://dhlabsrv17.epfl.ch/iiif_impresso_new/BDC-1839-02-28-a-p0004/270,290,58,19/full/0/default.jpg\"/>"
      ],
      "text/plain": [
       "<IPython.core.display.Image object>"
      ]
     },
     "metadata": {},
     "output_type": "display_data"
    },
    {
     "name": "stdout",
     "output_type": "stream",
     "text": [
      "http://dhlabsrv17.epfl.ch/iiif_impresso_new/BDC-1839-02-28-a-p0004/270,290,58,19/full/0/default.jpg\n",
      "-----------------\n",
      "\n",
      "ALPHONSEMORAND \t\t\t\t\t// (BDC-1839-01-20-a-p0004) ([743, 831, 194, 20])\n"
     ]
    },
    {
     "data": {
      "text/html": [
       "<img src=\"http://dhlabsrv17.epfl.ch/iiif_impresso/BDC-1839-01-20-a-p0004/743,831,194,20/full/0/default.jpg\"/>"
      ],
      "text/plain": [
       "<IPython.core.display.Image object>"
      ]
     },
     "metadata": {},
     "output_type": "display_data"
    },
    {
     "data": {
      "text/html": [
       "<img src=\"http://dhlabsrv17.epfl.ch/iiif_impresso_new/BDC-1839-01-20-a-p0004/743,831,194,20/full/0/default.jpg\"/>"
      ],
      "text/plain": [
       "<IPython.core.display.Image object>"
      ]
     },
     "metadata": {},
     "output_type": "display_data"
    },
    {
     "name": "stdout",
     "output_type": "stream",
     "text": [
      "http://dhlabsrv17.epfl.ch/iiif_impresso_new/BDC-1839-01-20-a-p0004/743,831,194,20/full/0/default.jpg\n",
      "-----------------\n",
      "\n",
      "titres \t\t\t\t\t// (BDC-1839-01-20-a-p0004) ([425, 644, 43, 17])\n"
     ]
    },
    {
     "data": {
      "text/html": [
       "<img src=\"http://dhlabsrv17.epfl.ch/iiif_impresso/BDC-1839-01-20-a-p0004/425,644,43,17/full/0/default.jpg\"/>"
      ],
      "text/plain": [
       "<IPython.core.display.Image object>"
      ]
     },
     "metadata": {},
     "output_type": "display_data"
    },
    {
     "data": {
      "text/html": [
       "<img src=\"http://dhlabsrv17.epfl.ch/iiif_impresso_new/BDC-1839-01-20-a-p0004/425,644,43,17/full/0/default.jpg\"/>"
      ],
      "text/plain": [
       "<IPython.core.display.Image object>"
      ]
     },
     "metadata": {},
     "output_type": "display_data"
    },
    {
     "name": "stdout",
     "output_type": "stream",
     "text": [
      "http://dhlabsrv17.epfl.ch/iiif_impresso_new/BDC-1839-01-20-a-p0004/425,644,43,17/full/0/default.jpg\n",
      "-----------------\n",
      "\n",
      "ouvertures \t\t\t\t\t// (BDC-1839-03-14-a-p0003) ([687, 536, 104, 21])\n"
     ]
    },
    {
     "data": {
      "text/html": [
       "<img src=\"http://dhlabsrv17.epfl.ch/iiif_impresso/BDC-1839-03-14-a-p0003/687,536,104,21/full/0/default.jpg\"/>"
      ],
      "text/plain": [
       "<IPython.core.display.Image object>"
      ]
     },
     "metadata": {},
     "output_type": "display_data"
    },
    {
     "data": {
      "text/html": [
       "<img src=\"http://dhlabsrv17.epfl.ch/iiif_impresso_new/BDC-1839-03-14-a-p0003/687,536,104,21/full/0/default.jpg\"/>"
      ],
      "text/plain": [
       "<IPython.core.display.Image object>"
      ]
     },
     "metadata": {},
     "output_type": "display_data"
    },
    {
     "name": "stdout",
     "output_type": "stream",
     "text": [
      "http://dhlabsrv17.epfl.ch/iiif_impresso_new/BDC-1839-03-14-a-p0003/687,536,104,21/full/0/default.jpg\n",
      "-----------------\n",
      "\n",
      "ils \t\t\t\t\t// (BDC-1839-03-14-a-p0003) ([780, 1023, 18, 19])\n"
     ]
    },
    {
     "data": {
      "text/html": [
       "<img src=\"http://dhlabsrv17.epfl.ch/iiif_impresso/BDC-1839-03-14-a-p0003/780,1023,18,19/full/0/default.jpg\"/>"
      ],
      "text/plain": [
       "<IPython.core.display.Image object>"
      ]
     },
     "metadata": {},
     "output_type": "display_data"
    },
    {
     "data": {
      "text/html": [
       "<img src=\"http://dhlabsrv17.epfl.ch/iiif_impresso_new/BDC-1839-03-14-a-p0003/780,1023,18,19/full/0/default.jpg\"/>"
      ],
      "text/plain": [
       "<IPython.core.display.Image object>"
      ]
     },
     "metadata": {},
     "output_type": "display_data"
    },
    {
     "name": "stdout",
     "output_type": "stream",
     "text": [
      "http://dhlabsrv17.epfl.ch/iiif_impresso_new/BDC-1839-03-14-a-p0003/780,1023,18,19/full/0/default.jpg\n",
      "-----------------\n",
      "\n",
      "é \t\t\t\t\t// (BDC-1839-01-20-a-p0002) ([660, 678, 8, 19])\n"
     ]
    },
    {
     "data": {
      "text/html": [
       "<img src=\"http://dhlabsrv17.epfl.ch/iiif_impresso/BDC-1839-01-20-a-p0002/660,678,8,19/full/0/default.jpg\"/>"
      ],
      "text/plain": [
       "<IPython.core.display.Image object>"
      ]
     },
     "metadata": {},
     "output_type": "display_data"
    },
    {
     "data": {
      "text/html": [
       "<img src=\"http://dhlabsrv17.epfl.ch/iiif_impresso_new/BDC-1839-01-20-a-p0002/660,678,8,19/full/0/default.jpg\"/>"
      ],
      "text/plain": [
       "<IPython.core.display.Image object>"
      ]
     },
     "metadata": {},
     "output_type": "display_data"
    },
    {
     "name": "stdout",
     "output_type": "stream",
     "text": [
      "http://dhlabsrv17.epfl.ch/iiif_impresso_new/BDC-1839-01-20-a-p0002/660,678,8,19/full/0/default.jpg\n",
      "-----------------\n",
      "\n",
      "avoir \t\t\t\t\t// (BDC-1839-01-20-a-p0002) ([385, 373, 44, 19])\n"
     ]
    },
    {
     "data": {
      "text/html": [
       "<img src=\"http://dhlabsrv17.epfl.ch/iiif_impresso/BDC-1839-01-20-a-p0002/385,373,44,19/full/0/default.jpg\"/>"
      ],
      "text/plain": [
       "<IPython.core.display.Image object>"
      ]
     },
     "metadata": {},
     "output_type": "display_data"
    },
    {
     "data": {
      "text/html": [
       "<img src=\"http://dhlabsrv17.epfl.ch/iiif_impresso_new/BDC-1839-01-20-a-p0002/385,373,44,19/full/0/default.jpg\"/>"
      ],
      "text/plain": [
       "<IPython.core.display.Image object>"
      ]
     },
     "metadata": {},
     "output_type": "display_data"
    },
    {
     "name": "stdout",
     "output_type": "stream",
     "text": [
      "http://dhlabsrv17.epfl.ch/iiif_impresso_new/BDC-1839-01-20-a-p0002/385,373,44,19/full/0/default.jpg\n",
      "-----------------\n",
      "\n",
      "Puis \t\t\t\t\t// (BDC-1839-03-14-a-p0004) ([844, 800, 38, 18])\n"
     ]
    },
    {
     "data": {
      "text/html": [
       "<img src=\"http://dhlabsrv17.epfl.ch/iiif_impresso/BDC-1839-03-14-a-p0004/844,800,38,18/full/0/default.jpg\"/>"
      ],
      "text/plain": [
       "<IPython.core.display.Image object>"
      ]
     },
     "metadata": {},
     "output_type": "display_data"
    },
    {
     "data": {
      "text/html": [
       "<img src=\"http://dhlabsrv17.epfl.ch/iiif_impresso_new/BDC-1839-03-14-a-p0004/844,800,38,18/full/0/default.jpg\"/>"
      ],
      "text/plain": [
       "<IPython.core.display.Image object>"
      ]
     },
     "metadata": {},
     "output_type": "display_data"
    },
    {
     "name": "stdout",
     "output_type": "stream",
     "text": [
      "http://dhlabsrv17.epfl.ch/iiif_impresso_new/BDC-1839-03-14-a-p0004/844,800,38,18/full/0/default.jpg\n",
      "-----------------\n",
      "\n",
      "car \t\t\t\t\t// (BDC-1839-03-14-a-p0004) ([640, 518, 25, 17])\n"
     ]
    },
    {
     "data": {
      "text/html": [
       "<img src=\"http://dhlabsrv17.epfl.ch/iiif_impresso/BDC-1839-03-14-a-p0004/640,518,25,17/full/0/default.jpg\"/>"
      ],
      "text/plain": [
       "<IPython.core.display.Image object>"
      ]
     },
     "metadata": {},
     "output_type": "display_data"
    },
    {
     "data": {
      "text/html": [
       "<img src=\"http://dhlabsrv17.epfl.ch/iiif_impresso_new/BDC-1839-03-14-a-p0004/640,518,25,17/full/0/default.jpg\"/>"
      ],
      "text/plain": [
       "<IPython.core.display.Image object>"
      ]
     },
     "metadata": {},
     "output_type": "display_data"
    },
    {
     "name": "stdout",
     "output_type": "stream",
     "text": [
      "http://dhlabsrv17.epfl.ch/iiif_impresso_new/BDC-1839-03-14-a-p0004/640,518,25,17/full/0/default.jpg\n",
      "-----------------\n",
      "\n",
      "dérale \t\t\t\t\t// (BDC-1839-01-20-a-p0005) ([52, 579, 54, 19])\n"
     ]
    },
    {
     "data": {
      "text/html": [
       "<img src=\"http://dhlabsrv17.epfl.ch/iiif_impresso/BDC-1839-01-20-a-p0005/52,579,54,19/full/0/default.jpg\"/>"
      ],
      "text/plain": [
       "<IPython.core.display.Image object>"
      ]
     },
     "metadata": {},
     "output_type": "display_data"
    },
    {
     "data": {
      "text/html": [
       "<img src=\"http://dhlabsrv17.epfl.ch/iiif_impresso_new/BDC-1839-01-20-a-p0005/52,579,54,19/full/0/default.jpg\"/>"
      ],
      "text/plain": [
       "<IPython.core.display.Image object>"
      ]
     },
     "metadata": {},
     "output_type": "display_data"
    },
    {
     "name": "stdout",
     "output_type": "stream",
     "text": [
      "http://dhlabsrv17.epfl.ch/iiif_impresso_new/BDC-1839-01-20-a-p0005/52,579,54,19/full/0/default.jpg\n",
      "-----------------\n",
      "\n",
      "l'administration \t\t\t\t\t// (BDC-1839-01-20-a-p0005) ([102, 941, 131, 19])\n"
     ]
    },
    {
     "data": {
      "text/html": [
       "<img src=\"http://dhlabsrv17.epfl.ch/iiif_impresso/BDC-1839-01-20-a-p0005/102,941,131,19/full/0/default.jpg\"/>"
      ],
      "text/plain": [
       "<IPython.core.display.Image object>"
      ]
     },
     "metadata": {},
     "output_type": "display_data"
    },
    {
     "data": {
      "text/html": [
       "<img src=\"http://dhlabsrv17.epfl.ch/iiif_impresso_new/BDC-1839-01-20-a-p0005/102,941,131,19/full/0/default.jpg\"/>"
      ],
      "text/plain": [
       "<IPython.core.display.Image object>"
      ]
     },
     "metadata": {},
     "output_type": "display_data"
    },
    {
     "name": "stdout",
     "output_type": "stream",
     "text": [
      "http://dhlabsrv17.epfl.ch/iiif_impresso_new/BDC-1839-01-20-a-p0005/102,941,131,19/full/0/default.jpg\n",
      "-----------------\n",
      "\n",
      "commissaires \t\t\t\t\t// (BDC-1839-02-28-a-p0003) ([636, 707, 110, 17])\n"
     ]
    },
    {
     "data": {
      "text/html": [
       "<img src=\"http://dhlabsrv17.epfl.ch/iiif_impresso/BDC-1839-02-28-a-p0003/636,707,110,17/full/0/default.jpg\"/>"
      ],
      "text/plain": [
       "<IPython.core.display.Image object>"
      ]
     },
     "metadata": {},
     "output_type": "display_data"
    },
    {
     "data": {
      "text/html": [
       "<img src=\"http://dhlabsrv17.epfl.ch/iiif_impresso_new/BDC-1839-02-28-a-p0003/636,707,110,17/full/0/default.jpg\"/>"
      ],
      "text/plain": [
       "<IPython.core.display.Image object>"
      ]
     },
     "metadata": {},
     "output_type": "display_data"
    },
    {
     "name": "stdout",
     "output_type": "stream",
     "text": [
      "http://dhlabsrv17.epfl.ch/iiif_impresso_new/BDC-1839-02-28-a-p0003/636,707,110,17/full/0/default.jpg\n",
      "-----------------\n",
      "\n",
      "Valais \t\t\t\t\t// (BDC-1839-02-28-a-p0003) ([742, 735, 55, 17])\n"
     ]
    },
    {
     "data": {
      "text/html": [
       "<img src=\"http://dhlabsrv17.epfl.ch/iiif_impresso/BDC-1839-02-28-a-p0003/742,735,55,17/full/0/default.jpg\"/>"
      ],
      "text/plain": [
       "<IPython.core.display.Image object>"
      ]
     },
     "metadata": {},
     "output_type": "display_data"
    },
    {
     "data": {
      "text/html": [
       "<img src=\"http://dhlabsrv17.epfl.ch/iiif_impresso_new/BDC-1839-02-28-a-p0003/742,735,55,17/full/0/default.jpg\"/>"
      ],
      "text/plain": [
       "<IPython.core.display.Image object>"
      ]
     },
     "metadata": {},
     "output_type": "display_data"
    },
    {
     "name": "stdout",
     "output_type": "stream",
     "text": [
      "http://dhlabsrv17.epfl.ch/iiif_impresso_new/BDC-1839-02-28-a-p0003/742,735,55,17/full/0/default.jpg\n",
      "-----------------\n",
      "\n",
      "que \t\t\t\t\t// (BDC-1839-02-23-a-p0001) ([325, 942, 42, 22])\n"
     ]
    },
    {
     "data": {
      "text/html": [
       "<img src=\"http://dhlabsrv17.epfl.ch/iiif_impresso/BDC-1839-02-23-a-p0001/325,942,42,22/full/0/default.jpg\"/>"
      ],
      "text/plain": [
       "<IPython.core.display.Image object>"
      ]
     },
     "metadata": {},
     "output_type": "display_data"
    },
    {
     "data": {
      "text/html": [
       "<img src=\"http://dhlabsrv17.epfl.ch/iiif_impresso_new/BDC-1839-02-23-a-p0001/325,942,42,22/full/0/default.jpg\"/>"
      ],
      "text/plain": [
       "<IPython.core.display.Image object>"
      ]
     },
     "metadata": {},
     "output_type": "display_data"
    },
    {
     "name": "stdout",
     "output_type": "stream",
     "text": [
      "http://dhlabsrv17.epfl.ch/iiif_impresso_new/BDC-1839-02-23-a-p0001/325,942,42,22/full/0/default.jpg\n",
      "-----------------\n",
      "\n",
      "d'abord \t\t\t\t\t// (BDC-1839-02-23-a-p0001) ([715, 637, 71, 23])\n"
     ]
    },
    {
     "data": {
      "text/html": [
       "<img src=\"http://dhlabsrv17.epfl.ch/iiif_impresso/BDC-1839-02-23-a-p0001/715,637,71,23/full/0/default.jpg\"/>"
      ],
      "text/plain": [
       "<IPython.core.display.Image object>"
      ]
     },
     "metadata": {},
     "output_type": "display_data"
    },
    {
     "data": {
      "text/html": [
       "<img src=\"http://dhlabsrv17.epfl.ch/iiif_impresso_new/BDC-1839-02-23-a-p0001/715,637,71,23/full/0/default.jpg\"/>"
      ],
      "text/plain": [
       "<IPython.core.display.Image object>"
      ]
     },
     "metadata": {},
     "output_type": "display_data"
    },
    {
     "name": "stdout",
     "output_type": "stream",
     "text": [
      "http://dhlabsrv17.epfl.ch/iiif_impresso_new/BDC-1839-02-23-a-p0001/715,637,71,23/full/0/default.jpg\n",
      "-----------------\n",
      "\n",
      "' \t\t\t\t\t// (BDC-1839-01-21-a-p0001) ([908, 659, 4, 21])\n"
     ]
    },
    {
     "data": {
      "text/html": [
       "<img src=\"http://dhlabsrv17.epfl.ch/iiif_impresso/BDC-1839-01-21-a-p0001/908,659,4,21/full/0/default.jpg\"/>"
      ],
      "text/plain": [
       "<IPython.core.display.Image object>"
      ]
     },
     "metadata": {},
     "output_type": "display_data"
    },
    {
     "data": {
      "text/html": [
       "<img src=\"http://dhlabsrv17.epfl.ch/iiif_impresso_new/BDC-1839-01-21-a-p0001/908,659,4,21/full/0/default.jpg\"/>"
      ],
      "text/plain": [
       "<IPython.core.display.Image object>"
      ]
     },
     "metadata": {},
     "output_type": "display_data"
    },
    {
     "name": "stdout",
     "output_type": "stream",
     "text": [
      "http://dhlabsrv17.epfl.ch/iiif_impresso_new/BDC-1839-01-21-a-p0001/908,659,4,21/full/0/default.jpg\n",
      "-----------------\n",
      "\n",
      "AVIS \t\t\t\t\t// (BDC-1839-01-21-a-p0001) ([198, 477, 140, 41])\n"
     ]
    },
    {
     "data": {
      "text/html": [
       "<img src=\"http://dhlabsrv17.epfl.ch/iiif_impresso/BDC-1839-01-21-a-p0001/198,477,140,41/full/0/default.jpg\"/>"
      ],
      "text/plain": [
       "<IPython.core.display.Image object>"
      ]
     },
     "metadata": {},
     "output_type": "display_data"
    },
    {
     "data": {
      "text/html": [
       "<img src=\"http://dhlabsrv17.epfl.ch/iiif_impresso_new/BDC-1839-01-21-a-p0001/198,477,140,41/full/0/default.jpg\"/>"
      ],
      "text/plain": [
       "<IPython.core.display.Image object>"
      ]
     },
     "metadata": {},
     "output_type": "display_data"
    },
    {
     "name": "stdout",
     "output_type": "stream",
     "text": [
      "http://dhlabsrv17.epfl.ch/iiif_impresso_new/BDC-1839-01-21-a-p0001/198,477,140,41/full/0/default.jpg\n",
      "-----------------\n",
      "\n",
      "m \t\t\t\t\t// (BDC-1839-01-20-a-p0003) ([30, 245, 20, 23])\n"
     ]
    },
    {
     "data": {
      "text/html": [
       "<img src=\"http://dhlabsrv17.epfl.ch/iiif_impresso/BDC-1839-01-20-a-p0003/30,245,20,23/full/0/default.jpg\"/>"
      ],
      "text/plain": [
       "<IPython.core.display.Image object>"
      ]
     },
     "metadata": {},
     "output_type": "display_data"
    },
    {
     "data": {
      "text/html": [
       "<img src=\"http://dhlabsrv17.epfl.ch/iiif_impresso_new/BDC-1839-01-20-a-p0003/30,245,20,23/full/0/default.jpg\"/>"
      ],
      "text/plain": [
       "<IPython.core.display.Image object>"
      ]
     },
     "metadata": {},
     "output_type": "display_data"
    },
    {
     "name": "stdout",
     "output_type": "stream",
     "text": [
      "http://dhlabsrv17.epfl.ch/iiif_impresso_new/BDC-1839-01-20-a-p0003/30,245,20,23/full/0/default.jpg\n",
      "-----------------\n",
      "\n",
      "sois \t\t\t\t\t// (BDC-1839-01-20-a-p0003) ([703, 813, 29, 17])\n"
     ]
    },
    {
     "data": {
      "text/html": [
       "<img src=\"http://dhlabsrv17.epfl.ch/iiif_impresso/BDC-1839-01-20-a-p0003/703,813,29,17/full/0/default.jpg\"/>"
      ],
      "text/plain": [
       "<IPython.core.display.Image object>"
      ]
     },
     "metadata": {},
     "output_type": "display_data"
    },
    {
     "data": {
      "text/html": [
       "<img src=\"http://dhlabsrv17.epfl.ch/iiif_impresso_new/BDC-1839-01-20-a-p0003/703,813,29,17/full/0/default.jpg\"/>"
      ],
      "text/plain": [
       "<IPython.core.display.Image object>"
      ]
     },
     "metadata": {},
     "output_type": "display_data"
    },
    {
     "name": "stdout",
     "output_type": "stream",
     "text": [
      "http://dhlabsrv17.epfl.ch/iiif_impresso_new/BDC-1839-01-20-a-p0003/703,813,29,17/full/0/default.jpg\n",
      "-----------------\n",
      "\n",
      "de \t\t\t\t\t// (BDC-1839-01-20-a-p0001) ([262, 681, 22, 22])\n"
     ]
    },
    {
     "data": {
      "text/html": [
       "<img src=\"http://dhlabsrv17.epfl.ch/iiif_impresso/BDC-1839-01-20-a-p0001/262,681,22,22/full/0/default.jpg\"/>"
      ],
      "text/plain": [
       "<IPython.core.display.Image object>"
      ]
     },
     "metadata": {},
     "output_type": "display_data"
    },
    {
     "data": {
      "text/html": [
       "<img src=\"http://dhlabsrv17.epfl.ch/iiif_impresso_new/BDC-1839-01-20-a-p0001/262,681,22,22/full/0/default.jpg\"/>"
      ],
      "text/plain": [
       "<IPython.core.display.Image object>"
      ]
     },
     "metadata": {},
     "output_type": "display_data"
    },
    {
     "name": "stdout",
     "output_type": "stream",
     "text": [
      "http://dhlabsrv17.epfl.ch/iiif_impresso_new/BDC-1839-01-20-a-p0001/262,681,22,22/full/0/default.jpg\n",
      "-----------------\n",
      "\n",
      "a \t\t\t\t\t// (BDC-1839-01-20-a-p0001) ([359, 1094, 10, 23])\n"
     ]
    },
    {
     "data": {
      "text/html": [
       "<img src=\"http://dhlabsrv17.epfl.ch/iiif_impresso/BDC-1839-01-20-a-p0001/359,1094,10,23/full/0/default.jpg\"/>"
      ],
      "text/plain": [
       "<IPython.core.display.Image object>"
      ]
     },
     "metadata": {},
     "output_type": "display_data"
    },
    {
     "data": {
      "text/html": [
       "<img src=\"http://dhlabsrv17.epfl.ch/iiif_impresso_new/BDC-1839-01-20-a-p0001/359,1094,10,23/full/0/default.jpg\"/>"
      ],
      "text/plain": [
       "<IPython.core.display.Image object>"
      ]
     },
     "metadata": {},
     "output_type": "display_data"
    },
    {
     "name": "stdout",
     "output_type": "stream",
     "text": [
      "http://dhlabsrv17.epfl.ch/iiif_impresso_new/BDC-1839-01-20-a-p0001/359,1094,10,23/full/0/default.jpg\n",
      "-----------------\n",
      "\n",
      "de \t\t\t\t\t// (BDC-1839-02-28-a-p0002) ([502, 830, 18, 17])\n"
     ]
    },
    {
     "data": {
      "text/html": [
       "<img src=\"http://dhlabsrv17.epfl.ch/iiif_impresso/BDC-1839-02-28-a-p0002/502,830,18,17/full/0/default.jpg\"/>"
      ],
      "text/plain": [
       "<IPython.core.display.Image object>"
      ]
     },
     "metadata": {},
     "output_type": "display_data"
    },
    {
     "data": {
      "text/html": [
       "<img src=\"http://dhlabsrv17.epfl.ch/iiif_impresso_new/BDC-1839-02-28-a-p0002/502,830,18,17/full/0/default.jpg\"/>"
      ],
      "text/plain": [
       "<IPython.core.display.Image object>"
      ]
     },
     "metadata": {},
     "output_type": "display_data"
    },
    {
     "name": "stdout",
     "output_type": "stream",
     "text": [
      "http://dhlabsrv17.epfl.ch/iiif_impresso_new/BDC-1839-02-28-a-p0002/502,830,18,17/full/0/default.jpg\n",
      "-----------------\n",
      "\n",
      "résultat \t\t\t\t\t// (BDC-1839-02-28-a-p0002) ([363, 500, 64, 18])\n"
     ]
    },
    {
     "data": {
      "text/html": [
       "<img src=\"http://dhlabsrv17.epfl.ch/iiif_impresso/BDC-1839-02-28-a-p0002/363,500,64,18/full/0/default.jpg\"/>"
      ],
      "text/plain": [
       "<IPython.core.display.Image object>"
      ]
     },
     "metadata": {},
     "output_type": "display_data"
    },
    {
     "data": {
      "text/html": [
       "<img src=\"http://dhlabsrv17.epfl.ch/iiif_impresso_new/BDC-1839-02-28-a-p0002/363,500,64,18/full/0/default.jpg\"/>"
      ],
      "text/plain": [
       "<IPython.core.display.Image object>"
      ]
     },
     "metadata": {},
     "output_type": "display_data"
    },
    {
     "name": "stdout",
     "output_type": "stream",
     "text": [
      "http://dhlabsrv17.epfl.ch/iiif_impresso_new/BDC-1839-02-28-a-p0002/363,500,64,18/full/0/default.jpg\n",
      "-----------------\n",
      "\n",
      "posé \t\t\t\t\t// (BDC-1839-01-20-a-p0004) ([446, 380, 34, 17])\n"
     ]
    },
    {
     "data": {
      "text/html": [
       "<img src=\"http://dhlabsrv17.epfl.ch/iiif_impresso/BDC-1839-01-20-a-p0004/446,380,34,17/full/0/default.jpg\"/>"
      ],
      "text/plain": [
       "<IPython.core.display.Image object>"
      ]
     },
     "metadata": {},
     "output_type": "display_data"
    },
    {
     "data": {
      "text/html": [
       "<img src=\"http://dhlabsrv17.epfl.ch/iiif_impresso_new/BDC-1839-01-20-a-p0004/446,380,34,17/full/0/default.jpg\"/>"
      ],
      "text/plain": [
       "<IPython.core.display.Image object>"
      ]
     },
     "metadata": {},
     "output_type": "display_data"
    },
    {
     "name": "stdout",
     "output_type": "stream",
     "text": [
      "http://dhlabsrv17.epfl.ch/iiif_impresso_new/BDC-1839-01-20-a-p0004/446,380,34,17/full/0/default.jpg\n",
      "-----------------\n",
      "\n",
      "ART \t\t\t\t\t// (BDC-1839-01-20-a-p0004) ([577, 1000, 34, 18])\n"
     ]
    },
    {
     "data": {
      "text/html": [
       "<img src=\"http://dhlabsrv17.epfl.ch/iiif_impresso/BDC-1839-01-20-a-p0004/577,1000,34,18/full/0/default.jpg\"/>"
      ],
      "text/plain": [
       "<IPython.core.display.Image object>"
      ]
     },
     "metadata": {},
     "output_type": "display_data"
    },
    {
     "data": {
      "text/html": [
       "<img src=\"http://dhlabsrv17.epfl.ch/iiif_impresso_new/BDC-1839-01-20-a-p0004/577,1000,34,18/full/0/default.jpg\"/>"
      ],
      "text/plain": [
       "<IPython.core.display.Image object>"
      ]
     },
     "metadata": {},
     "output_type": "display_data"
    },
    {
     "name": "stdout",
     "output_type": "stream",
     "text": [
      "http://dhlabsrv17.epfl.ch/iiif_impresso_new/BDC-1839-01-20-a-p0004/577,1000,34,18/full/0/default.jpg\n",
      "-----------------\n",
      "\n",
      "Le \t\t\t\t\t// (BDC-1839-01-20-a-p0005) ([160, 364, 23, 19])\n"
     ]
    },
    {
     "data": {
      "text/html": [
       "<img src=\"http://dhlabsrv17.epfl.ch/iiif_impresso/BDC-1839-01-20-a-p0005/160,364,23,19/full/0/default.jpg\"/>"
      ],
      "text/plain": [
       "<IPython.core.display.Image object>"
      ]
     },
     "metadata": {},
     "output_type": "display_data"
    },
    {
     "data": {
      "text/html": [
       "<img src=\"http://dhlabsrv17.epfl.ch/iiif_impresso_new/BDC-1839-01-20-a-p0005/160,364,23,19/full/0/default.jpg\"/>"
      ],
      "text/plain": [
       "<IPython.core.display.Image object>"
      ]
     },
     "metadata": {},
     "output_type": "display_data"
    },
    {
     "name": "stdout",
     "output_type": "stream",
     "text": [
      "http://dhlabsrv17.epfl.ch/iiif_impresso_new/BDC-1839-01-20-a-p0005/160,364,23,19/full/0/default.jpg\n",
      "-----------------\n",
      "\n",
      "pour \t\t\t\t\t// (BDC-1839-01-20-a-p0005) ([55, 941, 40, 19])\n"
     ]
    },
    {
     "data": {
      "text/html": [
       "<img src=\"http://dhlabsrv17.epfl.ch/iiif_impresso/BDC-1839-01-20-a-p0005/55,941,40,19/full/0/default.jpg\"/>"
      ],
      "text/plain": [
       "<IPython.core.display.Image object>"
      ]
     },
     "metadata": {},
     "output_type": "display_data"
    },
    {
     "data": {
      "text/html": [
       "<img src=\"http://dhlabsrv17.epfl.ch/iiif_impresso_new/BDC-1839-01-20-a-p0005/55,941,40,19/full/0/default.jpg\"/>"
      ],
      "text/plain": [
       "<IPython.core.display.Image object>"
      ]
     },
     "metadata": {},
     "output_type": "display_data"
    },
    {
     "name": "stdout",
     "output_type": "stream",
     "text": [
      "http://dhlabsrv17.epfl.ch/iiif_impresso_new/BDC-1839-01-20-a-p0005/55,941,40,19/full/0/default.jpg\n",
      "-----------------\n",
      "\n",
      "du \t\t\t\t\t// (BDC-1839-01-21-a-p0004) ([675, 968, 19, 17])\n"
     ]
    },
    {
     "data": {
      "text/html": [
       "<img src=\"http://dhlabsrv17.epfl.ch/iiif_impresso/BDC-1839-01-21-a-p0004/675,968,19,17/full/0/default.jpg\"/>"
      ],
      "text/plain": [
       "<IPython.core.display.Image object>"
      ]
     },
     "metadata": {},
     "output_type": "display_data"
    },
    {
     "data": {
      "text/html": [
       "<img src=\"http://dhlabsrv17.epfl.ch/iiif_impresso_new/BDC-1839-01-21-a-p0004/675,968,19,17/full/0/default.jpg\"/>"
      ],
      "text/plain": [
       "<IPython.core.display.Image object>"
      ]
     },
     "metadata": {},
     "output_type": "display_data"
    },
    {
     "name": "stdout",
     "output_type": "stream",
     "text": [
      "http://dhlabsrv17.epfl.ch/iiif_impresso_new/BDC-1839-01-21-a-p0004/675,968,19,17/full/0/default.jpg\n",
      "-----------------\n",
      "\n",
      "à \t\t\t\t\t// (BDC-1839-01-21-a-p0004) ([852, 520, 8, 18])\n"
     ]
    },
    {
     "data": {
      "text/html": [
       "<img src=\"http://dhlabsrv17.epfl.ch/iiif_impresso/BDC-1839-01-21-a-p0004/852,520,8,18/full/0/default.jpg\"/>"
      ],
      "text/plain": [
       "<IPython.core.display.Image object>"
      ]
     },
     "metadata": {},
     "output_type": "display_data"
    },
    {
     "data": {
      "text/html": [
       "<img src=\"http://dhlabsrv17.epfl.ch/iiif_impresso_new/BDC-1839-01-21-a-p0004/852,520,8,18/full/0/default.jpg\"/>"
      ],
      "text/plain": [
       "<IPython.core.display.Image object>"
      ]
     },
     "metadata": {},
     "output_type": "display_data"
    },
    {
     "name": "stdout",
     "output_type": "stream",
     "text": [
      "http://dhlabsrv17.epfl.ch/iiif_impresso_new/BDC-1839-01-21-a-p0004/852,520,8,18/full/0/default.jpg\n",
      "-----------------\n",
      "\n",
      "palliatifs \t\t\t\t\t// (BDC-1839-01-21-a-p0003) ([398, 432, 72, 17])\n"
     ]
    },
    {
     "data": {
      "text/html": [
       "<img src=\"http://dhlabsrv17.epfl.ch/iiif_impresso/BDC-1839-01-21-a-p0003/398,432,72,17/full/0/default.jpg\"/>"
      ],
      "text/plain": [
       "<IPython.core.display.Image object>"
      ]
     },
     "metadata": {},
     "output_type": "display_data"
    },
    {
     "data": {
      "text/html": [
       "<img src=\"http://dhlabsrv17.epfl.ch/iiif_impresso_new/BDC-1839-01-21-a-p0003/398,432,72,17/full/0/default.jpg\"/>"
      ],
      "text/plain": [
       "<IPython.core.display.Image object>"
      ]
     },
     "metadata": {},
     "output_type": "display_data"
    },
    {
     "name": "stdout",
     "output_type": "stream",
     "text": [
      "http://dhlabsrv17.epfl.ch/iiif_impresso_new/BDC-1839-01-21-a-p0003/398,432,72,17/full/0/default.jpg\n",
      "-----------------\n",
      "\n",
      "occidentaux \t\t\t\t\t// (BDC-1839-01-21-a-p0003) ([508, 734, 101, 17])\n"
     ]
    },
    {
     "data": {
      "text/html": [
       "<img src=\"http://dhlabsrv17.epfl.ch/iiif_impresso/BDC-1839-01-21-a-p0003/508,734,101,17/full/0/default.jpg\"/>"
      ],
      "text/plain": [
       "<IPython.core.display.Image object>"
      ]
     },
     "metadata": {},
     "output_type": "display_data"
    },
    {
     "data": {
      "text/html": [
       "<img src=\"http://dhlabsrv17.epfl.ch/iiif_impresso_new/BDC-1839-01-21-a-p0003/508,734,101,17/full/0/default.jpg\"/>"
      ],
      "text/plain": [
       "<IPython.core.display.Image object>"
      ]
     },
     "metadata": {},
     "output_type": "display_data"
    },
    {
     "name": "stdout",
     "output_type": "stream",
     "text": [
      "http://dhlabsrv17.epfl.ch/iiif_impresso_new/BDC-1839-01-21-a-p0003/508,734,101,17/full/0/default.jpg\n",
      "-----------------\n",
      "\n",
      "loger \t\t\t\t\t// (BDC-1839-03-14-a-p0004) ([451, 890, 42, 17])\n"
     ]
    },
    {
     "data": {
      "text/html": [
       "<img src=\"http://dhlabsrv17.epfl.ch/iiif_impresso/BDC-1839-03-14-a-p0004/451,890,42,17/full/0/default.jpg\"/>"
      ],
      "text/plain": [
       "<IPython.core.display.Image object>"
      ]
     },
     "metadata": {},
     "output_type": "display_data"
    },
    {
     "data": {
      "text/html": [
       "<img src=\"http://dhlabsrv17.epfl.ch/iiif_impresso_new/BDC-1839-03-14-a-p0004/451,890,42,17/full/0/default.jpg\"/>"
      ],
      "text/plain": [
       "<IPython.core.display.Image object>"
      ]
     },
     "metadata": {},
     "output_type": "display_data"
    },
    {
     "name": "stdout",
     "output_type": "stream",
     "text": [
      "http://dhlabsrv17.epfl.ch/iiif_impresso_new/BDC-1839-03-14-a-p0004/451,890,42,17/full/0/default.jpg\n",
      "-----------------\n",
      "\n",
      "de \t\t\t\t\t// (BDC-1839-03-14-a-p0004) ([794, 417, 17, 17])\n"
     ]
    },
    {
     "data": {
      "text/html": [
       "<img src=\"http://dhlabsrv17.epfl.ch/iiif_impresso/BDC-1839-03-14-a-p0004/794,417,17,17/full/0/default.jpg\"/>"
      ],
      "text/plain": [
       "<IPython.core.display.Image object>"
      ]
     },
     "metadata": {},
     "output_type": "display_data"
    },
    {
     "data": {
      "text/html": [
       "<img src=\"http://dhlabsrv17.epfl.ch/iiif_impresso_new/BDC-1839-03-14-a-p0004/794,417,17,17/full/0/default.jpg\"/>"
      ],
      "text/plain": [
       "<IPython.core.display.Image object>"
      ]
     },
     "metadata": {},
     "output_type": "display_data"
    },
    {
     "name": "stdout",
     "output_type": "stream",
     "text": [
      "http://dhlabsrv17.epfl.ch/iiif_impresso_new/BDC-1839-03-14-a-p0004/794,417,17,17/full/0/default.jpg\n",
      "-----------------\n",
      "\n",
      "delà \t\t\t\t\t// (BDC-1839-01-21-a-p0004) ([132, 764, 33, 18])\n"
     ]
    },
    {
     "data": {
      "text/html": [
       "<img src=\"http://dhlabsrv17.epfl.ch/iiif_impresso/BDC-1839-01-21-a-p0004/132,764,33,18/full/0/default.jpg\"/>"
      ],
      "text/plain": [
       "<IPython.core.display.Image object>"
      ]
     },
     "metadata": {},
     "output_type": "display_data"
    },
    {
     "data": {
      "text/html": [
       "<img src=\"http://dhlabsrv17.epfl.ch/iiif_impresso_new/BDC-1839-01-21-a-p0004/132,764,33,18/full/0/default.jpg\"/>"
      ],
      "text/plain": [
       "<IPython.core.display.Image object>"
      ]
     },
     "metadata": {},
     "output_type": "display_data"
    },
    {
     "name": "stdout",
     "output_type": "stream",
     "text": [
      "http://dhlabsrv17.epfl.ch/iiif_impresso_new/BDC-1839-01-21-a-p0004/132,764,33,18/full/0/default.jpg\n",
      "-----------------\n",
      "\n",
      "futures \t\t\t\t\t// (BDC-1839-01-21-a-p0004) ([500, 806, 59, 17])\n"
     ]
    },
    {
     "data": {
      "text/html": [
       "<img src=\"http://dhlabsrv17.epfl.ch/iiif_impresso/BDC-1839-01-21-a-p0004/500,806,59,17/full/0/default.jpg\"/>"
      ],
      "text/plain": [
       "<IPython.core.display.Image object>"
      ]
     },
     "metadata": {},
     "output_type": "display_data"
    },
    {
     "data": {
      "text/html": [
       "<img src=\"http://dhlabsrv17.epfl.ch/iiif_impresso_new/BDC-1839-01-21-a-p0004/500,806,59,17/full/0/default.jpg\"/>"
      ],
      "text/plain": [
       "<IPython.core.display.Image object>"
      ]
     },
     "metadata": {},
     "output_type": "display_data"
    },
    {
     "name": "stdout",
     "output_type": "stream",
     "text": [
      "http://dhlabsrv17.epfl.ch/iiif_impresso_new/BDC-1839-01-21-a-p0004/500,806,59,17/full/0/default.jpg\n",
      "-----------------\n",
      "\n",
      "son \t\t\t\t\t// (BDC-1839-01-21-a-p0001) ([503, 1048, 32, 20])\n"
     ]
    },
    {
     "data": {
      "text/html": [
       "<img src=\"http://dhlabsrv17.epfl.ch/iiif_impresso/BDC-1839-01-21-a-p0001/503,1048,32,20/full/0/default.jpg\"/>"
      ],
      "text/plain": [
       "<IPython.core.display.Image object>"
      ]
     },
     "metadata": {},
     "output_type": "display_data"
    },
    {
     "data": {
      "text/html": [
       "<img src=\"http://dhlabsrv17.epfl.ch/iiif_impresso_new/BDC-1839-01-21-a-p0001/503,1048,32,20/full/0/default.jpg\"/>"
      ],
      "text/plain": [
       "<IPython.core.display.Image object>"
      ]
     },
     "metadata": {},
     "output_type": "display_data"
    },
    {
     "name": "stdout",
     "output_type": "stream",
     "text": [
      "http://dhlabsrv17.epfl.ch/iiif_impresso_new/BDC-1839-01-21-a-p0001/503,1048,32,20/full/0/default.jpg\n",
      "-----------------\n",
      "\n",
      "ple \t\t\t\t\t// (BDC-1839-01-21-a-p0001) ([503, 718, 27, 21])\n"
     ]
    },
    {
     "data": {
      "text/html": [
       "<img src=\"http://dhlabsrv17.epfl.ch/iiif_impresso/BDC-1839-01-21-a-p0001/503,718,27,21/full/0/default.jpg\"/>"
      ],
      "text/plain": [
       "<IPython.core.display.Image object>"
      ]
     },
     "metadata": {},
     "output_type": "display_data"
    },
    {
     "data": {
      "text/html": [
       "<img src=\"http://dhlabsrv17.epfl.ch/iiif_impresso_new/BDC-1839-01-21-a-p0001/503,718,27,21/full/0/default.jpg\"/>"
      ],
      "text/plain": [
       "<IPython.core.display.Image object>"
      ]
     },
     "metadata": {},
     "output_type": "display_data"
    },
    {
     "name": "stdout",
     "output_type": "stream",
     "text": [
      "http://dhlabsrv17.epfl.ch/iiif_impresso_new/BDC-1839-01-21-a-p0001/503,718,27,21/full/0/default.jpg\n",
      "-----------------\n",
      "\n",
      "li- \t\t\t\t\t// (BDC-1839-02-28-a-p0003) ([885, 231, 18, 17])\n"
     ]
    },
    {
     "data": {
      "text/html": [
       "<img src=\"http://dhlabsrv17.epfl.ch/iiif_impresso/BDC-1839-02-28-a-p0003/885,231,18,17/full/0/default.jpg\"/>"
      ],
      "text/plain": [
       "<IPython.core.display.Image object>"
      ]
     },
     "metadata": {},
     "output_type": "display_data"
    },
    {
     "data": {
      "text/html": [
       "<img src=\"http://dhlabsrv17.epfl.ch/iiif_impresso_new/BDC-1839-02-28-a-p0003/885,231,18,17/full/0/default.jpg\"/>"
      ],
      "text/plain": [
       "<IPython.core.display.Image object>"
      ]
     },
     "metadata": {},
     "output_type": "display_data"
    },
    {
     "name": "stdout",
     "output_type": "stream",
     "text": [
      "http://dhlabsrv17.epfl.ch/iiif_impresso_new/BDC-1839-02-28-a-p0003/885,231,18,17/full/0/default.jpg\n",
      "-----------------\n",
      "\n",
      "le \t\t\t\t\t// (BDC-1839-02-28-a-p0003) ([381, 209, 13, 18])\n"
     ]
    },
    {
     "data": {
      "text/html": [
       "<img src=\"http://dhlabsrv17.epfl.ch/iiif_impresso/BDC-1839-02-28-a-p0003/381,209,13,18/full/0/default.jpg\"/>"
      ],
      "text/plain": [
       "<IPython.core.display.Image object>"
      ]
     },
     "metadata": {},
     "output_type": "display_data"
    },
    {
     "data": {
      "text/html": [
       "<img src=\"http://dhlabsrv17.epfl.ch/iiif_impresso_new/BDC-1839-02-28-a-p0003/381,209,13,18/full/0/default.jpg\"/>"
      ],
      "text/plain": [
       "<IPython.core.display.Image object>"
      ]
     },
     "metadata": {},
     "output_type": "display_data"
    },
    {
     "name": "stdout",
     "output_type": "stream",
     "text": [
      "http://dhlabsrv17.epfl.ch/iiif_impresso_new/BDC-1839-02-28-a-p0003/381,209,13,18/full/0/default.jpg\n",
      "-----------------\n",
      "\n",
      "droit \t\t\t\t\t// (BDC-1839-03-14-a-p0001) ([150, 1037, 46, 21])\n"
     ]
    },
    {
     "data": {
      "text/html": [
       "<img src=\"http://dhlabsrv17.epfl.ch/iiif_impresso/BDC-1839-03-14-a-p0001/150,1037,46,21/full/0/default.jpg\"/>"
      ],
      "text/plain": [
       "<IPython.core.display.Image object>"
      ]
     },
     "metadata": {},
     "output_type": "display_data"
    },
    {
     "data": {
      "text/html": [
       "<img src=\"http://dhlabsrv17.epfl.ch/iiif_impresso_new/BDC-1839-03-14-a-p0001/150,1037,46,21/full/0/default.jpg\"/>"
      ],
      "text/plain": [
       "<IPython.core.display.Image object>"
      ]
     },
     "metadata": {},
     "output_type": "display_data"
    },
    {
     "name": "stdout",
     "output_type": "stream",
     "text": [
      "http://dhlabsrv17.epfl.ch/iiif_impresso_new/BDC-1839-03-14-a-p0001/150,1037,46,21/full/0/default.jpg\n",
      "-----------------\n",
      "\n",
      "pays \t\t\t\t\t// (BDC-1839-03-14-a-p0001) ([855, 813, 43, 21])\n"
     ]
    },
    {
     "data": {
      "text/html": [
       "<img src=\"http://dhlabsrv17.epfl.ch/iiif_impresso/BDC-1839-03-14-a-p0001/855,813,43,21/full/0/default.jpg\"/>"
      ],
      "text/plain": [
       "<IPython.core.display.Image object>"
      ]
     },
     "metadata": {},
     "output_type": "display_data"
    },
    {
     "data": {
      "text/html": [
       "<img src=\"http://dhlabsrv17.epfl.ch/iiif_impresso_new/BDC-1839-03-14-a-p0001/855,813,43,21/full/0/default.jpg\"/>"
      ],
      "text/plain": [
       "<IPython.core.display.Image object>"
      ]
     },
     "metadata": {},
     "output_type": "display_data"
    },
    {
     "name": "stdout",
     "output_type": "stream",
     "text": [
      "http://dhlabsrv17.epfl.ch/iiif_impresso_new/BDC-1839-03-14-a-p0001/855,813,43,21/full/0/default.jpg\n",
      "-----------------\n",
      "\n",
      "valide \t\t\t\t\t// (BDC-1839-03-14-a-p0003) ([704, 1219, 49, 19])\n"
     ]
    },
    {
     "data": {
      "text/html": [
       "<img src=\"http://dhlabsrv17.epfl.ch/iiif_impresso/BDC-1839-03-14-a-p0003/704,1219,49,19/full/0/default.jpg\"/>"
      ],
      "text/plain": [
       "<IPython.core.display.Image object>"
      ]
     },
     "metadata": {},
     "output_type": "display_data"
    },
    {
     "data": {
      "text/html": [
       "<img src=\"http://dhlabsrv17.epfl.ch/iiif_impresso_new/BDC-1839-03-14-a-p0003/704,1219,49,19/full/0/default.jpg\"/>"
      ],
      "text/plain": [
       "<IPython.core.display.Image object>"
      ]
     },
     "metadata": {},
     "output_type": "display_data"
    },
    {
     "name": "stdout",
     "output_type": "stream",
     "text": [
      "http://dhlabsrv17.epfl.ch/iiif_impresso_new/BDC-1839-03-14-a-p0003/704,1219,49,19/full/0/default.jpg\n",
      "-----------------\n",
      "\n",
      "expresse \t\t\t\t\t// (BDC-1839-03-14-a-p0003) ([627, 610, 83, 21])\n"
     ]
    },
    {
     "data": {
      "text/html": [
       "<img src=\"http://dhlabsrv17.epfl.ch/iiif_impresso/BDC-1839-03-14-a-p0003/627,610,83,21/full/0/default.jpg\"/>"
      ],
      "text/plain": [
       "<IPython.core.display.Image object>"
      ]
     },
     "metadata": {},
     "output_type": "display_data"
    },
    {
     "data": {
      "text/html": [
       "<img src=\"http://dhlabsrv17.epfl.ch/iiif_impresso_new/BDC-1839-03-14-a-p0003/627,610,83,21/full/0/default.jpg\"/>"
      ],
      "text/plain": [
       "<IPython.core.display.Image object>"
      ]
     },
     "metadata": {},
     "output_type": "display_data"
    },
    {
     "name": "stdout",
     "output_type": "stream",
     "text": [
      "http://dhlabsrv17.epfl.ch/iiif_impresso_new/BDC-1839-03-14-a-p0003/627,610,83,21/full/0/default.jpg\n",
      "-----------------\n",
      "\n",
      "trouvent \t\t\t\t\t// (BDC-1839-02-25-a-p0003) ([110, 969, 71, 19])\n"
     ]
    },
    {
     "data": {
      "text/html": [
       "<img src=\"http://dhlabsrv17.epfl.ch/iiif_impresso/BDC-1839-02-25-a-p0003/110,969,71,19/full/0/default.jpg\"/>"
      ],
      "text/plain": [
       "<IPython.core.display.Image object>"
      ]
     },
     "metadata": {},
     "output_type": "display_data"
    },
    {
     "data": {
      "text/html": [
       "<img src=\"http://dhlabsrv17.epfl.ch/iiif_impresso_new/BDC-1839-02-25-a-p0003/110,969,71,19/full/0/default.jpg\"/>"
      ],
      "text/plain": [
       "<IPython.core.display.Image object>"
      ]
     },
     "metadata": {},
     "output_type": "display_data"
    },
    {
     "name": "stdout",
     "output_type": "stream",
     "text": [
      "http://dhlabsrv17.epfl.ch/iiif_impresso_new/BDC-1839-02-25-a-p0003/110,969,71,19/full/0/default.jpg\n",
      "-----------------\n",
      "\n",
      "a \t\t\t\t\t// (BDC-1839-02-25-a-p0003) ([275, 164, 8, 19])\n"
     ]
    },
    {
     "data": {
      "text/html": [
       "<img src=\"http://dhlabsrv17.epfl.ch/iiif_impresso/BDC-1839-02-25-a-p0003/275,164,8,19/full/0/default.jpg\"/>"
      ],
      "text/plain": [
       "<IPython.core.display.Image object>"
      ]
     },
     "metadata": {},
     "output_type": "display_data"
    },
    {
     "data": {
      "text/html": [
       "<img src=\"http://dhlabsrv17.epfl.ch/iiif_impresso_new/BDC-1839-02-25-a-p0003/275,164,8,19/full/0/default.jpg\"/>"
      ],
      "text/plain": [
       "<IPython.core.display.Image object>"
      ]
     },
     "metadata": {},
     "output_type": "display_data"
    },
    {
     "name": "stdout",
     "output_type": "stream",
     "text": [
      "http://dhlabsrv17.epfl.ch/iiif_impresso_new/BDC-1839-02-25-a-p0003/275,164,8,19/full/0/default.jpg\n",
      "-----------------\n",
      "\n",
      "ront \t\t\t\t\t// (BDC-1839-02-23-a-p0004) ([510, 460, 35, 19])\n"
     ]
    },
    {
     "data": {
      "text/html": [
       "<img src=\"http://dhlabsrv17.epfl.ch/iiif_impresso/BDC-1839-02-23-a-p0004/510,460,35,19/full/0/default.jpg\"/>"
      ],
      "text/plain": [
       "<IPython.core.display.Image object>"
      ]
     },
     "metadata": {},
     "output_type": "display_data"
    },
    {
     "data": {
      "text/html": [
       "<img src=\"http://dhlabsrv17.epfl.ch/iiif_impresso_new/BDC-1839-02-23-a-p0004/510,460,35,19/full/0/default.jpg\"/>"
      ],
      "text/plain": [
       "<IPython.core.display.Image object>"
      ]
     },
     "metadata": {},
     "output_type": "display_data"
    },
    {
     "name": "stdout",
     "output_type": "stream",
     "text": [
      "http://dhlabsrv17.epfl.ch/iiif_impresso_new/BDC-1839-02-23-a-p0004/510,460,35,19/full/0/default.jpg\n",
      "-----------------\n",
      "\n",
      "agréable \t\t\t\t\t// (BDC-1839-02-23-a-p0004) ([191, 689, 71, 19])\n"
     ]
    },
    {
     "data": {
      "text/html": [
       "<img src=\"http://dhlabsrv17.epfl.ch/iiif_impresso/BDC-1839-02-23-a-p0004/191,689,71,19/full/0/default.jpg\"/>"
      ],
      "text/plain": [
       "<IPython.core.display.Image object>"
      ]
     },
     "metadata": {},
     "output_type": "display_data"
    },
    {
     "data": {
      "text/html": [
       "<img src=\"http://dhlabsrv17.epfl.ch/iiif_impresso_new/BDC-1839-02-23-a-p0004/191,689,71,19/full/0/default.jpg\"/>"
      ],
      "text/plain": [
       "<IPython.core.display.Image object>"
      ]
     },
     "metadata": {},
     "output_type": "display_data"
    },
    {
     "name": "stdout",
     "output_type": "stream",
     "text": [
      "http://dhlabsrv17.epfl.ch/iiif_impresso_new/BDC-1839-02-23-a-p0004/191,689,71,19/full/0/default.jpg\n",
      "-----------------\n",
      "\n",
      ". \t\t\t\t\t// (BDC-1839-01-20-a-p0006) ([165, 259, 4, 19])\n"
     ]
    },
    {
     "data": {
      "text/html": [
       "<img src=\"http://dhlabsrv17.epfl.ch/iiif_impresso/BDC-1839-01-20-a-p0006/165,259,4,19/full/0/default.jpg\"/>"
      ],
      "text/plain": [
       "<IPython.core.display.Image object>"
      ]
     },
     "metadata": {},
     "output_type": "display_data"
    },
    {
     "data": {
      "text/html": [
       "<img src=\"http://dhlabsrv17.epfl.ch/iiif_impresso_new/BDC-1839-01-20-a-p0006/165,259,4,19/full/0/default.jpg\"/>"
      ],
      "text/plain": [
       "<IPython.core.display.Image object>"
      ]
     },
     "metadata": {},
     "output_type": "display_data"
    },
    {
     "name": "stdout",
     "output_type": "stream",
     "text": [
      "http://dhlabsrv17.epfl.ch/iiif_impresso_new/BDC-1839-01-20-a-p0006/165,259,4,19/full/0/default.jpg\n",
      "-----------------\n",
      "\n",
      "rééligibles \t\t\t\t\t// (BDC-1839-01-20-a-p0006) ([357, 673, 89, 19])\n"
     ]
    },
    {
     "data": {
      "text/html": [
       "<img src=\"http://dhlabsrv17.epfl.ch/iiif_impresso/BDC-1839-01-20-a-p0006/357,673,89,19/full/0/default.jpg\"/>"
      ],
      "text/plain": [
       "<IPython.core.display.Image object>"
      ]
     },
     "metadata": {},
     "output_type": "display_data"
    },
    {
     "data": {
      "text/html": [
       "<img src=\"http://dhlabsrv17.epfl.ch/iiif_impresso_new/BDC-1839-01-20-a-p0006/357,673,89,19/full/0/default.jpg\"/>"
      ],
      "text/plain": [
       "<IPython.core.display.Image object>"
      ]
     },
     "metadata": {},
     "output_type": "display_data"
    },
    {
     "name": "stdout",
     "output_type": "stream",
     "text": [
      "http://dhlabsrv17.epfl.ch/iiif_impresso_new/BDC-1839-01-20-a-p0006/357,673,89,19/full/0/default.jpg\n",
      "-----------------\n",
      "\n",
      "votre \t\t\t\t\t// (BDC-1839-02-23-a-p0001) ([197, 795, 52, 22])\n"
     ]
    },
    {
     "data": {
      "text/html": [
       "<img src=\"http://dhlabsrv17.epfl.ch/iiif_impresso/BDC-1839-02-23-a-p0001/197,795,52,22/full/0/default.jpg\"/>"
      ],
      "text/plain": [
       "<IPython.core.display.Image object>"
      ]
     },
     "metadata": {},
     "output_type": "display_data"
    },
    {
     "data": {
      "text/html": [
       "<img src=\"http://dhlabsrv17.epfl.ch/iiif_impresso_new/BDC-1839-02-23-a-p0001/197,795,52,22/full/0/default.jpg\"/>"
      ],
      "text/plain": [
       "<IPython.core.display.Image object>"
      ]
     },
     "metadata": {},
     "output_type": "display_data"
    },
    {
     "name": "stdout",
     "output_type": "stream",
     "text": [
      "http://dhlabsrv17.epfl.ch/iiif_impresso_new/BDC-1839-02-23-a-p0001/197,795,52,22/full/0/default.jpg\n",
      "-----------------\n",
      "\n",
      "AUTORITÉSET \t\t\t\t\t// (BDC-1839-02-23-a-p0001) ([258, 587, 183, 24])\n"
     ]
    },
    {
     "data": {
      "text/html": [
       "<img src=\"http://dhlabsrv17.epfl.ch/iiif_impresso/BDC-1839-02-23-a-p0001/258,587,183,24/full/0/default.jpg\"/>"
      ],
      "text/plain": [
       "<IPython.core.display.Image object>"
      ]
     },
     "metadata": {},
     "output_type": "display_data"
    },
    {
     "data": {
      "text/html": [
       "<img src=\"http://dhlabsrv17.epfl.ch/iiif_impresso_new/BDC-1839-02-23-a-p0001/258,587,183,24/full/0/default.jpg\"/>"
      ],
      "text/plain": [
       "<IPython.core.display.Image object>"
      ]
     },
     "metadata": {},
     "output_type": "display_data"
    },
    {
     "name": "stdout",
     "output_type": "stream",
     "text": [
      "http://dhlabsrv17.epfl.ch/iiif_impresso_new/BDC-1839-02-23-a-p0001/258,587,183,24/full/0/default.jpg\n",
      "-----------------\n",
      "\n",
      "conditions \t\t\t\t\t// (BDC-1839-03-14-a-p0001) ([474, 862, 99, 21])\n"
     ]
    },
    {
     "data": {
      "text/html": [
       "<img src=\"http://dhlabsrv17.epfl.ch/iiif_impresso/BDC-1839-03-14-a-p0001/474,862,99,21/full/0/default.jpg\"/>"
      ],
      "text/plain": [
       "<IPython.core.display.Image object>"
      ]
     },
     "metadata": {},
     "output_type": "display_data"
    },
    {
     "data": {
      "text/html": [
       "<img src=\"http://dhlabsrv17.epfl.ch/iiif_impresso_new/BDC-1839-03-14-a-p0001/474,862,99,21/full/0/default.jpg\"/>"
      ],
      "text/plain": [
       "<IPython.core.display.Image object>"
      ]
     },
     "metadata": {},
     "output_type": "display_data"
    },
    {
     "name": "stdout",
     "output_type": "stream",
     "text": [
      "http://dhlabsrv17.epfl.ch/iiif_impresso_new/BDC-1839-03-14-a-p0001/474,862,99,21/full/0/default.jpg\n",
      "-----------------\n",
      "\n",
      "mari \t\t\t\t\t// (BDC-1839-03-14-a-p0001) ([331, 515, 40, 19])\n"
     ]
    },
    {
     "data": {
      "text/html": [
       "<img src=\"http://dhlabsrv17.epfl.ch/iiif_impresso/BDC-1839-03-14-a-p0001/331,515,40,19/full/0/default.jpg\"/>"
      ],
      "text/plain": [
       "<IPython.core.display.Image object>"
      ]
     },
     "metadata": {},
     "output_type": "display_data"
    },
    {
     "data": {
      "text/html": [
       "<img src=\"http://dhlabsrv17.epfl.ch/iiif_impresso_new/BDC-1839-03-14-a-p0001/331,515,40,19/full/0/default.jpg\"/>"
      ],
      "text/plain": [
       "<IPython.core.display.Image object>"
      ]
     },
     "metadata": {},
     "output_type": "display_data"
    },
    {
     "name": "stdout",
     "output_type": "stream",
     "text": [
      "http://dhlabsrv17.epfl.ch/iiif_impresso_new/BDC-1839-03-14-a-p0001/331,515,40,19/full/0/default.jpg\n",
      "-----------------\n",
      "\n",
      "un \t\t\t\t\t// (BDC-1839-02-23-a-p0001) ([839, 809, 23, 22])\n"
     ]
    },
    {
     "data": {
      "text/html": [
       "<img src=\"http://dhlabsrv17.epfl.ch/iiif_impresso/BDC-1839-02-23-a-p0001/839,809,23,22/full/0/default.jpg\"/>"
      ],
      "text/plain": [
       "<IPython.core.display.Image object>"
      ]
     },
     "metadata": {},
     "output_type": "display_data"
    },
    {
     "data": {
      "text/html": [
       "<img src=\"http://dhlabsrv17.epfl.ch/iiif_impresso_new/BDC-1839-02-23-a-p0001/839,809,23,22/full/0/default.jpg\"/>"
      ],
      "text/plain": [
       "<IPython.core.display.Image object>"
      ]
     },
     "metadata": {},
     "output_type": "display_data"
    },
    {
     "name": "stdout",
     "output_type": "stream",
     "text": [
      "http://dhlabsrv17.epfl.ch/iiif_impresso_new/BDC-1839-02-23-a-p0001/839,809,23,22/full/0/default.jpg\n",
      "-----------------\n",
      "\n",
      "put \t\t\t\t\t// (BDC-1839-02-23-a-p0001) ([120, 868, 31, 23])\n"
     ]
    },
    {
     "data": {
      "text/html": [
       "<img src=\"http://dhlabsrv17.epfl.ch/iiif_impresso/BDC-1839-02-23-a-p0001/120,868,31,23/full/0/default.jpg\"/>"
      ],
      "text/plain": [
       "<IPython.core.display.Image object>"
      ]
     },
     "metadata": {},
     "output_type": "display_data"
    },
    {
     "data": {
      "text/html": [
       "<img src=\"http://dhlabsrv17.epfl.ch/iiif_impresso_new/BDC-1839-02-23-a-p0001/120,868,31,23/full/0/default.jpg\"/>"
      ],
      "text/plain": [
       "<IPython.core.display.Image object>"
      ]
     },
     "metadata": {},
     "output_type": "display_data"
    },
    {
     "name": "stdout",
     "output_type": "stream",
     "text": [
      "http://dhlabsrv17.epfl.ch/iiif_impresso_new/BDC-1839-02-23-a-p0001/120,868,31,23/full/0/default.jpg\n",
      "-----------------\n",
      "\n",
      "loi \t\t\t\t\t// (BDC-1839-01-20-a-p0006) ([322, 391, 23, 19])\n"
     ]
    },
    {
     "data": {
      "text/html": [
       "<img src=\"http://dhlabsrv17.epfl.ch/iiif_impresso/BDC-1839-01-20-a-p0006/322,391,23,19/full/0/default.jpg\"/>"
      ],
      "text/plain": [
       "<IPython.core.display.Image object>"
      ]
     },
     "metadata": {},
     "output_type": "display_data"
    },
    {
     "data": {
      "text/html": [
       "<img src=\"http://dhlabsrv17.epfl.ch/iiif_impresso_new/BDC-1839-01-20-a-p0006/322,391,23,19/full/0/default.jpg\"/>"
      ],
      "text/plain": [
       "<IPython.core.display.Image object>"
      ]
     },
     "metadata": {},
     "output_type": "display_data"
    },
    {
     "name": "stdout",
     "output_type": "stream",
     "text": [
      "http://dhlabsrv17.epfl.ch/iiif_impresso_new/BDC-1839-01-20-a-p0006/322,391,23,19/full/0/default.jpg\n",
      "-----------------\n",
      "\n",
      ". \t\t\t\t\t// (BDC-1839-01-20-a-p0006) ([601, 596, 5, 19])\n"
     ]
    },
    {
     "data": {
      "text/html": [
       "<img src=\"http://dhlabsrv17.epfl.ch/iiif_impresso/BDC-1839-01-20-a-p0006/601,596,5,19/full/0/default.jpg\"/>"
      ],
      "text/plain": [
       "<IPython.core.display.Image object>"
      ]
     },
     "metadata": {},
     "output_type": "display_data"
    },
    {
     "data": {
      "text/html": [
       "<img src=\"http://dhlabsrv17.epfl.ch/iiif_impresso_new/BDC-1839-01-20-a-p0006/601,596,5,19/full/0/default.jpg\"/>"
      ],
      "text/plain": [
       "<IPython.core.display.Image object>"
      ]
     },
     "metadata": {},
     "output_type": "display_data"
    },
    {
     "name": "stdout",
     "output_type": "stream",
     "text": [
      "http://dhlabsrv17.epfl.ch/iiif_impresso_new/BDC-1839-01-20-a-p0006/601,596,5,19/full/0/default.jpg\n",
      "-----------------\n",
      "\n",
      "contient \t\t\t\t\t// (BDC-1839-01-20-a-p0004) ([196, 506, 64, 17])\n"
     ]
    },
    {
     "data": {
      "text/html": [
       "<img src=\"http://dhlabsrv17.epfl.ch/iiif_impresso/BDC-1839-01-20-a-p0004/196,506,64,17/full/0/default.jpg\"/>"
      ],
      "text/plain": [
       "<IPython.core.display.Image object>"
      ]
     },
     "metadata": {},
     "output_type": "display_data"
    },
    {
     "data": {
      "text/html": [
       "<img src=\"http://dhlabsrv17.epfl.ch/iiif_impresso_new/BDC-1839-01-20-a-p0004/196,506,64,17/full/0/default.jpg\"/>"
      ],
      "text/plain": [
       "<IPython.core.display.Image object>"
      ]
     },
     "metadata": {},
     "output_type": "display_data"
    },
    {
     "name": "stdout",
     "output_type": "stream",
     "text": [
      "http://dhlabsrv17.epfl.ch/iiif_impresso_new/BDC-1839-01-20-a-p0004/196,506,64,17/full/0/default.jpg\n",
      "-----------------\n",
      "\n",
      "PROJET \t\t\t\t\t// (BDC-1839-01-20-a-p0004) ([278, 878, 84, 20])\n"
     ]
    },
    {
     "data": {
      "text/html": [
       "<img src=\"http://dhlabsrv17.epfl.ch/iiif_impresso/BDC-1839-01-20-a-p0004/278,878,84,20/full/0/default.jpg\"/>"
      ],
      "text/plain": [
       "<IPython.core.display.Image object>"
      ]
     },
     "metadata": {},
     "output_type": "display_data"
    },
    {
     "data": {
      "text/html": [
       "<img src=\"http://dhlabsrv17.epfl.ch/iiif_impresso_new/BDC-1839-01-20-a-p0004/278,878,84,20/full/0/default.jpg\"/>"
      ],
      "text/plain": [
       "<IPython.core.display.Image object>"
      ]
     },
     "metadata": {},
     "output_type": "display_data"
    },
    {
     "name": "stdout",
     "output_type": "stream",
     "text": [
      "http://dhlabsrv17.epfl.ch/iiif_impresso_new/BDC-1839-01-20-a-p0004/278,878,84,20/full/0/default.jpg\n",
      "-----------------\n",
      "\n",
      ", \t\t\t\t\t// (BDC-1839-01-20-a-p0001) ([912, 861, 6, 23])\n"
     ]
    },
    {
     "data": {
      "text/html": [
       "<img src=\"http://dhlabsrv17.epfl.ch/iiif_impresso/BDC-1839-01-20-a-p0001/912,861,6,23/full/0/default.jpg\"/>"
      ],
      "text/plain": [
       "<IPython.core.display.Image object>"
      ]
     },
     "metadata": {},
     "output_type": "display_data"
    },
    {
     "data": {
      "text/html": [
       "<img src=\"http://dhlabsrv17.epfl.ch/iiif_impresso_new/BDC-1839-01-20-a-p0001/912,861,6,23/full/0/default.jpg\"/>"
      ],
      "text/plain": [
       "<IPython.core.display.Image object>"
      ]
     },
     "metadata": {},
     "output_type": "display_data"
    },
    {
     "name": "stdout",
     "output_type": "stream",
     "text": [
      "http://dhlabsrv17.epfl.ch/iiif_impresso_new/BDC-1839-01-20-a-p0001/912,861,6,23/full/0/default.jpg\n",
      "-----------------\n",
      "\n",
      "la \t\t\t\t\t// (BDC-1839-01-20-a-p0001) ([263, 997, 18, 23])\n"
     ]
    },
    {
     "data": {
      "text/html": [
       "<img src=\"http://dhlabsrv17.epfl.ch/iiif_impresso/BDC-1839-01-20-a-p0001/263,997,18,23/full/0/default.jpg\"/>"
      ],
      "text/plain": [
       "<IPython.core.display.Image object>"
      ]
     },
     "metadata": {},
     "output_type": "display_data"
    },
    {
     "data": {
      "text/html": [
       "<img src=\"http://dhlabsrv17.epfl.ch/iiif_impresso_new/BDC-1839-01-20-a-p0001/263,997,18,23/full/0/default.jpg\"/>"
      ],
      "text/plain": [
       "<IPython.core.display.Image object>"
      ]
     },
     "metadata": {},
     "output_type": "display_data"
    },
    {
     "name": "stdout",
     "output_type": "stream",
     "text": [
      "http://dhlabsrv17.epfl.ch/iiif_impresso_new/BDC-1839-01-20-a-p0001/263,997,18,23/full/0/default.jpg\n",
      "-----------------\n",
      "\n",
      ", \t\t\t\t\t// (BDC-1839-03-14-a-p0004) ([637, 256, 4, 17])\n"
     ]
    },
    {
     "data": {
      "text/html": [
       "<img src=\"http://dhlabsrv17.epfl.ch/iiif_impresso/BDC-1839-03-14-a-p0004/637,256,4,17/full/0/default.jpg\"/>"
      ],
      "text/plain": [
       "<IPython.core.display.Image object>"
      ]
     },
     "metadata": {},
     "output_type": "display_data"
    },
    {
     "data": {
      "text/html": [
       "<img src=\"http://dhlabsrv17.epfl.ch/iiif_impresso_new/BDC-1839-03-14-a-p0004/637,256,4,17/full/0/default.jpg\"/>"
      ],
      "text/plain": [
       "<IPython.core.display.Image object>"
      ]
     },
     "metadata": {},
     "output_type": "display_data"
    },
    {
     "name": "stdout",
     "output_type": "stream",
     "text": [
      "http://dhlabsrv17.epfl.ch/iiif_impresso_new/BDC-1839-03-14-a-p0004/637,256,4,17/full/0/default.jpg\n",
      "-----------------\n",
      "\n",
      "la \t\t\t\t\t// (BDC-1839-03-14-a-p0004) ([124, 384, 13, 17])\n"
     ]
    },
    {
     "data": {
      "text/html": [
       "<img src=\"http://dhlabsrv17.epfl.ch/iiif_impresso/BDC-1839-03-14-a-p0004/124,384,13,17/full/0/default.jpg\"/>"
      ],
      "text/plain": [
       "<IPython.core.display.Image object>"
      ]
     },
     "metadata": {},
     "output_type": "display_data"
    },
    {
     "data": {
      "text/html": [
       "<img src=\"http://dhlabsrv17.epfl.ch/iiif_impresso_new/BDC-1839-03-14-a-p0004/124,384,13,17/full/0/default.jpg\"/>"
      ],
      "text/plain": [
       "<IPython.core.display.Image object>"
      ]
     },
     "metadata": {},
     "output_type": "display_data"
    },
    {
     "name": "stdout",
     "output_type": "stream",
     "text": [
      "http://dhlabsrv17.epfl.ch/iiif_impresso_new/BDC-1839-03-14-a-p0004/124,384,13,17/full/0/default.jpg\n",
      "-----------------\n",
      "\n",
      "de \t\t\t\t\t// (BDC-1839-01-21-a-p0003) ([147, 562, 18, 17])\n"
     ]
    },
    {
     "data": {
      "text/html": [
       "<img src=\"http://dhlabsrv17.epfl.ch/iiif_impresso/BDC-1839-01-21-a-p0003/147,562,18,17/full/0/default.jpg\"/>"
      ],
      "text/plain": [
       "<IPython.core.display.Image object>"
      ]
     },
     "metadata": {},
     "output_type": "display_data"
    },
    {
     "data": {
      "text/html": [
       "<img src=\"http://dhlabsrv17.epfl.ch/iiif_impresso_new/BDC-1839-01-21-a-p0003/147,562,18,17/full/0/default.jpg\"/>"
      ],
      "text/plain": [
       "<IPython.core.display.Image object>"
      ]
     },
     "metadata": {},
     "output_type": "display_data"
    },
    {
     "name": "stdout",
     "output_type": "stream",
     "text": [
      "http://dhlabsrv17.epfl.ch/iiif_impresso_new/BDC-1839-01-21-a-p0003/147,562,18,17/full/0/default.jpg\n",
      "-----------------\n",
      "\n",
      "Républiques \t\t\t\t\t// (BDC-1839-01-21-a-p0003) ([383, 685, 104, 17])\n"
     ]
    },
    {
     "data": {
      "text/html": [
       "<img src=\"http://dhlabsrv17.epfl.ch/iiif_impresso/BDC-1839-01-21-a-p0003/383,685,104,17/full/0/default.jpg\"/>"
      ],
      "text/plain": [
       "<IPython.core.display.Image object>"
      ]
     },
     "metadata": {},
     "output_type": "display_data"
    },
    {
     "data": {
      "text/html": [
       "<img src=\"http://dhlabsrv17.epfl.ch/iiif_impresso_new/BDC-1839-01-21-a-p0003/383,685,104,17/full/0/default.jpg\"/>"
      ],
      "text/plain": [
       "<IPython.core.display.Image object>"
      ]
     },
     "metadata": {},
     "output_type": "display_data"
    },
    {
     "name": "stdout",
     "output_type": "stream",
     "text": [
      "http://dhlabsrv17.epfl.ch/iiif_impresso_new/BDC-1839-01-21-a-p0003/383,685,104,17/full/0/default.jpg\n",
      "-----------------\n",
      "\n",
      "32 \t\t\t\t\t// (BDC-1839-02-25-a-p0001) ([15, 1138, 20, 19])\n"
     ]
    },
    {
     "data": {
      "text/html": [
       "<img src=\"http://dhlabsrv17.epfl.ch/iiif_impresso/BDC-1839-02-25-a-p0001/15,1138,20,19/full/0/default.jpg\"/>"
      ],
      "text/plain": [
       "<IPython.core.display.Image object>"
      ]
     },
     "metadata": {},
     "output_type": "display_data"
    },
    {
     "data": {
      "text/html": [
       "<img src=\"http://dhlabsrv17.epfl.ch/iiif_impresso_new/BDC-1839-02-25-a-p0001/15,1138,20,19/full/0/default.jpg\"/>"
      ],
      "text/plain": [
       "<IPython.core.display.Image object>"
      ]
     },
     "metadata": {},
     "output_type": "display_data"
    },
    {
     "name": "stdout",
     "output_type": "stream",
     "text": [
      "http://dhlabsrv17.epfl.ch/iiif_impresso_new/BDC-1839-02-25-a-p0001/15,1138,20,19/full/0/default.jpg\n",
      "-----------------\n",
      "\n",
      "que \t\t\t\t\t// (BDC-1839-02-25-a-p0001) ([699, 1145, 30, 19])\n"
     ]
    },
    {
     "data": {
      "text/html": [
       "<img src=\"http://dhlabsrv17.epfl.ch/iiif_impresso/BDC-1839-02-25-a-p0001/699,1145,30,19/full/0/default.jpg\"/>"
      ],
      "text/plain": [
       "<IPython.core.display.Image object>"
      ]
     },
     "metadata": {},
     "output_type": "display_data"
    },
    {
     "data": {
      "text/html": [
       "<img src=\"http://dhlabsrv17.epfl.ch/iiif_impresso_new/BDC-1839-02-25-a-p0001/699,1145,30,19/full/0/default.jpg\"/>"
      ],
      "text/plain": [
       "<IPython.core.display.Image object>"
      ]
     },
     "metadata": {},
     "output_type": "display_data"
    },
    {
     "name": "stdout",
     "output_type": "stream",
     "text": [
      "http://dhlabsrv17.epfl.ch/iiif_impresso_new/BDC-1839-02-25-a-p0001/699,1145,30,19/full/0/default.jpg\n",
      "-----------------\n",
      "\n",
      "moigne \t\t\t\t\t// (BDC-1839-01-21-a-p0002) ([87, 508, 60, 17])\n"
     ]
    },
    {
     "data": {
      "text/html": [
       "<img src=\"http://dhlabsrv17.epfl.ch/iiif_impresso/BDC-1839-01-21-a-p0002/87,508,60,17/full/0/default.jpg\"/>"
      ],
      "text/plain": [
       "<IPython.core.display.Image object>"
      ]
     },
     "metadata": {},
     "output_type": "display_data"
    },
    {
     "data": {
      "text/html": [
       "<img src=\"http://dhlabsrv17.epfl.ch/iiif_impresso_new/BDC-1839-01-21-a-p0002/87,508,60,17/full/0/default.jpg\"/>"
      ],
      "text/plain": [
       "<IPython.core.display.Image object>"
      ]
     },
     "metadata": {},
     "output_type": "display_data"
    },
    {
     "name": "stdout",
     "output_type": "stream",
     "text": [
      "http://dhlabsrv17.epfl.ch/iiif_impresso_new/BDC-1839-01-21-a-p0002/87,508,60,17/full/0/default.jpg\n",
      "-----------------\n",
      "\n",
      "INous \t\t\t\t\t// (BDC-1839-01-21-a-p0002) ([114, 1000, 44, 18])\n"
     ]
    },
    {
     "data": {
      "text/html": [
       "<img src=\"http://dhlabsrv17.epfl.ch/iiif_impresso/BDC-1839-01-21-a-p0002/114,1000,44,18/full/0/default.jpg\"/>"
      ],
      "text/plain": [
       "<IPython.core.display.Image object>"
      ]
     },
     "metadata": {},
     "output_type": "display_data"
    },
    {
     "data": {
      "text/html": [
       "<img src=\"http://dhlabsrv17.epfl.ch/iiif_impresso_new/BDC-1839-01-21-a-p0002/114,1000,44,18/full/0/default.jpg\"/>"
      ],
      "text/plain": [
       "<IPython.core.display.Image object>"
      ]
     },
     "metadata": {},
     "output_type": "display_data"
    },
    {
     "name": "stdout",
     "output_type": "stream",
     "text": [
      "http://dhlabsrv17.epfl.ch/iiif_impresso_new/BDC-1839-01-21-a-p0002/114,1000,44,18/full/0/default.jpg\n",
      "-----------------\n",
      "\n",
      "AVIS \t\t\t\t\t// (BDC-1839-01-21-a-p0001) ([198, 477, 140, 41])\n"
     ]
    },
    {
     "data": {
      "text/html": [
       "<img src=\"http://dhlabsrv17.epfl.ch/iiif_impresso/BDC-1839-01-21-a-p0001/198,477,140,41/full/0/default.jpg\"/>"
      ],
      "text/plain": [
       "<IPython.core.display.Image object>"
      ]
     },
     "metadata": {},
     "output_type": "display_data"
    },
    {
     "data": {
      "text/html": [
       "<img src=\"http://dhlabsrv17.epfl.ch/iiif_impresso_new/BDC-1839-01-21-a-p0001/198,477,140,41/full/0/default.jpg\"/>"
      ],
      "text/plain": [
       "<IPython.core.display.Image object>"
      ]
     },
     "metadata": {},
     "output_type": "display_data"
    },
    {
     "name": "stdout",
     "output_type": "stream",
     "text": [
      "http://dhlabsrv17.epfl.ch/iiif_impresso_new/BDC-1839-01-21-a-p0001/198,477,140,41/full/0/default.jpg\n",
      "-----------------\n",
      "\n",
      "paraîtra \t\t\t\t\t// (BDC-1839-01-21-a-p0001) ([802, 752, 77, 21])\n"
     ]
    },
    {
     "data": {
      "text/html": [
       "<img src=\"http://dhlabsrv17.epfl.ch/iiif_impresso/BDC-1839-01-21-a-p0001/802,752,77,21/full/0/default.jpg\"/>"
      ],
      "text/plain": [
       "<IPython.core.display.Image object>"
      ]
     },
     "metadata": {},
     "output_type": "display_data"
    },
    {
     "data": {
      "text/html": [
       "<img src=\"http://dhlabsrv17.epfl.ch/iiif_impresso_new/BDC-1839-01-21-a-p0001/802,752,77,21/full/0/default.jpg\"/>"
      ],
      "text/plain": [
       "<IPython.core.display.Image object>"
      ]
     },
     "metadata": {},
     "output_type": "display_data"
    },
    {
     "name": "stdout",
     "output_type": "stream",
     "text": [
      "http://dhlabsrv17.epfl.ch/iiif_impresso_new/BDC-1839-01-21-a-p0001/802,752,77,21/full/0/default.jpg\n",
      "-----------------\n",
      "\n",
      "Représcnlans \t\t\t\t\t// (BDC-1839-02-28-a-p0002) ([652, 453, 111, 17])\n"
     ]
    },
    {
     "data": {
      "text/html": [
       "<img src=\"http://dhlabsrv17.epfl.ch/iiif_impresso/BDC-1839-02-28-a-p0002/652,453,111,17/full/0/default.jpg\"/>"
      ],
      "text/plain": [
       "<IPython.core.display.Image object>"
      ]
     },
     "metadata": {},
     "output_type": "display_data"
    },
    {
     "data": {
      "text/html": [
       "<img src=\"http://dhlabsrv17.epfl.ch/iiif_impresso_new/BDC-1839-02-28-a-p0002/652,453,111,17/full/0/default.jpg\"/>"
      ],
      "text/plain": [
       "<IPython.core.display.Image object>"
      ]
     },
     "metadata": {},
     "output_type": "display_data"
    },
    {
     "name": "stdout",
     "output_type": "stream",
     "text": [
      "http://dhlabsrv17.epfl.ch/iiif_impresso_new/BDC-1839-02-28-a-p0002/652,453,111,17/full/0/default.jpg\n",
      "-----------------\n",
      "\n",
      "désapprouvent \t\t\t\t\t// (BDC-1839-02-28-a-p0002) ([504, 138, 120, 17])\n"
     ]
    },
    {
     "data": {
      "text/html": [
       "<img src=\"http://dhlabsrv17.epfl.ch/iiif_impresso/BDC-1839-02-28-a-p0002/504,138,120,17/full/0/default.jpg\"/>"
      ],
      "text/plain": [
       "<IPython.core.display.Image object>"
      ]
     },
     "metadata": {},
     "output_type": "display_data"
    },
    {
     "data": {
      "text/html": [
       "<img src=\"http://dhlabsrv17.epfl.ch/iiif_impresso_new/BDC-1839-02-28-a-p0002/504,138,120,17/full/0/default.jpg\"/>"
      ],
      "text/plain": [
       "<IPython.core.display.Image object>"
      ]
     },
     "metadata": {},
     "output_type": "display_data"
    },
    {
     "name": "stdout",
     "output_type": "stream",
     "text": [
      "http://dhlabsrv17.epfl.ch/iiif_impresso_new/BDC-1839-02-28-a-p0002/504,138,120,17/full/0/default.jpg\n",
      "-----------------\n",
      "\n",
      "Dicte \t\t\t\t\t// (BDC-1839-01-21-a-p0004) ([619, 847, 45, 17])\n"
     ]
    },
    {
     "data": {
      "text/html": [
       "<img src=\"http://dhlabsrv17.epfl.ch/iiif_impresso/BDC-1839-01-21-a-p0004/619,847,45,17/full/0/default.jpg\"/>"
      ],
      "text/plain": [
       "<IPython.core.display.Image object>"
      ]
     },
     "metadata": {},
     "output_type": "display_data"
    },
    {
     "data": {
      "text/html": [
       "<img src=\"http://dhlabsrv17.epfl.ch/iiif_impresso_new/BDC-1839-01-21-a-p0004/619,847,45,17/full/0/default.jpg\"/>"
      ],
      "text/plain": [
       "<IPython.core.display.Image object>"
      ]
     },
     "metadata": {},
     "output_type": "display_data"
    },
    {
     "name": "stdout",
     "output_type": "stream",
     "text": [
      "http://dhlabsrv17.epfl.ch/iiif_impresso_new/BDC-1839-01-21-a-p0004/619,847,45,17/full/0/default.jpg\n",
      "-----------------\n",
      "\n",
      "de \t\t\t\t\t// (BDC-1839-01-21-a-p0004) ([464, 1233, 17, 17])\n"
     ]
    },
    {
     "data": {
      "text/html": [
       "<img src=\"http://dhlabsrv17.epfl.ch/iiif_impresso/BDC-1839-01-21-a-p0004/464,1233,17,17/full/0/default.jpg\"/>"
      ],
      "text/plain": [
       "<IPython.core.display.Image object>"
      ]
     },
     "metadata": {},
     "output_type": "display_data"
    },
    {
     "data": {
      "text/html": [
       "<img src=\"http://dhlabsrv17.epfl.ch/iiif_impresso_new/BDC-1839-01-21-a-p0004/464,1233,17,17/full/0/default.jpg\"/>"
      ],
      "text/plain": [
       "<IPython.core.display.Image object>"
      ]
     },
     "metadata": {},
     "output_type": "display_data"
    },
    {
     "name": "stdout",
     "output_type": "stream",
     "text": [
      "http://dhlabsrv17.epfl.ch/iiif_impresso_new/BDC-1839-01-21-a-p0004/464,1233,17,17/full/0/default.jpg\n",
      "-----------------\n",
      "\n",
      "M \t\t\t\t\t// (BDC-1839-02-28-a-p0001) ([492, 852, 17, 19])\n"
     ]
    },
    {
     "data": {
      "text/html": [
       "<img src=\"http://dhlabsrv17.epfl.ch/iiif_impresso/BDC-1839-02-28-a-p0001/492,852,17,19/full/0/default.jpg\"/>"
      ],
      "text/plain": [
       "<IPython.core.display.Image object>"
      ]
     },
     "metadata": {},
     "output_type": "display_data"
    },
    {
     "data": {
      "text/html": [
       "<img src=\"http://dhlabsrv17.epfl.ch/iiif_impresso_new/BDC-1839-02-28-a-p0001/492,852,17,19/full/0/default.jpg\"/>"
      ],
      "text/plain": [
       "<IPython.core.display.Image object>"
      ]
     },
     "metadata": {},
     "output_type": "display_data"
    },
    {
     "name": "stdout",
     "output_type": "stream",
     "text": [
      "http://dhlabsrv17.epfl.ch/iiif_impresso_new/BDC-1839-02-28-a-p0001/492,852,17,19/full/0/default.jpg\n",
      "-----------------\n",
      "\n",
      "mois \t\t\t\t\t// (BDC-1839-02-28-a-p0001) ([351, 551, 49, 25])\n"
     ]
    },
    {
     "data": {
      "text/html": [
       "<img src=\"http://dhlabsrv17.epfl.ch/iiif_impresso/BDC-1839-02-28-a-p0001/351,551,49,25/full/0/default.jpg\"/>"
      ],
      "text/plain": [
       "<IPython.core.display.Image object>"
      ]
     },
     "metadata": {},
     "output_type": "display_data"
    },
    {
     "data": {
      "text/html": [
       "<img src=\"http://dhlabsrv17.epfl.ch/iiif_impresso_new/BDC-1839-02-28-a-p0001/351,551,49,25/full/0/default.jpg\"/>"
      ],
      "text/plain": [
       "<IPython.core.display.Image object>"
      ]
     },
     "metadata": {},
     "output_type": "display_data"
    },
    {
     "name": "stdout",
     "output_type": "stream",
     "text": [
      "http://dhlabsrv17.epfl.ch/iiif_impresso_new/BDC-1839-02-28-a-p0001/351,551,49,25/full/0/default.jpg\n",
      "-----------------\n",
      "\n",
      "la \t\t\t\t\t// (BDC-1839-02-28-a-p0004) ([747, 684, 14, 19])\n"
     ]
    },
    {
     "data": {
      "text/html": [
       "<img src=\"http://dhlabsrv17.epfl.ch/iiif_impresso/BDC-1839-02-28-a-p0004/747,684,14,19/full/0/default.jpg\"/>"
      ],
      "text/plain": [
       "<IPython.core.display.Image object>"
      ]
     },
     "metadata": {},
     "output_type": "display_data"
    },
    {
     "data": {
      "text/html": [
       "<img src=\"http://dhlabsrv17.epfl.ch/iiif_impresso_new/BDC-1839-02-28-a-p0004/747,684,14,19/full/0/default.jpg\"/>"
      ],
      "text/plain": [
       "<IPython.core.display.Image object>"
      ]
     },
     "metadata": {},
     "output_type": "display_data"
    },
    {
     "name": "stdout",
     "output_type": "stream",
     "text": [
      "http://dhlabsrv17.epfl.ch/iiif_impresso_new/BDC-1839-02-28-a-p0004/747,684,14,19/full/0/default.jpg\n",
      "-----------------\n",
      "\n",
      "amener \t\t\t\t\t// (BDC-1839-02-28-a-p0004) ([233, 391, 59, 19])\n"
     ]
    },
    {
     "data": {
      "text/html": [
       "<img src=\"http://dhlabsrv17.epfl.ch/iiif_impresso/BDC-1839-02-28-a-p0004/233,391,59,19/full/0/default.jpg\"/>"
      ],
      "text/plain": [
       "<IPython.core.display.Image object>"
      ]
     },
     "metadata": {},
     "output_type": "display_data"
    },
    {
     "data": {
      "text/html": [
       "<img src=\"http://dhlabsrv17.epfl.ch/iiif_impresso_new/BDC-1839-02-28-a-p0004/233,391,59,19/full/0/default.jpg\"/>"
      ],
      "text/plain": [
       "<IPython.core.display.Image object>"
      ]
     },
     "metadata": {},
     "output_type": "display_data"
    },
    {
     "name": "stdout",
     "output_type": "stream",
     "text": [
      "http://dhlabsrv17.epfl.ch/iiif_impresso_new/BDC-1839-02-28-a-p0004/233,391,59,19/full/0/default.jpg\n",
      "-----------------\n",
      "\n",
      "votre \t\t\t\t\t// (BDC-1839-02-23-a-p0002) ([172, 520, 51, 21])\n"
     ]
    },
    {
     "data": {
      "text/html": [
       "<img src=\"http://dhlabsrv17.epfl.ch/iiif_impresso/BDC-1839-02-23-a-p0002/172,520,51,21/full/0/default.jpg\"/>"
      ],
      "text/plain": [
       "<IPython.core.display.Image object>"
      ]
     },
     "metadata": {},
     "output_type": "display_data"
    },
    {
     "data": {
      "text/html": [
       "<img src=\"http://dhlabsrv17.epfl.ch/iiif_impresso_new/BDC-1839-02-23-a-p0002/172,520,51,21/full/0/default.jpg\"/>"
      ],
      "text/plain": [
       "<IPython.core.display.Image object>"
      ]
     },
     "metadata": {},
     "output_type": "display_data"
    },
    {
     "name": "stdout",
     "output_type": "stream",
     "text": [
      "http://dhlabsrv17.epfl.ch/iiif_impresso_new/BDC-1839-02-23-a-p0002/172,520,51,21/full/0/default.jpg\n",
      "-----------------\n",
      "\n",
      ". \t\t\t\t\t// (BDC-1839-02-23-a-p0002) ([362, 371, 6, 21])\n"
     ]
    },
    {
     "data": {
      "text/html": [
       "<img src=\"http://dhlabsrv17.epfl.ch/iiif_impresso/BDC-1839-02-23-a-p0002/362,371,6,21/full/0/default.jpg\"/>"
      ],
      "text/plain": [
       "<IPython.core.display.Image object>"
      ]
     },
     "metadata": {},
     "output_type": "display_data"
    },
    {
     "data": {
      "text/html": [
       "<img src=\"http://dhlabsrv17.epfl.ch/iiif_impresso_new/BDC-1839-02-23-a-p0002/362,371,6,21/full/0/default.jpg\"/>"
      ],
      "text/plain": [
       "<IPython.core.display.Image object>"
      ]
     },
     "metadata": {},
     "output_type": "display_data"
    },
    {
     "name": "stdout",
     "output_type": "stream",
     "text": [
      "http://dhlabsrv17.epfl.ch/iiif_impresso_new/BDC-1839-02-23-a-p0002/362,371,6,21/full/0/default.jpg\n",
      "-----------------\n",
      "\n"
     ]
    }
   ],
   "source": [
    "import re\n",
    "import pandas as pd\n",
    "for n in range(0, 200):\n",
    "    page_idx = select_random_index(page_files)\n",
    "    page = page_files[page_idx]\n",
    "    #print(page)\n",
    "    for i in range(0, 2):\n",
    "        try:\n",
    "            token = select_random_token(page)\n",
    "            basename = page[re.search(r\"[A-Z]{3,3}-\", page).start():].replace('.json', '')\n",
    "            link_token = get_link(basename, token['c'])\n",
    "            print(f\"{token['tx']} \\t\\t\\t\\t\\t// ({basename}) ({token['c']})\")\n",
    "            display(Image(url=link_token))\n",
    "            display(Image(url=link_token.replace(\"iiif_impresso\",\"iiif_impresso_new\")))\n",
    "            print(link_token.replace(\"iiif_impresso\",\"iiif_impresso_new\"))\n",
    "            print(\"-----------------\\n\")\n",
    "                  \n",
    "            #reg = select_random_region(page)\n",
    "            #link_reg = get_link(basename, reg['c'])\n",
    "            #print(basename)\n",
    "            #display(Image(url=link_reg))\n",
    "            #display(Image(url=link_reg.replace(\"iiif_impresso\",\"iiif_impresso_new\")))\n",
    "            #print(\"-----------------\\n\")\n",
    "            \n",
    "        except Exception as e:\n",
    "            print(e)\n",
    "            pass"
   ]
  },
  {
   "cell_type": "code",
   "execution_count": null,
   "metadata": {},
   "outputs": [],
   "source": []
  },
  {
   "cell_type": "code",
   "execution_count": null,
   "metadata": {},
   "outputs": [],
   "source": []
  }
 ],
 "metadata": {
  "kernelspec": {
   "display_name": "Python 3",
   "language": "python",
   "name": "python3"
  },
  "language_info": {
   "codemirror_mode": {
    "name": "ipython",
    "version": 3
   },
   "file_extension": ".py",
   "mimetype": "text/x-python",
   "name": "python",
   "nbconvert_exporter": "python",
   "pygments_lexer": "ipython3",
   "version": "3.6.7"
  },
  "toc": {
   "colors": {
    "hover_highlight": "#DAA520",
    "navigate_num": "#000000",
    "navigate_text": "#333333",
    "running_highlight": "#FF0000",
    "selected_highlight": "#FFD700",
    "sidebar_border": "#EEEEEE",
    "wrapper_background": "#FFFFFF"
   },
   "moveMenuLeft": true,
   "nav_menu": {
    "height": "12px",
    "width": "252px"
   },
   "navigate_menu": true,
   "number_sections": false,
   "sideBar": true,
   "threshold": 4,
   "toc_cell": false,
   "toc_position": {
    "height": "681px",
    "left": "0px",
    "right": "1461px",
    "top": "111px",
    "width": "212px"
   },
   "toc_section_display": "block",
   "toc_window_display": true,
   "widenNotebook": false
  }
 },
 "nbformat": 4,
 "nbformat_minor": 2
}
