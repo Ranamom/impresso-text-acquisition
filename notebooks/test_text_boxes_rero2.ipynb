{
 "cells": [
  {
   "cell_type": "markdown",
   "metadata": {},
   "source": [
    "## testing rero2 boxes"
   ]
  },
  {
   "cell_type": "code",
   "execution_count": 1,
   "metadata": {
    "scrolled": true
   },
   "outputs": [],
   "source": [
    "import requests\n",
    "from requests.auth import HTTPBasicAuth\n",
    "import json\n",
    "import datetime\n",
    "import dask.bag as db\n",
    "import glob"
   ]
  },
  {
   "cell_type": "code",
   "execution_count": 2,
   "metadata": {
    "scrolled": true
   },
   "outputs": [],
   "source": [
    "from impresso_commons.path.path_fs import IssueDir, detect_canonical_issues, canonical_path, KNOWN_JOURNALS\n",
    "from text_importer.helpers import get_page_schema\n",
    "from impresso_commons.utils.s3 import IMPRESSO_STORAGEOPT"
   ]
  },
  {
   "cell_type": "code",
   "execution_count": 3,
   "metadata": {
    "scrolled": true
   },
   "outputs": [],
   "source": [
    "from impresso_commons.images.olive_boxes import get_iiif_url\n",
    "from IPython.display import Image, display, HTML, Markdown"
   ]
  },
  {
   "cell_type": "markdown",
   "metadata": {},
   "source": [
    "required input: canonical data before compression and upload; here tested with Edoardo's files "
   ]
  },
  {
   "cell_type": "code",
   "execution_count": 25,
   "metadata": {
    "scrolled": true
   },
   "outputs": [
    {
     "name": "stdout",
     "output_type": "stream",
     "text": [
      "CPU times: user 7.14 s, sys: 4.65 s, total: 11.8 s\n",
      "Wall time: 6min 43s\n"
     ]
    },
    {
     "data": {
      "text/plain": [
       "749944"
      ]
     },
     "execution_count": 25,
     "metadata": {},
     "output_type": "execute_result"
    }
   ],
   "source": [
    "%%time\n",
    "page_files = list(filter(lambda f: 'issue' not in f, list(glob.iglob('/scratch/students/rero2/BLB/**/*.json', recursive=True))))\n",
    "len(page_files)"
   ]
  },
  {
   "cell_type": "code",
   "execution_count": 21,
   "metadata": {},
   "outputs": [
    {
     "data": {
      "text/plain": [
       "['/scratch/students/rero2/BLB/1845/12/28/a/BLB-1845-12-28-a-p0002.json',\n",
       " '/scratch/students/rero2/BLB/1845/12/28/a/BLB-1845-12-28-a-p0001.json',\n",
       " '/scratch/students/rero2/BLB/1845/12/28/a/BLB-1845-12-28-a-p0003.json',\n",
       " '/scratch/students/rero2/BLB/1845/12/28/a/BLB-1845-12-28-a-p0004.json',\n",
       " '/scratch/students/rero2/BLB/1845/12/28/a/BLB-1845-12-28-a-p0005.json',\n",
       " '/scratch/students/rero2/BLB/1846/06/06/a/BLB-1846-06-06-a-p0003.json',\n",
       " '/scratch/students/rero2/BLB/1846/06/06/a/BLB-1846-06-06-a-p0004.json',\n",
       " '/scratch/students/rero2/BLB/1846/06/06/a/BLB-1846-06-06-a-p0001.json',\n",
       " '/scratch/students/rero2/BLB/1846/06/06/a/BLB-1846-06-06-a-p0002.json',\n",
       " '/scratch/students/rero2/BLB/1846/06/13/a/BLB-1846-06-13-a-p0002.json',\n",
       " '/scratch/students/rero2/BLB/1846/06/13/a/BLB-1846-06-13-a-p0004.json',\n",
       " '/scratch/students/rero2/BLB/1846/06/13/a/BLB-1846-06-13-a-p0003.json',\n",
       " '/scratch/students/rero2/BLB/1846/06/13/a/BLB-1846-06-13-a-p0001.json',\n",
       " '/scratch/students/rero2/BLB/1846/06/20/a/BLB-1846-06-20-a-p0004.json',\n",
       " '/scratch/students/rero2/BLB/1846/06/20/a/BLB-1846-06-20-a-p0003.json',\n",
       " '/scratch/students/rero2/BLB/1846/06/20/a/BLB-1846-06-20-a-p0001.json',\n",
       " '/scratch/students/rero2/BLB/1846/06/20/a/BLB-1846-06-20-a-p0002.json',\n",
       " '/scratch/students/rero2/BLB/1846/06/27/a/BLB-1846-06-27-a-p0003.json',\n",
       " '/scratch/students/rero2/BLB/1846/06/27/a/BLB-1846-06-27-a-p0004.json',\n",
       " '/scratch/students/rero2/BLB/1846/06/27/a/BLB-1846-06-27-a-p0002.json',\n",
       " '/scratch/students/rero2/BLB/1846/06/27/a/BLB-1846-06-27-a-p0001.json',\n",
       " '/scratch/students/rero2/BLB/1846/11/07/a/BLB-1846-11-07-a-p0001.json',\n",
       " '/scratch/students/rero2/BLB/1846/11/07/a/BLB-1846-11-07-a-p0003.json',\n",
       " '/scratch/students/rero2/BLB/1846/11/07/a/BLB-1846-11-07-a-p0004.json',\n",
       " '/scratch/students/rero2/BLB/1846/11/07/a/BLB-1846-11-07-a-p0002.json',\n",
       " '/scratch/students/rero2/BLB/1846/11/28/a/BLB-1846-11-28-a-p0004.json',\n",
       " '/scratch/students/rero2/BLB/1846/11/28/a/BLB-1846-11-28-a-p0001.json',\n",
       " '/scratch/students/rero2/BLB/1846/11/28/a/BLB-1846-11-28-a-p0003.json',\n",
       " '/scratch/students/rero2/BLB/1846/11/28/a/BLB-1846-11-28-a-p0002.json',\n",
       " '/scratch/students/rero2/BLB/1846/11/21/a/BLB-1846-11-21-a-p0002.json',\n",
       " '/scratch/students/rero2/BLB/1846/11/21/a/BLB-1846-11-21-a-p0004.json',\n",
       " '/scratch/students/rero2/BLB/1846/11/21/a/BLB-1846-11-21-a-p0003.json',\n",
       " '/scratch/students/rero2/BLB/1846/11/21/a/BLB-1846-11-21-a-p0001.json',\n",
       " '/scratch/students/rero2/BLB/1846/11/14/a/BLB-1846-11-14-a-p0004.json',\n",
       " '/scratch/students/rero2/BLB/1846/11/14/a/BLB-1846-11-14-a-p0002.json',\n",
       " '/scratch/students/rero2/BLB/1846/11/14/a/BLB-1846-11-14-a-p0003.json',\n",
       " '/scratch/students/rero2/BLB/1846/11/14/a/BLB-1846-11-14-a-p0001.json',\n",
       " '/scratch/students/rero2/BLB/1846/08/08/a/BLB-1846-08-08-a-p0004.json',\n",
       " '/scratch/students/rero2/BLB/1846/08/08/a/BLB-1846-08-08-a-p0001.json',\n",
       " '/scratch/students/rero2/BLB/1846/08/08/a/BLB-1846-08-08-a-p0003.json',\n",
       " '/scratch/students/rero2/BLB/1846/08/08/a/BLB-1846-08-08-a-p0002.json',\n",
       " '/scratch/students/rero2/BLB/1846/08/29/a/BLB-1846-08-29-a-p0004.json',\n",
       " '/scratch/students/rero2/BLB/1846/08/29/a/BLB-1846-08-29-a-p0002.json',\n",
       " '/scratch/students/rero2/BLB/1846/08/29/a/BLB-1846-08-29-a-p0001.json',\n",
       " '/scratch/students/rero2/BLB/1846/08/29/a/BLB-1846-08-29-a-p0003.json',\n",
       " '/scratch/students/rero2/BLB/1846/08/01/a/BLB-1846-08-01-a-p0003.json',\n",
       " '/scratch/students/rero2/BLB/1846/08/01/a/BLB-1846-08-01-a-p0004.json',\n",
       " '/scratch/students/rero2/BLB/1846/08/01/a/BLB-1846-08-01-a-p0002.json',\n",
       " '/scratch/students/rero2/BLB/1846/08/01/a/BLB-1846-08-01-a-p0001.json',\n",
       " '/scratch/students/rero2/BLB/1846/08/22/a/BLB-1846-08-22-a-p0003.json',\n",
       " '/scratch/students/rero2/BLB/1846/08/22/a/BLB-1846-08-22-a-p0005.json',\n",
       " '/scratch/students/rero2/BLB/1846/08/22/a/BLB-1846-08-22-a-p0004.json',\n",
       " '/scratch/students/rero2/BLB/1846/08/22/a/BLB-1846-08-22-a-p0002.json',\n",
       " '/scratch/students/rero2/BLB/1846/08/22/a/BLB-1846-08-22-a-p0001.json',\n",
       " '/scratch/students/rero2/BLB/1846/08/22/a/BLB-1846-08-22-a-p0006.json',\n",
       " '/scratch/students/rero2/BLB/1846/07/18/a/BLB-1846-07-18-a-p0002.json',\n",
       " '/scratch/students/rero2/BLB/1846/07/18/a/BLB-1846-07-18-a-p0001.json',\n",
       " '/scratch/students/rero2/BLB/1846/07/18/a/BLB-1846-07-18-a-p0003.json',\n",
       " '/scratch/students/rero2/BLB/1846/07/18/a/BLB-1846-07-18-a-p0004.json',\n",
       " '/scratch/students/rero2/BLB/1846/07/11/a/BLB-1846-07-11-a-p0003.json',\n",
       " '/scratch/students/rero2/BLB/1846/07/11/a/BLB-1846-07-11-a-p0002.json',\n",
       " '/scratch/students/rero2/BLB/1846/07/11/a/BLB-1846-07-11-a-p0001.json',\n",
       " '/scratch/students/rero2/BLB/1846/07/11/a/BLB-1846-07-11-a-p0004.json',\n",
       " '/scratch/students/rero2/BLB/1846/07/04/a/BLB-1846-07-04-a-p0001.json',\n",
       " '/scratch/students/rero2/BLB/1846/07/04/a/BLB-1846-07-04-a-p0002.json',\n",
       " '/scratch/students/rero2/BLB/1846/07/04/a/BLB-1846-07-04-a-p0004.json',\n",
       " '/scratch/students/rero2/BLB/1846/07/04/a/BLB-1846-07-04-a-p0003.json',\n",
       " '/scratch/students/rero2/BLB/1846/07/25/a/BLB-1846-07-25-a-p0003.json',\n",
       " '/scratch/students/rero2/BLB/1846/07/25/a/BLB-1846-07-25-a-p0002.json',\n",
       " '/scratch/students/rero2/BLB/1846/07/25/a/BLB-1846-07-25-a-p0004.json',\n",
       " '/scratch/students/rero2/BLB/1846/07/25/a/BLB-1846-07-25-a-p0001.json',\n",
       " '/scratch/students/rero2/BLB/1846/04/18/a/BLB-1846-04-18-a-p0004.json',\n",
       " '/scratch/students/rero2/BLB/1846/04/18/a/BLB-1846-04-18-a-p0001.json',\n",
       " '/scratch/students/rero2/BLB/1846/04/18/a/BLB-1846-04-18-a-p0002.json',\n",
       " '/scratch/students/rero2/BLB/1846/04/18/a/BLB-1846-04-18-a-p0003.json',\n",
       " '/scratch/students/rero2/BLB/1846/04/11/a/BLB-1846-04-11-a-p0002.json',\n",
       " '/scratch/students/rero2/BLB/1846/04/11/a/BLB-1846-04-11-a-p0003.json',\n",
       " '/scratch/students/rero2/BLB/1846/04/11/a/BLB-1846-04-11-a-p0004.json',\n",
       " '/scratch/students/rero2/BLB/1846/04/11/a/BLB-1846-04-11-a-p0001.json',\n",
       " '/scratch/students/rero2/BLB/1846/04/04/a/BLB-1846-04-04-a-p0002.json',\n",
       " '/scratch/students/rero2/BLB/1846/04/04/a/BLB-1846-04-04-a-p0003.json',\n",
       " '/scratch/students/rero2/BLB/1846/04/04/a/BLB-1846-04-04-a-p0001.json',\n",
       " '/scratch/students/rero2/BLB/1846/04/04/a/BLB-1846-04-04-a-p0004.json',\n",
       " '/scratch/students/rero2/BLB/1846/04/25/a/BLB-1846-04-25-a-p0003.json',\n",
       " '/scratch/students/rero2/BLB/1846/04/25/a/BLB-1846-04-25-a-p0004.json',\n",
       " '/scratch/students/rero2/BLB/1846/04/25/a/BLB-1846-04-25-a-p0002.json',\n",
       " '/scratch/students/rero2/BLB/1846/04/25/a/BLB-1846-04-25-a-p0001.json',\n",
       " '/scratch/students/rero2/BLB/1846/09/12/a/BLB-1846-09-12-a-p0004.json',\n",
       " '/scratch/students/rero2/BLB/1846/09/12/a/BLB-1846-09-12-a-p0002.json',\n",
       " '/scratch/students/rero2/BLB/1846/09/12/a/BLB-1846-09-12-a-p0003.json',\n",
       " '/scratch/students/rero2/BLB/1846/09/12/a/BLB-1846-09-12-a-p0001.json',\n",
       " '/scratch/students/rero2/BLB/1846/09/26/a/BLB-1846-09-26-a-p0003.json',\n",
       " '/scratch/students/rero2/BLB/1846/09/26/a/BLB-1846-09-26-a-p0004.json',\n",
       " '/scratch/students/rero2/BLB/1846/09/26/a/BLB-1846-09-26-a-p0001.json',\n",
       " '/scratch/students/rero2/BLB/1846/09/26/a/BLB-1846-09-26-a-p0002.json',\n",
       " '/scratch/students/rero2/BLB/1846/09/05/a/BLB-1846-09-05-a-p0003.json',\n",
       " '/scratch/students/rero2/BLB/1846/09/05/a/BLB-1846-09-05-a-p0004.json',\n",
       " '/scratch/students/rero2/BLB/1846/09/05/a/BLB-1846-09-05-a-p0001.json',\n",
       " '/scratch/students/rero2/BLB/1846/09/05/a/BLB-1846-09-05-a-p0002.json',\n",
       " '/scratch/students/rero2/BLB/1846/09/19/a/BLB-1846-09-19-a-p0004.json',\n",
       " '/scratch/students/rero2/BLB/1846/09/19/a/BLB-1846-09-19-a-p0001.json',\n",
       " '/scratch/students/rero2/BLB/1846/09/19/a/BLB-1846-09-19-a-p0002.json',\n",
       " '/scratch/students/rero2/BLB/1846/09/19/a/BLB-1846-09-19-a-p0003.json',\n",
       " '/scratch/students/rero2/BLB/1846/12/12/a/BLB-1846-12-12-a-p0001.json',\n",
       " '/scratch/students/rero2/BLB/1846/12/12/a/BLB-1846-12-12-a-p0003.json',\n",
       " '/scratch/students/rero2/BLB/1846/12/12/a/BLB-1846-12-12-a-p0004.json',\n",
       " '/scratch/students/rero2/BLB/1846/12/12/a/BLB-1846-12-12-a-p0002.json',\n",
       " '/scratch/students/rero2/BLB/1846/12/26/a/BLB-1846-12-26-a-p0004.json',\n",
       " '/scratch/students/rero2/BLB/1846/12/26/a/BLB-1846-12-26-a-p0002.json',\n",
       " '/scratch/students/rero2/BLB/1846/12/26/a/BLB-1846-12-26-a-p0001.json',\n",
       " '/scratch/students/rero2/BLB/1846/12/26/a/BLB-1846-12-26-a-p0003.json',\n",
       " '/scratch/students/rero2/BLB/1846/12/05/a/BLB-1846-12-05-a-p0003.json',\n",
       " '/scratch/students/rero2/BLB/1846/12/05/a/BLB-1846-12-05-a-p0001.json',\n",
       " '/scratch/students/rero2/BLB/1846/12/05/a/BLB-1846-12-05-a-p0004.json',\n",
       " '/scratch/students/rero2/BLB/1846/12/05/a/BLB-1846-12-05-a-p0002.json',\n",
       " '/scratch/students/rero2/BLB/1846/12/19/a/BLB-1846-12-19-a-p0001.json',\n",
       " '/scratch/students/rero2/BLB/1846/12/19/a/BLB-1846-12-19-a-p0003.json',\n",
       " '/scratch/students/rero2/BLB/1846/12/19/a/BLB-1846-12-19-a-p0002.json',\n",
       " '/scratch/students/rero2/BLB/1846/12/19/a/BLB-1846-12-19-a-p0004.json',\n",
       " '/scratch/students/rero2/BLB/1846/01/13/a/BLB-1846-01-13-a-p0002.json',\n",
       " '/scratch/students/rero2/BLB/1846/01/13/a/BLB-1846-01-13-a-p0001.json',\n",
       " '/scratch/students/rero2/BLB/1846/01/31/a/BLB-1846-01-31-a-p0001.json',\n",
       " '/scratch/students/rero2/BLB/1846/01/31/a/BLB-1846-01-31-a-p0004.json',\n",
       " '/scratch/students/rero2/BLB/1846/01/31/a/BLB-1846-01-31-a-p0003.json',\n",
       " '/scratch/students/rero2/BLB/1846/01/31/a/BLB-1846-01-31-a-p0002.json',\n",
       " '/scratch/students/rero2/BLB/1846/01/08/a/BLB-1846-01-08-a-p0003.json',\n",
       " '/scratch/students/rero2/BLB/1846/01/08/a/BLB-1846-01-08-a-p0002.json',\n",
       " '/scratch/students/rero2/BLB/1846/01/08/a/BLB-1846-01-08-a-p0004.json',\n",
       " '/scratch/students/rero2/BLB/1846/01/08/a/BLB-1846-01-08-a-p0001.json',\n",
       " '/scratch/students/rero2/BLB/1846/01/17/a/BLB-1846-01-17-a-p0003.json',\n",
       " '/scratch/students/rero2/BLB/1846/01/17/a/BLB-1846-01-17-a-p0001.json',\n",
       " '/scratch/students/rero2/BLB/1846/01/17/a/BLB-1846-01-17-a-p0004.json',\n",
       " '/scratch/students/rero2/BLB/1846/01/17/a/BLB-1846-01-17-a-p0002.json',\n",
       " '/scratch/students/rero2/BLB/1846/01/28/a/BLB-1846-01-28-a-p0002.json',\n",
       " '/scratch/students/rero2/BLB/1846/01/28/a/BLB-1846-01-28-a-p0001.json',\n",
       " '/scratch/students/rero2/BLB/1846/01/24/a/BLB-1846-01-24-a-p0003.json',\n",
       " '/scratch/students/rero2/BLB/1846/01/24/a/BLB-1846-01-24-a-p0002.json',\n",
       " '/scratch/students/rero2/BLB/1846/01/24/a/BLB-1846-01-24-a-p0004.json',\n",
       " '/scratch/students/rero2/BLB/1846/01/24/a/BLB-1846-01-24-a-p0001.json',\n",
       " '/scratch/students/rero2/BLB/1846/05/23/a/BLB-1846-05-23-a-p0002.json',\n",
       " '/scratch/students/rero2/BLB/1846/05/23/a/BLB-1846-05-23-a-p0004.json',\n",
       " '/scratch/students/rero2/BLB/1846/05/23/a/BLB-1846-05-23-a-p0003.json',\n",
       " '/scratch/students/rero2/BLB/1846/05/23/a/BLB-1846-05-23-a-p0001.json',\n",
       " '/scratch/students/rero2/BLB/1846/05/09/a/BLB-1846-05-09-a-p0002.json',\n",
       " '/scratch/students/rero2/BLB/1846/05/09/a/BLB-1846-05-09-a-p0004.json',\n",
       " '/scratch/students/rero2/BLB/1846/05/09/a/BLB-1846-05-09-a-p0003.json',\n",
       " '/scratch/students/rero2/BLB/1846/05/09/a/BLB-1846-05-09-a-p0001.json',\n",
       " '/scratch/students/rero2/BLB/1846/05/16/a/BLB-1846-05-16-a-p0001.json',\n",
       " '/scratch/students/rero2/BLB/1846/05/16/a/BLB-1846-05-16-a-p0003.json',\n",
       " '/scratch/students/rero2/BLB/1846/05/16/a/BLB-1846-05-16-a-p0002.json',\n",
       " '/scratch/students/rero2/BLB/1846/05/16/a/BLB-1846-05-16-a-p0004.json',\n",
       " '/scratch/students/rero2/BLB/1846/05/30/a/BLB-1846-05-30-a-p0003.json',\n",
       " '/scratch/students/rero2/BLB/1846/05/30/a/BLB-1846-05-30-a-p0001.json',\n",
       " '/scratch/students/rero2/BLB/1846/05/30/a/BLB-1846-05-30-a-p0002.json',\n",
       " '/scratch/students/rero2/BLB/1846/05/30/a/BLB-1846-05-30-a-p0004.json',\n",
       " '/scratch/students/rero2/BLB/1846/05/02/a/BLB-1846-05-02-a-p0001.json',\n",
       " '/scratch/students/rero2/BLB/1846/05/02/a/BLB-1846-05-02-a-p0004.json',\n",
       " '/scratch/students/rero2/BLB/1846/05/02/a/BLB-1846-05-02-a-p0003.json',\n",
       " '/scratch/students/rero2/BLB/1846/05/02/a/BLB-1846-05-02-a-p0002.json',\n",
       " '/scratch/students/rero2/BLB/1846/02/07/a/BLB-1846-02-07-a-p0001.json',\n",
       " '/scratch/students/rero2/BLB/1846/02/07/a/BLB-1846-02-07-a-p0004.json',\n",
       " '/scratch/students/rero2/BLB/1846/02/07/a/BLB-1846-02-07-a-p0003.json',\n",
       " '/scratch/students/rero2/BLB/1846/02/07/a/BLB-1846-02-07-a-p0002.json',\n",
       " '/scratch/students/rero2/BLB/1846/02/28/a/BLB-1846-02-28-a-p0003.json',\n",
       " '/scratch/students/rero2/BLB/1846/02/28/a/BLB-1846-02-28-a-p0004.json',\n",
       " '/scratch/students/rero2/BLB/1846/02/28/a/BLB-1846-02-28-a-p0002.json',\n",
       " '/scratch/students/rero2/BLB/1846/02/28/a/BLB-1846-02-28-a-p0001.json',\n",
       " '/scratch/students/rero2/BLB/1846/02/21/a/BLB-1846-02-21-a-p0003.json',\n",
       " '/scratch/students/rero2/BLB/1846/02/21/a/BLB-1846-02-21-a-p0002.json',\n",
       " '/scratch/students/rero2/BLB/1846/02/21/a/BLB-1846-02-21-a-p0001.json',\n",
       " '/scratch/students/rero2/BLB/1846/02/21/a/BLB-1846-02-21-a-p0004.json',\n",
       " '/scratch/students/rero2/BLB/1846/02/14/a/BLB-1846-02-14-a-p0001.json',\n",
       " '/scratch/students/rero2/BLB/1846/02/14/a/BLB-1846-02-14-a-p0003.json',\n",
       " '/scratch/students/rero2/BLB/1846/02/14/a/BLB-1846-02-14-a-p0004.json',\n",
       " '/scratch/students/rero2/BLB/1846/02/14/a/BLB-1846-02-14-a-p0002.json',\n",
       " '/scratch/students/rero2/BLB/1846/03/07/a/BLB-1846-03-07-a-p0003.json',\n",
       " '/scratch/students/rero2/BLB/1846/03/07/a/BLB-1846-03-07-a-p0002.json',\n",
       " '/scratch/students/rero2/BLB/1846/03/07/a/BLB-1846-03-07-a-p0001.json',\n",
       " '/scratch/students/rero2/BLB/1846/03/07/a/BLB-1846-03-07-a-p0004.json',\n",
       " '/scratch/students/rero2/BLB/1846/03/28/a/BLB-1846-03-28-a-p0004.json',\n",
       " '/scratch/students/rero2/BLB/1846/03/28/a/BLB-1846-03-28-a-p0001.json',\n",
       " '/scratch/students/rero2/BLB/1846/03/28/a/BLB-1846-03-28-a-p0003.json',\n",
       " '/scratch/students/rero2/BLB/1846/03/28/a/BLB-1846-03-28-a-p0002.json',\n",
       " '/scratch/students/rero2/BLB/1846/03/21/a/BLB-1846-03-21-a-p0001.json',\n",
       " '/scratch/students/rero2/BLB/1846/03/21/a/BLB-1846-03-21-a-p0002.json',\n",
       " '/scratch/students/rero2/BLB/1846/03/21/a/BLB-1846-03-21-a-p0004.json',\n",
       " '/scratch/students/rero2/BLB/1846/03/21/a/BLB-1846-03-21-a-p0003.json',\n",
       " '/scratch/students/rero2/BLB/1846/03/14/a/BLB-1846-03-14-a-p0002.json',\n",
       " '/scratch/students/rero2/BLB/1846/03/14/a/BLB-1846-03-14-a-p0004.json',\n",
       " '/scratch/students/rero2/BLB/1846/03/14/a/BLB-1846-03-14-a-p0001.json',\n",
       " '/scratch/students/rero2/BLB/1846/03/14/a/BLB-1846-03-14-a-p0003.json',\n",
       " '/scratch/students/rero2/BLB/1846/10/31/a/BLB-1846-10-31-a-p0003.json',\n",
       " '/scratch/students/rero2/BLB/1846/10/31/a/BLB-1846-10-31-a-p0004.json',\n",
       " '/scratch/students/rero2/BLB/1846/10/31/a/BLB-1846-10-31-a-p0002.json',\n",
       " '/scratch/students/rero2/BLB/1846/10/31/a/BLB-1846-10-31-a-p0001.json',\n",
       " '/scratch/students/rero2/BLB/1846/10/17/a/BLB-1846-10-17-a-p0003.json',\n",
       " '/scratch/students/rero2/BLB/1846/10/17/a/BLB-1846-10-17-a-p0001.json',\n",
       " '/scratch/students/rero2/BLB/1846/10/17/a/BLB-1846-10-17-a-p0002.json',\n",
       " '/scratch/students/rero2/BLB/1846/10/17/a/BLB-1846-10-17-a-p0004.json',\n",
       " '/scratch/students/rero2/BLB/1846/10/03/a/BLB-1846-10-03-a-p0004.json',\n",
       " '/scratch/students/rero2/BLB/1846/10/03/a/BLB-1846-10-03-a-p0003.json',\n",
       " '/scratch/students/rero2/BLB/1846/10/03/a/BLB-1846-10-03-a-p0001.json',\n",
       " '/scratch/students/rero2/BLB/1846/10/03/a/BLB-1846-10-03-a-p0002.json',\n",
       " '/scratch/students/rero2/BLB/1846/10/10/a/BLB-1846-10-10-a-p0003.json',\n",
       " '/scratch/students/rero2/BLB/1846/10/10/a/BLB-1846-10-10-a-p0004.json',\n",
       " '/scratch/students/rero2/BLB/1846/10/10/a/BLB-1846-10-10-a-p0002.json',\n",
       " '/scratch/students/rero2/BLB/1846/10/10/a/BLB-1846-10-10-a-p0001.json',\n",
       " '/scratch/students/rero2/BLB/1846/10/24/a/BLB-1846-10-24-a-p0001.json',\n",
       " '/scratch/students/rero2/BLB/1846/10/24/a/BLB-1846-10-24-a-p0004.json',\n",
       " '/scratch/students/rero2/BLB/1846/10/24/a/BLB-1846-10-24-a-p0002.json',\n",
       " '/scratch/students/rero2/BLB/1846/10/24/a/BLB-1846-10-24-a-p0003.json',\n",
       " '/scratch/students/rero2/BLB/1847/06/12/a/BLB-1847-06-12-a-p0004.json',\n",
       " '/scratch/students/rero2/BLB/1847/06/12/a/BLB-1847-06-12-a-p0003.json',\n",
       " '/scratch/students/rero2/BLB/1847/06/12/a/BLB-1847-06-12-a-p0001.json',\n",
       " '/scratch/students/rero2/BLB/1847/06/12/a/BLB-1847-06-12-a-p0002.json',\n",
       " '/scratch/students/rero2/BLB/1847/06/26/a/BLB-1847-06-26-a-p0001.json',\n",
       " '/scratch/students/rero2/BLB/1847/06/26/a/BLB-1847-06-26-a-p0004.json',\n",
       " '/scratch/students/rero2/BLB/1847/06/26/a/BLB-1847-06-26-a-p0002.json',\n",
       " '/scratch/students/rero2/BLB/1847/06/26/a/BLB-1847-06-26-a-p0003.json',\n",
       " '/scratch/students/rero2/BLB/1847/06/05/a/BLB-1847-06-05-a-p0001.json',\n",
       " '/scratch/students/rero2/BLB/1847/06/05/a/BLB-1847-06-05-a-p0002.json',\n",
       " '/scratch/students/rero2/BLB/1847/06/05/a/BLB-1847-06-05-a-p0003.json',\n",
       " '/scratch/students/rero2/BLB/1847/06/05/a/BLB-1847-06-05-a-p0004.json',\n",
       " '/scratch/students/rero2/BLB/1847/06/19/a/BLB-1847-06-19-a-p0004.json',\n",
       " '/scratch/students/rero2/BLB/1847/06/19/a/BLB-1847-06-19-a-p0002.json',\n",
       " '/scratch/students/rero2/BLB/1847/06/19/a/BLB-1847-06-19-a-p0003.json',\n",
       " '/scratch/students/rero2/BLB/1847/06/19/a/BLB-1847-06-19-a-p0001.json',\n",
       " '/scratch/students/rero2/BLB/1847/11/06/a/BLB-1847-11-06-a-p0002.json',\n",
       " '/scratch/students/rero2/BLB/1847/11/06/a/BLB-1847-11-06-a-p0003.json',\n",
       " '/scratch/students/rero2/BLB/1847/11/06/a/BLB-1847-11-06-a-p0004.json',\n",
       " '/scratch/students/rero2/BLB/1847/11/06/a/BLB-1847-11-06-a-p0001.json',\n",
       " '/scratch/students/rero2/BLB/1847/11/13/a/BLB-1847-11-13-a-p0001.json',\n",
       " '/scratch/students/rero2/BLB/1847/11/13/a/BLB-1847-11-13-a-p0004.json',\n",
       " '/scratch/students/rero2/BLB/1847/11/13/a/BLB-1847-11-13-a-p0002.json',\n",
       " '/scratch/students/rero2/BLB/1847/11/13/a/BLB-1847-11-13-a-p0003.json',\n",
       " '/scratch/students/rero2/BLB/1847/11/17/a/BLB-1847-11-17-a-p0003.json',\n",
       " '/scratch/students/rero2/BLB/1847/11/17/a/BLB-1847-11-17-a-p0001.json',\n",
       " '/scratch/students/rero2/BLB/1847/11/17/a/BLB-1847-11-17-a-p0002.json',\n",
       " '/scratch/students/rero2/BLB/1847/11/20/a/BLB-1847-11-20-a-p0001.json',\n",
       " '/scratch/students/rero2/BLB/1847/11/20/a/BLB-1847-11-20-a-p0003.json',\n",
       " '/scratch/students/rero2/BLB/1847/11/20/a/BLB-1847-11-20-a-p0002.json',\n",
       " '/scratch/students/rero2/BLB/1847/11/20/a/BLB-1847-11-20-a-p0004.json',\n",
       " '/scratch/students/rero2/BLB/1847/11/27/a/BLB-1847-11-27-a-p0001.json',\n",
       " '/scratch/students/rero2/BLB/1847/11/27/a/BLB-1847-11-27-a-p0002.json',\n",
       " '/scratch/students/rero2/BLB/1847/11/24/a/BLB-1847-11-24-a-p0002.json',\n",
       " '/scratch/students/rero2/BLB/1847/11/24/a/BLB-1847-11-24-a-p0001.json',\n",
       " '/scratch/students/rero2/BLB/1847/08/07/a/BLB-1847-08-07-a-p0003.json',\n",
       " '/scratch/students/rero2/BLB/1847/08/07/a/BLB-1847-08-07-a-p0002.json',\n",
       " '/scratch/students/rero2/BLB/1847/08/07/a/BLB-1847-08-07-a-p0001.json',\n",
       " '/scratch/students/rero2/BLB/1847/08/07/a/BLB-1847-08-07-a-p0004.json',\n",
       " '/scratch/students/rero2/BLB/1847/08/28/a/BLB-1847-08-28-a-p0002.json',\n",
       " '/scratch/students/rero2/BLB/1847/08/28/a/BLB-1847-08-28-a-p0003.json',\n",
       " '/scratch/students/rero2/BLB/1847/08/28/a/BLB-1847-08-28-a-p0004.json',\n",
       " '/scratch/students/rero2/BLB/1847/08/28/a/BLB-1847-08-28-a-p0001.json',\n",
       " '/scratch/students/rero2/BLB/1847/08/21/a/BLB-1847-08-21-a-p0005.json',\n",
       " '/scratch/students/rero2/BLB/1847/08/21/a/BLB-1847-08-21-a-p0006.json',\n",
       " '/scratch/students/rero2/BLB/1847/08/21/a/BLB-1847-08-21-a-p0002.json',\n",
       " '/scratch/students/rero2/BLB/1847/08/21/a/BLB-1847-08-21-a-p0003.json',\n",
       " '/scratch/students/rero2/BLB/1847/08/21/a/BLB-1847-08-21-a-p0004.json',\n",
       " '/scratch/students/rero2/BLB/1847/08/21/a/BLB-1847-08-21-a-p0001.json',\n",
       " '/scratch/students/rero2/BLB/1847/08/14/a/BLB-1847-08-14-a-p0003.json',\n",
       " '/scratch/students/rero2/BLB/1847/08/14/a/BLB-1847-08-14-a-p0001.json',\n",
       " '/scratch/students/rero2/BLB/1847/08/14/a/BLB-1847-08-14-a-p0002.json',\n",
       " '/scratch/students/rero2/BLB/1847/08/14/a/BLB-1847-08-14-a-p0004.json',\n",
       " '/scratch/students/rero2/BLB/1847/07/31/a/BLB-1847-07-31-a-p0004.json',\n",
       " '/scratch/students/rero2/BLB/1847/07/31/a/BLB-1847-07-31-a-p0001.json',\n",
       " '/scratch/students/rero2/BLB/1847/07/31/a/BLB-1847-07-31-a-p0003.json',\n",
       " '/scratch/students/rero2/BLB/1847/07/31/a/BLB-1847-07-31-a-p0002.json',\n",
       " '/scratch/students/rero2/BLB/1847/07/17/a/BLB-1847-07-17-a-p0003.json',\n",
       " '/scratch/students/rero2/BLB/1847/07/17/a/BLB-1847-07-17-a-p0002.json',\n",
       " '/scratch/students/rero2/BLB/1847/07/17/a/BLB-1847-07-17-a-p0001.json',\n",
       " '/scratch/students/rero2/BLB/1847/07/17/a/BLB-1847-07-17-a-p0004.json',\n",
       " '/scratch/students/rero2/BLB/1847/07/03/a/BLB-1847-07-03-a-p0002.json',\n",
       " '/scratch/students/rero2/BLB/1847/07/03/a/BLB-1847-07-03-a-p0003.json',\n",
       " '/scratch/students/rero2/BLB/1847/07/03/a/BLB-1847-07-03-a-p0001.json',\n",
       " '/scratch/students/rero2/BLB/1847/07/03/a/BLB-1847-07-03-a-p0004.json',\n",
       " '/scratch/students/rero2/BLB/1847/07/10/a/BLB-1847-07-10-a-p0004.json',\n",
       " '/scratch/students/rero2/BLB/1847/07/10/a/BLB-1847-07-10-a-p0001.json',\n",
       " '/scratch/students/rero2/BLB/1847/07/10/a/BLB-1847-07-10-a-p0003.json',\n",
       " '/scratch/students/rero2/BLB/1847/07/10/a/BLB-1847-07-10-a-p0002.json',\n",
       " '/scratch/students/rero2/BLB/1847/07/24/a/BLB-1847-07-24-a-p0003.json',\n",
       " '/scratch/students/rero2/BLB/1847/07/24/a/BLB-1847-07-24-a-p0002.json',\n",
       " '/scratch/students/rero2/BLB/1847/07/24/a/BLB-1847-07-24-a-p0004.json',\n",
       " '/scratch/students/rero2/BLB/1847/07/24/a/BLB-1847-07-24-a-p0001.json',\n",
       " '/scratch/students/rero2/BLB/1847/04/17/a/BLB-1847-04-17-a-p0003.json',\n",
       " '/scratch/students/rero2/BLB/1847/04/17/a/BLB-1847-04-17-a-p0001.json',\n",
       " '/scratch/students/rero2/BLB/1847/04/17/a/BLB-1847-04-17-a-p0002.json',\n",
       " '/scratch/students/rero2/BLB/1847/04/17/a/BLB-1847-04-17-a-p0004.json',\n",
       " '/scratch/students/rero2/BLB/1847/04/03/a/BLB-1847-04-03-a-p0004.json',\n",
       " '/scratch/students/rero2/BLB/1847/04/03/a/BLB-1847-04-03-a-p0001.json',\n",
       " '/scratch/students/rero2/BLB/1847/04/03/a/BLB-1847-04-03-a-p0002.json',\n",
       " '/scratch/students/rero2/BLB/1847/04/03/a/BLB-1847-04-03-a-p0003.json',\n",
       " '/scratch/students/rero2/BLB/1847/04/10/a/BLB-1847-04-10-a-p0001.json',\n",
       " '/scratch/students/rero2/BLB/1847/04/10/a/BLB-1847-04-10-a-p0002.json',\n",
       " '/scratch/students/rero2/BLB/1847/04/10/a/BLB-1847-04-10-a-p0003.json',\n",
       " '/scratch/students/rero2/BLB/1847/04/10/a/BLB-1847-04-10-a-p0004.json',\n",
       " '/scratch/students/rero2/BLB/1847/04/24/a/BLB-1847-04-24-a-p0003.json',\n",
       " '/scratch/students/rero2/BLB/1847/04/24/a/BLB-1847-04-24-a-p0002.json',\n",
       " '/scratch/students/rero2/BLB/1847/04/24/a/BLB-1847-04-24-a-p0004.json',\n",
       " '/scratch/students/rero2/BLB/1847/04/24/a/BLB-1847-04-24-a-p0001.json',\n",
       " '/scratch/students/rero2/BLB/1847/09/18/a/BLB-1847-09-18-a-p0001.json',\n",
       " '/scratch/students/rero2/BLB/1847/09/18/a/BLB-1847-09-18-a-p0004.json',\n",
       " '/scratch/students/rero2/BLB/1847/09/18/a/BLB-1847-09-18-a-p0003.json',\n",
       " '/scratch/students/rero2/BLB/1847/09/18/a/BLB-1847-09-18-a-p0002.json',\n",
       " '/scratch/students/rero2/BLB/1847/09/11/a/BLB-1847-09-11-a-p0001.json',\n",
       " '/scratch/students/rero2/BLB/1847/09/11/a/BLB-1847-09-11-a-p0003.json',\n",
       " '/scratch/students/rero2/BLB/1847/09/11/a/BLB-1847-09-11-a-p0002.json',\n",
       " '/scratch/students/rero2/BLB/1847/09/11/a/BLB-1847-09-11-a-p0004.json',\n",
       " '/scratch/students/rero2/BLB/1847/09/04/a/BLB-1847-09-04-a-p0001.json',\n",
       " '/scratch/students/rero2/BLB/1847/09/04/a/BLB-1847-09-04-a-p0003.json',\n",
       " '/scratch/students/rero2/BLB/1847/09/04/a/BLB-1847-09-04-a-p0004.json',\n",
       " '/scratch/students/rero2/BLB/1847/09/04/a/BLB-1847-09-04-a-p0002.json',\n",
       " '/scratch/students/rero2/BLB/1847/09/25/a/BLB-1847-09-25-a-p0004.json',\n",
       " '/scratch/students/rero2/BLB/1847/09/25/a/BLB-1847-09-25-a-p0003.json',\n",
       " '/scratch/students/rero2/BLB/1847/09/25/a/BLB-1847-09-25-a-p0002.json',\n",
       " '/scratch/students/rero2/BLB/1847/09/25/a/BLB-1847-09-25-a-p0001.json',\n",
       " '/scratch/students/rero2/BLB/1847/12/18/a/BLB-1847-12-18-a-p0002.json',\n",
       " '/scratch/students/rero2/BLB/1847/12/18/a/BLB-1847-12-18-a-p0001.json',\n",
       " '/scratch/students/rero2/BLB/1847/12/18/a/BLB-1847-12-18-a-p0003.json',\n",
       " '/scratch/students/rero2/BLB/1847/12/18/a/BLB-1847-12-18-a-p0004.json',\n",
       " '/scratch/students/rero2/BLB/1847/12/11/a/BLB-1847-12-11-a-p0003.json',\n",
       " '/scratch/students/rero2/BLB/1847/12/11/a/BLB-1847-12-11-a-p0002.json',\n",
       " '/scratch/students/rero2/BLB/1847/12/11/a/BLB-1847-12-11-a-p0001.json',\n",
       " '/scratch/students/rero2/BLB/1847/12/11/a/BLB-1847-12-11-a-p0004.json',\n",
       " '/scratch/students/rero2/BLB/1847/12/08/a/BLB-1847-12-08-a-p0002.json',\n",
       " '/scratch/students/rero2/BLB/1847/12/08/a/BLB-1847-12-08-a-p0001.json',\n",
       " '/scratch/students/rero2/BLB/1847/12/15/a/BLB-1847-12-15-a-p0001.json',\n",
       " '/scratch/students/rero2/BLB/1847/12/15/a/BLB-1847-12-15-a-p0002.json',\n",
       " '/scratch/students/rero2/BLB/1847/12/04/a/BLB-1847-12-04-a-p0004.json',\n",
       " '/scratch/students/rero2/BLB/1847/12/04/a/BLB-1847-12-04-a-p0002.json',\n",
       " '/scratch/students/rero2/BLB/1847/12/04/a/BLB-1847-12-04-a-p0003.json',\n",
       " '/scratch/students/rero2/BLB/1847/12/04/a/BLB-1847-12-04-a-p0001.json',\n",
       " '/scratch/students/rero2/BLB/1847/12/01/a/BLB-1847-12-01-a-p0001.json',\n",
       " '/scratch/students/rero2/BLB/1847/12/01/a/BLB-1847-12-01-a-p0002.json',\n",
       " '/scratch/students/rero2/BLB/1847/12/25/a/BLB-1847-12-25-a-p0002.json',\n",
       " '/scratch/students/rero2/BLB/1847/12/25/a/BLB-1847-12-25-a-p0004.json',\n",
       " '/scratch/students/rero2/BLB/1847/12/25/a/BLB-1847-12-25-a-p0001.json',\n",
       " '/scratch/students/rero2/BLB/1847/12/25/a/BLB-1847-12-25-a-p0003.json',\n",
       " '/scratch/students/rero2/BLB/1847/01/23/a/BLB-1847-01-23-a-p0001.json',\n",
       " '/scratch/students/rero2/BLB/1847/01/23/a/BLB-1847-01-23-a-p0002.json',\n",
       " '/scratch/students/rero2/BLB/1847/01/23/a/BLB-1847-01-23-a-p0003.json',\n",
       " '/scratch/students/rero2/BLB/1847/01/23/a/BLB-1847-01-23-a-p0004.json',\n",
       " '/scratch/students/rero2/BLB/1847/01/09/a/BLB-1847-01-09-a-p0003.json',\n",
       " '/scratch/students/rero2/BLB/1847/01/09/a/BLB-1847-01-09-a-p0001.json',\n",
       " '/scratch/students/rero2/BLB/1847/01/09/a/BLB-1847-01-09-a-p0004.json',\n",
       " '/scratch/students/rero2/BLB/1847/01/09/a/BLB-1847-01-09-a-p0002.json',\n",
       " '/scratch/students/rero2/BLB/1847/01/16/a/BLB-1847-01-16-a-p0004.json',\n",
       " '/scratch/students/rero2/BLB/1847/01/16/a/BLB-1847-01-16-a-p0002.json',\n",
       " '/scratch/students/rero2/BLB/1847/01/16/a/BLB-1847-01-16-a-p0001.json',\n",
       " '/scratch/students/rero2/BLB/1847/01/16/a/BLB-1847-01-16-a-p0003.json',\n",
       " '/scratch/students/rero2/BLB/1847/01/30/a/BLB-1847-01-30-a-p0001.json',\n",
       " '/scratch/students/rero2/BLB/1847/01/30/a/BLB-1847-01-30-a-p0003.json',\n",
       " '/scratch/students/rero2/BLB/1847/01/30/a/BLB-1847-01-30-a-p0004.json',\n",
       " '/scratch/students/rero2/BLB/1847/01/30/a/BLB-1847-01-30-a-p0002.json',\n",
       " '/scratch/students/rero2/BLB/1847/01/02/a/BLB-1847-01-02-a-p0004.json',\n",
       " '/scratch/students/rero2/BLB/1847/01/02/a/BLB-1847-01-02-a-p0003.json',\n",
       " '/scratch/students/rero2/BLB/1847/01/02/a/BLB-1847-01-02-a-p0001.json',\n",
       " '/scratch/students/rero2/BLB/1847/01/02/a/BLB-1847-01-02-a-p0002.json',\n",
       " '/scratch/students/rero2/BLB/1847/05/08/a/BLB-1847-05-08-a-p0001.json',\n",
       " '/scratch/students/rero2/BLB/1847/05/08/a/BLB-1847-05-08-a-p0003.json',\n",
       " '/scratch/students/rero2/BLB/1847/05/08/a/BLB-1847-05-08-a-p0002.json',\n",
       " '/scratch/students/rero2/BLB/1847/05/08/a/BLB-1847-05-08-a-p0004.json',\n",
       " '/scratch/students/rero2/BLB/1847/05/29/a/BLB-1847-05-29-a-p0002.json',\n",
       " '/scratch/students/rero2/BLB/1847/05/29/a/BLB-1847-05-29-a-p0001.json',\n",
       " '/scratch/students/rero2/BLB/1847/05/29/a/BLB-1847-05-29-a-p0004.json',\n",
       " '/scratch/students/rero2/BLB/1847/05/29/a/BLB-1847-05-29-a-p0003.json',\n",
       " '/scratch/students/rero2/BLB/1847/05/15/a/BLB-1847-05-15-a-p0003.json',\n",
       " '/scratch/students/rero2/BLB/1847/05/15/a/BLB-1847-05-15-a-p0001.json',\n",
       " '/scratch/students/rero2/BLB/1847/05/15/a/BLB-1847-05-15-a-p0002.json',\n",
       " '/scratch/students/rero2/BLB/1847/05/15/a/BLB-1847-05-15-a-p0004.json',\n",
       " '/scratch/students/rero2/BLB/1847/05/01/a/BLB-1847-05-01-a-p0003.json',\n",
       " '/scratch/students/rero2/BLB/1847/05/01/a/BLB-1847-05-01-a-p0004.json',\n",
       " '/scratch/students/rero2/BLB/1847/05/01/a/BLB-1847-05-01-a-p0002.json',\n",
       " '/scratch/students/rero2/BLB/1847/05/01/a/BLB-1847-05-01-a-p0001.json',\n",
       " '/scratch/students/rero2/BLB/1847/05/22/a/BLB-1847-05-22-a-p0002.json',\n",
       " '/scratch/students/rero2/BLB/1847/05/22/a/BLB-1847-05-22-a-p0003.json',\n",
       " '/scratch/students/rero2/BLB/1847/05/22/a/BLB-1847-05-22-a-p0001.json',\n",
       " '/scratch/students/rero2/BLB/1847/05/22/a/BLB-1847-05-22-a-p0004.json',\n",
       " '/scratch/students/rero2/BLB/1847/02/06/a/BLB-1847-02-06-a-p0004.json',\n",
       " '/scratch/students/rero2/BLB/1847/02/06/a/BLB-1847-02-06-a-p0002.json',\n",
       " '/scratch/students/rero2/BLB/1847/02/06/a/BLB-1847-02-06-a-p0001.json',\n",
       " '/scratch/students/rero2/BLB/1847/02/06/a/BLB-1847-02-06-a-p0003.json',\n",
       " '/scratch/students/rero2/BLB/1847/02/13/a/BLB-1847-02-13-a-p0001.json',\n",
       " '/scratch/students/rero2/BLB/1847/02/13/a/BLB-1847-02-13-a-p0003.json',\n",
       " '/scratch/students/rero2/BLB/1847/02/13/a/BLB-1847-02-13-a-p0002.json',\n",
       " '/scratch/students/rero2/BLB/1847/02/13/a/BLB-1847-02-13-a-p0004.json',\n",
       " '/scratch/students/rero2/BLB/1847/02/20/a/BLB-1847-02-20-a-p0002.json',\n",
       " '/scratch/students/rero2/BLB/1847/02/20/a/BLB-1847-02-20-a-p0003.json',\n",
       " '/scratch/students/rero2/BLB/1847/02/20/a/BLB-1847-02-20-a-p0004.json',\n",
       " '/scratch/students/rero2/BLB/1847/02/20/a/BLB-1847-02-20-a-p0001.json',\n",
       " '/scratch/students/rero2/BLB/1847/02/27/a/BLB-1847-02-27-a-p0003.json',\n",
       " '/scratch/students/rero2/BLB/1847/02/27/a/BLB-1847-02-27-a-p0004.json',\n",
       " '/scratch/students/rero2/BLB/1847/02/27/a/BLB-1847-02-27-a-p0001.json',\n",
       " '/scratch/students/rero2/BLB/1847/02/27/a/BLB-1847-02-27-a-p0002.json',\n",
       " '/scratch/students/rero2/BLB/1847/03/06/a/BLB-1847-03-06-a-p0002.json',\n",
       " '/scratch/students/rero2/BLB/1847/03/06/a/BLB-1847-03-06-a-p0004.json',\n",
       " '/scratch/students/rero2/BLB/1847/03/06/a/BLB-1847-03-06-a-p0003.json',\n",
       " '/scratch/students/rero2/BLB/1847/03/06/a/BLB-1847-03-06-a-p0001.json',\n",
       " '/scratch/students/rero2/BLB/1847/03/13/a/BLB-1847-03-13-a-p0003.json',\n",
       " '/scratch/students/rero2/BLB/1847/03/13/a/BLB-1847-03-13-a-p0001.json',\n",
       " '/scratch/students/rero2/BLB/1847/03/13/a/BLB-1847-03-13-a-p0002.json',\n",
       " '/scratch/students/rero2/BLB/1847/03/13/a/BLB-1847-03-13-a-p0004.json',\n",
       " '/scratch/students/rero2/BLB/1847/03/20/a/BLB-1847-03-20-a-p0004.json',\n",
       " '/scratch/students/rero2/BLB/1847/03/20/a/BLB-1847-03-20-a-p0001.json',\n",
       " '/scratch/students/rero2/BLB/1847/03/20/a/BLB-1847-03-20-a-p0003.json',\n",
       " '/scratch/students/rero2/BLB/1847/03/20/a/BLB-1847-03-20-a-p0002.json',\n",
       " '/scratch/students/rero2/BLB/1847/03/27/a/BLB-1847-03-27-a-p0004.json',\n",
       " '/scratch/students/rero2/BLB/1847/03/27/a/BLB-1847-03-27-a-p0003.json',\n",
       " '/scratch/students/rero2/BLB/1847/03/27/a/BLB-1847-03-27-a-p0002.json',\n",
       " '/scratch/students/rero2/BLB/1847/03/27/a/BLB-1847-03-27-a-p0001.json',\n",
       " '/scratch/students/rero2/BLB/1847/10/23/a/BLB-1847-10-23-a-p0001.json',\n",
       " '/scratch/students/rero2/BLB/1847/10/23/a/BLB-1847-10-23-a-p0004.json',\n",
       " '/scratch/students/rero2/BLB/1847/10/23/a/BLB-1847-10-23-a-p0003.json',\n",
       " '/scratch/students/rero2/BLB/1847/10/23/a/BLB-1847-10-23-a-p0002.json',\n",
       " '/scratch/students/rero2/BLB/1847/10/09/a/BLB-1847-10-09-a-p0001.json',\n",
       " '/scratch/students/rero2/BLB/1847/10/09/a/BLB-1847-10-09-a-p0003.json',\n",
       " '/scratch/students/rero2/BLB/1847/10/09/a/BLB-1847-10-09-a-p0004.json',\n",
       " '/scratch/students/rero2/BLB/1847/10/09/a/BLB-1847-10-09-a-p0002.json',\n",
       " '/scratch/students/rero2/BLB/1847/10/16/a/BLB-1847-10-16-a-p0001.json',\n",
       " '/scratch/students/rero2/BLB/1847/10/16/a/BLB-1847-10-16-a-p0003.json',\n",
       " '/scratch/students/rero2/BLB/1847/10/16/a/BLB-1847-10-16-a-p0002.json',\n",
       " '/scratch/students/rero2/BLB/1847/10/16/a/BLB-1847-10-16-a-p0004.json',\n",
       " '/scratch/students/rero2/BLB/1847/10/30/a/BLB-1847-10-30-a-p0003.json',\n",
       " '/scratch/students/rero2/BLB/1847/10/30/a/BLB-1847-10-30-a-p0002.json',\n",
       " '/scratch/students/rero2/BLB/1847/10/30/a/BLB-1847-10-30-a-p0004.json',\n",
       " '/scratch/students/rero2/BLB/1847/10/30/a/BLB-1847-10-30-a-p0001.json',\n",
       " '/scratch/students/rero2/BLB/1847/10/02/a/BLB-1847-10-02-a-p0001.json',\n",
       " '/scratch/students/rero2/BLB/1847/10/02/a/BLB-1847-10-02-a-p0003.json',\n",
       " '/scratch/students/rero2/BLB/1847/10/02/a/BLB-1847-10-02-a-p0004.json',\n",
       " '/scratch/students/rero2/BLB/1847/10/02/a/BLB-1847-10-02-a-p0002.json']"
      ]
     },
     "execution_count": 21,
     "metadata": {},
     "output_type": "execute_result"
    }
   ],
   "source": [
    "page_files"
   ]
  },
  {
   "cell_type": "code",
   "execution_count": null,
   "metadata": {},
   "outputs": [],
   "source": []
  },
  {
   "cell_type": "code",
   "execution_count": 26,
   "metadata": {
    "code_folding": [],
    "scrolled": true
   },
   "outputs": [],
   "source": [
    "import os\n",
    "import json\n",
    "from random import randint, shuffle\n",
    "\n",
    "def select_random_index(objects):\n",
    "    shuffle(objects)\n",
    "    total_objects = len(objects)\n",
    "    index = randint(0, len(objects) - 1)\n",
    "    return index\n",
    "\n",
    "def select_random_token(page_file):\n",
    "    with open(page_file) as json_file:  \n",
    "        page_json = json.load(json_file)\n",
    "        total_regions = len(page_json['r'])\n",
    "        region = page_json['r'][randint(0, total_regions - 1)]\n",
    "        total_paragraphs = len(region['p'])\n",
    "        paragraph = region['p'][randint(0, total_paragraphs - 1)]\n",
    "        total_lines = len(paragraph['l'])\n",
    "        line = paragraph['l'][randint(0, total_lines - 1)]\n",
    "        total_tokens = len(line['t'])\n",
    "        token = line['t'][randint(0, total_tokens - 1)]\n",
    "        return token\n",
    "    \n",
    "def select_random_region(page_file):\n",
    "    with open(page_file) as json_file:  \n",
    "        page_json = json.load(json_file)\n",
    "        total_regions = len(page_json['r'])\n",
    "        region = page_json['r'][randint(0, total_regions - 1)]\n",
    "        return region\n",
    "\n",
    "def get_link(page_name, coordinates):\n",
    "    link = get_iiif_url(page_name, \" \".join([str(i) for i in coordinates]))\n",
    "    return link\n",
    "\n",
    "def get_image(page_name, coordinates, user=\"epfl-team\", pwd=\"_pYmypGG#+N;6{3U\"):\n",
    "    link = get_iiif_url(page_name, \" \".join([str(i) for i in coordinates]))\n",
    "    return requests.get(link, auth=HTTPBasicAuth(user, pwd)).content\n",
    "    "
   ]
  },
  {
   "cell_type": "code",
   "execution_count": 27,
   "metadata": {
    "scrolled": false
   },
   "outputs": [
    {
     "name": "stdout",
     "output_type": "stream",
     "text": [
      "ranon \t\t\t\t\t// (LLE-1939-03-04-a-p0005) ([2807, 1025, 90, 48])\n"
     ]
    },
    {
     "data": {
      "text/html": [
       "<img src=\"http://dhlabsrv17.epfl.ch/iiif_impresso/LLE-1939-03-04-a-p0005/2807,1025,90,48/full/0/default.jpg\"/>"
      ],
      "text/plain": [
       "<IPython.core.display.Image object>"
      ]
     },
     "metadata": {},
     "output_type": "display_data"
    },
    {
     "name": "stdout",
     "output_type": "stream",
     "text": [
      "-----------------\n",
      "\n",
      "explosion \t\t\t\t\t// (LLE-1939-03-04-a-p0005) ([1693, 4549, 161, 48])\n"
     ]
    },
    {
     "data": {
      "text/html": [
       "<img src=\"http://dhlabsrv17.epfl.ch/iiif_impresso/LLE-1939-03-04-a-p0005/1693,4549,161,48/full/0/default.jpg\"/>"
      ],
      "text/plain": [
       "<IPython.core.display.Image object>"
      ]
     },
     "metadata": {},
     "output_type": "display_data"
    },
    {
     "name": "stdout",
     "output_type": "stream",
     "text": [
      "-----------------\n",
      "\n",
      "ItUlfIMDIUlt \t\t\t\t\t// (LLE-1987-07-14-a-p0004) ([2899, 2379, 393, 98])\n"
     ]
    },
    {
     "data": {
      "text/html": [
       "<img src=\"http://dhlabsrv17.epfl.ch/iiif_impresso/LLE-1987-07-14-a-p0004/2899,2379,393,98/full/0/default.jpg\"/>"
      ],
      "text/plain": [
       "<IPython.core.display.Image object>"
      ]
     },
     "metadata": {},
     "output_type": "display_data"
    },
    {
     "name": "stdout",
     "output_type": "stream",
     "text": [
      "-----------------\n",
      "\n",
      "a \t\t\t\t\t// (LLE-1987-07-14-a-p0004) ([1997, 4611, 52, 98])\n"
     ]
    },
    {
     "data": {
      "text/html": [
       "<img src=\"http://dhlabsrv17.epfl.ch/iiif_impresso/LLE-1987-07-14-a-p0004/1997,4611,52,98/full/0/default.jpg\"/>"
      ],
      "text/plain": [
       "<IPython.core.display.Image object>"
      ]
     },
     "metadata": {},
     "output_type": "display_data"
    },
    {
     "name": "stdout",
     "output_type": "stream",
     "text": [
      "-----------------\n",
      "\n",
      "empty range for randrange() (0,0, 0)\n",
      "empty range for randrange() (0,0, 0)\n",
      "empty range for randrange() (0,0, 0)\n",
      "^^ \t\t\t\t\t// (LLE-1994-11-05-a-p0040) ([2242, 2600, 290, 271])\n"
     ]
    },
    {
     "data": {
      "text/html": [
       "<img src=\"http://dhlabsrv17.epfl.ch/iiif_impresso/LLE-1994-11-05-a-p0040/2242,2600,290,271/full/0/default.jpg\"/>"
      ],
      "text/plain": [
       "<IPython.core.display.Image object>"
      ]
     },
     "metadata": {},
     "output_type": "display_data"
    },
    {
     "name": "stdout",
     "output_type": "stream",
     "text": [
      "-----------------\n",
      "\n",
      "nements \t\t\t\t\t// (LLE-1874-01-21-a-p0001) ([56, 1493, 109, 43])\n"
     ]
    },
    {
     "data": {
      "text/html": [
       "<img src=\"http://dhlabsrv17.epfl.ch/iiif_impresso/LLE-1874-01-21-a-p0001/56,1493,109,43/full/0/default.jpg\"/>"
      ],
      "text/plain": [
       "<IPython.core.display.Image object>"
      ]
     },
     "metadata": {},
     "output_type": "display_data"
    },
    {
     "name": "stdout",
     "output_type": "stream",
     "text": [
      "-----------------\n",
      "\n",
      "jo \t\t\t\t\t// (LLE-1874-01-21-a-p0001) ([2203, 3541, 21, 43])\n"
     ]
    },
    {
     "data": {
      "text/html": [
       "<img src=\"http://dhlabsrv17.epfl.ch/iiif_impresso/LLE-1874-01-21-a-p0001/2203,3541,21,43/full/0/default.jpg\"/>"
      ],
      "text/plain": [
       "<IPython.core.display.Image object>"
      ]
     },
     "metadata": {},
     "output_type": "display_data"
    },
    {
     "name": "stdout",
     "output_type": "stream",
     "text": [
      "-----------------\n",
      "\n",
      "professeur \t\t\t\t\t// (LLE-1953-02-10-a-p0009) ([1993, 2360, 167, 44])\n"
     ]
    },
    {
     "data": {
      "text/html": [
       "<img src=\"http://dhlabsrv17.epfl.ch/iiif_impresso/LLE-1953-02-10-a-p0009/1993,2360,167,44/full/0/default.jpg\"/>"
      ],
      "text/plain": [
       "<IPython.core.display.Image object>"
      ]
     },
     "metadata": {},
     "output_type": "display_data"
    },
    {
     "name": "stdout",
     "output_type": "stream",
     "text": [
      "-----------------\n",
      "\n",
      "^ \t\t\t\t\t// (LLE-1953-02-10-a-p0009) ([2273, 5191, 32, 45])\n"
     ]
    },
    {
     "data": {
      "text/html": [
       "<img src=\"http://dhlabsrv17.epfl.ch/iiif_impresso/LLE-1953-02-10-a-p0009/2273,5191,32,45/full/0/default.jpg\"/>"
      ],
      "text/plain": [
       "<IPython.core.display.Image object>"
      ]
     },
     "metadata": {},
     "output_type": "display_data"
    },
    {
     "name": "stdout",
     "output_type": "stream",
     "text": [
      "-----------------\n",
      "\n",
      "CONCIERGE \t\t\t\t\t// (LLE-2005-01-31-a-p0032) ([2513, 2663, 391, 93])\n"
     ]
    },
    {
     "data": {
      "text/html": [
       "<img src=\"http://dhlabsrv17.epfl.ch/iiif_impresso/LLE-2005-01-31-a-p0032/2513,2663,391,93/full/0/default.jpg\"/>"
      ],
      "text/plain": [
       "<IPython.core.display.Image object>"
      ]
     },
     "metadata": {},
     "output_type": "display_data"
    },
    {
     "name": "stdout",
     "output_type": "stream",
     "text": [
      "-----------------\n",
      "\n",
      "d \t\t\t\t\t// (LLE-2005-01-31-a-p0032) ([2643, 5188, 20, 45])\n"
     ]
    },
    {
     "data": {
      "text/html": [
       "<img src=\"http://dhlabsrv17.epfl.ch/iiif_impresso/LLE-2005-01-31-a-p0032/2643,5188,20,45/full/0/default.jpg\"/>"
      ],
      "text/plain": [
       "<IPython.core.display.Image object>"
      ]
     },
     "metadata": {},
     "output_type": "display_data"
    },
    {
     "name": "stdout",
     "output_type": "stream",
     "text": [
      "-----------------\n",
      "\n",
      "Lundi \t\t\t\t\t// (LLE-1990-09-03-a-p0024) ([133, 154, 84, 41])\n"
     ]
    },
    {
     "data": {
      "text/html": [
       "<img src=\"http://dhlabsrv17.epfl.ch/iiif_impresso/LLE-1990-09-03-a-p0024/133,154,84,41/full/0/default.jpg\"/>"
      ],
      "text/plain": [
       "<IPython.core.display.Image object>"
      ]
     },
     "metadata": {},
     "output_type": "display_data"
    },
    {
     "name": "stdout",
     "output_type": "stream",
     "text": [
      "-----------------\n",
      "\n",
      "du \t\t\t\t\t// (LLE-1990-09-03-a-p0024) ([2486, 688, 40, 39])\n"
     ]
    },
    {
     "data": {
      "text/html": [
       "<img src=\"http://dhlabsrv17.epfl.ch/iiif_impresso/LLE-1990-09-03-a-p0024/2486,688,40,39/full/0/default.jpg\"/>"
      ],
      "text/plain": [
       "<IPython.core.display.Image object>"
      ]
     },
     "metadata": {},
     "output_type": "display_data"
    },
    {
     "name": "stdout",
     "output_type": "stream",
     "text": [
      "-----------------\n",
      "\n",
      "par \t\t\t\t\t// (LLE-1987-02-09-a-p0017) ([2306, 1146, 56, 60])\n"
     ]
    },
    {
     "data": {
      "text/html": [
       "<img src=\"http://dhlabsrv17.epfl.ch/iiif_impresso/LLE-1987-02-09-a-p0017/2306,1146,56,60/full/0/default.jpg\"/>"
      ],
      "text/plain": [
       "<IPython.core.display.Image object>"
      ]
     },
     "metadata": {},
     "output_type": "display_data"
    },
    {
     "name": "stdout",
     "output_type": "stream",
     "text": [
      "-----------------\n",
      "\n",
      "du \t\t\t\t\t// (LLE-1987-02-09-a-p0017) ([3341, 3145, 41, 60])\n"
     ]
    },
    {
     "data": {
      "text/html": [
       "<img src=\"http://dhlabsrv17.epfl.ch/iiif_impresso/LLE-1987-02-09-a-p0017/3341,3145,41,60/full/0/default.jpg\"/>"
      ],
      "text/plain": [
       "<IPython.core.display.Image object>"
      ]
     },
     "metadata": {},
     "output_type": "display_data"
    },
    {
     "name": "stdout",
     "output_type": "stream",
     "text": [
      "-----------------\n",
      "\n",
      "empty range for randrange() (0,0, 0)\n",
      "empty range for randrange() (0,0, 0)\n",
      "cest \t\t\t\t\t// (LLE-1987-08-31-a-p0007) ([2473, 4816, 83, 45])\n"
     ]
    },
    {
     "data": {
      "text/html": [
       "<img src=\"http://dhlabsrv17.epfl.ch/iiif_impresso/LLE-1987-08-31-a-p0007/2473,4816,83,45/full/0/default.jpg\"/>"
      ],
      "text/plain": [
       "<IPython.core.display.Image object>"
      ]
     },
     "metadata": {},
     "output_type": "display_data"
    },
    {
     "name": "stdout",
     "output_type": "stream",
     "text": [
      "-----------------\n",
      "\n",
      "par \t\t\t\t\t// (LLE-1987-08-31-a-p0007) ([3203, 4253, 54, 45])\n"
     ]
    },
    {
     "data": {
      "text/html": [
       "<img src=\"http://dhlabsrv17.epfl.ch/iiif_impresso/LLE-1987-08-31-a-p0007/3203,4253,54,45/full/0/default.jpg\"/>"
      ],
      "text/plain": [
       "<IPython.core.display.Image object>"
      ]
     },
     "metadata": {},
     "output_type": "display_data"
    },
    {
     "name": "stdout",
     "output_type": "stream",
     "text": [
      "-----------------\n",
      "\n",
      ". \t\t\t\t\t// (LLE-1984-05-18-a-p0023) ([1553, 3098, 10, 55])\n"
     ]
    },
    {
     "data": {
      "text/html": [
       "<img src=\"http://dhlabsrv17.epfl.ch/iiif_impresso/LLE-1984-05-18-a-p0023/1553,3098,10,55/full/0/default.jpg\"/>"
      ],
      "text/plain": [
       "<IPython.core.display.Image object>"
      ]
     },
     "metadata": {},
     "output_type": "display_data"
    },
    {
     "name": "stdout",
     "output_type": "stream",
     "text": [
      "-----------------\n",
      "\n",
      "1984 \t\t\t\t\t// (LLE-1984-05-18-a-p0023) ([994, 205, 82, 45])\n"
     ]
    },
    {
     "data": {
      "text/html": [
       "<img src=\"http://dhlabsrv17.epfl.ch/iiif_impresso/LLE-1984-05-18-a-p0023/994,205,82,45/full/0/default.jpg\"/>"
      ],
      "text/plain": [
       "<IPython.core.display.Image object>"
      ]
     },
     "metadata": {},
     "output_type": "display_data"
    },
    {
     "name": "stdout",
     "output_type": "stream",
     "text": [
      "-----------------\n",
      "\n",
      "ARC-EN-CIEL \t\t\t\t\t// (LLE-1985-03-04-a-p0024) ([2179, 2148, 232, 42])\n"
     ]
    },
    {
     "data": {
      "text/html": [
       "<img src=\"http://dhlabsrv17.epfl.ch/iiif_impresso/LLE-1985-03-04-a-p0024/2179,2148,232,42/full/0/default.jpg\"/>"
      ],
      "text/plain": [
       "<IPython.core.display.Image object>"
      ]
     },
     "metadata": {},
     "output_type": "display_data"
    },
    {
     "name": "stdout",
     "output_type": "stream",
     "text": [
      "-----------------\n",
      "\n",
      "empty range for randrange() (0,0, 0)\n",
      "agréables \t\t\t\t\t// (LLE-1995-02-22-a-p0017) ([2883, 1309, 152, 55])\n"
     ]
    },
    {
     "data": {
      "text/html": [
       "<img src=\"http://dhlabsrv17.epfl.ch/iiif_impresso/LLE-1995-02-22-a-p0017/2883,1309,152,55/full/0/default.jpg\"/>"
      ],
      "text/plain": [
       "<IPython.core.display.Image object>"
      ]
     },
     "metadata": {},
     "output_type": "display_data"
    },
    {
     "name": "stdout",
     "output_type": "stream",
     "text": [
      "-----------------\n",
      "\n",
      "15 \t\t\t\t\t// (LLE-1995-02-22-a-p0017) ([2770, 2193, 35, 55])\n"
     ]
    },
    {
     "data": {
      "text/html": [
       "<img src=\"http://dhlabsrv17.epfl.ch/iiif_impresso/LLE-1995-02-22-a-p0017/2770,2193,35,55/full/0/default.jpg\"/>"
      ],
      "text/plain": [
       "<IPython.core.display.Image object>"
      ]
     },
     "metadata": {},
     "output_type": "display_data"
    },
    {
     "name": "stdout",
     "output_type": "stream",
     "text": [
      "-----------------\n",
      "\n",
      "empty range for randrange() (0,0, 0)\n",
      "empty range for randrange() (0,0, 0)\n",
      "a \t\t\t\t\t// (LLE-1925-12-26-a-p0002) ([3008, 1458, 13, 38])\n"
     ]
    },
    {
     "data": {
      "text/html": [
       "<img src=\"http://dhlabsrv17.epfl.ch/iiif_impresso/LLE-1925-12-26-a-p0002/3008,1458,13,38/full/0/default.jpg\"/>"
      ],
      "text/plain": [
       "<IPython.core.display.Image object>"
      ]
     },
     "metadata": {},
     "output_type": "display_data"
    },
    {
     "name": "stdout",
     "output_type": "stream",
     "text": [
      "-----------------\n",
      "\n",
      "industriel \t\t\t\t\t// (LLE-1925-12-26-a-p0002) ([1327, 641, 113, 38])\n"
     ]
    },
    {
     "data": {
      "text/html": [
       "<img src=\"http://dhlabsrv17.epfl.ch/iiif_impresso/LLE-1925-12-26-a-p0002/1327,641,113,38/full/0/default.jpg\"/>"
      ],
      "text/plain": [
       "<IPython.core.display.Image object>"
      ]
     },
     "metadata": {},
     "output_type": "display_data"
    },
    {
     "name": "stdout",
     "output_type": "stream",
     "text": [
      "-----------------\n",
      "\n",
      ", \t\t\t\t\t// (LLE-1968-01-22-a-p0013) ([2299, 2827, 10, 55])\n"
     ]
    },
    {
     "data": {
      "text/html": [
       "<img src=\"http://dhlabsrv17.epfl.ch/iiif_impresso/LLE-1968-01-22-a-p0013/2299,2827,10,55/full/0/default.jpg\"/>"
      ],
      "text/plain": [
       "<IPython.core.display.Image object>"
      ]
     },
     "metadata": {},
     "output_type": "display_data"
    },
    {
     "name": "stdout",
     "output_type": "stream",
     "text": [
      "-----------------\n",
      "\n",
      "T \t\t\t\t\t// (LLE-1968-01-22-a-p0013) ([3367, 4105, 20, 28])\n"
     ]
    },
    {
     "data": {
      "text/html": [
       "<img src=\"http://dhlabsrv17.epfl.ch/iiif_impresso/LLE-1968-01-22-a-p0013/3367,4105,20,28/full/0/default.jpg\"/>"
      ],
      "text/plain": [
       "<IPython.core.display.Image object>"
      ]
     },
     "metadata": {},
     "output_type": "display_data"
    },
    {
     "name": "stdout",
     "output_type": "stream",
     "text": [
      "-----------------\n",
      "\n",
      "empty range for randrange() (0,0, 0)\n",
      "ç \t\t\t\t\t// (LLE-2006-01-09-a-p0007) ([168, 1016, 18, 59])\n"
     ]
    },
    {
     "data": {
      "text/html": [
       "<img src=\"http://dhlabsrv17.epfl.ch/iiif_impresso/LLE-2006-01-09-a-p0007/168,1016,18,59/full/0/default.jpg\"/>"
      ],
      "text/plain": [
       "<IPython.core.display.Image object>"
      ]
     },
     "metadata": {},
     "output_type": "display_data"
    },
    {
     "name": "stdout",
     "output_type": "stream",
     "text": [
      "-----------------\n",
      "\n",
      "^^ \t\t\t\t\t// (LLE-1992-01-31-a-p0040) ([1857, 2187, 220, 127])\n"
     ]
    },
    {
     "data": {
      "text/html": [
       "<img src=\"http://dhlabsrv17.epfl.ch/iiif_impresso/LLE-1992-01-31-a-p0040/1857,2187,220,127/full/0/default.jpg\"/>"
      ],
      "text/plain": [
       "<IPython.core.display.Image object>"
      ]
     },
     "metadata": {},
     "output_type": "display_data"
    },
    {
     "name": "stdout",
     "output_type": "stream",
     "text": [
      "-----------------\n",
      "\n",
      "empty range for randrange() (0,0, 0)\n",
      "des \t\t\t\t\t// (LLE-1993-11-13-a-p0012) ([2753, 3533, 102, 88])\n"
     ]
    },
    {
     "data": {
      "text/html": [
       "<img src=\"http://dhlabsrv17.epfl.ch/iiif_impresso/LLE-1993-11-13-a-p0012/2753,3533,102,88/full/0/default.jpg\"/>"
      ],
      "text/plain": [
       "<IPython.core.display.Image object>"
      ]
     },
     "metadata": {},
     "output_type": "display_data"
    },
    {
     "name": "stdout",
     "output_type": "stream",
     "text": [
      "-----------------\n",
      "\n",
      ". \t\t\t\t\t// (LLE-1993-11-13-a-p0012) ([3173, 4460, 15, 88])\n"
     ]
    },
    {
     "data": {
      "text/html": [
       "<img src=\"http://dhlabsrv17.epfl.ch/iiif_impresso/LLE-1993-11-13-a-p0012/3173,4460,15,88/full/0/default.jpg\"/>"
      ],
      "text/plain": [
       "<IPython.core.display.Image object>"
      ]
     },
     "metadata": {},
     "output_type": "display_data"
    },
    {
     "name": "stdout",
     "output_type": "stream",
     "text": [
      "-----------------\n",
      "\n",
      "R \t\t\t\t\t// (LLE-1947-07-25-a-p0008) ([813, 659, 52, 64])\n"
     ]
    },
    {
     "data": {
      "text/html": [
       "<img src=\"http://dhlabsrv17.epfl.ch/iiif_impresso/LLE-1947-07-25-a-p0008/813,659,52,64/full/0/default.jpg\"/>"
      ],
      "text/plain": [
       "<IPython.core.display.Image object>"
      ]
     },
     "metadata": {},
     "output_type": "display_data"
    },
    {
     "name": "stdout",
     "output_type": "stream",
     "text": [
      "-----------------\n",
      "\n",
      "SOLEIL \t\t\t\t\t// (LLE-1947-07-25-a-p0008) ([2301, 1680, 241, 86])\n"
     ]
    },
    {
     "data": {
      "text/html": [
       "<img src=\"http://dhlabsrv17.epfl.ch/iiif_impresso/LLE-1947-07-25-a-p0008/2301,1680,241,86/full/0/default.jpg\"/>"
      ],
      "text/plain": [
       "<IPython.core.display.Image object>"
      ]
     },
     "metadata": {},
     "output_type": "display_data"
    },
    {
     "name": "stdout",
     "output_type": "stream",
     "text": [
      "-----------------\n",
      "\n",
      "voix \t\t\t\t\t// (LLE-1961-05-30-a-p0023) ([2633, 5076, 73, 43])\n"
     ]
    },
    {
     "data": {
      "text/html": [
       "<img src=\"http://dhlabsrv17.epfl.ch/iiif_impresso/LLE-1961-05-30-a-p0023/2633,5076,73,43/full/0/default.jpg\"/>"
      ],
      "text/plain": [
       "<IPython.core.display.Image object>"
      ]
     },
     "metadata": {},
     "output_type": "display_data"
    },
    {
     "name": "stdout",
     "output_type": "stream",
     "text": [
      "-----------------\n",
      "\n",
      "FILLE \t\t\t\t\t// (LLE-1961-05-30-a-p0023) ([1607, 2181, 178, 69])\n"
     ]
    },
    {
     "data": {
      "text/html": [
       "<img src=\"http://dhlabsrv17.epfl.ch/iiif_impresso/LLE-1961-05-30-a-p0023/1607,2181,178,69/full/0/default.jpg\"/>"
      ],
      "text/plain": [
       "<IPython.core.display.Image object>"
      ]
     },
     "metadata": {},
     "output_type": "display_data"
    },
    {
     "name": "stdout",
     "output_type": "stream",
     "text": [
      "-----------------\n",
      "\n",
      "après \t\t\t\t\t// (LLE-1904-12-04-a-p0006) ([1216, 2929, 50, 32])\n"
     ]
    },
    {
     "data": {
      "text/html": [
       "<img src=\"http://dhlabsrv17.epfl.ch/iiif_impresso/LLE-1904-12-04-a-p0006/1216,2929,50,32/full/0/default.jpg\"/>"
      ],
      "text/plain": [
       "<IPython.core.display.Image object>"
      ]
     },
     "metadata": {},
     "output_type": "display_data"
    },
    {
     "name": "stdout",
     "output_type": "stream",
     "text": [
      "-----------------\n",
      "\n",
      "DES \t\t\t\t\t// (LLE-1904-12-04-a-p0006) ([345, 2439, 53, 44])\n"
     ]
    },
    {
     "data": {
      "text/html": [
       "<img src=\"http://dhlabsrv17.epfl.ch/iiif_impresso/LLE-1904-12-04-a-p0006/345,2439,53,44/full/0/default.jpg\"/>"
      ],
      "text/plain": [
       "<IPython.core.display.Image object>"
      ]
     },
     "metadata": {},
     "output_type": "display_data"
    },
    {
     "name": "stdout",
     "output_type": "stream",
     "text": [
      "-----------------\n",
      "\n",
      "l \t\t\t\t\t// (LLE-1971-06-26-a-p0013) ([1762, 2167, 13, 44])\n"
     ]
    },
    {
     "data": {
      "text/html": [
       "<img src=\"http://dhlabsrv17.epfl.ch/iiif_impresso/LLE-1971-06-26-a-p0013/1762,2167,13,44/full/0/default.jpg\"/>"
      ],
      "text/plain": [
       "<IPython.core.display.Image object>"
      ]
     },
     "metadata": {},
     "output_type": "display_data"
    },
    {
     "name": "stdout",
     "output_type": "stream",
     "text": [
      "-----------------\n",
      "\n",
      "empty range for randrange() (0,0, 0)\n",
      "points \t\t\t\t\t// (LLE-1995-06-23-a-p0045) ([1423, 5103, 97, 55])\n"
     ]
    },
    {
     "data": {
      "text/html": [
       "<img src=\"http://dhlabsrv17.epfl.ch/iiif_impresso/LLE-1995-06-23-a-p0045/1423,5103,97,55/full/0/default.jpg\"/>"
      ],
      "text/plain": [
       "<IPython.core.display.Image object>"
      ]
     },
     "metadata": {},
     "output_type": "display_data"
    },
    {
     "name": "stdout",
     "output_type": "stream",
     "text": [
      "-----------------\n",
      "\n",
      "empty range for randrange() (0,0, 0)\n",
      "70 \t\t\t\t\t// (LLE-1994-06-01-a-p0022) ([2216, 1095, 84, 99])\n"
     ]
    },
    {
     "data": {
      "text/html": [
       "<img src=\"http://dhlabsrv17.epfl.ch/iiif_impresso/LLE-1994-06-01-a-p0022/2216,1095,84,99/full/0/default.jpg\"/>"
      ],
      "text/plain": [
       "<IPython.core.display.Image object>"
      ]
     },
     "metadata": {},
     "output_type": "display_data"
    },
    {
     "name": "stdout",
     "output_type": "stream",
     "text": [
      "-----------------\n",
      "\n",
      "Beauiolais-Villages \t\t\t\t\t// (LLE-1994-06-01-a-p0022) ([961, 3437, 431, 57])\n"
     ]
    },
    {
     "data": {
      "text/html": [
       "<img src=\"http://dhlabsrv17.epfl.ch/iiif_impresso/LLE-1994-06-01-a-p0022/961,3437,431,57/full/0/default.jpg\"/>"
      ],
      "text/plain": [
       "<IPython.core.display.Image object>"
      ]
     },
     "metadata": {},
     "output_type": "display_data"
    },
    {
     "name": "stdout",
     "output_type": "stream",
     "text": [
      "-----------------\n",
      "\n",
      "Il \t\t\t\t\t// (LLE-1993-10-02-a-p0035) ([3130, 798, 20, 55])\n"
     ]
    },
    {
     "data": {
      "text/html": [
       "<img src=\"http://dhlabsrv17.epfl.ch/iiif_impresso/LLE-1993-10-02-a-p0035/3130,798,20,55/full/0/default.jpg\"/>"
      ],
      "text/plain": [
       "<IPython.core.display.Image object>"
      ]
     },
     "metadata": {},
     "output_type": "display_data"
    },
    {
     "name": "stdout",
     "output_type": "stream",
     "text": [
      "-----------------\n",
      "\n",
      "que \t\t\t\t\t// (LLE-1993-10-02-a-p0035) ([1517, 5133, 55, 55])\n"
     ]
    },
    {
     "data": {
      "text/html": [
       "<img src=\"http://dhlabsrv17.epfl.ch/iiif_impresso/LLE-1993-10-02-a-p0035/1517,5133,55,55/full/0/default.jpg\"/>"
      ],
      "text/plain": [
       "<IPython.core.display.Image object>"
      ]
     },
     "metadata": {},
     "output_type": "display_data"
    },
    {
     "name": "stdout",
     "output_type": "stream",
     "text": [
      "-----------------\n",
      "\n",
      "empty range for randrange() (0,0, 0)\n",
      "dernières \t\t\t\t\t// (LLE-1980-03-24-a-p0009) ([2568, 1417, 154, 44])\n"
     ]
    },
    {
     "data": {
      "text/html": [
       "<img src=\"http://dhlabsrv17.epfl.ch/iiif_impresso/LLE-1980-03-24-a-p0009/2568,1417,154,44/full/0/default.jpg\"/>"
      ],
      "text/plain": [
       "<IPython.core.display.Image object>"
      ]
     },
     "metadata": {},
     "output_type": "display_data"
    },
    {
     "name": "stdout",
     "output_type": "stream",
     "text": [
      "-----------------\n",
      "\n",
      "a \t\t\t\t\t// (LLE-1991-03-14-a-p0014) ([1392, 2738, 15, 38])\n"
     ]
    },
    {
     "data": {
      "text/html": [
       "<img src=\"http://dhlabsrv17.epfl.ch/iiif_impresso/LLE-1991-03-14-a-p0014/1392,2738,15,38/full/0/default.jpg\"/>"
      ],
      "text/plain": [
       "<IPython.core.display.Image object>"
      ]
     },
     "metadata": {},
     "output_type": "display_data"
    },
    {
     "name": "stdout",
     "output_type": "stream",
     "text": [
      "-----------------\n",
      "\n",
      "- \t\t\t\t\t// (LLE-1991-03-14-a-p0014) ([1057, 1575, 20, 39])\n"
     ]
    },
    {
     "data": {
      "text/html": [
       "<img src=\"http://dhlabsrv17.epfl.ch/iiif_impresso/LLE-1991-03-14-a-p0014/1057,1575,20,39/full/0/default.jpg\"/>"
      ],
      "text/plain": [
       "<IPython.core.display.Image object>"
      ]
     },
     "metadata": {},
     "output_type": "display_data"
    },
    {
     "name": "stdout",
     "output_type": "stream",
     "text": [
      "-----------------\n",
      "\n",
      "17-1700 \t\t\t\t\t// (LLE-1983-10-28-a-p0002) ([1938, 1650, 108, 34])\n"
     ]
    },
    {
     "data": {
      "text/html": [
       "<img src=\"http://dhlabsrv17.epfl.ch/iiif_impresso/LLE-1983-10-28-a-p0002/1938,1650,108,34/full/0/default.jpg\"/>"
      ],
      "text/plain": [
       "<IPython.core.display.Image object>"
      ]
     },
     "metadata": {},
     "output_type": "display_data"
    },
    {
     "name": "stdout",
     "output_type": "stream",
     "text": [
      "-----------------\n",
      "\n",
      "empty range for randrange() (0,0, 0)\n",
      "* \t\t\t\t\t// (LLE-1990-02-12-a-p0014) ([2974, 4545, 13, 43])\n"
     ]
    },
    {
     "data": {
      "text/html": [
       "<img src=\"http://dhlabsrv17.epfl.ch/iiif_impresso/LLE-1990-02-12-a-p0014/2974,4545,13,43/full/0/default.jpg\"/>"
      ],
      "text/plain": [
       "<IPython.core.display.Image object>"
      ]
     },
     "metadata": {},
     "output_type": "display_data"
    },
    {
     "name": "stdout",
     "output_type": "stream",
     "text": [
      "-----------------\n",
      "\n",
      "rue \t\t\t\t\t// (LLE-1990-02-12-a-p0014) ([377, 5147, 42, 38])\n"
     ]
    },
    {
     "data": {
      "text/html": [
       "<img src=\"http://dhlabsrv17.epfl.ch/iiif_impresso/LLE-1990-02-12-a-p0014/377,5147,42,38/full/0/default.jpg\"/>"
      ],
      "text/plain": [
       "<IPython.core.display.Image object>"
      ]
     },
     "metadata": {},
     "output_type": "display_data"
    },
    {
     "name": "stdout",
     "output_type": "stream",
     "text": [
      "-----------------\n",
      "\n",
      "Chasse \t\t\t\t\t// (LLE-1976-08-21-a-p0014) ([3385, 2591, 126, 44])\n"
     ]
    },
    {
     "data": {
      "text/html": [
       "<img src=\"http://dhlabsrv17.epfl.ch/iiif_impresso/LLE-1976-08-21-a-p0014/3385,2591,126,44/full/0/default.jpg\"/>"
      ],
      "text/plain": [
       "<IPython.core.display.Image object>"
      ]
     },
     "metadata": {},
     "output_type": "display_data"
    },
    {
     "name": "stdout",
     "output_type": "stream",
     "text": [
      "-----------------\n",
      "\n",
      "sur \t\t\t\t\t// (LLE-1976-08-21-a-p0014) ([2949, 4879, 52, 46])\n"
     ]
    },
    {
     "data": {
      "text/html": [
       "<img src=\"http://dhlabsrv17.epfl.ch/iiif_impresso/LLE-1976-08-21-a-p0014/2949,4879,52,46/full/0/default.jpg\"/>"
      ],
      "text/plain": [
       "<IPython.core.display.Image object>"
      ]
     },
     "metadata": {},
     "output_type": "display_data"
    },
    {
     "name": "stdout",
     "output_type": "stream",
     "text": [
      "-----------------\n",
      "\n",
      "empty range for randrange() (0,0, 0)\n",
      "empty range for randrange() (0,0, 0)\n",
      "em- \t\t\t\t\t// (LLE-1972-11-18-a-p0032) ([3062, 4350, 50, 44])\n"
     ]
    },
    {
     "data": {
      "text/html": [
       "<img src=\"http://dhlabsrv17.epfl.ch/iiif_impresso/LLE-1972-11-18-a-p0032/3062,4350,50,44/full/0/default.jpg\"/>"
      ],
      "text/plain": [
       "<IPython.core.display.Image object>"
      ]
     },
     "metadata": {},
     "output_type": "display_data"
    },
    {
     "name": "stdout",
     "output_type": "stream",
     "text": [
      "-----------------\n",
      "\n",
      "25 \t\t\t\t\t// (LLE-1972-11-18-a-p0032) ([1300, 3975, 35, 45])\n"
     ]
    },
    {
     "data": {
      "text/html": [
       "<img src=\"http://dhlabsrv17.epfl.ch/iiif_impresso/LLE-1972-11-18-a-p0032/1300,3975,35,45/full/0/default.jpg\"/>"
      ],
      "text/plain": [
       "<IPython.core.display.Image object>"
      ]
     },
     "metadata": {},
     "output_type": "display_data"
    },
    {
     "name": "stdout",
     "output_type": "stream",
     "text": [
      "-----------------\n",
      "\n",
      "l \t\t\t\t\t// (LLE-1970-03-19-a-p0009) ([2580, 3472, 11, 43])\n"
     ]
    },
    {
     "data": {
      "text/html": [
       "<img src=\"http://dhlabsrv17.epfl.ch/iiif_impresso/LLE-1970-03-19-a-p0009/2580,3472,11,43/full/0/default.jpg\"/>"
      ],
      "text/plain": [
       "<IPython.core.display.Image object>"
      ]
     },
     "metadata": {},
     "output_type": "display_data"
    },
    {
     "name": "stdout",
     "output_type": "stream",
     "text": [
      "-----------------\n",
      "\n",
      "LA \t\t\t\t\t// (LLE-1970-03-19-a-p0009) ([171, 5007, 48, 43])\n"
     ]
    },
    {
     "data": {
      "text/html": [
       "<img src=\"http://dhlabsrv17.epfl.ch/iiif_impresso/LLE-1970-03-19-a-p0009/171,5007,48,43/full/0/default.jpg\"/>"
      ],
      "text/plain": [
       "<IPython.core.display.Image object>"
      ]
     },
     "metadata": {},
     "output_type": "display_data"
    },
    {
     "name": "stdout",
     "output_type": "stream",
     "text": [
      "-----------------\n",
      "\n",
      "Bingo \t\t\t\t\t// (LLE-2001-06-02-a-p0030) ([359, 1141, 111, 57])\n"
     ]
    },
    {
     "data": {
      "text/html": [
       "<img src=\"http://dhlabsrv17.epfl.ch/iiif_impresso/LLE-2001-06-02-a-p0030/359,1141,111,57/full/0/default.jpg\"/>"
      ],
      "text/plain": [
       "<IPython.core.display.Image object>"
      ]
     },
     "metadata": {},
     "output_type": "display_data"
    },
    {
     "name": "stdout",
     "output_type": "stream",
     "text": [
      "-----------------\n",
      "\n",
      "130-83168 \t\t\t\t\t// (LLE-2001-06-02-a-p0030) ([1151, 2299, 103, 44])\n"
     ]
    },
    {
     "data": {
      "text/html": [
       "<img src=\"http://dhlabsrv17.epfl.ch/iiif_impresso/LLE-2001-06-02-a-p0030/1151,2299,103,44/full/0/default.jpg\"/>"
      ],
      "text/plain": [
       "<IPython.core.display.Image object>"
      ]
     },
     "metadata": {},
     "output_type": "display_data"
    },
    {
     "name": "stdout",
     "output_type": "stream",
     "text": [
      "-----------------\n",
      "\n",
      "que \t\t\t\t\t// (LLE-1965-03-09-a-p0002) ([2776, 4356, 57, 43])\n"
     ]
    },
    {
     "data": {
      "text/html": [
       "<img src=\"http://dhlabsrv17.epfl.ch/iiif_impresso/LLE-1965-03-09-a-p0002/2776,4356,57,43/full/0/default.jpg\"/>"
      ],
      "text/plain": [
       "<IPython.core.display.Image object>"
      ]
     },
     "metadata": {},
     "output_type": "display_data"
    },
    {
     "name": "stdout",
     "output_type": "stream",
     "text": [
      "-----------------\n",
      "\n",
      "commentaire \t\t\t\t\t// (LLE-1965-03-09-a-p0002) ([3044, 3515, 215, 44])\n"
     ]
    },
    {
     "data": {
      "text/html": [
       "<img src=\"http://dhlabsrv17.epfl.ch/iiif_impresso/LLE-1965-03-09-a-p0002/3044,3515,215,44/full/0/default.jpg\"/>"
      ],
      "text/plain": [
       "<IPython.core.display.Image object>"
      ]
     },
     "metadata": {},
     "output_type": "display_data"
    },
    {
     "name": "stdout",
     "output_type": "stream",
     "text": [
      "-----------------\n",
      "\n",
      "que \t\t\t\t\t// (LLE-1922-05-15-a-p0002) ([2033, 5015, 48, 44])\n"
     ]
    },
    {
     "data": {
      "text/html": [
       "<img src=\"http://dhlabsrv17.epfl.ch/iiif_impresso/LLE-1922-05-15-a-p0002/2033,5015,48,44/full/0/default.jpg\"/>"
      ],
      "text/plain": [
       "<IPython.core.display.Image object>"
      ]
     },
     "metadata": {},
     "output_type": "display_data"
    },
    {
     "name": "stdout",
     "output_type": "stream",
     "text": [
      "-----------------\n",
      "\n",
      "qilus \t\t\t\t\t// (LLE-1922-05-15-a-p0002) ([1152, 4778, 71, 44])\n"
     ]
    },
    {
     "data": {
      "text/html": [
       "<img src=\"http://dhlabsrv17.epfl.ch/iiif_impresso/LLE-1922-05-15-a-p0002/1152,4778,71,44/full/0/default.jpg\"/>"
      ],
      "text/plain": [
       "<IPython.core.display.Image object>"
      ]
     },
     "metadata": {},
     "output_type": "display_data"
    },
    {
     "name": "stdout",
     "output_type": "stream",
     "text": [
      "-----------------\n",
      "\n",
      "DANS \t\t\t\t\t// (LLE-1931-01-21-a-p0002) ([151, 238, 195, 110])\n"
     ]
    },
    {
     "data": {
      "text/html": [
       "<img src=\"http://dhlabsrv17.epfl.ch/iiif_impresso/LLE-1931-01-21-a-p0002/151,238,195,110/full/0/default.jpg\"/>"
      ],
      "text/plain": [
       "<IPython.core.display.Image object>"
      ]
     },
     "metadata": {},
     "output_type": "display_data"
    },
    {
     "name": "stdout",
     "output_type": "stream",
     "text": [
      "-----------------\n",
      "\n",
      "vedette \t\t\t\t\t// (LLE-1931-01-21-a-p0002) ([2139, 3431, 119, 43])\n"
     ]
    },
    {
     "data": {
      "text/html": [
       "<img src=\"http://dhlabsrv17.epfl.ch/iiif_impresso/LLE-1931-01-21-a-p0002/2139,3431,119,43/full/0/default.jpg\"/>"
      ],
      "text/plain": [
       "<IPython.core.display.Image object>"
      ]
     },
     "metadata": {},
     "output_type": "display_data"
    },
    {
     "name": "stdout",
     "output_type": "stream",
     "text": [
      "-----------------\n",
      "\n",
      "jusqu \t\t\t\t\t// (LLE-2008-09-25-a-p0012) ([176, 4236, 84, 45])\n"
     ]
    },
    {
     "data": {
      "text/html": [
       "<img src=\"http://dhlabsrv17.epfl.ch/iiif_impresso/LLE-2008-09-25-a-p0012/176,4236,84,45/full/0/default.jpg\"/>"
      ],
      "text/plain": [
       "<IPython.core.display.Image object>"
      ]
     },
     "metadata": {},
     "output_type": "display_data"
    },
    {
     "name": "stdout",
     "output_type": "stream",
     "text": [
      "-----------------\n",
      "\n",
      "la \t\t\t\t\t// (LLE-2008-09-25-a-p0012) ([448, 4588, 25, 43])\n"
     ]
    },
    {
     "data": {
      "text/html": [
       "<img src=\"http://dhlabsrv17.epfl.ch/iiif_impresso/LLE-2008-09-25-a-p0012/448,4588,25,43/full/0/default.jpg\"/>"
      ],
      "text/plain": [
       "<IPython.core.display.Image object>"
      ]
     },
     "metadata": {},
     "output_type": "display_data"
    },
    {
     "name": "stdout",
     "output_type": "stream",
     "text": [
      "-----------------\n",
      "\n",
      ", \t\t\t\t\t// (LLE-1967-08-12-a-p0015) ([1038, 4835, 8, 55])\n"
     ]
    },
    {
     "data": {
      "text/html": [
       "<img src=\"http://dhlabsrv17.epfl.ch/iiif_impresso/LLE-1967-08-12-a-p0015/1038,4835,8,55/full/0/default.jpg\"/>"
      ],
      "text/plain": [
       "<IPython.core.display.Image object>"
      ]
     },
     "metadata": {},
     "output_type": "display_data"
    },
    {
     "name": "stdout",
     "output_type": "stream",
     "text": [
      "-----------------\n",
      "\n",
      "de \t\t\t\t\t// (LLE-1967-08-12-a-p0015) ([2066, 3594, 35, 56])\n"
     ]
    },
    {
     "data": {
      "text/html": [
       "<img src=\"http://dhlabsrv17.epfl.ch/iiif_impresso/LLE-1967-08-12-a-p0015/2066,3594,35,56/full/0/default.jpg\"/>"
      ],
      "text/plain": [
       "<IPython.core.display.Image object>"
      ]
     },
     "metadata": {},
     "output_type": "display_data"
    },
    {
     "name": "stdout",
     "output_type": "stream",
     "text": [
      "-----------------\n",
      "\n",
      "Appareils \t\t\t\t\t// (LLE-1995-01-09-a-p0004) ([2899, 4150, 208, 70])\n"
     ]
    },
    {
     "data": {
      "text/html": [
       "<img src=\"http://dhlabsrv17.epfl.ch/iiif_impresso/LLE-1995-01-09-a-p0004/2899,4150,208,70/full/0/default.jpg\"/>"
      ],
      "text/plain": [
       "<IPython.core.display.Image object>"
      ]
     },
     "metadata": {},
     "output_type": "display_data"
    },
    {
     "name": "stdout",
     "output_type": "stream",
     "text": [
      "-----------------\n",
      "\n",
      "à \t\t\t\t\t// (LLE-1995-01-09-a-p0004) ([2514, 2245, 10, 33])\n"
     ]
    },
    {
     "data": {
      "text/html": [
       "<img src=\"http://dhlabsrv17.epfl.ch/iiif_impresso/LLE-1995-01-09-a-p0004/2514,2245,10,33/full/0/default.jpg\"/>"
      ],
      "text/plain": [
       "<IPython.core.display.Image object>"
      ]
     },
     "metadata": {},
     "output_type": "display_data"
    },
    {
     "name": "stdout",
     "output_type": "stream",
     "text": [
      "-----------------\n",
      "\n",
      "boutique \t\t\t\t\t// (LLE-1994-11-24-a-p0040) ([3132, 679, 149, 45])\n"
     ]
    },
    {
     "data": {
      "text/html": [
       "<img src=\"http://dhlabsrv17.epfl.ch/iiif_impresso/LLE-1994-11-24-a-p0040/3132,679,149,45/full/0/default.jpg\"/>"
      ],
      "text/plain": [
       "<IPython.core.display.Image object>"
      ]
     },
     "metadata": {},
     "output_type": "display_data"
    },
    {
     "name": "stdout",
     "output_type": "stream",
     "text": [
      "-----------------\n",
      "\n",
      ", \t\t\t\t\t// (LLE-1994-11-24-a-p0040) ([3312, 1756, 10, 45])\n"
     ]
    },
    {
     "data": {
      "text/html": [
       "<img src=\"http://dhlabsrv17.epfl.ch/iiif_impresso/LLE-1994-11-24-a-p0040/3312,1756,10,45/full/0/default.jpg\"/>"
      ],
      "text/plain": [
       "<IPython.core.display.Image object>"
      ]
     },
     "metadata": {},
     "output_type": "display_data"
    },
    {
     "name": "stdout",
     "output_type": "stream",
     "text": [
      "-----------------\n",
      "\n",
      "3 \t\t\t\t\t// (LLE-1960-11-03-a-p0009) ([1329, 2767, 18, 45])\n"
     ]
    },
    {
     "data": {
      "text/html": [
       "<img src=\"http://dhlabsrv17.epfl.ch/iiif_impresso/LLE-1960-11-03-a-p0009/1329,2767,18,45/full/0/default.jpg\"/>"
      ],
      "text/plain": [
       "<IPython.core.display.Image object>"
      ]
     },
     "metadata": {},
     "output_type": "display_data"
    },
    {
     "name": "stdout",
     "output_type": "stream",
     "text": [
      "-----------------\n",
      "\n",
      "place \t\t\t\t\t// (LLE-1960-11-03-a-p0009) ([212, 2707, 66, 40])\n"
     ]
    },
    {
     "data": {
      "text/html": [
       "<img src=\"http://dhlabsrv17.epfl.ch/iiif_impresso/LLE-1960-11-03-a-p0009/212,2707,66,40/full/0/default.jpg\"/>"
      ],
      "text/plain": [
       "<IPython.core.display.Image object>"
      ]
     },
     "metadata": {},
     "output_type": "display_data"
    },
    {
     "name": "stdout",
     "output_type": "stream",
     "text": [
      "-----------------\n",
      "\n",
      "empty range for randrange() (0,0, 0)\n",
      "empty range for randrange() (0,0, 0)\n",
      "ä \t\t\t\t\t// (LLE-1953-11-12-a-p0007) ([2842, 3397, 19, 43])\n"
     ]
    },
    {
     "data": {
      "text/html": [
       "<img src=\"http://dhlabsrv17.epfl.ch/iiif_impresso/LLE-1953-11-12-a-p0007/2842,3397,19,43/full/0/default.jpg\"/>"
      ],
      "text/plain": [
       "<IPython.core.display.Image object>"
      ]
     },
     "metadata": {},
     "output_type": "display_data"
    },
    {
     "name": "stdout",
     "output_type": "stream",
     "text": [
      "-----------------\n",
      "\n",
      ". \t\t\t\t\t// (LLE-1953-11-12-a-p0007) ([2237, 4314, 8, 45])\n"
     ]
    },
    {
     "data": {
      "text/html": [
       "<img src=\"http://dhlabsrv17.epfl.ch/iiif_impresso/LLE-1953-11-12-a-p0007/2237,4314,8,45/full/0/default.jpg\"/>"
      ],
      "text/plain": [
       "<IPython.core.display.Image object>"
      ]
     },
     "metadata": {},
     "output_type": "display_data"
    },
    {
     "name": "stdout",
     "output_type": "stream",
     "text": [
      "-----------------\n",
      "\n",
      "Michel \t\t\t\t\t// (LLE-1983-05-14-a-p0014) ([1544, 2545, 211, 101])\n"
     ]
    },
    {
     "data": {
      "text/html": [
       "<img src=\"http://dhlabsrv17.epfl.ch/iiif_impresso/LLE-1983-05-14-a-p0014/1544,2545,211,101/full/0/default.jpg\"/>"
      ],
      "text/plain": [
       "<IPython.core.display.Image object>"
      ]
     },
     "metadata": {},
     "output_type": "display_data"
    },
    {
     "name": "stdout",
     "output_type": "stream",
     "text": [
      "-----------------\n",
      "\n",
      "née \t\t\t\t\t// (LLE-1983-05-14-a-p0014) ([2746, 4527, 50, 46])\n"
     ]
    },
    {
     "data": {
      "text/html": [
       "<img src=\"http://dhlabsrv17.epfl.ch/iiif_impresso/LLE-1983-05-14-a-p0014/2746,4527,50,46/full/0/default.jpg\"/>"
      ],
      "text/plain": [
       "<IPython.core.display.Image object>"
      ]
     },
     "metadata": {},
     "output_type": "display_data"
    },
    {
     "name": "stdout",
     "output_type": "stream",
     "text": [
      "-----------------\n",
      "\n",
      ", \t\t\t\t\t// (LLE-1959-03-28-a-p0023) ([1283, 3312, 9, 56])\n"
     ]
    },
    {
     "data": {
      "text/html": [
       "<img src=\"http://dhlabsrv17.epfl.ch/iiif_impresso/LLE-1959-03-28-a-p0023/1283,3312,9,56/full/0/default.jpg\"/>"
      ],
      "text/plain": [
       "<IPython.core.display.Image object>"
      ]
     },
     "metadata": {},
     "output_type": "display_data"
    },
    {
     "name": "stdout",
     "output_type": "stream",
     "text": [
      "-----------------\n",
      "\n",
      "en \t\t\t\t\t// (LLE-1959-03-28-a-p0023) ([658, 1696, 38, 54])\n"
     ]
    },
    {
     "data": {
      "text/html": [
       "<img src=\"http://dhlabsrv17.epfl.ch/iiif_impresso/LLE-1959-03-28-a-p0023/658,1696,38,54/full/0/default.jpg\"/>"
      ],
      "text/plain": [
       "<IPython.core.display.Image object>"
      ]
     },
     "metadata": {},
     "output_type": "display_data"
    },
    {
     "name": "stdout",
     "output_type": "stream",
     "text": [
      "-----------------\n",
      "\n",
      ". \t\t\t\t\t// (LLE-1962-08-08-a-p0005) ([2978, 3372, 10, 55])\n"
     ]
    },
    {
     "data": {
      "text/html": [
       "<img src=\"http://dhlabsrv17.epfl.ch/iiif_impresso/LLE-1962-08-08-a-p0005/2978,3372,10,55/full/0/default.jpg\"/>"
      ],
      "text/plain": [
       "<IPython.core.display.Image object>"
      ]
     },
     "metadata": {},
     "output_type": "display_data"
    },
    {
     "name": "stdout",
     "output_type": "stream",
     "text": [
      "-----------------\n",
      "\n",
      "/ \t\t\t\t\t// (LLE-1962-08-08-a-p0005) ([3451, 4159, 10, 55])\n"
     ]
    },
    {
     "data": {
      "text/html": [
       "<img src=\"http://dhlabsrv17.epfl.ch/iiif_impresso/LLE-1962-08-08-a-p0005/3451,4159,10,55/full/0/default.jpg\"/>"
      ],
      "text/plain": [
       "<IPython.core.display.Image object>"
      ]
     },
     "metadata": {},
     "output_type": "display_data"
    },
    {
     "name": "stdout",
     "output_type": "stream",
     "text": [
      "-----------------\n",
      "\n",
      ", \t\t\t\t\t// (LLE-2003-12-05-a-p0017) ([574, 1481, 10, 45])\n"
     ]
    },
    {
     "data": {
      "text/html": [
       "<img src=\"http://dhlabsrv17.epfl.ch/iiif_impresso/LLE-2003-12-05-a-p0017/574,1481,10,45/full/0/default.jpg\"/>"
      ],
      "text/plain": [
       "<IPython.core.display.Image object>"
      ]
     },
     "metadata": {},
     "output_type": "display_data"
    },
    {
     "name": "stdout",
     "output_type": "stream",
     "text": [
      "-----------------\n",
      "\n",
      "premier \t\t\t\t\t// (LLE-2003-12-05-a-p0017) ([57, 1896, 115, 43])\n"
     ]
    },
    {
     "data": {
      "text/html": [
       "<img src=\"http://dhlabsrv17.epfl.ch/iiif_impresso/LLE-2003-12-05-a-p0017/57,1896,115,43/full/0/default.jpg\"/>"
      ],
      "text/plain": [
       "<IPython.core.display.Image object>"
      ]
     },
     "metadata": {},
     "output_type": "display_data"
    },
    {
     "name": "stdout",
     "output_type": "stream",
     "text": [
      "-----------------\n",
      "\n",
      "empty range for randrange() (0,0, 0)\n",
      "empty range for randrange() (0,0, 0)\n",
      "500 \t\t\t\t\t// (LLE-1954-06-09-a-p0003) ([3008, 1786, 53, 45])\n"
     ]
    },
    {
     "data": {
      "text/html": [
       "<img src=\"http://dhlabsrv17.epfl.ch/iiif_impresso/LLE-1954-06-09-a-p0003/3008,1786,53,45/full/0/default.jpg\"/>"
      ],
      "text/plain": [
       "<IPython.core.display.Image object>"
      ]
     },
     "metadata": {},
     "output_type": "display_data"
    },
    {
     "name": "stdout",
     "output_type": "stream",
     "text": [
      "-----------------\n",
      "\n",
      ", \t\t\t\t\t// (LLE-1954-06-09-a-p0003) ([623, 3613, 10, 47])\n"
     ]
    },
    {
     "data": {
      "text/html": [
       "<img src=\"http://dhlabsrv17.epfl.ch/iiif_impresso/LLE-1954-06-09-a-p0003/623,3613,10,47/full/0/default.jpg\"/>"
      ],
      "text/plain": [
       "<IPython.core.display.Image object>"
      ]
     },
     "metadata": {},
     "output_type": "display_data"
    },
    {
     "name": "stdout",
     "output_type": "stream",
     "text": [
      "-----------------\n",
      "\n",
      "Standard \t\t\t\t\t// (LLE-1964-08-07-a-p0014) ([2524, 3323, 437, 150])\n"
     ]
    },
    {
     "data": {
      "text/html": [
       "<img src=\"http://dhlabsrv17.epfl.ch/iiif_impresso/LLE-1964-08-07-a-p0014/2524,3323,437,150/full/0/default.jpg\"/>"
      ],
      "text/plain": [
       "<IPython.core.display.Image object>"
      ]
     },
     "metadata": {},
     "output_type": "display_data"
    },
    {
     "name": "stdout",
     "output_type": "stream",
     "text": [
      "-----------------\n",
      "\n",
      "orotege \t\t\t\t\t// (LLE-1964-08-07-a-p0014) ([1494, 3609, 118, 43])\n"
     ]
    },
    {
     "data": {
      "text/html": [
       "<img src=\"http://dhlabsrv17.epfl.ch/iiif_impresso/LLE-1964-08-07-a-p0014/1494,3609,118,43/full/0/default.jpg\"/>"
      ],
      "text/plain": [
       "<IPython.core.display.Image object>"
      ]
     },
     "metadata": {},
     "output_type": "display_data"
    },
    {
     "name": "stdout",
     "output_type": "stream",
     "text": [
      "-----------------\n",
      "\n",
      "dn \t\t\t\t\t// (LLE-1884-11-18-a-p0001) ([407, 3154, 32, 46])\n"
     ]
    },
    {
     "data": {
      "text/html": [
       "<img src=\"http://dhlabsrv17.epfl.ch/iiif_impresso/LLE-1884-11-18-a-p0001/407,3154,32,46/full/0/default.jpg\"/>"
      ],
      "text/plain": [
       "<IPython.core.display.Image object>"
      ]
     },
     "metadata": {},
     "output_type": "display_data"
    },
    {
     "name": "stdout",
     "output_type": "stream",
     "text": [
      "-----------------\n",
      "\n",
      "Enderlin \t\t\t\t\t// (LLE-1884-11-18-a-p0001) ([1682, 2445, 126, 43])\n"
     ]
    },
    {
     "data": {
      "text/html": [
       "<img src=\"http://dhlabsrv17.epfl.ch/iiif_impresso/LLE-1884-11-18-a-p0001/1682,2445,126,43/full/0/default.jpg\"/>"
      ],
      "text/plain": [
       "<IPython.core.display.Image object>"
      ]
     },
     "metadata": {},
     "output_type": "display_data"
    },
    {
     "name": "stdout",
     "output_type": "stream",
     "text": [
      "-----------------\n",
      "\n",
      "bien \t\t\t\t\t// (LLE-1975-11-08-a-p0011) ([1606, 2855, 69, 44])\n"
     ]
    },
    {
     "data": {
      "text/html": [
       "<img src=\"http://dhlabsrv17.epfl.ch/iiif_impresso/LLE-1975-11-08-a-p0011/1606,2855,69,44/full/0/default.jpg\"/>"
      ],
      "text/plain": [
       "<IPython.core.display.Image object>"
      ]
     },
     "metadata": {},
     "output_type": "display_data"
    },
    {
     "name": "stdout",
     "output_type": "stream",
     "text": [
      "-----------------\n",
      "\n",
      "empty range for randrange() (0,0, 0)\n",
      "RA \t\t\t\t\t// (LLE-1995-06-28-a-p0034) ([2432, 4149, 115, 132])\n"
     ]
    },
    {
     "data": {
      "text/html": [
       "<img src=\"http://dhlabsrv17.epfl.ch/iiif_impresso/LLE-1995-06-28-a-p0034/2432,4149,115,132/full/0/default.jpg\"/>"
      ],
      "text/plain": [
       "<IPython.core.display.Image object>"
      ]
     },
     "metadata": {},
     "output_type": "display_data"
    },
    {
     "name": "stdout",
     "output_type": "stream",
     "text": [
      "-----------------\n",
      "\n",
      "femmes \t\t\t\t\t// (LLE-1995-06-28-a-p0034) ([905, 1142, 136, 45])\n"
     ]
    },
    {
     "data": {
      "text/html": [
       "<img src=\"http://dhlabsrv17.epfl.ch/iiif_impresso/LLE-1995-06-28-a-p0034/905,1142,136,45/full/0/default.jpg\"/>"
      ],
      "text/plain": [
       "<IPython.core.display.Image object>"
      ]
     },
     "metadata": {},
     "output_type": "display_data"
    },
    {
     "name": "stdout",
     "output_type": "stream",
     "text": [
      "-----------------\n",
      "\n",
      "17 \t\t\t\t\t// (LLE-2004-05-17-a-p0011) ([3115, 256, 35, 45])\n"
     ]
    },
    {
     "data": {
      "text/html": [
       "<img src=\"http://dhlabsrv17.epfl.ch/iiif_impresso/LLE-2004-05-17-a-p0011/3115,256,35,45/full/0/default.jpg\"/>"
      ],
      "text/plain": [
       "<IPython.core.display.Image object>"
      ]
     },
     "metadata": {},
     "output_type": "display_data"
    },
    {
     "name": "stdout",
     "output_type": "stream",
     "text": [
      "-----------------\n",
      "\n",
      "empty range for randrange() (0,0, 0)\n",
      "SHKCP \t\t\t\t\t// (LLE-1983-06-29-a-p0003) ([1803, 4284, 165, 86])\n"
     ]
    },
    {
     "data": {
      "text/html": [
       "<img src=\"http://dhlabsrv17.epfl.ch/iiif_impresso/LLE-1983-06-29-a-p0003/1803,4284,165,86/full/0/default.jpg\"/>"
      ],
      "text/plain": [
       "<IPython.core.display.Image object>"
      ]
     },
     "metadata": {},
     "output_type": "display_data"
    },
    {
     "name": "stdout",
     "output_type": "stream",
     "text": [
      "-----------------\n",
      "\n",
      ". \t\t\t\t\t// (LLE-1983-06-29-a-p0003) ([511, 2299, 12, 56])\n"
     ]
    },
    {
     "data": {
      "text/html": [
       "<img src=\"http://dhlabsrv17.epfl.ch/iiif_impresso/LLE-1983-06-29-a-p0003/511,2299,12,56/full/0/default.jpg\"/>"
      ],
      "text/plain": [
       "<IPython.core.display.Image object>"
      ]
     },
     "metadata": {},
     "output_type": "display_data"
    },
    {
     "name": "stdout",
     "output_type": "stream",
     "text": [
      "-----------------\n",
      "\n",
      ". \t\t\t\t\t// (LLE-1966-09-10-a-p0018) ([2000, 5036, 12, 55])\n"
     ]
    },
    {
     "data": {
      "text/html": [
       "<img src=\"http://dhlabsrv17.epfl.ch/iiif_impresso/LLE-1966-09-10-a-p0018/2000,5036,12,55/full/0/default.jpg\"/>"
      ],
      "text/plain": [
       "<IPython.core.display.Image object>"
      ]
     },
     "metadata": {},
     "output_type": "display_data"
    },
    {
     "name": "stdout",
     "output_type": "stream",
     "text": [
      "-----------------\n",
      "\n",
      "repre- \t\t\t\t\t// (LLE-1966-09-10-a-p0018) ([810, 2444, 97, 55])\n"
     ]
    },
    {
     "data": {
      "text/html": [
       "<img src=\"http://dhlabsrv17.epfl.ch/iiif_impresso/LLE-1966-09-10-a-p0018/810,2444,97,55/full/0/default.jpg\"/>"
      ],
      "text/plain": [
       "<IPython.core.display.Image object>"
      ]
     },
     "metadata": {},
     "output_type": "display_data"
    },
    {
     "name": "stdout",
     "output_type": "stream",
     "text": [
      "-----------------\n",
      "\n",
      "CARTES \t\t\t\t\t// (LLE-1949-01-12-a-p0007) ([3034, 3264, 152, 43])\n"
     ]
    },
    {
     "data": {
      "text/html": [
       "<img src=\"http://dhlabsrv17.epfl.ch/iiif_impresso/LLE-1949-01-12-a-p0007/3034,3264,152,43/full/0/default.jpg\"/>"
      ],
      "text/plain": [
       "<IPython.core.display.Image object>"
      ]
     },
     "metadata": {},
     "output_type": "display_data"
    },
    {
     "name": "stdout",
     "output_type": "stream",
     "text": [
      "-----------------\n",
      "\n",
      "PETIT \t\t\t\t\t// (LLE-1949-01-12-a-p0007) ([2583, 2674, 117, 66])\n"
     ]
    },
    {
     "data": {
      "text/html": [
       "<img src=\"http://dhlabsrv17.epfl.ch/iiif_impresso/LLE-1949-01-12-a-p0007/2583,2674,117,66/full/0/default.jpg\"/>"
      ],
      "text/plain": [
       "<IPython.core.display.Image object>"
      ]
     },
     "metadata": {},
     "output_type": "display_data"
    },
    {
     "name": "stdout",
     "output_type": "stream",
     "text": [
      "-----------------\n",
      "\n",
      "Ford \t\t\t\t\t// (LLE-2010-03-31-a-p0006) ([1448, 1960, 45, 34])\n"
     ]
    },
    {
     "data": {
      "text/html": [
       "<img src=\"http://dhlabsrv17.epfl.ch/iiif_impresso/LLE-2010-03-31-a-p0006/1448,1960,45,34/full/0/default.jpg\"/>"
      ],
      "text/plain": [
       "<IPython.core.display.Image object>"
      ]
     },
     "metadata": {},
     "output_type": "display_data"
    },
    {
     "name": "stdout",
     "output_type": "stream",
     "text": [
      "-----------------\n",
      "\n",
      "79 \t\t\t\t\t// (LLE-2010-03-31-a-p0006) ([2751, 4617, 30, 34])\n"
     ]
    },
    {
     "data": {
      "text/html": [
       "<img src=\"http://dhlabsrv17.epfl.ch/iiif_impresso/LLE-2010-03-31-a-p0006/2751,4617,30,34/full/0/default.jpg\"/>"
      ],
      "text/plain": [
       "<IPython.core.display.Image object>"
      ]
     },
     "metadata": {},
     "output_type": "display_data"
    },
    {
     "name": "stdout",
     "output_type": "stream",
     "text": [
      "-----------------\n",
      "\n",
      "Français \t\t\t\t\t// (LLE-2005-09-26-a-p0019) ([462, 3381, 147, 57])\n"
     ]
    },
    {
     "data": {
      "text/html": [
       "<img src=\"http://dhlabsrv17.epfl.ch/iiif_impresso/LLE-2005-09-26-a-p0019/462,3381,147,57/full/0/default.jpg\"/>"
      ],
      "text/plain": [
       "<IPython.core.display.Image object>"
      ]
     },
     "metadata": {},
     "output_type": "display_data"
    },
    {
     "name": "stdout",
     "output_type": "stream",
     "text": [
      "-----------------\n",
      "\n",
      "sera \t\t\t\t\t// (LLE-2005-09-26-a-p0019) ([2877, 1941, 69, 58])\n"
     ]
    },
    {
     "data": {
      "text/html": [
       "<img src=\"http://dhlabsrv17.epfl.ch/iiif_impresso/LLE-2005-09-26-a-p0019/2877,1941,69,58/full/0/default.jpg\"/>"
      ],
      "text/plain": [
       "<IPython.core.display.Image object>"
      ]
     },
     "metadata": {},
     "output_type": "display_data"
    },
    {
     "name": "stdout",
     "output_type": "stream",
     "text": [
      "-----------------\n",
      "\n",
      "S \t\t\t\t\t// (LLE-1963-05-16-a-p0001) ([2538, 4912, 8, 16])\n"
     ]
    },
    {
     "data": {
      "text/html": [
       "<img src=\"http://dhlabsrv17.epfl.ch/iiif_impresso/LLE-1963-05-16-a-p0001/2538,4912,8,16/full/0/default.jpg\"/>"
      ],
      "text/plain": [
       "<IPython.core.display.Image object>"
      ]
     },
     "metadata": {},
     "output_type": "display_data"
    },
    {
     "name": "stdout",
     "output_type": "stream",
     "text": [
      "-----------------\n",
      "\n",
      "ä \t\t\t\t\t// (LLE-1963-05-16-a-p0001) ([517, 1959, 20, 55])\n"
     ]
    },
    {
     "data": {
      "text/html": [
       "<img src=\"http://dhlabsrv17.epfl.ch/iiif_impresso/LLE-1963-05-16-a-p0001/517,1959,20,55/full/0/default.jpg\"/>"
      ],
      "text/plain": [
       "<IPython.core.display.Image object>"
      ]
     },
     "metadata": {},
     "output_type": "display_data"
    },
    {
     "name": "stdout",
     "output_type": "stream",
     "text": [
      "-----------------\n",
      "\n",
      "jouait \t\t\t\t\t// (LLE-2004-06-03-a-p0035) ([1893, 3315, 95, 55])\n"
     ]
    },
    {
     "data": {
      "text/html": [
       "<img src=\"http://dhlabsrv17.epfl.ch/iiif_impresso/LLE-2004-06-03-a-p0035/1893,3315,95,55/full/0/default.jpg\"/>"
      ],
      "text/plain": [
       "<IPython.core.display.Image object>"
      ]
     },
     "metadata": {},
     "output_type": "display_data"
    },
    {
     "name": "stdout",
     "output_type": "stream",
     "text": [
      "-----------------\n",
      "\n",
      "Vous \t\t\t\t\t// (LLE-2004-06-03-a-p0035) ([2564, 3983, 82, 44])\n"
     ]
    },
    {
     "data": {
      "text/html": [
       "<img src=\"http://dhlabsrv17.epfl.ch/iiif_impresso/LLE-2004-06-03-a-p0035/2564,3983,82,44/full/0/default.jpg\"/>"
      ],
      "text/plain": [
       "<IPython.core.display.Image object>"
      ]
     },
     "metadata": {},
     "output_type": "display_data"
    },
    {
     "name": "stdout",
     "output_type": "stream",
     "text": [
      "-----------------\n",
      "\n",
      "legalisees \t\t\t\t\t// (LLE-1977-05-02-a-p0024) ([1231, 2144, 159, 43])\n"
     ]
    },
    {
     "data": {
      "text/html": [
       "<img src=\"http://dhlabsrv17.epfl.ch/iiif_impresso/LLE-1977-05-02-a-p0024/1231,2144,159,43/full/0/default.jpg\"/>"
      ],
      "text/plain": [
       "<IPython.core.display.Image object>"
      ]
     },
     "metadata": {},
     "output_type": "display_data"
    },
    {
     "name": "stdout",
     "output_type": "stream",
     "text": [
      "-----------------\n",
      "\n",
      "et \t\t\t\t\t// (LLE-1977-05-02-a-p0024) ([1041, 877, 32, 45])\n"
     ]
    },
    {
     "data": {
      "text/html": [
       "<img src=\"http://dhlabsrv17.epfl.ch/iiif_impresso/LLE-1977-05-02-a-p0024/1041,877,32,45/full/0/default.jpg\"/>"
      ],
      "text/plain": [
       "<IPython.core.display.Image object>"
      ]
     },
     "metadata": {},
     "output_type": "display_data"
    },
    {
     "name": "stdout",
     "output_type": "stream",
     "text": [
      "-----------------\n",
      "\n",
      "Fr \t\t\t\t\t// (LLE-1965-02-26-a-p0013) ([2945, 2147, 39, 87])\n"
     ]
    },
    {
     "data": {
      "text/html": [
       "<img src=\"http://dhlabsrv17.epfl.ch/iiif_impresso/LLE-1965-02-26-a-p0013/2945,2147,39,87/full/0/default.jpg\"/>"
      ],
      "text/plain": [
       "<IPython.core.display.Image object>"
      ]
     },
     "metadata": {},
     "output_type": "display_data"
    },
    {
     "name": "stdout",
     "output_type": "stream",
     "text": [
      "-----------------\n",
      "\n",
      "empty range for randrange() (0,0, 0)\n",
      ", \t\t\t\t\t// (LLE-1995-04-13-a-p0003) ([969, 1641, 8, 55])\n"
     ]
    },
    {
     "data": {
      "text/html": [
       "<img src=\"http://dhlabsrv17.epfl.ch/iiif_impresso/LLE-1995-04-13-a-p0003/969,1641,8,55/full/0/default.jpg\"/>"
      ],
      "text/plain": [
       "<IPython.core.display.Image object>"
      ]
     },
     "metadata": {},
     "output_type": "display_data"
    },
    {
     "name": "stdout",
     "output_type": "stream",
     "text": [
      "-----------------\n",
      "\n",
      "« \t\t\t\t\t// (LLE-1995-04-13-a-p0003) ([393, 3411, 22, 55])\n"
     ]
    },
    {
     "data": {
      "text/html": [
       "<img src=\"http://dhlabsrv17.epfl.ch/iiif_impresso/LLE-1995-04-13-a-p0003/393,3411,22,55/full/0/default.jpg\"/>"
      ],
      "text/plain": [
       "<IPython.core.display.Image object>"
      ]
     },
     "metadata": {},
     "output_type": "display_data"
    },
    {
     "name": "stdout",
     "output_type": "stream",
     "text": [
      "-----------------\n",
      "\n",
      "empty range for randrange() (0,0, 0)\n",
      "empty range for randrange() (0,0, 0)\n",
      "EN \t\t\t\t\t// (LLE-1988-03-01-a-p0018) ([2996, 2696, 88, 123])\n"
     ]
    },
    {
     "data": {
      "text/html": [
       "<img src=\"http://dhlabsrv17.epfl.ch/iiif_impresso/LLE-1988-03-01-a-p0018/2996,2696,88,123/full/0/default.jpg\"/>"
      ],
      "text/plain": [
       "<IPython.core.display.Image object>"
      ]
     },
     "metadata": {},
     "output_type": "display_data"
    },
    {
     "name": "stdout",
     "output_type": "stream",
     "text": [
      "-----------------\n",
      "\n",
      "an \t\t\t\t\t// (LLE-1988-03-01-a-p0018) ([445, 2378, 37, 43])\n"
     ]
    },
    {
     "data": {
      "text/html": [
       "<img src=\"http://dhlabsrv17.epfl.ch/iiif_impresso/LLE-1988-03-01-a-p0018/445,2378,37,43/full/0/default.jpg\"/>"
      ],
      "text/plain": [
       "<IPython.core.display.Image object>"
      ]
     },
     "metadata": {},
     "output_type": "display_data"
    },
    {
     "name": "stdout",
     "output_type": "stream",
     "text": [
      "-----------------\n",
      "\n",
      "Absenl \t\t\t\t\t// (LLE-1959-08-01-a-p0026) ([3341, 838, 389, 158])\n"
     ]
    },
    {
     "data": {
      "text/html": [
       "<img src=\"http://dhlabsrv17.epfl.ch/iiif_impresso/LLE-1959-08-01-a-p0026/3341,838,389,158/full/0/default.jpg\"/>"
      ],
      "text/plain": [
       "<IPython.core.display.Image object>"
      ]
     },
     "metadata": {},
     "output_type": "display_data"
    },
    {
     "name": "stdout",
     "output_type": "stream",
     "text": [
      "-----------------\n",
      "\n",
      "cn \t\t\t\t\t// (LLE-1959-08-01-a-p0026) ([2960, 1517, 45, 66])\n"
     ]
    },
    {
     "data": {
      "text/html": [
       "<img src=\"http://dhlabsrv17.epfl.ch/iiif_impresso/LLE-1959-08-01-a-p0026/2960,1517,45,66/full/0/default.jpg\"/>"
      ],
      "text/plain": [
       "<IPython.core.display.Image object>"
      ]
     },
     "metadata": {},
     "output_type": "display_data"
    },
    {
     "name": "stdout",
     "output_type": "stream",
     "text": [
      "-----------------\n",
      "\n",
      "1991 \t\t\t\t\t// (LLE-1991-01-22-a-p0010) ([467, 165, 77, 39])\n"
     ]
    },
    {
     "data": {
      "text/html": [
       "<img src=\"http://dhlabsrv17.epfl.ch/iiif_impresso/LLE-1991-01-22-a-p0010/467,165,77,39/full/0/default.jpg\"/>"
      ],
      "text/plain": [
       "<IPython.core.display.Image object>"
      ]
     },
     "metadata": {},
     "output_type": "display_data"
    },
    {
     "name": "stdout",
     "output_type": "stream",
     "text": [
      "-----------------\n",
      "\n",
      "bon \t\t\t\t\t// (LLE-1991-01-22-a-p0010) ([2690, 4783, 63, 63])\n"
     ]
    },
    {
     "data": {
      "text/html": [
       "<img src=\"http://dhlabsrv17.epfl.ch/iiif_impresso/LLE-1991-01-22-a-p0010/2690,4783,63,63/full/0/default.jpg\"/>"
      ],
      "text/plain": [
       "<IPython.core.display.Image object>"
      ]
     },
     "metadata": {},
     "output_type": "display_data"
    },
    {
     "name": "stdout",
     "output_type": "stream",
     "text": [
      "-----------------\n",
      "\n",
      "MEGGiTT \t\t\t\t\t// (LLE-2008-06-30-a-p0040) ([2380, 4392, 362, 117])\n"
     ]
    },
    {
     "data": {
      "text/html": [
       "<img src=\"http://dhlabsrv17.epfl.ch/iiif_impresso/LLE-2008-06-30-a-p0040/2380,4392,362,117/full/0/default.jpg\"/>"
      ],
      "text/plain": [
       "<IPython.core.display.Image object>"
      ]
     },
     "metadata": {},
     "output_type": "display_data"
    },
    {
     "name": "stdout",
     "output_type": "stream",
     "text": [
      "-----------------\n",
      "\n",
      "017-865112 \t\t\t\t\t// (LLE-2008-06-30-a-p0040) ([3314, 1514, 120, 33])\n"
     ]
    },
    {
     "data": {
      "text/html": [
       "<img src=\"http://dhlabsrv17.epfl.ch/iiif_impresso/LLE-2008-06-30-a-p0040/3314,1514,120,33/full/0/default.jpg\"/>"
      ],
      "text/plain": [
       "<IPython.core.display.Image object>"
      ]
     },
     "metadata": {},
     "output_type": "display_data"
    },
    {
     "name": "stdout",
     "output_type": "stream",
     "text": [
      "-----------------\n",
      "\n",
      "RADIO \t\t\t\t\t// (LLE-1937-04-13-a-p0006) ([3207, 3046, 317, 73])\n"
     ]
    },
    {
     "data": {
      "text/html": [
       "<img src=\"http://dhlabsrv17.epfl.ch/iiif_impresso/LLE-1937-04-13-a-p0006/3207,3046,317,73/full/0/default.jpg\"/>"
      ],
      "text/plain": [
       "<IPython.core.display.Image object>"
      ]
     },
     "metadata": {},
     "output_type": "display_data"
    },
    {
     "name": "stdout",
     "output_type": "stream",
     "text": [
      "-----------------\n",
      "\n",
      "13 \t\t\t\t\t// (LLE-1937-04-13-a-p0006) ([181, 1894, 34, 40])\n"
     ]
    },
    {
     "data": {
      "text/html": [
       "<img src=\"http://dhlabsrv17.epfl.ch/iiif_impresso/LLE-1937-04-13-a-p0006/181,1894,34,40/full/0/default.jpg\"/>"
      ],
      "text/plain": [
       "<IPython.core.display.Image object>"
      ]
     },
     "metadata": {},
     "output_type": "display_data"
    },
    {
     "name": "stdout",
     "output_type": "stream",
     "text": [
      "-----------------\n",
      "\n",
      "FRîBOURG \t\t\t\t\t// (LLE-1893-06-09-a-p0003) ([128, 199, 345, 95])\n"
     ]
    },
    {
     "data": {
      "text/html": [
       "<img src=\"http://dhlabsrv17.epfl.ch/iiif_impresso/LLE-1893-06-09-a-p0003/128,199,345,95/full/0/default.jpg\"/>"
      ],
      "text/plain": [
       "<IPython.core.display.Image object>"
      ]
     },
     "metadata": {},
     "output_type": "display_data"
    },
    {
     "name": "stdout",
     "output_type": "stream",
     "text": [
      "-----------------\n",
      "\n",
      "reconnaître \t\t\t\t\t// (LLE-1893-06-09-a-p0003) ([969, 2426, 163, 44])\n"
     ]
    },
    {
     "data": {
      "text/html": [
       "<img src=\"http://dhlabsrv17.epfl.ch/iiif_impresso/LLE-1893-06-09-a-p0003/969,2426,163,44/full/0/default.jpg\"/>"
      ],
      "text/plain": [
       "<IPython.core.display.Image object>"
      ]
     },
     "metadata": {},
     "output_type": "display_data"
    },
    {
     "name": "stdout",
     "output_type": "stream",
     "text": [
      "-----------------\n",
      "\n",
      ") \t\t\t\t\t// (LLE-2004-05-24-a-p0010) ([3320, 3945, 8, 40])\n"
     ]
    },
    {
     "data": {
      "text/html": [
       "<img src=\"http://dhlabsrv17.epfl.ch/iiif_impresso/LLE-2004-05-24-a-p0010/3320,3945,8,40/full/0/default.jpg\"/>"
      ],
      "text/plain": [
       "<IPython.core.display.Image object>"
      ]
     },
     "metadata": {},
     "output_type": "display_data"
    },
    {
     "name": "stdout",
     "output_type": "stream",
     "text": [
      "-----------------\n",
      "\n",
      "lélection \t\t\t\t\t// (LLE-2004-05-24-a-p0010) ([57, 699, 356, 128])\n"
     ]
    },
    {
     "data": {
      "text/html": [
       "<img src=\"http://dhlabsrv17.epfl.ch/iiif_impresso/LLE-2004-05-24-a-p0010/57,699,356,128/full/0/default.jpg\"/>"
      ],
      "text/plain": [
       "<IPython.core.display.Image object>"
      ]
     },
     "metadata": {},
     "output_type": "display_data"
    },
    {
     "name": "stdout",
     "output_type": "stream",
     "text": [
      "-----------------\n",
      "\n",
      "PETIT-PIERRE \t\t\t\t\t// (LLE-1997-07-26-a-p0006) ([3300, 2536, 226, 55])\n"
     ]
    },
    {
     "data": {
      "text/html": [
       "<img src=\"http://dhlabsrv17.epfl.ch/iiif_impresso/LLE-1997-07-26-a-p0006/3300,2536,226,55/full/0/default.jpg\"/>"
      ],
      "text/plain": [
       "<IPython.core.display.Image object>"
      ]
     },
     "metadata": {},
     "output_type": "display_data"
    },
    {
     "name": "stdout",
     "output_type": "stream",
     "text": [
      "-----------------\n",
      "\n",
      "apparte- \t\t\t\t\t// (LLE-1997-07-26-a-p0006) ([1341, 1136, 123, 54])\n"
     ]
    },
    {
     "data": {
      "text/html": [
       "<img src=\"http://dhlabsrv17.epfl.ch/iiif_impresso/LLE-1997-07-26-a-p0006/1341,1136,123,54/full/0/default.jpg\"/>"
      ],
      "text/plain": [
       "<IPython.core.display.Image object>"
      ]
     },
     "metadata": {},
     "output_type": "display_data"
    },
    {
     "name": "stdout",
     "output_type": "stream",
     "text": [
      "-----------------\n",
      "\n",
      "rédact \t\t\t\t\t// (LLE-2009-09-23-a-p0003) ([3329, 4432, 93, 38])\n"
     ]
    },
    {
     "data": {
      "text/html": [
       "<img src=\"http://dhlabsrv17.epfl.ch/iiif_impresso/LLE-2009-09-23-a-p0003/3329,4432,93,38/full/0/default.jpg\"/>"
      ],
      "text/plain": [
       "<IPython.core.display.Image object>"
      ]
     },
     "metadata": {},
     "output_type": "display_data"
    },
    {
     "name": "stdout",
     "output_type": "stream",
     "text": [
      "-----------------\n",
      "\n",
      "marque \t\t\t\t\t// (LLE-2009-09-23-a-p0003) ([1278, 2653, 137, 60])\n"
     ]
    },
    {
     "data": {
      "text/html": [
       "<img src=\"http://dhlabsrv17.epfl.ch/iiif_impresso/LLE-2009-09-23-a-p0003/1278,2653,137,60/full/0/default.jpg\"/>"
      ],
      "text/plain": [
       "<IPython.core.display.Image object>"
      ]
     },
     "metadata": {},
     "output_type": "display_data"
    },
    {
     "name": "stdout",
     "output_type": "stream",
     "text": [
      "-----------------\n",
      "\n"
     ]
    },
    {
     "ename": "KeyboardInterrupt",
     "evalue": "",
     "output_type": "error",
     "traceback": [
      "\u001b[0;31m---------------------------------------------------------------------------\u001b[0m",
      "\u001b[0;31mKeyboardInterrupt\u001b[0m                         Traceback (most recent call last)",
      "\u001b[0;32m<ipython-input-27-974802d09f1b>\u001b[0m in \u001b[0;36m<module>\u001b[0;34m\u001b[0m\n\u001b[1;32m      2\u001b[0m \u001b[0;32mimport\u001b[0m \u001b[0mpandas\u001b[0m \u001b[0;32mas\u001b[0m \u001b[0mpd\u001b[0m\u001b[0;34m\u001b[0m\u001b[0;34m\u001b[0m\u001b[0m\n\u001b[1;32m      3\u001b[0m \u001b[0;32mfor\u001b[0m \u001b[0mn\u001b[0m \u001b[0;32min\u001b[0m \u001b[0mrange\u001b[0m\u001b[0;34m(\u001b[0m\u001b[0;36m0\u001b[0m\u001b[0;34m,\u001b[0m \u001b[0;36m200\u001b[0m\u001b[0;34m)\u001b[0m\u001b[0;34m:\u001b[0m\u001b[0;34m\u001b[0m\u001b[0;34m\u001b[0m\u001b[0m\n\u001b[0;32m----> 4\u001b[0;31m     \u001b[0mpage_idx\u001b[0m \u001b[0;34m=\u001b[0m \u001b[0mselect_random_index\u001b[0m\u001b[0;34m(\u001b[0m\u001b[0mpage_files\u001b[0m\u001b[0;34m)\u001b[0m\u001b[0;34m\u001b[0m\u001b[0;34m\u001b[0m\u001b[0m\n\u001b[0m\u001b[1;32m      5\u001b[0m     \u001b[0mpage\u001b[0m \u001b[0;34m=\u001b[0m \u001b[0mpage_files\u001b[0m\u001b[0;34m[\u001b[0m\u001b[0mpage_idx\u001b[0m\u001b[0;34m]\u001b[0m\u001b[0;34m\u001b[0m\u001b[0;34m\u001b[0m\u001b[0m\n\u001b[1;32m      6\u001b[0m     \u001b[0;31m#print(page)\u001b[0m\u001b[0;34m\u001b[0m\u001b[0;34m\u001b[0m\u001b[0;34m\u001b[0m\u001b[0m\n",
      "\u001b[0;32m<ipython-input-26-14a2f384677d>\u001b[0m in \u001b[0;36mselect_random_index\u001b[0;34m(objects)\u001b[0m\n\u001b[1;32m      4\u001b[0m \u001b[0;34m\u001b[0m\u001b[0m\n\u001b[1;32m      5\u001b[0m \u001b[0;32mdef\u001b[0m \u001b[0mselect_random_index\u001b[0m\u001b[0;34m(\u001b[0m\u001b[0mobjects\u001b[0m\u001b[0;34m)\u001b[0m\u001b[0;34m:\u001b[0m\u001b[0;34m\u001b[0m\u001b[0;34m\u001b[0m\u001b[0m\n\u001b[0;32m----> 6\u001b[0;31m     \u001b[0mshuffle\u001b[0m\u001b[0;34m(\u001b[0m\u001b[0mobjects\u001b[0m\u001b[0;34m)\u001b[0m\u001b[0;34m\u001b[0m\u001b[0;34m\u001b[0m\u001b[0m\n\u001b[0m\u001b[1;32m      7\u001b[0m     \u001b[0mtotal_objects\u001b[0m \u001b[0;34m=\u001b[0m \u001b[0mlen\u001b[0m\u001b[0;34m(\u001b[0m\u001b[0mobjects\u001b[0m\u001b[0;34m)\u001b[0m\u001b[0;34m\u001b[0m\u001b[0;34m\u001b[0m\u001b[0m\n\u001b[1;32m      8\u001b[0m     \u001b[0mindex\u001b[0m \u001b[0;34m=\u001b[0m \u001b[0mrandint\u001b[0m\u001b[0;34m(\u001b[0m\u001b[0;36m0\u001b[0m\u001b[0;34m,\u001b[0m \u001b[0mlen\u001b[0m\u001b[0;34m(\u001b[0m\u001b[0mobjects\u001b[0m\u001b[0;34m)\u001b[0m \u001b[0;34m-\u001b[0m \u001b[0;36m1\u001b[0m\u001b[0;34m)\u001b[0m\u001b[0;34m\u001b[0m\u001b[0;34m\u001b[0m\u001b[0m\n",
      "\u001b[0;32m~/.local/share/virtualenvs/impresso-text-acquisition-fjzdMvyF/lib/python3.6/random.py\u001b[0m in \u001b[0;36mshuffle\u001b[0;34m(self, x, random)\u001b[0m\n\u001b[1;32m    274\u001b[0m             \u001b[0;32mfor\u001b[0m \u001b[0mi\u001b[0m \u001b[0;32min\u001b[0m \u001b[0mreversed\u001b[0m\u001b[0;34m(\u001b[0m\u001b[0mrange\u001b[0m\u001b[0;34m(\u001b[0m\u001b[0;36m1\u001b[0m\u001b[0;34m,\u001b[0m \u001b[0mlen\u001b[0m\u001b[0;34m(\u001b[0m\u001b[0mx\u001b[0m\u001b[0;34m)\u001b[0m\u001b[0;34m)\u001b[0m\u001b[0;34m)\u001b[0m\u001b[0;34m:\u001b[0m\u001b[0;34m\u001b[0m\u001b[0;34m\u001b[0m\u001b[0m\n\u001b[1;32m    275\u001b[0m                 \u001b[0;31m# pick an element in x[:i+1] with which to exchange x[i]\u001b[0m\u001b[0;34m\u001b[0m\u001b[0;34m\u001b[0m\u001b[0;34m\u001b[0m\u001b[0m\n\u001b[0;32m--> 276\u001b[0;31m                 \u001b[0mj\u001b[0m \u001b[0;34m=\u001b[0m \u001b[0mrandbelow\u001b[0m\u001b[0;34m(\u001b[0m\u001b[0mi\u001b[0m\u001b[0;34m+\u001b[0m\u001b[0;36m1\u001b[0m\u001b[0;34m)\u001b[0m\u001b[0;34m\u001b[0m\u001b[0;34m\u001b[0m\u001b[0m\n\u001b[0m\u001b[1;32m    277\u001b[0m                 \u001b[0mx\u001b[0m\u001b[0;34m[\u001b[0m\u001b[0mi\u001b[0m\u001b[0;34m]\u001b[0m\u001b[0;34m,\u001b[0m \u001b[0mx\u001b[0m\u001b[0;34m[\u001b[0m\u001b[0mj\u001b[0m\u001b[0;34m]\u001b[0m \u001b[0;34m=\u001b[0m \u001b[0mx\u001b[0m\u001b[0;34m[\u001b[0m\u001b[0mj\u001b[0m\u001b[0;34m]\u001b[0m\u001b[0;34m,\u001b[0m \u001b[0mx\u001b[0m\u001b[0;34m[\u001b[0m\u001b[0mi\u001b[0m\u001b[0;34m]\u001b[0m\u001b[0;34m\u001b[0m\u001b[0;34m\u001b[0m\u001b[0m\n\u001b[1;32m    278\u001b[0m         \u001b[0;32melse\u001b[0m\u001b[0;34m:\u001b[0m\u001b[0;34m\u001b[0m\u001b[0;34m\u001b[0m\u001b[0m\n",
      "\u001b[0;32m~/.local/share/virtualenvs/impresso-text-acquisition-fjzdMvyF/lib/python3.6/random.py\u001b[0m in \u001b[0;36m_randbelow\u001b[0;34m(self, n, int, maxsize, type, Method, BuiltinMethod)\u001b[0m\n\u001b[1;32m    232\u001b[0m             \u001b[0mk\u001b[0m \u001b[0;34m=\u001b[0m \u001b[0mn\u001b[0m\u001b[0;34m.\u001b[0m\u001b[0mbit_length\u001b[0m\u001b[0;34m(\u001b[0m\u001b[0;34m)\u001b[0m  \u001b[0;31m# don't use (n-1) here because n can be 1\u001b[0m\u001b[0;34m\u001b[0m\u001b[0;34m\u001b[0m\u001b[0m\n\u001b[1;32m    233\u001b[0m             \u001b[0mr\u001b[0m \u001b[0;34m=\u001b[0m \u001b[0mgetrandbits\u001b[0m\u001b[0;34m(\u001b[0m\u001b[0mk\u001b[0m\u001b[0;34m)\u001b[0m          \u001b[0;31m# 0 <= r < 2**k\u001b[0m\u001b[0;34m\u001b[0m\u001b[0;34m\u001b[0m\u001b[0m\n\u001b[0;32m--> 234\u001b[0;31m             \u001b[0;32mwhile\u001b[0m \u001b[0mr\u001b[0m \u001b[0;34m>=\u001b[0m \u001b[0mn\u001b[0m\u001b[0;34m:\u001b[0m\u001b[0;34m\u001b[0m\u001b[0;34m\u001b[0m\u001b[0m\n\u001b[0m\u001b[1;32m    235\u001b[0m                 \u001b[0mr\u001b[0m \u001b[0;34m=\u001b[0m \u001b[0mgetrandbits\u001b[0m\u001b[0;34m(\u001b[0m\u001b[0mk\u001b[0m\u001b[0;34m)\u001b[0m\u001b[0;34m\u001b[0m\u001b[0;34m\u001b[0m\u001b[0m\n\u001b[1;32m    236\u001b[0m             \u001b[0;32mreturn\u001b[0m \u001b[0mr\u001b[0m\u001b[0;34m\u001b[0m\u001b[0;34m\u001b[0m\u001b[0m\n",
      "\u001b[0;31mKeyboardInterrupt\u001b[0m: "
     ]
    }
   ],
   "source": [
    "import re\n",
    "import pandas as pd\n",
    "for n in range(0, 200):\n",
    "    page_idx = select_random_index(page_files)\n",
    "    page = page_files[page_idx]\n",
    "    #print(page)\n",
    "    for i in range(0, 2):\n",
    "        try:\n",
    "            token = select_random_token(page)\n",
    "            basename = page[re.search(r\"[A-Z]{3,3}-\", page).start():].replace('.json', '')\n",
    "            link_token = get_link(basename, token['c'])\n",
    "            print(f\"{token['tx']} \\t\\t\\t\\t\\t// ({basename}) ({token['c']})\")\n",
    "            display(Image(url=link_token))\n",
    "            print(\"-----------------\\n\")\n",
    "                  \n",
    "            #reg = select_random_region(page)\n",
    "            #link_reg = get_link(basename, reg['c'])\n",
    "            #print(basename)\n",
    "            #display(Image(url=link_reg))\n",
    "            #display(Image(url=link_reg.replace(\"iiif_impresso\",\"iiif_impresso_new\")))\n",
    "            #print(\"-----------------\\n\")\n",
    "            \n",
    "        except Exception as e:\n",
    "            print(e)\n",
    "            pass"
   ]
  },
  {
   "cell_type": "code",
   "execution_count": null,
   "metadata": {},
   "outputs": [],
   "source": []
  },
  {
   "cell_type": "code",
   "execution_count": null,
   "metadata": {},
   "outputs": [],
   "source": []
  }
 ],
 "metadata": {
  "kernelspec": {
   "display_name": "Python 3",
   "language": "python",
   "name": "python3"
  },
  "language_info": {
   "codemirror_mode": {
    "name": "ipython",
    "version": 3
   },
   "file_extension": ".py",
   "mimetype": "text/x-python",
   "name": "python",
   "nbconvert_exporter": "python",
   "pygments_lexer": "ipython3",
   "version": "3.6.7"
  },
  "toc": {
   "colors": {
    "hover_highlight": "#DAA520",
    "navigate_num": "#000000",
    "navigate_text": "#333333",
    "running_highlight": "#FF0000",
    "selected_highlight": "#FFD700",
    "sidebar_border": "#EEEEEE",
    "wrapper_background": "#FFFFFF"
   },
   "moveMenuLeft": true,
   "nav_menu": {
    "height": "12px",
    "width": "252px"
   },
   "navigate_menu": true,
   "number_sections": false,
   "sideBar": true,
   "threshold": 4,
   "toc_cell": false,
   "toc_position": {
    "height": "681px",
    "left": "0px",
    "right": "1461px",
    "top": "111px",
    "width": "212px"
   },
   "toc_section_display": "block",
   "toc_window_display": true,
   "widenNotebook": false
  }
 },
 "nbformat": 4,
 "nbformat_minor": 2
}
