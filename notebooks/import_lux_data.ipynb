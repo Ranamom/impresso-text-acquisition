{
 "cells": [
  {
   "cell_type": "code",
   "execution_count": 1,
   "metadata": {},
   "outputs": [],
   "source": [
    "%load_ext autoreload\n",
    "%autoreload 2"
   ]
  },
  {
   "cell_type": "code",
   "execution_count": 2,
   "metadata": {},
   "outputs": [],
   "source": [
    "import os\n",
    "import jsonlines\n",
    "from smart_open import smart_open\n",
    "from dask import bag as db\n",
    "from dask.distributed import Client, progress"
   ]
  },
  {
   "cell_type": "code",
   "execution_count": 3,
   "metadata": {},
   "outputs": [],
   "source": [
    "from text_importer.importers.lux.detect import detect_issues as lux_detect_issues\n",
    "from text_importer.importers.lux.classes import LuxNewspaperIssue\n",
    "from text_importer.importers.lux.core import mets2issue"
   ]
  },
  {
   "cell_type": "code",
   "execution_count": 4,
   "metadata": {},
   "outputs": [],
   "source": [
    "from impresso_commons.text.rebuilder import upload"
   ]
  },
  {
   "cell_type": "code",
   "execution_count": 12,
   "metadata": {},
   "outputs": [],
   "source": [
    "client = Client(\"localhost:8786\")"
   ]
  },
  {
   "cell_type": "code",
   "execution_count": 13,
   "metadata": {},
   "outputs": [
    {
     "data": {
      "text/html": [
       "<table style=\"border: 2px solid white;\">\n",
       "<tr>\n",
       "<td style=\"vertical-align: top; border: 0px solid white\">\n",
       "<h3>Client</h3>\n",
       "<ul>\n",
       "  <li><b>Scheduler: </b>tcp://localhost:8786\n",
       "  <li><b>Dashboard: </b><a href='http://localhost:8787/status' target='_blank'>http://localhost:8787/status</a>\n",
       "</ul>\n",
       "</td>\n",
       "<td style=\"vertical-align: top; border: 0px solid white\">\n",
       "<h3>Cluster</h3>\n",
       "<ul>\n",
       "  <li><b>Workers: </b>8</li>\n",
       "  <li><b>Cores: </b>16</li>\n",
       "  <li><b>Memory: </b>67.30 GB</li>\n",
       "</ul>\n",
       "</td>\n",
       "</tr>\n",
       "</table>"
      ],
      "text/plain": [
       "<Client: scheduler='tcp://128.178.115.26:8786' processes=8 cores=16>"
      ]
     },
     "execution_count": 13,
     "metadata": {},
     "output_type": "execute_result"
    }
   ],
   "source": [
    "client"
   ]
  },
  {
   "cell_type": "code",
   "execution_count": 14,
   "metadata": {},
   "outputs": [],
   "source": [
    "input_dir = \"/mnt/project_impresso/original/BNL/\""
   ]
  },
  {
   "cell_type": "code",
   "execution_count": 25,
   "metadata": {},
   "outputs": [],
   "source": [
    "issues = lux_detect_issues(input_dir)\n",
    "issue_bag = db.from_sequence(issues)"
   ]
  },
  {
   "cell_type": "code",
   "execution_count": 26,
   "metadata": {},
   "outputs": [
    {
     "data": {
      "text/plain": [
       "dask.bag<from_se..., npartitions=101>"
      ]
     },
     "execution_count": 26,
     "metadata": {},
     "output_type": "execute_result"
    }
   ],
   "source": [
    "issue_bag"
   ]
  },
  {
   "cell_type": "markdown",
   "metadata": {},
   "source": [
    "## end-to-end processing of one newspaper"
   ]
  },
  {
   "cell_type": "code",
   "execution_count": 17,
   "metadata": {},
   "outputs": [],
   "source": [
    "from text_importer.importers.lux.core import serialize_page, upload_issues, issue2pages\n",
    "from text_importer.importers.lux.core import compress_issues, issue2pages, process_page\n",
    "from impresso_commons.path.path_fs import canonical_path\n",
    "from impresso_commons.text.rebuilder import cleanup\n",
    "from impresso_commons.utils.s3 import get_s3_resource"
   ]
  },
  {
   "cell_type": "code",
   "execution_count": 18,
   "metadata": {},
   "outputs": [],
   "source": [
    "out_dir = \"/media/romanell/4T/matteo/impresso-canonical/\"\n",
    "s3_bucket = 'original-canonical-data'"
   ]
  },
  {
   "cell_type": "code",
   "execution_count": 27,
   "metadata": {},
   "outputs": [],
   "source": [
    "issue_bag =  issue_bag.filter(lambda i: i.journal == 'onsjongen')\\\n",
    "        .repartition(8)\\\n",
    "        .map(mets2issue)\\\n",
    "        .filter(lambda i: i is not None)\\\n",
    "        .persist()"
   ]
  },
  {
   "cell_type": "code",
   "execution_count": 32,
   "metadata": {},
   "outputs": [
    {
     "data": {
      "application/vnd.jupyter.widget-view+json": {
       "model_id": "9f2c6fb8b9e445e3bedd0c879575514d",
       "version_major": 2,
       "version_minor": 0
      },
      "text/plain": [
       "VBox()"
      ]
     },
     "metadata": {},
     "output_type": "display_data"
    }
   ],
   "source": [
    "progress(issue_bag)"
   ]
  },
  {
   "cell_type": "code",
   "execution_count": 33,
   "metadata": {},
   "outputs": [
    {
     "data": {
      "text/plain": [
       "139"
      ]
     },
     "execution_count": 33,
     "metadata": {},
     "output_type": "execute_result"
    }
   ],
   "source": [
    "issue_bag.count().compute()"
   ]
  },
  {
   "cell_type": "code",
   "execution_count": null,
   "metadata": {},
   "outputs": [],
   "source": [
    "result = issue_bag.groupby(lambda i: (i.journal, i.date.year))\\\n",
    "    .starmap(compress_issues, output_dir=out_dir)\\\n",
    "    .starmap(upload_issues, bucket_name=s3_bucket)\\\n",
    "    .compute()"
   ]
  },
  {
   "cell_type": "code",
   "execution_count": null,
   "metadata": {},
   "outputs": [],
   "source": [
    "pages_bag = issue_bag\\\n",
    "    .map(issue2pages)\\\n",
    "    .flatten()\\\n",
    "    .persist()\n",
    "\n",
    "print(f'Pages to process: {pages_bag.count().compute()}')"
   ]
  },
  {
   "cell_type": "code",
   "execution_count": null,
   "metadata": {},
   "outputs": [],
   "source": [
    "pages_bag = pages_bag\\\n",
    "    .repartition(1500)\\\n",
    "    .map(process_page)\\\n",
    "    .map(serialize_page, output_dir=out_dir)\\\n",
    "    .persist()"
   ]
  },
  {
   "cell_type": "code",
   "execution_count": null,
   "metadata": {},
   "outputs": [],
   "source": [
    "progress(pages_bag)"
   ]
  },
  {
   "cell_type": "code",
   "execution_count": 105,
   "metadata": {},
   "outputs": [],
   "source": [
    "x = pages_bag.groupby(lambda x: canonical_path(x[0], path_type='dir').replace('/', '-'))\\\n",
    "    .starmap(compress_pages, prefix='pages', output_dir=out_dir)\\\n",
    "    .starmap(upload_pages, bucket_name='original-canonical-data')\\\n",
    "    .starmap(cleanup).compute()"
   ]
  },
  {
   "cell_type": "code",
   "execution_count": 106,
   "metadata": {},
   "outputs": [
    {
     "data": {
      "text/plain": [
       "[None,\n",
       " None,\n",
       " None,\n",
       " None,\n",
       " None,\n",
       " None,\n",
       " None,\n",
       " None,\n",
       " None,\n",
       " None,\n",
       " None,\n",
       " None,\n",
       " None,\n",
       " None,\n",
       " None,\n",
       " None,\n",
       " None,\n",
       " None,\n",
       " None,\n",
       " None,\n",
       " None,\n",
       " None,\n",
       " None,\n",
       " None,\n",
       " None,\n",
       " None,\n",
       " None,\n",
       " None,\n",
       " None,\n",
       " None,\n",
       " None,\n",
       " None,\n",
       " None,\n",
       " None,\n",
       " None,\n",
       " None,\n",
       " None,\n",
       " None,\n",
       " None,\n",
       " None,\n",
       " None,\n",
       " None,\n",
       " None,\n",
       " None,\n",
       " None,\n",
       " None,\n",
       " None,\n",
       " None,\n",
       " None,\n",
       " None,\n",
       " None,\n",
       " None,\n",
       " None,\n",
       " None,\n",
       " None,\n",
       " None,\n",
       " None,\n",
       " None,\n",
       " None,\n",
       " None,\n",
       " None,\n",
       " None,\n",
       " None,\n",
       " None,\n",
       " None,\n",
       " None,\n",
       " None,\n",
       " None,\n",
       " None,\n",
       " None,\n",
       " None,\n",
       " None,\n",
       " None,\n",
       " None,\n",
       " None,\n",
       " None,\n",
       " None,\n",
       " None,\n",
       " None,\n",
       " None,\n",
       " None,\n",
       " None,\n",
       " None,\n",
       " None,\n",
       " None,\n",
       " None,\n",
       " None,\n",
       " None,\n",
       " None,\n",
       " None,\n",
       " None,\n",
       " None,\n",
       " None,\n",
       " None,\n",
       " None,\n",
       " None,\n",
       " None,\n",
       " None,\n",
       " None,\n",
       " None,\n",
       " None,\n",
       " None,\n",
       " None,\n",
       " None,\n",
       " None,\n",
       " None,\n",
       " None,\n",
       " None,\n",
       " None,\n",
       " None,\n",
       " None,\n",
       " None,\n",
       " None,\n",
       " None,\n",
       " None,\n",
       " None,\n",
       " None,\n",
       " None,\n",
       " None,\n",
       " None,\n",
       " None,\n",
       " None,\n",
       " None,\n",
       " None,\n",
       " None,\n",
       " None,\n",
       " None,\n",
       " None,\n",
       " None,\n",
       " None,\n",
       " None,\n",
       " None,\n",
       " None,\n",
       " None,\n",
       " None,\n",
       " None,\n",
       " None,\n",
       " None,\n",
       " None,\n",
       " None,\n",
       " None,\n",
       " None,\n",
       " None,\n",
       " None,\n",
       " None,\n",
       " None,\n",
       " None,\n",
       " None,\n",
       " None,\n",
       " None,\n",
       " None,\n",
       " None,\n",
       " None,\n",
       " None,\n",
       " None,\n",
       " None,\n",
       " None,\n",
       " None,\n",
       " None,\n",
       " None,\n",
       " None,\n",
       " None,\n",
       " None,\n",
       " None,\n",
       " None,\n",
       " None,\n",
       " None,\n",
       " None,\n",
       " None,\n",
       " None,\n",
       " None,\n",
       " None,\n",
       " None,\n",
       " None,\n",
       " None,\n",
       " None,\n",
       " None,\n",
       " None,\n",
       " None,\n",
       " None,\n",
       " None,\n",
       " None,\n",
       " None,\n",
       " None,\n",
       " None,\n",
       " None,\n",
       " None,\n",
       " None,\n",
       " None,\n",
       " None,\n",
       " None,\n",
       " None,\n",
       " None,\n",
       " None,\n",
       " None,\n",
       " None,\n",
       " None,\n",
       " None,\n",
       " None,\n",
       " None,\n",
       " None,\n",
       " None,\n",
       " None,\n",
       " None,\n",
       " None,\n",
       " None,\n",
       " None,\n",
       " None,\n",
       " None,\n",
       " None,\n",
       " None,\n",
       " None,\n",
       " None,\n",
       " None,\n",
       " None,\n",
       " None,\n",
       " None,\n",
       " None,\n",
       " None,\n",
       " None,\n",
       " None,\n",
       " None,\n",
       " None,\n",
       " None,\n",
       " None,\n",
       " None,\n",
       " None,\n",
       " None,\n",
       " None,\n",
       " None,\n",
       " None,\n",
       " None,\n",
       " None,\n",
       " None,\n",
       " None,\n",
       " None,\n",
       " None,\n",
       " None,\n",
       " None,\n",
       " None,\n",
       " None,\n",
       " None,\n",
       " None,\n",
       " None,\n",
       " None,\n",
       " None,\n",
       " None,\n",
       " None,\n",
       " None,\n",
       " None,\n",
       " None,\n",
       " None,\n",
       " None,\n",
       " None,\n",
       " None,\n",
       " None,\n",
       " None,\n",
       " None,\n",
       " None,\n",
       " None,\n",
       " None,\n",
       " None,\n",
       " None,\n",
       " None,\n",
       " None,\n",
       " None,\n",
       " None,\n",
       " None,\n",
       " None,\n",
       " None,\n",
       " None,\n",
       " None,\n",
       " None,\n",
       " None,\n",
       " None,\n",
       " None,\n",
       " None,\n",
       " None,\n",
       " None,\n",
       " None,\n",
       " None,\n",
       " None,\n",
       " None,\n",
       " None,\n",
       " None,\n",
       " None,\n",
       " None,\n",
       " None,\n",
       " None,\n",
       " None,\n",
       " None,\n",
       " None,\n",
       " None,\n",
       " None,\n",
       " None,\n",
       " None,\n",
       " None,\n",
       " None,\n",
       " None,\n",
       " None,\n",
       " None,\n",
       " None,\n",
       " None,\n",
       " None,\n",
       " None,\n",
       " None,\n",
       " None,\n",
       " None,\n",
       " None,\n",
       " None,\n",
       " None,\n",
       " None,\n",
       " None,\n",
       " None,\n",
       " None,\n",
       " None,\n",
       " None,\n",
       " None,\n",
       " None,\n",
       " None,\n",
       " None,\n",
       " None,\n",
       " None,\n",
       " None,\n",
       " None,\n",
       " None,\n",
       " None,\n",
       " None,\n",
       " None,\n",
       " None,\n",
       " None,\n",
       " None,\n",
       " None,\n",
       " None,\n",
       " None,\n",
       " None,\n",
       " None,\n",
       " None,\n",
       " None,\n",
       " None,\n",
       " None,\n",
       " None,\n",
       " None,\n",
       " None,\n",
       " None,\n",
       " None,\n",
       " None,\n",
       " None,\n",
       " None,\n",
       " None,\n",
       " None,\n",
       " None,\n",
       " None,\n",
       " None,\n",
       " None,\n",
       " None,\n",
       " None,\n",
       " None,\n",
       " None,\n",
       " None,\n",
       " None,\n",
       " None,\n",
       " None,\n",
       " None,\n",
       " None,\n",
       " None,\n",
       " None,\n",
       " None,\n",
       " None,\n",
       " None,\n",
       " None,\n",
       " None,\n",
       " None,\n",
       " None,\n",
       " None,\n",
       " None,\n",
       " None,\n",
       " None,\n",
       " None,\n",
       " None,\n",
       " None,\n",
       " None,\n",
       " None,\n",
       " None,\n",
       " None,\n",
       " None,\n",
       " None,\n",
       " None,\n",
       " None,\n",
       " None,\n",
       " None,\n",
       " None,\n",
       " None,\n",
       " None,\n",
       " None,\n",
       " None,\n",
       " None,\n",
       " None,\n",
       " None,\n",
       " None,\n",
       " None,\n",
       " None,\n",
       " None,\n",
       " None,\n",
       " None,\n",
       " None,\n",
       " None,\n",
       " None,\n",
       " None,\n",
       " None,\n",
       " None,\n",
       " None,\n",
       " None,\n",
       " None,\n",
       " None,\n",
       " None,\n",
       " None,\n",
       " None,\n",
       " None,\n",
       " None,\n",
       " None,\n",
       " None,\n",
       " None,\n",
       " None,\n",
       " None,\n",
       " None,\n",
       " None,\n",
       " None,\n",
       " None,\n",
       " None,\n",
       " None,\n",
       " None,\n",
       " None,\n",
       " None,\n",
       " None,\n",
       " None,\n",
       " None,\n",
       " None,\n",
       " None,\n",
       " None,\n",
       " None,\n",
       " None,\n",
       " None,\n",
       " None,\n",
       " None,\n",
       " None,\n",
       " None,\n",
       " None,\n",
       " None,\n",
       " None,\n",
       " None,\n",
       " None,\n",
       " None,\n",
       " None,\n",
       " None,\n",
       " None,\n",
       " None,\n",
       " None,\n",
       " None,\n",
       " None,\n",
       " None,\n",
       " None,\n",
       " None,\n",
       " None,\n",
       " None,\n",
       " None,\n",
       " None,\n",
       " None,\n",
       " None,\n",
       " None,\n",
       " None,\n",
       " None,\n",
       " None,\n",
       " None,\n",
       " None,\n",
       " None,\n",
       " None,\n",
       " None,\n",
       " None,\n",
       " None,\n",
       " None,\n",
       " None,\n",
       " None,\n",
       " None,\n",
       " None,\n",
       " None,\n",
       " None,\n",
       " None,\n",
       " None,\n",
       " None,\n",
       " None,\n",
       " None,\n",
       " None,\n",
       " None,\n",
       " None,\n",
       " None,\n",
       " None,\n",
       " None,\n",
       " None,\n",
       " None,\n",
       " None,\n",
       " None,\n",
       " None,\n",
       " None,\n",
       " None,\n",
       " None,\n",
       " None,\n",
       " None,\n",
       " None,\n",
       " None,\n",
       " None,\n",
       " None,\n",
       " None,\n",
       " None,\n",
       " None,\n",
       " None,\n",
       " None,\n",
       " None,\n",
       " None,\n",
       " None,\n",
       " None,\n",
       " None,\n",
       " None,\n",
       " None,\n",
       " None,\n",
       " None,\n",
       " None,\n",
       " None,\n",
       " None,\n",
       " None,\n",
       " None,\n",
       " None,\n",
       " None,\n",
       " None,\n",
       " None,\n",
       " None,\n",
       " None,\n",
       " None]"
      ]
     },
     "execution_count": 106,
     "metadata": {},
     "output_type": "execute_result"
    }
   ],
   "source": [
    "x"
   ]
  },
  {
   "cell_type": "code",
   "execution_count": 12,
   "metadata": {},
   "outputs": [],
   "source": [
    "# TODO: move this function to the codebase, it's generic enough!\n",
    "import json\n",
    "\n",
    "def compress_pages(key, json_files, output_dir, prefix=\"\"):\n",
    "    \"\"\"Merges a set of JSON line files into a single compressed archive.\n",
    "\n",
    "    :param key: signature of the newspaper issue (e.g. GDL-1900)\n",
    "    :type key: str\n",
    "    :param json_files: input JSON line files\n",
    "    :type json_files: list\n",
    "    :param output_dir: directory where to write the output file\n",
    "    :type outp_dir: str\n",
    "    :return: a tuple with: sorting key [0] and path to serialized file [1].\n",
    "    :rytpe: tuple\n",
    "\n",
    "    .. note::\n",
    "\n",
    "        `sort_key` is expected to be the concatenation of newspaper ID and year\n",
    "        (e.g. GDL-1900).\n",
    "    \"\"\"\n",
    "\n",
    "    \n",
    "    newspaper, year, month, day, edition = key.split('-')\n",
    "    prefix_string = \"\" if prefix == \"\" else f\"-{prefix}\"\n",
    "    filename = f'{newspaper}-{year}-{month}-{day}-{edition}{prefix_string}.jsonl.bz2'\n",
    "    filepath = os.path.join(output_dir, filename)\n",
    "    print(f'Compressing {len(json_files)} JSON files into {filepath}')\n",
    "\n",
    "    with smart_open(filepath, 'wb') as fout:\n",
    "        writer = jsonlines.Writer(fout)\n",
    "\n",
    "        items = []\n",
    "        for issue, json_file in json_files:\n",
    "            \n",
    "            with open(json_file, 'r') as inpf:\n",
    "                item = json.load(inpf)\n",
    "                items.append(item)\n",
    "            \n",
    "        writer.write_all(items)\n",
    "        print(\n",
    "            f'Written {len(items)} docs from {json_file} to {filepath}'\n",
    "        )\n",
    "\n",
    "        writer.close()\n",
    "\n",
    "    return (key, filepath)\n",
    "    print(len(json_files))"
   ]
  },
  {
   "cell_type": "code",
   "execution_count": 13,
   "metadata": {},
   "outputs": [],
   "source": [
    "def upload_pages(sort_key, filepath, bucket_name=None):\n",
    "    \"\"\"Uploads a file to a given S3 bucket.\n",
    "    :param sort_key: the key used to group articles (e.g. \"GDL-1900\")\n",
    "    :type sort_key: str\n",
    "    :param filepath: path of the file to upload to S3\n",
    "    :type filepath: str\n",
    "    :param bucket_name: name of S3 bucket where to upload the file\n",
    "    :type bucket_name: str\n",
    "    :return: a tuple with [0] whether the upload was successful (boolean) and\n",
    "        [1] the path of the uploaded file (string)\n",
    "    .. note::\n",
    "        `sort_key` is expected to be the concatenation of newspaper ID and year\n",
    "        (e.g. GDL-1900).\n",
    "    \"\"\"\n",
    "    # create connection with bucket\n",
    "    # copy contents to s3 key\n",
    "    newspaper, year, month, day, edition = sort_key.split('-')\n",
    "    key_name = \"{}/{}/{}\".format(\n",
    "        newspaper,\n",
    "        f'{newspaper}-{year}',\n",
    "        os.path.basename(filepath)\n",
    "    )\n",
    "    s3 = get_s3_resource()\n",
    "    try:\n",
    "        bucket = s3.Bucket(bucket_name)\n",
    "        bucket.upload_file(filepath, key_name)\n",
    "        print(f'Uploaded {filepath} to {key_name}')\n",
    "        return True, filepath\n",
    "    except Exception as e:\n",
    "        #logger.error(e)\n",
    "        #logger.error(f'The upload of {filepath} failed with error {e}')\n",
    "        return False, filepath"
   ]
  },
  {
   "cell_type": "markdown",
   "metadata": {},
   "source": [
    "## Notes"
   ]
  },
  {
   "cell_type": "code",
   "execution_count": null,
   "metadata": {},
   "outputs": [],
   "source": [
    "issue = issue_bag.take(1)[0]"
   ]
  },
  {
   "cell_type": "code",
   "execution_count": 92,
   "metadata": {},
   "outputs": [
    {
     "data": {
      "text/plain": [
       "<text_importer.importers.lux.classes.LuxNewspaperIssue at 0x7ff33fbbac18>"
      ]
     },
     "execution_count": 92,
     "metadata": {},
     "output_type": "execute_result"
    }
   ],
   "source": [
    "LuxNewspaperIssue(issue)"
   ]
  },
  {
   "cell_type": "code",
   "execution_count": 8,
   "metadata": {},
   "outputs": [
    {
     "data": {
      "text/plain": [
       "97326"
      ]
     },
     "execution_count": 8,
     "metadata": {},
     "output_type": "execute_result"
    }
   ],
   "source": [
    "issue_bag.count().compute()"
   ]
  },
  {
   "cell_type": "code",
   "execution_count": 9,
   "metadata": {},
   "outputs": [],
   "source": [
    "issues_by_np = issue_bag.groupby(lambda i: i.journal).compute()"
   ]
  },
  {
   "cell_type": "code",
   "execution_count": 10,
   "metadata": {},
   "outputs": [
    {
     "name": "stdout",
     "output_type": "stream",
     "text": [
      "courriergdl 4367\n",
      "diekwochen 444\n",
      "onsjongen 139\n",
      "deletz1893 887\n",
      "lunion 3144\n",
      "armeteufel 916\n",
      "schmiede 159\n",
      "demitock 134\n",
      "landwortbild 39\n",
      "waechtersauer 2199\n",
      "luxzeit1844 215\n",
      "waeschfra 660\n",
      "dunioun 891\n",
      "obermosel 12563\n",
      "avenirgdl 995\n",
      "indeplux 18655\n",
      "buergerbeamten 3008\n",
      "gazgrdlux 141\n",
      "luxembourg1935 1540\n",
      "volkfreu1869 1087\n",
      "actionfem 101\n",
      "kommmit 22\n",
      "luxzeit1858 538\n",
      "luxwort 30372\n",
      "luxland 2772\n",
      "tageblatt 11338\n"
     ]
    }
   ],
   "source": [
    "for np, issues in issues_by_np:\n",
    "    print(np, len(issues))"
   ]
  },
  {
   "cell_type": "code",
   "execution_count": 11,
   "metadata": {},
   "outputs": [],
   "source": [
    "issue_sample = issue_bag.filter(\n",
    "    lambda i: i.journal=='luxzeit1858' and i.date.year==1858 and i.date.day == 1 \n",
    ").persist()"
   ]
  },
  {
   "cell_type": "code",
   "execution_count": 23,
   "metadata": {},
   "outputs": [],
   "source": [
    "issue_sample = issue_bag.filter(\n",
    "    lambda i: i.journal=='indeplux' and i.date.year==1871 \n",
    ").persist()"
   ]
  },
  {
   "cell_type": "code",
   "execution_count": 24,
   "metadata": {},
   "outputs": [
    {
     "data": {
      "text/plain": [
       "[IssueDirectory(journal='indeplux', date=datetime.date(1871, 10, 5), edition='a', path='/mnt/project_impresso/original/BNL/public_domain_007/3025392_newspaper_indeplux_1871-10-05_01', rights='o'),\n",
       " IssueDirectory(journal='indeplux', date=datetime.date(1871, 10, 3), edition='a', path='/mnt/project_impresso/original/BNL/public_domain_007/3025395_newspaper_indeplux_1871-10-03_01', rights='o'),\n",
       " IssueDirectory(journal='indeplux', date=datetime.date(1871, 10, 1), edition='a', path='/mnt/project_impresso/original/BNL/public_domain_007/3025398_newspaper_indeplux_1871-10-01_01', rights='o'),\n",
       " IssueDirectory(journal='indeplux', date=datetime.date(1871, 10, 6), edition='a', path='/mnt/project_impresso/original/BNL/public_domain_007/3025402_newspaper_indeplux_1871-10-06_01', rights='o'),\n",
       " IssueDirectory(journal='indeplux', date=datetime.date(1871, 10, 4), edition='a', path='/mnt/project_impresso/original/BNL/public_domain_007/3025404_newspaper_indeplux_1871-10-04_01', rights='o'),\n",
       " IssueDirectory(journal='indeplux', date=datetime.date(1871, 10, 11), edition='a', path='/mnt/project_impresso/original/BNL/public_domain_007/3025502_newspaper_indeplux_1871-10-11_01', rights='o'),\n",
       " IssueDirectory(journal='indeplux', date=datetime.date(1871, 10, 8), edition='a', path='/mnt/project_impresso/original/BNL/public_domain_007/3025516_newspaper_indeplux_1871-10-08_01', rights='o'),\n",
       " IssueDirectory(journal='indeplux', date=datetime.date(1871, 10, 10), edition='a', path='/mnt/project_impresso/original/BNL/public_domain_007/3025527_newspaper_indeplux_1871-10-10_01', rights='o'),\n",
       " IssueDirectory(journal='indeplux', date=datetime.date(1871, 10, 7), edition='a', path='/mnt/project_impresso/original/BNL/public_domain_007/3025529_newspaper_indeplux_1871-10-07_01', rights='o'),\n",
       " IssueDirectory(journal='indeplux', date=datetime.date(1871, 10, 12), edition='a', path='/mnt/project_impresso/original/BNL/public_domain_007/3025532_newspaper_indeplux_1871-10-12_01', rights='o'),\n",
       " IssueDirectory(journal='indeplux', date=datetime.date(1871, 10, 17), edition='a', path='/mnt/project_impresso/original/BNL/public_domain_007/3025612_newspaper_indeplux_1871-10-17_01', rights='o'),\n",
       " IssueDirectory(journal='indeplux', date=datetime.date(1871, 10, 14), edition='a', path='/mnt/project_impresso/original/BNL/public_domain_007/3025634_newspaper_indeplux_1871-10-14_01', rights='o'),\n",
       " IssueDirectory(journal='indeplux', date=datetime.date(1871, 10, 15), edition='a', path='/mnt/project_impresso/original/BNL/public_domain_007/3025638_newspaper_indeplux_1871-10-15_01', rights='o'),\n",
       " IssueDirectory(journal='indeplux', date=datetime.date(1871, 10, 18), edition='a', path='/mnt/project_impresso/original/BNL/public_domain_007/3025644_newspaper_indeplux_1871-10-18_01', rights='o'),\n",
       " IssueDirectory(journal='indeplux', date=datetime.date(1871, 10, 13), edition='a', path='/mnt/project_impresso/original/BNL/public_domain_007/3025647_newspaper_indeplux_1871-10-13_01', rights='o'),\n",
       " IssueDirectory(journal='indeplux', date=datetime.date(1871, 10, 22), edition='a', path='/mnt/project_impresso/original/BNL/public_domain_007/3025722_newspaper_indeplux_1871-10-22_01', rights='o'),\n",
       " IssueDirectory(journal='indeplux', date=datetime.date(1871, 10, 20), edition='a', path='/mnt/project_impresso/original/BNL/public_domain_007/3025744_newspaper_indeplux_1871-10-20_01', rights='o'),\n",
       " IssueDirectory(journal='indeplux', date=datetime.date(1871, 10, 21), edition='a', path='/mnt/project_impresso/original/BNL/public_domain_007/3025749_newspaper_indeplux_1871-10-21_01', rights='o'),\n",
       " IssueDirectory(journal='indeplux', date=datetime.date(1871, 10, 24), edition='a', path='/mnt/project_impresso/original/BNL/public_domain_007/3025760_newspaper_indeplux_1871-10-24_01', rights='o'),\n",
       " IssueDirectory(journal='indeplux', date=datetime.date(1871, 10, 19), edition='a', path='/mnt/project_impresso/original/BNL/public_domain_007/3025764_newspaper_indeplux_1871-10-19_01', rights='o'),\n",
       " IssueDirectory(journal='indeplux', date=datetime.date(1871, 10, 28), edition='a', path='/mnt/project_impresso/original/BNL/public_domain_007/3025828_newspaper_indeplux_1871-10-28_01', rights='o'),\n",
       " IssueDirectory(journal='indeplux', date=datetime.date(1871, 10, 26), edition='a', path='/mnt/project_impresso/original/BNL/public_domain_007/3025854_newspaper_indeplux_1871-10-26_01', rights='o'),\n",
       " IssueDirectory(journal='indeplux', date=datetime.date(1871, 10, 27), edition='a', path='/mnt/project_impresso/original/BNL/public_domain_007/3025862_newspaper_indeplux_1871-10-27_01', rights='o'),\n",
       " IssueDirectory(journal='indeplux', date=datetime.date(1871, 10, 29), edition='a', path='/mnt/project_impresso/original/BNL/public_domain_007/3025880_newspaper_indeplux_1871-10-29_01', rights='o'),\n",
       " IssueDirectory(journal='indeplux', date=datetime.date(1871, 10, 25), edition='a', path='/mnt/project_impresso/original/BNL/public_domain_007/3025883_newspaper_indeplux_1871-10-25_01', rights='o'),\n",
       " IssueDirectory(journal='indeplux', date=datetime.date(1871, 11, 4), edition='a', path='/mnt/project_impresso/original/BNL/public_domain_007/3025929_newspaper_indeplux_1871-11-04_01', rights='o'),\n",
       " IssueDirectory(journal='indeplux', date=datetime.date(1871, 11, 1), edition='a', path='/mnt/project_impresso/original/BNL/public_domain_007/3025964_newspaper_indeplux_1871-11-01_01', rights='o'),\n",
       " IssueDirectory(journal='indeplux', date=datetime.date(1871, 11, 3), edition='a', path='/mnt/project_impresso/original/BNL/public_domain_007/3025972_newspaper_indeplux_1871-11-03_01', rights='o'),\n",
       " IssueDirectory(journal='indeplux', date=datetime.date(1871, 11, 5), edition='a', path='/mnt/project_impresso/original/BNL/public_domain_007/3025994_newspaper_indeplux_1871-11-05_01', rights='o'),\n",
       " IssueDirectory(journal='indeplux', date=datetime.date(1871, 10, 31), edition='a', path='/mnt/project_impresso/original/BNL/public_domain_007/3026004_newspaper_indeplux_1871-10-31_01', rights='o'),\n",
       " IssueDirectory(journal='indeplux', date=datetime.date(1871, 11, 10), edition='a', path='/mnt/project_impresso/original/BNL/public_domain_007/3026018_newspaper_indeplux_1871-11-10_01', rights='o'),\n",
       " IssueDirectory(journal='indeplux', date=datetime.date(1871, 11, 8), edition='a', path='/mnt/project_impresso/original/BNL/public_domain_007/3026074_newspaper_indeplux_1871-11-08_01', rights='o'),\n",
       " IssueDirectory(journal='indeplux', date=datetime.date(1871, 11, 9), edition='a', path='/mnt/project_impresso/original/BNL/public_domain_007/3026084_newspaper_indeplux_1871-11-09_01', rights='o'),\n",
       " IssueDirectory(journal='indeplux', date=datetime.date(1871, 11, 11), edition='a', path='/mnt/project_impresso/original/BNL/public_domain_007/3026111_newspaper_indeplux_1871-11-11_01', rights='o'),\n",
       " IssueDirectory(journal='indeplux', date=datetime.date(1871, 11, 7), edition='a', path='/mnt/project_impresso/original/BNL/public_domain_007/3026122_newspaper_indeplux_1871-11-07_01', rights='o'),\n",
       " IssueDirectory(journal='indeplux', date=datetime.date(1871, 11, 16), edition='a', path='/mnt/project_impresso/original/BNL/public_domain_007/3026126_newspaper_indeplux_1871-11-16_01', rights='o'),\n",
       " IssueDirectory(journal='indeplux', date=datetime.date(1871, 11, 14), edition='a', path='/mnt/project_impresso/original/BNL/public_domain_007/3026184_newspaper_indeplux_1871-11-14_01', rights='o'),\n",
       " IssueDirectory(journal='indeplux', date=datetime.date(1871, 11, 15), edition='a', path='/mnt/project_impresso/original/BNL/public_domain_007/3026187_newspaper_indeplux_1871-11-15_01', rights='o'),\n",
       " IssueDirectory(journal='indeplux', date=datetime.date(1871, 11, 17), edition='a', path='/mnt/project_impresso/original/BNL/public_domain_007/3026228_newspaper_indeplux_1871-11-17_01', rights='o'),\n",
       " IssueDirectory(journal='indeplux', date=datetime.date(1871, 11, 12), edition='a', path='/mnt/project_impresso/original/BNL/public_domain_007/3026233_newspaper_indeplux_1871-11-12_01', rights='o'),\n",
       " IssueDirectory(journal='indeplux', date=datetime.date(1871, 11, 22), edition='a', path='/mnt/project_impresso/original/BNL/public_domain_007/3026238_newspaper_indeplux_1871-11-22_01', rights='o'),\n",
       " IssueDirectory(journal='indeplux', date=datetime.date(1871, 11, 19), edition='a', path='/mnt/project_impresso/original/BNL/public_domain_007/3026294_newspaper_indeplux_1871-11-19_01', rights='o'),\n",
       " IssueDirectory(journal='indeplux', date=datetime.date(1871, 11, 21), edition='a', path='/mnt/project_impresso/original/BNL/public_domain_007/3026298_newspaper_indeplux_1871-11-21_01', rights='o'),\n",
       " IssueDirectory(journal='indeplux', date=datetime.date(1871, 11, 23), edition='a', path='/mnt/project_impresso/original/BNL/public_domain_007/3026338_newspaper_indeplux_1871-11-23_01', rights='o'),\n",
       " IssueDirectory(journal='indeplux', date=datetime.date(1871, 11, 18), edition='a', path='/mnt/project_impresso/original/BNL/public_domain_007/3026346_newspaper_indeplux_1871-11-18_01', rights='o'),\n",
       " IssueDirectory(journal='indeplux', date=datetime.date(1871, 11, 28), edition='a', path='/mnt/project_impresso/original/BNL/public_domain_007/3026357_newspaper_indeplux_1871-11-28_01', rights='o'),\n",
       " IssueDirectory(journal='indeplux', date=datetime.date(1871, 11, 25), edition='a', path='/mnt/project_impresso/original/BNL/public_domain_007/3026404_newspaper_indeplux_1871-11-25_01', rights='o'),\n",
       " IssueDirectory(journal='indeplux', date=datetime.date(1871, 11, 26), edition='a', path='/mnt/project_impresso/original/BNL/public_domain_007/3026409_newspaper_indeplux_1871-11-26_01', rights='o'),\n",
       " IssueDirectory(journal='indeplux', date=datetime.date(1871, 11, 29), edition='a', path='/mnt/project_impresso/original/BNL/public_domain_007/3026448_newspaper_indeplux_1871-11-29_01', rights='o'),\n",
       " IssueDirectory(journal='indeplux', date=datetime.date(1871, 11, 24), edition='a', path='/mnt/project_impresso/original/BNL/public_domain_007/3026453_newspaper_indeplux_1871-11-24_01', rights='o'),\n",
       " IssueDirectory(journal='indeplux', date=datetime.date(1871, 12, 3), edition='a', path='/mnt/project_impresso/original/BNL/public_domain_007/3026461_newspaper_indeplux_1871-12-03_01', rights='o'),\n",
       " IssueDirectory(journal='indeplux', date=datetime.date(1871, 12, 1), edition='a', path='/mnt/project_impresso/original/BNL/public_domain_007/3026514_newspaper_indeplux_1871-12-01_01', rights='o'),\n",
       " IssueDirectory(journal='indeplux', date=datetime.date(1871, 12, 2), edition='a', path='/mnt/project_impresso/original/BNL/public_domain_007/3026519_newspaper_indeplux_1871-12-02_01', rights='o'),\n",
       " IssueDirectory(journal='indeplux', date=datetime.date(1871, 12, 5), edition='a', path='/mnt/project_impresso/original/BNL/public_domain_007/3026558_newspaper_indeplux_1871-12-05_01', rights='o'),\n",
       " IssueDirectory(journal='indeplux', date=datetime.date(1871, 11, 30), edition='a', path='/mnt/project_impresso/original/BNL/public_domain_007/3026561_newspaper_indeplux_1871-11-30_01', rights='o'),\n",
       " IssueDirectory(journal='indeplux', date=datetime.date(1871, 12, 9), edition='a', path='/mnt/project_impresso/original/BNL/public_domain_007/3026564_newspaper_indeplux_1871-12-09_01', rights='o'),\n",
       " IssueDirectory(journal='indeplux', date=datetime.date(1871, 12, 7), edition='a', path='/mnt/project_impresso/original/BNL/public_domain_007/3026624_newspaper_indeplux_1871-12-07_01', rights='o'),\n",
       " IssueDirectory(journal='indeplux', date=datetime.date(1871, 12, 8), edition='a', path='/mnt/project_impresso/original/BNL/public_domain_007/3026627_newspaper_indeplux_1871-12-08_01', rights='o'),\n",
       " IssueDirectory(journal='indeplux', date=datetime.date(1871, 12, 6), edition='a', path='/mnt/project_impresso/original/BNL/public_domain_007/3026668_newspaper_indeplux_1871-12-06_01', rights='o'),\n",
       " IssueDirectory(journal='indeplux', date=datetime.date(1871, 12, 10), edition='a', path='/mnt/project_impresso/original/BNL/public_domain_007/3026669_newspaper_indeplux_1871-12-10_01', rights='o'),\n",
       " IssueDirectory(journal='indeplux', date=datetime.date(1871, 12, 15), edition='a', path='/mnt/project_impresso/original/BNL/public_domain_007/3026671_newspaper_indeplux_1871-12-15_01', rights='o'),\n",
       " IssueDirectory(journal='indeplux', date=datetime.date(1871, 12, 13), edition='a', path='/mnt/project_impresso/original/BNL/public_domain_007/3026708_newspaper_indeplux_1871-12-13_01', rights='o'),\n",
       " IssueDirectory(journal='indeplux', date=datetime.date(1871, 12, 14), edition='a', path='/mnt/project_impresso/original/BNL/public_domain_007/3026736_newspaper_indeplux_1871-12-14_01', rights='o'),\n",
       " IssueDirectory(journal='indeplux', date=datetime.date(1871, 12, 16), edition='a', path='/mnt/project_impresso/original/BNL/public_domain_007/3026778_newspaper_indeplux_1871-12-16_01', rights='o'),\n",
       " IssueDirectory(journal='indeplux', date=datetime.date(1871, 12, 21), edition='a', path='/mnt/project_impresso/original/BNL/public_domain_007/3026780_newspaper_indeplux_1871-12-21_01', rights='o'),\n",
       " IssueDirectory(journal='indeplux', date=datetime.date(1871, 12, 12), edition='a', path='/mnt/project_impresso/original/BNL/public_domain_007/3026785_newspaper_indeplux_1871-12-12_01', rights='o'),\n",
       " IssueDirectory(journal='indeplux', date=datetime.date(1871, 12, 19), edition='a', path='/mnt/project_impresso/original/BNL/public_domain_007/3026825_newspaper_indeplux_1871-12-19_01', rights='o'),\n",
       " IssueDirectory(journal='indeplux', date=datetime.date(1871, 12, 20), edition='a', path='/mnt/project_impresso/original/BNL/public_domain_007/3026829_newspaper_indeplux_1871-12-20_01', rights='o'),\n",
       " IssueDirectory(journal='indeplux', date=datetime.date(1871, 12, 22), edition='a', path='/mnt/project_impresso/original/BNL/public_domain_007/3026888_newspaper_indeplux_1871-12-22_01', rights='o'),\n",
       " IssueDirectory(journal='indeplux', date=datetime.date(1871, 12, 28), edition='a', path='/mnt/project_impresso/original/BNL/public_domain_007/3026891_newspaper_indeplux_1871-12-28_01', rights='o'),\n",
       " IssueDirectory(journal='indeplux', date=datetime.date(1871, 12, 17), edition='a', path='/mnt/project_impresso/original/BNL/public_domain_007/3026895_newspaper_indeplux_1871-12-17_01', rights='o'),\n",
       " IssueDirectory(journal='indeplux', date=datetime.date(1871, 12, 24), edition='a', path='/mnt/project_impresso/original/BNL/public_domain_007/3026926_newspaper_indeplux_1871-12-24_01', rights='o'),\n",
       " IssueDirectory(journal='indeplux', date=datetime.date(1871, 12, 27), edition='a', path='/mnt/project_impresso/original/BNL/public_domain_007/3026929_newspaper_indeplux_1871-12-27_01', rights='o'),\n",
       " IssueDirectory(journal='indeplux', date=datetime.date(1871, 12, 29), edition='a', path='/mnt/project_impresso/original/BNL/public_domain_007/3026998_newspaper_indeplux_1871-12-29_01', rights='o'),\n",
       " IssueDirectory(journal='indeplux', date=datetime.date(1871, 12, 23), edition='a', path='/mnt/project_impresso/original/BNL/public_domain_007/3027004_newspaper_indeplux_1871-12-23_01', rights='o'),\n",
       " IssueDirectory(journal='indeplux', date=datetime.date(1871, 12, 31), edition='a', path='/mnt/project_impresso/original/BNL/public_domain_007/3027019_newspaper_indeplux_1871-12-31_01', rights='o'),\n",
       " IssueDirectory(journal='indeplux', date=datetime.date(1871, 12, 30), edition='a', path='/mnt/project_impresso/original/BNL/public_domain_007/3027115_newspaper_indeplux_1871-12-30_01', rights='o')]"
      ]
     },
     "execution_count": 24,
     "metadata": {},
     "output_type": "execute_result"
    }
   ],
   "source": [
    "issue_sample.compute()[:100]"
   ]
  },
  {
   "cell_type": "code",
   "execution_count": 26,
   "metadata": {},
   "outputs": [
    {
     "data": {
      "text/plain": [
       "77"
      ]
     },
     "execution_count": 26,
     "metadata": {},
     "output_type": "execute_result"
    }
   ],
   "source": [
    "issue_sample.count().compute()"
   ]
  },
  {
   "cell_type": "code",
   "execution_count": 27,
   "metadata": {},
   "outputs": [],
   "source": [
    "issue_sample = issue_sample.map(mets2issue).filter(lambda i: i is not None).persist()"
   ]
  },
  {
   "cell_type": "code",
   "execution_count": 28,
   "metadata": {},
   "outputs": [
    {
     "data": {
      "application/vnd.jupyter.widget-view+json": {
       "model_id": "76eac1473b7740b7923d795a8c79edda",
       "version_major": 2,
       "version_minor": 0
      },
      "text/plain": [
       "VBox()"
      ]
     },
     "metadata": {},
     "output_type": "display_data"
    }
   ],
   "source": [
    "progress(issue_sample)"
   ]
  },
  {
   "cell_type": "code",
   "execution_count": 29,
   "metadata": {},
   "outputs": [],
   "source": [
    "issues = issue_sample.compute()"
   ]
  },
  {
   "cell_type": "code",
   "execution_count": 30,
   "metadata": {},
   "outputs": [
    {
     "data": {
      "text/plain": [
       "[]"
      ]
     },
     "execution_count": 30,
     "metadata": {},
     "output_type": "execute_result"
    }
   ],
   "source": [
    "issues"
   ]
  },
  {
   "cell_type": "code",
   "execution_count": 106,
   "metadata": {},
   "outputs": [],
   "source": [
    "def mets2issue(issue):\n",
    "    try:\n",
    "        return LuxNewspaperIssue(issue)\n",
    "    except Exception as e:\n",
    "        print(\n",
    "            f'When instantiating issue {issue}',\n",
    "            f'the following error was raised: {e}'\n",
    "        )\n",
    "        return None"
   ]
  },
  {
   "cell_type": "code",
   "execution_count": 60,
   "metadata": {},
   "outputs": [],
   "source": [
    "from smart_open import smart_open as smart_open_function\n",
    "\n",
    "def compress_issues(key, issues, output_dir=None):\n",
    "    newspaper, year = key\n",
    "    filename = f'{newspaper}-{year}-issues.jsonl.bz2'\n",
    "    filepath = os.path.join(output_dir, filename)\n",
    "    print(f'Compressing {len(issues)} JSON files into {filepath}')\n",
    "\n",
    "    with smart_open_function(filepath, 'wb') as fout:\n",
    "        writer = jsonlines.Writer(fout)\n",
    "        items = [\n",
    "            issue._issue_data\n",
    "            for issue in issues\n",
    "        ]\n",
    "        writer.write_all(items)\n",
    "        print(\n",
    "            f'Written {len(items)} docs from to {filepath}'\n",
    "        )\n",
    "        writer.close()\n",
    "\n",
    "    return (f'{newspaper}-{year}', filepath)"
   ]
  },
  {
   "cell_type": "code",
   "execution_count": 69,
   "metadata": {},
   "outputs": [],
   "source": [
    "from impresso_commons.utils.s3 import get_s3_resource\n",
    "\n",
    "def upload_issues(sort_key, filepath, bucket_name=None):\n",
    "    \"\"\"Uploads a file to a given S3 bucket.\n",
    "    :param sort_key: the key used to group articles (e.g. \"GDL-1900\")\n",
    "    :type sort_key: str\n",
    "    :param filepath: path of the file to upload to S3\n",
    "    :type filepath: str\n",
    "    :param bucket_name: name of S3 bucket where to upload the file\n",
    "    :type bucket_name: str\n",
    "    :return: a tuple with [0] whether the upload was successful (boolean) and\n",
    "        [1] the path of the uploaded file (string)\n",
    "    .. note::\n",
    "        `sort_key` is expected to be the concatenation of newspaper ID and year\n",
    "        (e.g. GDL-1900).\n",
    "    \"\"\"\n",
    "    # create connection with bucket\n",
    "    # copy contents to s3 key\n",
    "    newspaper, year = sort_key.split('-')\n",
    "    key_name = \"{}/{}/{}\".format(\n",
    "        newspaper,\n",
    "        f'{newspaper}-{year}',\n",
    "        os.path.basename(filepath)\n",
    "    )\n",
    "    s3 = get_s3_resource()\n",
    "    try:\n",
    "        bucket = s3.Bucket(bucket_name)\n",
    "        bucket.upload_file(filepath, key_name)\n",
    "        logger.info(f'Uploaded {filepath} to {key_name}')\n",
    "        return True, filepath\n",
    "    except Exception as e:\n",
    "        logger.error(e)\n",
    "        logger.error(f'The upload of {filepath} failed with error {e}')\n",
    "        return False, filepath"
   ]
  },
  {
   "cell_type": "code",
   "execution_count": 15,
   "metadata": {},
   "outputs": [],
   "source": [
    "issue_sample = issue_sample.map(mets2issue).filter(lambda i: i is not None).persist()"
   ]
  },
  {
   "cell_type": "code",
   "execution_count": 16,
   "metadata": {},
   "outputs": [
    {
     "data": {
      "application/vnd.jupyter.widget-view+json": {
       "model_id": "a39c7cd9728c48479d1c8e6433037dd6",
       "version_major": 2,
       "version_minor": 0
      },
      "text/plain": [
       "VBox()"
      ]
     },
     "metadata": {},
     "output_type": "display_data"
    }
   ],
   "source": [
    "progress(issue_sample)"
   ]
  },
  {
   "cell_type": "code",
   "execution_count": 17,
   "metadata": {},
   "outputs": [],
   "source": [
    "issue_sample = issue_bag.filter(\n",
    "    lambda i: i.journal=='luxzeit1858' and i.date.year==1858 and i.date.day == 1 \n",
    ").map(mets2issue)\\\n",
    ".filter(lambda i: i is not None)\\\n",
    ".persist()"
   ]
  },
  {
   "cell_type": "code",
   "execution_count": 18,
   "metadata": {},
   "outputs": [],
   "source": [
    "od = \"/home/romanell/Documents/impresso/text-acquisition-dev/text_importer/data/out/\""
   ]
  },
  {
   "cell_type": "code",
   "execution_count": 70,
   "metadata": {},
   "outputs": [
    {
     "ename": "NameError",
     "evalue": "name 'logger' is not defined",
     "output_type": "error",
     "traceback": [
      "\u001b[0;31m---------------------------------------------------------------------------\u001b[0m",
      "\u001b[0;31mNameError\u001b[0m                                 Traceback (most recent call last)",
      "\u001b[0;32m<ipython-input-70-d8166563e916>\u001b[0m in \u001b[0;36m<module>\u001b[0;34m\u001b[0m\n\u001b[1;32m      1\u001b[0m \u001b[0mresult\u001b[0m \u001b[0;34m=\u001b[0m \u001b[0missue_sample\u001b[0m\u001b[0;34m.\u001b[0m\u001b[0mgroupby\u001b[0m\u001b[0;34m(\u001b[0m\u001b[0;32mlambda\u001b[0m \u001b[0mi\u001b[0m\u001b[0;34m:\u001b[0m \u001b[0;34m(\u001b[0m\u001b[0mi\u001b[0m\u001b[0;34m.\u001b[0m\u001b[0mjournal\u001b[0m\u001b[0;34m,\u001b[0m \u001b[0mi\u001b[0m\u001b[0;34m.\u001b[0m\u001b[0mdate\u001b[0m\u001b[0;34m.\u001b[0m\u001b[0myear\u001b[0m\u001b[0;34m)\u001b[0m\u001b[0;34m)\u001b[0m\u001b[0;31m\\\u001b[0m\u001b[0;34m\u001b[0m\u001b[0;34m\u001b[0m\u001b[0m\n\u001b[1;32m      2\u001b[0m     \u001b[0;34m.\u001b[0m\u001b[0mstarmap\u001b[0m\u001b[0;34m(\u001b[0m\u001b[0mcompress_issues\u001b[0m\u001b[0;34m,\u001b[0m \u001b[0moutput_dir\u001b[0m\u001b[0;34m=\u001b[0m\u001b[0mod\u001b[0m\u001b[0;34m)\u001b[0m\u001b[0;31m\\\u001b[0m\u001b[0;34m\u001b[0m\u001b[0;34m\u001b[0m\u001b[0m\n\u001b[0;32m----> 3\u001b[0;31m     \u001b[0;34m.\u001b[0m\u001b[0mstarmap\u001b[0m\u001b[0;34m(\u001b[0m\u001b[0mupload_issues\u001b[0m\u001b[0;34m,\u001b[0m \u001b[0mbucket_name\u001b[0m\u001b[0;34m=\u001b[0m\u001b[0;34m'original-canonical-data'\u001b[0m\u001b[0;34m)\u001b[0m\u001b[0;31m\\\u001b[0m\u001b[0;34m\u001b[0m\u001b[0;34m\u001b[0m\u001b[0m\n\u001b[0m\u001b[1;32m      4\u001b[0m     \u001b[0;34m.\u001b[0m\u001b[0mcompute\u001b[0m\u001b[0;34m(\u001b[0m\u001b[0;34m)\u001b[0m\u001b[0;34m\u001b[0m\u001b[0;34m\u001b[0m\u001b[0m\n",
      "\u001b[0;32m~/.local/share/virtualenvs/text-acquisition-dev-fuzljwzB/lib/python3.6/site-packages/dask/base.py\u001b[0m in \u001b[0;36mcompute\u001b[0;34m(self, **kwargs)\u001b[0m\n\u001b[1;32m    154\u001b[0m         \u001b[0mdask\u001b[0m\u001b[0;34m.\u001b[0m\u001b[0mbase\u001b[0m\u001b[0;34m.\u001b[0m\u001b[0mcompute\u001b[0m\u001b[0;34m\u001b[0m\u001b[0;34m\u001b[0m\u001b[0m\n\u001b[1;32m    155\u001b[0m         \"\"\"\n\u001b[0;32m--> 156\u001b[0;31m         \u001b[0;34m(\u001b[0m\u001b[0mresult\u001b[0m\u001b[0;34m,\u001b[0m\u001b[0;34m)\u001b[0m \u001b[0;34m=\u001b[0m \u001b[0mcompute\u001b[0m\u001b[0;34m(\u001b[0m\u001b[0mself\u001b[0m\u001b[0;34m,\u001b[0m \u001b[0mtraverse\u001b[0m\u001b[0;34m=\u001b[0m\u001b[0;32mFalse\u001b[0m\u001b[0;34m,\u001b[0m \u001b[0;34m**\u001b[0m\u001b[0mkwargs\u001b[0m\u001b[0;34m)\u001b[0m\u001b[0;34m\u001b[0m\u001b[0;34m\u001b[0m\u001b[0m\n\u001b[0m\u001b[1;32m    157\u001b[0m         \u001b[0;32mreturn\u001b[0m \u001b[0mresult\u001b[0m\u001b[0;34m\u001b[0m\u001b[0;34m\u001b[0m\u001b[0m\n\u001b[1;32m    158\u001b[0m \u001b[0;34m\u001b[0m\u001b[0m\n",
      "\u001b[0;32m~/.local/share/virtualenvs/text-acquisition-dev-fuzljwzB/lib/python3.6/site-packages/dask/base.py\u001b[0m in \u001b[0;36mcompute\u001b[0;34m(*args, **kwargs)\u001b[0m\n\u001b[1;32m    396\u001b[0m     \u001b[0mkeys\u001b[0m \u001b[0;34m=\u001b[0m \u001b[0;34m[\u001b[0m\u001b[0mx\u001b[0m\u001b[0;34m.\u001b[0m\u001b[0m__dask_keys__\u001b[0m\u001b[0;34m(\u001b[0m\u001b[0;34m)\u001b[0m \u001b[0;32mfor\u001b[0m \u001b[0mx\u001b[0m \u001b[0;32min\u001b[0m \u001b[0mcollections\u001b[0m\u001b[0;34m]\u001b[0m\u001b[0;34m\u001b[0m\u001b[0;34m\u001b[0m\u001b[0m\n\u001b[1;32m    397\u001b[0m     \u001b[0mpostcomputes\u001b[0m \u001b[0;34m=\u001b[0m \u001b[0;34m[\u001b[0m\u001b[0mx\u001b[0m\u001b[0;34m.\u001b[0m\u001b[0m__dask_postcompute__\u001b[0m\u001b[0;34m(\u001b[0m\u001b[0;34m)\u001b[0m \u001b[0;32mfor\u001b[0m \u001b[0mx\u001b[0m \u001b[0;32min\u001b[0m \u001b[0mcollections\u001b[0m\u001b[0;34m]\u001b[0m\u001b[0;34m\u001b[0m\u001b[0;34m\u001b[0m\u001b[0m\n\u001b[0;32m--> 398\u001b[0;31m     \u001b[0mresults\u001b[0m \u001b[0;34m=\u001b[0m \u001b[0mschedule\u001b[0m\u001b[0;34m(\u001b[0m\u001b[0mdsk\u001b[0m\u001b[0;34m,\u001b[0m \u001b[0mkeys\u001b[0m\u001b[0;34m,\u001b[0m \u001b[0;34m**\u001b[0m\u001b[0mkwargs\u001b[0m\u001b[0;34m)\u001b[0m\u001b[0;34m\u001b[0m\u001b[0;34m\u001b[0m\u001b[0m\n\u001b[0m\u001b[1;32m    399\u001b[0m     \u001b[0;32mreturn\u001b[0m \u001b[0mrepack\u001b[0m\u001b[0;34m(\u001b[0m\u001b[0;34m[\u001b[0m\u001b[0mf\u001b[0m\u001b[0;34m(\u001b[0m\u001b[0mr\u001b[0m\u001b[0;34m,\u001b[0m \u001b[0;34m*\u001b[0m\u001b[0ma\u001b[0m\u001b[0;34m)\u001b[0m \u001b[0;32mfor\u001b[0m \u001b[0mr\u001b[0m\u001b[0;34m,\u001b[0m \u001b[0;34m(\u001b[0m\u001b[0mf\u001b[0m\u001b[0;34m,\u001b[0m \u001b[0ma\u001b[0m\u001b[0;34m)\u001b[0m \u001b[0;32min\u001b[0m \u001b[0mzip\u001b[0m\u001b[0;34m(\u001b[0m\u001b[0mresults\u001b[0m\u001b[0;34m,\u001b[0m \u001b[0mpostcomputes\u001b[0m\u001b[0;34m)\u001b[0m\u001b[0;34m]\u001b[0m\u001b[0;34m)\u001b[0m\u001b[0;34m\u001b[0m\u001b[0;34m\u001b[0m\u001b[0m\n\u001b[1;32m    400\u001b[0m \u001b[0;34m\u001b[0m\u001b[0m\n",
      "\u001b[0;32m~/.local/share/virtualenvs/text-acquisition-dev-fuzljwzB/lib/python3.6/site-packages/distributed/client.py\u001b[0m in \u001b[0;36mget\u001b[0;34m(self, dsk, keys, restrictions, loose_restrictions, resources, sync, asynchronous, direct, retries, priority, fifo_timeout, actors, **kwargs)\u001b[0m\n\u001b[1;32m   2329\u001b[0m             \u001b[0;32mtry\u001b[0m\u001b[0;34m:\u001b[0m\u001b[0;34m\u001b[0m\u001b[0;34m\u001b[0m\u001b[0m\n\u001b[1;32m   2330\u001b[0m                 results = self.gather(packed, asynchronous=asynchronous,\n\u001b[0;32m-> 2331\u001b[0;31m                                       direct=direct)\n\u001b[0m\u001b[1;32m   2332\u001b[0m             \u001b[0;32mfinally\u001b[0m\u001b[0;34m:\u001b[0m\u001b[0;34m\u001b[0m\u001b[0;34m\u001b[0m\u001b[0m\n\u001b[1;32m   2333\u001b[0m                 \u001b[0;32mfor\u001b[0m \u001b[0mf\u001b[0m \u001b[0;32min\u001b[0m \u001b[0mfutures\u001b[0m\u001b[0;34m.\u001b[0m\u001b[0mvalues\u001b[0m\u001b[0;34m(\u001b[0m\u001b[0;34m)\u001b[0m\u001b[0;34m:\u001b[0m\u001b[0;34m\u001b[0m\u001b[0;34m\u001b[0m\u001b[0m\n",
      "\u001b[0;32m~/.local/share/virtualenvs/text-acquisition-dev-fuzljwzB/lib/python3.6/site-packages/distributed/client.py\u001b[0m in \u001b[0;36mgather\u001b[0;34m(self, futures, errors, maxsize, direct, asynchronous)\u001b[0m\n\u001b[1;32m   1653\u001b[0m             return self.sync(self._gather, futures, errors=errors,\n\u001b[1;32m   1654\u001b[0m                              \u001b[0mdirect\u001b[0m\u001b[0;34m=\u001b[0m\u001b[0mdirect\u001b[0m\u001b[0;34m,\u001b[0m \u001b[0mlocal_worker\u001b[0m\u001b[0;34m=\u001b[0m\u001b[0mlocal_worker\u001b[0m\u001b[0;34m,\u001b[0m\u001b[0;34m\u001b[0m\u001b[0;34m\u001b[0m\u001b[0m\n\u001b[0;32m-> 1655\u001b[0;31m                              asynchronous=asynchronous)\n\u001b[0m\u001b[1;32m   1656\u001b[0m \u001b[0;34m\u001b[0m\u001b[0m\n\u001b[1;32m   1657\u001b[0m     \u001b[0;34m@\u001b[0m\u001b[0mgen\u001b[0m\u001b[0;34m.\u001b[0m\u001b[0mcoroutine\u001b[0m\u001b[0;34m\u001b[0m\u001b[0;34m\u001b[0m\u001b[0m\n",
      "\u001b[0;32m~/.local/share/virtualenvs/text-acquisition-dev-fuzljwzB/lib/python3.6/site-packages/distributed/client.py\u001b[0m in \u001b[0;36msync\u001b[0;34m(self, func, *args, **kwargs)\u001b[0m\n\u001b[1;32m    673\u001b[0m             \u001b[0;32mreturn\u001b[0m \u001b[0mfuture\u001b[0m\u001b[0;34m\u001b[0m\u001b[0;34m\u001b[0m\u001b[0m\n\u001b[1;32m    674\u001b[0m         \u001b[0;32melse\u001b[0m\u001b[0;34m:\u001b[0m\u001b[0;34m\u001b[0m\u001b[0;34m\u001b[0m\u001b[0m\n\u001b[0;32m--> 675\u001b[0;31m             \u001b[0;32mreturn\u001b[0m \u001b[0msync\u001b[0m\u001b[0;34m(\u001b[0m\u001b[0mself\u001b[0m\u001b[0;34m.\u001b[0m\u001b[0mloop\u001b[0m\u001b[0;34m,\u001b[0m \u001b[0mfunc\u001b[0m\u001b[0;34m,\u001b[0m \u001b[0;34m*\u001b[0m\u001b[0margs\u001b[0m\u001b[0;34m,\u001b[0m \u001b[0;34m**\u001b[0m\u001b[0mkwargs\u001b[0m\u001b[0;34m)\u001b[0m\u001b[0;34m\u001b[0m\u001b[0;34m\u001b[0m\u001b[0m\n\u001b[0m\u001b[1;32m    676\u001b[0m \u001b[0;34m\u001b[0m\u001b[0m\n\u001b[1;32m    677\u001b[0m     \u001b[0;32mdef\u001b[0m \u001b[0m__repr__\u001b[0m\u001b[0;34m(\u001b[0m\u001b[0mself\u001b[0m\u001b[0;34m)\u001b[0m\u001b[0;34m:\u001b[0m\u001b[0;34m\u001b[0m\u001b[0;34m\u001b[0m\u001b[0m\n",
      "\u001b[0;32m~/.local/share/virtualenvs/text-acquisition-dev-fuzljwzB/lib/python3.6/site-packages/distributed/utils.py\u001b[0m in \u001b[0;36msync\u001b[0;34m(loop, func, *args, **kwargs)\u001b[0m\n\u001b[1;32m    275\u001b[0m             \u001b[0me\u001b[0m\u001b[0;34m.\u001b[0m\u001b[0mwait\u001b[0m\u001b[0;34m(\u001b[0m\u001b[0;36m10\u001b[0m\u001b[0;34m)\u001b[0m\u001b[0;34m\u001b[0m\u001b[0;34m\u001b[0m\u001b[0m\n\u001b[1;32m    276\u001b[0m     \u001b[0;32mif\u001b[0m \u001b[0merror\u001b[0m\u001b[0;34m[\u001b[0m\u001b[0;36m0\u001b[0m\u001b[0;34m]\u001b[0m\u001b[0;34m:\u001b[0m\u001b[0;34m\u001b[0m\u001b[0;34m\u001b[0m\u001b[0m\n\u001b[0;32m--> 277\u001b[0;31m         \u001b[0msix\u001b[0m\u001b[0;34m.\u001b[0m\u001b[0mreraise\u001b[0m\u001b[0;34m(\u001b[0m\u001b[0;34m*\u001b[0m\u001b[0merror\u001b[0m\u001b[0;34m[\u001b[0m\u001b[0;36m0\u001b[0m\u001b[0;34m]\u001b[0m\u001b[0;34m)\u001b[0m\u001b[0;34m\u001b[0m\u001b[0;34m\u001b[0m\u001b[0m\n\u001b[0m\u001b[1;32m    278\u001b[0m     \u001b[0;32melse\u001b[0m\u001b[0;34m:\u001b[0m\u001b[0;34m\u001b[0m\u001b[0;34m\u001b[0m\u001b[0m\n\u001b[1;32m    279\u001b[0m         \u001b[0;32mreturn\u001b[0m \u001b[0mresult\u001b[0m\u001b[0;34m[\u001b[0m\u001b[0;36m0\u001b[0m\u001b[0;34m]\u001b[0m\u001b[0;34m\u001b[0m\u001b[0;34m\u001b[0m\u001b[0m\n",
      "\u001b[0;32m~/.local/share/virtualenvs/text-acquisition-dev-fuzljwzB/lib/python3.6/site-packages/six.py\u001b[0m in \u001b[0;36mreraise\u001b[0;34m(tp, value, tb)\u001b[0m\n\u001b[1;32m    691\u001b[0m             \u001b[0;32mif\u001b[0m \u001b[0mvalue\u001b[0m\u001b[0;34m.\u001b[0m\u001b[0m__traceback__\u001b[0m \u001b[0;32mis\u001b[0m \u001b[0;32mnot\u001b[0m \u001b[0mtb\u001b[0m\u001b[0;34m:\u001b[0m\u001b[0;34m\u001b[0m\u001b[0;34m\u001b[0m\u001b[0m\n\u001b[1;32m    692\u001b[0m                 \u001b[0;32mraise\u001b[0m \u001b[0mvalue\u001b[0m\u001b[0;34m.\u001b[0m\u001b[0mwith_traceback\u001b[0m\u001b[0;34m(\u001b[0m\u001b[0mtb\u001b[0m\u001b[0;34m)\u001b[0m\u001b[0;34m\u001b[0m\u001b[0;34m\u001b[0m\u001b[0m\n\u001b[0;32m--> 693\u001b[0;31m             \u001b[0;32mraise\u001b[0m \u001b[0mvalue\u001b[0m\u001b[0;34m\u001b[0m\u001b[0;34m\u001b[0m\u001b[0m\n\u001b[0m\u001b[1;32m    694\u001b[0m         \u001b[0;32mfinally\u001b[0m\u001b[0;34m:\u001b[0m\u001b[0;34m\u001b[0m\u001b[0;34m\u001b[0m\u001b[0m\n\u001b[1;32m    695\u001b[0m             \u001b[0mvalue\u001b[0m \u001b[0;34m=\u001b[0m \u001b[0;32mNone\u001b[0m\u001b[0;34m\u001b[0m\u001b[0;34m\u001b[0m\u001b[0m\n",
      "\u001b[0;32m~/.local/share/virtualenvs/text-acquisition-dev-fuzljwzB/lib/python3.6/site-packages/distributed/utils.py\u001b[0m in \u001b[0;36mf\u001b[0;34m()\u001b[0m\n\u001b[1;32m    260\u001b[0m             \u001b[0;32mif\u001b[0m \u001b[0mtimeout\u001b[0m \u001b[0;32mis\u001b[0m \u001b[0;32mnot\u001b[0m \u001b[0;32mNone\u001b[0m\u001b[0;34m:\u001b[0m\u001b[0;34m\u001b[0m\u001b[0;34m\u001b[0m\u001b[0m\n\u001b[1;32m    261\u001b[0m                 \u001b[0mfuture\u001b[0m \u001b[0;34m=\u001b[0m \u001b[0mgen\u001b[0m\u001b[0;34m.\u001b[0m\u001b[0mwith_timeout\u001b[0m\u001b[0;34m(\u001b[0m\u001b[0mtimedelta\u001b[0m\u001b[0;34m(\u001b[0m\u001b[0mseconds\u001b[0m\u001b[0;34m=\u001b[0m\u001b[0mtimeout\u001b[0m\u001b[0;34m)\u001b[0m\u001b[0;34m,\u001b[0m \u001b[0mfuture\u001b[0m\u001b[0;34m)\u001b[0m\u001b[0;34m\u001b[0m\u001b[0;34m\u001b[0m\u001b[0m\n\u001b[0;32m--> 262\u001b[0;31m             \u001b[0mresult\u001b[0m\u001b[0;34m[\u001b[0m\u001b[0;36m0\u001b[0m\u001b[0;34m]\u001b[0m \u001b[0;34m=\u001b[0m \u001b[0;32myield\u001b[0m \u001b[0mfuture\u001b[0m\u001b[0;34m\u001b[0m\u001b[0;34m\u001b[0m\u001b[0m\n\u001b[0m\u001b[1;32m    263\u001b[0m         \u001b[0;32mexcept\u001b[0m \u001b[0mException\u001b[0m \u001b[0;32mas\u001b[0m \u001b[0mexc\u001b[0m\u001b[0;34m:\u001b[0m\u001b[0;34m\u001b[0m\u001b[0;34m\u001b[0m\u001b[0m\n\u001b[1;32m    264\u001b[0m             \u001b[0merror\u001b[0m\u001b[0;34m[\u001b[0m\u001b[0;36m0\u001b[0m\u001b[0;34m]\u001b[0m \u001b[0;34m=\u001b[0m \u001b[0msys\u001b[0m\u001b[0;34m.\u001b[0m\u001b[0mexc_info\u001b[0m\u001b[0;34m(\u001b[0m\u001b[0;34m)\u001b[0m\u001b[0;34m\u001b[0m\u001b[0;34m\u001b[0m\u001b[0m\n",
      "\u001b[0;32m~/.local/share/virtualenvs/text-acquisition-dev-fuzljwzB/lib/python3.6/site-packages/tornado/gen.py\u001b[0m in \u001b[0;36mrun\u001b[0;34m(self)\u001b[0m\n\u001b[1;32m   1131\u001b[0m \u001b[0;34m\u001b[0m\u001b[0m\n\u001b[1;32m   1132\u001b[0m                     \u001b[0;32mtry\u001b[0m\u001b[0;34m:\u001b[0m\u001b[0;34m\u001b[0m\u001b[0;34m\u001b[0m\u001b[0m\n\u001b[0;32m-> 1133\u001b[0;31m                         \u001b[0mvalue\u001b[0m \u001b[0;34m=\u001b[0m \u001b[0mfuture\u001b[0m\u001b[0;34m.\u001b[0m\u001b[0mresult\u001b[0m\u001b[0;34m(\u001b[0m\u001b[0;34m)\u001b[0m\u001b[0;34m\u001b[0m\u001b[0;34m\u001b[0m\u001b[0m\n\u001b[0m\u001b[1;32m   1134\u001b[0m                     \u001b[0;32mexcept\u001b[0m \u001b[0mException\u001b[0m\u001b[0;34m:\u001b[0m\u001b[0;34m\u001b[0m\u001b[0;34m\u001b[0m\u001b[0m\n\u001b[1;32m   1135\u001b[0m                         \u001b[0mself\u001b[0m\u001b[0;34m.\u001b[0m\u001b[0mhad_exception\u001b[0m \u001b[0;34m=\u001b[0m \u001b[0;32mTrue\u001b[0m\u001b[0;34m\u001b[0m\u001b[0;34m\u001b[0m\u001b[0m\n",
      "\u001b[0;32m~/.local/share/virtualenvs/text-acquisition-dev-fuzljwzB/lib/python3.6/site-packages/tornado/gen.py\u001b[0m in \u001b[0;36mrun\u001b[0;34m(self)\u001b[0m\n\u001b[1;32m   1139\u001b[0m                     \u001b[0;32mif\u001b[0m \u001b[0mexc_info\u001b[0m \u001b[0;32mis\u001b[0m \u001b[0;32mnot\u001b[0m \u001b[0;32mNone\u001b[0m\u001b[0;34m:\u001b[0m\u001b[0;34m\u001b[0m\u001b[0;34m\u001b[0m\u001b[0m\n\u001b[1;32m   1140\u001b[0m                         \u001b[0;32mtry\u001b[0m\u001b[0;34m:\u001b[0m\u001b[0;34m\u001b[0m\u001b[0;34m\u001b[0m\u001b[0m\n\u001b[0;32m-> 1141\u001b[0;31m                             \u001b[0myielded\u001b[0m \u001b[0;34m=\u001b[0m \u001b[0mself\u001b[0m\u001b[0;34m.\u001b[0m\u001b[0mgen\u001b[0m\u001b[0;34m.\u001b[0m\u001b[0mthrow\u001b[0m\u001b[0;34m(\u001b[0m\u001b[0;34m*\u001b[0m\u001b[0mexc_info\u001b[0m\u001b[0;34m)\u001b[0m\u001b[0;34m\u001b[0m\u001b[0;34m\u001b[0m\u001b[0m\n\u001b[0m\u001b[1;32m   1142\u001b[0m                         \u001b[0;32mfinally\u001b[0m\u001b[0;34m:\u001b[0m\u001b[0;34m\u001b[0m\u001b[0;34m\u001b[0m\u001b[0m\n\u001b[1;32m   1143\u001b[0m                             \u001b[0;31m# Break up a reference to itself\u001b[0m\u001b[0;34m\u001b[0m\u001b[0;34m\u001b[0m\u001b[0;34m\u001b[0m\u001b[0m\n",
      "\u001b[0;32m~/.local/share/virtualenvs/text-acquisition-dev-fuzljwzB/lib/python3.6/site-packages/distributed/client.py\u001b[0m in \u001b[0;36m_gather\u001b[0;34m(self, futures, errors, direct, local_worker)\u001b[0m\n\u001b[1;32m   1494\u001b[0m                             six.reraise(type(exception),\n\u001b[1;32m   1495\u001b[0m                                         \u001b[0mexception\u001b[0m\u001b[0;34m,\u001b[0m\u001b[0;34m\u001b[0m\u001b[0;34m\u001b[0m\u001b[0m\n\u001b[0;32m-> 1496\u001b[0;31m                                         traceback)\n\u001b[0m\u001b[1;32m   1497\u001b[0m                     \u001b[0;32mif\u001b[0m \u001b[0merrors\u001b[0m \u001b[0;34m==\u001b[0m \u001b[0;34m'skip'\u001b[0m\u001b[0;34m:\u001b[0m\u001b[0;34m\u001b[0m\u001b[0;34m\u001b[0m\u001b[0m\n\u001b[1;32m   1498\u001b[0m                         \u001b[0mbad_keys\u001b[0m\u001b[0;34m.\u001b[0m\u001b[0madd\u001b[0m\u001b[0;34m(\u001b[0m\u001b[0mkey\u001b[0m\u001b[0;34m)\u001b[0m\u001b[0;34m\u001b[0m\u001b[0;34m\u001b[0m\u001b[0m\n",
      "\u001b[0;32m~/.local/share/virtualenvs/text-acquisition-dev-fuzljwzB/lib/python3.6/site-packages/six.py\u001b[0m in \u001b[0;36mreraise\u001b[0;34m(tp, value, tb)\u001b[0m\n\u001b[1;32m    690\u001b[0m                 \u001b[0mvalue\u001b[0m \u001b[0;34m=\u001b[0m \u001b[0mtp\u001b[0m\u001b[0;34m(\u001b[0m\u001b[0;34m)\u001b[0m\u001b[0;34m\u001b[0m\u001b[0;34m\u001b[0m\u001b[0m\n\u001b[1;32m    691\u001b[0m             \u001b[0;32mif\u001b[0m \u001b[0mvalue\u001b[0m\u001b[0;34m.\u001b[0m\u001b[0m__traceback__\u001b[0m \u001b[0;32mis\u001b[0m \u001b[0;32mnot\u001b[0m \u001b[0mtb\u001b[0m\u001b[0;34m:\u001b[0m\u001b[0;34m\u001b[0m\u001b[0;34m\u001b[0m\u001b[0m\n\u001b[0;32m--> 692\u001b[0;31m                 \u001b[0;32mraise\u001b[0m \u001b[0mvalue\u001b[0m\u001b[0;34m.\u001b[0m\u001b[0mwith_traceback\u001b[0m\u001b[0;34m(\u001b[0m\u001b[0mtb\u001b[0m\u001b[0;34m)\u001b[0m\u001b[0;34m\u001b[0m\u001b[0;34m\u001b[0m\u001b[0m\n\u001b[0m\u001b[1;32m    693\u001b[0m             \u001b[0;32mraise\u001b[0m \u001b[0mvalue\u001b[0m\u001b[0;34m\u001b[0m\u001b[0;34m\u001b[0m\u001b[0m\n\u001b[1;32m    694\u001b[0m         \u001b[0;32mfinally\u001b[0m\u001b[0;34m:\u001b[0m\u001b[0;34m\u001b[0m\u001b[0;34m\u001b[0m\u001b[0m\n",
      "\u001b[0;32m~/.local/share/virtualenvs/text-acquisition-dev-fuzljwzB/lib/python3.6/site-packages/dask/bag/core.py\u001b[0m in \u001b[0;36mreify\u001b[0;34m()\u001b[0m\n\u001b[1;32m   1583\u001b[0m \u001b[0;32mdef\u001b[0m \u001b[0mreify\u001b[0m\u001b[0;34m(\u001b[0m\u001b[0mseq\u001b[0m\u001b[0;34m)\u001b[0m\u001b[0;34m:\u001b[0m\u001b[0;34m\u001b[0m\u001b[0;34m\u001b[0m\u001b[0m\n\u001b[1;32m   1584\u001b[0m     \u001b[0;32mif\u001b[0m \u001b[0misinstance\u001b[0m\u001b[0;34m(\u001b[0m\u001b[0mseq\u001b[0m\u001b[0;34m,\u001b[0m \u001b[0mIterator\u001b[0m\u001b[0;34m)\u001b[0m\u001b[0;34m:\u001b[0m\u001b[0;34m\u001b[0m\u001b[0;34m\u001b[0m\u001b[0m\n\u001b[0;32m-> 1585\u001b[0;31m         \u001b[0mseq\u001b[0m \u001b[0;34m=\u001b[0m \u001b[0mlist\u001b[0m\u001b[0;34m(\u001b[0m\u001b[0mseq\u001b[0m\u001b[0;34m)\u001b[0m\u001b[0;34m\u001b[0m\u001b[0;34m\u001b[0m\u001b[0m\n\u001b[0m\u001b[1;32m   1586\u001b[0m     \u001b[0;32mif\u001b[0m \u001b[0mseq\u001b[0m \u001b[0;32mand\u001b[0m \u001b[0misinstance\u001b[0m\u001b[0;34m(\u001b[0m\u001b[0mseq\u001b[0m\u001b[0;34m[\u001b[0m\u001b[0;36m0\u001b[0m\u001b[0;34m]\u001b[0m\u001b[0;34m,\u001b[0m \u001b[0mIterator\u001b[0m\u001b[0;34m)\u001b[0m\u001b[0;34m:\u001b[0m\u001b[0;34m\u001b[0m\u001b[0;34m\u001b[0m\u001b[0m\n\u001b[1;32m   1587\u001b[0m         \u001b[0mseq\u001b[0m \u001b[0;34m=\u001b[0m \u001b[0mlist\u001b[0m\u001b[0;34m(\u001b[0m\u001b[0mmap\u001b[0m\u001b[0;34m(\u001b[0m\u001b[0mlist\u001b[0m\u001b[0;34m,\u001b[0m \u001b[0mseq\u001b[0m\u001b[0;34m)\u001b[0m\u001b[0;34m)\u001b[0m\u001b[0;34m\u001b[0m\u001b[0;34m\u001b[0m\u001b[0m\n",
      "\u001b[0;32m<ipython-input-69-3a1b09b7914c>\u001b[0m in \u001b[0;36mupload_issues\u001b[0;34m()\u001b[0m\n\u001b[1;32m     30\u001b[0m         \u001b[0;32mreturn\u001b[0m \u001b[0;32mTrue\u001b[0m\u001b[0;34m,\u001b[0m \u001b[0mfilepath\u001b[0m\u001b[0;34m\u001b[0m\u001b[0;34m\u001b[0m\u001b[0m\n\u001b[1;32m     31\u001b[0m     \u001b[0;32mexcept\u001b[0m \u001b[0mException\u001b[0m \u001b[0;32mas\u001b[0m \u001b[0me\u001b[0m\u001b[0;34m:\u001b[0m\u001b[0;34m\u001b[0m\u001b[0;34m\u001b[0m\u001b[0m\n\u001b[0;32m---> 32\u001b[0;31m         \u001b[0mlogger\u001b[0m\u001b[0;34m.\u001b[0m\u001b[0merror\u001b[0m\u001b[0;34m(\u001b[0m\u001b[0me\u001b[0m\u001b[0;34m)\u001b[0m\u001b[0;34m\u001b[0m\u001b[0;34m\u001b[0m\u001b[0m\n\u001b[0m\u001b[1;32m     33\u001b[0m         \u001b[0mlogger\u001b[0m\u001b[0;34m.\u001b[0m\u001b[0merror\u001b[0m\u001b[0;34m(\u001b[0m\u001b[0;34mf'The upload of {filepath} failed with error {e}'\u001b[0m\u001b[0;34m)\u001b[0m\u001b[0;34m\u001b[0m\u001b[0;34m\u001b[0m\u001b[0m\n\u001b[1;32m     34\u001b[0m         \u001b[0;32mreturn\u001b[0m \u001b[0;32mFalse\u001b[0m\u001b[0;34m,\u001b[0m \u001b[0mfilepath\u001b[0m\u001b[0;34m\u001b[0m\u001b[0;34m\u001b[0m\u001b[0m\n",
      "\u001b[0;31mNameError\u001b[0m: name 'logger' is not defined"
     ]
    }
   ],
   "source": [
    "result = issue_sample.groupby(lambda i: (i.journal, i.date.year))\\\n",
    "    .starmap(compress_issues, output_dir=od)\\\n",
    "    .starmap(upload_issues, bucket_name='original-canonical-data')\\\n",
    "    .compute()"
   ]
  },
  {
   "cell_type": "code",
   "execution_count": 67,
   "metadata": {},
   "outputs": [
    {
     "data": {
      "text/plain": [
       "(True,\n",
       " '/home/romanell/Documents/impresso/text-acquisition-dev/text_importer/data/out/luxzeit1858-1858-issues.jsonl.bz2')"
      ]
     },
     "execution_count": 67,
     "metadata": {},
     "output_type": "execute_result"
    }
   ],
   "source": [
    "result[0]"
   ]
  },
  {
   "cell_type": "code",
   "execution_count": 20,
   "metadata": {},
   "outputs": [],
   "source": [
    "def issue2pages(issue):\n",
    "    pages = []\n",
    "    for page in issue.pages:\n",
    "        page.add_issue(issue)\n",
    "        pages.append(page)\n",
    "    return pages"
   ]
  },
  {
   "cell_type": "code",
   "execution_count": 21,
   "metadata": {},
   "outputs": [],
   "source": [
    "def process_page(page):\n",
    "    page.parse()\n",
    "    return page"
   ]
  },
  {
   "cell_type": "code",
   "execution_count": 50,
   "metadata": {},
   "outputs": [],
   "source": [
    "import os\n",
    "import codecs\n",
    "import json\n",
    "from impresso_commons.path.path_fs import canonical_path\n",
    "\n",
    "def serialize_page(luxpage, output_dir=None):\n",
    "    \n",
    "    issue_dir = luxpage.issue.issuedir\n",
    "    \n",
    "    out_dir = os.path.join(\n",
    "        output_dir,\n",
    "        canonical_path(issue_dir, path_type=\"dir\")\n",
    "    )\n",
    "    \n",
    "    if not os.path.exists(out_dir):\n",
    "            os.makedirs(out_dir)\n",
    "            \n",
    "    canonical_filename = canonical_path(\n",
    "        issue_dir,\n",
    "        \"p\" + str(luxpage.number).zfill(4),\n",
    "        \".json\"\n",
    "    )\n",
    "    \n",
    "    out_file = os.path.join(out_dir, canonical_filename)\n",
    "    \n",
    "    with codecs.open(out_file, 'w', 'utf-8') as jsonfile:\n",
    "        json.dump(luxpage.data, jsonfile)\n",
    "        print(\n",
    "            \"Written page \\'{}\\' to {}\".format(luxpage.number, out_file)\n",
    "        )\n",
    "    return (issue_dir, out_file)"
   ]
  },
  {
   "cell_type": "code",
   "execution_count": 22,
   "metadata": {},
   "outputs": [],
   "source": [
    "pages_bag = issue_sample.map(issue2pages).flatten().persist()"
   ]
  },
  {
   "cell_type": "code",
   "execution_count": 51,
   "metadata": {},
   "outputs": [],
   "source": [
    "x = pages_bag.map(process_page).map(serialize_page, output_dir=od).compute()"
   ]
  },
  {
   "cell_type": "code",
   "execution_count": 56,
   "metadata": {},
   "outputs": [
    {
     "data": {
      "text/plain": [
       "[(IssueDirectory(journal='luxzeit1858', date=datetime.date(1858, 4, 1), edition='a', path='/mnt/project_impresso/original/BNL/public_domain_006/2380730_newspaper_luxzeit1858_1858-04-01_01'),\n",
       "  '/home/romanell/Documents/impresso/text-acquisition-dev/text_importer/data/out/luxzeit1858/1858/04/01/a/luxzeit1858-1858-04-01-a-p0001.json'),\n",
       " (IssueDirectory(journal='luxzeit1858', date=datetime.date(1858, 4, 1), edition='a', path='/mnt/project_impresso/original/BNL/public_domain_006/2380730_newspaper_luxzeit1858_1858-04-01_01'),\n",
       "  '/home/romanell/Documents/impresso/text-acquisition-dev/text_importer/data/out/luxzeit1858/1858/04/01/a/luxzeit1858-1858-04-01-a-p0002.json'),\n",
       " (IssueDirectory(journal='luxzeit1858', date=datetime.date(1858, 4, 1), edition='a', path='/mnt/project_impresso/original/BNL/public_domain_006/2380730_newspaper_luxzeit1858_1858-04-01_01'),\n",
       "  '/home/romanell/Documents/impresso/text-acquisition-dev/text_importer/data/out/luxzeit1858/1858/04/01/a/luxzeit1858-1858-04-01-a-p0003.json'),\n",
       " (IssueDirectory(journal='luxzeit1858', date=datetime.date(1858, 4, 1), edition='a', path='/mnt/project_impresso/original/BNL/public_domain_006/2380730_newspaper_luxzeit1858_1858-04-01_01'),\n",
       "  '/home/romanell/Documents/impresso/text-acquisition-dev/text_importer/data/out/luxzeit1858/1858/04/01/a/luxzeit1858-1858-04-01-a-p0004.json'),\n",
       " (IssueDirectory(journal='luxzeit1858', date=datetime.date(1858, 5, 1), edition='a', path='/mnt/project_impresso/original/BNL/public_domain_006/2381254_newspaper_luxzeit1858_1858-05-01_01'),\n",
       "  '/home/romanell/Documents/impresso/text-acquisition-dev/text_importer/data/out/luxzeit1858/1858/05/01/a/luxzeit1858-1858-05-01-a-p0001.json'),\n",
       " (IssueDirectory(journal='luxzeit1858', date=datetime.date(1858, 5, 1), edition='a', path='/mnt/project_impresso/original/BNL/public_domain_006/2381254_newspaper_luxzeit1858_1858-05-01_01'),\n",
       "  '/home/romanell/Documents/impresso/text-acquisition-dev/text_importer/data/out/luxzeit1858/1858/05/01/a/luxzeit1858-1858-05-01-a-p0002.json'),\n",
       " (IssueDirectory(journal='luxzeit1858', date=datetime.date(1858, 5, 1), edition='a', path='/mnt/project_impresso/original/BNL/public_domain_006/2381254_newspaper_luxzeit1858_1858-05-01_01'),\n",
       "  '/home/romanell/Documents/impresso/text-acquisition-dev/text_importer/data/out/luxzeit1858/1858/05/01/a/luxzeit1858-1858-05-01-a-p0003.json'),\n",
       " (IssueDirectory(journal='luxzeit1858', date=datetime.date(1858, 5, 1), edition='a', path='/mnt/project_impresso/original/BNL/public_domain_006/2381254_newspaper_luxzeit1858_1858-05-01_01'),\n",
       "  '/home/romanell/Documents/impresso/text-acquisition-dev/text_importer/data/out/luxzeit1858/1858/05/01/a/luxzeit1858-1858-05-01-a-p0004.json'),\n",
       " (IssueDirectory(journal='luxzeit1858', date=datetime.date(1858, 6, 1), edition='a', path='/mnt/project_impresso/original/BNL/public_domain_006/2381892_newspaper_luxzeit1858_1858-06-01_01'),\n",
       "  '/home/romanell/Documents/impresso/text-acquisition-dev/text_importer/data/out/luxzeit1858/1858/06/01/a/luxzeit1858-1858-06-01-a-p0001.json'),\n",
       " (IssueDirectory(journal='luxzeit1858', date=datetime.date(1858, 6, 1), edition='a', path='/mnt/project_impresso/original/BNL/public_domain_006/2381892_newspaper_luxzeit1858_1858-06-01_01'),\n",
       "  '/home/romanell/Documents/impresso/text-acquisition-dev/text_importer/data/out/luxzeit1858/1858/06/01/a/luxzeit1858-1858-06-01-a-p0002.json'),\n",
       " (IssueDirectory(journal='luxzeit1858', date=datetime.date(1858, 6, 1), edition='a', path='/mnt/project_impresso/original/BNL/public_domain_006/2381892_newspaper_luxzeit1858_1858-06-01_01'),\n",
       "  '/home/romanell/Documents/impresso/text-acquisition-dev/text_importer/data/out/luxzeit1858/1858/06/01/a/luxzeit1858-1858-06-01-a-p0003.json'),\n",
       " (IssueDirectory(journal='luxzeit1858', date=datetime.date(1858, 6, 1), edition='a', path='/mnt/project_impresso/original/BNL/public_domain_006/2381892_newspaper_luxzeit1858_1858-06-01_01'),\n",
       "  '/home/romanell/Documents/impresso/text-acquisition-dev/text_importer/data/out/luxzeit1858/1858/06/01/a/luxzeit1858-1858-06-01-a-p0004.json'),\n",
       " (IssueDirectory(journal='luxzeit1858', date=datetime.date(1858, 7, 1), edition='a', path='/mnt/project_impresso/original/BNL/public_domain_006/2382388_newspaper_luxzeit1858_1858-07-01_01'),\n",
       "  '/home/romanell/Documents/impresso/text-acquisition-dev/text_importer/data/out/luxzeit1858/1858/07/01/a/luxzeit1858-1858-07-01-a-p0001.json'),\n",
       " (IssueDirectory(journal='luxzeit1858', date=datetime.date(1858, 7, 1), edition='a', path='/mnt/project_impresso/original/BNL/public_domain_006/2382388_newspaper_luxzeit1858_1858-07-01_01'),\n",
       "  '/home/romanell/Documents/impresso/text-acquisition-dev/text_importer/data/out/luxzeit1858/1858/07/01/a/luxzeit1858-1858-07-01-a-p0002.json'),\n",
       " (IssueDirectory(journal='luxzeit1858', date=datetime.date(1858, 7, 1), edition='a', path='/mnt/project_impresso/original/BNL/public_domain_006/2382388_newspaper_luxzeit1858_1858-07-01_01'),\n",
       "  '/home/romanell/Documents/impresso/text-acquisition-dev/text_importer/data/out/luxzeit1858/1858/07/01/a/luxzeit1858-1858-07-01-a-p0003.json'),\n",
       " (IssueDirectory(journal='luxzeit1858', date=datetime.date(1858, 7, 1), edition='a', path='/mnt/project_impresso/original/BNL/public_domain_006/2382388_newspaper_luxzeit1858_1858-07-01_01'),\n",
       "  '/home/romanell/Documents/impresso/text-acquisition-dev/text_importer/data/out/luxzeit1858/1858/07/01/a/luxzeit1858-1858-07-01-a-p0004.json'),\n",
       " (IssueDirectory(journal='luxzeit1858', date=datetime.date(1858, 7, 1), edition='a', path='/mnt/project_impresso/original/BNL/public_domain_006/2382388_newspaper_luxzeit1858_1858-07-01_01'),\n",
       "  '/home/romanell/Documents/impresso/text-acquisition-dev/text_importer/data/out/luxzeit1858/1858/07/01/a/luxzeit1858-1858-07-01-a-p0005.json'),\n",
       " (IssueDirectory(journal='luxzeit1858', date=datetime.date(1858, 7, 1), edition='a', path='/mnt/project_impresso/original/BNL/public_domain_006/2382388_newspaper_luxzeit1858_1858-07-01_01'),\n",
       "  '/home/romanell/Documents/impresso/text-acquisition-dev/text_importer/data/out/luxzeit1858/1858/07/01/a/luxzeit1858-1858-07-01-a-p0006.json'),\n",
       " (IssueDirectory(journal='luxzeit1858', date=datetime.date(1858, 8, 1), edition='a', path='/mnt/project_impresso/original/BNL/public_domain_006/2383010_newspaper_luxzeit1858_1858-08-01_01'),\n",
       "  '/home/romanell/Documents/impresso/text-acquisition-dev/text_importer/data/out/luxzeit1858/1858/08/01/a/luxzeit1858-1858-08-01-a-p0001.json'),\n",
       " (IssueDirectory(journal='luxzeit1858', date=datetime.date(1858, 8, 1), edition='a', path='/mnt/project_impresso/original/BNL/public_domain_006/2383010_newspaper_luxzeit1858_1858-08-01_01'),\n",
       "  '/home/romanell/Documents/impresso/text-acquisition-dev/text_importer/data/out/luxzeit1858/1858/08/01/a/luxzeit1858-1858-08-01-a-p0002.json'),\n",
       " (IssueDirectory(journal='luxzeit1858', date=datetime.date(1858, 8, 1), edition='a', path='/mnt/project_impresso/original/BNL/public_domain_006/2383010_newspaper_luxzeit1858_1858-08-01_01'),\n",
       "  '/home/romanell/Documents/impresso/text-acquisition-dev/text_importer/data/out/luxzeit1858/1858/08/01/a/luxzeit1858-1858-08-01-a-p0003.json'),\n",
       " (IssueDirectory(journal='luxzeit1858', date=datetime.date(1858, 8, 1), edition='a', path='/mnt/project_impresso/original/BNL/public_domain_006/2383010_newspaper_luxzeit1858_1858-08-01_01'),\n",
       "  '/home/romanell/Documents/impresso/text-acquisition-dev/text_importer/data/out/luxzeit1858/1858/08/01/a/luxzeit1858-1858-08-01-a-p0004.json'),\n",
       " (IssueDirectory(journal='luxzeit1858', date=datetime.date(1858, 9, 1), edition='a', path='/mnt/project_impresso/original/BNL/public_domain_006/2383626_newspaper_luxzeit1858_1858-09-01_01'),\n",
       "  '/home/romanell/Documents/impresso/text-acquisition-dev/text_importer/data/out/luxzeit1858/1858/09/01/a/luxzeit1858-1858-09-01-a-p0001.json'),\n",
       " (IssueDirectory(journal='luxzeit1858', date=datetime.date(1858, 9, 1), edition='a', path='/mnt/project_impresso/original/BNL/public_domain_006/2383626_newspaper_luxzeit1858_1858-09-01_01'),\n",
       "  '/home/romanell/Documents/impresso/text-acquisition-dev/text_importer/data/out/luxzeit1858/1858/09/01/a/luxzeit1858-1858-09-01-a-p0002.json'),\n",
       " (IssueDirectory(journal='luxzeit1858', date=datetime.date(1858, 9, 1), edition='a', path='/mnt/project_impresso/original/BNL/public_domain_006/2383626_newspaper_luxzeit1858_1858-09-01_01'),\n",
       "  '/home/romanell/Documents/impresso/text-acquisition-dev/text_importer/data/out/luxzeit1858/1858/09/01/a/luxzeit1858-1858-09-01-a-p0003.json'),\n",
       " (IssueDirectory(journal='luxzeit1858', date=datetime.date(1858, 9, 1), edition='a', path='/mnt/project_impresso/original/BNL/public_domain_006/2383626_newspaper_luxzeit1858_1858-09-01_01'),\n",
       "  '/home/romanell/Documents/impresso/text-acquisition-dev/text_importer/data/out/luxzeit1858/1858/09/01/a/luxzeit1858-1858-09-01-a-p0004.json'),\n",
       " (IssueDirectory(journal='luxzeit1858', date=datetime.date(1858, 10, 1), edition='a', path='/mnt/project_impresso/original/BNL/public_domain_006/2384169_newspaper_luxzeit1858_1858-10-01_01'),\n",
       "  '/home/romanell/Documents/impresso/text-acquisition-dev/text_importer/data/out/luxzeit1858/1858/10/01/a/luxzeit1858-1858-10-01-a-p0001.json'),\n",
       " (IssueDirectory(journal='luxzeit1858', date=datetime.date(1858, 10, 1), edition='a', path='/mnt/project_impresso/original/BNL/public_domain_006/2384169_newspaper_luxzeit1858_1858-10-01_01'),\n",
       "  '/home/romanell/Documents/impresso/text-acquisition-dev/text_importer/data/out/luxzeit1858/1858/10/01/a/luxzeit1858-1858-10-01-a-p0002.json'),\n",
       " (IssueDirectory(journal='luxzeit1858', date=datetime.date(1858, 10, 1), edition='a', path='/mnt/project_impresso/original/BNL/public_domain_006/2384169_newspaper_luxzeit1858_1858-10-01_01'),\n",
       "  '/home/romanell/Documents/impresso/text-acquisition-dev/text_importer/data/out/luxzeit1858/1858/10/01/a/luxzeit1858-1858-10-01-a-p0003.json'),\n",
       " (IssueDirectory(journal='luxzeit1858', date=datetime.date(1858, 10, 1), edition='a', path='/mnt/project_impresso/original/BNL/public_domain_006/2384169_newspaper_luxzeit1858_1858-10-01_01'),\n",
       "  '/home/romanell/Documents/impresso/text-acquisition-dev/text_importer/data/out/luxzeit1858/1858/10/01/a/luxzeit1858-1858-10-01-a-p0004.json'),\n",
       " (IssueDirectory(journal='luxzeit1858', date=datetime.date(1858, 12, 1), edition='a', path='/mnt/project_impresso/original/BNL/public_domain_006/2385325_newspaper_luxzeit1858_1858-12-01_01'),\n",
       "  '/home/romanell/Documents/impresso/text-acquisition-dev/text_importer/data/out/luxzeit1858/1858/12/01/a/luxzeit1858-1858-12-01-a-p0001.json'),\n",
       " (IssueDirectory(journal='luxzeit1858', date=datetime.date(1858, 12, 1), edition='a', path='/mnt/project_impresso/original/BNL/public_domain_006/2385325_newspaper_luxzeit1858_1858-12-01_01'),\n",
       "  '/home/romanell/Documents/impresso/text-acquisition-dev/text_importer/data/out/luxzeit1858/1858/12/01/a/luxzeit1858-1858-12-01-a-p0002.json'),\n",
       " (IssueDirectory(journal='luxzeit1858', date=datetime.date(1858, 12, 1), edition='a', path='/mnt/project_impresso/original/BNL/public_domain_006/2385325_newspaper_luxzeit1858_1858-12-01_01'),\n",
       "  '/home/romanell/Documents/impresso/text-acquisition-dev/text_importer/data/out/luxzeit1858/1858/12/01/a/luxzeit1858-1858-12-01-a-p0003.json'),\n",
       " (IssueDirectory(journal='luxzeit1858', date=datetime.date(1858, 12, 1), edition='a', path='/mnt/project_impresso/original/BNL/public_domain_006/2385325_newspaper_luxzeit1858_1858-12-01_01'),\n",
       "  '/home/romanell/Documents/impresso/text-acquisition-dev/text_importer/data/out/luxzeit1858/1858/12/01/a/luxzeit1858-1858-12-01-a-p0004.json')]"
      ]
     },
     "execution_count": 56,
     "metadata": {},
     "output_type": "execute_result"
    }
   ],
   "source": [
    "x"
   ]
  },
  {
   "cell_type": "markdown",
   "metadata": {},
   "source": [
    "**TODO**: in `LuxNewspaperIssue._find_pages()`: use `(.*?)(\\d{5})(.*)` and raise an Error if no seq is matched"
   ]
  },
  {
   "cell_type": "code",
   "execution_count": 32,
   "metadata": {},
   "outputs": [],
   "source": [
    "import re"
   ]
  },
  {
   "cell_type": "code",
   "execution_count": 54,
   "metadata": {},
   "outputs": [],
   "source": [
    "test = '1935-03-02_01-00001.xml'"
   ]
  },
  {
   "cell_type": "code",
   "execution_count": 55,
   "metadata": {},
   "outputs": [],
   "source": [
    "exp = r'(.*?)(\\d{5})(.*)'"
   ]
  },
  {
   "cell_type": "code",
   "execution_count": 56,
   "metadata": {},
   "outputs": [],
   "source": [
    "g = re.match(exp, test)"
   ]
  },
  {
   "cell_type": "code",
   "execution_count": 58,
   "metadata": {},
   "outputs": [
    {
     "data": {
      "text/plain": [
       "1"
      ]
     },
     "execution_count": 58,
     "metadata": {},
     "output_type": "execute_result"
    }
   ],
   "source": [
    "int(g.group(2))"
   ]
  },
  {
   "cell_type": "code",
   "execution_count": null,
   "metadata": {},
   "outputs": [],
   "source": []
  }
 ],
 "metadata": {
  "kernelspec": {
   "display_name": "Python 3",
   "language": "python",
   "name": "python3"
  },
  "language_info": {
   "codemirror_mode": {
    "name": "ipython",
    "version": 3
   },
   "file_extension": ".py",
   "mimetype": "text/x-python",
   "name": "python",
   "nbconvert_exporter": "python",
   "pygments_lexer": "ipython3",
   "version": "3.6.7"
  }
 },
 "nbformat": 4,
 "nbformat_minor": 2
}
