{
 "cells": [
  {
   "cell_type": "code",
   "execution_count": 1,
   "metadata": {},
   "outputs": [],
   "source": [
    "import os\n",
    "import boto\n",
    "import boto.s3.connection\n",
    "from boto.s3.key import Key\n",
    "from smart_open import s3_iter_bucket"
   ]
  },
  {
   "cell_type": "code",
   "execution_count": 2,
   "metadata": {},
   "outputs": [],
   "source": [
    "from olive_importer import detect_journal_issues, canonical_path"
   ]
  },
  {
   "cell_type": "code",
   "execution_count": 3,
   "metadata": {},
   "outputs": [],
   "source": [
    "access_key = os.environ[\"SE_ACCESS_KEY\"]\n",
    "secret_key = os.environ[\"SE_SECRET_KEY\"]\n",
    "conn = boto.connect_s3(\n",
    "        aws_access_key_id = access_key,\n",
    "        aws_secret_access_key = secret_key,\n",
    "        host = 'os.zhdk.cloud.switch.ch',\n",
    "        calling_format = boto.s3.connection.OrdinaryCallingFormat(),\n",
    ")"
   ]
  },
  {
   "cell_type": "code",
   "execution_count": 4,
   "metadata": {},
   "outputs": [],
   "source": [
    "b = conn.create_bucket('canonical-json-test')"
   ]
  },
  {
   "cell_type": "code",
   "execution_count": 6,
   "metadata": {},
   "outputs": [
    {
     "data": {
      "text/plain": [
       "[<Key: canonical-json-test,out/GDL/1900/01/02/a/GDL-1900-01-02-a-info.json>,\n",
       " <Key: canonical-json-test,out/GDL/1900/01/02/a/GDL-1900-01-02-a-p0001.json>,\n",
       " <Key: canonical-json-test,out/GDL/1900/01/02/a/GDL-1900-01-02-a-p0002.json>,\n",
       " <Key: canonical-json-test,out/GDL/1900/01/02/a/GDL-1900-01-02-a-p0003.json>,\n",
       " <Key: canonical-json-test,out/GDL/1900/01/02/a/GDL-1900-01-02-a-p0004.json>,\n",
       " <Key: canonical-json-test,out/GDL/1900/01/03/a/GDL-1900-01-03-a-info.json>,\n",
       " <Key: canonical-json-test,out/GDL/1900/01/03/a/GDL-1900-01-03-a-p0001.json>,\n",
       " <Key: canonical-json-test,out/GDL/1900/01/03/a/GDL-1900-01-03-a-p0002.json>,\n",
       " <Key: canonical-json-test,out/GDL/1900/01/03/a/GDL-1900-01-03-a-p0003.json>,\n",
       " <Key: canonical-json-test,out/GDL/1900/01/03/a/GDL-1900-01-03-a-p0004.json>,\n",
       " <Key: canonical-json-test,out/GDL/1900/01/04/a/GDL-1900-01-04-a-info.json>,\n",
       " <Key: canonical-json-test,out/GDL/1900/01/04/a/GDL-1900-01-04-a-p0001.json>,\n",
       " <Key: canonical-json-test,out/GDL/1900/01/04/a/GDL-1900-01-04-a-p0002.json>,\n",
       " <Key: canonical-json-test,out/GDL/1900/01/04/a/GDL-1900-01-04-a-p0003.json>,\n",
       " <Key: canonical-json-test,out/GDL/1900/01/04/a/GDL-1900-01-04-a-p0004.json>,\n",
       " <Key: canonical-json-test,out/GDL/1900/01/05/a/GDL-1900-01-05-a-info.json>,\n",
       " <Key: canonical-json-test,out/GDL/1900/01/05/a/GDL-1900-01-05-a-p0001.json>,\n",
       " <Key: canonical-json-test,out/GDL/1900/01/05/a/GDL-1900-01-05-a-p0002.json>,\n",
       " <Key: canonical-json-test,out/GDL/1900/01/05/a/GDL-1900-01-05-a-p0003.json>,\n",
       " <Key: canonical-json-test,out/GDL/1900/01/05/a/GDL-1900-01-05-a-p0004.json>]"
      ]
     },
     "execution_count": 6,
     "metadata": {},
     "output_type": "execute_result"
    }
   ],
   "source": [
    "list(b.list())"
   ]
  },
  {
   "cell_type": "code",
   "execution_count": 9,
   "metadata": {},
   "outputs": [],
   "source": [
    "issues = detect_journal_issues(\"out/\")"
   ]
  },
  {
   "cell_type": "code",
   "execution_count": 31,
   "metadata": {},
   "outputs": [
    {
     "data": {
      "text/plain": [
       "'out/GDL/1900/01/02'"
      ]
     },
     "execution_count": 31,
     "metadata": {},
     "output_type": "execute_result"
    }
   ],
   "source": [
    "issues[0].path"
   ]
  },
  {
   "cell_type": "code",
   "execution_count": 36,
   "metadata": {},
   "outputs": [],
   "source": [
    "files = [\n",
    "    os.path.join(i.path, \"a\", f)\n",
    "    for i in issues\n",
    "    for f in os.listdir(os.path.join(\"out\", canonical_path(i, path_type=\"dir\")))\n",
    "]"
   ]
  },
  {
   "cell_type": "code",
   "execution_count": 37,
   "metadata": {},
   "outputs": [
    {
     "data": {
      "text/plain": [
       "['out/GDL/1900/01/02/a/GDL-1900-01-02-a-info.json',\n",
       " 'out/GDL/1900/01/02/a/GDL-1900-01-02-a-p0001.json',\n",
       " 'out/GDL/1900/01/02/a/GDL-1900-01-02-a-p0002.json',\n",
       " 'out/GDL/1900/01/02/a/GDL-1900-01-02-a-p0003.json',\n",
       " 'out/GDL/1900/01/02/a/GDL-1900-01-02-a-p0004.json',\n",
       " 'out/GDL/1900/01/03/a/GDL-1900-01-03-a-info.json',\n",
       " 'out/GDL/1900/01/03/a/GDL-1900-01-03-a-p0001.json',\n",
       " 'out/GDL/1900/01/03/a/GDL-1900-01-03-a-p0002.json',\n",
       " 'out/GDL/1900/01/03/a/GDL-1900-01-03-a-p0003.json',\n",
       " 'out/GDL/1900/01/03/a/GDL-1900-01-03-a-p0004.json',\n",
       " 'out/GDL/1900/01/04/a/GDL-1900-01-04-a-info.json',\n",
       " 'out/GDL/1900/01/04/a/GDL-1900-01-04-a-p0001.json',\n",
       " 'out/GDL/1900/01/04/a/GDL-1900-01-04-a-p0002.json',\n",
       " 'out/GDL/1900/01/04/a/GDL-1900-01-04-a-p0003.json',\n",
       " 'out/GDL/1900/01/04/a/GDL-1900-01-04-a-p0004.json',\n",
       " 'out/GDL/1900/01/05/a/GDL-1900-01-05-a-info.json',\n",
       " 'out/GDL/1900/01/05/a/GDL-1900-01-05-a-p0001.json',\n",
       " 'out/GDL/1900/01/05/a/GDL-1900-01-05-a-p0002.json',\n",
       " 'out/GDL/1900/01/05/a/GDL-1900-01-05-a-p0003.json',\n",
       " 'out/GDL/1900/01/05/a/GDL-1900-01-05-a-p0004.json']"
      ]
     },
     "execution_count": 37,
     "metadata": {},
     "output_type": "execute_result"
    }
   ],
   "source": [
    "files"
   ]
  },
  {
   "cell_type": "code",
   "execution_count": 38,
   "metadata": {},
   "outputs": [],
   "source": [
    "for f in files:\n",
    "    k = Key(b) # create a key\n",
    "    k.key = f # set the original filename (with path) as the key\n",
    "    k.set_contents_from_filename(f) # copy the content of the file into the key\n",
    "    k.close()"
   ]
  },
  {
   "cell_type": "code",
   "execution_count": 8,
   "metadata": {},
   "outputs": [
    {
     "name": "stdout",
     "output_type": "stream",
     "text": [
      "out/GDL/1900/01/02/a/GDL-1900-01-02-a-p0004.json 92143\n",
      "out/GDL/1900/01/04/a/GDL-1900-01-04-a-p0002.json 832407\n",
      "out/GDL/1900/01/05/a/GDL-1900-01-05-a-info.json 13768\n",
      "out/GDL/1900/01/02/a/GDL-1900-01-02-a-info.json 14782\n",
      "out/GDL/1900/01/03/a/GDL-1900-01-03-a-p0003.json 783433\n",
      "out/GDL/1900/01/03/a/GDL-1900-01-03-a-p0001.json 679561\n",
      "out/GDL/1900/01/03/a/GDL-1900-01-03-a-p0004.json 62885\n",
      "out/GDL/1900/01/05/a/GDL-1900-01-05-a-p0004.json 15\n",
      "out/GDL/1900/01/03/a/GDL-1900-01-03-a-p0002.json 720926\n",
      "out/GDL/1900/01/02/a/GDL-1900-01-02-a-p0003.json 755319\n",
      "out/GDL/1900/01/04/a/GDL-1900-01-04-a-p0004.json 72513\n",
      "out/GDL/1900/01/04/a/GDL-1900-01-04-a-info.json 12858\n",
      "out/GDL/1900/01/03/a/GDL-1900-01-03-a-info.json 13170\n",
      "out/GDL/1900/01/05/a/GDL-1900-01-05-a-p0003.json 796982\n",
      "out/GDL/1900/01/05/a/GDL-1900-01-05-a-p0001.json 684448\n",
      "out/GDL/1900/01/05/a/GDL-1900-01-05-a-p0002.json 841273\n",
      "out/GDL/1900/01/04/a/GDL-1900-01-04-a-p0001.json 677649\n",
      "out/GDL/1900/01/02/a/GDL-1900-01-02-a-p0002.json 813049\n",
      "out/GDL/1900/01/02/a/GDL-1900-01-02-a-p0001.json 708378\n",
      "out/GDL/1900/01/04/a/GDL-1900-01-04-a-p0003.json 716009\n"
     ]
    }
   ],
   "source": [
    "for key, content in s3_iter_bucket(b, prefix=\"out/GDL/1900/\"):\n",
    "    print(key.name, key.size)"
   ]
  },
  {
   "cell_type": "markdown",
   "metadata": {},
   "source": [
    "## data acquisition"
   ]
  },
  {
   "cell_type": "code",
   "execution_count": 6,
   "metadata": {},
   "outputs": [
    {
     "name": "stderr",
     "output_type": "stream",
     "text": [
      "/Users/rromanello/.local/share/virtualenvs/impresso-data_acquisition-mZZz148w/lib/python3.6/importlib/_bootstrap.py:219: RuntimeWarning: numpy.dtype size changed, may indicate binary incompatibility. Expected 96, got 88\n",
      "  return f(*args, **kwds)\n"
     ]
    }
   ],
   "source": [
    "from olive_importer import detect_journal_issues"
   ]
  },
  {
   "cell_type": "code",
   "execution_count": 93,
   "metadata": {},
   "outputs": [],
   "source": [
    "from datetime import date"
   ]
  },
  {
   "cell_type": "code",
   "execution_count": 7,
   "metadata": {},
   "outputs": [],
   "source": [
    "issues = detect_journal_issues(\"sample_data/\")"
   ]
  },
  {
   "cell_type": "code",
   "execution_count": 8,
   "metadata": {},
   "outputs": [
    {
     "data": {
      "text/plain": [
       "[IssueDirectory(journal='GDL', date=datetime.date(1900, 1, 2), edition='a', path='sample_data/GDL/1900/01/02'),\n",
       " IssueDirectory(journal='GDL', date=datetime.date(1900, 1, 3), edition='a', path='sample_data/GDL/1900/01/03'),\n",
       " IssueDirectory(journal='GDL', date=datetime.date(1900, 1, 4), edition='a', path='sample_data/GDL/1900/01/04'),\n",
       " IssueDirectory(journal='GDL', date=datetime.date(1900, 1, 5), edition='a', path='sample_data/GDL/1900/01/05')]"
      ]
     },
     "execution_count": 8,
     "metadata": {},
     "output_type": "execute_result"
    }
   ],
   "source": [
    "issues"
   ]
  },
  {
   "cell_type": "code",
   "execution_count": 86,
   "metadata": {
    "code_folding": []
   },
   "outputs": [],
   "source": [
    "def parse_filter(filter_string):\n",
    "    \n",
    "    filters = {\n",
    "        f.split(\"=\")[0].strip(): f.split(\"=\")[1].strip() \n",
    "        for f in filter_string.split(\";\")\n",
    "    }\n",
    "    \n",
    "    return filters\n",
    "    "
   ]
  },
  {
   "cell_type": "code",
   "execution_count": 113,
   "metadata": {
    "code_folding": []
   },
   "outputs": [],
   "source": [
    "def apply_filters(filter_dict, issues):\n",
    "    \n",
    "    filtered_issues = []\n",
    "    \n",
    "    print(filter_dict)\n",
    "    \n",
    "    if \"journal\" in filter_dict:\n",
    "        filtered_issues = [i for i in issues if i.journal == filter_dict[\"journal\"]]\n",
    "    else:\n",
    "        filtered_issues = issues\n",
    "        \n",
    "    if \"date\" in filter_dict:\n",
    "        \n",
    "        # date filter is a range\n",
    "        if \"-\" in filter_dict[\"date\"]:\n",
    "            start, end = filter_dict[\"date\"].split(\"-\")\n",
    "            start = date(*[int(x) for x in start.split(\"/\")])\n",
    "            end = date(*[int(x) for x in end.split(\"/\")])\n",
    "            print(start, end)\n",
    "            filtered_issues = [\n",
    "                i\n",
    "                for i in filtered_issues \n",
    "                if i.date >= start and i.date <= end\n",
    "            ]\n",
    "            \n",
    "        # date filter is not a range\n",
    "        else:\n",
    "            filter_date = date(*[int(x) for x in filtered_dict[\"date\"].split(\"/\")])\n",
    "            filtered_issues += [\n",
    "                i\n",
    "                for i in issues \n",
    "                if i.date == filter_date\n",
    "            ]\n",
    "        \n",
    "    return filtered_issues"
   ]
  },
  {
   "cell_type": "code",
   "execution_count": 114,
   "metadata": {},
   "outputs": [],
   "source": [
    "issue_filter = \"date=1900/01/01-1910/01/03\""
   ]
  },
  {
   "cell_type": "code",
   "execution_count": 122,
   "metadata": {},
   "outputs": [],
   "source": [
    "issue_filter = \"journal=JDG\""
   ]
  },
  {
   "cell_type": "code",
   "execution_count": 123,
   "metadata": {},
   "outputs": [],
   "source": [
    "f = parse_filter(issue_filter)"
   ]
  },
  {
   "cell_type": "code",
   "execution_count": 124,
   "metadata": {},
   "outputs": [
    {
     "data": {
      "text/plain": [
       "{'journal': 'JDG'}"
      ]
     },
     "execution_count": 124,
     "metadata": {},
     "output_type": "execute_result"
    }
   ],
   "source": [
    "f"
   ]
  },
  {
   "cell_type": "code",
   "execution_count": 125,
   "metadata": {},
   "outputs": [
    {
     "name": "stdout",
     "output_type": "stream",
     "text": [
      "{'journal': 'JDG'}\n"
     ]
    },
    {
     "data": {
      "text/plain": [
       "[]"
      ]
     },
     "execution_count": 125,
     "metadata": {},
     "output_type": "execute_result"
    }
   ],
   "source": [
    "apply_filters(f, issues)"
   ]
  },
  {
   "cell_type": "code",
   "execution_count": 44,
   "metadata": {},
   "outputs": [
    {
     "data": {
      "text/plain": [
       "datetime.date(1900, 1, 2)"
      ]
     },
     "execution_count": 44,
     "metadata": {},
     "output_type": "execute_result"
    }
   ],
   "source": [
    "issues[0].date"
   ]
  },
  {
   "cell_type": "code",
   "execution_count": 49,
   "metadata": {},
   "outputs": [
    {
     "data": {
      "text/plain": [
       "[{'font': 'Times-Roman',\n",
       "  'font_size': 10.0,\n",
       "  'id': '001',\n",
       "  'rgb_color': [0, 0, 0]},\n",
       " {'font': 'Helvetica-BoldOblique',\n",
       "  'font_size': 13.0,\n",
       "  'id': '002',\n",
       "  'rgb_color': [0, 0, 0]},\n",
       " {'font': 'Times-Bold',\n",
       "  'font_size': 15.0,\n",
       "  'id': '003',\n",
       "  'rgb_color': [0, 0, 0]},\n",
       " {'font': 'Times-Bold',\n",
       "  'font_size': 11.0,\n",
       "  'id': '004',\n",
       "  'rgb_color': [0, 0, 0]},\n",
       " {'font': 'Helvetica-Bold',\n",
       "  'font_size': 11.0,\n",
       "  'id': '005',\n",
       "  'rgb_color': [0, 0, 0]},\n",
       " {'font': 'Helvetica-Bold',\n",
       "  'font_size': 7.0,\n",
       "  'id': '006',\n",
       "  'rgb_color': [0, 0, 0]},\n",
       " {'font': 'Times-Italic',\n",
       "  'font_size': 10.0,\n",
       "  'id': '007',\n",
       "  'rgb_color': [0, 0, 0]},\n",
       " {'font': 'Times-Bold',\n",
       "  'font_size': 121.99,\n",
       "  'id': '008',\n",
       "  'rgb_color': [0, 0, 0]},\n",
       " {'font': 'Times-Bold',\n",
       "  'font_size': 121.964,\n",
       "  'id': '009',\n",
       "  'rgb_color': [0, 0, 0]},\n",
       " {'font': 'Times-Bold',\n",
       "  'font_size': 122.009,\n",
       "  'id': '010',\n",
       "  'rgb_color': [0, 0, 0]},\n",
       " {'font': 'Times-Bold',\n",
       "  'font_size': 36.0,\n",
       "  'id': '011',\n",
       "  'rgb_color': [0, 0, 0]},\n",
       " {'font': 'Times-Roman',\n",
       "  'font_size': 6.5,\n",
       "  'id': '012',\n",
       "  'rgb_color': [0, 0, 0]},\n",
       " {'font': 'Times-Roman',\n",
       "  'font_size': 7.0,\n",
       "  'id': '013',\n",
       "  'rgb_color': [0, 0, 0]},\n",
       " {'font': 'Courier-Bold',\n",
       "  'font_size': 14.0,\n",
       "  'id': '014',\n",
       "  'rgb_color': [0, 0, 0]},\n",
       " {'font': 'Helvetica-Bold',\n",
       "  'font_size': 17.0,\n",
       "  'id': '015',\n",
       "  'rgb_color': [0, 0, 0]},\n",
       " {'font': 'Helvetica-Bold',\n",
       "  'font_size': 23.0,\n",
       "  'id': '016',\n",
       "  'rgb_color': [0, 0, 0]},\n",
       " {'font': 'Times-Bold', 'font_size': 7.0, 'id': '017', 'rgb_color': [0, 0, 0]},\n",
       " {'font': 'Times-Roman',\n",
       "  'font_size': 21.126,\n",
       "  'id': '018',\n",
       "  'rgb_color': [0, 0, 0]},\n",
       " {'font': 'Helvetica-Bold',\n",
       "  'font_size': 10.0,\n",
       "  'id': '019',\n",
       "  'rgb_color': [0, 0, 0]},\n",
       " {'font': 'Times-Bold',\n",
       "  'font_size': 4.001,\n",
       "  'id': '020',\n",
       "  'rgb_color': [0, 0, 0]},\n",
       " {'font': 'Times-BoldItalic',\n",
       "  'font_size': 3.997,\n",
       "  'id': '021',\n",
       "  'rgb_color': [0, 0, 0]},\n",
       " {'font': 'Times-Bold',\n",
       "  'font_size': 17.0,\n",
       "  'id': '022',\n",
       "  'rgb_color': [0, 0, 0]},\n",
       " {'font': 'Times-Bold',\n",
       "  'font_size': 5.999,\n",
       "  'id': '023',\n",
       "  'rgb_color': [0, 0, 0]},\n",
       " {'font': 'Helvetica-Bold',\n",
       "  'font_size': 15.0,\n",
       "  'id': '024',\n",
       "  'rgb_color': [0, 0, 0]},\n",
       " {'font': 'Helvetica-Oblique',\n",
       "  'font_size': 3.001,\n",
       "  'id': '025',\n",
       "  'rgb_color': [0, 0, 0]},\n",
       " {'font': 'Helvetica-Bold',\n",
       "  'font_size': 4.55,\n",
       "  'id': '026',\n",
       "  'rgb_color': [0, 0, 0]},\n",
       " {'font': 'Times-Bold',\n",
       "  'font_size': 16.0,\n",
       "  'id': '027',\n",
       "  'rgb_color': [0, 0, 0]},\n",
       " {'font': 'Times-Roman',\n",
       "  'font_size': 23.057,\n",
       "  'id': '028',\n",
       "  'rgb_color': [0, 0, 0]},\n",
       " {'font': 'Times-Roman',\n",
       "  'font_size': 11.0,\n",
       "  'id': '029',\n",
       "  'rgb_color': [0, 0, 0]},\n",
       " {'font': 'Times-Italic',\n",
       "  'font_size': 11.0,\n",
       "  'id': '030',\n",
       "  'rgb_color': [0, 0, 0]},\n",
       " {'font': 'Helvetica-Oblique',\n",
       "  'font_size': 11.0,\n",
       "  'id': '031',\n",
       "  'rgb_color': [0, 0, 0]},\n",
       " {'font': 'Times-Roman',\n",
       "  'font_size': 8.0,\n",
       "  'id': '032',\n",
       "  'rgb_color': [0, 0, 0]},\n",
       " {'font': 'Times-Roman',\n",
       "  'font_size': 21.31,\n",
       "  'id': '033',\n",
       "  'rgb_color': [0, 0, 0]},\n",
       " {'font': 'Times-Bold',\n",
       "  'font_size': 23.0,\n",
       "  'id': '034',\n",
       "  'rgb_color': [0, 0, 0]},\n",
       " {'font': 'Helvetica', 'font_size': 2.0, 'id': '035', 'rgb_color': [0, 0, 0]},\n",
       " {'font': 'Times-BoldItalic',\n",
       "  'font_size': 6.0,\n",
       "  'id': '036',\n",
       "  'rgb_color': [0, 0, 0]},\n",
       " {'font': 'Helvetica-BoldOblique',\n",
       "  'font_size': 10.0,\n",
       "  'id': '037',\n",
       "  'rgb_color': [0, 0, 0]},\n",
       " {'font': 'Times-Bold',\n",
       "  'font_size': 13.0,\n",
       "  'id': '038',\n",
       "  'rgb_color': [0, 0, 0]},\n",
       " {'font': 'Times-Bold',\n",
       "  'font_size': 19.0,\n",
       "  'id': '039',\n",
       "  'rgb_color': [0, 0, 0]},\n",
       " {'font': 'Times-Italic',\n",
       "  'font_size': 8.0,\n",
       "  'id': '040',\n",
       "  'rgb_color': [0, 0, 0]},\n",
       " {'font': 'Times-Roman',\n",
       "  'font_size': 21.0,\n",
       "  'id': '041',\n",
       "  'rgb_color': [0, 0, 0]},\n",
       " {'font': 'Times-Bold',\n",
       "  'font_size': 10.0,\n",
       "  'id': '042',\n",
       "  'rgb_color': [0, 0, 0]},\n",
       " {'font': 'Times-Bold',\n",
       "  'font_size': 13.996,\n",
       "  'id': '043',\n",
       "  'rgb_color': [0, 0, 0]},\n",
       " {'font': 'Times-Roman',\n",
       "  'font_size': 9.0,\n",
       "  'id': '044',\n",
       "  'rgb_color': [0, 0, 0]},\n",
       " {'font': 'Times-Bold',\n",
       "  'font_size': 11.996,\n",
       "  'id': '045',\n",
       "  'rgb_color': [0, 0, 0]},\n",
       " {'font': 'Times-Italic',\n",
       "  'font_size': 9.0,\n",
       "  'id': '046',\n",
       "  'rgb_color': [0, 0, 0]},\n",
       " {'font': 'Times-BoldItalic',\n",
       "  'font_size': 17.0,\n",
       "  'id': '047',\n",
       "  'rgb_color': [0, 0, 0]},\n",
       " {'font': 'Times-Roman',\n",
       "  'font_size': 25.0,\n",
       "  'id': '048',\n",
       "  'rgb_color': [0, 0, 0]},\n",
       " {'font': 'Helvetica', 'font_size': 11.0, 'id': '049', 'rgb_color': [0, 0, 0]},\n",
       " {'font': 'Times-Roman',\n",
       "  'font_size': 22.0,\n",
       "  'id': '050',\n",
       "  'rgb_color': [0, 0, 0]},\n",
       " {'font': 'Times-Roman',\n",
       "  'font_size': 5.85,\n",
       "  'id': '051',\n",
       "  'rgb_color': [0, 0, 0]},\n",
       " {'font': 'Times-Roman',\n",
       "  'font_size': 15.0,\n",
       "  'id': '052',\n",
       "  'rgb_color': [0, 0, 0]},\n",
       " {'font': 'Times-Bold', 'font_size': 9.0, 'id': '053', 'rgb_color': [0, 0, 0]},\n",
       " {'font': 'Times-BoldItalic',\n",
       "  'font_size': 15.0,\n",
       "  'id': '054',\n",
       "  'rgb_color': [0, 0, 0]},\n",
       " {'font': 'Times-Roman',\n",
       "  'font_size': 29.0,\n",
       "  'id': '055',\n",
       "  'rgb_color': [0, 0, 0]},\n",
       " {'font': 'Times-Roman',\n",
       "  'font_size': 7.4,\n",
       "  'id': '056',\n",
       "  'rgb_color': [0, 0, 0]},\n",
       " {'font': 'Times-Bold',\n",
       "  'font_size': 31.0,\n",
       "  'id': '057',\n",
       "  'rgb_color': [0, 0, 0]},\n",
       " {'font': 'Helvetica', 'font_size': 14.0, 'id': '058', 'rgb_color': [0, 0, 0]},\n",
       " {'font': 'Helvetica-Bold',\n",
       "  'font_size': 13.0,\n",
       "  'id': '059',\n",
       "  'rgb_color': [0, 0, 0]},\n",
       " {'font': 'Helvetica', 'font_size': 22.0, 'id': '060', 'rgb_color': [0, 0, 0]},\n",
       " {'font': 'Helvetica-Bold',\n",
       "  'font_size': 30.008,\n",
       "  'id': '061',\n",
       "  'rgb_color': [0, 0, 0]},\n",
       " {'font': 'Helvetica-Oblique',\n",
       "  'font_size': 14.0,\n",
       "  'id': '062',\n",
       "  'rgb_color': [0, 0, 0]},\n",
       " {'font': 'Helvetica', 'font_size': 10.0, 'id': '063', 'rgb_color': [0, 0, 0]},\n",
       " {'font': 'Times-Bold',\n",
       "  'font_size': 25.0,\n",
       "  'id': '064',\n",
       "  'rgb_color': [0, 0, 0]},\n",
       " {'font': 'Helvetica', 'font_size': 20.0, 'id': '065', 'rgb_color': [0, 0, 0]},\n",
       " {'font': 'Times-Italic',\n",
       "  'font_size': 44.0,\n",
       "  'id': '066',\n",
       "  'rgb_color': [0, 0, 0]},\n",
       " {'font': 'Helvetica-Bold',\n",
       "  'font_size': 7.4,\n",
       "  'id': '067',\n",
       "  'rgb_color': [0, 0, 0]},\n",
       " {'font': 'Helvetica-Bold',\n",
       "  'font_size': 4.81,\n",
       "  'id': '068',\n",
       "  'rgb_color': [0, 0, 0]},\n",
       " {'font': 'Times-Italic',\n",
       "  'font_size': 25.0,\n",
       "  'id': '069',\n",
       "  'rgb_color': [0, 0, 0]},\n",
       " {'font': 'Helvetica-BoldOblique',\n",
       "  'font_size': 9.0,\n",
       "  'id': '070',\n",
       "  'rgb_color': [0, 0, 0]},\n",
       " {'font': 'Helvetica-Bold',\n",
       "  'font_size': 6.0,\n",
       "  'id': '071',\n",
       "  'rgb_color': [0, 0, 0]},\n",
       " {'font': 'Helvetica-Oblique',\n",
       "  'font_size': 13.0,\n",
       "  'id': '072',\n",
       "  'rgb_color': [0, 0, 0]},\n",
       " {'font': 'Times-Roman',\n",
       "  'font_size': 6.0,\n",
       "  'id': '073',\n",
       "  'rgb_color': [0, 0, 0]},\n",
       " {'font': 'Times-Roman',\n",
       "  'font_size': 14.3,\n",
       "  'id': '074',\n",
       "  'rgb_color': [0, 0, 0]},\n",
       " {'font': 'Helvetica-Oblique',\n",
       "  'font_size': 7.15,\n",
       "  'id': '075',\n",
       "  'rgb_color': [0, 0, 0]},\n",
       " {'font': 'Helvetica-Bold',\n",
       "  'font_size': 9.0,\n",
       "  'id': '076',\n",
       "  'rgb_color': [0, 0, 0]},\n",
       " {'font': 'Helvetica-Bold',\n",
       "  'font_size': 22.0,\n",
       "  'id': '077',\n",
       "  'rgb_color': [0, 0, 0]},\n",
       " {'font': 'Times-Bold',\n",
       "  'font_size': 44.0,\n",
       "  'id': '078',\n",
       "  'rgb_color': [0, 0, 0]},\n",
       " {'font': 'Helvetica-Bold',\n",
       "  'font_size': 38.0,\n",
       "  'id': '079',\n",
       "  'rgb_color': [0, 0, 0]},\n",
       " {'font': 'Times-BoldItalic',\n",
       "  'font_size': 16.0,\n",
       "  'id': '080',\n",
       "  'rgb_color': [0, 0, 0]},\n",
       " {'font': 'Times-Italic',\n",
       "  'font_size': 22.0,\n",
       "  'id': '081',\n",
       "  'rgb_color': [0, 0, 0]},\n",
       " {'font': 'Times-Italic',\n",
       "  'font_size': 17.0,\n",
       "  'id': '082',\n",
       "  'rgb_color': [0, 0, 0]},\n",
       " {'font': 'Times-BoldItalic',\n",
       "  'font_size': 29.0,\n",
       "  'id': '083',\n",
       "  'rgb_color': [0, 0, 0]},\n",
       " {'font': 'Helvetica-Bold',\n",
       "  'font_size': 16.0,\n",
       "  'id': '084',\n",
       "  'rgb_color': [0, 0, 0]},\n",
       " {'font': 'Times-Roman',\n",
       "  'font_size': 17.316,\n",
       "  'id': '085',\n",
       "  'rgb_color': [0, 0, 0]},\n",
       " {'font': 'Helvetica-Bold',\n",
       "  'font_size': 29.0,\n",
       "  'id': '086',\n",
       "  'rgb_color': [0, 0, 0]},\n",
       " {'font': 'Times-Bold',\n",
       "  'font_size': 22.0,\n",
       "  'id': '087',\n",
       "  'rgb_color': [0, 0, 0]},\n",
       " {'font': 'Times-Bold',\n",
       "  'font_size': 38.0,\n",
       "  'id': '088',\n",
       "  'rgb_color': [0, 0, 0]},\n",
       " {'font': 'Courier', 'font_size': 10.0, 'id': '089', 'rgb_color': [0, 0, 0]},\n",
       " {'font': 'Courier', 'font_size': 7.4, 'id': '090', 'rgb_color': [0, 0, 0]},\n",
       " {'font': 'Times-BoldItalic',\n",
       "  'font_size': 9.0,\n",
       "  'id': '091',\n",
       "  'rgb_color': [0, 0, 0]},\n",
       " {'font': 'Times-BoldItalic',\n",
       "  'font_size': 10.0,\n",
       "  'id': '092',\n",
       "  'rgb_color': [0, 0, 0]},\n",
       " {'font': 'Times-Bold', 'font_size': 7.4, 'id': '093', 'rgb_color': [0, 0, 0]},\n",
       " {'font': 'Times-BoldItalic',\n",
       "  'font_size': 18.986,\n",
       "  'id': '094',\n",
       "  'rgb_color': [0, 0, 0]},\n",
       " {'font': 'Times-Italic',\n",
       "  'font_size': 7.4,\n",
       "  'id': '095',\n",
       "  'rgb_color': [0, 0, 0]}]"
      ]
     },
     "execution_count": 49,
     "metadata": {},
     "output_type": "execute_result"
    }
   ],
   "source": [
    "date(*[int(x) for x in \"1950/01/01\".split(\"/\")])"
   ]
  },
  {
   "cell_type": "markdown",
   "metadata": {},
   "source": [
    "## passim-related stuff"
   ]
  },
  {
   "cell_type": "code",
   "execution_count": 1,
   "metadata": {},
   "outputs": [],
   "source": [
    "import codecs\n",
    "import jsonlines\n",
    "from bs4 import BeautifulSoup"
   ]
  },
  {
   "cell_type": "code",
   "execution_count": 5,
   "metadata": {},
   "outputs": [],
   "source": [
    "sample_path = [\n",
    "    \"/Users/rromanello/Downloads/GDL-1998-01-01-60.xml\",\n",
    "    \"/Users/rromanello/Downloads/GDL-1998-01-01-100.xml\"\n",
    "]"
   ]
  },
  {
   "cell_type": "code",
   "execution_count": 33,
   "metadata": {},
   "outputs": [],
   "source": [
    "with codecs.open(sample_path, 'r', 'utf-8') as inp_file:\n",
    "    xml = inp_file.read()"
   ]
  },
  {
   "cell_type": "code",
   "execution_count": 34,
   "metadata": {},
   "outputs": [],
   "source": [
    "soup = BeautifulSoup(xml, 'lxml')"
   ]
  },
  {
   "cell_type": "code",
   "execution_count": 35,
   "metadata": {},
   "outputs": [],
   "source": [
    "entities = soup.findAll('entity')"
   ]
  },
  {
   "cell_type": "code",
   "execution_count": 38,
   "metadata": {
    "collapsed": true
   },
   "outputs": [
    {
     "data": {
      "text/plain": [
       "'<full_text>CINEMAS &amp; Suite des cinémas de la page 23 LA Confidential, de Curtis Hanson, av. Kim Basin ger, Kevin Spacey ; (14 / 16 ans) me / je / di v. o. 17.00, 20.15, ve / sa v. o. 17.00, 20.15, 23.00 (Udo 1). Ghetto, de Thomas Imbach ; (12 /^ 4 ans)\\n            me / je en dialecte 17.30, ve-di relâche (Udo 2). 187 (One Eight Seven) de Kevin Reynolds, av. Sa muel L Jackson, John Heard, Kelly Rowan ; (12 / 14 ans) me / je v. o. 20.15, ve-di relâche (Udo 2). Rien à perdre (Nothing to lose) de Steve Œdekerk av.\\n            Martin Lawrence, Tim Robbins, Kelly Preston ; (10 / 12 ans) me / je relâche, ve / sa v. o. 17.30, 20.30 22.45, di- v. o. 17.30, 20.30 (Udo 2). 32 a, r. Centrale, 032 / 323 66 55 UDO 1-2 Maman, je m\\'occupe des méchants (Home Alone 3) de Raja Gosnell,\\n            av. Alex D. Linz, Olek Kru pa, Kevin Kilner ; (7 / 5 ans) me / je v. all. 15.00, p. fr. 17.15, v. o. 20.15, ve-di v. all. 15.00, p. fr. 17.15. Double Team, de Tsui Hark, av. jean-Claude Van Damme, Dennis Rodman, Mickey Rourke ; (16 / 14 ans) me / je\\n            relâche, ve / sa v. o. 20.15, 22.30, di. v. o 20.15. 4, r. T. Wyttenbach, 032 / 322 0122 PALACE James Bond-Demain ne meurt jamais (James Bond-Tomorrow Never Dies) de Roger Spottiswoode, av. Pierce Brosnan, Jonathan Pryce, Michè le Yeoh ; (12 / 14\\n            ans) me / je / di v. o. 14.30, 17.15, 20.15, ve / sa v. o. 14.30, 17.15, 20.15, 23-00 (Rex 1) Die Furchtlosen Vier, dessin animé ; (5 / 7 ans) me sa relâche, di. v. all. 10.30 (Rex 1 ); me-di v. all. 15.00 (Rex 2). Comedlan Harmonists, de Joseph\\n            Vilsmaier ; (12 / 14 ans) me-sa v. all. 17.30, 20.30, di. v. all. 10.30, 17.30, 20.30 (Rex 2). 187 (One Eight Seven) de Kevin Reynolds, av. Sa muel L. Jackson, John Heard, Kelly Rowan ; (12 / 14 ans) me / je / di relâche, ve / sa v. o. 23.00 (Rex 2).\\n            92, quai du Bas, 032 / 322 38 77 REX 1-2 Le mariage de mon meilleur ami, de P. J. Hogan, av Julia Roberts, Dermot Mulroney ; (12 / 10 ans) me / je / di v. o. 15.00, 17.15, 20.15, ve / sa v. o. 15.00 17.15, 20.15, 22.30. 40, r. Neuve, 032 / 3221016\\n            STUDIO LANEUVEVILLE Le bossu, de Philippe de Broca, av. Daniel Auteuil Marie Gillain, Vincent Perez, Fabrice Luchini ; (10 / 12 ans) me / je relâche, ve-di p. fr. 20.30. 3, pi. de la Gare 032 / 7512750 CINÉMA LANEUVEVILLE MOUTIER Allen la\\n            résurrection, de lean-Pierre leunet, av. Sigourney Weaver, Wtnona Ryder, Ron Perlman ; (16 ans) me / je relâche, ve / sa p. fr. 20.30, di. p. fr. i 6. oo 20.30. i, r. du Clos, 032 / 493 73 73 IECINOCHE TRAMELAN Air Force One, de Wolfgang Petersen,\\n            av. Harrison Ford, Gary Oldman, Glenn Close : (14 ans) me. p. fr 16.00, je / ve / di relâche, sa. p. fr. 21.00. Bean, de Mel Smith, av. Rowan Atkinson, Peter Mc Nicol ; (8 ans) me / sa relâche, je. p. fr. 17.00, 20.00 ve. p. fr. 20.30, di. p. fr.\\n            17.00. George de ta jungle, de Sam Weisman, av. Bren dan Fraser, Leslie Mann ; (7 ans) me / je / ve / di relâche, sa. p. fr. 15.00. Vive la République, d\\'Eric Rochant, av. Hippolyte Girardot, Karine Viard ; (14 ans) me-ve relâche, sa p. fr. 18.00,\\n            di. p. fr. 20.00. 032 / 4874561 CINÉMATOGRAPHE RELÂCHES Bévilard. Salnt-lmier. DELÉMONT Bean, de Mel Smith, av. Rowan Atkinson, Peter Me Nicol ; (sans limite d\\'âge) me / di p. fr. 14.00, je. relâche, ve. p. fr. 19.00. sa. p. fr. 19.30. The Full\\n            Monty, de Peter Cattaneo, av. Robert Car lyle, Tom Wilkinson ; (12 ans) me / je relâche, ve / sa p. fr. 21.30, di. p. fr. 16.00, 20.30. 13, r. Granges, 032 / 4221129 LA GRANGE Hercule, dessin animé de Walt Disney Pictures, réalisé par J. Musker et R.\\n            CIements ; (7 ans) me / ve / di relâche, je. p. fr. 16.00, sa. p. fr. 20.30. lames Bond-Demain ne meurt jamais, de Roger Spottiswoode, av. Pierce Brosnan, lonathan Pryce Michèle Yeoh ; (12 ans) me /| e / sa relâche, ve / di p. fr. 20.30. 2, r.\\n            Pré-Guillaume, 032 / 422 2710 UDO LENOIRMONT Le pari, de Didier Bourdon et Bernard Campan, av Didier Bourdon, Bernard Campan, Isabelle Ferron ; me / je relâche, ve. p. fr. 20.30, sa. p. fr. 20.45, di. p. fr. 16.00, 20.30. R, Rauracie, 032 / 953 u 84\\n            CINÉLUCARNE LES BREULEUX le pacificateur, de Mimi Leder, av. Nicole Kidman George Clooney, Armin Mueller-Stahl ; me / je relâche, ve / sa p. fr. 20.30, di. p. fr. 20.00. 1, r. de la Chaux, 032 / 95412 26 LUX PORRENTRUY Le pacificateur, de Mimi Leder,\\n            av. Nicole Kidman George Clooney, Armin Mueller-Stahl ; (12 ans) me / je relâche, ve / sa p. fr. 20.30, di. p. fr. 15.00, 20.30. 29, r. du jura, 032 / 466 25 92 COLISÉE FRIBOURG BULLE Hercule, dessin animé de Walt Disney Pictures, réalisé par J.\\n            Musker et R. CIements ; (7 / 10 ans) me. p. fr. 13.45, je-dî p. fr. 15.15 (Prado 1). James Bond-Demain ne meurt jamais, de Roger Spottiswoode, av. Pierce Brosnan, lonathan Pryce Michèle Yeoh ; (12 / 12 ans) me. relâche, je-dî p. fr. 18.00, 20.45\\n            (Prado 1 ); me. p. fr. 14.15, je-di p. fr. 15.00 (Prado 2). Sept ans au Tibet (Seven Years in Tibet) de leanlacques Annaud, av. Brad Pitt, David Thewiis ; (7 / ans) me. relâche, je-di p. fr. 17.45, 21.00 (Prado 2) Maman, je m\\'occupe des méchants\\n            (Home Alone 3) de Raja Gosnell, av. Alex D. Linz, Olek Kru pa, Kevin Kilner ; (7 / 7 ans) me. p. fr. 14.00, je-di p. fr 15.30 (Prado 3). Le pari, de Didier Bourdon et Bernard Campan, av Didier Bourdon, Bernard Campan, Isabelle Ferron ; (7 / 10 ans)\\n            me. relâche, je-di p. fr. 18.15, 20.30 (Pra do 3). 8, lécheretta. Q 26 / 9 i 2 7340 PRADO 1-2-3 FRIBOURG Maman, je m\\'occupe des méchants (Home Alone 3) de Raja Gosnell, av. Alex D. Linz, Olek Kru pa, Kevin Kilner ; (7 / 7 ans) me. p. fr. 14.45, je-di\\n            p. fr 16.20. XXL, d\\'Ariel Zeitoun, av. Gérard Depardieu, Michel Boujenah, Eisa Zylberstein ; (7 / 12 ans) me. relâche je-di p. fr. 18.45. Une vie moins ordinaire (A Life Less Ordinary) de Danny Boyle, av. Ewan McGregor, Cameron Diaz, lan Holm ; (12 /\\n            14 ans) me. relâche, je-di v. o. 21.00 6, r. Fr .-Gullimann, 026 / 32218 42 ALPHA lames Bond-Demain ne meurt jamais (James Bond-Tomorrow Never Dies) de Roger Spottiswoode, av. Pierce Brosnan, Jonathan Pryce, Michè le Yeoh ; (12 / 12 ans) me. p. fr.\\n            14.45, je-sa p. fr. 14.45, 20.45, 23.30, v. o. 18.00, di. p. fr. 14.45, 20.45, v. o. 18.00 (Corso 1). Le bossu, de Philippe de Broca, av. Daniel Auteuil Marie Gillain, Vincent Perez, Fabrice Luchini ; (7 / 12 ans) me. p. fr. 14.30, je-di p. fr.\\n            14.30, 17.30, 20.30 (Corso 2). The Full Monty, de Peter Cattaneo, av. Robert Car lyle, Tom Wilkinson ; (12 / 14 ans) me / di relâche, jesa v. o. 23.40 (Corso 2). 15, bd Pérolles, 026 / 322 40 77 CORSO 1-2 Hercule, dessin animé de Walt Disney\\n            Pictures, réalisé par J. Musker et R. CIements ; (7 / 10 ans) me. p. fr. 13.45, je-di p. fr. 13.45. 15-50 (Rex 1). On connaît la chanson, d\\'Alain Resnais, av. Jean-Pierre Bacri, Agnès Jaoui. Sabine Azéma ; (7 / 12 ans) me. relâche, je-di p. fr. 18.00\\n            (Rex 1 ); me. re lâche, je-di p. fr. 20.50 (Rex 3). Sept ans au Tibet (Seven Years in Tibet) de Jean-Jacques Annaud, av. Brad Pitt, David Thewiis ; (7 / ans) me. relâche, je-sa p. fr. 20.30, 23.30, di. p. fr. 20.30 (Rexi ); me. p. fr. 14.15, je-di p.\\n            fr. 14.15, 17.30 (Rex 3). Splcewortd-The Movie, de Bob Spiers, av. les Spices Girls, Richard E. Grant, Alan Cumming ; (7 / 10 ans) me. p. fr. 14.00, je-di p. fr. 14.00, 16.10 (Rex 2 ); me / di relâche, je-sa p. fr. 23.40 (Rex 3). Marius et jeannette\\n            (Un conte de l\\'Estaque) de Robert Guediguian, av. Ariane Ascaride, Gérard Mey lan, Pascale Robert ; (7 / 12 ans) me. relâche, je-di p. fr. 18.15 (Rex 2). Le collectionneur (Kiss the Girls) de Gary Fleder, av. Morgan Freeman, Ashley Judd, Cary Etwes ;\\n            (16 / 18 ans) me. relâche, je-sa p. fr. 20.40, 23.20, di p. fr. 20.40 (Rex 2). 5, bd Pérolles, 026 / 3221150 REX 1-2-3 Film X, chaque vendredi nouveau programme ; (18 ans) permanent de 11.30 à 22.00, ve / sa jusqu\\'à 23.30. 8, r. de Locamo, 026 /\\n            32319 04 STUDIO RELÂCHE Châtel-Saint-Denis. NEUCHATEL COUVET Le pacificateur, de Mimi Leder, av. Nicole Kidman George Clooney, Armin Mueller-Stahl ; (12 ans) me relâche, je / di p. fr. 17.30, 20.30, ve. p. fr. 17.30, sa p. fr. 20.30. George de la\\n            jungle, de Sam Weisman, av. Bren dan Fraser, Leslie Mann ; (sans limite d\\'âge) me / je / sa relâche, ve. p. fr. 15.00, 20.30, di. p. fr. 15.00. R. Pierre-Dubied, 032 / 86316 66 COLISÉE LA CHAUX-DE-FONDS No Smoking, d\\'Alain Resnais, av. Sabine Azema,\\n            Pierre Arditi ; (12 ans) me / je p. fr. 17.30, ve-di relâche. Marius et jeannette, de Robert Guediguian, av. Ariane Ascaride, Gérard Meylan, Pascale Robert ; (12 ans) me / je p. fr. 20.30, ve-di p. fr, 17.30, 20.30. 17, r. de la Serre, 032 / 913 72\\n            22 ABC Le bossu, de Philippe de Broca, av. Daniel Auteuil Marie Gillain, Vincent Perez, Fabrice Luchini ; (sans limite d\\'âge) me-di p. fr. 15.30, 18.00. LA Confidential, de Curtis Hanson, av. Kim Basin ger, Kevin Spacey ; (16 ans) me-di p. fr. 20.30.\\n            14, r. jaquet-Droz, 032 / 91613 77 CORSO Hercule, dessin animé de Walt Disney Pictures, réalisé par LMusker et R. CIements ; (sans limite d\\'âge) me-di p. fr. 14.00, 16.00. Le collectionneur (Kiss the Girls) de Gary Fleder, av. Morgan Freeman, Ashley\\n            Judd, Cary Elwes ; (16 ans) me / je / di p. fr. 18.00, 20.30, ve / sa p. fr. 18.00, 20.30, 23.15. 83, r. de la Serre, 032 / 91313 79 EDEN lames Bond-Demain ne meurt jamais (James Bond-Tomorrow Never Dies) de Roger Spottiswoode, av. Pierce Brosnan,\\n            lonathan Pryce, Michè le Yeoh ; (12 ans) me / je / di p. fr. 15.00, 17.45, 20.15, ve / sa p. fr. 15.00, 17.45, 20.15, 23.00. 68, r. de la Serre, 032 / 91613 55 PLAZA Maman, je m\\'occupe des méchants (Home Alone 3) de Raja Gosnell, av. Alex D. Linz,\\n            Olek Kru pa, Kevin Kilner ; (sans limite d\\'âge) me-di p. fr. 14.00, 16.15. On connaît la chanson, d\\'Alain Resnais, av. Jean Pierre Bacri, Agnès Jaoui, Sabine Azéma ; (sans li mite d\\'âge) me-di p. fr. 18.15. Sept ans au Tibet, de Jean-Jacques Annaud,\\n            av. Brad Pitt, David Thewiis ; (sans limite d\\'âge) me-di p. fr. 20.30. 52, r. de la Serre, 032 / 91613 66 SCALA NEUCHATEL Hercule, dessin animé de Walt Disney Pictures, réalisé par J. Musker et R. CIements ; (sans limite d\\'âge) me-di p. fr. 14.00,\\n            16.15 (Apollo 1). Mlmic, de Guillermo Del Toro, av. Mira Sorvino, Je remy Northam, F. Murray Abraham ; (12 ans) me / je / di p. fr. 18.15, 20.30, ve / sa p. fr. 18.15, 20.30 23.00 (Apollo 1). Splcewortd-The Movie, de Bob Spiers, av. les Spices Girls,\\n            Richard E. Grant, Alan Cumming ; (sans limite d\\'âge) me-di p. fr. 14.15, 20.30 (Apollo 2). Une vie moins ordinaire (A Life Less Ordinary) de Danny Boyle, av. Ewan McGregor, Cameron Diaz, lan Holm ; (12 ans) me / je / di p. fr. 18.00, ve / sa p. fr\\n            18.00, 23.00 (Apollo 2). Maman, je m\\'occupe des méchants (Home Alone 3) de Raja Gosnell, av. Alex D. Linz, Olek Kru pa, Kevin Kilner ; (sans limite d\\'âge) me-di p. fr. 14.00, 16.30 (Apollo 3). The Full Monty, de Peter Cattaneo, av. Robert Car lyle,\\n            Tom Wilkinson ; (12 ans) me / je / di p. fr. 18.45, ve / sa p. fr. 18.45, 23.00 (Apollo 3). XXL, d\\'Ariel Zéftoun, av. Gérard Depardieu, Michel Boujenah, Eisa Zylberstein ; (sans limite d\\'âge) me di p. fr. 20.45 (Apollo 3). 21, tbg du lac, 032 / 71010\\n            33 APOLLO 1-3 lames Bond-Demain ne meurt jamais (James Bond-Tomorrow Never Dies) de Roger Spottiswoode, av. Pierce Brosnan, Jonathan Pryce, Michè le Yeoh ; (12 ans) me / je / di p. fr. 15.00, 17.45, 20.15, ve / sa p. fr. 15.00, 17.45, 20.15, 23.00.\\n            5, fbg de l\\'Hôpital, 032 / 71010 44 ARCADES On connaît la chanson, d\\'Alain Resnais, av. Jean-Pierre Bacri, Agnès Jaoui, Sabine Azéma ; (sans limite d\\'âge) me-di p. fr. 15.00, 18.00, 20.30. 27, tbg du Lac, 032 / 71010 55 BIP Sept ans au Tibet, de\\n            Jean-Jacques Annaud, av. Brad Pitt, David Thewiis ; (sans limite d\\'âge) me-di p. fr. 14.15, 20.15,-°-! 7-i 5-Alien la résurrection (Alien Résurrection) de Jean-Pierre Jeunet, av. Sigourney Weaver, Winona Ryder, Ron Perlman ; (16 ans) me / je / di\\n            relâche, ve / sa p. fr. 23.15. i, pi. Numa-Droz, 032 / 71010 66 PALACE Austin Powers, de lay Roach, av. Mike Myers, Eliza beth Hurley ; (12 ans) me / je v. o. 15.00, 20.30, ye / sa p. fr. 15.00, 20.30, 23.00, di. p. fr. 15.00, 20.30. Marius et\\n            jeannette, de Robert Guediguian, av. Ariane Ascaride, Gérard Meylan, Pascale Robert ; (12 ans) me-di p. fr. 18.00. 16, tbg de l\\'Hôpital, 032 / 71010 77 REX Le bossu, de Philippe de Broca, av. Daniel Auteuil Marie Gillain, Vincent Perez, Fabrice\\n            Luchini ; (sans limite d\\'âge) me-di p. fr. 15.00, 18.00, 20.45. 7, fbg du Laç 032 / 71010 88 STUDIO VALAIS CRANS-MONTANA Lolita, d\\'Adrian Lyne, av. Jeremy Irons, Mélanie Griffith, Frank Langella ; (16 ans) me. v. o. 14.00, je v. o. 18.30, 23.30, ve.\\n            v. o. 21.00, sa / di relâche. Sept ans au Tibet, de Jean-Jacques Annaud, av. Brad Pitt, David Thewiis ; (10 ans) me. v. o. 16.30, je v. o. 14.00, 21.00, ve / sa v. o. 18.30. Spiceworld-The Movie, de Bob Spiers, av. les Spices Girls, Richard E. Grant,\\n            Alan Cumming ; (10 ans) me. v. o. 19.00, je. v. o. 16.30, ve. v. o. 14.30, 23.30, sa. v. o. 14.30, 21.00. Deconstructing Harry (Harry dans tous ses états) de Woody Allen, av. Woody Allen, Elisabeth Shue, Stanley Tucci, Robin Williams, Demi Moore ;\\n            (12 ans) me / je relâche, ve. v. o. 16.30, sa. v. o. 16.30, 23.00. Rue Centrale, 027 / 481 11 12 CINÉCRAN MARTIGNY Hercule, dessin animé de Walt Disney Pictures, réalisé par J. Musker et R. CIements ; (7 ans) me-di p. fr. 14.00, 16.00. James\\n            Bond-Demain ne meurt jamais, de Roger Spottiswoode, av. Pierce Brosnan, Jonathan Pryce, Michèle Yeoh ; (12 ans) me. relâche, je-di p. fr. 18.45 21.00. 17, av. de la Gare, 027 / 72217 74 CAS 1 NO Maman, je m\\'occupe des méchants, de Raja Gos nell, av.\\n            Alex D. Linz, Olek Krupa, Kevin Kilner ; (7 ans) me. p. fr. 14.00, je-di p. fr. 14.00, 19.00. The Full Monty, de Peter Cattaneo, av. Robert Carlyle, Tom Wilkinson ; (12 ans) me. relâche, je-di p. fr. 21.00. 32, Gd-St-Bemard, 027 / 722 26 22 CORSO\\n            MONTHEY Maman, je m\\'occupe des méchants, de Raja Gos nell, av. Alex D. Linz, Olek Krupa, Kevin Kilner ; (7 ans) me. relâche, je. p. fr. 17.00, ve-di p. fr. 14.30. James Bond-Demain ne meurt jamais, de Roger Spottiswoode, av. Pierce Brosnan, Jonathan\\n            Pryce Michèle Yeoh ; (12 ans) me. relâche, je / ve p. fr. 20.30, sa / di p. fr. 17.00, 20.30. î. r. Coppet, 024 / 47122 60 MONTHÉOLO Hercule, dessin animé de Walt Disney Pictures, réalisé par J. Musker et R. CIements ; (7 ans) me-di p. fr. 14.30. The\\n            Game, de David Fincher, av. Michael Douglas Sean Penn ; (12 ans) me. relâche, je-sa p. fr. 20.30, di. p. fr. 17.00, 20.30. 7, pi. Centrale, 024 / 47122 61 PLAZA SIERRE James Bond-Demain ne meurt jamais, de Roger Spottiswoode, av. Pierce Brosnan,\\n            Jonathan Pryce Michèle Yeoh ; (12 ans) me. relâche, je / di p. fr. 15.00, 17.30, 20.30, ve / sa p. fr. 20.30. Av. Max-Huber, 027 / 455 0118 BOURG Hercule, dessin animé de Walt Disney Pictures, réalisé par J. Musker et R. CIements ; (7 ans) me-di p.\\n            fr. 14.30. Maman, je m\\'occupe des méchants, de Raja Gos nell, av. Alex D. Linz, Olek Krupa, Kevin Kilner ; (7 ans) me-di p. fr. 16.30. The Full Monty, de Peter Cattaneo, av. Robert Car lyle, Tom Wilkinson ; me. p. fr. 18.30, je-di p. fr. 19.00. Le\\n            pacificateur, de Mimi Leder, av. Nicole Kidman George Clooney, Armin Mueller-Stahl ; (12 ans) me relâche, je-di p. fr. 20.45. 19, av. Gén .-Guisan, 027 / 4551460 CASINO SION James Bond Demain ne meurt jamais, de Roger Spottiswoode, av. Pierce\\n            Brosnan, Jonathan Pryce Michèle Yeoh ; (12 ans) me. relâche, je. p. fr. 17.30 20.15, ve / sa p. fr. 16.15, 18.45, 21.30, di. p. fr. 15.30 18.15, 20.45. 10, r. Cèdres, 027 / 322 32 42 ARLEQUIN Maman, je m\\'occupe des méchants (Home Alone 3) de Raja\\n            Gosnell, av. Alex D. Linz, Olek Kru pa, Kevin Kilner ; (7 ans) me. relâche, je-sa p. fr. 15.30, di. p. fr. 15.15. On connaît la chanson, d\\'Alain Resnais, av. Jean Pierre Bacri, Agnès laoui, Sabine Azéma ; (10 ans me. relâche, je. p. fr. 18.00, 20.30,\\n            ve / sa p. fr. 18.00 20.45, di. p. fr. 17.45, 20.30. 10, r. Cèdres, 027 / 322 32 42 CAPITOLE Le bossu, de Philippe de Broca, av. Daniel Auteuil Marie Gillain, Vincent Perez, Fabrice Luchini ; (10 ans) me. relâche, je-sa p. fr. 16.00, di. p. fr.\\n            15.30. Marius et Jeannette, de Robert Guediguian, av. Ariane Ascaride, Gérard Meylan, Pascale Robert ; (10 ans) me. relâche, je / ve p. fr. 18.30, 20.45, sa. p. fr. 18.30, 21.00, di. p. fr. 18.00, 20.15. 13, r. Cèdres, 027 / 323 32 42 LES CÈDRES\\n            Hercule, dessin animé de Walt Disney Pictures, réalisé par J. Musker et R. CIements ; (7 ans) me. relâche, je. p. fr. 16.30, ve / sa p. fr. 15.45, di. p. fr. 15.00 Sept ans au Tibet, de Jean-Jacques Annaud, av. Brad Pitt, David Thewiis ; (10 ans) me.\\n            relâche, je p. fr. 20.00, ve. p. fr. 18.15, 21.00, sa. p. fr. 18.15, 21.15, di. p. fr. 17-15, 20.00. S. av. desMayennets. 027 / 3221545 LUX VERBIER Hercule, dessin animé de Walt Disney Pictures, réalisé par J. Musker et R. CIements ; (7 ans) me / je\\n            p. fr. 16.30, ve-di relâche. James Bond-Demain ne meurt jamais, de Roger Spottiswoode, av. Pierce Brosnan, Jonathan Pryce Michèle Yeoh ; (14 ans) me / sa / di relâche, je / ve v. o 14.30 (si mauvais temps), 18.30, 21.00. Bean, de Mel Smith, av. Rowan\\n            Atkinson, Peter Mc Nicol ; (7 ans) me / je relâche, ve-di p. fr. 16.30. Sept ans au Tibet, de Jean-Jacques Annaud, av. Brad Pitt, David Thewiis ; (12 ans) me-ve relâche, sa / di p. fr. 14.30 (si mauvais temps), 18.30, 21.00 027 / 7712435 CINEMA\\n            VERBIER GENEVE URGENCES Pharmacies de garde : du 27 décembre à 8.00 au 3 janvier à 8.00. jusqu\\'à 21.00 : Pharmacie de l\\'Université 11, rue du Conseil-Général, © 320 72 97. Pharmacie du Petit-Saconnex Centre commercial, 2-4, chemin de la Tourelle, ©\\n            929 60 00. Jusqu\\'à 23.00 : Pharmacie internationale 2, place des Alpes, © 732 4115. Pharmacie Rieu-Tour 4, chemin Bizotchemin Rieu, ® 347 48 77. Dès 23.00 : Urgence seulement : © 111 ou 144. Pharmacies de garde : du 3 janvier à 8.00 au 10 janvier à\\n            8.00. Jusqu\\'à 21.00 : Pharmacie Brun SA 18, place Longemalle, ® 310 80 33. Pharmacie Arca (les Schtroumpfs) 41, rue Louis-Favre, © 734 33 33. Jusqu\\'à 23.00 : Pharmacie de Frontenex 53, route de Frontenex, © 735 63 09. Pharmacie Schneeberger 24, rue\\n            Saint-Victor-angle place du Temple, Carouge, © 3420232. Dès 23.00 : Urgence seulement : © 111 ou 144. Livraisons urgentes de médicaments : appelez une des pharmacies de garde. Chaque nuit de 19.00 à 8.00 et tout le week-end. Taxe de nuit Fr. 10. —,\\n            dès la fermeture effective de la pharmacie. Service du feu : © 118. Police secours : © 117. La Main tendue (24) 1 / 24) : © 143 ou © 3282828. Urgences sanitaires, ambulances : © 144. Hôpital cantonal : © 372 3311 ou 382 3311-urgences : jour et nuit,\\n            © 144.-urgences Maternité : jour et nuit, © 372 33 « o u 382 3311.-urgences Pédiatrie : jour et nuit, © 382 45 52 ou 382 45 53. Clinique de Carouge : 2411 / 24 © 309 45 45. Coopérative de soins infirmiers : © 3013111. SOS Infirmières (24 (1 / 24) : ©\\n            3013131. Médecins à domicile (24 (1 / 24) : Association des Médecins du Canton de Genève (20, rue Micheli-du-Crest), © 322 20 20.\\'SOS Médecins à domicile (24 (1 / 24) : © 748 49 50. Pédiatres :-Sur rendez-vous : © 320 2511.-Sans rendez-vous : © 382\\n            45 52 ou 382 45 53 (urgences).-Hôpital La Tour : 8. 00-18. 00, © 780 0113. Service médical des Pâquis-AMG : lu-sa 7. 00-21. 00 : urgences, © 322 20 27. Association des chiropraticiens : lu-ve 8. 00-18. 00, sa / di et jours fériés 8. 00-13. 00, ©\\n            78182 00. Hélicoptère de la Sécurité civile : © 798 00 00 ou 144. Association des médecins-dentistes de Genève : Services d\\'urgence, 8. 00-12. 00 et 14. 00-18. 00, du 25 décembre au 1 er janvier inclus, André Pavlousek 26, rue de l\\'Athé-née, ® 347 34\\n            34 ; du 2 au 4 janvier inclus (9. 00-12. 00 et 16. 00-18. 00), André Carisson 20, avenue des Libellules, © 796 99 09. Cliniques dentaires-urgences et tous soins : lu-ve 7. 30-20. 00, sa. 8. 00-18. 00, di. et jours fériés 8. 00-18. 00, en alternance\\n            :-Champel (rive gauche) : 5, chemin Malombré, © 346 64 44.-Servette (rive droite) : 60, avenue Wendt, © 733 98 00. Services industriels de Genève (2, chemin Château-Bloch, Vernier) : permanence télé-phonique 24 (1 / 24, © 420 8811. Secours routier :\\n            © 140. Vétérinaires : © 111. ADRESSES UTILES Association des permanences médicales de Genève (jour et nuit) :-Vermont Grand-Pré : 9 a, rue de Vermont, © 734 5150. Permanence juridique : 8. 00-19. 00, © 7358183. Permanence Ordre des avocats : 10. 00-\\n            19.00, ® 310 2411. THÉÂTRE Théâtre du Griitli (Maison des arts du Griitli, 16, r. Général-Dufour, © rés. 328 98 78)-Me. 17.00 (2 e étage) : \"Ménage et bricolage\", par les Clonadopekos et l\\'Atelier des clowns. Mise en scène Pierre Dubey (jusqu\\'au 18\\n            janv.). Théâtre du Café des Amis (23, r. Ancienne, © loc. 342 28 74)-Me. 20.00 : \"L\\'Affaire de la rue de Lourcine\", d\\'Eugène Labiche, av. Isabelle Bosson, jorge Franzoni, Philippe Mathey, etc. Mise en scène Séverine Bujard (jusqu\\'au 18 janv.).\\n            Théâtre de Carouge (Petite salle le \" 57 \", 57 r. Ancienne, Carouge, ® loc. 343 43 43)-Me. 20.15 : \"Les fourberies de Scapin\", de Molière, av. Michel Cassagne, Edmond Vullioud, Jean Turlier, etc. Mise en scène Georges Wod (jusqu\\'au 25 janv.)-Me.\\n            20.15 : \"La Demande en mariage\", d\\'Anton Tchékhov, av. Gérard Carrât, etc. Mise en scène Laurent Deshusses et \"Tragédien malgré lui\", d\\'Anton Tchékhov, av. Laurent Deshusses, etc. Mise en Gérard Carrât. Le Caveau (9, av. Sainte-Clotilde, © 328 11\\n            35)-Me. 20.30 : \"Léonie est en avance\", de Georges Feydeau, par le Théâtre Indigo. Mise en scène Olivier Perriguey (jusqu\\'au 31 déc). OPÉRA Bâtiment des Forces Motrices (Salle Théodore Turrettini, pi. des Volontaires, © loc. 418 3130)-Me. 20.00\\n            (soirée de gala), ve. 16.30 : \"La Fille du régiment\", de Gaetano Donizetti, par les Chœurs du Grand Théâtre, dir. Guillaume Tourniaire, et l\\'OSR, dir. musicale David Heusel, solistes : Judith Howarth, Annick Massis, Marc Laho, etc. Mise en scène\\n            Emilio Sagi (jusqu\\'au 19 janv.). CONTES Librairie La Particule (41, rte de Vandœuvres, Cologny)-Tlj 14. 30-17. 00 ; Contes pour enfants-Ma / ve 20.30 : Contes pour adultes, par Henriette Bouvier. JAZZ / ROCK / BLUES Latitude-Brasil (1 bis, pi. du\\n            Cirque, © 32816 79)-Me / ve / sa 21.30 : Musique bré-silienne, av. Rosana-Zelia et Angela. Au Chat Noir (13, r. Vautier, Carouge, © 343 49 98)-Me / ve / sa dès 22.00 : Rock, av. Daddy-O. CLASSIQUE Cathédrale Saint-Pierre (Cour Saint-Pierre, © rens.\\n            310 23 21)-Me. 12.00 : Récital François Delor, carillon. SPECTACLES Plaine de Plainpalais (Chapiteau chauffé, Plainpalais, © loc. 32122 41)-Me-sa 15.00 et 20.15, di-1500 et 18.00 : Cirque de Noël (soirée en faveur de la Fondation Cap Loisirs /\\n            jusqu\\'au 11 janv.). Petit Casino-Théâtre (42, r. de Carouge, © loc. 796 96 41)-Me. 20.30 : \"La Revue\", textes et chansons de Pierre-André Sand. Mise en scène Philippe Lùscher et P .-A. Sand, chorégraphies Sandrine Jeannet, Caty Eybert et Mena Avolio\\n            (jusqu\\'au 31 déc).</full_text>'"
      ]
     },
     "execution_count": 38,
     "metadata": {},
     "output_type": "execute_result"
    }
   ],
   "source": [
    "str(entities[0].find('full_text'))"
   ]
  },
  {
   "cell_type": "code",
   "execution_count": 41,
   "metadata": {},
   "outputs": [
    {
     "data": {
      "text/plain": [
       "str"
      ]
     },
     "execution_count": 41,
     "metadata": {},
     "output_type": "execute_result"
    }
   ],
   "source": [
    "type(entities[0].find('full_text').text)"
   ]
  },
  {
   "cell_type": "code",
   "execution_count": 33,
   "metadata": {},
   "outputs": [],
   "source": [
    "def XML_to_passim_JSON(xml_files, out_dir):\n",
    "    documents = []\n",
    "    \n",
    "    for path in xml_files:\n",
    "        \n",
    "        with codecs.open(path, 'r', 'utf-8') as inp_file:\n",
    "            xml = inp_file.read()\n",
    "        \n",
    "        soup = BeautifulSoup(xml, 'lxml')\n",
    "        entities = soup.findAll('entity')\n",
    "        \n",
    "        if len(entities) == 0:\n",
    "            continue\n",
    "        \n",
    "        fulltext = \"\\n\".join([str(e.find('full_text').encode(formatter=\"xml\").decode('utf-8')) for e in entities])\n",
    "        documents.append(\n",
    "            {\n",
    "                \"fulltext\": fulltext\n",
    "            }\n",
    "        )\n",
    "    return documents"
   ]
  },
  {
   "cell_type": "code",
   "execution_count": 36,
   "metadata": {},
   "outputs": [],
   "source": [
    "docs = XML_to_passim_JSON(sample_path, \"\")"
   ]
  },
  {
   "cell_type": "code",
   "execution_count": 37,
   "metadata": {},
   "outputs": [],
   "source": [
    "with jsonlines.open('/Users/rromanello/Downloads/test.jsonl', mode='w') as writer:\n",
    "    writer.write_all(docs)"
   ]
  },
  {
   "cell_type": "code",
   "execution_count": null,
   "metadata": {},
   "outputs": [],
   "source": []
  }
 ],
 "metadata": {
  "kernelspec": {
   "display_name": "Python 3",
   "language": "python",
   "name": "python3"
  },
  "language_info": {
   "codemirror_mode": {
    "name": "ipython",
    "version": 3
   },
   "file_extension": ".py",
   "mimetype": "text/x-python",
   "name": "python",
   "nbconvert_exporter": "python",
   "pygments_lexer": "ipython3",
   "version": "3.6.4"
  },
  "toc": {
   "colors": {
    "hover_highlight": "#DAA520",
    "navigate_num": "#000000",
    "navigate_text": "#333333",
    "running_highlight": "#FF0000",
    "selected_highlight": "#FFD700",
    "sidebar_border": "#EEEEEE",
    "wrapper_background": "#FFFFFF"
   },
   "moveMenuLeft": true,
   "nav_menu": {
    "height": "12px",
    "width": "252px"
   },
   "navigate_menu": true,
   "number_sections": false,
   "sideBar": true,
   "threshold": 4,
   "toc_cell": false,
   "toc_position": {
    "height": "681px",
    "left": "0px",
    "right": "1461px",
    "top": "111px",
    "width": "212px"
   },
   "toc_section_display": "block",
   "toc_window_display": true,
   "widenNotebook": false
  }
 },
 "nbformat": 4,
 "nbformat_minor": 2
}
